{
 "cells": [
  {
   "cell_type": "markdown",
   "metadata": {},
   "source": [
    "## Challenge 2: Sets\n",
    "\n",
    "There are a lot to learn about Python Sets and the information presented in the lesson is limited due to its length. To learn Python Sets in depth you are strongly encouraged to review the W3Schools tutorial on [Python Sets Examples and Methods](https://www.w3schools.com/python/python_sets.asp) before you work on this lab. Some difficult questions in this lab have their solutions in the W3Schools tutorial.\n",
    "\n",
    "#### First, import the Python `random` libary"
   ]
  },
  {
   "cell_type": "code",
   "execution_count": 1,
   "metadata": {},
   "outputs": [],
   "source": [
    "import random"
   ]
  },
  {
   "cell_type": "markdown",
   "metadata": {},
   "source": [
    "#### In the cell below, create a list named `sample_list_1` with 80 random values. \n",
    "\n",
    "Requirements:\n",
    "\n",
    "* Each value is an integer falling between 0 and 100.\n",
    "* Each value in the list is unique.\n",
    "\n",
    "Print `sample_list_1` to review its values\n",
    "\n",
    "*Hint: use `random.sample` ([reference](https://docs.python.org/3/library/random.html#random.sample)).*"
   ]
  },
  {
   "cell_type": "code",
   "execution_count": 2,
   "metadata": {},
   "outputs": [
    {
     "name": "stdout",
     "output_type": "stream",
     "text": [
      "longitud:  80\n",
      "[73, 55, 69, 26, 35, 2, 88, 98, 24, 12, 0, 16, 61, 84, 13, 10, 72, 45, 76, 66, 78, 91, 92, 96, 15, 83, 38, 59, 23, 65, 77, 63, 25, 68, 43, 18, 44, 21, 81, 95, 3, 17, 22, 4, 89, 82, 79, 100, 46, 20, 70, 53, 8, 7, 29, 85, 36, 19, 60, 90, 57, 56, 33, 50, 42, 34, 31, 49, 94, 39, 11, 58, 67, 51, 74, 62, 71, 5, 6, 41]\n"
     ]
    }
   ],
   "source": [
    "# Your code here\n",
    "random.seed()\n",
    "sample_list_1 = []\n",
    "sample = 0 \n",
    "repeated = 0\n",
    "sample_list_1.append(random.randint(0,100))\n",
    "while len(sample_list_1) < 80:\n",
    "    sample_list_1.append(random.randint(0,100))\n",
    "    repeated = sample_list_1[-1]\n",
    "    for sample in sample_list_1[0:-2]:\n",
    "        if repeated == sample:\n",
    "            sample_list_1.pop() #eliminate last element (repeated element)\n",
    "print(\"longitud: \",len(sample_list_1))\n",
    "print(sample_list_1)            \n",
    "#print(random.sample(sample_list_1,20)) this function doesn't work since repeat samples\n",
    "\n"
   ]
  },
  {
   "cell_type": "markdown",
   "metadata": {},
   "source": [
    "#### Convert `sample_list_1` to a set called `set1`. Print the length of the set. Is its length still 80?"
   ]
  },
  {
   "cell_type": "code",
   "execution_count": 3,
   "metadata": {},
   "outputs": [
    {
     "data": {
      "text/plain": [
       "80"
      ]
     },
     "execution_count": 3,
     "metadata": {},
     "output_type": "execute_result"
    }
   ],
   "source": [
    "# Your code here\n",
    "set1 = set(sample_list_1)\n",
    "len(set1)\n"
   ]
  },
  {
   "cell_type": "markdown",
   "metadata": {},
   "source": [
    "#### Create another list named `sample_list_2` with 80 random values.\n",
    "\n",
    "Requirements:\n",
    "\n",
    "* Each value is an integer falling between 0 and 100.\n",
    "* The values in the list don't have to be unique.\n",
    "\n",
    "*Hint: Use a FOR loop.*"
   ]
  },
  {
   "cell_type": "code",
   "execution_count": 4,
   "metadata": {},
   "outputs": [
    {
     "name": "stdout",
     "output_type": "stream",
     "text": [
      "lenght: 80\n",
      "[38, 60, 13, 91, 57, 83, 27, 97, 59, 6, 34, 96, 94, 14, 89, 0, 74, 91, 52, 64, 21, 38, 18, 52, 96, 0, 39, 4, 28, 40, 77, 82, 30, 57, 30, 43, 47, 29, 17, 62, 76, 55, 36, 67, 32, 51, 7, 51, 47, 89, 20, 74, 100, 15, 78, 65, 86, 6, 65, 55, 14, 2, 29, 93, 82, 25, 18, 38, 63, 87, 35, 60, 97, 59, 7, 60, 72, 50, 7, 88]\n"
     ]
    }
   ],
   "source": [
    "# Your code here\n",
    "sample_list_2 = []\n",
    "\n",
    "for i in range(80):\n",
    "    sample_list_2.append(random.randint(0,100))\n",
    "print(\"lenght:\",len(sample_list_2))\n",
    "print(sample_list_2)"
   ]
  },
  {
   "cell_type": "markdown",
   "metadata": {},
   "source": [
    "#### Convert `sample_list_2` to a set called `set2`. Print the length of the set. Is its length still 80?"
   ]
  },
  {
   "cell_type": "code",
   "execution_count": 5,
   "metadata": {},
   "outputs": [
    {
     "name": "stdout",
     "output_type": "stream",
     "text": [
      "[38, 60, 13, 91, 57, 83, 27, 97, 59, 6, 34, 96, 94, 14, 89, 0, 74, 91, 52, 64, 21, 38, 18, 52, 96, 0, 39, 4, 28, 40, 77, 82, 30, 57, 30, 43, 47, 29, 17, 62, 76, 55, 36, 67, 32, 51, 7, 51, 47, 89, 20, 74, 100, 15, 78, 65, 86, 6, 65, 55, 14, 2, 29, 93, 82, 25, 18, 38, 63, 87, 35, 60, 97, 59, 7, 60, 72, 50, 7, 88]\n",
      "{0, 2, 4, 6, 7, 13, 14, 15, 17, 18, 20, 21, 25, 27, 28, 29, 30, 32, 34, 35, 36, 38, 39, 40, 43, 47, 50, 51, 52, 55, 57, 59, 60, 62, 63, 64, 65, 67, 72, 74, 76, 77, 78, 82, 83, 86, 87, 88, 89, 91, 93, 94, 96, 97, 100}\n"
     ]
    }
   ],
   "source": [
    "# Your code here\n",
    "print(sample_list_2)\n",
    "set2 = set(sample_list_2)\n",
    "len(set2)\n",
    "print(set2)\n",
    "#set function has sortened and eliminated repeated elements in the list"
   ]
  },
  {
   "cell_type": "markdown",
   "metadata": {},
   "source": [
    "#### Identify the elements present in `set1` but not in `set2`. Assign the elements to a new set named `set3`."
   ]
  },
  {
   "cell_type": "code",
   "execution_count": 6,
   "metadata": {},
   "outputs": [
    {
     "name": "stdout",
     "output_type": "stream",
     "text": [
      "{3, 5, 8, 10, 11, 12, 14, 16, 19, 22, 23, 24, 26, 27, 28, 30, 31, 32, 33, 40, 41, 42, 44, 45, 46, 47, 49, 52, 53, 56, 58, 61, 64, 66, 68, 69, 70, 71, 73, 79, 81, 84, 85, 86, 87, 90, 92, 93, 95, 97, 98}\n"
     ]
    }
   ],
   "source": [
    "# Your code here\n",
    "set3 = set1.symmetric_difference(set2)\n",
    "print(set3)"
   ]
  },
  {
   "cell_type": "markdown",
   "metadata": {},
   "source": [
    "#### Identify the elements present in `set2` but not in `set1`. Assign the elements to a new set named `set4`."
   ]
  },
  {
   "cell_type": "code",
   "execution_count": 7,
   "metadata": {},
   "outputs": [
    {
     "name": "stdout",
     "output_type": "stream",
     "text": [
      "{3, 5, 8, 10, 11, 12, 14, 16, 19, 22, 23, 24, 26, 27, 28, 30, 31, 32, 33, 40, 41, 42, 44, 45, 46, 47, 49, 52, 53, 56, 58, 61, 64, 66, 68, 69, 70, 71, 73, 79, 81, 84, 85, 86, 87, 90, 92, 93, 95, 97, 98}\n"
     ]
    }
   ],
   "source": [
    "# Your code here\n",
    "set4 = set2.symmetric_difference(set1)\n",
    "print(set4)"
   ]
  },
  {
   "cell_type": "markdown",
   "metadata": {},
   "source": [
    "#### Now Identify the elements shared between `set1` and `set2`. Assign the elements to a new set named `set5`."
   ]
  },
  {
   "cell_type": "code",
   "execution_count": 8,
   "metadata": {},
   "outputs": [
    {
     "name": "stdout",
     "output_type": "stream",
     "text": [
      "{0, 2, 4, 6, 7, 13, 15, 17, 18, 20, 21, 25, 29, 34, 35, 36, 38, 39, 43, 50, 51, 55, 57, 59, 60, 62, 63, 65, 67, 72, 74, 76, 77, 78, 82, 83, 88, 89, 91, 94, 96, 100}\n"
     ]
    }
   ],
   "source": [
    "# Your code here\n",
    "set5 = set1.intersection(set2)\n",
    "print(set5)"
   ]
  },
  {
   "cell_type": "markdown",
   "metadata": {},
   "source": [
    "#### What is the relationship among the following values:\n",
    "\n",
    "* len(set1)\n",
    "* len(set2)\n",
    "* len(set3)\n",
    "* len(set4)\n",
    "* len(set5)\n",
    "\n",
    "Use a math formular to represent that relationship. Test your formular with Python code."
   ]
  },
  {
   "cell_type": "code",
   "execution_count": 9,
   "metadata": {},
   "outputs": [
    {
     "name": "stdout",
     "output_type": "stream",
     "text": [
      "That makes sense\n",
      "lenght of set3: 51 lenght of set4: 51 lenght of set5: 42\n"
     ]
    }
   ],
   "source": [
    "# Your code here\n",
    "if len(set1) > len(set2):\n",
    "    print(\"That makes sense\")\n",
    "else:\n",
    "    print(\"There's an error\")\n",
    "print(\"lenght of set3:\",len(set3),\"lenght of set4:\",len(set4),\"lenght of set5:\",len(set5))"
   ]
  },
  {
   "cell_type": "markdown",
   "metadata": {},
   "source": [
    "#### Create an empty set called `set6`."
   ]
  },
  {
   "cell_type": "code",
   "execution_count": 13,
   "metadata": {},
   "outputs": [],
   "source": [
    "# Your code here\n",
    "set6 = set() #I DON'T KNOW WHY IT DOESN'T WORK\n",
    " "
   ]
  },
  {
   "cell_type": "markdown",
   "metadata": {},
   "source": [
    "#### Add `set3` and `set5` to `set6` using the Python Set `update` method."
   ]
  },
  {
   "cell_type": "code",
   "execution_count": 14,
   "metadata": {},
   "outputs": [
    {
     "name": "stdout",
     "output_type": "stream",
     "text": [
      "{'33'}\n"
     ]
    }
   ],
   "source": [
    "# Your code here\n",
    "set6.add('33')\n",
    "print(set6)"
   ]
  },
  {
   "cell_type": "markdown",
   "metadata": {},
   "source": [
    "#### Check if `set1` and `set6` are equal."
   ]
  },
  {
   "cell_type": "code",
   "execution_count": 15,
   "metadata": {},
   "outputs": [
    {
     "data": {
      "text/plain": [
       "False"
      ]
     },
     "execution_count": 15,
     "metadata": {},
     "output_type": "execute_result"
    }
   ],
   "source": [
    "# Your code here\n",
    "set1 == set6\n"
   ]
  },
  {
   "cell_type": "markdown",
   "metadata": {},
   "source": [
    "#### Check if `set1` contains `set2` using the Python Set `issubset` method. Then check if `set1` contains `set3`.*"
   ]
  },
  {
   "cell_type": "code",
   "execution_count": 16,
   "metadata": {},
   "outputs": [
    {
     "data": {
      "text/plain": [
       "False"
      ]
     },
     "execution_count": 16,
     "metadata": {},
     "output_type": "execute_result"
    }
   ],
   "source": [
    "# Your code here\n",
    "set2.issubset(set1)"
   ]
  },
  {
   "cell_type": "markdown",
   "metadata": {},
   "source": [
    "#### Using the Python Set `union` method, aggregate `set3`, `set4`, and `set5`. Then aggregate `set1` and `set2`. \n",
    "\n",
    "#### Check if the aggregated values are equal."
   ]
  },
  {
   "cell_type": "code",
   "execution_count": 17,
   "metadata": {},
   "outputs": [
    {
     "data": {
      "text/plain": [
       "False"
      ]
     },
     "execution_count": 17,
     "metadata": {},
     "output_type": "execute_result"
    }
   ],
   "source": [
    "# Your code here\n",
    "newSet = set(set3)\n",
    "newSet.union(set4)\n",
    "newSet.union(set5)\n",
    "newSet.union(set1)\n",
    "newSet.union(set2)\n",
    "newSet.issubset(set1) and newSet.issubset(set2)"
   ]
  },
  {
   "cell_type": "markdown",
   "metadata": {},
   "source": [
    "#### Using the `pop` method, remove the first element from `set1`."
   ]
  },
  {
   "cell_type": "code",
   "execution_count": 21,
   "metadata": {},
   "outputs": [
    {
     "data": {
      "text/plain": [
       "0"
      ]
     },
     "execution_count": 21,
     "metadata": {},
     "output_type": "execute_result"
    }
   ],
   "source": [
    "# Your code here\n",
    "set1.pop()\n"
   ]
  },
  {
   "cell_type": "markdown",
   "metadata": {},
   "source": [
    "#### Remove every element in the following list from `set1` if they are present in the set. Print the remaining elements.\n",
    "\n",
    "```\n",
    "list_to_remove = [1, 9, 11, 19, 21, 29, 31, 39, 41, 49, 51, 59, 61, 69, 71, 79, 81, 89, 91, 99]\n",
    "```"
   ]
  },
  {
   "cell_type": "code",
   "execution_count": 29,
   "metadata": {},
   "outputs": [
    {
     "name": "stdout",
     "output_type": "stream",
     "text": [
      "{3, 4, 5, 6, 7, 8, 10, 11, 12, 13, 15, 16, 17, 18, 19, 20, 21, 22, 23, 24, 25, 26, 29, 31, 33, 34, 35, 36, 38, 39, 41, 42, 43, 44, 45, 46, 49, 50, 51, 53, 55, 56, 57, 58, 59, 60, 61, 62, 63, 65, 66, 67, 68, 69, 70, 71, 72, 73, 74, 76, 77, 78, 79, 81, 82, 83, 84, 85, 88, 89, 90, 91, 92, 94, 95, 96, 98, 100}\n",
      "[1, 9, 99]\n"
     ]
    }
   ],
   "source": [
    "# Your code here\n",
    "list_to_remove = [1, 9, 11, 19, 21, 29, 31, 39, 41, 49, 51, 59, 61, 69, 71, 79, 81, 89, 91, 99]\n",
    "\n",
    "setTemporal = set()\n",
    "print(set1)\n",
    "\n",
    "for element in set1:\n",
    "    if element in list_to_remove:\n",
    "        list_to_remove.remove(element)\n",
    "print(list_to_remove)\n",
    "        \n",
    "\n",
    "\n"
   ]
  },
  {
   "cell_type": "code",
   "execution_count": null,
   "metadata": {},
   "outputs": [],
   "source": []
  }
 ],
 "metadata": {
  "kernelspec": {
   "display_name": "Python 3",
   "language": "python",
   "name": "python3"
  },
  "language_info": {
   "codemirror_mode": {
    "name": "ipython",
    "version": 3
   },
   "file_extension": ".py",
   "mimetype": "text/x-python",
   "name": "python",
   "nbconvert_exporter": "python",
   "pygments_lexer": "ipython3",
   "version": "3.7.2"
  }
 },
 "nbformat": 4,
 "nbformat_minor": 2
}
