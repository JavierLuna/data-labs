{
 "cells": [
  {
   "cell_type": "markdown",
   "metadata": {},
   "source": [
    "## Challenge 2: Sets\n",
    "\n",
    "There are a lot to learn about Python Sets and the information presented in the lesson is limited due to its length. To learn Python Sets in depth you are strongly encouraged to review the W3Schools tutorial on [Python Sets Examples and Methods](https://www.w3schools.com/python/python_sets.asp) before you work on this lab. Some difficult questions in this lab have their solutions in the W3Schools tutorial.\n",
    "\n",
    "#### First, import the Python `random` libary"
   ]
  },
  {
   "cell_type": "code",
   "execution_count": 1,
   "metadata": {},
   "outputs": [],
   "source": [
    "import random"
   ]
  },
  {
   "cell_type": "markdown",
   "metadata": {},
   "source": [
    "#### In the cell below, create a list named `sample_list_1` with 80 random values. \n",
    "\n",
    "Requirements:\n",
    "\n",
    "* Each value is an integer falling between 0 and 100.\n",
    "* Each value in the list is unique.\n",
    "\n",
    "Print `sample_list_1` to review its values\n",
    "\n",
    "*Hint: use `random.sample` ([reference](https://docs.python.org/3/library/random.html#random.sample)).*"
   ]
  },
  {
   "cell_type": "code",
   "execution_count": 2,
   "metadata": {},
   "outputs": [
    {
     "data": {
      "text/plain": [
       "[76,\n",
       " 43,\n",
       " 64,\n",
       " 32,\n",
       " 17,\n",
       " 34,\n",
       " 7,\n",
       " 10,\n",
       " 85,\n",
       " 67,\n",
       " 5,\n",
       " 98,\n",
       " 41,\n",
       " 73,\n",
       " 89,\n",
       " 52,\n",
       " 26,\n",
       " 42,\n",
       " 13,\n",
       " 94,\n",
       " 56,\n",
       " 31,\n",
       " 22,\n",
       " 78,\n",
       " 83,\n",
       " 61,\n",
       " 75,\n",
       " 53,\n",
       " 48,\n",
       " 70,\n",
       " 16,\n",
       " 59,\n",
       " 25,\n",
       " 19,\n",
       " 93,\n",
       " 97,\n",
       " 95,\n",
       " 62,\n",
       " 91,\n",
       " 20,\n",
       " 79,\n",
       " 14,\n",
       " 9,\n",
       " 66,\n",
       " 35,\n",
       " 71,\n",
       " 23,\n",
       " 84,\n",
       " 29,\n",
       " 39,\n",
       " 12,\n",
       " 40,\n",
       " 11,\n",
       " 30,\n",
       " 27,\n",
       " 2,\n",
       " 96,\n",
       " 54,\n",
       " 68,\n",
       " 69,\n",
       " 47,\n",
       " 51,\n",
       " 60,\n",
       " 38,\n",
       " 4,\n",
       " 50,\n",
       " 6,\n",
       " 46,\n",
       " 77,\n",
       " 65,\n",
       " 1,\n",
       " 15,\n",
       " 82,\n",
       " 72,\n",
       " 88,\n",
       " 74,\n",
       " 81,\n",
       " 0,\n",
       " 99,\n",
       " 8]"
      ]
     },
     "execution_count": 2,
     "metadata": {},
     "output_type": "execute_result"
    }
   ],
   "source": [
    "# Your code here\n",
    "sample_list_1 = list(random.sample(range(100), 80))\n",
    "sample_list_1"
   ]
  },
  {
   "cell_type": "markdown",
   "metadata": {},
   "source": [
    "#### Convert `sample_list_1` to a set called `set1`. Print the length of the set. Is its length still 80?"
   ]
  },
  {
   "cell_type": "code",
   "execution_count": 3,
   "metadata": {},
   "outputs": [
    {
     "data": {
      "text/plain": [
       "80"
      ]
     },
     "execution_count": 3,
     "metadata": {},
     "output_type": "execute_result"
    }
   ],
   "source": [
    "# Your code here\n",
    "set1 = set(sample_list_1)\n",
    "len(set1)"
   ]
  },
  {
   "cell_type": "markdown",
   "metadata": {},
   "source": [
    "#### Create another list named `sample_list_2` with 80 random values.\n",
    "\n",
    "Requirements:\n",
    "\n",
    "* Each value is an integer falling between 0 and 100.\n",
    "* The values in the list don't have to be unique.\n",
    "\n",
    "*Hint: Use a FOR loop.*"
   ]
  },
  {
   "cell_type": "code",
   "execution_count": 4,
   "metadata": {},
   "outputs": [
    {
     "data": {
      "text/plain": [
       "[75,\n",
       " 92,\n",
       " 32,\n",
       " 74,\n",
       " 31,\n",
       " 92,\n",
       " 34,\n",
       " 45,\n",
       " 5,\n",
       " 74,\n",
       " 75,\n",
       " 24,\n",
       " 16,\n",
       " 17,\n",
       " 95,\n",
       " 6,\n",
       " 21,\n",
       " 61,\n",
       " 53,\n",
       " 21,\n",
       " 90,\n",
       " 29,\n",
       " 65,\n",
       " 1,\n",
       " 100,\n",
       " 14,\n",
       " 16,\n",
       " 13,\n",
       " 51,\n",
       " 2,\n",
       " 74,\n",
       " 27,\n",
       " 38,\n",
       " 78,\n",
       " 76,\n",
       " 21,\n",
       " 43,\n",
       " 68,\n",
       " 32,\n",
       " 12,\n",
       " 75,\n",
       " 0,\n",
       " 49,\n",
       " 43,\n",
       " 53,\n",
       " 44,\n",
       " 94,\n",
       " 63,\n",
       " 58,\n",
       " 41,\n",
       " 82,\n",
       " 51,\n",
       " 28,\n",
       " 30,\n",
       " 7,\n",
       " 80,\n",
       " 93,\n",
       " 21,\n",
       " 33,\n",
       " 31,\n",
       " 30,\n",
       " 37,\n",
       " 50,\n",
       " 47,\n",
       " 88,\n",
       " 98,\n",
       " 25,\n",
       " 56,\n",
       " 2,\n",
       " 74,\n",
       " 64,\n",
       " 21,\n",
       " 25,\n",
       " 22,\n",
       " 100,\n",
       " 53,\n",
       " 76,\n",
       " 87,\n",
       " 2,\n",
       " 45]"
      ]
     },
     "execution_count": 4,
     "metadata": {},
     "output_type": "execute_result"
    }
   ],
   "source": [
    "# Your code here\n",
    "sample_list_2 = list(random.randint(0,100) for i in range(80))\n",
    "sample_list_2"
   ]
  },
  {
   "cell_type": "markdown",
   "metadata": {},
   "source": [
    "#### Convert `sample_list_2` to a set called `set2`. Print the length of the set. Is its length still 80?"
   ]
  },
  {
   "cell_type": "code",
   "execution_count": 5,
   "metadata": {},
   "outputs": [
    {
     "data": {
      "text/plain": [
       "56"
      ]
     },
     "execution_count": 5,
     "metadata": {},
     "output_type": "execute_result"
    }
   ],
   "source": [
    "# Your code here\n",
    "set2 = set(sample_list_2)\n",
    "len(set2)"
   ]
  },
  {
   "cell_type": "markdown",
   "metadata": {},
   "source": [
    "#### Identify the elements present in `set1` but not in `set2`. Assign the elements to a new set named `set3`."
   ]
  },
  {
   "cell_type": "code",
   "execution_count": 6,
   "metadata": {},
   "outputs": [
    {
     "data": {
      "text/plain": [
       "{4,\n",
       " 8,\n",
       " 9,\n",
       " 10,\n",
       " 11,\n",
       " 15,\n",
       " 19,\n",
       " 20,\n",
       " 23,\n",
       " 26,\n",
       " 35,\n",
       " 39,\n",
       " 40,\n",
       " 42,\n",
       " 46,\n",
       " 48,\n",
       " 52,\n",
       " 54,\n",
       " 59,\n",
       " 60,\n",
       " 62,\n",
       " 66,\n",
       " 67,\n",
       " 69,\n",
       " 70,\n",
       " 71,\n",
       " 72,\n",
       " 73,\n",
       " 77,\n",
       " 79,\n",
       " 81,\n",
       " 83,\n",
       " 84,\n",
       " 85,\n",
       " 89,\n",
       " 91,\n",
       " 96,\n",
       " 97,\n",
       " 99}"
      ]
     },
     "execution_count": 6,
     "metadata": {},
     "output_type": "execute_result"
    }
   ],
   "source": [
    "# Your code here\n",
    "set3 = set(set1 -set2)\n",
    "set3"
   ]
  },
  {
   "cell_type": "markdown",
   "metadata": {},
   "source": [
    "#### Identify the elements present in `set2` but not in `set1`. Assign the elements to a new set named `set4`."
   ]
  },
  {
   "cell_type": "code",
   "execution_count": 7,
   "metadata": {},
   "outputs": [
    {
     "data": {
      "text/plain": [
       "{21, 24, 28, 33, 37, 44, 45, 49, 58, 63, 80, 87, 90, 92, 100}"
      ]
     },
     "execution_count": 7,
     "metadata": {},
     "output_type": "execute_result"
    }
   ],
   "source": [
    "# Your code here\n",
    "set4 = set(set2 -set1)\n",
    "set4"
   ]
  },
  {
   "cell_type": "markdown",
   "metadata": {},
   "source": [
    "#### Now Identify the elements shared between `set1` and `set2`. Assign the elements to a new set named `set5`."
   ]
  },
  {
   "cell_type": "code",
   "execution_count": 8,
   "metadata": {},
   "outputs": [
    {
     "data": {
      "text/plain": [
       "{0,\n",
       " 1,\n",
       " 2,\n",
       " 5,\n",
       " 6,\n",
       " 7,\n",
       " 12,\n",
       " 13,\n",
       " 14,\n",
       " 16,\n",
       " 17,\n",
       " 22,\n",
       " 25,\n",
       " 27,\n",
       " 29,\n",
       " 30,\n",
       " 31,\n",
       " 32,\n",
       " 34,\n",
       " 38,\n",
       " 41,\n",
       " 43,\n",
       " 47,\n",
       " 50,\n",
       " 51,\n",
       " 53,\n",
       " 56,\n",
       " 61,\n",
       " 64,\n",
       " 65,\n",
       " 68,\n",
       " 74,\n",
       " 75,\n",
       " 76,\n",
       " 78,\n",
       " 82,\n",
       " 88,\n",
       " 93,\n",
       " 94,\n",
       " 95,\n",
       " 98}"
      ]
     },
     "execution_count": 8,
     "metadata": {},
     "output_type": "execute_result"
    }
   ],
   "source": [
    "# Your code here\n",
    "set5 = set(set1.intersection(set2))\n",
    "set5"
   ]
  },
  {
   "cell_type": "markdown",
   "metadata": {},
   "source": [
    "#### What is the relationship among the following values:\n",
    "\n",
    "* len(set1)\n",
    "* len(set2)\n",
    "* len(set3)\n",
    "* len(set4)\n",
    "* len(set5)\n",
    "\n",
    "Use a math formular to represent that relationship. Test your formular with Python code."
   ]
  },
  {
   "cell_type": "code",
   "execution_count": 9,
   "metadata": {},
   "outputs": [
    {
     "name": "stdout",
     "output_type": "stream",
     "text": [
      "80\n",
      "56\n",
      "39\n",
      "15\n"
     ]
    }
   ],
   "source": [
    "# Your code here\n",
    "print(len(set1))\n",
    "print(len(set2))\n",
    "print(len(set3))\n",
    "print(len(set4))"
   ]
  },
  {
   "cell_type": "markdown",
   "metadata": {},
   "source": [
    "#### Create an empty set called `set6`."
   ]
  },
  {
   "cell_type": "code",
   "execution_count": 10,
   "metadata": {},
   "outputs": [],
   "source": [
    "# Your code here\n",
    "set6 = set()"
   ]
  },
  {
   "cell_type": "markdown",
   "metadata": {},
   "source": [
    "#### Add `set3` and `set5` to `set6` using the Python Set `update` method."
   ]
  },
  {
   "cell_type": "code",
   "execution_count": 11,
   "metadata": {},
   "outputs": [],
   "source": [
    "# Your code here\n",
    "set6.update(set3,set5)"
   ]
  },
  {
   "cell_type": "markdown",
   "metadata": {},
   "source": [
    "#### Check if `set1` and `set6` are equal."
   ]
  },
  {
   "cell_type": "code",
   "execution_count": 12,
   "metadata": {},
   "outputs": [
    {
     "data": {
      "text/plain": [
       "True"
      ]
     },
     "execution_count": 12,
     "metadata": {},
     "output_type": "execute_result"
    }
   ],
   "source": [
    "# Your code here\n",
    "set1 == set6"
   ]
  },
  {
   "cell_type": "markdown",
   "metadata": {},
   "source": [
    "#### Check if `set1` contains `set2` using the Python Set `issubset` method. Then check if `set1` contains `set3`.*"
   ]
  },
  {
   "cell_type": "code",
   "execution_count": 13,
   "metadata": {},
   "outputs": [
    {
     "name": "stdout",
     "output_type": "stream",
     "text": [
      "False\n",
      "True\n"
     ]
    }
   ],
   "source": [
    "# Your code here\n",
    "print(set2.issubset(set1))\n",
    "print(set3.issubset(set1))"
   ]
  },
  {
   "cell_type": "markdown",
   "metadata": {},
   "source": [
    "#### Using the Python Set `union` method, aggregate `set3`, `set4`, and `set5`. Then aggregate `set1` and `set2`. \n",
    "\n",
    "#### Check if the aggregated values are equal."
   ]
  },
  {
   "cell_type": "code",
   "execution_count": 14,
   "metadata": {},
   "outputs": [
    {
     "data": {
      "text/plain": [
       "False"
      ]
     },
     "execution_count": 14,
     "metadata": {},
     "output_type": "execute_result"
    }
   ],
   "source": [
    "# Your code here\n",
    "union1 = set()\n",
    "union2 = set()\n",
    "union1 = union1.union(set3.union(set4.union(set5)))\n",
    "union2 = union2.union(set1.union(set1))\n",
    "union1 == union2"
   ]
  },
  {
   "cell_type": "markdown",
   "metadata": {},
   "source": [
    "#### Using the `pop` method, remove the first element from `set1`."
   ]
  },
  {
   "cell_type": "code",
   "execution_count": null,
   "metadata": {},
   "outputs": [],
   "source": [
    "# Your code here\n",
    "set1.pop(1)"
   ]
  },
  {
   "cell_type": "markdown",
   "metadata": {},
   "source": [
    "#### Remove every element in the following list from `set1` if they are present in the set. Print the remaining elements.\n",
    "\n",
    "```\n",
    "list_to_remove = [1, 9, 11, 19, 21, 29, 31, 39, 41, 49, 51, 59, 61, 69, 71, 79, 81, 89, 91, 99]\n",
    "```"
   ]
  },
  {
   "cell_type": "code",
   "execution_count": 17,
   "metadata": {},
   "outputs": [
    {
     "name": "stdout",
     "output_type": "stream",
     "text": [
      "{0, 2, 4, 5, 6, 7, 8, 10, 12, 13, 14, 15, 16, 17, 20, 22, 23, 25, 26, 27, 30, 32, 34, 35, 38, 40, 42, 43, 46, 47, 48, 50, 52, 53, 54, 56, 60, 62, 64, 65, 66, 67, 68, 70, 72, 73, 74, 75, 76, 77, 78, 82, 83, 84, 85, 88, 93, 94, 95, 96, 97, 98}\n"
     ]
    }
   ],
   "source": [
    "# Your code here\n",
    "list_to_remove = [1, 9, 11, 19, 21, 29, 31, 39, 41, 49, 51, 59, 61, 69, 71, 79, 81, 89, 91, 99]\n",
    "for i in list_to_remove:\n",
    "    set1.discard(i)\n",
    "print(set1)"
   ]
  },
  {
   "cell_type": "code",
   "execution_count": null,
   "metadata": {},
   "outputs": [],
   "source": []
  },
  {
   "cell_type": "code",
   "execution_count": null,
   "metadata": {},
   "outputs": [],
   "source": []
  }
 ],
 "metadata": {
  "kernelspec": {
   "display_name": "Python 3",
   "language": "python",
   "name": "python3"
  },
  "language_info": {
   "codemirror_mode": {
    "name": "ipython",
    "version": 3
   },
   "file_extension": ".py",
   "mimetype": "text/x-python",
   "name": "python",
   "nbconvert_exporter": "python",
   "pygments_lexer": "ipython3",
   "version": "3.5.3"
  }
 },
 "nbformat": 4,
 "nbformat_minor": 2
}
