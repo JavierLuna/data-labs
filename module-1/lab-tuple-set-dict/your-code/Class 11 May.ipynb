{
 "cells": [
  {
   "cell_type": "code",
   "execution_count": null,
   "metadata": {},
   "outputs": [],
   "source": [
    "(0[1-9]|[1-2][0-9]|3[0-1])-(0[13578]|1[02])-([0-2][0-9][0-9][0-9])|(0[1-9]|[1-2][0-9]|30)-(0[469]|11)-([0-2][0-9][0-9][0-9])|(0[1-9]|1[0-9]|2[0-8])-(0[469]|11)-([0-2][0-9][0-9][0-9])"
   ]
  }
 ],
 "metadata": {
  "kernelspec": {
   "display_name": "Python 3",
   "language": "python",
   "name": "python3"
  },
  "language_info": {
   "codemirror_mode": {
    "name": "ipython",
    "version": 3
   },
   "file_extension": ".py",
   "mimetype": "text/x-python",
   "name": "python",
   "nbconvert_exporter": "python",
   "pygments_lexer": "ipython3",
   "version": "3.7.3"
  }
 },
 "nbformat": 4,
 "nbformat_minor": 2
}
