{
 "cells": [
  {
   "cell_type": "code",
   "execution_count": 13,
   "metadata": {},
   "outputs": [],
   "source": [
    "import re"
   ]
  },
  {
   "cell_type": "code",
   "execution_count": 17,
   "metadata": {},
   "outputs": [
    {
     "name": "stdout",
     "output_type": "stream",
     "text": [
      "ironhack@gmail.com es valido\n",
      "ironhack@yahoo.com no es valido\n",
      "('ironhack', 'gmail', 'com')\n"
     ]
    },
    {
     "ename": "NameError",
     "evalue": "name 'correos_ok' is not defined",
     "output_type": "error",
     "traceback": [
      "\u001b[0;31m---------------------------------------------------------------------------\u001b[0m",
      "\u001b[0;31mNameError\u001b[0m                                 Traceback (most recent call last)",
      "\u001b[0;32m<ipython-input-17-c9ce294266ec>\u001b[0m in \u001b[0;36m<module>\u001b[0;34m\u001b[0m\n\u001b[1;32m     21\u001b[0m \u001b[0mprint\u001b[0m\u001b[0;34m(\u001b[0m\u001b[0mresultado\u001b[0m\u001b[0;34m.\u001b[0m\u001b[0mgroups\u001b[0m\u001b[0;34m(\u001b[0m\u001b[0;34m)\u001b[0m\u001b[0;34m)\u001b[0m\u001b[0;34m\u001b[0m\u001b[0;34m\u001b[0m\u001b[0m\n\u001b[1;32m     22\u001b[0m \u001b[0;34m\u001b[0m\u001b[0m\n\u001b[0;32m---> 23\u001b[0;31m \u001b[0mresultados\u001b[0m \u001b[0;34m=\u001b[0m \u001b[0mre\u001b[0m\u001b[0;34m.\u001b[0m\u001b[0mfindall\u001b[0m\u001b[0;34m(\u001b[0m\u001b[0mPATRON\u001b[0m\u001b[0;34m,\u001b[0m \u001b[0mcorreos_ok\u001b[0m\u001b[0;34m)\u001b[0m\u001b[0;34m\u001b[0m\u001b[0;34m\u001b[0m\u001b[0m\n\u001b[0m\u001b[1;32m     24\u001b[0m \u001b[0mprint\u001b[0m\u001b[0;34m(\u001b[0m\u001b[0mresultados\u001b[0m\u001b[0;34m)\u001b[0m\u001b[0;34m\u001b[0m\u001b[0;34m\u001b[0m\u001b[0m\n",
      "\u001b[0;31mNameError\u001b[0m: name 'correos_ok' is not defined"
     ]
    }
   ],
   "source": [
    "#expresion RE = (.+)@(gmail|hotmail)\\.(es|com)\n",
    "\n",
    "PATRON = r\"(.+)@(gmail|hotmail)\\.(es|com)\"\n",
    "\n",
    "correo_ok= \"ironhack@gmail.com\"\n",
    "correo_ko= \"ironhack@yahoo.com\"\n",
    "\n",
    "if re.match(r\"(.+)@(gmail|hotmail)\\.(es|com)\", correo_ok):\n",
    "    print(correo_ok, \"es valido\")\n",
    "else:\n",
    "    print(correo_ok, \"no es valido\")\n",
    "    \n",
    "    \n",
    "if re.match(r\"(.+)@(gmail|hotmail)\\.(es|com)\", correo_ko):\n",
    "    print(correo_ko, \"es valido\")\n",
    "else:\n",
    "    print(correo_ko, \"no es valido\")\n",
    "    \n",
    "    \n",
    "resultado = re.search(PATRON, correo_ok)\n",
    "print(resultado.groups())\n",
    "\n",
    "resultados = re.findall(PATRON, correos_ok)\n",
    "print(resultados)"
   ]
  },
  {
   "cell_type": "code",
   "execution_count": null,
   "metadata": {},
   "outputs": [],
   "source": []
  }
 ],
 "metadata": {
  "kernelspec": {
   "display_name": "Python 3",
   "language": "python",
   "name": "python3"
  },
  "language_info": {
   "codemirror_mode": {
    "name": "ipython",
    "version": 3
   },
   "file_extension": ".py",
   "mimetype": "text/x-python",
   "name": "python",
   "nbconvert_exporter": "python",
   "pygments_lexer": "ipython3",
   "version": "3.7.3"
  }
 },
 "nbformat": 4,
 "nbformat_minor": 2
}
