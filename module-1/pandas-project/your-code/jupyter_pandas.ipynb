{
 "cells": [
  {
   "cell_type": "code",
   "execution_count": 1,
   "metadata": {},
   "outputs": [],
   "source": [
    "import re\n",
    "import csv\n",
    "import pandas as pd"
   ]
  },
  {
   "cell_type": "code",
   "execution_count": 2,
   "metadata": {},
   "outputs": [],
   "source": [
    "def edades_limpia(age):\n",
    "    if age.lower() == 'teen':\n",
    "        age = '18'\n",
    "    # if  age.lower() == re.compile(r'teen'):\n",
    "    #     age = '18'\n",
    "    if  age.lower() == 'young':\n",
    "        age = '10'\n",
    "    elif  age == re.compile(r'.young.'):\n",
    "        age = '10'\n",
    "    if age.lower() == 'adult':\n",
    "        age = '40'\n",
    "    elif  age == re.compile(r'.adult.'):\n",
    "        age = '40'\n",
    "\n",
    "    return age"
   ]
  },
  {
   "cell_type": "code",
   "execution_count": 3,
   "metadata": {},
   "outputs": [],
   "source": [
    "sharks = pd.read_csv(\"./data/GSAF5.csv\", header=0, encoding='unicode_escape')"
   ]
  },
  {
   "cell_type": "code",
   "execution_count": 4,
   "metadata": {},
   "outputs": [],
   "source": [
    "# SACAMOS EL NUMERO DE FILAS Y COLUMNAS DE LA TABLA"
   ]
  },
  {
   "cell_type": "code",
   "execution_count": 7,
   "metadata": {},
   "outputs": [
    {
     "name": "stdout",
     "output_type": "stream",
     "text": [
      "TAMAÑO DE LA TABLA:\n",
      "\n",
      " ------------------------------------------------------- \n",
      "\n",
      "(filas, columnas)(5992, 24)\n"
     ]
    }
   ],
   "source": [
    "print('TAMAÑO DE LA TABLA:')\n",
    "print('\\n ------------------------------------------------------- \\n')\n",
    "size = sharks.shape\n",
    "print('(filas, columnas)' + str(size))"
   ]
  },
  {
   "cell_type": "code",
   "execution_count": 8,
   "metadata": {},
   "outputs": [],
   "source": [
    "# IMPRIMIMOS UNA MUESTRA DE CADA COLUMNA CON SUS VALORES"
   ]
  },
  {
   "cell_type": "code",
   "execution_count": 9,
   "metadata": {},
   "outputs": [
    {
     "name": "stdout",
     "output_type": "stream",
     "text": [
      "COLUMNAS CON MUESTRA DE VALORES:\n",
      "\n",
      "-------------------------------------------------------- \n",
      "\n",
      "    Case Number       Date  Year        Type    Country      Area  \\\n",
      "0  2016.09.18.c  18-Sep-16  2016  Unprovoked        USA   Florida   \n",
      "1  2016.09.18.b  18-Sep-16  2016  Unprovoked        USA   Florida   \n",
      "2  2016.09.18.a  18-Sep-16  2016  Unprovoked        USA   Florida   \n",
      "3    2016.09.17  17-Sep-16  2016  Unprovoked  AUSTRALIA  Victoria   \n",
      "4    2016.09.15  16-Sep-16  2016  Unprovoked  AUSTRALIA  Victoria   \n",
      "\n",
      "                           Location Activity             Name Sex   Age  \\\n",
      "0  New Smyrna Beach, Volusia County  Surfing             male    M   16   \n",
      "1  New Smyrna Beach, Volusia County  Surfing   Chucky Luciano    M   36   \n",
      "2  New Smyrna Beach, Volusia County  Surfing             male    M   43   \n",
      "3                  Thirteenth Beach  Surfing  Rory Angiolella    M  NaN   \n",
      "4                       Bells Beach  Surfing             male    M  NaN   \n",
      "\n",
      "                                  Injury Fatal (Y/N)   Time   Species   \\\n",
      "0                  Minor injury to thigh           N  13h00        NaN   \n",
      "1                   Lacerations to hands           N  11h00        NaN   \n",
      "2               Lacerations to lower leg           N  10h43        NaN   \n",
      "3           Struck by fin on chest & leg           N    NaN        NaN   \n",
      "4  No injury: Knocked off board by shark           N    NaN  2 m shark   \n",
      "\n",
      "        Investigator or Source                        pdf  \\\n",
      "0  Orlando Sentinel, 9/19/2016       2016.09.18.c-NSB.pdf   \n",
      "1  Orlando Sentinel, 9/19/2016   2016.09.18.b-Luciano.pdf   \n",
      "2  Orlando Sentinel, 9/19/2016       2016.09.18.a-NSB.pdf   \n",
      "3           The Age, 9/18/2016  2016.09.17-Angiolella.pdf   \n",
      "4           The Age, 9/16/2016  2016.09.16-BellsBeach.pdf   \n",
      "\n",
      "                                        href formula  \\\n",
      "0  http://sharkattackfile.net/spreadsheets/pdf_di...   \n",
      "1  http://sharkattackfile.net/spreadsheets/pdf_di...   \n",
      "2  http://sharkattackfile.net/spreadsheets/pdf_di...   \n",
      "3  http://sharkattackfile.net/spreadsheets/pdf_di...   \n",
      "4  http://sharkattackfile.net/spreadsheets/pdf_di...   \n",
      "\n",
      "                                                href Case Number.1  \\\n",
      "0  http://sharkattackfile.net/spreadsheets/pdf_di...  2016.09.18.c   \n",
      "1  http://sharkattackfile.net/spreadsheets/pdf_di...  2016.09.18.b   \n",
      "2  http://sharkattackfile.net/spreadsheets/pdf_di...  2016.09.18.a   \n",
      "3  http://sharkattackfile.net/spreadsheets/pdf_di...    2016.09.17   \n",
      "4  http://sharkattackfile.net/spreadsheets/pdf_di...    2016.09.16   \n",
      "\n",
      "  Case Number.2  original order Unnamed: 22 Unnamed: 23  \n",
      "0  2016.09.18.c            5993         NaN         NaN  \n",
      "1  2016.09.18.b            5992         NaN         NaN  \n",
      "2  2016.09.18.a            5991         NaN         NaN  \n",
      "3    2016.09.17            5990         NaN         NaN  \n",
      "4    2016.09.15            5989         NaN         NaN  \n"
     ]
    }
   ],
   "source": [
    "print('COLUMNAS CON MUESTRA DE VALORES:')\n",
    "print('\\n-------------------------------------------------------- \\n')\n",
    "pd.set_option('display.max_columns', 32)\n",
    "print(sharks.head())"
   ]
  },
  {
   "cell_type": "code",
   "execution_count": 10,
   "metadata": {},
   "outputs": [],
   "source": [
    "# COMPROBAMOS EL NUMERO DE NULOS QUE TIENE CADA COLUMNA"
   ]
  },
  {
   "cell_type": "code",
   "execution_count": 11,
   "metadata": {},
   "outputs": [
    {
     "name": "stdout",
     "output_type": "stream",
     "text": [
      "NUMERO DE NULOS POR COLUMNA:\n",
      "\n",
      "-------------------------------------------------------- \n",
      "\n",
      "Case Number                  0\n",
      "Date                         0\n",
      "Year                         0\n",
      "Type                         0\n",
      "Country                     43\n",
      "Area                       402\n",
      "Location                   496\n",
      "Activity                   527\n",
      "Name                       200\n",
      "Sex                        567\n",
      "Age                       2681\n",
      "Injury                      27\n",
      "Fatal (Y/N)                 19\n",
      "Time                      3213\n",
      "Species                   2934\n",
      "Investigator or Source      15\n",
      "pdf                          0\n",
      "href formula                 1\n",
      "href                         3\n",
      "Case Number.1                0\n",
      "Case Number.2                0\n",
      "original order               0\n",
      "Unnamed: 22               5991\n",
      "Unnamed: 23               5990\n",
      "dtype: int64\n"
     ]
    }
   ],
   "source": [
    "print('NUMERO DE NULOS POR COLUMNA:')\n",
    "print('\\n-------------------------------------------------------- \\n')\n",
    "number_of_null_values = sharks.isnull().sum()\n",
    "print(number_of_null_values)"
   ]
  },
  {
   "cell_type": "code",
   "execution_count": 12,
   "metadata": {},
   "outputs": [],
   "source": [
    "# ELIMINAMOS LAS COLUMNAS Unnamed: 22 Y Unnamed: 23 PORQUE TIENEN CASI TODOS SUS VALORES NULOS"
   ]
  },
  {
   "cell_type": "code",
   "execution_count": 13,
   "metadata": {},
   "outputs": [
    {
     "name": "stdout",
     "output_type": "stream",
     "text": [
      "NUMERO DE NULOS POR COLUMNA SIN Unnamed: 22 Y Unnamed: 23:\n",
      "\n",
      "-------------------------------------------------------- \n",
      "\n",
      "Case Number                  0\n",
      "Date                         0\n",
      "Year                         0\n",
      "Type                         0\n",
      "Country                     43\n",
      "Area                       402\n",
      "Location                   496\n",
      "Activity                   527\n",
      "Name                       200\n",
      "Sex                        567\n",
      "Age                       2681\n",
      "Injury                      27\n",
      "Fatal (Y/N)                 19\n",
      "Time                      3213\n",
      "Species                   2934\n",
      "Investigator or Source      15\n",
      "pdf                          0\n",
      "href formula                 1\n",
      "href                         3\n",
      "Case Number.1                0\n",
      "Case Number.2                0\n",
      "original order               0\n",
      "dtype: int64\n"
     ]
    }
   ],
   "source": [
    "print('NUMERO DE NULOS POR COLUMNA SIN Unnamed: 22 Y Unnamed: 23:')\n",
    "print('\\n-------------------------------------------------------- \\n')\n",
    "del sharks['Unnamed: 22']\n",
    "del sharks['Unnamed: 23']\n",
    "number_of_null_values = sharks.isnull().sum()\n",
    "print(number_of_null_values)"
   ]
  },
  {
   "cell_type": "code",
   "execution_count": 14,
   "metadata": {},
   "outputs": [],
   "source": [
    "# MIRAMOS EL NOMBRE DE LAS COLUMNAS"
   ]
  },
  {
   "cell_type": "code",
   "execution_count": 15,
   "metadata": {},
   "outputs": [
    {
     "name": "stdout",
     "output_type": "stream",
     "text": [
      "NOMBRE COLUMNAS:\n",
      "\n",
      "-------------------------------------------------------- \n",
      "\n",
      "['Case Number' 'Date' 'Year' 'Type' 'Country' 'Area' 'Location' 'Activity'\n",
      " 'Name' 'Sex ' 'Age' 'Injury' 'Fatal (Y/N)' 'Time' 'Species '\n",
      " 'Investigator or Source' 'pdf' 'href formula' 'href' 'Case Number.1'\n",
      " 'Case Number.2' 'original order']\n"
     ]
    }
   ],
   "source": [
    "print('NOMBRE COLUMNAS:')\n",
    "print('\\n-------------------------------------------------------- \\n')\n",
    "print(sharks.columns.values)"
   ]
  },
  {
   "cell_type": "code",
   "execution_count": 16,
   "metadata": {},
   "outputs": [],
   "source": [
    "# QUITAMOS ESPACIO EN BLANCO DE LAS COLUMNAS"
   ]
  },
  {
   "cell_type": "code",
   "execution_count": 17,
   "metadata": {},
   "outputs": [
    {
     "name": "stdout",
     "output_type": "stream",
     "text": [
      "NOMBRE COLUMNAS MODIFICADOS:\n",
      "\n",
      "-------------------------------------------------------- \n",
      "\n",
      "['Case Number' 'Date' 'Year' 'Type' 'Country' 'Area' 'Location' 'Activity'\n",
      " 'Name' 'Sex' 'Age' 'Injury' 'Fatal(Y/N)' 'Time' 'Species'\n",
      " 'Investigator or Source' 'pdf' 'href formula' 'href' 'Case Number.1'\n",
      " 'Case Number.2' 'original order']\n"
     ]
    }
   ],
   "source": [
    "print('NOMBRE COLUMNAS MODIFICADOS:')\n",
    "print('\\n-------------------------------------------------------- \\n')\n",
    "sharks.rename(index=str, columns={'Sex ': 'Sex', 'Species ': 'Species', 'Fatal (Y/N)': 'Fatal(Y/N)'}, inplace=True)\n",
    "print(sharks.columns.values)"
   ]
  },
  {
   "cell_type": "code",
   "execution_count": 18,
   "metadata": {},
   "outputs": [],
   "source": [
    "# LIMPIAMOS LAS EDADES Y SI NO TIENEN NUMERO"
   ]
  },
  {
   "cell_type": "code",
   "execution_count": 19,
   "metadata": {},
   "outputs": [
    {
     "name": "stdout",
     "output_type": "stream",
     "text": [
      "EDADES LIMPIAS:\n",
      "\n",
      "-------------------------------------------------------- \n",
      "\n",
      "['16' '36' '43' '1' '60s' '51' '50' '12' '9' '22' '25' '37' '20' '49' '15'\n",
      " '21' '40' '72' '18' '29' '31' '11' '10' '59' '42' '34' '35' '19' '6' '27'\n",
      " '64' '60' '23' '52' '13' '57' '48' '39' '24' '26' '69' '46' '41' '45'\n",
      " '65' '38' '71' '32' '58' '28' '54' '44' '14' '7' '62' '40s' '68' '47'\n",
      " '17' '30' '63' '70' '18 months' '53' '20s' '33' '30s' '50s' '8' '61' '55'\n",
      " '66' '77' '74' '3' '56' '28 & 26' '5' '86' '18 or 20' '12 or 13'\n",
      " '46 & 34' '28, 23 & 30' 'Teens' '36 & 26' '8 or 10' '84' '\\xa0 ' ' '\n",
      " '30 or 36' '6½' '21 & ?' '75' '33 or 37' 'mid-30s' '73' '23 & 20'\n",
      " '7      &    31' '20?' \"60's\" '32 & 30' '16 to 18' '87' '67' 'Elderly'\n",
      " 'mid-20s' 'Ca. 33' '21 or 26' '>50' '18 to 22' '9 & 12' '? & 19'\n",
      " '9 months' '25 to 35' '23 & 26' '(adult)' '33 & 37' '25 or 28'\n",
      " '37, 67, 35, 27,  ? & 27' '21, 34,24 & 35' '30 & 32' '50 & 30' '17 & 35'\n",
      " 'X' '\"middle-age\"' '13 or 18' '34 & 19' '33 & 26' '2 to 3 months'\n",
      " 'MAKE LINE GREEN' '81' '\"young\"' '7 or 8' '78' '17 & 16' 'F' 'Both 11'\n",
      " '9 or 10' '36 & 23' '  ' 'A.M.' '?    &   14' '10 or 12' '31 or 33' 'M'\n",
      " '2½' '13 or 14']\n",
      "147\n",
      "\n",
      "\n",
      "\n",
      "['16' '36' '43' '1' '60s' '51' '50' '12' '9' '22' '25' '37' '20' '49' '15'\n",
      " '21' '40' '72' '18' '29' '31' '11' '10' '59' '42' '34' '35' '19' '6' '27'\n",
      " '64' '60' '23' '52' '13' '57' '48' '39' '24' '26' '69' '46' 'Teen' '41'\n",
      " '45' '65' '38' '71' '32' '58' '28' '54' '44' '14' '7' '62' '40s' '68'\n",
      " '47' '17' '30' '63' '70' '18 months' '53' '20s' '33' '30s' '50s' '8' '61'\n",
      " '55' 'teen' '66' '77' '74' '3' '56' '28 & 26' '5' '86' '18 or 20'\n",
      " '12 or 13' '46 & 34' '28, 23 & 30' 'Teens' '36 & 26' '8 or 10' '84'\n",
      " '\\xa0 ' ' ' '30 or 36' '6½' '21 & ?' '75' '33 or 37' 'mid-30s' '73'\n",
      " '23 & 20' '7      &    31' '20?' \"60's\" '32 & 30' '16 to 18' '87' '67'\n",
      " 'Elderly' 'mid-20s' 'Ca. 33' '21 or 26' '>50' '18 to 22' 'adult' '9 & 12'\n",
      " '? & 19' '9 months' '25 to 35' '23 & 26' '(adult)' '33 & 37' '25 or 28'\n",
      " '37, 67, 35, 27,  ? & 27' '21, 34,24 & 35' '30 & 32' '50 & 30' '17 & 35'\n",
      " 'X' '\"middle-age\"' '13 or 18' '34 & 19' '33 & 26' '2 to 3 months'\n",
      " 'MAKE LINE GREEN' '81' '\"young\"' '7 or 8' '78' '17 & 16' 'F' 'Both 11'\n",
      " '9 or 10' 'young' '36 & 23' '  ' 'A.M.' '?    &   14' '10 or 12'\n",
      " '31 or 33' 'M' '2½' '13 or 14']\n",
      "151\n"
     ]
    }
   ],
   "source": [
    "print('EDADES LIMPIAS:')\n",
    "print('\\n-------------------------------------------------------- \\n')\n",
    "sharks.fillna(value='1', inplace=True)\n",
    "shark_age = sharks['Age'].apply(edades_limpia)\n",
    "print(shark_age.unique())\n",
    "print(len(set(shark_age)))\n",
    "print('\\n\\n')\n",
    "print(sharks['Age'].unique())\n",
    "print(len(set(sharks['Age'])))"
   ]
  },
  {
   "cell_type": "code",
   "execution_count": null,
   "metadata": {},
   "outputs": [],
   "source": []
  }
 ],
 "metadata": {
  "kernelspec": {
   "display_name": "Python 3",
   "language": "python",
   "name": "python3"
  },
  "language_info": {
   "codemirror_mode": {
    "name": "ipython",
    "version": 3
   },
   "file_extension": ".py",
   "mimetype": "text/x-python",
   "name": "python",
   "nbconvert_exporter": "python",
   "pygments_lexer": "ipython3",
   "version": "3.5.3"
  }
 },
 "nbformat": 4,
 "nbformat_minor": 2
}
