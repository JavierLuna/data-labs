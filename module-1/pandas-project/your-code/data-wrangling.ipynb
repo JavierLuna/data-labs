{
 "cells": [
  {
   "cell_type": "markdown",
   "metadata": {},
   "source": [
    "# Baby shark 🦈\n",
    "## *(Doo doo doo doo doo doo!)*"
   ]
  },
  {
   "cell_type": "markdown",
   "metadata": {},
   "source": [
    "### 1. Data acquisition and workspace setup\n",
    "Import the libraries and locate the file containing the data."
   ]
  },
  {
   "cell_type": "code",
   "execution_count": 2,
   "metadata": {},
   "outputs": [],
   "source": [
    "#Import pandas library\n",
    "import pandas as pd\n",
    "\n",
    "#Read the datasheet and force its encoding to 'ISO-8859-1' ('utf-8' default returns an error)\n",
    "sourceDB = pd.read_csv(\"../resources/GSAF5.csv\", encoding = \"ISO-8859-1\")"
   ]
  },
  {
   "cell_type": "markdown",
   "metadata": {},
   "source": [
    "### 2. Data wrangling\n",
    "To check for potential problems in the database, each column is examined. Focus points of each column are:"
   ]
  },
  {
   "cell_type": "markdown",
   "metadata": {},
   "source": [
    "##### 3.1 Case Number\n",
    "The ID for each attack is generated from its date in *yyyy/mm/dd* format. When there have been several cases on the same day, a letter is added to the date (*yyyy/mm/dd.x*) in alphabetical order. However, there are days with a single registered attack that also have letter, in addition to other different formats when the date is an interval."
   ]
  },
  {
   "cell_type": "code",
   "execution_count": 3,
   "metadata": {},
   "outputs": [],
   "source": [
    "#Set index of dataset in \"Case Number\" to use *loc* indexer\n",
    "sourceDB.set_index(\"Case Number\", inplace=True)\n",
    "\n",
    "sourceDB.loc[\"ND.0024\"]"
   ]
  },
  {
   "cell_type": "markdown",
   "metadata": {},
   "source": [
    "##### 3.2 Date\n",
    "Standard format here is dd-mm-yy, but it's inconsistent over time and can appears as:\n",
    "1. yyyy\n",
    "2. dd-mm-yyyy\n",
    "3. mm-yy\n",
    "\n",
    "Or even strings as:\n",
    "4. \"Reported dd-mm-yyyy\" *(or variations)*\n",
    "5. Periods as text: \"Before the war\", \"During the war\", \"Winter 1969\" etc.\n",
    "6. Notations\n",
    "6. Random: \"Last incident of 1994 in Hong Kong\""
   ]
  },
  {
   "cell_type": "code",
   "execution_count": null,
   "metadata": {},
   "outputs": [],
   "source": []
  },
  {
   "cell_type": "markdown",
   "metadata": {},
   "source": [
    "##### 3.3 Year\n",
    "Standard format is *yyyy*, but *0* appears in some rows."
   ]
  },
  {
   "cell_type": "code",
   "execution_count": null,
   "metadata": {},
   "outputs": [],
   "source": []
  },
  {
   "cell_type": "markdown",
   "metadata": {},
   "source": [
    "##### 3.4 Type\n",
    "*Boat* and *Boating* appear. "
   ]
  },
  {
   "cell_type": "code",
   "execution_count": null,
   "metadata": {},
   "outputs": [],
   "source": []
  },
  {
   "cell_type": "markdown",
   "metadata": {},
   "source": [
    "##### 3.5 Country\n",
    "Some of the fields are empty."
   ]
  },
  {
   "cell_type": "code",
   "execution_count": null,
   "metadata": {},
   "outputs": [],
   "source": []
  },
  {
   "cell_type": "markdown",
   "metadata": {},
   "source": [
    "##### 3.6 Area\n",
    "Some of the areas are empty. Others start with an space or are written with coordinates."
   ]
  },
  {
   "cell_type": "code",
   "execution_count": null,
   "metadata": {},
   "outputs": [],
   "source": []
  },
  {
   "cell_type": "markdown",
   "metadata": {},
   "source": [
    "##### 3.7 Location\n",
    "Adds more info to *Area* column. It appears to be optional and the format varies greatly, so it will not be processed in this exercise."
   ]
  },
  {
   "cell_type": "markdown",
   "metadata": {},
   "source": [
    "##### 3.8 Activity\n",
    "Some are empty. Others could be unified (\"*swimming*\", \"*swimming vigorously*\", \"*swimming to canoe*\") for a better data analysis."
   ]
  },
  {
   "cell_type": "code",
   "execution_count": null,
   "metadata": {},
   "outputs": [],
   "source": []
  },
  {
   "cell_type": "markdown",
   "metadata": {},
   "source": [
    "##### 3.9 Name\n",
    "Names are not relevant for stats, so these won't be processed."
   ]
  },
  {
   "cell_type": "markdown",
   "metadata": {},
   "source": [
    "##### 3.10 Sex\n",
    "\"N\" and \".\" appears where only \"M\" and \"F\" were expected."
   ]
  },
  {
   "cell_type": "code",
   "execution_count": null,
   "metadata": {},
   "outputs": [],
   "source": []
  },
  {
   "cell_type": "markdown",
   "metadata": {},
   "source": [
    "##### 3.11 Age\n",
    "There are values with *int* type (only number) and others with *string* (\"*8 or 10*\", \"*from 7 to 14*\"...)"
   ]
  },
  {
   "cell_type": "code",
   "execution_count": null,
   "metadata": {},
   "outputs": [],
   "source": []
  },
  {
   "cell_type": "markdown",
   "metadata": {},
   "source": [
    "##### 3.12 Injury\n",
    "However, in some cases it provides extra information about the damage, so it can be kept as a human-readable value."
   ]
  },
  {
   "cell_type": "code",
   "execution_count": null,
   "metadata": {},
   "outputs": [],
   "source": []
  },
  {
   "cell_type": "markdown",
   "metadata": {},
   "source": [
    "##### 3.13 Fatal (Y/N)\n",
    "Only must show *\"Y\"*, *\"N\"* or *\"Unknown\"*. There are some typos with spaces."
   ]
  },
  {
   "cell_type": "code",
   "execution_count": null,
   "metadata": {},
   "outputs": [],
   "source": []
  },
  {
   "cell_type": "markdown",
   "metadata": {},
   "source": [
    "##### 3.14 Time\n",
    "*\"Afternoon\"* or *\"Morning\"* are mixed with the hours in numbered format."
   ]
  },
  {
   "cell_type": "code",
   "execution_count": null,
   "metadata": {},
   "outputs": [],
   "source": []
  },
  {
   "cell_type": "markdown",
   "metadata": {},
   "source": [
    "##### 3.15 Species\n",
    "That's anarchy I don't know anything 'bout sharkies please let me go my family is waiting for me."
   ]
  },
  {
   "cell_type": "markdown",
   "metadata": {},
   "source": [
    "##### 3.16 Investigator or Source\n",
    "Just more random people and data sources. To process it is to lose information without it helping the processing, so I will preserve it."
   ]
  },
  {
   "cell_type": "markdown",
   "metadata": {},
   "source": [
    "##### 3.17 pdf\n",
    "Okey!"
   ]
  },
  {
   "cell_type": "markdown",
   "metadata": {},
   "source": [
    "##### 3.18 href formula\n",
    "That seems nice."
   ]
  },
  {
   "cell_type": "markdown",
   "metadata": {},
   "source": [
    "##### 3.19 href\n",
    "And this too."
   ]
  },
  {
   "cell_type": "markdown",
   "metadata": {},
   "source": [
    "##### 3.20 Case Number\n",
    "Column is duplicated."
   ]
  },
  {
   "cell_type": "markdown",
   "metadata": {},
   "source": [
    "##### 3.21 Original order"
   ]
  }
 ],
 "metadata": {
  "kernelspec": {
   "display_name": "Python 3",
   "language": "python",
   "name": "python3"
  },
  "language_info": {
   "codemirror_mode": {
    "name": "ipython",
    "version": 3
   },
   "file_extension": ".py",
   "mimetype": "text/x-python",
   "name": "python",
   "nbconvert_exporter": "python",
   "pygments_lexer": "ipython3",
   "version": "3.7.3"
  }
 },
 "nbformat": 4,
 "nbformat_minor": 2
}
