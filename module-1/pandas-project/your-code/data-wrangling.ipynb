{
 "cells": [
  {
   "cell_type": "markdown",
   "metadata": {},
   "source": [
    "# Baby shark 🦈\n",
    "## *(Doo doo doo doo doo doo!)*"
   ]
  },
  {
   "cell_type": "markdown",
   "metadata": {},
   "source": [
    "### 1. Data acquisition and workspace setup\n",
    "Import the libraries and locate the file containing the data."
   ]
  },
  {
   "cell_type": "code",
   "execution_count": 1,
   "metadata": {},
   "outputs": [],
   "source": [
    "#Import pandas library\n",
    "import pandas as pd\n",
    "import numpy as np\n",
    "\n",
    "#Read the datasheet and force its encoding to 'ISO-8859-1' ('utf-8' default returns an error)\n",
    "sharks_df = pd.read_csv(\"../resources/GSAF5.csv\", encoding = \"ISO-8859-1\")"
   ]
  },
  {
   "cell_type": "markdown",
   "metadata": {},
   "source": [
    "### 2. Data wrangling\n",
    "To check for potential problems in the database, each column will be examined after a general processing:"
   ]
  },
  {
   "cell_type": "markdown",
   "metadata": {},
   "source": [
    "##### 2.1 General transformations"
   ]
  },
  {
   "cell_type": "code",
   "execution_count": 2,
   "metadata": {},
   "outputs": [],
   "source": [
    "def remove_worthless_data(df):\n",
    "    \"\"\"\n",
    "    Removes worthless data from the dataframe.\n",
    "    \"\"\"\n",
    "    \n",
    "    df = df.replace([\"No date\", \"Invalid\", \"Unknown\"], np.nan)\n",
    "    return df\n",
    "\n",
    "#Apply the function\n",
    "sharks_df = remove_worthless_data(sharks_df)"
   ]
  },
  {
   "cell_type": "code",
   "execution_count": 3,
   "metadata": {},
   "outputs": [],
   "source": [
    "def strip_dataframe(df):\n",
    "    \"\"\"\n",
    "    Strip leading and trailing spaces of all strings and headers in dataframe.\n",
    "    \"\"\"\n",
    "    \n",
    "    #Strip the headers\n",
    "    df.columns = df.columns.str.strip()    \n",
    "    #Strip cells\n",
    "    stripped_string = lambda cell: cell.strip() if type(cell) is str else cell\n",
    "    \n",
    "    return df.applymap(stripped_string)\n",
    "\n",
    "#Apply the function\n",
    "sharks_df = strip_dataframe(sharks_df)"
   ]
  },
  {
   "cell_type": "code",
   "execution_count": 4,
   "metadata": {},
   "outputs": [],
   "source": [
    "def lower_headers(df):\n",
    "    \"\"\"\n",
    "    Convert all headers of dataframe to lowercase.\n",
    "    \"\"\"\n",
    "    df.columns = [header.lower() for header in df.columns]\n",
    "    \n",
    "#Apply the function\n",
    "lower_headers(sharks_df)"
   ]
  },
  {
   "cell_type": "code",
   "execution_count": 5,
   "metadata": {},
   "outputs": [],
   "source": [
    "def remove_empty_series(df, limit):\n",
    "    \"\"\"\n",
    "    Go through dataframe series and remove the columns with more empty values than the given percentage (0-100).\n",
    "    \"\"\"\n",
    "    \n",
    "    rows = len(df.index)\n",
    "    \n",
    "    for column in df:   \n",
    "        empty_values = df[column].isna().sum()\n",
    "        empty_values_percentage = (empty_values/rows)*100\n",
    "        \n",
    "        if empty_values_percentage > limit:\n",
    "            del df[column]\n",
    "            \n",
    "    return df\n",
    "\n",
    "#Apply the function with 90% as maximum empty cells\n",
    "sharks_df = remove_empty_series(sharks_df, 90)"
   ]
  },
  {
   "cell_type": "markdown",
   "metadata": {},
   "source": [
    "##### 2.2 'case number' column\n",
    "There are three columns for *'case number'*. The standard ID for each attack is generated from its date with *yyyy/mm/dd* format, so the workflow will be:\n",
    "1. Remove second and third *'case number'* columns\n",
    "2. Create a 'report' column indicating whether the date is the date of the attack (*False*) or the report date (*True*). Remove this info from *'date'*\n",
    "3. Wrangle *'date'* column\n",
    "4. Generate again *'case number'* from fixed *'date'* column"
   ]
  },
  {
   "cell_type": "code",
   "execution_count": 6,
   "metadata": {},
   "outputs": [],
   "source": [
    "#Remove 'case number.1' and 'case number.2'\n",
    "del sharks_df[\"case number.1\"]\n",
    "del sharks_df[\"case number.2\"]"
   ]
  },
  {
   "cell_type": "code",
   "execution_count": 7,
   "metadata": {},
   "outputs": [],
   "source": [
    "#Creates a 'report date' column\n",
    "sharks_df[\"date of report\"] = sharks_df[\"date\"].str.lower().str.contains(pat=\"reported\")\n",
    "\n",
    "#Rearrange columns\n",
    "new_col_order = [\"case number\", \"date\", \"date of report\", \"year\", \"type\", \"country\", \"area\", \"location\", \"activity\", \"name\", \"sex\", \"injury\", \"fatal (y/n)\", \"species\", \"investigator or source\", \"pdf\", \"href formula\", \"href\", \"original order\"]\n",
    "sharks_df = sharks_df[new_col_order]\n",
    "\n",
    "#Delete \"Reported\" substrings from 'date' column\n",
    "sharks_df[\"date\"] = sharks_df[\"date\"].str.lower().str.replace(\"reported\", \"\")"
   ]
  },
  {
   "cell_type": "code",
   "execution_count": 29,
   "metadata": {},
   "outputs": [],
   "source": [
    "#Wrangle 'date' column\n",
    "def clean_dates(df_serie):\n",
    "    \"\"\"\n",
    "    Convert all dates to yyyy-mm-dd, yyyy-mm or yyyy, when possible.\n",
    "    \"\"\"\n",
    "    \n",
    "    #Convert every date-separator into a dash\n",
    "    df_serie = df_serie.replace({r\"(\\d)[^\\d\\w\\n\\-](\\d)\" : r\"\\1\\-\\2\"}, regex=True)\n",
    "\n",
    "    #Convert months in letter to number\n",
    "    months_dictionary = {\n",
    "                \"jan\":\"01\",\n",
    "                \"feb\":\"02\",\n",
    "                \"mar\":\"03\",\n",
    "                \"apr\":\"04\",\n",
    "                \"may\":\"05\",\n",
    "                \"jun\":\"06\",\n",
    "                \"jul\":\"07\",\n",
    "                \"aug\":\"08\",\n",
    "                \"sep\":\"09\",\n",
    "                \"oct\":\"10\",\n",
    "                \"nov\":\"11\",\n",
    "                \"dec\":\"12\"\n",
    "                }   \n",
    "    for month in months_dictionary.keys():\n",
    "        df_serie = df_serie.str.lower().str.replace(month, months_dictionary[month])\n",
    "    \n",
    "    #4 digits for year\n",
    "    \n",
    "    \n",
    "    #Change formats from dd-mm-yyyy to yyyy-mm-dd (PRIMERO HAY QUE RELLENAR EL AÑO)\n",
    "    #df_serie = df_serie.replace({r\"(\\d\\d)-(\\d\\d)-(\\d\\d\\d\\d)\" : r\"\\3\\-\\2\\-\\1\"}, regex=True)\n",
    "    \n",
    "\n",
    "    \n",
    "    \n",
    "    return df_serie\n",
    "    \n",
    "sharks_df[\"date\"] = clean_dates(sharks_df[\"date\"])"
   ]
  },
  {
   "cell_type": "code",
   "execution_count": 30,
   "metadata": {},
   "outputs": [],
   "source": [
    "sharks_df\n",
    "sharks_df.to_csv(r\"out.csv\")"
   ]
  },
  {
   "cell_type": "markdown",
   "metadata": {},
   "source": [
    "##### 3.2 Date\n",
    "Standard format here is dd-mm-yy, but it's inconsistent over time and can appears as:\n",
    "1. yyyy\n",
    "2. dd-mm-yyyy\n",
    "3. mm-yy\n",
    "\n",
    "Or even strings as:\n",
    "4. \"Reported dd-mm-yyyy\" *(or variations)*\n",
    "5. Periods as text: \"Before the war\", \"During the war\", \"Winter 1969\" etc.\n",
    "6. Notations\n",
    "6. Random: \"Last incident of 1994 in Hong Kong\""
   ]
  },
  {
   "cell_type": "code",
   "execution_count": null,
   "metadata": {},
   "outputs": [],
   "source": []
  },
  {
   "cell_type": "markdown",
   "metadata": {},
   "source": [
    "##### 3.3 Year\n",
    "Standard format is *yyyy*, but *0* appears in some rows."
   ]
  },
  {
   "cell_type": "code",
   "execution_count": null,
   "metadata": {},
   "outputs": [],
   "source": []
  },
  {
   "cell_type": "markdown",
   "metadata": {},
   "source": [
    "##### 3.4 Type\n",
    "*Boat* and *Boating* appear. "
   ]
  },
  {
   "cell_type": "code",
   "execution_count": null,
   "metadata": {},
   "outputs": [],
   "source": []
  },
  {
   "cell_type": "markdown",
   "metadata": {},
   "source": [
    "##### 3.5 Country\n",
    "Some of the fields are empty."
   ]
  },
  {
   "cell_type": "code",
   "execution_count": null,
   "metadata": {},
   "outputs": [],
   "source": []
  },
  {
   "cell_type": "markdown",
   "metadata": {},
   "source": [
    "##### 3.6 Area\n",
    "Some of the areas are empty. Others start with an space or are written with coordinates."
   ]
  },
  {
   "cell_type": "code",
   "execution_count": null,
   "metadata": {},
   "outputs": [],
   "source": []
  },
  {
   "cell_type": "markdown",
   "metadata": {},
   "source": [
    "##### 3.7 Location\n",
    "Adds more info to *Area* column. It appears to be optional and the format varies greatly, so it will not be processed in this exercise."
   ]
  },
  {
   "cell_type": "markdown",
   "metadata": {},
   "source": [
    "##### 3.8 Activity\n",
    "Some are empty. Others could be unified (\"*swimming*\", \"*swimming vigorously*\", \"*swimming to canoe*\") for a better data analysis."
   ]
  },
  {
   "cell_type": "code",
   "execution_count": null,
   "metadata": {},
   "outputs": [],
   "source": []
  },
  {
   "cell_type": "markdown",
   "metadata": {},
   "source": [
    "##### 3.9 Name\n",
    "Names are not relevant for stats, so these won't be processed."
   ]
  },
  {
   "cell_type": "markdown",
   "metadata": {},
   "source": [
    "##### 3.10 Sex\n",
    "\"N\" and \".\" appears where only \"M\" and \"F\" were expected."
   ]
  },
  {
   "cell_type": "code",
   "execution_count": null,
   "metadata": {},
   "outputs": [],
   "source": []
  },
  {
   "cell_type": "markdown",
   "metadata": {},
   "source": [
    "##### 3.11 Age\n",
    "There are values with *int* type (only number) and others with *string* (\"*8 or 10*\", \"*from 7 to 14*\"...)"
   ]
  },
  {
   "cell_type": "code",
   "execution_count": null,
   "metadata": {},
   "outputs": [],
   "source": []
  },
  {
   "cell_type": "markdown",
   "metadata": {},
   "source": [
    "##### 3.12 Injury\n",
    "However, in some cases it provides extra information about the damage, so it can be kept as a human-readable value."
   ]
  },
  {
   "cell_type": "code",
   "execution_count": null,
   "metadata": {},
   "outputs": [],
   "source": []
  },
  {
   "cell_type": "markdown",
   "metadata": {},
   "source": [
    "##### 3.13 Fatal (Y/N)\n",
    "Only must show *\"Y\"*, *\"N\"* or *\"Unknown\"*. There are some typos with spaces."
   ]
  },
  {
   "cell_type": "code",
   "execution_count": null,
   "metadata": {},
   "outputs": [],
   "source": []
  },
  {
   "cell_type": "markdown",
   "metadata": {},
   "source": [
    "##### 3.14 Time\n",
    "*\"Afternoon\"* or *\"Morning\"* are mixed with the hours in numbered format."
   ]
  },
  {
   "cell_type": "code",
   "execution_count": null,
   "metadata": {},
   "outputs": [],
   "source": []
  },
  {
   "cell_type": "markdown",
   "metadata": {},
   "source": [
    "##### 3.15 Species\n",
    "That's anarchy I don't know anything 'bout sharkies please let me go my family is waiting for me."
   ]
  },
  {
   "cell_type": "markdown",
   "metadata": {},
   "source": [
    "##### 3.16 Investigator or Source\n",
    "Just more random people and data sources. To process it is to lose information without it helping the processing, so I will preserve it."
   ]
  },
  {
   "cell_type": "markdown",
   "metadata": {},
   "source": [
    "##### 3.17 pdf\n",
    "Okey!"
   ]
  },
  {
   "cell_type": "markdown",
   "metadata": {},
   "source": [
    "##### 3.18 href formula\n",
    "That seems nice."
   ]
  },
  {
   "cell_type": "markdown",
   "metadata": {},
   "source": [
    "##### 3.19 href\n",
    "And this too."
   ]
  },
  {
   "cell_type": "markdown",
   "metadata": {},
   "source": [
    "##### 3.20 Case Number\n",
    "Column is duplicated."
   ]
  },
  {
   "cell_type": "markdown",
   "metadata": {},
   "source": [
    "##### 3.21 Original order"
   ]
  }
 ],
 "metadata": {
  "kernelspec": {
   "display_name": "Python 3",
   "language": "python",
   "name": "python3"
  },
  "language_info": {
   "codemirror_mode": {
    "name": "ipython",
    "version": 3
   },
   "file_extension": ".py",
   "mimetype": "text/x-python",
   "name": "python",
   "nbconvert_exporter": "python",
   "pygments_lexer": "ipython3",
   "version": "3.7.3"
  }
 },
 "nbformat": 4,
 "nbformat_minor": 2
}
