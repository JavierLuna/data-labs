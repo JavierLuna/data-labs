{
 "cells": [
  {
   "cell_type": "markdown",
   "metadata": {},
   "source": [
    "## Tic-tac-toe"
   ]
  },
  {
   "cell_type": "code",
   "execution_count": 1,
   "metadata": {},
   "outputs": [],
   "source": [
    "import random\n",
    "\n",
    "tablero = [1,2,3,\n",
    "           4,5,6,\n",
    "           7,8,9]\n",
    "\n",
    "def tablero():\n",
    "    print(pos[1], pos[2], pos[3])\n",
    "    print(pos[4], pos[5], pos[6])\n",
    "    print(pos[7], pos[8], pos[9])\n",
    "\n",
    "def ficha_del_jugador():\n",
    "    letra = ''\n",
    "    while not (letra =='X' or letra == '0'):\n",
    "        print('¿Con que ficha quieres jugar X o O?')\n",
    "        letra = input().upper()\n",
    "    if letra == 'X':\n",
    "        return['X','O']\n",
    "    else:\n",
    "        return['O','X']\n",
    "    \n",
    "def turnos():\n",
    "    if random.randint(0,1) == 0:\n",
    "        return 'Jugador1'\n",
    "    else:\n",
    "        return 'Jugador2'\n",
    "    \n",
    "def movimiento(tablero, ficha, movimiento):\n",
    "    tablero[movimiento] = ficha\n",
    "\n",
    "def combi_ganador(ta,fi):\n",
    "    return ((ta[7] == fi and ta[8] == fi and ta[9] == fi) or \n",
    "    (ta[4] == fi and ta[5] == fi and ta[6] == fi) or \n",
    "    (ta[1] == fi and ta[2] == fi and ta[3] == fi) or \n",
    "    (ta[7] == fi and ta[4] == fi and ta[1] == fi) or \n",
    "    (ta[8] == fi and ta[5] == fi and ta[2] == fi) or \n",
    "    (ta[9] == fi and ta[6] == fi and ta[3] == fi) or \n",
    "    (ta[7] == fi and ta[5] == fi and ta[3] == fi) or \n",
    "    (ta[9] == fi and ta[5] == fi and ta[1] == fi))\n",
    "\n",
    "def espacio_libre(tablero,movimiento):\n",
    "    return tablero[movimiento] == ' '\n",
    "\n",
    "def movimientos(tablero):\n",
    "    movimiento = ' '\n",
    "    while movimiento not in '1 2 3 4 5 6 7 8 9'.split() or not espacio_libre(tablero, int(movimiento)):\n",
    "        print('¿Cual va a ser su próximo movimiento? (1-9)')\n",
    "        movimiento = input()\n",
    "    return int(movimiento)"
   ]
  },
  {
   "cell_type": "code",
   "execution_count": null,
   "metadata": {},
   "outputs": [],
   "source": []
  }
 ],
 "metadata": {
  "kernelspec": {
   "display_name": "Python 3",
   "language": "python",
   "name": "python3"
  },
  "language_info": {
   "codemirror_mode": {
    "name": "ipython",
    "version": 3
   },
   "file_extension": ".py",
   "mimetype": "text/x-python",
   "name": "python",
   "nbconvert_exporter": "python",
   "pygments_lexer": "ipython3",
   "version": "3.7.3"
  }
 },
 "nbformat": 4,
 "nbformat_minor": 2
}
