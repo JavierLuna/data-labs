{
 "cells": [
  {
   "cell_type": "markdown",
   "metadata": {},
   "source": [
    "# Numpy Lab\n",
    "Jupyter Notebook adapted from Python file"
   ]
  },
  {
   "cell_type": "markdown",
   "metadata": {},
   "source": [
    "### 1. Import the NUMPY package under the name np."
   ]
  },
  {
   "cell_type": "code",
   "execution_count": 1,
   "metadata": {},
   "outputs": [],
   "source": [
    "import numpy as np"
   ]
  },
  {
   "cell_type": "markdown",
   "metadata": {},
   "source": [
    "### 2. Print the NUMPY version and the configuration."
   ]
  },
  {
   "cell_type": "code",
   "execution_count": 2,
   "metadata": {},
   "outputs": [
    {
     "data": {
      "text/plain": [
       "'1.16.3'"
      ]
     },
     "execution_count": 2,
     "metadata": {},
     "output_type": "execute_result"
    }
   ],
   "source": [
    "np.version.version"
   ]
  },
  {
   "cell_type": "markdown",
   "metadata": {},
   "source": [
    "### 3. Generate a 2x3x5 3-dimensional array with random values. Assign the array to variable \"a\"\n",
    "Challenge: there are at least three easy ways that use numpy to generate random arrays. How many ways can you find?"
   ]
  },
  {
   "cell_type": "code",
   "execution_count": 3,
   "metadata": {},
   "outputs": [],
   "source": [
    "#First way\n",
    "a = np.arange(30).reshape(2,3,5)\n",
    "\n",
    "#Second way\n",
    "a = np.empty((2,3,5))\n",
    "\n",
    "#Third way\n",
    "a = np.random.rand(2,3,5)"
   ]
  },
  {
   "cell_type": "markdown",
   "metadata": {},
   "source": [
    "### 4. Print \"a\""
   ]
  },
  {
   "cell_type": "code",
   "execution_count": 4,
   "metadata": {},
   "outputs": [
    {
     "name": "stdout",
     "output_type": "stream",
     "text": [
      "[[[0.35771921 0.21244604 0.60685384 0.34150702 0.11015795]\n",
      "  [0.78938999 0.0146045  0.1506475  0.47492858 0.41771157]\n",
      "  [0.58680214 0.8081149  0.17356846 0.15660538 0.35692156]]\n",
      "\n",
      " [[0.38953425 0.7334023  0.14105449 0.79884332 0.14550975]\n",
      "  [0.54776456 0.84515025 0.99425462 0.12436473 0.99061843]\n",
      "  [0.26162101 0.64511213 0.31285054 0.47183866 0.40499508]]]\n"
     ]
    }
   ],
   "source": [
    "print(a)"
   ]
  },
  {
   "cell_type": "markdown",
   "metadata": {},
   "source": [
    "### 5. Create a 5x3x2 3-dimensional array with all values equaling 1. Assign the array to variable \"b\""
   ]
  },
  {
   "cell_type": "code",
   "execution_count": 5,
   "metadata": {},
   "outputs": [],
   "source": [
    "b = np.full((5,3,2), 1)"
   ]
  },
  {
   "cell_type": "markdown",
   "metadata": {},
   "source": [
    "### 6. Print \"b\""
   ]
  },
  {
   "cell_type": "code",
   "execution_count": 6,
   "metadata": {},
   "outputs": [
    {
     "name": "stdout",
     "output_type": "stream",
     "text": [
      "[[[1 1]\n",
      "  [1 1]\n",
      "  [1 1]]\n",
      "\n",
      " [[1 1]\n",
      "  [1 1]\n",
      "  [1 1]]\n",
      "\n",
      " [[1 1]\n",
      "  [1 1]\n",
      "  [1 1]]\n",
      "\n",
      " [[1 1]\n",
      "  [1 1]\n",
      "  [1 1]]\n",
      "\n",
      " [[1 1]\n",
      "  [1 1]\n",
      "  [1 1]]]\n"
     ]
    }
   ],
   "source": [
    "print(b)"
   ]
  },
  {
   "cell_type": "markdown",
   "metadata": {},
   "source": [
    "### 7. Do \"a\" and \"b\" have the same size? How do you prove that in Python code?"
   ]
  },
  {
   "cell_type": "code",
   "execution_count": 7,
   "metadata": {},
   "outputs": [
    {
     "name": "stdout",
     "output_type": "stream",
     "text": [
      "Do 'a' and 'b' have the same size?: True\n"
     ]
    }
   ],
   "source": [
    "print(\"Do 'a' and 'b' have the same size?:\", a.size == b.size)"
   ]
  },
  {
   "cell_type": "markdown",
   "metadata": {},
   "source": [
    "### 8. Are you able to add \"a\" and \"b\"? Why or why not?"
   ]
  },
  {
   "cell_type": "code",
   "execution_count": null,
   "metadata": {},
   "outputs": [],
   "source": [
    "#No, beacause arrays have different shapes"
   ]
  },
  {
   "cell_type": "markdown",
   "metadata": {},
   "source": [
    "### 9. Transpose \"b\" so that it has the same structure of \"a\" (i.e. become a 2x3x5 array). Assign the transposed array to variable \"c\"."
   ]
  },
  {
   "cell_type": "code",
   "execution_count": 8,
   "metadata": {},
   "outputs": [],
   "source": [
    "c = np.transpose(b)"
   ]
  },
  {
   "cell_type": "markdown",
   "metadata": {},
   "source": [
    "### 10. Try to add \"a\" and \"c\". Now it should work. Assign the sum to variable \"d\". But why does it work now?"
   ]
  },
  {
   "cell_type": "code",
   "execution_count": 9,
   "metadata": {},
   "outputs": [],
   "source": [
    "d = a+c #It works because both arrays have the same shape now "
   ]
  },
  {
   "cell_type": "markdown",
   "metadata": {},
   "source": [
    "### 11. Print \"a\" and \"d\". Notice the difference and relation of the two array in terms of the values? Explain."
   ]
  },
  {
   "cell_type": "code",
   "execution_count": 10,
   "metadata": {},
   "outputs": [
    {
     "name": "stdout",
     "output_type": "stream",
     "text": [
      "Array 'a':\n",
      " [[[0.35771921 0.21244604 0.60685384 0.34150702 0.11015795]\n",
      "  [0.78938999 0.0146045  0.1506475  0.47492858 0.41771157]\n",
      "  [0.58680214 0.8081149  0.17356846 0.15660538 0.35692156]]\n",
      "\n",
      " [[0.38953425 0.7334023  0.14105449 0.79884332 0.14550975]\n",
      "  [0.54776456 0.84515025 0.99425462 0.12436473 0.99061843]\n",
      "  [0.26162101 0.64511213 0.31285054 0.47183866 0.40499508]]] \n",
      "\n",
      "Array 'd':\n",
      " [[[1.35771921 1.21244604 1.60685384 1.34150702 1.11015795]\n",
      "  [1.78938999 1.0146045  1.1506475  1.47492858 1.41771157]\n",
      "  [1.58680214 1.8081149  1.17356846 1.15660538 1.35692156]]\n",
      "\n",
      " [[1.38953425 1.7334023  1.14105449 1.79884332 1.14550975]\n",
      "  [1.54776456 1.84515025 1.99425462 1.12436473 1.99061843]\n",
      "  [1.26162101 1.64511213 1.31285054 1.47183866 1.40499508]]]\n"
     ]
    }
   ],
   "source": [
    "print(\"Array 'a':\\n\", a, \"\\n\")\n",
    "\n",
    "print(\"Array 'd':\\n\", d)\n",
    "#Values of 'd' array equal to values in 'a'+1"
   ]
  },
  {
   "cell_type": "markdown",
   "metadata": {},
   "source": [
    "### 12. Multiply \"a\" and \"c\". Assign the result to \"e\"."
   ]
  },
  {
   "cell_type": "code",
   "execution_count": 11,
   "metadata": {},
   "outputs": [],
   "source": [
    "e = a*c"
   ]
  },
  {
   "cell_type": "markdown",
   "metadata": {},
   "source": [
    "### 13. Does \"e\" equal to \"a\"? Why or why not?"
   ]
  },
  {
   "cell_type": "code",
   "execution_count": 12,
   "metadata": {},
   "outputs": [
    {
     "data": {
      "text/plain": [
       "array([[[ True,  True,  True,  True,  True],\n",
       "        [ True,  True,  True,  True,  True],\n",
       "        [ True,  True,  True,  True,  True]],\n",
       "\n",
       "       [[ True,  True,  True,  True,  True],\n",
       "        [ True,  True,  True,  True,  True],\n",
       "        [ True,  True,  True,  True,  True]]])"
      ]
     },
     "execution_count": 12,
     "metadata": {},
     "output_type": "execute_result"
    }
   ],
   "source": [
    "e == a\n",
    "#Yes, because it was multiplied by one"
   ]
  },
  {
   "cell_type": "markdown",
   "metadata": {},
   "source": [
    "### 14. Identify the max, min, and mean values in \"d\". Assign those values to variables \"d_max\", \"d_min\", and \"d_mean\""
   ]
  },
  {
   "cell_type": "code",
   "execution_count": 13,
   "metadata": {},
   "outputs": [
    {
     "name": "stdout",
     "output_type": "stream",
     "text": [
      "'d' max: 1.994254624584845 \n",
      "'d' min: 1.014604504181328 \n",
      "'d' mean: 1.4454964255272071\n"
     ]
    }
   ],
   "source": [
    "d_max = d.max()\n",
    "d_min = d.min()\n",
    "d_mean = d.mean()\n",
    "\n",
    "print(\"'d' max:\", d_max, \"\\n'd' min:\", d_min, \"\\n'd' mean:\", d_mean)"
   ]
  },
  {
   "cell_type": "markdown",
   "metadata": {},
   "source": [
    "### 15. Now we want to label the values in \"d\". First create an empty array \"f\" with the same shape (i.e. 2x3x5) as \"d\"\n"
   ]
  },
  {
   "cell_type": "code",
   "execution_count": 20,
   "metadata": {},
   "outputs": [
    {
     "data": {
      "text/plain": [
       "array([[[0., 0., 0., 0., 0.],\n",
       "        [0., 0., 0., 0., 0.],\n",
       "        [0., 0., 0., 0., 0.]],\n",
       "\n",
       "       [[0., 0., 0., 0., 0.],\n",
       "        [0., 0., 0., 0., 0.],\n",
       "        [0., 0., 0., 0., 0.]]])"
      ]
     },
     "execution_count": 20,
     "metadata": {},
     "output_type": "execute_result"
    }
   ],
   "source": [
    "f = np.zeros([2,3,5])\n",
    "f"
   ]
  },
  {
   "cell_type": "markdown",
   "metadata": {},
   "source": [
    "### 16. Populate the values in f. For each value in \"d\", if it's larger than d_min but smaller than d_mean, assign 25 to the corresponding value in \"f\".\n",
    "- If a value in \"d\" is larger than d_mean but smaller than d_max, assign 75 to the corresponding value in \"f\".\n",
    "- If a value equals to d_mean, assign 50 to the corresponding value in f\"\".\n",
    "- Assign 0 to the corresponding value(s) in \"f\" for d_min in \"d\".\n",
    "- Assign 100 to the corresponding value(s) in \"f\" for d_max in \"d\".\n",
    "- In the end, \"f\" should have only the following values: 0, 25, 50, 75, and 100.\n",
    "\n",
    "Note: you don't have to use Numpy in this question."
   ]
  },
  {
   "cell_type": "code",
   "execution_count": 24,
   "metadata": {},
   "outputs": [
    {
     "data": {
      "text/plain": [
       "array([[[ 25.,  25.,  75.,  25.,  25.],\n",
       "        [ 75.,   0.,  25.,  75.,  25.],\n",
       "        [ 75.,  75.,  25.,  25.,  25.]],\n",
       "\n",
       "       [[ 25.,  75.,  25.,  75.,  25.],\n",
       "        [ 75.,  75., 100.,  25.,  75.],\n",
       "        [ 25.,  75.,  25.,  75.,  25.]]])"
      ]
     },
     "execution_count": 24,
     "metadata": {},
     "output_type": "execute_result"
    }
   ],
   "source": [
    "f = np.where(d < d_mean, 25, f)\n",
    "f = np.where(d > d_mean, 75, f)\n",
    "f = np.where(d == d_min, 0, f)\n",
    "f = np.where(d == d_mean, 50, f)\n",
    "f = np.where(d == d_max, 100, f)\n",
    "f"
   ]
  },
  {
   "cell_type": "markdown",
   "metadata": {},
   "source": [
    "### 17. Print \"d\" and \"f\". Do you have your expected \"f\"?\n",
    "For instance, if your d is:\n",
    "\n",
    "        array([[[1.85836099, 1.67064465, 1.62576044, 1.40243961, 1.88454931],\n",
    "                [1.75354326, 1.69403643, 1.36729252, 1.61415071, 1.12104981],\n",
    "                [1.72201435, 1.1862918 , 1.87078449, 1.7726778 , 1.88180042]],\n",
    "\n",
    "               [[1.44747908, 1.31673383, 1.02000951, 1.52218947, 1.97066381],    \n",
    "                [1.79129243, 1.74983003, 1.96028037, 1.85166831, 1.65450881],  \n",
    "                [1.18068344, 1.9587381 , 1.00656599, 1.93402165, 1.73514584]]])\n",
    "\n",
    "Your \"f\" should be:\n",
    "\n",
    "        array([[[ 75.,  75.,  75.,  25.,  75.],\n",
    "                [ 75.,  75.,  25.,  25.,  25.],\n",
    "                [ 75.,  25.,  75.,  75.,  75.]],\n",
    "\n",
    "               [[ 25.,  25.,  25.,  25., 100.],\n",
    "                [ 75.,  75.,  75.,  75.,  75.],\n",
    "                [ 25.,  75.,   0.,  75.,  75.]]])"
   ]
  },
  {
   "cell_type": "code",
   "execution_count": null,
   "metadata": {},
   "outputs": [],
   "source": [
    "print(\"Array 'd':\\n\", d, \"\\n\")\n",
    "\n",
    "print(\"Array 'f':\\n\", f)"
   ]
  },
  {
   "cell_type": "markdown",
   "metadata": {},
   "source": [
    "### 18. Bonus question: instead of using numbers (i.e. 0, 25, 50, 75, and 100), how to use string values (\"A\", \"B\", \"C\", \"D\", and \"E\") to label the array elements? \n",
    "You are expecting the result to be:\n",
    "    \n",
    "        array([[[ 'D',  'D',  'D',  'B',  'D'],\n",
    "                [ 'D',  'D',  'B',  'B',  'B'],\n",
    "                [ 'D',  'B',  'D',  'D',  'D']],\n",
    "\n",
    "               [[ 'B',  'B',  'B',  'B',  'E'],\n",
    "                [ 'D',  'D',  'D',  'D',  'D'],\n",
    "                [ 'B',  'D',   'A',  'D', 'D']]])\n",
    "                \n",
    "\n",
    "Again, you don't need Numpy in this question."
   ]
  },
  {
   "cell_type": "code",
   "execution_count": 28,
   "metadata": {},
   "outputs": [
    {
     "data": {
      "text/plain": [
       "array([[['B', 'B', 'D', 'B', 'B'],\n",
       "        ['D', 'A', 'B', 'D', 'B'],\n",
       "        ['D', 'D', 'B', 'B', 'B']],\n",
       "\n",
       "       [['B', 'D', 'B', 'D', 'B'],\n",
       "        ['D', 'D', 'E', 'B', 'D'],\n",
       "        ['B', 'D', 'B', 'D', 'B']]], dtype='<U32')"
      ]
     },
     "execution_count": 28,
     "metadata": {},
     "output_type": "execute_result"
    }
   ],
   "source": [
    "f = np.where(d < d_mean, \"B\", f)\n",
    "f = np.where(d > d_mean, \"D\", f)\n",
    "f = np.where(d == d_min, \"A\", f)\n",
    "f = np.where(d == d_mean, \"C\", f)\n",
    "f = np.where(d == d_max, \"E\", f)\n",
    "f"
   ]
  }
 ],
 "metadata": {
  "kernelspec": {
   "display_name": "Python 3",
   "language": "python",
   "name": "python3"
  },
  "language_info": {
   "codemirror_mode": {
    "name": "ipython",
    "version": 3
   },
   "file_extension": ".py",
   "mimetype": "text/x-python",
   "name": "python",
   "nbconvert_exporter": "python",
   "pygments_lexer": "ipython3",
   "version": "3.7.3"
  }
 },
 "nbformat": 4,
 "nbformat_minor": 2
}
