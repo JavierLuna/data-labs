{
 "cells": [
  {
   "cell_type": "markdown",
   "metadata": {},
   "source": [
    "# List Comprehensions Lab\n",
    "\n",
    "Complete the following set of exercises to solidify your knowledge of list comprehensions."
   ]
  },
  {
   "cell_type": "code",
   "execution_count": 1,
   "metadata": {},
   "outputs": [],
   "source": [
    "import os\n",
    "import numpy as np\n",
    "import pandas as pd"
   ]
  },
  {
   "cell_type": "markdown",
   "metadata": {},
   "source": [
    "### 1. Use a list comprehension to create and print a list of consecutive integers starting with 1 and ending with 50."
   ]
  },
  {
   "cell_type": "code",
   "execution_count": 2,
   "metadata": {},
   "outputs": [
    {
     "name": "stdout",
     "output_type": "stream",
     "text": [
      "[1, 2, 3, 4, 5, 6, 7, 8, 9, 10, 11, 12, 13, 14, 15, 16, 17, 18, 19, 20, 21, 22, 23, 24, 25, 26, 27, 28, 29, 30, 31, 32, 33, 34, 35, 36, 37, 38, 39, 40, 41, 42, 43, 44, 45, 46, 47, 48, 49, 50]\n"
     ]
    }
   ],
   "source": [
    "print([x for x in range(1,51)])"
   ]
  },
  {
   "cell_type": "markdown",
   "metadata": {},
   "source": [
    "### 2. Use a list comprehension to create and print a list of even numbers starting with 2 and ending with 200."
   ]
  },
  {
   "cell_type": "code",
   "execution_count": 3,
   "metadata": {},
   "outputs": [
    {
     "name": "stdout",
     "output_type": "stream",
     "text": [
      "[2, 4, 6, 8, 10, 12, 14, 16, 18, 20, 22, 24, 26, 28, 30, 32, 34, 36, 38, 40, 42, 44, 46, 48, 50, 52, 54, 56, 58, 60, 62, 64, 66, 68, 70, 72, 74, 76, 78, 80, 82, 84, 86, 88, 90, 92, 94, 96, 98, 100, 102, 104, 106, 108, 110, 112, 114, 116, 118, 120, 122, 124, 126, 128, 130, 132, 134, 136, 138, 140, 142, 144, 146, 148, 150, 152, 154, 156, 158, 160, 162, 164, 166, 168, 170, 172, 174, 176, 178, 180, 182, 184, 186, 188, 190, 192, 194, 196, 198, 200]\n"
     ]
    }
   ],
   "source": [
    "print ([x for x in range(2,201) if x % 2==0])"
   ]
  },
  {
   "cell_type": "markdown",
   "metadata": {},
   "source": [
    "### 3. Use a list comprehension to create and print a list containing all elements of the 10 x 4 Numpy array below."
   ]
  },
  {
   "cell_type": "code",
   "execution_count": 4,
   "metadata": {},
   "outputs": [],
   "source": [
    "a = np.array([[0.84062117, 0.48006452, 0.7876326 , 0.77109654],\n",
    "       [0.44409793, 0.09014516, 0.81835917, 0.87645456],\n",
    "       [0.7066597 , 0.09610873, 0.41247947, 0.57433389],\n",
    "       [0.29960807, 0.42315023, 0.34452557, 0.4751035 ],\n",
    "       [0.17003563, 0.46843998, 0.92796258, 0.69814654],\n",
    "       [0.41290051, 0.19561071, 0.16284783, 0.97016248],\n",
    "       [0.71725408, 0.87702738, 0.31244595, 0.76615487],\n",
    "       [0.20754036, 0.57871812, 0.07214068, 0.40356048],\n",
    "       [0.12149553, 0.53222417, 0.9976855 , 0.12536346],\n",
    "       [0.80930099, 0.50962849, 0.94555126, 0.33364763]])\n",
    "\n"
   ]
  },
  {
   "cell_type": "code",
   "execution_count": 5,
   "metadata": {},
   "outputs": [
    {
     "name": "stdout",
     "output_type": "stream",
     "text": [
      "[0.84062117, 0.48006452, 0.7876326, 0.77109654, 0.44409793, 0.09014516, 0.81835917, 0.87645456, 0.7066597, 0.09610873, 0.41247947, 0.57433389, 0.29960807, 0.42315023, 0.34452557, 0.4751035, 0.17003563, 0.46843998, 0.92796258, 0.69814654, 0.41290051, 0.19561071, 0.16284783, 0.97016248, 0.71725408, 0.87702738, 0.31244595, 0.76615487, 0.20754036, 0.57871812, 0.07214068, 0.40356048, 0.12149553, 0.53222417, 0.9976855, 0.12536346, 0.80930099, 0.50962849, 0.94555126, 0.33364763]\n"
     ]
    }
   ],
   "source": [
    "print([segundo_nivel for primer_nivel in a for segundo_nivel in primer_nivel])"
   ]
  },
  {
   "cell_type": "markdown",
   "metadata": {},
   "source": [
    "### 4. Add a condition to the list comprehension above so that only values greater than or equal to 0.5 are printed."
   ]
  },
  {
   "cell_type": "code",
   "execution_count": 6,
   "metadata": {},
   "outputs": [
    {
     "name": "stdout",
     "output_type": "stream",
     "text": [
      "[0.84062117, 0.7876326, 0.77109654, 0.81835917, 0.87645456, 0.7066597, 0.57433389, 0.92796258, 0.69814654, 0.97016248, 0.71725408, 0.87702738, 0.76615487, 0.57871812, 0.53222417, 0.9976855, 0.80930099, 0.50962849, 0.94555126]\n"
     ]
    }
   ],
   "source": [
    "print([segundo_nivel for primer_nivel in a for segundo_nivel in primer_nivel if segundo_nivel>=0.5])"
   ]
  },
  {
   "cell_type": "markdown",
   "metadata": {},
   "source": [
    "### 5. Use a list comprehension to create and print a list containing all elements of the 5 x 2 x 3 Numpy array below."
   ]
  },
  {
   "cell_type": "code",
   "execution_count": 7,
   "metadata": {},
   "outputs": [],
   "source": [
    "b = np.array([[[0.55867166, 0.06210792, 0.08147297],\n",
    "        [0.82579068, 0.91512478, 0.06833034]],\n",
    "\n",
    "       [[0.05440634, 0.65857693, 0.30296619],\n",
    "        [0.06769833, 0.96031863, 0.51293743]],\n",
    "\n",
    "       [[0.09143215, 0.71893382, 0.45850679],\n",
    "        [0.58256464, 0.59005654, 0.56266457]],\n",
    "\n",
    "       [[0.71600294, 0.87392666, 0.11434044],\n",
    "        [0.8694668 , 0.65669313, 0.10708681]],\n",
    "\n",
    "       [[0.07529684, 0.46470767, 0.47984544],\n",
    "        [0.65368638, 0.14901286, 0.23760688]]])"
   ]
  },
  {
   "cell_type": "code",
   "execution_count": 8,
   "metadata": {},
   "outputs": [
    {
     "name": "stdout",
     "output_type": "stream",
     "text": [
      "[0.55867166, 0.06210792, 0.08147297, 0.82579068, 0.91512478, 0.06833034, 0.05440634, 0.65857693, 0.30296619, 0.06769833, 0.96031863, 0.51293743, 0.09143215, 0.71893382, 0.45850679, 0.58256464, 0.59005654, 0.56266457, 0.71600294, 0.87392666, 0.11434044, 0.8694668, 0.65669313, 0.10708681, 0.07529684, 0.46470767, 0.47984544, 0.65368638, 0.14901286, 0.23760688]\n"
     ]
    }
   ],
   "source": [
    "print([tercer_nivel for primer_nivel in b for segundo_nivel in primer_nivel for tercer_nivel in segundo_nivel])"
   ]
  },
  {
   "cell_type": "markdown",
   "metadata": {},
   "source": [
    "### 5. Add a condition to the list comprehension above so that the last value in each subarray is printed, but only if it is less than or equal to 0.5."
   ]
  },
  {
   "cell_type": "code",
   "execution_count": 9,
   "metadata": {},
   "outputs": [
    {
     "name": "stdout",
     "output_type": "stream",
     "text": [
      "[0.08147297, 0.06833034, 0.30296619, 0.51293743, 0.45850679, 0.56266457, 0.11434044, 0.10708681, 0.47984544, 0.23760688]\n"
     ]
    }
   ],
   "source": [
    "print([segundo_nivel[-1] for primer_nivel in b for segundo_nivel in primer_nivel if segundo_nivel[-1]>0.05])"
   ]
  },
  {
   "cell_type": "markdown",
   "metadata": {},
   "source": [
    "### 6. Use a list comprehension to select and print the names of all CSV files in the */data* directory."
   ]
  },
  {
   "cell_type": "code",
   "execution_count": 10,
   "metadata": {},
   "outputs": [
    {
     "name": "stdout",
     "output_type": "stream",
     "text": [
      "['sample_file_0.csv', 'sample_file_1.csv', 'sample_file_2.csv', 'sample_file_3.csv', 'sample_file_4.csv', 'sample_file_5.csv', 'sample_file_6.csv', 'sample_file_7.csv', 'sample_file_8.csv', 'sample_file_9.csv']\n"
     ]
    }
   ],
   "source": [
    "path = '..//data//'\n",
    "os.chdir(path)\n",
    "print([archivo for archivo in os.listdir(\".//\") if archivo[-3:] in 'csv'])"
   ]
  },
  {
   "cell_type": "markdown",
   "metadata": {},
   "source": [
    "### 7. Use a list comprehension and the Pandas `read_csv` and `concat` methods to read all CSV files in the */data* directory and combine them into a single data frame. Display the top 10 rows of the resulting data frame."
   ]
  },
  {
   "cell_type": "code",
   "execution_count": 11,
   "metadata": {
    "scrolled": false
   },
   "outputs": [
    {
     "name": "stdout",
     "output_type": "stream",
     "text": [
      "           0         1         2         3         4         5         6  \\\n",
      "0   0.734751  0.195362  0.734309  0.598184  0.763433  0.263434  0.868066   \n",
      "1   0.772607  0.445391  0.249642  0.787922  0.598583  0.827238  0.624126   \n",
      "2   0.226428  0.268764  0.694262  0.622335  0.063843  0.122683  0.815625   \n",
      "3   0.362748  0.495430  0.113876  0.594149  0.612522  0.625204  0.864050   \n",
      "4   0.033415  0.340433  0.464971  0.363737  0.025815  0.434129  0.415163   \n",
      "5   0.734751  0.195362  0.734309  0.598184  0.763433  0.263434  0.868066   \n",
      "6   0.772607  0.445391  0.249642  0.787922  0.598583  0.827238  0.624126   \n",
      "7   0.226428  0.268764  0.694262  0.622335  0.063843  0.122683  0.815625   \n",
      "8   0.362748  0.495430  0.113876  0.594149  0.612522  0.625204  0.864050   \n",
      "9   0.033415  0.340433  0.464971  0.363737  0.025815  0.434129  0.415163   \n",
      "10  0.276827  0.260054  0.942397  0.113187  0.781355  0.475740  0.152061   \n",
      "\n",
      "           7         8         9        10        11        12        13  \\\n",
      "0   0.058092  0.753502  0.587513  0.311608  0.178356  0.182922  0.147631   \n",
      "1   0.601524  0.688753  0.338870  0.081595  0.471474  0.267443  0.453351   \n",
      "2   0.584542  0.032594  0.589775  0.764350  0.650973  0.565705  0.691784   \n",
      "3   0.260279  0.528873  0.168043  0.715929  0.677014  0.175735  0.632370   \n",
      "4   0.892210  0.381701  0.415264  0.790801  0.696930  0.819751  0.944029   \n",
      "5   0.058092  0.753502  0.587513  0.311608  0.178356  0.182922  0.147631   \n",
      "6   0.601524  0.688753  0.338870  0.081595  0.471474  0.267443  0.453351   \n",
      "7   0.584542  0.032594  0.589775  0.764350  0.650973  0.565705  0.691784   \n",
      "8   0.260279  0.528873  0.168043  0.715929  0.677014  0.175735  0.632370   \n",
      "9   0.892210  0.381701  0.415264  0.790801  0.696930  0.819751  0.944029   \n",
      "10  0.250324  0.147078  0.162984  0.977025  0.509619  0.593212  0.911839   \n",
      "\n",
      "          14        15        16        17        18        19  \n",
      "0   0.391188  0.816049  0.749068  0.293260  0.937828  0.880858  \n",
      "1   0.800716  0.045749  0.683793  0.389789  0.016787  0.503695  \n",
      "2   0.265223  0.739031  0.560394  0.334802  0.517694  0.646110  \n",
      "3   0.926715  0.085675  0.120525  0.141746  0.771144  0.489660  \n",
      "4   0.869965  0.041723  0.819140  0.676051  0.109349  0.872947  \n",
      "5   0.391188  0.816049  0.749068  0.293260  0.937828  0.880858  \n",
      "6   0.800716  0.045749  0.683793  0.389789  0.016787  0.503695  \n",
      "7   0.265223  0.739031  0.560394  0.334802  0.517694  0.646110  \n",
      "8   0.926715  0.085675  0.120525  0.141746  0.771144  0.489660  \n",
      "9   0.869965  0.041723  0.819140  0.676051  0.109349  0.872947  \n",
      "10  0.257645  0.386457  0.696932  0.069162  0.952291  0.286542  \n"
     ]
    }
   ],
   "source": [
    "path = '..//data//'\n",
    "os.chdir(path)\n",
    "\n",
    "dfs=[pd.DataFrame(pd.read_csv(file)) for file in os.listdir(\".//\")]\n",
    "dfConcat=pd.concat(dfs,ignore_index=True)\n",
    "print(dfConcat[:11])\n"
   ]
  },
  {
   "cell_type": "markdown",
   "metadata": {},
   "source": [
    "### 8. Use a list comprehension to select and print the column numbers for columns from the data set whose median is less than 0.48."
   ]
  },
  {
   "cell_type": "code",
   "execution_count": 12,
   "metadata": {},
   "outputs": [
    {
     "name": "stdout",
     "output_type": "stream",
     "text": [
      "['2', '9', '12', '14', '17']\n"
     ]
    }
   ],
   "source": [
    "print([columna for columna in dfConcat.columns if np.median(dfConcat[columna])<0.48])"
   ]
  },
  {
   "cell_type": "markdown",
   "metadata": {},
   "source": [
    "### 9. Use a list comprehension to add a new column (20) to the data frame whose values are the values in column 19 minus 0.1. Display the top 10 rows of the resulting data frame."
   ]
  },
  {
   "cell_type": "code",
   "execution_count": 13,
   "metadata": {},
   "outputs": [
    {
     "name": "stdout",
     "output_type": "stream",
     "text": [
      "0     0.980858\n",
      "1     0.603695\n",
      "2     0.746110\n",
      "3     0.589660\n",
      "4     0.972947\n",
      "5     0.980858\n",
      "6     0.603695\n",
      "7     0.746110\n",
      "8     0.589660\n",
      "9     0.972947\n",
      "10    0.386542\n",
      "11    0.672232\n",
      "12    0.589528\n",
      "13    0.346594\n",
      "14    0.579022\n",
      "15    0.386542\n",
      "16    0.672232\n",
      "17    0.589528\n",
      "18    0.346594\n",
      "19    0.579022\n",
      "20    0.903393\n",
      "21    1.064889\n",
      "22    0.413071\n",
      "23    0.973029\n",
      "24    0.768447\n",
      "25    0.903393\n",
      "26    1.064889\n",
      "27    0.413071\n",
      "28    0.973029\n",
      "29    0.768447\n",
      "        ...   \n",
      "70    0.395344\n",
      "71    0.677262\n",
      "72    0.102596\n",
      "73    1.026007\n",
      "74    0.892851\n",
      "75    0.395344\n",
      "76    0.677262\n",
      "77    0.102596\n",
      "78    1.026007\n",
      "79    0.892851\n",
      "80    1.068681\n",
      "81    1.066198\n",
      "82    0.824486\n",
      "83    0.937695\n",
      "84    0.498914\n",
      "85    1.068681\n",
      "86    1.066198\n",
      "87    0.824486\n",
      "88    0.937695\n",
      "89    0.498914\n",
      "90    0.449845\n",
      "91    0.616899\n",
      "92    0.297592\n",
      "93    0.548124\n",
      "94    0.688319\n",
      "95    0.449845\n",
      "96    0.616899\n",
      "97    0.297592\n",
      "98    0.548124\n",
      "99    0.688319\n",
      "Name: 20, Length: 100, dtype: float64\n"
     ]
    }
   ],
   "source": [
    "dfConcat['20']=[valor + 0.1 for valor in dfConcat['19']]\n",
    "print(dfConcat['20'])"
   ]
  },
  {
   "cell_type": "markdown",
   "metadata": {},
   "source": [
    "### 10. Use a list comprehension to extract and print all values from the data set that are between 0.7 and 0.75."
   ]
  },
  {
   "cell_type": "code",
   "execution_count": 77,
   "metadata": {},
   "outputs": [
    {
     "name": "stdout",
     "output_type": "stream",
     "text": [
      "[0.7347510852128797, 0.7343092314001137, 0.7490680818183477, 0.7390312927111312, 0.7461102531556266, 0.7159290265157912, 0.7347510852128797, 0.7343092314001137, 0.7490680818183477, 0.7390312927111312, 0.7461102531556266, 0.7159290265157912, 0.7356923324968598, 0.7357618655811269, 0.7306642125209889, 0.7356923324968598, 0.7357618655811269, 0.7306642125209889, 0.7013619954419494, 0.7396561066717461, 0.7013619954419494, 0.7396561066717461, 0.7045750112959754, 0.7045750112959754, 0.7383982036983279, 0.7178166705957928, 0.7088042362916818, 0.7374449181749492, 0.7264121114538001, 0.7133695725698419, 0.7383982036983279, 0.7178166705957928, 0.7088042362916818, 0.7374449181749492, 0.7264121114538001, 0.7133695725698419, 0.7476323136755818, 0.7268545088531969, 0.7111584953876777, 0.7008930873050235, 0.7209375615129192, 0.7303553716733908, 0.7476323136755818, 0.7268545088531969, 0.7111584953876777, 0.7008930873050235, 0.7209375615129192, 0.7303553716733908, 0.7025657075988269, 0.7298115760258881, 0.7294980584878026, 0.7215147068185102, 0.7130781095091867, 0.7393833032570581, 0.7258310816144985, 0.7025657075988269, 0.7298115760258881, 0.7294980584878026, 0.7215147068185102, 0.7130781095091867, 0.7393833032570581, 0.7258310816144985, 0.7358941798147411, 0.736029494090402, 0.7085098152301276, 0.7472962776291713, 0.7329024831531535, 0.7124169515124726, 0.71223975981198, 0.7365416322783028, 0.7358941798147411, 0.736029494090402, 0.7085098152301276, 0.7472962776291713, 0.7329024831531535, 0.7124169515124726, 0.71223975981198, 0.7365416322783028, 0.7133690799930356, 0.7078738356977186, 0.7032248108904495, 0.7196096371031628, 0.7244863338885654, 0.7321533684342264, 0.7132714209987683, 0.7023481768180954, 0.7133690799930356, 0.7078738356977186, 0.7032248108904495, 0.7196096371031628, 0.7244863338885654, 0.7321533684342264, 0.7132714209987683, 0.7023481768180954, 0.7051334608870933, 0.7280006345208285, 0.7150799992177622, 0.7321333453970806, 0.7173964318670598, 0.7051334608870933, 0.7280006345208285, 0.7150799992177622, 0.7321333453970806, 0.7173964318670598]\n"
     ]
    }
   ],
   "source": [
    "\n",
    "print([valor for fila in range(dfConcat.shape[0])for valor in dfConcat.loc[fila] if valor>=0.7 and valor<=0.75])\n"
   ]
  },
  {
   "cell_type": "code",
   "execution_count": null,
   "metadata": {},
   "outputs": [],
   "source": []
  }
 ],
 "metadata": {
  "kernelspec": {
   "display_name": "Python 3",
   "language": "python",
   "name": "python3"
  },
  "language_info": {
   "codemirror_mode": {
    "name": "ipython",
    "version": 3
   },
   "file_extension": ".py",
   "mimetype": "text/x-python",
   "name": "python",
   "nbconvert_exporter": "python",
   "pygments_lexer": "ipython3",
   "version": "3.6.7"
  }
 },
 "nbformat": 4,
 "nbformat_minor": 2
}
