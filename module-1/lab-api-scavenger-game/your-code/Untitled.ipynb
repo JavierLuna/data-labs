{
 "cells": [
  {
   "cell_type": "code",
   "execution_count": 1,
   "metadata": {},
   "outputs": [],
   "source": [
    "from pprint import pprint\n",
    "\n",
    "import requests"
   ]
  },
  {
   "cell_type": "code",
   "execution_count": 2,
   "metadata": {},
   "outputs": [],
   "source": [
    "headers = {'User-Agent': \"Mozilla/5.0 (Macintosh; Intel Mac OS X 10.12; rv:66.0) Gecko/20100101 Firefox/66.0\"}\n",
    "\n",
    "askreddit_url = \"https://www.reddit.com/r/AskReddit/comments/byvv6d/nonaustralians_who_visited_australia_for_the/\""
   ]
  },
  {
   "cell_type": "code",
   "execution_count": 12,
   "metadata": {},
   "outputs": [],
   "source": [
    "def get_subreddit_posts(subreddit_url):\n",
    "    subreddit_url = subreddit_url if subreddit_url.endswith('.json') else subreddit_url + '.json'\n",
    "    response = requests.get(subreddit_url, headers=headers)\n",
    "    raw_posts = response.json()[0]['data']['children']\n",
    "\n",
    "    posts = []\n",
    "    for raw_post in raw_posts:\n",
    "        post = {}\n",
    "        raw_post = raw_post['data']\n",
    "        post['titulo'] = raw_post['title']\n",
    "        post['score'] = raw_post['score']\n",
    "        post['url'] = raw_post['url']\n",
    "        post['num_comments'] = raw_post['num_comments']\n",
    "\n",
    "        posts.append(post)\n",
    "    return posts"
   ]
  },
  {
   "cell_type": "code",
   "execution_count": 30,
   "metadata": {},
   "outputs": [
    {
     "name": "stdout",
     "output_type": "stream",
     "text": [
      "['approved_at_utc', 'subreddit', 'selftext', 'user_reports', 'saved', 'mod_reason_title', 'gilded', 'clicked', 'title', 'link_flair_richtext', 'subreddit_name_prefixed', 'hidden', 'pwls', 'link_flair_css_class', 'downs', 'parent_whitelist_status', 'hide_score', 'name', 'quarantine', 'link_flair_text_color', 'upvote_ratio', 'author_flair_background_color', 'subreddit_type', 'ups', 'total_awards_received', 'media_embed', 'author_flair_template_id', 'is_original_content', 'author_fullname', 'secure_media', 'is_reddit_media_domain', 'is_meta', 'category', 'secure_media_embed', 'link_flair_text', 'can_mod_post', 'score', 'approved_by', 'thumbnail', 'edited', 'author_flair_css_class', 'author_flair_richtext', 'gildings', 'content_categories', 'is_self', 'mod_note', 'created', 'link_flair_type', 'wls', 'banned_by', 'author_flair_type', 'domain', 'selftext_html', 'likes', 'suggested_sort', 'banned_at_utc', 'view_count', 'archived', 'no_follow', 'is_crosspostable', 'pinned', 'over_18', 'all_awardings', 'media', 'media_only', 'can_gild', 'spoiler', 'locked', 'author_flair_text', 'visited', 'num_reports', 'distinguished', 'subreddit_id', 'mod_reason_by', 'removal_reason', 'link_flair_background_color', 'id', 'is_robot_indexable', 'report_reasons', 'author', 'num_crossposts', 'num_comments', 'send_replies', 'contest_mode', 'author_patreon_flair', 'author_flair_text_color', 'permalink', 'whitelist_status', 'stickied', 'url', 'subreddit_subscribers', 'created_utc', 'mod_reports', 'is_video']\n"
     ]
    }
   ],
   "source": [
    "askreddit_url = askreddit_url if askreddit_url.endswith('.json') else askreddit_url + '.json'\n",
    "response = requests.get(askreddit_url, headers=headers)\n",
    "raw_posts = response.json()[0]['data']['children'][0]['data']\n",
    "items = list(raw_posts.keys())\n",
    "\n",
    "print(items)\n",
    "\n"
   ]
  },
  {
   "cell_type": "code",
   "execution_count": 13,
   "metadata": {},
   "outputs": [
    {
     "name": "stdout",
     "output_type": "stream",
     "text": [
      "[{'num_comments': 276,\n",
      "  'score': 120,\n",
      "  'titulo': 'Non-australians who visited Australia for the first time, what '\n",
      "            'surprised you the most?',\n",
      "  'url': 'https://www.reddit.com/r/AskReddit/comments/byvv6d/nonaustralians_who_visited_australia_for_the/'}]\n"
     ]
    }
   ],
   "source": [
    "pprint(get_subreddit_posts(askreddit_url))"
   ]
  },
  {
   "cell_type": "code",
   "execution_count": null,
   "metadata": {},
   "outputs": [],
   "source": []
  }
 ],
 "metadata": {
  "kernelspec": {
   "display_name": "Python 3",
   "language": "python",
   "name": "python3"
  },
  "language_info": {
   "codemirror_mode": {
    "name": "ipython",
    "version": 3
   },
   "file_extension": ".py",
   "mimetype": "text/x-python",
   "name": "python",
   "nbconvert_exporter": "python",
   "pygments_lexer": "ipython3",
   "version": "3.7.3"
  }
 },
 "nbformat": 4,
 "nbformat_minor": 2
}
