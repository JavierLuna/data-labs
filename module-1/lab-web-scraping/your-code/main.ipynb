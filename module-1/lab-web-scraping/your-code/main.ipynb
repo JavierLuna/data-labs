{
 "cells": [
  {
   "cell_type": "markdown",
   "metadata": {},
   "source": [
    "# Web Scraping Lab\n",
    "\n",
    "You will find in this notebook some scrapy exercises to practise your scraping skills.\n",
    "\n",
    "**Tips:**\n",
    "\n",
    "- Check the response status code for each request to ensure you have obtained the intended contennt.\n",
    "- Print the response text in each request to understand the kind of info you are getting and its format.\n",
    "- Check for patterns in the response text to extract the data/info requested in each question.\n",
    "- Visit each url and take a look at its source through Chrome DevTools. You'll need to identify the html tags, special class names etc. used for the html content you are expected to extract."
   ]
  },
  {
   "cell_type": "markdown",
   "metadata": {},
   "source": [
    "- [Requests library](http://docs.python-requests.org/en/master/#the-user-guide) documentation \n",
    "- [Beautiful Soup Doc](https://www.crummy.com/software/BeautifulSoup/bs4/doc/)\n",
    "- [Urllib](https://docs.python.org/3/library/urllib.html#module-urllib)\n",
    "- [re lib](https://docs.python.org/3/library/re.html)\n",
    "- [lxml lib](https://lxml.de/)\n",
    "- [Scrapy](https://scrapy.org/)\n",
    "- [List of HTTP status codes](https://en.wikipedia.org/wiki/List_of_HTTP_status_codes)\n",
    "- [HTML basics](http://www.simplehtmlguide.com/cheatsheet.php)\n",
    "- [CSS basics](https://www.cssbasics.com/#page_start)"
   ]
  },
  {
   "cell_type": "markdown",
   "metadata": {},
   "source": [
    "#### Below are the libraries and modules you may need. `requests`,  `BeautifulSoup` and `pandas` are imported for you. If you prefer to use additional libraries feel free to uncomment them."
   ]
  },
  {
   "cell_type": "code",
   "execution_count": 1,
   "metadata": {},
   "outputs": [],
   "source": [
    "import requests\n",
    "from bs4 import BeautifulSoup\n",
    "import pandas as pd\n",
    "from pprint import pprint\n",
    "# from lxml import html\n",
    "# from lxml.html import fromstring\n",
    "# import urllib.request\n",
    "# from urllib.request import urlopen\n",
    "# import random\n",
    "# import re\n",
    "# import scrapy"
   ]
  },
  {
   "cell_type": "markdown",
   "metadata": {},
   "source": [
    "#### Download, parse (using BeautifulSoup), and print the content from the Trending Developers page from GitHub:"
   ]
  },
  {
   "cell_type": "code",
   "execution_count": 2,
   "metadata": {},
   "outputs": [],
   "source": [
    "# This is the url you will scrape in this exercise\n",
    "URL_DEVELOPERS = 'https://github.com/trending/developers'"
   ]
  },
  {
   "cell_type": "code",
   "execution_count": 3,
   "metadata": {},
   "outputs": [
    {
     "name": "stdout",
     "output_type": "stream",
     "text": [
      "[]\n"
     ]
    }
   ],
   "source": [
    "#your code\n",
    "#search for   <a class=\"js-selected-navigation-item selected tabnav-tab\" aria-current=\"page\" data-selected-links=\"trending_developers /trending/developers\" href=\"/trending/developers\">Developers</a>\n",
    "response = requests.get(URL_DEVELOPERS)\n",
    "soup = BeautifulSoup(response.text, \"html.parser\")\n",
    "\n",
    "developers_cont = soup.find_all('h2',{'class','f3 text-normal'})\n",
    "#print(developers_cont)\n",
    "\n",
    "developers_info = [developer.text.replace(\" \",\"\").replace(\"\\n\",\"\") for developer in developers_cont]\n",
    "print(developers_info)\n",
    "for developer in developers_info:\n",
    "    index_alias = developer.find(\"(\")\n",
    "    alias = developer[0:index_alias]\n",
    "    name = developer[index_alias+1:-2]\n",
    "    print (alias, name)"
   ]
  },
  {
   "cell_type": "markdown",
   "metadata": {},
   "source": [
    "#### Display the names of the trending developers retrieved in the previous step.\n",
    "\n",
    "Your output should be a Python list of developer names. Each name should not contain any html tag.\n",
    "\n",
    "**Instructions:**\n",
    "\n",
    "1. Find out the html tag and class names used for the developer names. You can achieve this using Chrome DevTools.\n",
    "\n",
    "1. Use BeautifulSoup to extract all the html elements that contain the developer names.\n",
    "\n",
    "1. Use string manipulation techniques to replace whitespaces and linebreaks (i.e. `\\n`) in the *text* of each html element. Use a list to store the clean names.\n",
    "\n",
    "1. Print the list of names.\n",
    "\n",
    "Your output should look like below:\n",
    "\n",
    "```\n",
    "['trimstray (@trimstray)',\n",
    " 'joewalnes (JoeWalnes)',\n",
    " 'charlax (Charles-AxelDein)',\n",
    " 'ForrestKnight (ForrestKnight)',\n",
    " 'revery-ui (revery-ui)',\n",
    " 'alibaba (Alibaba)',\n",
    " 'Microsoft (Microsoft)',\n",
    " 'github (GitHub)',\n",
    " 'facebook (Facebook)',\n",
    " 'boazsegev (Bo)',\n",
    " 'google (Google)',\n",
    " 'cloudfetch',\n",
    " 'sindresorhus (SindreSorhus)',\n",
    " 'tensorflow',\n",
    " 'apache (TheApacheSoftwareFoundation)',\n",
    " 'DevonCrawford (DevonCrawford)',\n",
    " 'ARMmbed (ArmMbed)',\n",
    " 'vuejs (vuejs)',\n",
    " 'fastai (fast.ai)',\n",
    " 'QiShaoXuan (Qi)',\n",
    " 'joelparkerhenderson (JoelParkerHenderson)',\n",
    " 'torvalds (LinusTorvalds)',\n",
    " 'CyC2018',\n",
    " 'komeiji-satori (神楽坂覚々)',\n",
    " 'script-8']\n",
    " ```"
   ]
  },
  {
   "cell_type": "code",
   "execution_count": 4,
   "metadata": {},
   "outputs": [
    {
     "name": "stdout",
     "output_type": "stream",
     "text": [
      "[]\n"
     ]
    }
   ],
   "source": [
    "#search for   <a class=\"js-selected-navigation-item selected tabnav-tab\" aria-current=\"page\" data-selected-links=\"trending_developers /trending/developers\" href=\"/trending/developers\">Developers</a>\n",
    "response = requests.get(URL_DEVELOPERS)\n",
    "soup = BeautifulSoup(response.text, \"html.parser\")\n",
    "\n",
    "developers_cont = soup.find_all('h2',{'class','f3 text-normal'})\n",
    "#print(developers_cont)\n",
    "\n",
    "developers_list = [developer.text.replace(\" \",\"\").replace(\"\\n\",\"\").replace(\"(\", \" (\") for developer in developers_cont]\n",
    "pprint(developers_list)\n",
    "\n"
   ]
  },
  {
   "cell_type": "markdown",
   "metadata": {},
   "source": [
    "#### Display the trending Python repositories in GitHub\n",
    "\n",
    "The steps to solve this problem is similar to the previous one except that you need to find out the repository names instead of developer names."
   ]
  },
  {
   "cell_type": "code",
   "execution_count": 5,
   "metadata": {},
   "outputs": [],
   "source": [
    "# This is the url you will scrape in this exercise\n",
    "URL_REPOSITORIES = 'https://github.com/trending/python?since=daily'"
   ]
  },
  {
   "cell_type": "code",
   "execution_count": 6,
   "metadata": {
    "scrolled": true
   },
   "outputs": [
    {
     "name": "stdout",
     "output_type": "stream",
     "text": [
      "[]\n"
     ]
    }
   ],
   "source": [
    "#your code\n",
    "response = requests.get(URL_REPOSITORIES)\n",
    "soup = BeautifulSoup(response.text, \"html.parser\")\n",
    "\n",
    "repositories_cont = soup.find_all('div', {'class', 'd-inline-block col-9 mb-1'})\n",
    "#print(repositories_cont)\n",
    "\n",
    "repositorie_list = [repositorie.text.replace('\\n',\"\").replace('/',\"/ Repositorie: \") for repositorie in repositories_cont]\n",
    "pprint(repositorie_list)\n"
   ]
  },
  {
   "cell_type": "markdown",
   "metadata": {},
   "source": [
    "#### Display all the image links from Walt Disney wikipedia page"
   ]
  },
  {
   "cell_type": "code",
   "execution_count": 7,
   "metadata": {},
   "outputs": [],
   "source": [
    "# This is the url you will scrape in this exercise\n",
    "URL_WALTDISNEY = 'https://en.wikipedia.org/wiki/Walt_Disney'"
   ]
  },
  {
   "cell_type": "code",
   "execution_count": 8,
   "metadata": {},
   "outputs": [
    {
     "name": "stdout",
     "output_type": "stream",
     "text": [
      "['https://upload.wikimedia.org/wikipedia/en/thumb/e/e7/Cscr-featured.svg/20px-Cscr-featured.svg.png',\n",
      " 'https://upload.wikimedia.org/wikipedia/en/thumb/1/1b/Semi-protection-shackle.svg/20px-Semi-protection-shackle.svg.png',\n",
      " 'https://upload.wikimedia.org/wikipedia/commons/thumb/d/df/Walt_Disney_1946.JPG/220px-Walt_Disney_1946.JPG',\n",
      " 'https://upload.wikimedia.org/wikipedia/commons/thumb/8/87/Walt_Disney_1942_signature.svg/150px-Walt_Disney_1942_signature.svg.png',\n",
      " 'https://upload.wikimedia.org/wikipedia/commons/thumb/c/c4/Walt_Disney_envelope_ca._1921.jpg/220px-Walt_Disney_envelope_ca._1921.jpg',\n",
      " 'https://upload.wikimedia.org/wikipedia/commons/thumb/4/4d/Newman_Laugh-O-Gram_%281921%29.webm/220px-seek%3D2-Newman_Laugh-O-Gram_%281921%29.webm.jpg',\n",
      " 'https://upload.wikimedia.org/wikipedia/commons/thumb/0/0d/Trolley_Troubles_poster.jpg/170px-Trolley_Troubles_poster.jpg',\n",
      " 'https://upload.wikimedia.org/wikipedia/commons/thumb/7/71/Walt_Disney_and_his_cartoon_creation_%22Mickey_Mouse%22_-_National_Board_of_Review_Magazine.jpg/170px-Walt_Disney_and_his_cartoon_creation_%22Mickey_Mouse%22_-_National_Board_of_Review_Magazine.jpg',\n",
      " 'https://upload.wikimedia.org/wikipedia/en/thumb/4/4e/Steamboat-willie.jpg/170px-Steamboat-willie.jpg',\n",
      " 'https://upload.wikimedia.org/wikipedia/commons/thumb/5/57/Walt_Disney_1935.jpg/170px-Walt_Disney_1935.jpg',\n",
      " 'https://upload.wikimedia.org/wikipedia/commons/thumb/c/cd/Walt_Disney_Snow_white_1937_trailer_screenshot_%2813%29.jpg/220px-Walt_Disney_Snow_white_1937_trailer_screenshot_%2813%29.jpg',\n",
      " 'https://upload.wikimedia.org/wikipedia/commons/thumb/1/15/Disney_drawing_goofy.jpg/170px-Disney_drawing_goofy.jpg',\n",
      " 'https://upload.wikimedia.org/wikipedia/commons/thumb/1/13/DisneySchiphol1951.jpg/220px-DisneySchiphol1951.jpg',\n",
      " 'https://upload.wikimedia.org/wikipedia/commons/thumb/8/8c/WaltDisneyplansDisneylandDec1954.jpg/220px-WaltDisneyplansDisneylandDec1954.jpg',\n",
      " 'https://upload.wikimedia.org/wikipedia/commons/thumb/f/ff/Walt_disney_portrait_right.jpg/170px-Walt_disney_portrait_right.jpg',\n",
      " 'https://upload.wikimedia.org/wikipedia/commons/thumb/1/1a/Walt_Disney_Grave.JPG/170px-Walt_Disney_Grave.JPG',\n",
      " 'https://upload.wikimedia.org/wikipedia/commons/thumb/2/2d/Roy_O._Disney_with_Company_at_Press_Conference.jpg/170px-Roy_O._Disney_with_Company_at_Press_Conference.jpg',\n",
      " 'https://upload.wikimedia.org/wikipedia/commons/thumb/a/a9/Disney_Display_Case.JPG/170px-Disney_Display_Case.JPG',\n",
      " 'https://upload.wikimedia.org/wikipedia/commons/thumb/6/6c/Disney1968.jpg/170px-Disney1968.jpg',\n",
      " 'https://upload.wikimedia.org/wikipedia/en/thumb/8/8a/OOjs_UI_icon_edit-ltr-progressive.svg/10px-OOjs_UI_icon_edit-ltr-progressive.svg.png',\n",
      " 'https://upload.wikimedia.org/wikipedia/commons/thumb/d/da/Animation_disc.svg/30px-Animation_disc.svg.png',\n",
      " 'https://upload.wikimedia.org/wikipedia/en/thumb/6/69/P_vip.svg/29px-P_vip.svg.png',\n",
      " 'https://upload.wikimedia.org/wikipedia/commons/thumb/1/1a/Magic_Kingdom_castle.jpg/24px-Magic_Kingdom_castle.jpg',\n",
      " 'https://upload.wikimedia.org/wikipedia/en/thumb/e/e7/Video-x-generic.svg/30px-Video-x-generic.svg.png',\n",
      " 'https://upload.wikimedia.org/wikipedia/commons/thumb/a/a3/Flag_of_Los_Angeles_County%2C_California.svg/30px-Flag_of_Los_Angeles_County%2C_California.svg.png',\n",
      " 'https://upload.wikimedia.org/wikipedia/commons/thumb/a/a3/USA_flag_on_television.svg/30px-USA_flag_on_television.svg.png',\n",
      " 'https://upload.wikimedia.org/wikipedia/en/thumb/4/4a/Commons-logo.svg/22px-Commons-logo.svg.png',\n",
      " 'https://upload.wikimedia.org/wikipedia/commons/thumb/f/fa/Wikiquote-logo.svg/25px-Wikiquote-logo.svg.png',\n",
      " 'https://upload.wikimedia.org/wikipedia/commons/thumb/f/ff/Wikidata-logo.svg/30px-Wikidata-logo.svg.png',\n",
      " 'https://upload.wikimedia.org/wikipedia/en/thumb/8/8a/OOjs_UI_icon_edit-ltr-progressive.svg/10px-OOjs_UI_icon_edit-ltr-progressive.svg.png',\n",
      " 'https://en.wikipedia.org/wiki/Special:CentralAutoLogin/start?type=1x1',\n",
      " 'https:/static/images/wikimedia-button.png',\n",
      " 'https:/static/images/poweredby_mediawiki_88x31.png']\n"
     ]
    },
    {
     "data": {
      "text/plain": [
       "'\\ncategories = category_container.find_all(\"a\", {\\'itemprop\\': \\'url\\'}) #es una lista\\nsource of html\\n<li class=\"suscribete\" itemprop=\"name\"><a href=\"//suscripciones.elpais.com/?id_externo_promo=suscrip_cabecera_ep.com\" itemprop=\"url\">Suscríbete</a></li>\\n\\n'"
      ]
     },
     "execution_count": 8,
     "metadata": {},
     "output_type": "execute_result"
    }
   ],
   "source": [
    "#your code\n",
    "response = requests.get(URL_WALTDISNEY)\n",
    "soup = BeautifulSoup(response.text, \"html.parser\")\n",
    "\n",
    "images_cont = soup.find_all('img')\n",
    "#pprint(images_cont)\n",
    "source = [\"https:\"+images.get('src') for images in images_cont]\n",
    "pprint(source)\n",
    "\n",
    "\n",
    "\"\"\"\n",
    "categories = category_container.find_all(\"a\", {'itemprop': 'url'}) #es una lista\n",
    "source of html\n",
    "<li class=\"suscribete\" itemprop=\"name\"><a href=\"//suscripciones.elpais.com/?id_externo_promo=suscrip_cabecera_ep.com\" itemprop=\"url\">Suscríbete</a></li>\n",
    "\n",
    "\"\"\""
   ]
  },
  {
   "cell_type": "markdown",
   "metadata": {},
   "source": [
    "#### Retrieve an arbitary Wikipedia page of \"Python\" and create a list of links on that page"
   ]
  },
  {
   "cell_type": "code",
   "execution_count": 9,
   "metadata": {},
   "outputs": [],
   "source": [
    "# This is the url you will scrape in this exercise\n",
    "URL_PYTHON ='https://en.wikipedia.org/wiki/Python' "
   ]
  },
  {
   "cell_type": "code",
   "execution_count": 31,
   "metadata": {},
   "outputs": [
    {
     "name": "stdout",
     "output_type": "stream",
     "text": [
      "['https://en.wiktionary.org/wiki/Python',\n",
      " 'https://en.wiktionary.org/wiki/python',\n",
      " '#Snakes',\n",
      " '#Ancient_Greece',\n",
      " '#Media_and_entertainment',\n",
      " '#Computing',\n",
      " '#Engineering',\n",
      " '#Roller_coasters',\n",
      " '#Vehicles',\n",
      " '#Weaponry',\n",
      " '#People',\n",
      " '#Other_uses',\n",
      " '#See_also',\n",
      " '/w/index.php?title=Python&action=edit&section=1',\n",
      " '/wiki/Pythonidae',\n",
      " '/wiki/Python_(genus)',\n",
      " '/w/index.php?title=Python&action=edit&section=2',\n",
      " '/wiki/Python_(mythology)',\n",
      " '/wiki/Python_of_Aenus',\n",
      " '/wiki/Python_(painter)',\n",
      " '/wiki/Python_of_Byzantium',\n",
      " '/wiki/Python_of_Catana',\n",
      " '/w/index.php?title=Python&action=edit&section=3',\n",
      " '/wiki/Python_(film)',\n",
      " '/wiki/Pythons_2',\n",
      " '/wiki/Monty_Python',\n",
      " '/wiki/Python_(Monty)_Pictures',\n",
      " '/w/index.php?title=Python&action=edit&section=4',\n",
      " '/wiki/Python_(programming_language)',\n",
      " '/wiki/CPython',\n",
      " '/wiki/CMU_Common_Lisp',\n",
      " '/wiki/PERQ#PERQ_3',\n",
      " '/w/index.php?title=Python&action=edit&section=5',\n",
      " '/w/index.php?title=Python&action=edit&section=6',\n",
      " '/wiki/Python_(Busch_Gardens_Tampa_Bay)',\n",
      " '/wiki/Python_(Coney_Island,_Cincinnati,_Ohio)',\n",
      " '/wiki/Python_(Efteling)',\n",
      " '/w/index.php?title=Python&action=edit&section=7',\n",
      " '/wiki/Python_(automobile_maker)',\n",
      " '/wiki/Python_(Ford_prototype)',\n",
      " '/w/index.php?title=Python&action=edit&section=8',\n",
      " '/wiki/Colt_Python',\n",
      " '/wiki/Python_(missile)',\n",
      " '/wiki/Python_(nuclear_primary)',\n",
      " '/w/index.php?title=Python&action=edit&section=9',\n",
      " '/wiki/Python_Anghelo',\n",
      " '/w/index.php?title=Python&action=edit&section=10',\n",
      " '/wiki/PYTHON',\n",
      " '/w/index.php?title=Python&action=edit&section=11',\n",
      " '/wiki/Cython',\n",
      " '/wiki/Pyton',\n",
      " '/wiki/File:Disambig_gray.svg',\n",
      " '/wiki/Help:Disambiguation',\n",
      " '//en.wikipedia.org/w/index.php?title=Special:WhatLinksHere/Python&namespace=0']\n"
     ]
    }
   ],
   "source": [
    "#your code\n",
    "\"\"\"\n",
    "linksPython = []\n",
    "response = requests.get(URL_PYTHON)\n",
    "soup = BeautifulSoup(response.text, \"html.parser\")\n",
    "#print(soup)\n",
    "linksPython_container = soup.find('div', {'class', 'mw-parser-output'})\n",
    "#pprint(linksPython_container)\n",
    "\n",
    "linksPython_list = linksPython_container.find_all('a')\n",
    "#pprint(linksPython_list)\n",
    "linksPython = [link.get('href') for link in linksPython_list if (link.text.find('#') == -1)|(link.text.find('php')== -1)]\n",
    "pprint(linksPython)\n",
    "\"\"\"\n",
    "linksPython = []\n",
    "response = requests.get(URL_PYTHON)\n",
    "soup = BeautifulSoup(response.text, \"html.parser\")\n",
    "headers_container = soup.find_all('span', {'class', 'mw-headline'})\n",
    "for header in headers_container:\n",
    "    linksPython_container = soup.find('div', {'class', 'mw-parser-output'})\n",
    "    linksPython_list = linksPython_container.find_all('a')\n",
    "    linksPython = [link.get('href') for link in linksPython_list]\n",
    "\n",
    "pprint(linksPython)\n",
    "\n",
    "\n"
   ]
  },
  {
   "cell_type": "markdown",
   "metadata": {},
   "source": [
    "#### Number of Titles that have changed in the United States Code since its last release point "
   ]
  },
  {
   "cell_type": "code",
   "execution_count": 33,
   "metadata": {},
   "outputs": [],
   "source": [
    "# This is the url you will scrape in this exercise\n",
    "URL_CODE = 'http://uscode.house.gov/download/download.shtml'"
   ]
  },
  {
   "cell_type": "code",
   "execution_count": 50,
   "metadata": {},
   "outputs": [
    {
     "name": "stdout",
     "output_type": "stream",
     "text": [
      "[<div class=\"usctitle\" id=\"alltitles\">\n",
      "\n",
      "          All titles in the format selected compressed into a zip archive.\n",
      "\n",
      "        </div>,\n",
      " <div class=\"usctitle\" id=\"us/usc/t1\">\n",
      "\n",
      "          Title 1 - General Provisions\n",
      "\n",
      "        </div>,\n",
      " None,\n",
      " <div class=\"usctitle\" id=\"us/usc/t3\">\n",
      "\n",
      "          Title 3 - The President\n",
      "\n",
      "        </div>,\n",
      " <div class=\"usctitle\" id=\"us/usc/t4\">\n",
      "\n",
      "          Title 4 - Flag and Seal, Seat of Government, and the States\n",
      "\n",
      "        </div>,\n",
      " <div class=\"usctitle\" id=\"us/usc/t5\">\n",
      "\n",
      "          Title 5 - Government Organization and Employees\n",
      "\n",
      "        </div>,\n",
      " None,\n",
      " <div class=\"usctitle\" id=\"us/usc/t6\">\n",
      "\n",
      "          Title 6 - Domestic Security\n",
      "\n",
      "        </div>,\n",
      " <div class=\"usctitle\" id=\"us/usc/t7\">\n",
      "\n",
      "          Title 7 - Agriculture\n",
      "\n",
      "        </div>,\n",
      " <div class=\"usctitle\" id=\"us/usc/t8\">\n",
      "\n",
      "          Title 8 - Aliens and Nationality\n",
      "\n",
      "        </div>,\n",
      " <div class=\"usctitle\" id=\"us/usc/t9\">\n",
      "\n",
      "          Title 9 - Arbitration\n",
      "\n",
      "        </div>,\n",
      " <div class=\"usctitle\" id=\"us/usc/t10\">\n",
      "\n",
      "          Title 10 - Armed Forces\n",
      "\n",
      "        </div>,\n",
      " <div class=\"usctitle\" id=\"us/usc/t11\">\n",
      "\n",
      "          Title 11 - Bankruptcy\n",
      "\n",
      "        </div>,\n",
      " None,\n",
      " <div class=\"usctitle\" id=\"us/usc/t12\">\n",
      "\n",
      "          Title 12 - Banks and Banking\n",
      "\n",
      "        </div>,\n",
      " <div class=\"usctitle\" id=\"us/usc/t13\">\n",
      "\n",
      "          Title 13 - Census\n",
      "\n",
      "        </div>,\n",
      " <div class=\"usctitle\" id=\"us/usc/t14\">\n",
      "\n",
      "          Title 14 - Coast Guard\n",
      "\n",
      "        </div>,\n",
      " <div class=\"usctitle\" id=\"us/usc/t15\">\n",
      "\n",
      "          Title 15 - Commerce and Trade\n",
      "\n",
      "        </div>,\n",
      " <div class=\"usctitle\" id=\"us/usc/t16\">\n",
      "\n",
      "          Title 16 - Conservation\n",
      "\n",
      "        </div>,\n",
      " <div class=\"usctitle\" id=\"us/usc/t17\">\n",
      "\n",
      "          Title 17 - Copyrights\n",
      "\n",
      "        </div>,\n",
      " <div class=\"usctitle\" id=\"us/usc/t18\">\n",
      "\n",
      "          Title 18 - Crimes and Criminal Procedure\n",
      "\n",
      "        </div>,\n",
      " None,\n",
      " <div class=\"usctitle\" id=\"us/usc/t19\">\n",
      "\n",
      "          Title 19 - Customs Duties\n",
      "\n",
      "        </div>,\n",
      " <div class=\"usctitle\" id=\"us/usc/t20\">\n",
      "\n",
      "          Title 20 - Education\n",
      "\n",
      "        </div>,\n",
      " <div class=\"usctitle\" id=\"us/usc/t21\">\n",
      "\n",
      "          Title 21 - Food and Drugs\n",
      "\n",
      "        </div>,\n",
      " <div class=\"usctitle\" id=\"us/usc/t22\">\n",
      "\n",
      "          Title 22 - Foreign Relations and Intercourse\n",
      "\n",
      "        </div>,\n",
      " <div class=\"usctitle\" id=\"us/usc/t23\">\n",
      "\n",
      "          Title 23 - Highways\n",
      "\n",
      "        </div>,\n",
      " <div class=\"usctitle\" id=\"us/usc/t24\">\n",
      "\n",
      "          Title 24 - Hospitals and Asylums\n",
      "\n",
      "        </div>,\n",
      " <div class=\"usctitle\" id=\"us/usc/t25\">\n",
      "\n",
      "          Title 25 - Indians\n",
      "\n",
      "        </div>,\n",
      " <div class=\"usctitle\" id=\"us/usc/t26\">\n",
      "\n",
      "          Title 26 - Internal Revenue Code\n",
      "\n",
      "        </div>,\n",
      " <div class=\"usctitle\" id=\"us/usc/t27\">\n",
      "\n",
      "          Title 27 - Intoxicating Liquors\n",
      "\n",
      "        </div>,\n",
      " <div class=\"usctitle\" id=\"us/usc/t28\">\n",
      "\n",
      "          Title 28 - Judiciary and Judicial Procedure\n",
      "\n",
      "        </div>,\n",
      " None,\n",
      " <div class=\"usctitle\" id=\"us/usc/t29\">\n",
      "\n",
      "          Title 29 - Labor\n",
      "\n",
      "        </div>,\n",
      " <div class=\"usctitle\" id=\"us/usc/t30\">\n",
      "\n",
      "          Title 30 - Mineral Lands and Mining\n",
      "\n",
      "        </div>,\n",
      " <div class=\"usctitle\" id=\"us/usc/t31\">\n",
      "\n",
      "          Title 31 - Money and Finance\n",
      "\n",
      "        </div>,\n",
      " <div class=\"usctitle\" id=\"us/usc/t32\">\n",
      "\n",
      "          Title 32 - National Guard\n",
      "\n",
      "        </div>,\n",
      " <div class=\"usctitle\" id=\"us/usc/t33\">\n",
      "\n",
      "          Title 33 - Navigation and Navigable Waters\n",
      "\n",
      "        </div>,\n",
      " <div class=\"usctitle\" id=\"us/usc/t34\">\n",
      "\n",
      "          Title 34 - Crime Control and Law Enforcement\n",
      "\n",
      "        </div>,\n",
      " <div class=\"usctitle\" id=\"us/usc/t35\">\n",
      "\n",
      "          Title 35 - Patents\n",
      "\n",
      "        </div>,\n",
      " <div class=\"usctitle\" id=\"us/usc/t36\">\n",
      "\n",
      "          Title 36 - Patriotic and National Observances, Ceremonies, and Organizations\n",
      "\n",
      "        </div>,\n",
      " <div class=\"usctitle\" id=\"us/usc/t37\">\n",
      "\n",
      "          Title 37 - Pay and Allowances of the Uniformed Services\n",
      "\n",
      "        </div>,\n",
      " <div class=\"usctitle\" id=\"us/usc/t38\">\n",
      "\n",
      "          Title 38 - Veterans' Benefits\n",
      "\n",
      "        </div>,\n",
      " <div class=\"usctitle\" id=\"us/usc/t39\">\n",
      "\n",
      "          Title 39 - Postal Service\n",
      "\n",
      "        </div>,\n",
      " <div class=\"usctitle\" id=\"us/usc/t40\">\n",
      "\n",
      "          Title 40 - Public Buildings, Property, and Works\n",
      "\n",
      "        </div>,\n",
      " <div class=\"usctitle\" id=\"us/usc/t41\">\n",
      "\n",
      "          Title 41 - Public Contracts\n",
      "\n",
      "        </div>,\n",
      " <div class=\"usctitle\" id=\"us/usc/t42\">\n",
      "\n",
      "          Title 42 - The Public Health and Welfare\n",
      "\n",
      "        </div>,\n",
      " <div class=\"usctitle\" id=\"us/usc/t43\">\n",
      "\n",
      "          Title 43 - Public Lands\n",
      "\n",
      "        </div>,\n",
      " <div class=\"usctitle\" id=\"us/usc/t44\">\n",
      "\n",
      "          Title 44 - Public Printing and Documents\n",
      "\n",
      "        </div>,\n",
      " <div class=\"usctitle\" id=\"us/usc/t45\">\n",
      "\n",
      "          Title 45 - Railroads\n",
      "\n",
      "        </div>,\n",
      " <div class=\"usctitle\" id=\"us/usc/t46\">\n",
      "\n",
      "          Title 46 - Shipping\n",
      "\n",
      "        </div>,\n",
      " <div class=\"usctitle\" id=\"us/usc/t47\">\n",
      "\n",
      "          Title 47 - Telecommunications\n",
      "\n",
      "        </div>,\n",
      " <div class=\"usctitle\" id=\"us/usc/t48\">\n",
      "\n",
      "          Title 48 - Territories and Insular Possessions\n",
      "\n",
      "        </div>,\n",
      " <div class=\"usctitle\" id=\"us/usc/t49\">\n",
      "\n",
      "          Title 49 - Transportation\n",
      "\n",
      "        </div>,\n",
      " <div class=\"usctitle\" id=\"us/usc/t50\">\n",
      "\n",
      "          Title 50 - War and National Defense\n",
      "\n",
      "        </div>,\n",
      " None,\n",
      " <div class=\"usctitle\" id=\"us/usc/t51\">\n",
      "\n",
      "          Title 51 - National and Commercial Space Programs\n",
      "\n",
      "        </div>,\n",
      " <div class=\"usctitle\" id=\"us/usc/t52\">\n",
      "\n",
      "          Title 52 - Voting and Elections\n",
      "\n",
      "        </div>,\n",
      " <div class=\"usctitle\" id=\"us/usc/t53\">\n",
      "\n",
      "          Title 53 [Reserved]\n",
      "\n",
      "        </div>,\n",
      " <div class=\"usctitle\" id=\"us/usc/t54\" style=\"padding-bottom: 10px;\">\n",
      "\n",
      "          Title 54 - National Park Service and Related Programs\n",
      "\n",
      "        </div>]\n"
     ]
    },
    {
     "ename": "AttributeError",
     "evalue": "'NoneType' object has no attribute 'text'",
     "output_type": "error",
     "traceback": [
      "\u001b[0;31m---------------------------------------------------------------------------\u001b[0m",
      "\u001b[0;31mAttributeError\u001b[0m                            Traceback (most recent call last)",
      "\u001b[0;32m<ipython-input-50-30a69796e3b5>\u001b[0m in \u001b[0;36m<module>\u001b[0;34m\u001b[0m\n\u001b[1;32m     14\u001b[0m \u001b[0;34m\u001b[0m\u001b[0m\n\u001b[1;32m     15\u001b[0m \u001b[0;32mfor\u001b[0m \u001b[0mversion\u001b[0m \u001b[0;32min\u001b[0m \u001b[0minput_codes\u001b[0m\u001b[0;34m:\u001b[0m\u001b[0;34m\u001b[0m\u001b[0;34m\u001b[0m\u001b[0m\n\u001b[0;32m---> 16\u001b[0;31m     \u001b[0;32mif\u001b[0m \u001b[0mversion\u001b[0m\u001b[0;34m.\u001b[0m\u001b[0mtext\u001b[0m\u001b[0;34m.\u001b[0m\u001b[0mfind\u001b[0m\u001b[0;34m(\u001b[0m\u001b[0;34m\"us/usc/\"\u001b[0m\u001b[0;34m)\u001b[0m \u001b[0;34m!=\u001b[0m \u001b[0;36m1\u001b[0m\u001b[0;34m:\u001b[0m\u001b[0;34m\u001b[0m\u001b[0;34m\u001b[0m\u001b[0m\n\u001b[0m\u001b[1;32m     17\u001b[0m         \u001b[0mcount\u001b[0m \u001b[0;34m+=\u001b[0m \u001b[0;36m1\u001b[0m\u001b[0;34m\u001b[0m\u001b[0;34m\u001b[0m\u001b[0m\n\u001b[1;32m     18\u001b[0m \u001b[0;34m\u001b[0m\u001b[0m\n",
      "\u001b[0;31mAttributeError\u001b[0m: 'NoneType' object has no attribute 'text'"
     ]
    }
   ],
   "source": [
    "#your code\n",
    "count = 0\n",
    "input_codes = []\n",
    "\n",
    "response = requests.get(URL_CODE)\n",
    "soup = BeautifulSoup(response.text, \"html.parser\")\n",
    "#print(soup)\n",
    "code_container = soup.find_all('div', {'class', 'uscitem'})#\n",
    "#pprint(code_container)\n",
    "\n",
    "for item in code_container:\n",
    "    input_codes.append(item.find('div', {'class', 'usctitle'}))\n",
    "pprint(input_codes)\n",
    "\n",
    "for version in input_codes:\n",
    "    if version.text.find(\"us/usc/\") != 1:\n",
    "        count += 1\n",
    "        \n",
    "print(\"The total number of versions is \",count)"
   ]
  },
  {
   "cell_type": "markdown",
   "metadata": {},
   "source": [
    "#### A Python list with the top ten FBI's Most Wanted names "
   ]
  },
  {
   "cell_type": "code",
   "execution_count": null,
   "metadata": {},
   "outputs": [],
   "source": [
    "# This is the url you will scrape in this exercise\n",
    "url = 'https://www.fbi.gov/wanted/topten'"
   ]
  },
  {
   "cell_type": "code",
   "execution_count": null,
   "metadata": {},
   "outputs": [],
   "source": [
    "#your code "
   ]
  },
  {
   "cell_type": "markdown",
   "metadata": {},
   "source": [
    "####  20 latest earthquakes info (date, time, latitude, longitude and region name) by the EMSC as a pandas dataframe"
   ]
  },
  {
   "cell_type": "code",
   "execution_count": null,
   "metadata": {},
   "outputs": [],
   "source": [
    "# This is the url you will scrape in this exercise\n",
    "url = 'https://www.emsc-csem.org/Earthquake/'"
   ]
  },
  {
   "cell_type": "code",
   "execution_count": null,
   "metadata": {},
   "outputs": [],
   "source": [
    "#your code"
   ]
  },
  {
   "cell_type": "markdown",
   "metadata": {},
   "source": [
    "#### Display the date, days, title, city, country of next 25 hackathon events as a Pandas dataframe table"
   ]
  },
  {
   "cell_type": "code",
   "execution_count": null,
   "metadata": {},
   "outputs": [],
   "source": [
    "# This is the url you will scrape in this exercise\n",
    "url ='https://hackevents.co/hackathons'"
   ]
  },
  {
   "cell_type": "code",
   "execution_count": null,
   "metadata": {},
   "outputs": [],
   "source": [
    "#your code"
   ]
  },
  {
   "cell_type": "markdown",
   "metadata": {},
   "source": [
    "#### Count number of tweets by a given Twitter account."
   ]
  },
  {
   "cell_type": "markdown",
   "metadata": {},
   "source": [
    "You will need to include a ***try/except block*** for account names not found. \n",
    "<br>***Hint:*** the program should count the number of tweets for any provided account"
   ]
  },
  {
   "cell_type": "code",
   "execution_count": null,
   "metadata": {},
   "outputs": [],
   "source": [
    "# This is the url you will scrape in this exercise \n",
    "# You will need to add the account credentials to this url\n",
    "url = 'https://twitter.com/'"
   ]
  },
  {
   "cell_type": "code",
   "execution_count": null,
   "metadata": {},
   "outputs": [],
   "source": [
    "#your code"
   ]
  },
  {
   "cell_type": "markdown",
   "metadata": {},
   "source": [
    "#### Number of followers of a given twitter account"
   ]
  },
  {
   "cell_type": "markdown",
   "metadata": {},
   "source": [
    "You will need to include a ***try/except block*** in case account/s name not found. \n",
    "<br>***Hint:*** the program should count the followers for any provided account"
   ]
  },
  {
   "cell_type": "code",
   "execution_count": null,
   "metadata": {},
   "outputs": [],
   "source": [
    "# This is the url you will scrape in this exercise \n",
    "# You will need to add the account credentials to this url\n",
    "url = 'https://twitter.com/'"
   ]
  },
  {
   "cell_type": "code",
   "execution_count": null,
   "metadata": {},
   "outputs": [],
   "source": [
    "#your code"
   ]
  },
  {
   "cell_type": "markdown",
   "metadata": {},
   "source": [
    "#### List all language names and number of related articles in the order they appear in wikipedia.org"
   ]
  },
  {
   "cell_type": "code",
   "execution_count": null,
   "metadata": {},
   "outputs": [],
   "source": [
    "# This is the url you will scrape in this exercise\n",
    "url = 'https://www.wikipedia.org/'"
   ]
  },
  {
   "cell_type": "code",
   "execution_count": null,
   "metadata": {},
   "outputs": [],
   "source": [
    "#your code"
   ]
  },
  {
   "cell_type": "markdown",
   "metadata": {},
   "source": [
    "#### A list with the different kind of datasets available in data.gov.uk "
   ]
  },
  {
   "cell_type": "code",
   "execution_count": null,
   "metadata": {},
   "outputs": [],
   "source": [
    "# This is the url you will scrape in this exercise\n",
    "url = 'https://data.gov.uk/'"
   ]
  },
  {
   "cell_type": "code",
   "execution_count": null,
   "metadata": {},
   "outputs": [],
   "source": [
    "#your code "
   ]
  },
  {
   "cell_type": "markdown",
   "metadata": {},
   "source": [
    "#### Top 10 languages by number of native speakers stored in a Pandas Dataframe"
   ]
  },
  {
   "cell_type": "code",
   "execution_count": null,
   "metadata": {},
   "outputs": [],
   "source": [
    "# This is the url you will scrape in this exercise\n",
    "url = 'https://en.wikipedia.org/wiki/List_of_languages_by_number_of_native_speakers'"
   ]
  },
  {
   "cell_type": "code",
   "execution_count": null,
   "metadata": {},
   "outputs": [],
   "source": [
    "#your code"
   ]
  },
  {
   "cell_type": "markdown",
   "metadata": {},
   "source": [
    "### BONUS QUESTIONS"
   ]
  },
  {
   "cell_type": "markdown",
   "metadata": {},
   "source": [
    "#### Scrape a certain number of tweets of a given Twitter account."
   ]
  },
  {
   "cell_type": "code",
   "execution_count": null,
   "metadata": {},
   "outputs": [],
   "source": [
    "# This is the url you will scrape in this exercise \n",
    "# You will need to add the account credentials to this url\n",
    "url = 'https://twitter.com/'"
   ]
  },
  {
   "cell_type": "code",
   "execution_count": null,
   "metadata": {},
   "outputs": [],
   "source": [
    "# your code"
   ]
  },
  {
   "cell_type": "markdown",
   "metadata": {},
   "source": [
    "#### IMDB's Top 250 data (movie name, Initial release, director name and stars) as a pandas dataframe"
   ]
  },
  {
   "cell_type": "code",
   "execution_count": null,
   "metadata": {},
   "outputs": [],
   "source": [
    "# This is the url you will scrape in this exercise \n",
    "url = 'https://www.imdb.com/chart/top'"
   ]
  },
  {
   "cell_type": "code",
   "execution_count": null,
   "metadata": {},
   "outputs": [],
   "source": [
    "# your code"
   ]
  },
  {
   "cell_type": "markdown",
   "metadata": {},
   "source": [
    "#### Movie name, year and a brief summary of the top 10 random movies (IMDB) as a pandas dataframe."
   ]
  },
  {
   "cell_type": "code",
   "execution_count": null,
   "metadata": {},
   "outputs": [],
   "source": [
    "#This is the url you will scrape in this exercise\n",
    "url = 'http://www.imdb.com/chart/top'"
   ]
  },
  {
   "cell_type": "code",
   "execution_count": null,
   "metadata": {},
   "outputs": [],
   "source": [
    "#your code"
   ]
  },
  {
   "cell_type": "markdown",
   "metadata": {},
   "source": [
    "#### Find the live weather report (temperature, wind speed, description and weather) of a given city."
   ]
  },
  {
   "cell_type": "code",
   "execution_count": null,
   "metadata": {},
   "outputs": [],
   "source": [
    "#https://openweathermap.org/current\n",
    "city = city=input('Enter the city:')\n",
    "url = 'http://api.openweathermap.org/data/2.5/weather?'+'q='+city+'&APPID=b35975e18dc93725acb092f7272cc6b8&units=metric'"
   ]
  },
  {
   "cell_type": "code",
   "execution_count": null,
   "metadata": {},
   "outputs": [],
   "source": [
    "# your code"
   ]
  },
  {
   "cell_type": "markdown",
   "metadata": {},
   "source": [
    "#### Book name,price and stock availability as a pandas dataframe."
   ]
  },
  {
   "cell_type": "code",
   "execution_count": null,
   "metadata": {},
   "outputs": [],
   "source": [
    "# This is the url you will scrape in this exercise. \n",
    "# It is a fictional bookstore created to be scraped. \n",
    "url = 'http://books.toscrape.com/'"
   ]
  },
  {
   "cell_type": "code",
   "execution_count": null,
   "metadata": {},
   "outputs": [],
   "source": [
    "#your code"
   ]
  }
 ],
 "metadata": {
  "kernelspec": {
   "display_name": "Python 3",
   "language": "python",
   "name": "python3"
  },
  "language_info": {
   "codemirror_mode": {
    "name": "ipython",
    "version": 3
   },
   "file_extension": ".py",
   "mimetype": "text/x-python",
   "name": "python",
   "nbconvert_exporter": "python",
   "pygments_lexer": "ipython3",
   "version": "3.7.3"
  }
 },
 "nbformat": 4,
 "nbformat_minor": 2
}
