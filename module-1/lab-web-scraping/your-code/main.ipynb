{
 "cells": [
  {
   "cell_type": "markdown",
   "metadata": {},
   "source": [
    "# Web Scraping Lab\n",
    "\n",
    "You will find in this notebook some scrapy exercises to practise your scraping skills.\n",
    "\n",
    "**Tips:**\n",
    "\n",
    "- Check the response status code for each request to ensure you have obtained the intended contennt.\n",
    "- Print the response text in each request to understand the kind of info you are getting and its format.\n",
    "- Check for patterns in the response text to extract the data/info requested in each question.\n",
    "- Visit each url and take a look at its source through Chrome DevTools. You'll need to identify the html tags, special class names etc. used for the html content you are expected to extract."
   ]
  },
  {
   "cell_type": "markdown",
   "metadata": {},
   "source": [
    "- [Requests library](http://docs.python-requests.org/en/master/#the-user-guide) documentation \n",
    "- [Beautiful Soup Doc](https://www.crummy.com/software/BeautifulSoup/bs4/doc/)\n",
    "- [Urllib](https://docs.python.org/3/library/urllib.html#module-urllib)\n",
    "- [re lib](https://docs.python.org/3/library/re.html)\n",
    "- [lxml lib](https://lxml.de/)\n",
    "- [Scrapy](https://scrapy.org/)\n",
    "- [List of HTTP status codes](https://en.wikipedia.org/wiki/List_of_HTTP_status_codes)\n",
    "- [HTML basics](http://www.simplehtmlguide.com/cheatsheet.php)\n",
    "- [CSS basics](https://www.cssbasics.com/#page_start)"
   ]
  },
  {
   "cell_type": "markdown",
   "metadata": {},
   "source": [
    "#### Below are the libraries and modules you may need. `requests`,  `BeautifulSoup` and `pandas` are imported for you. If you prefer to use additional libraries feel free to uncomment them."
   ]
  },
  {
   "cell_type": "code",
   "execution_count": 1,
   "metadata": {},
   "outputs": [],
   "source": [
    "import requests\n",
    "from bs4 import BeautifulSoup\n",
    "import pandas as pd\n",
    "from pprint import pprint\n",
    "# from lxml import html\n",
    "# from lxml.html import fromstring\n",
    "# import urllib.request\n",
    "# from urllib.request import urlopen\n",
    "# import random\n",
    "# import re\n",
    "# import scrapy"
   ]
  },
  {
   "cell_type": "markdown",
   "metadata": {},
   "source": [
    "#### Download, parse (using BeautifulSoup), and print the content from the Trending Developers page from GitHub:"
   ]
  },
  {
   "cell_type": "code",
   "execution_count": 2,
   "metadata": {},
   "outputs": [],
   "source": [
    "# This is the url you will scrape in this exercise\n",
    "URL_DEVELOPERS = 'https://github.com/trending/developers'"
   ]
  },
  {
   "cell_type": "code",
   "execution_count": 3,
   "metadata": {},
   "outputs": [
    {
     "name": "stdout",
     "output_type": "stream",
     "text": [
      "[]\n"
     ]
    }
   ],
   "source": [
    "#your code\n",
    "#search for   <a class=\"js-selected-navigation-item selected tabnav-tab\" aria-current=\"page\" data-selected-links=\"trending_developers /trending/developers\" href=\"/trending/developers\">Developers</a>\n",
    "response = requests.get(URL_DEVELOPERS)\n",
    "soup = BeautifulSoup(response.text, \"html.parser\")\n",
    "\n",
    "developers_cont = soup.find_all('h2',{'class','f3 text-normal'})\n",
    "#print(developers_cont)\n",
    "\n",
    "developers_info = [developer.text.replace(\" \",\"\").replace(\"\\n\",\"\") for developer in developers_cont]\n",
    "print(developers_info)\n",
    "for developer in developers_info:\n",
    "    index_alias = developer.find(\"(\")\n",
    "    alias = developer[0:index_alias]\n",
    "    name = developer[index_alias+1:-2]\n",
    "    print (alias, name)"
   ]
  },
  {
   "cell_type": "markdown",
   "metadata": {},
   "source": [
    "#### Display the names of the trending developers retrieved in the previous step.\n",
    "\n",
    "Your output should be a Python list of developer names. Each name should not contain any html tag.\n",
    "\n",
    "**Instructions:**\n",
    "\n",
    "1. Find out the html tag and class names used for the developer names. You can achieve this using Chrome DevTools.\n",
    "\n",
    "1. Use BeautifulSoup to extract all the html elements that contain the developer names.\n",
    "\n",
    "1. Use string manipulation techniques to replace whitespaces and linebreaks (i.e. `\\n`) in the *text* of each html element. Use a list to store the clean names.\n",
    "\n",
    "1. Print the list of names.\n",
    "\n",
    "Your output should look like below:\n",
    "\n",
    "```\n",
    "['trimstray (@trimstray)',\n",
    " 'joewalnes (JoeWalnes)',\n",
    " 'charlax (Charles-AxelDein)',\n",
    " 'ForrestKnight (ForrestKnight)',\n",
    " 'revery-ui (revery-ui)',\n",
    " 'alibaba (Alibaba)',\n",
    " 'Microsoft (Microsoft)',\n",
    " 'github (GitHub)',\n",
    " 'facebook (Facebook)',\n",
    " 'boazsegev (Bo)',\n",
    " 'google (Google)',\n",
    " 'cloudfetch',\n",
    " 'sindresorhus (SindreSorhus)',\n",
    " 'tensorflow',\n",
    " 'apache (TheApacheSoftwareFoundation)',\n",
    " 'DevonCrawford (DevonCrawford)',\n",
    " 'ARMmbed (ArmMbed)',\n",
    " 'vuejs (vuejs)',\n",
    " 'fastai (fast.ai)',\n",
    " 'QiShaoXuan (Qi)',\n",
    " 'joelparkerhenderson (JoelParkerHenderson)',\n",
    " 'torvalds (LinusTorvalds)',\n",
    " 'CyC2018',\n",
    " 'komeiji-satori (神楽坂覚々)',\n",
    " 'script-8']\n",
    " ```"
   ]
  },
  {
   "cell_type": "code",
   "execution_count": 4,
   "metadata": {},
   "outputs": [
    {
     "name": "stdout",
     "output_type": "stream",
     "text": [
      "[]\n"
     ]
    }
   ],
   "source": [
    "#search for   <a class=\"js-selected-navigation-item selected tabnav-tab\" aria-current=\"page\" data-selected-links=\"trending_developers /trending/developers\" href=\"/trending/developers\">Developers</a>\n",
    "response = requests.get(URL_DEVELOPERS)\n",
    "soup = BeautifulSoup(response.text, \"html.parser\")\n",
    "\n",
    "developers_cont = soup.find_all('h2',{'class','f3 text-normal'})\n",
    "#print(developers_cont)\n",
    "\n",
    "developers_list = [developer.text.replace(\" \",\"\").replace(\"\\n\",\"\").replace(\"(\", \" (\") for developer in developers_cont]\n",
    "pprint(developers_list)\n",
    "\n"
   ]
  },
  {
   "cell_type": "markdown",
   "metadata": {},
   "source": [
    "#### Display the trending Python repositories in GitHub\n",
    "\n",
    "The steps to solve this problem is similar to the previous one except that you need to find out the repository names instead of developer names."
   ]
  },
  {
   "cell_type": "code",
   "execution_count": 5,
   "metadata": {},
   "outputs": [],
   "source": [
    "# This is the url you will scrape in this exercise\n",
    "URL_REPOSITORIES = 'https://github.com/trending/python?since=daily'"
   ]
  },
  {
   "cell_type": "code",
   "execution_count": 6,
   "metadata": {
    "scrolled": true
   },
   "outputs": [
    {
     "name": "stdout",
     "output_type": "stream",
     "text": [
      "[]\n"
     ]
    }
   ],
   "source": [
    "#your code\n",
    "response = requests.get(URL_REPOSITORIES)\n",
    "soup = BeautifulSoup(response.text, \"html.parser\")\n",
    "\n",
    "repositories_cont = soup.find_all('div', {'class', 'd-inline-block col-9 mb-1'})\n",
    "#print(repositories_cont)\n",
    "\n",
    "repositorie_list = [repositorie.text.replace('\\n',\"\").replace('/',\"/ Repositorie: \") for repositorie in repositories_cont]\n",
    "pprint(repositorie_list)\n"
   ]
  },
  {
   "cell_type": "markdown",
   "metadata": {},
   "source": [
    "#### Display all the image links from Walt Disney wikipedia page"
   ]
  },
  {
   "cell_type": "code",
   "execution_count": 7,
   "metadata": {},
   "outputs": [],
   "source": [
    "# This is the url you will scrape in this exercise\n",
    "URL_WALTDISNEY = 'https://en.wikipedia.org/wiki/Walt_Disney'"
   ]
  },
  {
   "cell_type": "code",
   "execution_count": 8,
   "metadata": {},
   "outputs": [
    {
     "name": "stdout",
     "output_type": "stream",
     "text": [
      "['https://upload.wikimedia.org/wikipedia/en/thumb/e/e7/Cscr-featured.svg/20px-Cscr-featured.svg.png',\n",
      " 'https://upload.wikimedia.org/wikipedia/en/thumb/1/1b/Semi-protection-shackle.svg/20px-Semi-protection-shackle.svg.png',\n",
      " 'https://upload.wikimedia.org/wikipedia/commons/thumb/d/df/Walt_Disney_1946.JPG/220px-Walt_Disney_1946.JPG',\n",
      " 'https://upload.wikimedia.org/wikipedia/commons/thumb/8/87/Walt_Disney_1942_signature.svg/150px-Walt_Disney_1942_signature.svg.png',\n",
      " 'https://upload.wikimedia.org/wikipedia/commons/thumb/c/c4/Walt_Disney_envelope_ca._1921.jpg/220px-Walt_Disney_envelope_ca._1921.jpg',\n",
      " 'https://upload.wikimedia.org/wikipedia/commons/thumb/4/4d/Newman_Laugh-O-Gram_%281921%29.webm/220px-seek%3D2-Newman_Laugh-O-Gram_%281921%29.webm.jpg',\n",
      " 'https://upload.wikimedia.org/wikipedia/commons/thumb/0/0d/Trolley_Troubles_poster.jpg/170px-Trolley_Troubles_poster.jpg',\n",
      " 'https://upload.wikimedia.org/wikipedia/commons/thumb/7/71/Walt_Disney_and_his_cartoon_creation_%22Mickey_Mouse%22_-_National_Board_of_Review_Magazine.jpg/170px-Walt_Disney_and_his_cartoon_creation_%22Mickey_Mouse%22_-_National_Board_of_Review_Magazine.jpg',\n",
      " 'https://upload.wikimedia.org/wikipedia/en/thumb/4/4e/Steamboat-willie.jpg/170px-Steamboat-willie.jpg',\n",
      " 'https://upload.wikimedia.org/wikipedia/commons/thumb/5/57/Walt_Disney_1935.jpg/170px-Walt_Disney_1935.jpg',\n",
      " 'https://upload.wikimedia.org/wikipedia/commons/thumb/c/cd/Walt_Disney_Snow_white_1937_trailer_screenshot_%2813%29.jpg/220px-Walt_Disney_Snow_white_1937_trailer_screenshot_%2813%29.jpg',\n",
      " 'https://upload.wikimedia.org/wikipedia/commons/thumb/1/15/Disney_drawing_goofy.jpg/170px-Disney_drawing_goofy.jpg',\n",
      " 'https://upload.wikimedia.org/wikipedia/commons/thumb/1/13/DisneySchiphol1951.jpg/220px-DisneySchiphol1951.jpg',\n",
      " 'https://upload.wikimedia.org/wikipedia/commons/thumb/8/8c/WaltDisneyplansDisneylandDec1954.jpg/220px-WaltDisneyplansDisneylandDec1954.jpg',\n",
      " 'https://upload.wikimedia.org/wikipedia/commons/thumb/f/ff/Walt_disney_portrait_right.jpg/170px-Walt_disney_portrait_right.jpg',\n",
      " 'https://upload.wikimedia.org/wikipedia/commons/thumb/1/1a/Walt_Disney_Grave.JPG/170px-Walt_Disney_Grave.JPG',\n",
      " 'https://upload.wikimedia.org/wikipedia/commons/thumb/2/2d/Roy_O._Disney_with_Company_at_Press_Conference.jpg/170px-Roy_O._Disney_with_Company_at_Press_Conference.jpg',\n",
      " 'https://upload.wikimedia.org/wikipedia/commons/thumb/a/a9/Disney_Display_Case.JPG/170px-Disney_Display_Case.JPG',\n",
      " 'https://upload.wikimedia.org/wikipedia/commons/thumb/6/6c/Disney1968.jpg/170px-Disney1968.jpg',\n",
      " 'https://upload.wikimedia.org/wikipedia/en/thumb/8/8a/OOjs_UI_icon_edit-ltr-progressive.svg/10px-OOjs_UI_icon_edit-ltr-progressive.svg.png',\n",
      " 'https://upload.wikimedia.org/wikipedia/commons/thumb/d/da/Animation_disc.svg/30px-Animation_disc.svg.png',\n",
      " 'https://upload.wikimedia.org/wikipedia/en/thumb/6/69/P_vip.svg/29px-P_vip.svg.png',\n",
      " 'https://upload.wikimedia.org/wikipedia/commons/thumb/1/1a/Magic_Kingdom_castle.jpg/24px-Magic_Kingdom_castle.jpg',\n",
      " 'https://upload.wikimedia.org/wikipedia/en/thumb/e/e7/Video-x-generic.svg/30px-Video-x-generic.svg.png',\n",
      " 'https://upload.wikimedia.org/wikipedia/commons/thumb/a/a3/Flag_of_Los_Angeles_County%2C_California.svg/30px-Flag_of_Los_Angeles_County%2C_California.svg.png',\n",
      " 'https://upload.wikimedia.org/wikipedia/commons/thumb/a/a3/USA_flag_on_television.svg/30px-USA_flag_on_television.svg.png',\n",
      " 'https://upload.wikimedia.org/wikipedia/en/thumb/4/4a/Commons-logo.svg/22px-Commons-logo.svg.png',\n",
      " 'https://upload.wikimedia.org/wikipedia/commons/thumb/f/fa/Wikiquote-logo.svg/25px-Wikiquote-logo.svg.png',\n",
      " 'https://upload.wikimedia.org/wikipedia/commons/thumb/f/ff/Wikidata-logo.svg/30px-Wikidata-logo.svg.png',\n",
      " 'https://upload.wikimedia.org/wikipedia/en/thumb/8/8a/OOjs_UI_icon_edit-ltr-progressive.svg/10px-OOjs_UI_icon_edit-ltr-progressive.svg.png',\n",
      " 'https://en.wikipedia.org/wiki/Special:CentralAutoLogin/start?type=1x1',\n",
      " 'https:/static/images/wikimedia-button.png',\n",
      " 'https:/static/images/poweredby_mediawiki_88x31.png']\n"
     ]
    },
    {
     "data": {
      "text/plain": [
       "'\\ncategories = category_container.find_all(\"a\", {\\'itemprop\\': \\'url\\'}) #es una lista\\nsource of html\\n<li class=\"suscribete\" itemprop=\"name\"><a href=\"//suscripciones.elpais.com/?id_externo_promo=suscrip_cabecera_ep.com\" itemprop=\"url\">Suscríbete</a></li>\\n\\n'"
      ]
     },
     "execution_count": 8,
     "metadata": {},
     "output_type": "execute_result"
    }
   ],
   "source": [
    "#your code\n",
    "response = requests.get(URL_WALTDISNEY)\n",
    "soup = BeautifulSoup(response.text, \"html.parser\")\n",
    "\n",
    "images_cont = soup.find_all('img')\n",
    "#pprint(images_cont)\n",
    "source = [\"https:\"+images.get('src') for images in images_cont]\n",
    "pprint(source)\n",
    "\n",
    "\n",
    "\"\"\"\n",
    "categories = category_container.find_all(\"a\", {'itemprop': 'url'}) #es una lista\n",
    "source of html\n",
    "<li class=\"suscribete\" itemprop=\"name\"><a href=\"//suscripciones.elpais.com/?id_externo_promo=suscrip_cabecera_ep.com\" itemprop=\"url\">Suscríbete</a></li>\n",
    "\n",
    "\"\"\""
   ]
  },
  {
   "cell_type": "markdown",
   "metadata": {},
   "source": [
    "#### Retrieve an arbitary Wikipedia page of \"Python\" and create a list of links on that page"
   ]
  },
  {
   "cell_type": "code",
   "execution_count": 9,
   "metadata": {},
   "outputs": [],
   "source": [
    "# This is the url you will scrape in this exercise\n",
    "URL_PYTHON ='https://en.wikipedia.org/wiki/Python' "
   ]
  },
  {
   "cell_type": "code",
   "execution_count": 10,
   "metadata": {},
   "outputs": [
    {
     "name": "stdout",
     "output_type": "stream",
     "text": [
      "['https://en.wiktionary.org/wiki/Python',\n",
      " 'https://en.wiktionary.org/wiki/python',\n",
      " '#Snakes',\n",
      " '#Ancient_Greece',\n",
      " '#Media_and_entertainment',\n",
      " '#Computing',\n",
      " '#Engineering',\n",
      " '#Roller_coasters',\n",
      " '#Vehicles',\n",
      " '#Weaponry',\n",
      " '#People',\n",
      " '#Other_uses',\n",
      " '#See_also',\n",
      " '/w/index.php?title=Python&action=edit&section=1',\n",
      " '/wiki/Pythonidae',\n",
      " '/wiki/Python_(genus)',\n",
      " '/w/index.php?title=Python&action=edit&section=2',\n",
      " '/wiki/Python_(mythology)',\n",
      " '/wiki/Python_of_Aenus']\n"
     ]
    }
   ],
   "source": [
    "#your code\n",
    "\"\"\"\n",
    "linksPython = []\n",
    "response = requests.get(URL_PYTHON)\n",
    "soup = BeautifulSoup(response.text, \"html.parser\")\n",
    "#print(soup)\n",
    "linksPython_container = soup.find('div', {'class', 'mw-parser-output'})\n",
    "#pprint(linksPython_container)\n",
    "\n",
    "linksPython_list = linksPython_container.find_all('a')\n",
    "#pprint(linksPython_list)\n",
    "linksPython = [link.get('href') for link in linksPython_list if (link.text.find('#') == -1)|(link.text.find('php')== -1)]\n",
    "pprint(linksPython)\n",
    "\"\"\"\n",
    "linksPython = []\n",
    "response = requests.get(URL_PYTHON)\n",
    "soup = BeautifulSoup(response.text, \"html.parser\")\n",
    "headers_container = soup.find_all('span', {'class', 'mw-headline'})\n",
    "for header in headers_container:\n",
    "    linksPython_container = soup.find('div', {'class', 'mw-parser-output'})\n",
    "    linksPython_list = linksPython_container.find_all('a')\n",
    "    linksPython = [link.get('href') for link in linksPython_list]\n",
    "\n",
    "pprint(linksPython[:19])"
   ]
  },
  {
   "cell_type": "markdown",
   "metadata": {},
   "source": [
    "#### Number of Titles that have changed in the United States Code since its last release point "
   ]
  },
  {
   "cell_type": "code",
   "execution_count": 11,
   "metadata": {},
   "outputs": [],
   "source": [
    "# This is the url you will scrape in this exercise\n",
    "URL_CODE = 'http://uscode.house.gov/download/download.shtml'"
   ]
  },
  {
   "cell_type": "code",
   "execution_count": 12,
   "metadata": {
    "scrolled": true
   },
   "outputs": [
    {
     "name": "stdout",
     "output_type": "stream",
     "text": [
      "The total number of versions is  54\n",
      "['          Title 1 - General Provisions                          ',\n",
      " '          Title 2 - The Congress                          ',\n",
      " '          Title 3 - The President                          ',\n",
      " '          Title 4 - Flag and Seal, Seat of Government, and the '\n",
      " 'States                          ',\n",
      " '          Title 5 - Government Organization and '\n",
      " 'Employees                          ',\n",
      " '          Title 6 - Domestic Security                          ',\n",
      " '          Title 7 - Agriculture                          ',\n",
      " '          Title 8 - Aliens and Nationality                          ',\n",
      " '          Title 9 - Arbitration                          ']\n"
     ]
    }
   ],
   "source": [
    "#your code\n",
    "count_codes = 0\n",
    "input_codes = []\n",
    "\n",
    "response = requests.get(URL_CODE)\n",
    "soup = BeautifulSoup(response.text, \"html.parser\")\n",
    "\n",
    "#print(soup)\n",
    "uscitem_container = soup.find_all('div', {'class', 'uscitem'})#\n",
    "#pprint(uscitem_container[:4])\n",
    "\n",
    "for index, uscitem in enumerate(uscitem_container):\n",
    "    #print(uscitem.text.find('Appendix'))\n",
    "    if (index != 0 and uscitem.text.find('Appendix') == -1): #reject first item and all with text containing \"Appendix\"\n",
    "        input_codes.append(uscitem.text.replace('\\n','').replace('[XML]\\xa0[XHTML]\\xa0[PCC]\\xa0[PDF]','').replace('[XML]\\xa0','').replace('116-21',''))\n",
    "        count_codes += 1\n",
    "    \n",
    "print(\"The total number of versions is \",count_codes)\n",
    "pprint(input_codes[:9])"
   ]
  },
  {
   "cell_type": "markdown",
   "metadata": {},
   "source": [
    "#### A Python list with the top ten FBI's Most Wanted names "
   ]
  },
  {
   "cell_type": "code",
   "execution_count": 13,
   "metadata": {},
   "outputs": [],
   "source": [
    "# This is the url you will scrape in this exercise\n",
    "URL_FBI = 'https://www.fbi.gov/wanted/topten'"
   ]
  },
  {
   "cell_type": "code",
   "execution_count": 14,
   "metadata": {},
   "outputs": [
    {
     "name": "stdout",
     "output_type": "stream",
     "text": [
      "Top 10 most FBI wanted:\n",
      " ['RAFAEL CARO-QUINTERO', 'ALEXIS FLORES', 'EUGENE PALMER', 'SANTIAGO VILLALBA MEDEROS', 'ROBERT WILLIAM FISHER', 'BHADRESHKUMAR CHETANBHAI PATEL', 'ARNOLDO JIMENEZ', 'ALEJANDRO ROSALES CASTILLO', 'YASER ABDEL SAID', 'JASON DEREK BROWN']\n"
     ]
    }
   ],
   "source": [
    "#your code \n",
    "response = requests.get(URL_FBI)\n",
    "soup = BeautifulSoup(response.text, \"html.parser\")\n",
    "\n",
    "#print(soup)\n",
    "wanted_container = soup.find_all('li', {'class', 'portal-type-person castle-grid-block-item'})#\n",
    "\n",
    "items = [lines.find('h3', {'class','title'}) for lines in wanted_container]\n",
    "list_of_wanteds = [wanted.text.replace('\\n','') for wanted in items]\n",
    "\n",
    "print(\"Top 10 most FBI wanted:\\n\", list_of_wanteds)\n"
   ]
  },
  {
   "cell_type": "markdown",
   "metadata": {},
   "source": [
    "####  20 latest earthquakes info (date, time, latitude, longitude and region name) by the EMSC as a pandas dataframe"
   ]
  },
  {
   "cell_type": "code",
   "execution_count": 15,
   "metadata": {},
   "outputs": [],
   "source": [
    "# This is the url you will scrape in this exercise\n",
    "URL_EARTHQUAKE = 'https://www.emsc-csem.org/Earthquake/'"
   ]
  },
  {
   "cell_type": "code",
   "execution_count": 16,
   "metadata": {},
   "outputs": [
    {
     "name": "stdout",
     "output_type": "stream",
     "text": [
      "19.37 \n",
      "66.28 \n",
      "10\n",
      "4.4\n",
      "37.72 \n",
      "22.82 \n",
      "66\n",
      "2.6\n",
      "60.34 \n",
      "150.70 \n",
      "35\n",
      "3.3\n",
      "15.61 \n",
      "98.42 \n",
      "16\n",
      "4.1\n",
      "37.07 \n",
      "27.98 \n",
      "8\n",
      "2.5\n",
      "5.41 \n",
      "128.25 \n",
      "326\n",
      "4.1\n",
      "32.57 \n",
      "71.55 \n",
      "33\n",
      "3.1\n",
      "8.43 \n",
      "108.76 \n",
      "49\n",
      "5.1\n",
      "5.35 \n",
      "151.85 \n",
      "80\n",
      "5.0\n",
      "24.24 \n",
      "67.08 \n",
      "190\n",
      "3.7\n",
      "44.33 \n",
      "10.69 \n",
      "9\n",
      "2.5\n",
      "36.12 \n",
      "117.88 \n",
      "9\n",
      "2.1\n",
      "31.01 \n",
      "177.49 \n",
      "35\n",
      "5.0\n",
      "34.89 \n",
      "33.28 \n",
      "35\n",
      "2.4\n",
      "30.94 \n",
      "177.42 \n",
      "10\n",
      "6.2\n",
      "16.17 \n",
      "97.52 \n",
      "27\n",
      "4.1\n",
      "48.67 \n",
      "122.21 \n",
      "8\n",
      "2.2\n",
      "48.67 \n",
      "122.25 \n",
      "7\n",
      "2.9\n",
      "38.11 \n",
      "28.92 \n",
      "3\n",
      "2.3\n",
      "31.23 \n",
      "177.67 \n",
      "35\n",
      "5.3\n",
      "36.12 \n",
      "117.88 \n",
      "8\n",
      "2.0\n",
      "37.73 \n",
      "20.73 \n",
      "2\n",
      "3.4\n",
      "40.71 \n",
      "34.89 \n",
      "14\n",
      "2.6\n",
      "47.15 \n",
      "0.54 \n",
      "10\n",
      "4.8\n",
      "38.92 \n",
      "21.10 \n",
      "26\n",
      "2.8\n",
      "36.12 \n",
      "117.88 \n",
      "8\n",
      "2.2\n",
      "30.22 \n",
      "149.99 \n",
      "10\n",
      "3.1\n",
      "5.99 \n",
      "149.68 \n",
      "60\n",
      "5.3\n",
      "26.96 \n",
      "69.47 \n",
      "112\n",
      "3.0\n",
      "37.04 \n",
      "27.98 \n",
      "7\n",
      "2.7\n",
      "59.93 \n",
      "152.66 \n",
      "80\n",
      "2.3\n",
      "43.67 \n",
      "128.34 \n",
      "10\n",
      "4.2\n",
      "60.02 \n",
      "153.45 \n",
      "158\n",
      "2.7\n",
      "16.87 \n",
      "96.53 \n",
      "70\n",
      "4.1\n",
      "6.83 \n",
      "73.15 \n",
      "141\n",
      "3.7\n",
      "45.61 \n",
      "26.45 \n",
      "145\n",
      "3.7\n",
      "37.65 \n",
      "27.29 \n",
      "8\n",
      "2.0\n",
      "40.83 \n",
      "27.95 \n",
      "13\n",
      "3.3\n",
      "42.04 \n",
      "142.71 \n",
      "60\n",
      "3.8\n",
      "34.82 \n",
      "24.82 \n",
      "5\n",
      "3.3\n",
      "64.51 \n",
      "147.93 \n",
      "18\n",
      "2.5\n",
      "2.47 \n",
      "77.95 \n",
      "125\n",
      "3.6\n",
      "2.48 \n",
      "126.77 \n",
      "10\n",
      "3.9\n",
      "19.11 \n",
      "66.53 \n",
      "35\n",
      "4.1\n",
      "21.06 \n",
      "68.88 \n",
      "112\n",
      "3.0\n",
      "56.89 \n",
      "34.01 \n",
      "10\n",
      "4.4\n",
      "36.56 \n",
      "121.08 \n",
      "7\n",
      "2.6\n",
      "1.84 \n",
      "138.53 \n",
      "16\n",
      "4.7\n"
     ]
    },
    {
     "ename": "IndexError",
     "evalue": "list index out of range",
     "output_type": "error",
     "traceback": [
      "\u001b[0;31m---------------------------------------------------------------------------\u001b[0m",
      "\u001b[0;31mIndexError\u001b[0m                                Traceback (most recent call last)",
      "\u001b[0;32m<ipython-input-16-241f6547e588>\u001b[0m in \u001b[0;36m<module>\u001b[0;34m\u001b[0m\n\u001b[1;32m     11\u001b[0m \u001b[0;32mfor\u001b[0m \u001b[0mindex\u001b[0m\u001b[0;34m,\u001b[0m \u001b[0mline\u001b[0m \u001b[0;32min\u001b[0m \u001b[0menumerate\u001b[0m\u001b[0;34m(\u001b[0m\u001b[0mcases_container\u001b[0m\u001b[0;34m)\u001b[0m\u001b[0;34m:\u001b[0m\u001b[0;34m\u001b[0m\u001b[0;34m\u001b[0m\u001b[0m\n\u001b[1;32m     12\u001b[0m     \u001b[0mlat_long\u001b[0m \u001b[0;34m=\u001b[0m \u001b[0mline\u001b[0m\u001b[0;34m.\u001b[0m\u001b[0mfind_all\u001b[0m\u001b[0;34m(\u001b[0m\u001b[0;34m'td'\u001b[0m\u001b[0;34m,\u001b[0m\u001b[0;34m{\u001b[0m\u001b[0;34m'class'\u001b[0m\u001b[0;34m,\u001b[0m\u001b[0;34m'tabev1'\u001b[0m \u001b[0;34m}\u001b[0m\u001b[0;34m)\u001b[0m\u001b[0;34m\u001b[0m\u001b[0;34m\u001b[0m\u001b[0m\n\u001b[0;32m---> 13\u001b[0;31m     \u001b[0mprint\u001b[0m\u001b[0;34m(\u001b[0m\u001b[0mlat_long\u001b[0m\u001b[0;34m[\u001b[0m\u001b[0;36m0\u001b[0m\u001b[0;34m]\u001b[0m\u001b[0;34m.\u001b[0m\u001b[0mtext\u001b[0m\u001b[0;34m)\u001b[0m\u001b[0;34m\u001b[0m\u001b[0;34m\u001b[0m\u001b[0m\n\u001b[0m\u001b[1;32m     14\u001b[0m     \u001b[0mprint\u001b[0m\u001b[0;34m(\u001b[0m\u001b[0mlat_long\u001b[0m\u001b[0;34m[\u001b[0m\u001b[0;36m1\u001b[0m\u001b[0;34m]\u001b[0m\u001b[0;34m.\u001b[0m\u001b[0mtext\u001b[0m\u001b[0;34m)\u001b[0m\u001b[0;34m\u001b[0m\u001b[0;34m\u001b[0m\u001b[0m\n\u001b[1;32m     15\u001b[0m \u001b[0;34m\u001b[0m\u001b[0m\n",
      "\u001b[0;31mIndexError\u001b[0m: list index out of range"
     ]
    }
   ],
   "source": [
    "#your code \n",
    "response = requests.get(URL_EARTHQUAKE)\n",
    "soup = BeautifulSoup(response.text, \"html.parser\")\n",
    "container = soup.find('tbody')\n",
    "\n",
    "#container = soup.find_all('tbody',{'id','tbody'})\n",
    "#pprint(container)\n",
    "cases_container = container.find_all('tr')\n",
    "#pprint(cases_container)\n",
    "\n",
    "for index, line in enumerate(cases_container):\n",
    "    lat_long = line.find_all('td',{'class','tabev1' })\n",
    "    print(lat_long[0].text)\n",
    "    print(lat_long[1].text)\n",
    "    \n",
    "    depth = line.find('td',{'class','tabev3' })\n",
    "    print(depth.text)\n",
    "    mag = line.find_all('td',{'class','tabev2' })\n",
    "    print(mag[2].text)\n",
    "\n",
    "\n",
    "#pprint(container)"
   ]
  },
  {
   "cell_type": "markdown",
   "metadata": {},
   "source": [
    "#### Display the date, days, title, city, country of next 25 hackathon events as a Pandas dataframe table"
   ]
  },
  {
   "cell_type": "code",
   "execution_count": null,
   "metadata": {},
   "outputs": [],
   "source": [
    "# This is the url you will scrape in this exercise\n",
    "url ='https://hackevents.co/hackathons'"
   ]
  },
  {
   "cell_type": "code",
   "execution_count": null,
   "metadata": {},
   "outputs": [],
   "source": [
    "#your code"
   ]
  },
  {
   "cell_type": "markdown",
   "metadata": {},
   "source": [
    "#### Count number of tweets by a given Twitter account."
   ]
  },
  {
   "cell_type": "markdown",
   "metadata": {},
   "source": [
    "You will need to include a ***try/except block*** for account names not found. \n",
    "<br>***Hint:*** the program should count the number of tweets for any provided account"
   ]
  },
  {
   "cell_type": "code",
   "execution_count": null,
   "metadata": {},
   "outputs": [],
   "source": [
    "# This is the url you will scrape in this exercise \n",
    "# You will need to add the account credentials to this url\n",
    "url = 'https://twitter.com/'"
   ]
  },
  {
   "cell_type": "code",
   "execution_count": null,
   "metadata": {},
   "outputs": [],
   "source": [
    "#your code"
   ]
  },
  {
   "cell_type": "markdown",
   "metadata": {},
   "source": [
    "#### Number of followers of a given twitter account"
   ]
  },
  {
   "cell_type": "markdown",
   "metadata": {},
   "source": [
    "You will need to include a ***try/except block*** in case account/s name not found. \n",
    "<br>***Hint:*** the program should count the followers for any provided account"
   ]
  },
  {
   "cell_type": "code",
   "execution_count": null,
   "metadata": {},
   "outputs": [],
   "source": [
    "# This is the url you will scrape in this exercise \n",
    "# You will need to add the account credentials to this url\n",
    "url = 'https://twitter.com/'"
   ]
  },
  {
   "cell_type": "code",
   "execution_count": null,
   "metadata": {},
   "outputs": [],
   "source": [
    "#your code"
   ]
  },
  {
   "cell_type": "markdown",
   "metadata": {},
   "source": [
    "#### List all language names and number of related articles in the order they appear in wikipedia.org"
   ]
  },
  {
   "cell_type": "code",
   "execution_count": null,
   "metadata": {},
   "outputs": [],
   "source": [
    "# This is the url you will scrape in this exercise\n",
    "url = 'https://www.wikipedia.org/'"
   ]
  },
  {
   "cell_type": "code",
   "execution_count": null,
   "metadata": {},
   "outputs": [],
   "source": [
    "#your code"
   ]
  },
  {
   "cell_type": "markdown",
   "metadata": {},
   "source": [
    "#### A list with the different kind of datasets available in data.gov.uk "
   ]
  },
  {
   "cell_type": "code",
   "execution_count": null,
   "metadata": {},
   "outputs": [],
   "source": [
    "# This is the url you will scrape in this exercise\n",
    "url = 'https://data.gov.uk/'"
   ]
  },
  {
   "cell_type": "code",
   "execution_count": null,
   "metadata": {},
   "outputs": [],
   "source": [
    "#your code "
   ]
  },
  {
   "cell_type": "markdown",
   "metadata": {},
   "source": [
    "#### Top 10 languages by number of native speakers stored in a Pandas Dataframe"
   ]
  },
  {
   "cell_type": "code",
   "execution_count": null,
   "metadata": {},
   "outputs": [],
   "source": [
    "# This is the url you will scrape in this exercise\n",
    "url = 'https://en.wikipedia.org/wiki/List_of_languages_by_number_of_native_speakers'"
   ]
  },
  {
   "cell_type": "code",
   "execution_count": null,
   "metadata": {},
   "outputs": [],
   "source": [
    "#your code"
   ]
  },
  {
   "cell_type": "markdown",
   "metadata": {},
   "source": [
    "### BONUS QUESTIONS"
   ]
  },
  {
   "cell_type": "markdown",
   "metadata": {},
   "source": [
    "#### Scrape a certain number of tweets of a given Twitter account."
   ]
  },
  {
   "cell_type": "code",
   "execution_count": null,
   "metadata": {},
   "outputs": [],
   "source": [
    "# This is the url you will scrape in this exercise \n",
    "# You will need to add the account credentials to this url\n",
    "url = 'https://twitter.com/'"
   ]
  },
  {
   "cell_type": "code",
   "execution_count": null,
   "metadata": {},
   "outputs": [],
   "source": [
    "# your code"
   ]
  },
  {
   "cell_type": "markdown",
   "metadata": {},
   "source": [
    "#### IMDB's Top 250 data (movie name, Initial release, director name and stars) as a pandas dataframe"
   ]
  },
  {
   "cell_type": "code",
   "execution_count": null,
   "metadata": {},
   "outputs": [],
   "source": [
    "# This is the url you will scrape in this exercise \n",
    "url = 'https://www.imdb.com/chart/top'"
   ]
  },
  {
   "cell_type": "code",
   "execution_count": null,
   "metadata": {},
   "outputs": [],
   "source": [
    "# your code"
   ]
  },
  {
   "cell_type": "markdown",
   "metadata": {},
   "source": [
    "#### Movie name, year and a brief summary of the top 10 random movies (IMDB) as a pandas dataframe."
   ]
  },
  {
   "cell_type": "code",
   "execution_count": null,
   "metadata": {},
   "outputs": [],
   "source": [
    "#This is the url you will scrape in this exercise\n",
    "url = 'http://www.imdb.com/chart/top'"
   ]
  },
  {
   "cell_type": "code",
   "execution_count": null,
   "metadata": {},
   "outputs": [],
   "source": [
    "#your code"
   ]
  },
  {
   "cell_type": "markdown",
   "metadata": {},
   "source": [
    "#### Find the live weather report (temperature, wind speed, description and weather) of a given city."
   ]
  },
  {
   "cell_type": "code",
   "execution_count": null,
   "metadata": {},
   "outputs": [],
   "source": [
    "#https://openweathermap.org/current\n",
    "city = city=input('Enter the city:')\n",
    "url = 'http://api.openweathermap.org/data/2.5/weather?'+'q='+city+'&APPID=b35975e18dc93725acb092f7272cc6b8&units=metric'"
   ]
  },
  {
   "cell_type": "code",
   "execution_count": null,
   "metadata": {},
   "outputs": [],
   "source": [
    "# your code"
   ]
  },
  {
   "cell_type": "markdown",
   "metadata": {},
   "source": [
    "#### Book name,price and stock availability as a pandas dataframe."
   ]
  },
  {
   "cell_type": "code",
   "execution_count": null,
   "metadata": {},
   "outputs": [],
   "source": [
    "# This is the url you will scrape in this exercise. \n",
    "# It is a fictional bookstore created to be scraped. \n",
    "url = 'http://books.toscrape.com/'"
   ]
  },
  {
   "cell_type": "code",
   "execution_count": null,
   "metadata": {},
   "outputs": [],
   "source": [
    "#your code"
   ]
  }
 ],
 "metadata": {
  "kernelspec": {
   "display_name": "Python 3",
   "language": "python",
   "name": "python3"
  },
  "language_info": {
   "codemirror_mode": {
    "name": "ipython",
    "version": 3
   },
   "file_extension": ".py",
   "mimetype": "text/x-python",
   "name": "python",
   "nbconvert_exporter": "python",
   "pygments_lexer": "ipython3",
   "version": "3.7.3"
  }
 },
 "nbformat": 4,
 "nbformat_minor": 2
}
