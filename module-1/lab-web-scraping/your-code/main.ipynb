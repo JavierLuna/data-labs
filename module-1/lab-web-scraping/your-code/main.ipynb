{
 "cells": [
  {
   "cell_type": "markdown",
   "metadata": {},
   "source": [
    "# Web Scraping Lab\n",
    "\n",
    "You will find in this notebook some scrapy exercises to practise your scraping skills.\n",
    "\n",
    "**Tips:**\n",
    "\n",
    "- Check the response status code for each request to ensure you have obtained the intended contennt.\n",
    "- Print the response text in each request to understand the kind of info you are getting and its format.\n",
    "- Check for patterns in the response text to extract the data/info requested in each question.\n",
    "- Visit each url and take a look at its source through Chrome DevTools. You'll need to identify the html tags, special class names etc. used for the html content you are expected to extract."
   ]
  },
  {
   "cell_type": "markdown",
   "metadata": {},
   "source": [
    "- [Requests library](http://docs.python-requests.org/en/master/#the-user-guide) documentation \n",
    "- [Beautiful Soup Doc](https://www.crummy.com/software/BeautifulSoup/bs4/doc/)\n",
    "- [Urllib](https://docs.python.org/3/library/urllib.html#module-urllib)\n",
    "- [re lib](https://docs.python.org/3/library/re.html)\n",
    "- [lxml lib](https://lxml.de/)\n",
    "- [Scrapy](https://scrapy.org/)\n",
    "- [List of HTTP status codes](https://en.wikipedia.org/wiki/List_of_HTTP_status_codes)\n",
    "- [HTML basics](http://www.simplehtmlguide.com/cheatsheet.php)\n",
    "- [CSS basics](https://www.cssbasics.com/#page_start)"
   ]
  },
  {
   "cell_type": "markdown",
   "metadata": {},
   "source": [
    "#### Below are the libraries and modules you may need. `requests`,  `BeautifulSoup` and `pandas` are imported for you. If you prefer to use additional libraries feel free to uncomment them."
   ]
  },
  {
   "cell_type": "code",
   "execution_count": 2,
   "metadata": {},
   "outputs": [],
   "source": [
    "import requests\n",
    "from bs4 import BeautifulSoup\n",
    "import pandas as pd\n",
    "from pprint import pprint\n",
    "from lxml import html\n",
    "from lxml.html import fromstring\n",
    "import urllib.request\n",
    "from urllib.request import urlopen\n",
    "import random\n",
    "import re\n",
    "import scrapy\n",
    "import json\n",
    "from itertools import zip_longest"
   ]
  },
  {
   "cell_type": "markdown",
   "metadata": {},
   "source": [
    "#### Download, parse (using BeautifulSoup), and print the content from the Trending Developers page from GitHub:"
   ]
  },
  {
   "cell_type": "code",
   "execution_count": 122,
   "metadata": {},
   "outputs": [],
   "source": [
    "# This is the url you will scrape in this exercise\n",
    "url ='https://github.com/trending/developers'\n",
    "\n",
    "# Adding this so that the scraped page doesnt block us\n",
    "headers = {'User-Agent': \"Mozilla/5.0 (Macintosh; Intel Mac OS X 10.12; rv:66.0) Gecko/20100101 Firefox/66.0\"}\n"
   ]
  },
  {
   "cell_type": "code",
   "execution_count": 129,
   "metadata": {},
   "outputs": [],
   "source": [
    "#your code\n",
    "\n",
    "# Accesing to the URL\n",
    "response = requests.get(url, headers=headers)\n",
    "\n",
    "# 1. Inspect the page because everypage is different -- open the html that has just been created\n",
    "\n",
    "soup=BeautifulSoup(response.text,'html.parser')\n",
    "\n",
    "# 2. Container to get all the developers\n",
    "text_container = soup.find_all('h1', {'class':'h3 lh-condensed'})"
   ]
  },
  {
   "cell_type": "code",
   "execution_count": 124,
   "metadata": {},
   "outputs": [
    {
     "data": {
      "text/plain": [
       "['[<h1 class=\"h3 lh-condensed\">\\n<a ',\n",
       " '=\"/phil-opp\">\\n            Philipp Oppermann\\n</a>\\n</h1>, <h1 class=\"h3 lh-condensed\">\\n<a ',\n",
       " '=\"/lirantal\">\\n            Liran Tal\\n</a>\\n</h1>, <h1 class=\"h3 lh-condensed\">\\n<a ',\n",
       " '=\"/eddiejaoude\">\\n            Eddie Jaoude\\n</a>\\n</h1>, <h1 class=\"h3 lh-condensed\">\\n<a ',\n",
       " '=\"/buger\">\\n            Leonid Bugaev\\n</a>\\n</h1>, <h1 class=\"h3 lh-condensed\">\\n<a ',\n",
       " '=\"/bpasero\">\\n            Benjamin Pasero\\n</a>\\n</h1>, <h1 class=\"h3 lh-condensed\">\\n<a ',\n",
       " '=\"/driesvints\">\\n            Dries Vints\\n</a>\\n</h1>, <h1 class=\"h3 lh-condensed\">\\n<a ',\n",
       " '=\"/onmyway133\">\\n            Khoa\\n</a>\\n</h1>, <h1 class=\"h3 lh-condensed\">\\n<a ',\n",
       " '=\"/asim\">\\n            Asim Aslam\\n</a>\\n</h1>, <h1 class=\"h3 lh-condensed\">\\n<a ',\n",
       " '=\"/bungle\">\\n            Aapo Talvensaari\\n</a>\\n</h1>, <h1 class=\"h3 lh-condensed\">\\n<a ',\n",
       " '=\"/jamesagnew\">\\n            James Agnew\\n</a>\\n</h1>, <h1 class=\"h3 lh-condensed\">\\n<a ',\n",
       " '=\"/yuvipanda\">\\n            Yuvi Panda\\n</a>\\n</h1>, <h1 class=\"h3 lh-condensed\">\\n<a ',\n",
       " '=\"/muenzpraeger\">\\n            René Winkelmeyer\\n</a>\\n</h1>, <h1 class=\"h3 lh-condensed\">\\n<a ',\n",
       " '=\"/borkdude\">\\n            Michiel Borkent\\n</a>\\n</h1>, <h1 class=\"h3 lh-condensed\">\\n<a ',\n",
       " '=\"/dtolnay\">\\n            David Tolnay\\n</a>\\n</h1>, <h1 class=\"h3 lh-condensed\">\\n<a ',\n",
       " '=\"/kubukoz\">\\n            Jakub Kozłowski\\n</a>\\n</h1>, <h1 class=\"h3 lh-condensed\">\\n<a ',\n",
       " '=\"/nikolasburk\">\\n            Nikolas\\n</a>\\n</h1>, <h1 class=\"h3 lh-condensed\">\\n<a ',\n",
       " '=\"/ericmj\">\\n            Eric Meadows-Jönsson\\n</a>\\n</h1>, <h1 class=\"h3 lh-condensed\">\\n<a ',\n",
       " '=\"/rowanmiller\">\\n            Rowan Miller\\n</a>\\n</h1>, <h1 class=\"h3 lh-condensed\">\\n<a ',\n",
       " '=\"/soffes\">\\n            Sam Soffes\\n</a>\\n</h1>, <h1 class=\"h3 lh-condensed\">\\n<a ',\n",
       " '=\"/ktbyers\">\\n            Kirk Byers\\n</a>\\n</h1>, <h1 class=\"h3 lh-condensed\">\\n<a ',\n",
       " '=\"/hrydgard\">\\n            Henrik Rydgård\\n</a>\\n</h1>, <h1 class=\"h3 lh-condensed\">\\n<a ',\n",
       " '=\"/alexellis\">\\n            Alex Ellis\\n</a>\\n</h1>, <h1 class=\"h3 lh-condensed\">\\n<a ',\n",
       " '=\"/ddollar\">\\n            David Dollar\\n</a>\\n</h1>, <h1 class=\"h3 lh-condensed\">\\n<a ',\n",
       " '=\"/leodido\">\\n            Leo Di Donato\\n</a>\\n</h1>, <h1 class=\"h3 lh-condensed\">\\n<a ',\n",
       " '=\"/rrousselGit\">\\n            Remi Rousselet\\n</a>\\n</h1>]']"
      ]
     },
     "execution_count": 124,
     "metadata": {},
     "output_type": "execute_result"
    }
   ],
   "source": [
    "developers = str(text_container).split('href')\n",
    "developers"
   ]
  },
  {
   "cell_type": "code",
   "execution_count": 125,
   "metadata": {},
   "outputs": [
    {
     "data": {
      "text/plain": [
       "['[<h1 class=\"h3 lh-condensed\">\\n<a ',\n",
       " ',phil-opp,Philipp Oppermann',\n",
       " ',lirantal,Liran Tal',\n",
       " ',eddiejaoude,Eddie Jaoude',\n",
       " ',buger,Leonid Bugaev',\n",
       " ',bpasero,Benjamin Pasero',\n",
       " ',driesvints,Dries Vints',\n",
       " ',onmyway133,Khoa',\n",
       " ',asim,Asim Aslam',\n",
       " ',bungle,Aapo Talvensaari',\n",
       " ',jamesagnew,James Agnew',\n",
       " ',yuvipanda,Yuvi Panda',\n",
       " ',muenzpraeger,René Winkelmeyer',\n",
       " ',borkdude,Michiel Borkent',\n",
       " ',dtolnay,David Tolnay',\n",
       " ',kubukoz,Jakub Kozłowski',\n",
       " ',nikolasburk,Nikolas',\n",
       " ',ericmj,Eric Meadows-Jönsson',\n",
       " ',rowanmiller,Rowan Miller',\n",
       " ',soffes,Sam Soffes',\n",
       " ',ktbyers,Kirk Byers',\n",
       " ',hrydgard,Henrik Rydgård',\n",
       " ',alexellis,Alex Ellis',\n",
       " ',ddollar,David Dollar',\n",
       " ',leodido,Leo Di Donato',\n",
       " ',rrousselGit,Remi Rousselet\\n</a>\\n</h1>]']"
      ]
     },
     "execution_count": 125,
     "metadata": {},
     "output_type": "execute_result"
    }
   ],
   "source": [
    "devs = []\n",
    "for dev in developers:\n",
    "    names = devs.append(dev.replace('=\"/',',').replace('\">\\n            ',',').replace('\\n</a>\\n</h1>, <h1 class=\"h3 lh-condensed\">\\n<a ',''))\n",
    "devs"
   ]
  },
  {
   "cell_type": "markdown",
   "metadata": {},
   "source": [
    "#### Display the names of the trending developers retrieved in the previous step.\n",
    "\n",
    "Your output should be a Python list of developer names. Each name should not contain any html tag.\n",
    "\n",
    "**Instructions:**\n",
    "\n",
    "1. Find out the html tag and class names used for the developer names. You can achieve this using Chrome DevTools.\n",
    "\n",
    "1. Use BeautifulSoup to extract all the html elements that contain the developer names.\n",
    "\n",
    "1. Use string manipulation techniques to replace whitespaces and linebreaks (i.e. `\\n`) in the *text* of each html element. Use a list to store the clean names.\n",
    "\n",
    "1. Print the list of names.\n",
    "\n",
    "Your output should look like below:\n",
    "\n",
    "```\n",
    "['trimstray (@trimstray)',\n",
    " 'joewalnes (JoeWalnes)',\n",
    " 'charlax (Charles-AxelDein)',\n",
    " 'ForrestKnight (ForrestKnight)',\n",
    " 'revery-ui (revery-ui)',\n",
    " 'alibaba (Alibaba)',\n",
    " 'Microsoft (Microsoft)',\n",
    " 'github (GitHub)',\n",
    " 'facebook (Facebook)',\n",
    " 'boazsegev (Bo)',\n",
    " 'google (Google)',\n",
    " 'cloudfetch',\n",
    " 'sindresorhus (SindreSorhus)',\n",
    " 'tensorflow',\n",
    " 'apache (TheApacheSoftwareFoundation)',\n",
    " 'DevonCrawford (DevonCrawford)',\n",
    " 'ARMmbed (ArmMbed)',\n",
    " 'vuejs (vuejs)',\n",
    " 'fastai (fast.ai)',\n",
    " 'QiShaoXuan (Qi)',\n",
    " 'joelparkerhenderson (JoelParkerHenderson)',\n",
    " 'torvalds (LinusTorvalds)',\n",
    " 'CyC2018',\n",
    " 'komeiji-satori (神楽坂覚々)',\n",
    " 'script-8']\n",
    " ```"
   ]
  },
  {
   "cell_type": "markdown",
   "metadata": {},
   "source": [
    "#### Display the trending Python repositories in GitHub\n",
    "\n",
    "The steps to solve this problem is similar to the previous one except that you need to find out the repository names instead of developer names."
   ]
  },
  {
   "cell_type": "code",
   "execution_count": 91,
   "metadata": {},
   "outputs": [],
   "source": [
    "# This is the url you will scrape in this exercise\n",
    "url = 'https://github.com/trending/python?since=daily'"
   ]
  },
  {
   "cell_type": "code",
   "execution_count": 108,
   "metadata": {},
   "outputs": [
    {
     "data": {
      "text/plain": [
       "['\\n        idealo /\\n',\n",
       " '\\n        kon9chunkit /\\n',\n",
       " '\\n        0voice /\\n',\n",
       " '\\n        junyanz /\\n',\n",
       " '\\n        testerSunshine /\\n',\n",
       " '\\n        donnemartin /\\n',\n",
       " '\\n        OUCMachineLearning /\\n',\n",
       " '\\n        ZiniuLu /\\n',\n",
       " '\\n        iperov /\\n',\n",
       " '\\n        dmlc /\\n',\n",
       " '\\n        brightmart /\\n',\n",
       " '\\n        bigchaindb /\\n',\n",
       " '\\n        STVIR /\\n',\n",
       " '\\n        openatx /\\n',\n",
       " '\\n        XX-net /\\n',\n",
       " '\\n        open-mmlab /\\n',\n",
       " '\\n        streamlit /\\n',\n",
       " '\\n        521xueweihan /\\n',\n",
       " '\\n        d2l-ai /\\n',\n",
       " '\\n        pjialin /\\n',\n",
       " '\\n        iovisor /\\n',\n",
       " '\\n        munki /\\n',\n",
       " '\\n        jhao104 /\\n',\n",
       " '\\n        PaddlePaddle /\\n',\n",
       " '\\n        manchenkoff /\\n']"
      ]
     },
     "execution_count": 108,
     "metadata": {},
     "output_type": "execute_result"
    }
   ],
   "source": [
    "#your code\n",
    "# Accesing to the URL\n",
    "response = requests.get(url, headers=headers)\n",
    "\n",
    "text_container = soup.find_all('h1',{'class':'h3 lh-condensed'})\n",
    "\n",
    "repositories = []\n",
    "\n",
    "for text in text_container:\n",
    "    repo = text.find('span', attrs={'class':'text-normal'}).text\n",
    "    repositories.append(repo)\n",
    "    \n",
    "repositories"
   ]
  },
  {
   "cell_type": "markdown",
   "metadata": {},
   "source": [
    "#### Display all the image links from Walt Disney wikipedia page"
   ]
  },
  {
   "cell_type": "code",
   "execution_count": 137,
   "metadata": {},
   "outputs": [],
   "source": [
    "# This is the url you will scrape in this exercise\n",
    "url = 'https://en.wikipedia.org/wiki/Walt_Disney'"
   ]
  },
  {
   "cell_type": "code",
   "execution_count": 144,
   "metadata": {},
   "outputs": [
    {
     "data": {
      "text/plain": [
       "['/wiki/File:Walt_Disney_1942_signature.svg',\n",
       " '/wiki/File:Walt_Disney_envelope_ca._1921.jpg',\n",
       " '/wiki/File:Trolley_Troubles_poster.jpg',\n",
       " '/wiki/File:Walt_Disney_and_his_cartoon_creation_%22Mickey_Mouse%22_-_National_Board_of_Review_Magazine.jpg']"
      ]
     },
     "execution_count": 144,
     "metadata": {},
     "output_type": "execute_result"
    }
   ],
   "source": [
    "#your code\n",
    "\n",
    "response = requests.get(url, headers=headers)\n",
    "soup=BeautifulSoup(response.text,'html.parser')\n",
    "\n",
    "hrefs = [a['href'] for a in soup.find_all('a', {'class':'image'},href=True)]\n",
    "\n",
    "hrefs[1:5]"
   ]
  },
  {
   "cell_type": "markdown",
   "metadata": {},
   "source": [
    "#### Retrieve an arbitary Wikipedia page of \"Python\" and create a list of links on that page"
   ]
  },
  {
   "cell_type": "code",
   "execution_count": 146,
   "metadata": {},
   "outputs": [],
   "source": [
    "# This is the url you will scrape in this exercise\n",
    "url ='https://en.wikipedia.org/wiki/Python' "
   ]
  },
  {
   "cell_type": "code",
   "execution_count": 147,
   "metadata": {},
   "outputs": [
    {
     "data": {
      "text/plain": [
       "['#p-search',\n",
       " 'https://en.wiktionary.org/wiki/Python',\n",
       " 'https://en.wiktionary.org/wiki/python',\n",
       " '#Snakes']"
      ]
     },
     "execution_count": 147,
     "metadata": {},
     "output_type": "execute_result"
    }
   ],
   "source": [
    "#your code\n",
    "response = requests.get(url, headers=headers)\n",
    "soup=BeautifulSoup(response.text,'html.parser')\n",
    "\n",
    "hrefs = [a['href'] for a in soup.find_all('a',href=True)]\n",
    "\n",
    "hrefs[1:5]"
   ]
  },
  {
   "cell_type": "markdown",
   "metadata": {},
   "source": [
    "#### Number of Titles that have changed in the United States Code since its last release point "
   ]
  },
  {
   "cell_type": "code",
   "execution_count": 148,
   "metadata": {},
   "outputs": [],
   "source": [
    "# This is the url you will scrape in this exercise\n",
    "url = 'http://uscode.house.gov/download/download.shtml'"
   ]
  },
  {
   "cell_type": "code",
   "execution_count": 174,
   "metadata": {},
   "outputs": [],
   "source": [
    "#your code\n",
    "response = requests.get(url, headers=headers)\n",
    "soup=BeautifulSoup(response.text,'html.parser')\n",
    "\n",
    "cases = soup.find_all('div',attrs = {'class':'usctitle'}, id = True)\n",
    "\n",
    "ids = [case for case in cases]"
   ]
  },
  {
   "cell_type": "code",
   "execution_count": 176,
   "metadata": {},
   "outputs": [
    {
     "data": {
      "text/plain": [
       "53"
      ]
     },
     "execution_count": 176,
     "metadata": {},
     "output_type": "execute_result"
    }
   ],
   "source": [
    "len(ids)"
   ]
  },
  {
   "cell_type": "markdown",
   "metadata": {},
   "source": [
    "#### A Python list with the top ten FBI's Most Wanted names "
   ]
  },
  {
   "cell_type": "code",
   "execution_count": 177,
   "metadata": {},
   "outputs": [],
   "source": [
    "# This is the url you will scrape in this exercise\n",
    "url = 'https://www.fbi.gov/wanted/topten'"
   ]
  },
  {
   "cell_type": "code",
   "execution_count": 195,
   "metadata": {},
   "outputs": [],
   "source": [
    "#your code\n",
    "response = requests.get(url, headers=headers)\n",
    "soup=BeautifulSoup(response.text,'html.parser')\n",
    "\n",
    "top_ten_extract = soup.find_all('li',{'class':'portal-type-person castle-grid-block-item'})"
   ]
  },
  {
   "cell_type": "code",
   "execution_count": 198,
   "metadata": {},
   "outputs": [
    {
     "data": {
      "text/plain": [
       "[[<img alt=\"ROBERT WILLIAM FISHER\" class=\"\" src=\"https://www.fbi.gov/wanted/topten/robert-william-fisher/@@images/image/preview\"/>],\n",
       " [<img alt=\"BHADRESHKUMAR CHETANBHAI PATEL\" class=\"\" src=\"https://www.fbi.gov/wanted/topten/bhadreshkumar-chetanbhai-patel/@@images/image/preview\"/>],\n",
       " [<img alt=\"ARNOLDO JIMENEZ\" class=\"\" src=\"https://www.fbi.gov/wanted/topten/arnoldo-jimenez/@@images/image/preview\"/>],\n",
       " [<img alt=\"ALEJANDRO ROSALES CASTILLO\" class=\"\" src=\"https://www.fbi.gov/wanted/topten/alejandro-castillo/@@images/image/preview\"/>],\n",
       " [<img alt=\"YASER ABDEL SAID\" class=\"\" src=\"https://www.fbi.gov/wanted/topten/yaser-abdel-said/@@images/image/preview\"/>],\n",
       " [<img alt=\"JASON DEREK BROWN\" class=\"\" src=\"https://www.fbi.gov/wanted/topten/jason-derek-brown/@@images/image/preview\"/>],\n",
       " [<img alt=\"ALEXIS FLORES\" class=\"\" src=\"https://www.fbi.gov/wanted/topten/alexis-flores/@@images/image/preview\"/>],\n",
       " [<img alt=\"EUGENE PALMER\" class=\"\" src=\"https://www.fbi.gov/wanted/topten/eugene-palmer/@@images/image/preview\"/>],\n",
       " [<img alt=\"SANTIAGO VILLALBA MEDEROS\" class=\"\" src=\"https://www.fbi.gov/wanted/topten/santiago-mederos/@@images/image/preview\"/>],\n",
       " [<img alt=\"RAFAEL CARO-QUINTERO\" class=\"\" src=\"https://www.fbi.gov/wanted/topten/rafael-caro-quintero/@@images/image/preview\"/>]]"
      ]
     },
     "execution_count": 198,
     "metadata": {},
     "output_type": "execute_result"
    }
   ],
   "source": [
    "tops = []\n",
    "for top in top_ten_extract:\n",
    "    name = top.find_all('img', alt = True)\n",
    "    tops.append(name)\n",
    "tops"
   ]
  },
  {
   "cell_type": "code",
   "execution_count": 212,
   "metadata": {},
   "outputs": [
    {
     "data": {
      "text/plain": [
       "['ROBERT WILLIAM FISHER ',\n",
       " 'BHADRESHKUMAR CHETANBHAI PATEL ',\n",
       " 'ARNOLDO JIMENEZ ',\n",
       " 'ALEJANDRO ROSALES CASTILLO ',\n",
       " 'YASER ABDEL SAID ',\n",
       " 'JASON DEREK BROWN ',\n",
       " 'ALEXIS FLORES ',\n",
       " 'EUGENE PALMER ',\n",
       " 'SANTIAGO VILLALBA MEDEROS ',\n",
       " 'RAFAEL CARO-QUINTERO ']"
      ]
     },
     "execution_count": 212,
     "metadata": {},
     "output_type": "execute_result"
    }
   ],
   "source": [
    "most_wanted_names = []\n",
    "for top in tops:\n",
    "    wanted_name = (str(top).split('class')[0]).replace('[<img alt=','').replace('\"','')\n",
    "    most_wanted_names.append(wanted_name)\n",
    "most_wanted_names"
   ]
  },
  {
   "cell_type": "markdown",
   "metadata": {},
   "source": [
    "####  20 latest earthquakes info (date, time, latitude, longitude and region name) by the EMSC as a pandas dataframe"
   ]
  },
  {
   "cell_type": "code",
   "execution_count": 213,
   "metadata": {},
   "outputs": [],
   "source": [
    "# This is the url you will scrape in this exercise\n",
    "url = 'https://www.emsc-csem.org/Earthquake/'"
   ]
  },
  {
   "cell_type": "code",
   "execution_count": 218,
   "metadata": {},
   "outputs": [
    {
     "data": {
      "text/plain": [
       "<tr class=\"ligne1 normal\" id=\"797938\" onclick=\"go_details(event,797938);\"><td class=\"tabev0\"></td><td class=\"tabev0\"></td><td class=\"tabev0\"><span class=\"intensity\" onclick=\"go_details(event,null,'https://www.emsc-csem.org/Earthquake/popup_intensmap.php?id=797938&amp;f=/INTENSITY_MAPS/79/797938/AUTOMATIC/AreaThreshold_5/EMS_98__RMW_Musson/LocMethod_PerClusterCity/DynamicClusters_MaxSize50/IntensityMapThumbnails.png');\" onmouseout=\"info_b2('notshow','');\" onmouseover=\"info_b2('show','See the &lt;b&gt; Intensity map&lt;/b&gt;');\" style=\"background-color:#FFFFFF;\">F</span></td><td class=\"tabev6\"><b><i style=\"display:none;\">earthquake</i><a href=\"/Earthquake/earthquake.php?id=797938\">2019-10-09   21:29:52.4</a></b><i class=\"ago\" id=\"ago0\">33min ago</i></td><td class=\"tabev1\">42.95 </td><td class=\"tabev2\">N  </td><td class=\"tabev1\">22.75 </td><td class=\"tabev2\">E  </td><td class=\"tabev3\">5</td><td class=\"tabev5\" id=\"magtyp0\">ML</td><td class=\"tabev2\">2.6</td><td class=\"tb_region\" id=\"reg0\"> SERBIA</td><td class=\"comment updatetimeno\" id=\"upd0\" style=\"text-align:right;\">2019-10-09 21:58</td></tr>"
      ]
     },
     "execution_count": 218,
     "metadata": {},
     "output_type": "execute_result"
    }
   ],
   "source": [
    "#your code\n",
    "response = requests.get(url, headers=headers)\n",
    "soup=BeautifulSoup(response.text,'html.parser')\n",
    "\n",
    "eq_container = soup.find_all('tr',id =True, onclick = True)\n",
    "eq_container[0]"
   ]
  },
  {
   "cell_type": "code",
   "execution_count": 257,
   "metadata": {},
   "outputs": [],
   "source": [
    "import pandas as pd\n",
    "earthquakes = []\n",
    "for eq in eq_container:\n",
    "    date = eq.find('td',{'class':'tabev6'}).text.replace('earthquake','')[0:10]\n",
    "    time = eq.find('td',{'class':'tabev6'}).text.replace('earthquake','')[13:18]\n",
    "    latitude = eq.find('td',{'class':'tabev1'}).text + eq.find('td',{'class':'tabev2'}).text\n",
    "# Realmente no se como hacerle distinguir que saque la longitude\n",
    "    longitude = eq.find('td',{'class':'tabev1'}).text + eq.find('td',{'class':'tabev2'}).text\n",
    "    region_name = eq.find('td',{'class':'tb_region'}).text\n",
    "    earthquakes.append((date,time,latitude,longitude,region_name))\n",
    "\n",
    "earthquakes = pd.DataFrame(earthquakes).head(10)"
   ]
  },
  {
   "cell_type": "code",
   "execution_count": 258,
   "metadata": {},
   "outputs": [
    {
     "data": {
      "text/html": [
       "<div>\n",
       "<style scoped>\n",
       "    .dataframe tbody tr th:only-of-type {\n",
       "        vertical-align: middle;\n",
       "    }\n",
       "\n",
       "    .dataframe tbody tr th {\n",
       "        vertical-align: top;\n",
       "    }\n",
       "\n",
       "    .dataframe thead th {\n",
       "        text-align: right;\n",
       "    }\n",
       "</style>\n",
       "<table border=\"1\" class=\"dataframe\">\n",
       "  <thead>\n",
       "    <tr style=\"text-align: right;\">\n",
       "      <th></th>\n",
       "      <th>2019-10-09</th>\n",
       "      <th>12:04</th>\n",
       "      <th>16.05 N</th>\n",
       "      <th>16.05 N</th>\n",
       "      <th>OAXACA, MEXICO</th>\n",
       "    </tr>\n",
       "  </thead>\n",
       "  <tbody>\n",
       "    <tr>\n",
       "      <th>0</th>\n",
       "      <td>2019-10-09</td>\n",
       "      <td>21:29</td>\n",
       "      <td>42.95 N</td>\n",
       "      <td>42.95 N</td>\n",
       "      <td>SERBIA</td>\n",
       "    </tr>\n",
       "    <tr>\n",
       "      <th>1</th>\n",
       "      <td>2019-10-09</td>\n",
       "      <td>21:21</td>\n",
       "      <td>9.65 N</td>\n",
       "      <td>9.65 N</td>\n",
       "      <td>COSTA RICA</td>\n",
       "    </tr>\n",
       "    <tr>\n",
       "      <th>2</th>\n",
       "      <td>2019-10-09</td>\n",
       "      <td>21:16</td>\n",
       "      <td>35.18 S</td>\n",
       "      <td>35.18 S</td>\n",
       "      <td>EAST OF NORTH ISLAND, N.Z.</td>\n",
       "    </tr>\n",
       "    <tr>\n",
       "      <th>3</th>\n",
       "      <td>2019-10-09</td>\n",
       "      <td>21:05</td>\n",
       "      <td>39.76 N</td>\n",
       "      <td>39.76 N</td>\n",
       "      <td>EASTERN TURKEY</td>\n",
       "    </tr>\n",
       "    <tr>\n",
       "      <th>4</th>\n",
       "      <td>2019-10-09</td>\n",
       "      <td>20:31</td>\n",
       "      <td>18.77 N</td>\n",
       "      <td>18.77 N</td>\n",
       "      <td>PUERTO RICO REGION</td>\n",
       "    </tr>\n",
       "    <tr>\n",
       "      <th>5</th>\n",
       "      <td>2019-10-09</td>\n",
       "      <td>20:22</td>\n",
       "      <td>35.30 S</td>\n",
       "      <td>35.30 S</td>\n",
       "      <td>EAST OF NORTH ISLAND, N.Z.</td>\n",
       "    </tr>\n",
       "    <tr>\n",
       "      <th>6</th>\n",
       "      <td>2019-10-09</td>\n",
       "      <td>20:09</td>\n",
       "      <td>35.66 N</td>\n",
       "      <td>35.66 N</td>\n",
       "      <td>SOUTHERN CALIFORNIA</td>\n",
       "    </tr>\n",
       "    <tr>\n",
       "      <th>7</th>\n",
       "      <td>2019-10-09</td>\n",
       "      <td>19:36</td>\n",
       "      <td>9.81 N</td>\n",
       "      <td>9.81 N</td>\n",
       "      <td>COSTA RICA</td>\n",
       "    </tr>\n",
       "    <tr>\n",
       "      <th>8</th>\n",
       "      <td>2019-10-09</td>\n",
       "      <td>19:34</td>\n",
       "      <td>9.80 N</td>\n",
       "      <td>9.80 N</td>\n",
       "      <td>COSTA RICA</td>\n",
       "    </tr>\n",
       "    <tr>\n",
       "      <th>9</th>\n",
       "      <td>2019-10-09</td>\n",
       "      <td>19:28</td>\n",
       "      <td>37.21 N</td>\n",
       "      <td>37.21 N</td>\n",
       "      <td>IONIAN SEA</td>\n",
       "    </tr>\n",
       "  </tbody>\n",
       "</table>\n",
       "</div>"
      ],
      "text/plain": [
       "   2019-10-09  12:04  16.05 N    16.05 N                 OAXACA, MEXICO\n",
       "0  2019-10-09  21:29  42.95 N    42.95 N                         SERBIA\n",
       "1  2019-10-09  21:21   9.65 N     9.65 N                     COSTA RICA\n",
       "2  2019-10-09  21:16  35.18 S    35.18 S     EAST OF NORTH ISLAND, N.Z.\n",
       "3  2019-10-09  21:05  39.76 N    39.76 N                 EASTERN TURKEY\n",
       "4  2019-10-09  20:31  18.77 N    18.77 N             PUERTO RICO REGION\n",
       "5  2019-10-09  20:22  35.30 S    35.30 S     EAST OF NORTH ISLAND, N.Z.\n",
       "6  2019-10-09  20:09  35.66 N    35.66 N            SOUTHERN CALIFORNIA\n",
       "7  2019-10-09  19:36   9.81 N     9.81 N                     COSTA RICA\n",
       "8  2019-10-09  19:34   9.80 N     9.80 N                     COSTA RICA\n",
       "9  2019-10-09  19:28  37.21 N    37.21 N                     IONIAN SEA"
      ]
     },
     "execution_count": 258,
     "metadata": {},
     "output_type": "execute_result"
    }
   ],
   "source": [
    "earthquakes.columns = [date,time,latitude,longitude,region_name]\n",
    "earthquakes"
   ]
  },
  {
   "cell_type": "markdown",
   "metadata": {},
   "source": [
    "#### Display the date, days, title, city, country of next 25 hackathon events as a Pandas dataframe table"
   ]
  },
  {
   "cell_type": "code",
   "execution_count": null,
   "metadata": {},
   "outputs": [],
   "source": [
    "# This is the url you will scrape in this exercise\n",
    "url ='https://hackevents.co/hackathons'"
   ]
  },
  {
   "cell_type": "code",
   "execution_count": null,
   "metadata": {},
   "outputs": [],
   "source": [
    "#your code"
   ]
  },
  {
   "cell_type": "markdown",
   "metadata": {},
   "source": [
    "#### Count number of tweets by a given Twitter account."
   ]
  },
  {
   "cell_type": "markdown",
   "metadata": {},
   "source": [
    "You will need to include a ***try/except block*** for account names not found. \n",
    "<br>***Hint:*** the program should count the number of tweets for any provided account"
   ]
  },
  {
   "cell_type": "code",
   "execution_count": null,
   "metadata": {},
   "outputs": [],
   "source": [
    "# This is the url you will scrape in this exercise \n",
    "# You will need to add the account credentials to this url\n",
    "url = 'https://twitter.com/'"
   ]
  },
  {
   "cell_type": "code",
   "execution_count": null,
   "metadata": {},
   "outputs": [],
   "source": [
    "#your code"
   ]
  },
  {
   "cell_type": "markdown",
   "metadata": {},
   "source": [
    "#### Number of followers of a given twitter account"
   ]
  },
  {
   "cell_type": "markdown",
   "metadata": {},
   "source": [
    "You will need to include a ***try/except block*** in case account/s name not found. \n",
    "<br>***Hint:*** the program should count the followers for any provided account"
   ]
  },
  {
   "cell_type": "code",
   "execution_count": null,
   "metadata": {},
   "outputs": [],
   "source": [
    "# This is the url you will scrape in this exercise \n",
    "# You will need to add the account credentials to this url\n",
    "url = 'https://twitter.com/'"
   ]
  },
  {
   "cell_type": "code",
   "execution_count": null,
   "metadata": {},
   "outputs": [],
   "source": [
    "#your code"
   ]
  },
  {
   "cell_type": "markdown",
   "metadata": {},
   "source": [
    "#### List all language names and number of related articles in the order they appear in wikipedia.org"
   ]
  },
  {
   "cell_type": "code",
   "execution_count": null,
   "metadata": {},
   "outputs": [],
   "source": [
    "# This is the url you will scrape in this exercise\n",
    "url = 'https://www.wikipedia.org/'"
   ]
  },
  {
   "cell_type": "code",
   "execution_count": null,
   "metadata": {},
   "outputs": [],
   "source": [
    "#your code"
   ]
  },
  {
   "cell_type": "markdown",
   "metadata": {},
   "source": [
    "#### A list with the different kind of datasets available in data.gov.uk "
   ]
  },
  {
   "cell_type": "code",
   "execution_count": null,
   "metadata": {},
   "outputs": [],
   "source": [
    "# This is the url you will scrape in this exercise\n",
    "url = 'https://data.gov.uk/'"
   ]
  },
  {
   "cell_type": "code",
   "execution_count": null,
   "metadata": {},
   "outputs": [],
   "source": [
    "#your code "
   ]
  },
  {
   "cell_type": "markdown",
   "metadata": {},
   "source": [
    "#### Top 10 languages by number of native speakers stored in a Pandas Dataframe"
   ]
  },
  {
   "cell_type": "code",
   "execution_count": null,
   "metadata": {},
   "outputs": [],
   "source": [
    "# This is the url you will scrape in this exercise\n",
    "url = 'https://en.wikipedia.org/wiki/List_of_languages_by_number_of_native_speakers'"
   ]
  },
  {
   "cell_type": "code",
   "execution_count": null,
   "metadata": {},
   "outputs": [],
   "source": [
    "#your code"
   ]
  },
  {
   "cell_type": "markdown",
   "metadata": {},
   "source": [
    "### BONUS QUESTIONS"
   ]
  },
  {
   "cell_type": "markdown",
   "metadata": {},
   "source": [
    "#### Scrape a certain number of tweets of a given Twitter account."
   ]
  },
  {
   "cell_type": "code",
   "execution_count": null,
   "metadata": {},
   "outputs": [],
   "source": [
    "# This is the url you will scrape in this exercise \n",
    "# You will need to add the account credentials to this url\n",
    "url = 'https://twitter.com/'"
   ]
  },
  {
   "cell_type": "code",
   "execution_count": null,
   "metadata": {},
   "outputs": [],
   "source": [
    "# your code"
   ]
  },
  {
   "cell_type": "markdown",
   "metadata": {},
   "source": [
    "#### IMDB's Top 250 data (movie name, Initial release, director name and stars) as a pandas dataframe"
   ]
  },
  {
   "cell_type": "code",
   "execution_count": null,
   "metadata": {},
   "outputs": [],
   "source": [
    "# This is the url you will scrape in this exercise \n",
    "url = 'https://www.imdb.com/chart/top'"
   ]
  },
  {
   "cell_type": "code",
   "execution_count": null,
   "metadata": {},
   "outputs": [],
   "source": [
    "# your code"
   ]
  },
  {
   "cell_type": "markdown",
   "metadata": {},
   "source": [
    "#### Movie name, year and a brief summary of the top 10 random movies (IMDB) as a pandas dataframe."
   ]
  },
  {
   "cell_type": "code",
   "execution_count": null,
   "metadata": {},
   "outputs": [],
   "source": [
    "#This is the url you will scrape in this exercise\n",
    "url = 'http://www.imdb.com/chart/top'"
   ]
  },
  {
   "cell_type": "code",
   "execution_count": null,
   "metadata": {},
   "outputs": [],
   "source": [
    "#your code"
   ]
  },
  {
   "cell_type": "markdown",
   "metadata": {},
   "source": [
    "#### Find the live weather report (temperature, wind speed, description and weather) of a given city."
   ]
  },
  {
   "cell_type": "code",
   "execution_count": null,
   "metadata": {},
   "outputs": [],
   "source": [
    "#https://openweathermap.org/current\n",
    "city = city=input('Enter the city:')\n",
    "url = 'http://api.openweathermap.org/data/2.5/weather?'+'q='+city+'&APPID=b35975e18dc93725acb092f7272cc6b8&units=metric'"
   ]
  },
  {
   "cell_type": "code",
   "execution_count": null,
   "metadata": {},
   "outputs": [],
   "source": [
    "# your code"
   ]
  },
  {
   "cell_type": "markdown",
   "metadata": {},
   "source": [
    "#### Book name,price and stock availability as a pandas dataframe."
   ]
  },
  {
   "cell_type": "code",
   "execution_count": null,
   "metadata": {},
   "outputs": [],
   "source": [
    "# This is the url you will scrape in this exercise. \n",
    "# It is a fictional bookstore created to be scraped. \n",
    "url = 'http://books.toscrape.com/'"
   ]
  },
  {
   "cell_type": "code",
   "execution_count": null,
   "metadata": {},
   "outputs": [],
   "source": [
    "#your code"
   ]
  }
 ],
 "metadata": {
  "kernelspec": {
   "display_name": "Python 3",
   "language": "python",
   "name": "python3"
  },
  "language_info": {
   "codemirror_mode": {
    "name": "ipython",
    "version": 3
   },
   "file_extension": ".py",
   "mimetype": "text/x-python",
   "name": "python",
   "nbconvert_exporter": "python",
   "pygments_lexer": "ipython3",
   "version": "3.7.3"
  }
 },
 "nbformat": 4,
 "nbformat_minor": 2
}
