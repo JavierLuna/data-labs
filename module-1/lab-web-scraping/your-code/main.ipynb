{
 "cells": [
  {
   "cell_type": "markdown",
   "metadata": {},
   "source": [
    "# Web Scraping Lab\n",
    "\n",
    "You will find in this notebook some scrapy exercises to practise your scraping skills.\n",
    "\n",
    "**Tips:**\n",
    "\n",
    "- Check the response status code for each request to ensure you have obtained the intended contennt.\n",
    "- Print the response text in each request to understand the kind of info you are getting and its format.\n",
    "- Check for patterns in the response text to extract the data/info requested in each question.\n",
    "- Visit each url and take a look at its source through Chrome DevTools. You'll need to identify the html tags, special class names etc. used for the html content you are expected to extract."
   ]
  },
  {
   "cell_type": "markdown",
   "metadata": {},
   "source": [
    "- [Requests library](http://docs.python-requests.org/en/master/#the-user-guide) documentation \n",
    "- [Beautiful Soup Doc](https://www.crummy.com/software/BeautifulSoup/bs4/doc/)\n",
    "- [Urllib](https://docs.python.org/3/library/urllib.html#module-urllib)\n",
    "- [re lib](https://docs.python.org/3/library/re.html)\n",
    "- [lxml lib](https://lxml.de/)\n",
    "- [Scrapy](https://scrapy.org/)\n",
    "- [List of HTTP status codes](https://en.wikipedia.org/wiki/List_of_HTTP_status_codes)\n",
    "- [HTML basics](http://www.simplehtmlguide.com/cheatsheet.php)\n",
    "- [CSS basics](https://www.cssbasics.com/#page_start)"
   ]
  },
  {
   "cell_type": "markdown",
   "metadata": {},
   "source": [
    "#### Below are the libraries and modules you may need. `requests`,  `BeautifulSoup` and `pandas` are imported for you. If you prefer to use additional libraries feel free to uncomment them."
   ]
  },
  {
   "cell_type": "code",
   "execution_count": 104,
   "metadata": {},
   "outputs": [],
   "source": [
    "import requests\n",
    "from bs4 import BeautifulSoup\n",
    "import pandas as pd\n",
    "from pprint import pprint\n",
    "# from lxml import html\n",
    "# from lxml.html import fromstring\n",
    "# import urllib.request\n",
    "# from urllib.request import urlopen\n",
    "# import random\n",
    "import re\n",
    "# import scrapy"
   ]
  },
  {
   "cell_type": "markdown",
   "metadata": {},
   "source": [
    "#### Download, parse (using BeautifulSoup), and print the content from the Trending Developers page from GitHub:"
   ]
  },
  {
   "cell_type": "code",
   "execution_count": 105,
   "metadata": {},
   "outputs": [],
   "source": [
    "# This is the url you will scrape in this exercise\n",
    "url = 'https://github.com/trending/developers'"
   ]
  },
  {
   "cell_type": "code",
   "execution_count": 106,
   "metadata": {},
   "outputs": [],
   "source": [
    "#your code\n",
    "response = requests.get(url)\n",
    "soup = BeautifulSoup(response.text, \"html.parser\")"
   ]
  },
  {
   "cell_type": "markdown",
   "metadata": {},
   "source": [
    "#### Display the names of the trending developers retrieved in the previous step.\n",
    "\n",
    "Your output should be a Python list of developer names. Each name should not contain any html tag.\n",
    "\n",
    "**Instructions:**\n",
    "\n",
    "1. Find out the html tag and class names used for the developer names. You can achieve this using Chrome DevTools.\n",
    "\n",
    "1. Use BeautifulSoup to extract all the html elements that contain the developer names.\n",
    "\n",
    "1. Use string manipulation techniques to replace whitespaces and linebreaks (i.e. `\\n`) in the *text* of each html element. Use a list to store the clean names.\n",
    "\n",
    "1. Print the list of names.\n",
    "\n",
    "Your output should look like below:\n",
    "\n",
    "```\n",
    "['trimstray (@trimstray)',\n",
    " 'joewalnes (JoeWalnes)',\n",
    " 'charlax (Charles-AxelDein)',\n",
    " 'ForrestKnight (ForrestKnight)',\n",
    " 'revery-ui (revery-ui)',\n",
    " 'alibaba (Alibaba)',\n",
    " 'Microsoft (Microsoft)',\n",
    " 'github (GitHub)',\n",
    " 'facebook (Facebook)',\n",
    " 'boazsegev (Bo)',\n",
    " 'google (Google)',\n",
    " 'cloudfetch',\n",
    " 'sindresorhus (SindreSorhus)',\n",
    " 'tensorflow',\n",
    " 'apache (TheApacheSoftwareFoundation)',\n",
    " 'DevonCrawford (DevonCrawford)',\n",
    " 'ARMmbed (ArmMbed)',\n",
    " 'vuejs (vuejs)',\n",
    " 'fastai (fast.ai)',\n",
    " 'QiShaoXuan (Qi)',\n",
    " 'joelparkerhenderson (JoelParkerHenderson)',\n",
    " 'torvalds (LinusTorvalds)',\n",
    " 'CyC2018',\n",
    " 'komeiji-satori (神楽坂覚々)',\n",
    " 'script-8']\n",
    " ```"
   ]
  },
  {
   "cell_type": "code",
   "execution_count": 107,
   "metadata": {},
   "outputs": [
    {
     "name": "stdout",
     "output_type": "stream",
     "text": [
      "['TrillCyborg,(Jason Werner)',\n",
      " '0voice,(0voice)',\n",
      " 'microsoft,(Microsoft)',\n",
      " 'rasbt,(Sebastian Raschka)',\n",
      " 'jackfrued,(骆昊)',\n",
      " 'Juanpe,(Juanpe Catalán)',\n",
      " 'imhuster,(Aven Liu)',\n",
      " 'sfyc23,( Thunder Bouble)',\n",
      " 'apache,(The Apache Software Foundation)',\n",
      " 'pytorch',\n",
      " 'SimpleBoilerplates,(Simple Boilerplates)',\n",
      " 'gothinkster,(Thinkster)',\n",
      " 'jlevy,(Joshua Levy)',\n",
      " 'tensorflow',\n",
      " 'MisterBooo,(程序员吴师兄)',\n",
      " 'vuejs,(vuejs)',\n",
      " 'facebook,(Facebook)',\n",
      " 'CarGuo,(Shuyu Guo)',\n",
      " 'google,(Google)',\n",
      " 'geohot,(George Hotz)',\n",
      " 'ngosang,(Diego Heras)',\n",
      " 'kylelobo,(Kyle Lobo)',\n",
      " 'd2l-ai,(Dive into Deep Learning)',\n",
      " 'dessant,(Armin Sebastian)',\n",
      " 'CyC2018']\n"
     ]
    }
   ],
   "source": [
    "#your code\n",
    "\n",
    "with open (\"github_trending\", \"w\") as github_trending_file:\n",
    "    github_trending_file.write(response.text)\n",
    "\n",
    "#lines = lines_container.find_all(\"a\",{\"role\":\"link\"})\n",
    "container = soup.find_all(\"h2\",'f3 text-normal')\n",
    "developers_list = []\n",
    "for developer in container:\n",
    "    nick_name = developer.find('a')\n",
    "    \n",
    "    nombre = nick_name.text.strip().replace('\\n', ' ')\n",
    "    nombre = re.sub('\\s{2,}',',',nombre)\n",
    "    developers_list.append(nombre)\n",
    "pprint(developers_list)"
   ]
  },
  {
   "cell_type": "markdown",
   "metadata": {},
   "source": [
    "#### Display the trending Python repositories in GitHub\n",
    "\n",
    "The steps to solve this problem is similar to the previous one except that you need to find out the repository names instead of developer names."
   ]
  },
  {
   "cell_type": "code",
   "execution_count": 108,
   "metadata": {},
   "outputs": [],
   "source": [
    "# This is the url you will scrape in this exercise\n",
    "url = 'https://github.com/trending/python?since=daily'"
   ]
  },
  {
   "cell_type": "code",
   "execution_count": 109,
   "metadata": {},
   "outputs": [
    {
     "data": {
      "text/plain": [
       "['sfyc23 / EverydayWechat',\n",
       " 'pytorch / hub',\n",
       " 'd2l-ai / d2l-zh',\n",
       " 'anned20 / begoneads',\n",
       " 'TheAlgorithms / Python',\n",
       " 'ConnorJL / GPT2',\n",
       " 'tensorflow / text',\n",
       " 'OakwoodAI / Automagica',\n",
       " 'tensorflow / models',\n",
       " 'google-research / football',\n",
       " 'StevenBlack / hosts',\n",
       " 'Roujack / mathAI',\n",
       " 'apachecn / AiLearning',\n",
       " 'donnemartin / system-design-primer',\n",
       " 'vinta / awesome-python',\n",
       " 'public-apis / public-apis',\n",
       " 'quantumblacklabs / kedro',\n",
       " 'wangzheng0822 / algo',\n",
       " 'google-research / bert',\n",
       " 'django / django',\n",
       " 'machinelearningmindset / machine-learning-course',\n",
       " 'shengqiangzhang / examples-of-web-crawlers',\n",
       " 'ytdl-org / youtube-dl',\n",
       " 'keras-team / keras',\n",
       " 'OWASP / CheatSheetSeries']"
      ]
     },
     "execution_count": 109,
     "metadata": {},
     "output_type": "execute_result"
    }
   ],
   "source": [
    "#your code\n",
    "response = requests.get(url)\n",
    "soup = BeautifulSoup(response.text, \"html.parser\")\n",
    "\n",
    "url = 'https://github.com/trending/python?since=daily'\n",
    "\n",
    "with open (\"github_trending_2\", \"w\") as github_trending_2_file:\n",
    "    github_trending_2_file.write(response.text)\n",
    "    \n",
    "repos_container = soup.find_all(\"h3\")\n",
    "\n",
    "repos_list = []\n",
    "for repos in repos_container:\n",
    "    repos = repos.find(\"a\")\n",
    "    repos = repos.text.replace('\\n', '')\n",
    "    repos_list.append(repos)\n",
    "    \n",
    "repos_list   "
   ]
  },
  {
   "cell_type": "markdown",
   "metadata": {},
   "source": [
    "#### Display all the image links from Walt Disney wikipedia page"
   ]
  },
  {
   "cell_type": "code",
   "execution_count": 110,
   "metadata": {},
   "outputs": [],
   "source": [
    "# This is the url you will scrape in this exercise\n",
    "url = 'https://en.wikipedia.org/wiki/Walt_Disney'"
   ]
  },
  {
   "cell_type": "code",
   "execution_count": 111,
   "metadata": {},
   "outputs": [
    {
     "data": {
      "text/plain": [
       "['/wiki/File:Walt_Disney_1946.JPG',\n",
       " '/wiki/File:Walt_Disney_1942_signature.svg',\n",
       " '/wiki/File:Walt_Disney_envelope_ca._1921.jpg',\n",
       " '/wiki/File:Trolley_Troubles_poster.jpg',\n",
       " '/wiki/File:Walt_Disney_and_his_cartoon_creation_%22Mickey_Mouse%22_-_National_Board_of_Review_Magazine.jpg',\n",
       " '/wiki/File:Steamboat-willie.jpg',\n",
       " '/wiki/File:Walt_Disney_1935.jpg',\n",
       " '/wiki/File:Walt_Disney_Snow_white_1937_trailer_screenshot_(13).jpg',\n",
       " '/wiki/File:Disney_drawing_goofy.jpg',\n",
       " '/wiki/File:DisneySchiphol1951.jpg',\n",
       " '/wiki/File:WaltDisneyplansDisneylandDec1954.jpg',\n",
       " '/wiki/File:Walt_disney_portrait_right.jpg',\n",
       " '/wiki/File:Walt_Disney_Grave.JPG',\n",
       " '/wiki/File:Roy_O._Disney_with_Company_at_Press_Conference.jpg',\n",
       " '/wiki/File:Disney_Display_Case.JPG',\n",
       " '/wiki/File:Disney1968.jpg',\n",
       " '/wiki/File:Animation_disc.svg',\n",
       " '/wiki/File:P_vip.svg',\n",
       " '/wiki/File:Magic_Kingdom_castle.jpg',\n",
       " '/wiki/File:Video-x-generic.svg',\n",
       " '/wiki/File:Flag_of_Los_Angeles_County,_California.svg',\n",
       " '/wiki/File:USA_flag_on_television.svg']"
      ]
     },
     "execution_count": 111,
     "metadata": {},
     "output_type": "execute_result"
    }
   ],
   "source": [
    "#your code\n",
    "rq = requests.get(url)\n",
    "sp = BeautifulSoup(rq.text,\"html.parser\")\n",
    "\n",
    "with open(\"Walt Disney\", \"w\") as WD_file:\n",
    "    WD_file.write(rq.text)\n",
    "    \n",
    "images = sp.find_all('a','image')\n",
    "\n",
    "image_list= []\n",
    "for image in images:\n",
    "    image = image.get('href')\n",
    "    image_list.append(image)\n",
    "image_list"
   ]
  },
  {
   "cell_type": "markdown",
   "metadata": {},
   "source": [
    "#### Retrieve an arbitary Wikipedia page of \"Python\" and create a list of links on that page"
   ]
  },
  {
   "cell_type": "code",
   "execution_count": 112,
   "metadata": {},
   "outputs": [],
   "source": [
    "# This is the url you will scrape in this exercise\n",
    "url ='https://en.wikipedia.org/wiki/Python' "
   ]
  },
  {
   "cell_type": "code",
   "execution_count": 124,
   "metadata": {},
   "outputs": [
    {
     "data": {
      "text/plain": [
       "['https://en.wikipedia.org/wiki/Pythonhttps://en.wiktionary.org/wiki/Python',\n",
       " 'https://en.wikipedia.org/wiki/Pythonhttps://en.wiktionary.org/wiki/python',\n",
       " 'https://en.wikipedia.org/wiki/Python#Snakes',\n",
       " 'https://en.wikipedia.org/wiki/Python#Ancient_Greece',\n",
       " 'https://en.wikipedia.org/wiki/Python#Media_and_entertainment',\n",
       " 'https://en.wikipedia.org/wiki/Python#Computing',\n",
       " 'https://en.wikipedia.org/wiki/Python#Engineering',\n",
       " 'https://en.wikipedia.org/wiki/Python#Roller_coasters',\n",
       " 'https://en.wikipedia.org/wiki/Python#Vehicles',\n",
       " 'https://en.wikipedia.org/wiki/Python#Weaponry',\n",
       " 'https://en.wikipedia.org/wiki/Python#People',\n",
       " 'https://en.wikipedia.org/wiki/Python#Other_uses',\n",
       " 'https://en.wikipedia.org/wiki/Python#See_also',\n",
       " 'https://en.wikipedia.org/wiki/Python/w/index.php?title=Python&action=edit&section=1',\n",
       " 'https://en.wikipedia.org/wiki/Python/wiki/Pythonidae',\n",
       " 'https://en.wikipedia.org/wiki/Python/wiki/Python_(genus)',\n",
       " 'https://en.wikipedia.org/wiki/Python/w/index.php?title=Python&action=edit&section=2',\n",
       " 'https://en.wikipedia.org/wiki/Python/wiki/Python_(mythology)',\n",
       " 'https://en.wikipedia.org/wiki/Python/wiki/Python_of_Aenus',\n",
       " 'https://en.wikipedia.org/wiki/Python/wiki/Python_(painter)',\n",
       " 'https://en.wikipedia.org/wiki/Python/wiki/Python_of_Byzantium',\n",
       " 'https://en.wikipedia.org/wiki/Python/wiki/Python_of_Catana',\n",
       " 'https://en.wikipedia.org/wiki/Python/w/index.php?title=Python&action=edit&section=3',\n",
       " 'https://en.wikipedia.org/wiki/Python/wiki/Python_(film)',\n",
       " 'https://en.wikipedia.org/wiki/Python/wiki/Pythons_2',\n",
       " 'https://en.wikipedia.org/wiki/Python/wiki/Monty_Python',\n",
       " 'https://en.wikipedia.org/wiki/Python/wiki/Python_(Monty)_Pictures',\n",
       " 'https://en.wikipedia.org/wiki/Python/w/index.php?title=Python&action=edit&section=4',\n",
       " 'https://en.wikipedia.org/wiki/Python/wiki/Python_(programming_language)',\n",
       " 'https://en.wikipedia.org/wiki/Python/wiki/CPython',\n",
       " 'https://en.wikipedia.org/wiki/Python/wiki/CMU_Common_Lisp',\n",
       " 'https://en.wikipedia.org/wiki/Python/wiki/PERQ#PERQ_3',\n",
       " 'https://en.wikipedia.org/wiki/Python/w/index.php?title=Python&action=edit&section=5',\n",
       " 'https://en.wikipedia.org/wiki/Python/w/index.php?title=Python&action=edit&section=6',\n",
       " 'https://en.wikipedia.org/wiki/Python/wiki/Python_(Busch_Gardens_Tampa_Bay)',\n",
       " 'https://en.wikipedia.org/wiki/Python/wiki/Python_(Coney_Island,_Cincinnati,_Ohio)',\n",
       " 'https://en.wikipedia.org/wiki/Python/wiki/Python_(Efteling)',\n",
       " 'https://en.wikipedia.org/wiki/Python/w/index.php?title=Python&action=edit&section=7',\n",
       " 'https://en.wikipedia.org/wiki/Python/wiki/Python_(automobile_maker)',\n",
       " 'https://en.wikipedia.org/wiki/Python/wiki/Python_(Ford_prototype)',\n",
       " 'https://en.wikipedia.org/wiki/Python/w/index.php?title=Python&action=edit&section=8',\n",
       " 'https://en.wikipedia.org/wiki/Python/wiki/Colt_Python',\n",
       " 'https://en.wikipedia.org/wiki/Python/wiki/Python_(missile)',\n",
       " 'https://en.wikipedia.org/wiki/Python/wiki/Python_(nuclear_primary)',\n",
       " 'https://en.wikipedia.org/wiki/Python/w/index.php?title=Python&action=edit&section=9',\n",
       " 'https://en.wikipedia.org/wiki/Python/wiki/Python_Anghelo',\n",
       " 'https://en.wikipedia.org/wiki/Python/w/index.php?title=Python&action=edit&section=10',\n",
       " 'https://en.wikipedia.org/wiki/Python/wiki/PYTHON',\n",
       " 'https://en.wikipedia.org/wiki/Python/w/index.php?title=Python&action=edit&section=11',\n",
       " 'https://en.wikipedia.org/wiki/Python/wiki/Cython',\n",
       " 'https://en.wikipedia.org/wiki/Python/wiki/Pyton',\n",
       " 'https://en.wikipedia.org/wiki/Python/wiki/File:Disambig_gray.svg',\n",
       " 'https://en.wikipedia.org/wiki/Python/wiki/Help:Disambiguation',\n",
       " 'https://en.wikipedia.org/wiki/Python//en.wikipedia.org/w/index.php?title=Special:WhatLinksHere/Python&namespace=0']"
      ]
     },
     "execution_count": 124,
     "metadata": {},
     "output_type": "execute_result"
    }
   ],
   "source": [
    "#your code\n",
    "rq = requests.get(url)\n",
    "sp = BeautifulSoup(rq.text, 'html.parser')\n",
    "with open (\"wikiwiki\", \"w\") as wiki_file:\n",
    "    wiki_file.write(rq.text)\n",
    "\n",
    "links = link_container.find_all('a')\n",
    "\n",
    "links_list = []\n",
    "for link in links:\n",
    "    link = url + link.get('href')\n",
    "    links_list.append(link)\n",
    "links_list"
   ]
  },
  {
   "cell_type": "markdown",
   "metadata": {},
   "source": [
    "#### Number of Titles that have changed in the United States Code since its last release point "
   ]
  },
  {
   "cell_type": "code",
   "execution_count": 132,
   "metadata": {},
   "outputs": [],
   "source": [
    "# This is the url you will scrape in this exercise\n",
    "url = 'http://uscode.house.gov/download/download.shtml'"
   ]
  },
  {
   "cell_type": "code",
   "execution_count": 144,
   "metadata": {},
   "outputs": [
    {
     "data": {
      "text/plain": [
       "['Title 7 - Agriculture', 'Title 42 - The Public Health and Welfare']"
      ]
     },
     "execution_count": 144,
     "metadata": {},
     "output_type": "execute_result"
    }
   ],
   "source": [
    "#your code\n",
    "rq = requests.get(url)\n",
    "soup = BeautifulSoup(rq.text)\n",
    "\n",
    "chanched_titles = soup.find_all('div','usctitlechanged')"
   ]
  },
  {
   "cell_type": "markdown",
   "metadata": {},
   "source": [
    "#### A Python list with the top ten FBI's Most Wanted names "
   ]
  },
  {
   "cell_type": "code",
   "execution_count": 179,
   "metadata": {},
   "outputs": [],
   "source": [
    "# This is the url you will scrape in this exercise\n",
    "url = 'https://www.fbi.gov/wanted/topten'"
   ]
  },
  {
   "cell_type": "code",
   "execution_count": 182,
   "metadata": {},
   "outputs": [
    {
     "data": {
      "text/plain": [
       "['Federal Bureau of Investigation Logo',\n",
       " 'EUGENE PALMER',\n",
       " 'SANTIAGO VILLALBA MEDEROS',\n",
       " 'ROBERT WILLIAM FISHER',\n",
       " 'BHADRESHKUMAR CHETANBHAI PATEL',\n",
       " 'ARNOLDO JIMENEZ',\n",
       " 'ALEJANDRO ROSALES CASTILLO',\n",
       " 'YASER ABDEL SAID',\n",
       " 'JASON DEREK BROWN',\n",
       " 'RAFAEL CARO-QUINTERO',\n",
       " 'ALEXIS FLORES']"
      ]
     },
     "execution_count": 182,
     "metadata": {},
     "output_type": "execute_result"
    }
   ],
   "source": [
    "#your code \n",
    "response = requests.get(url)\n",
    "soap = BeautifulSoup(response.text)\n",
    "\n",
    "with open (\"TMW\", \"w\") as TMW:\n",
    "    TMW.write(response.text)\n",
    "\n",
    "images = soup.find_all('img', '')\n",
    "\n",
    "most_wanted_list = []\n",
    "for name in images:\n",
    "    name = name.get('alt')\n",
    "    most_wanted_list.append(name)\n",
    "most_wanted_list   "
   ]
  },
  {
   "cell_type": "markdown",
   "metadata": {},
   "source": [
    "####  20 latest earthquakes info (date, time, latitude, longitude and region name) by the EMSC as a pandas dataframe"
   ]
  },
  {
   "cell_type": "code",
   "execution_count": 197,
   "metadata": {},
   "outputs": [],
   "source": [
    "# This is the url you will scrape in this exercise\n",
    "url = 'https://www.emsc-csem.org/Earthquake/'"
   ]
  },
  {
   "cell_type": "code",
   "execution_count": 203,
   "metadata": {},
   "outputs": [
    {
     "data": {
      "text/plain": [
       "[<tr class=\"ligne1 normal\" id=\"770808\" onclick=\"go_details(event,770808);\"><td class=\"tabev0\"></td><td class=\"tabev0\"></td><td class=\"tabev0\"></td><td class=\"tabev6\"><b><i style=\"display:none;\">earthquake</i><a href=\"/Earthquake/earthquake.php?id=770808\">2019-06-11   21:27:21.3</a></b><i class=\"ago\" id=\"ago0\">11min ago</i></td><td class=\"tabev1\">45.88 </td><td class=\"tabev2\">N  </td><td class=\"tabev1\">7.02 </td><td class=\"tabev2\">E  </td><td class=\"tabev3\">2</td><td class=\"tabev5\" id=\"magtyp0\">ML</td><td class=\"tabev2\">1.6</td><td class=\"tb_region\" id=\"reg0\"> NORTHERN ITALY</td><td class=\"comment updatetimeno\" id=\"upd0\" style=\"text-align:right;\">2019-06-11 21:31</td></tr>,\n",
       " <tr class=\"ligne1 normal\" id=\"770804\" onclick=\"go_details(event,770804);\"><td class=\"tabev0\"></td><td class=\"tabev0\"></td><td class=\"tabev0\"><span class=\"intensity\" onclick=\"go_details(event,null,'https://www.emsc-csem.org/Earthquake/popup_intensmap.php?id=770804&amp;f=/INTENSITY_MAPS/77/770804/AUTOMATIC/AreaThreshold_5/EMS_98__RMW_Musson/LocMethod_PerClusterCity/DynamicClusters_MaxSize50/IntensityMapThumbnails.png');\" onmouseout=\"info_b2('notshow','');\" onmouseover=\"info_b2('show','See the &lt;b&gt; Intensity map&lt;/b&gt;');\" style=\"background-color:#FFFFFF;\">F</span></td><td class=\"tabev6\"><b><i style=\"display:none;\">earthquake</i><a href=\"/Earthquake/earthquake.php?id=770804\">2019-06-11   21:10:46.5</a></b><i class=\"ago\" id=\"ago2\">27min ago</i></td><td class=\"tabev1\">39.90 </td><td class=\"tabev2\">N  </td><td class=\"tabev1\">33.05 </td><td class=\"tabev2\">E  </td><td class=\"tabev3\">8</td><td class=\"tabev5\" id=\"magtyp2\">ML</td><td class=\"tabev2\">2.7</td><td class=\"tb_region\" id=\"reg2\"> CENTRAL TURKEY</td><td class=\"comment updatetimeno\" id=\"upd2\" style=\"text-align:right;\">2019-06-11 21:31</td></tr>,\n",
       " <tr class=\"ligne1 normal\" id=\"770800\" onclick=\"go_details(event,770800);\"><td class=\"tabev0\"></td><td class=\"tabev0\"></td><td class=\"tabev0\"></td><td class=\"tabev6\"><b><i style=\"display:none;\">earthquake</i><a href=\"/Earthquake/earthquake.php?id=770800\">2019-06-11   20:58:38.1</a></b><i class=\"ago\" id=\"ago4\">39min ago</i></td><td class=\"tabev1\">37.80 </td><td class=\"tabev2\">N  </td><td class=\"tabev1\">121.58 </td><td class=\"tabev2\">W  </td><td class=\"tabev3\">3</td><td class=\"tabev5\" id=\"magtyp4\">ML</td><td class=\"tabev2\">3.1</td><td class=\"tb_region\" id=\"reg4\"> NORTHERN CALIFORNIA</td><td class=\"comment updatetimeno\" id=\"upd4\" style=\"text-align:right;\">2019-06-11 21:30</td></tr>,\n",
       " <tr class=\"ligne1 normal\" id=\"770799\" onclick=\"go_details(event,770799);\"><td class=\"tabev0\"></td><td class=\"tabev0\"></td><td class=\"tabev0\"></td><td class=\"tabev6\"><b><i style=\"display:none;\">earthquake</i><a href=\"/Earthquake/earthquake.php?id=770799\">2019-06-11   20:18:20.8</a></b><i class=\"ago\" id=\"ago6\">1hr 20min ago</i></td><td class=\"tabev1\">44.70 </td><td class=\"tabev2\">N  </td><td class=\"tabev1\">112.50 </td><td class=\"tabev2\">W  </td><td class=\"tabev3\">12</td><td class=\"tabev5\" id=\"magtyp6\">Ml</td><td class=\"tabev2\">2.2</td><td class=\"tb_region\" id=\"reg6\"> WESTERN MONTANA</td><td class=\"comment updatetimeno\" id=\"upd6\" style=\"text-align:right;\">2019-06-11 20:42</td></tr>,\n",
       " <tr class=\"ligne1 normal\" id=\"770794\" onclick=\"go_details(event,770794);\"><td class=\"tabev0\"></td><td class=\"tabev0\"></td><td class=\"tabev0\"></td><td class=\"tabev6\"><b><i style=\"display:none;\">earthquake</i><a href=\"/Earthquake/earthquake.php?id=770794\">2019-06-11   19:49:50.0</a></b><i class=\"ago\" id=\"ago8\">1hr 48min ago</i></td><td class=\"tabev1\">28.23 </td><td class=\"tabev2\">S  </td><td class=\"tabev1\">67.26 </td><td class=\"tabev2\">W  </td><td class=\"tabev3\">163</td><td class=\"tabev5\" id=\"magtyp8\"> M</td><td class=\"tabev2\">3.9</td><td class=\"tb_region\" id=\"reg8\"> CATAMARCA, ARGENTINA</td><td class=\"comment updatetimeno\" id=\"upd8\" style=\"text-align:right;\">2019-06-11 20:00</td></tr>,\n",
       " <tr class=\"ligne1 normal\" id=\"770797\" onclick=\"go_details(event,770797);\"><td class=\"tabev0\"></td><td class=\"tabev0\"></td><td class=\"tabev0\"></td><td class=\"tabev6\"><b><i style=\"display:none;\">earthquake</i><a href=\"/Earthquake/earthquake.php?id=770797\">2019-06-11   18:49:46.8</a></b><i class=\"ago\" id=\"ago10\">2hr 48min ago</i></td><td class=\"tabev1\">16.97 </td><td class=\"tabev2\">N  </td><td class=\"tabev1\">85.54 </td><td class=\"tabev2\">W  </td><td class=\"tabev3\">10</td><td class=\"tabev5\" id=\"magtyp10\">mb</td><td class=\"tabev2\">4.6</td><td class=\"tb_region\" id=\"reg10\"> NORTH OF HONDURAS</td><td class=\"comment updatetimeno\" id=\"upd10\" style=\"text-align:right;\">2019-06-11 20:31</td></tr>,\n",
       " <tr class=\"ligne1 normal\" id=\"770798\" onclick=\"go_details(event,770798);\"><td class=\"tabev0\"></td><td class=\"tabev0\"></td><td class=\"tabev0\"></td><td class=\"tabev6\"><b><i style=\"display:none;\">earthquake</i><a href=\"/Earthquake/earthquake.php?id=770798\">2019-06-11   18:41:34.8</a></b><i class=\"ago\" id=\"ago12\">2hr 57min ago</i></td><td class=\"tabev1\">61.77 </td><td class=\"tabev2\">N  </td><td class=\"tabev1\">149.82 </td><td class=\"tabev2\">W  </td><td class=\"tabev3\">42</td><td class=\"tabev5\" id=\"magtyp12\">ML</td><td class=\"tabev2\">2.3</td><td class=\"tb_region\" id=\"reg12\"> SOUTHERN ALASKA</td><td class=\"comment updatetimeno\" id=\"upd12\" style=\"text-align:right;\">2019-06-11 20:36</td></tr>,\n",
       " <tr class=\"ligne1 normal\" id=\"770786\" onclick=\"go_details(event,770786);\"><td class=\"tabev0\"></td><td class=\"tabev0\"></td><td class=\"tabev0\"></td><td class=\"tabev6\"><b><i style=\"display:none;\">earthquake</i><a href=\"/Earthquake/earthquake.php?id=770786\">2019-06-11   18:05:03.0</a></b><i class=\"ago\" id=\"ago14\">3hr 33min ago</i></td><td class=\"tabev1\">27.53 </td><td class=\"tabev2\">N  </td><td class=\"tabev1\">111.50 </td><td class=\"tabev2\">W  </td><td class=\"tabev3\">10</td><td class=\"tabev5\" id=\"magtyp14\"> M</td><td class=\"tabev2\">4.0</td><td class=\"tb_region\" id=\"reg14\"> GULF OF CALIFORNIA</td><td class=\"comment updatetimeno\" id=\"upd14\" style=\"text-align:right;\">2019-06-11 18:20</td></tr>,\n",
       " <tr class=\"ligne1 normal\" id=\"770785\" onclick=\"go_details(event,770785);\"><td class=\"tabev0\"></td><td class=\"tabev0\"></td><td class=\"tabev0\"></td><td class=\"tabev6\"><b><i style=\"display:none;\">earthquake</i><a href=\"/Earthquake/earthquake.php?id=770785\">2019-06-11   17:43:00.0</a></b><i class=\"ago\" id=\"ago16\">3hr 55min ago</i></td><td class=\"tabev1\">30.45 </td><td class=\"tabev2\">S  </td><td class=\"tabev1\">117.70 </td><td class=\"tabev2\">E  </td><td class=\"tabev3\">2</td><td class=\"tabev5\" id=\"magtyp16\">M </td><td class=\"tabev2\">2.1</td><td class=\"tb_region\" id=\"reg16\"> WESTERN AUSTRALIA</td><td class=\"comment updatetimeno\" id=\"upd16\" style=\"text-align:right;\">2019-06-11 18:15</td></tr>,\n",
       " <tr class=\"ligne1 normal\" id=\"770803\" onclick=\"go_details(event,770803);\"><td class=\"tabev0\"></td><td class=\"tabev0\"></td><td class=\"tabev0\"></td><td class=\"tabev6\"><b><i style=\"display:none;\">earthquake</i><a href=\"/Earthquake/earthquake.php?id=770803\">2019-06-11   17:31:08.9</a></b><i class=\"ago\" id=\"ago18\">4hr 07min ago</i></td><td class=\"tabev1\">42.68 </td><td class=\"tabev2\">N  </td><td class=\"tabev1\">46.09 </td><td class=\"tabev2\">E  </td><td class=\"tabev3\">5</td><td class=\"tabev5\" id=\"magtyp18\">mb</td><td class=\"tabev2\">3.4</td><td class=\"tb_region\" id=\"reg18\"> CAUCASUS REGION, RUSSIA</td><td class=\"comment updatetimeno\" id=\"upd18\" style=\"text-align:right;\">2019-06-11 21:13</td></tr>,\n",
       " <tr class=\"ligne1 normal\" id=\"770793\" onclick=\"go_details(event,770793);\"><td class=\"tabev0\"></td><td class=\"tabev0\"></td><td class=\"tabev0\"></td><td class=\"tabev6\"><b><i style=\"display:none;\">earthquake</i><a href=\"/Earthquake/earthquake.php?id=770793\">2019-06-11   17:09:16.0</a></b><i class=\"ago\" id=\"ago20\">4hr 29min ago</i></td><td class=\"tabev1\">47.85 </td><td class=\"tabev2\">N  </td><td class=\"tabev1\">117.35 </td><td class=\"tabev2\">W  </td><td class=\"tabev3\">0</td><td class=\"tabev5\" id=\"magtyp20\">Ml</td><td class=\"tabev2\">2.2</td><td class=\"tb_region\" id=\"reg20\"> WASHINGTON</td><td class=\"comment updatetimeno\" id=\"upd20\" style=\"text-align:right;\">2019-06-11 19:46</td></tr>,\n",
       " <tr class=\"ligne1 normal\" id=\"770780\" onclick=\"go_details(event,770780);\"><td class=\"tabev0\"></td><td class=\"tabev0\"></td><td class=\"tabev0\"></td><td class=\"tabev6\"><b><i style=\"display:none;\">earthquake</i><a href=\"/Earthquake/earthquake.php?id=770780\">2019-06-11   17:02:27.7</a></b><i class=\"ago\" id=\"ago22\">4hr 36min ago</i></td><td class=\"tabev1\">34.82 </td><td class=\"tabev2\">N  </td><td class=\"tabev1\">86.02 </td><td class=\"tabev2\">W  </td><td class=\"tabev3\">12</td><td class=\"tabev5\" id=\"magtyp22\">Md</td><td class=\"tabev2\">2.4</td><td class=\"tb_region\" id=\"reg22\"> ALABAMA</td><td class=\"comment updatetimeno\" id=\"upd22\" style=\"text-align:right;\">2019-06-11 17:32</td></tr>,\n",
       " <tr class=\"ligne1 normal\" id=\"770776\" onclick=\"go_details(event,770776);\"><td class=\"tabev0\"></td><td class=\"tabev0\"></td><td class=\"tabev0\"></td><td class=\"tabev6\"><b><i style=\"display:none;\">earthquake</i><a href=\"/Earthquake/earthquake.php?id=770776\">2019-06-11   16:43:49.2</a></b><i class=\"ago\" id=\"ago24\">4hr 54min ago</i></td><td class=\"tabev1\">37.04 </td><td class=\"tabev2\">N  </td><td class=\"tabev1\">27.96 </td><td class=\"tabev2\">E  </td><td class=\"tabev3\">2</td><td class=\"tabev5\" id=\"magtyp24\">ML</td><td class=\"tabev2\">2.5</td><td class=\"tb_region\" id=\"reg24\"> WESTERN TURKEY</td><td class=\"comment updatetimeno\" id=\"upd24\" style=\"text-align:right;\">2019-06-11 19:10</td></tr>,\n",
       " <tr class=\"ligne1 normal\" id=\"770772\" onclick=\"go_details(event,770772);\"><td class=\"tabev0\"></td><td class=\"tabev0\"></td><td class=\"tabev0\"></td><td class=\"tabev6\"><b><i style=\"display:none;\">earthquake</i><a href=\"/Earthquake/earthquake.php?id=770772\">2019-06-11   16:20:04.3</a></b><i class=\"ago\" id=\"ago26\">5hr 18min ago</i></td><td class=\"tabev1\">37.48 </td><td class=\"tabev2\">N  </td><td class=\"tabev1\">20.74 </td><td class=\"tabev2\">E  </td><td class=\"tabev3\">2</td><td class=\"tabev5\" id=\"magtyp26\">ML</td><td class=\"tabev2\">2.8</td><td class=\"tb_region\" id=\"reg26\"> IONIAN SEA</td><td class=\"comment updatetimeno\" id=\"upd26\" style=\"text-align:right;\">2019-06-11 16:23</td></tr>,\n",
       " <tr class=\"ligne1 normal\" id=\"770773\" onclick=\"go_details(event,770773);\"><td class=\"tabev0\"></td><td class=\"tabev0\"></td><td class=\"tabev0\"></td><td class=\"tabev6\"><b><i style=\"display:none;\">earthquake</i><a href=\"/Earthquake/earthquake.php?id=770773\">2019-06-11   16:11:02.4</a></b><i class=\"ago\" id=\"ago28\">5hr 27min ago</i></td><td class=\"tabev1\">63.53 </td><td class=\"tabev2\">N  </td><td class=\"tabev1\">153.05 </td><td class=\"tabev2\">W  </td><td class=\"tabev3\">27</td><td class=\"tabev5\" id=\"magtyp28\">ML</td><td class=\"tabev2\">2.5</td><td class=\"tb_region\" id=\"reg28\"> CENTRAL ALASKA</td><td class=\"comment updatetimeno\" id=\"upd28\" style=\"text-align:right;\">2019-06-11 18:38</td></tr>,\n",
       " <tr class=\"ligne1 normal\" id=\"770774\" onclick=\"go_details(event,770774);\"><td class=\"tabev0\"></td><td class=\"tabev0\"></td><td class=\"tabev0\"></td><td class=\"tabev6\"><b><i style=\"display:none;\">earthquake</i><a href=\"/Earthquake/earthquake.php?id=770774\">2019-06-11   15:55:20.7</a></b><i class=\"ago\" id=\"ago30\">5hr 43min ago</i></td><td class=\"tabev1\">39.39 </td><td class=\"tabev2\">N  </td><td class=\"tabev1\">32.99 </td><td class=\"tabev2\">E  </td><td class=\"tabev3\">7</td><td class=\"tabev5\" id=\"magtyp30\">ML</td><td class=\"tabev2\">2.3</td><td class=\"tb_region\" id=\"reg30\"> CENTRAL TURKEY</td><td class=\"comment updatetimeno\" id=\"upd30\" style=\"text-align:right;\">2019-06-11 16:38</td></tr>,\n",
       " <tr class=\"ligne1 normal\" id=\"770764\" onclick=\"go_details(event,770764);\"><td class=\"tabev0\"></td><td class=\"tabev0\"></td><td class=\"tabev0\"></td><td class=\"tabev6\"><b><i style=\"display:none;\">earthquake</i><a href=\"/Earthquake/earthquake.php?id=770764\">2019-06-11   15:36:53.8</a></b><i class=\"ago\" id=\"ago32\">6hr 01min ago</i></td><td class=\"tabev1\">19.44 </td><td class=\"tabev2\">N  </td><td class=\"tabev1\">155.33 </td><td class=\"tabev2\">W  </td><td class=\"tabev3\">5</td><td class=\"tabev5\" id=\"magtyp32\">Ml</td><td class=\"tabev2\">2.5</td><td class=\"tb_region\" id=\"reg32\"> ISLAND OF HAWAII, HAWAII</td><td class=\"comment updatetimeno\" id=\"upd32\" style=\"text-align:right;\">2019-06-11 19:46</td></tr>,\n",
       " <tr class=\"ligne1 normal\" id=\"770766\" onclick=\"go_details(event,770766);\"><td class=\"tabev0\"></td><td class=\"tabev0\"></td><td class=\"tabev0\"></td><td class=\"tabev6\"><b><i style=\"display:none;\">earthquake</i><a href=\"/Earthquake/earthquake.php?id=770766\">2019-06-11   15:14:22.0</a></b><i class=\"ago\" id=\"ago34\">6hr 24min ago</i></td><td class=\"tabev1\">19.93 </td><td class=\"tabev2\">N  </td><td class=\"tabev1\">72.15 </td><td class=\"tabev2\">W  </td><td class=\"tabev3\">38</td><td class=\"tabev5\" id=\"magtyp34\"> M</td><td class=\"tabev2\">3.0</td><td class=\"tb_region\" id=\"reg34\"> HAITI REGION</td><td class=\"comment updatetimeno\" id=\"upd34\" style=\"text-align:right;\">2019-06-11 15:45</td></tr>,\n",
       " <tr class=\"ligne1 normal\" id=\"770762\" onclick=\"go_details(event,770762);\"><td class=\"tabev0\"></td><td class=\"tabev0\"></td><td class=\"tabev0\"></td><td class=\"tabev6\"><b><i style=\"display:none;\">earthquake</i><a href=\"/Earthquake/earthquake.php?id=770762\">2019-06-11   15:02:52.4</a></b><i class=\"ago\" id=\"ago36\">6hr 35min ago</i></td><td class=\"tabev1\">63.53 </td><td class=\"tabev2\">N  </td><td class=\"tabev1\">153.06 </td><td class=\"tabev2\">W  </td><td class=\"tabev3\">28</td><td class=\"tabev5\" id=\"magtyp36\">ML</td><td class=\"tabev2\">2.6</td><td class=\"tb_region\" id=\"reg36\"> CENTRAL ALASKA</td><td class=\"comment updatetimeno\" id=\"upd36\" style=\"text-align:right;\">2019-06-11 18:37</td></tr>,\n",
       " <tr class=\"ligne1 normal\" id=\"770801\" onclick=\"go_details(event,770801);\"><td class=\"tabev0\"></td><td class=\"tabev0\"></td><td class=\"tabev0\"></td><td class=\"tabev6\"><b><i style=\"display:none;\">earthquake</i><a href=\"/Earthquake/earthquake.php?id=770801\">2019-06-11   13:39:15.9</a></b><i class=\"ago\" id=\"ago38\">7hr 59min ago</i></td><td class=\"tabev1\">19.83 </td><td class=\"tabev2\">N  </td><td class=\"tabev1\">156.06 </td><td class=\"tabev2\">W  </td><td class=\"tabev3\">35</td><td class=\"tabev5\" id=\"magtyp38\">Ml</td><td class=\"tabev2\">2.0</td><td class=\"tb_region\" id=\"reg38\"> HAWAII REGION, HAWAII</td><td class=\"comment updatetimeno\" id=\"upd38\" style=\"text-align:right;\">2019-06-11 21:02</td></tr>,\n",
       " <tr class=\"ligne1 normal\" id=\"770723\" onclick=\"go_details(event,770723);\"><td class=\"tabev0\"></td><td class=\"tabev0\"></td><td class=\"tabev0\"></td><td class=\"tabev6\"><b><i style=\"display:none;\">earthquake</i><a href=\"/Earthquake/earthquake.php?id=770723\">2019-06-11   12:56:13.2</a></b><i class=\"ago\" id=\"ago40\">8hr 42min ago</i></td><td class=\"tabev1\">40.44 </td><td class=\"tabev2\">N  </td><td class=\"tabev1\">21.59 </td><td class=\"tabev2\">E  </td><td class=\"tabev3\">10</td><td class=\"tabev5\" id=\"magtyp40\">ML</td><td class=\"tabev2\">2.5</td><td class=\"tb_region\" id=\"reg40\"> GREECE</td><td class=\"comment updatetimeno\" id=\"upd40\" style=\"text-align:right;\">2019-06-11 14:53</td></tr>,\n",
       " <tr class=\"ligne1 normal\" id=\"770722\" onclick=\"go_details(event,770722);\"><td class=\"tabev0\"></td><td class=\"tabev0\"></td><td class=\"tabev0\"></td><td class=\"tabev6\"><b><i style=\"display:none;\">earthquake</i><a href=\"/Earthquake/earthquake.php?id=770722\">2019-06-11   12:35:46.0</a></b><i class=\"ago\" id=\"ago42\">9hr 02min ago</i></td><td class=\"tabev1\">20.67 </td><td class=\"tabev2\">S  </td><td class=\"tabev1\">68.93 </td><td class=\"tabev2\">W  </td><td class=\"tabev3\">101</td><td class=\"tabev5\" id=\"magtyp42\">ML</td><td class=\"tabev2\">3.1</td><td class=\"tb_region\" id=\"reg42\"> TARAPACA, CHILE</td><td class=\"comment updatetimeno\" id=\"upd42\" style=\"text-align:right;\">2019-06-11 12:48</td></tr>,\n",
       " <tr class=\"ligne1 normal\" id=\"770719\" onclick=\"go_details(event,770719);\"><td class=\"tabev0\"></td><td class=\"tabev0\"></td><td class=\"tabev0\"></td><td class=\"tabev6\"><b><i style=\"display:none;\">earthquake</i><a href=\"/Earthquake/earthquake.php?id=770719\">2019-06-11   12:28:00.0</a></b><i class=\"ago\" id=\"ago44\">9hr 10min ago</i></td><td class=\"tabev1\">3.91 </td><td class=\"tabev2\">S  </td><td class=\"tabev1\">80.24 </td><td class=\"tabev2\">W  </td><td class=\"tabev3\">66</td><td class=\"tabev5\" id=\"magtyp44\"> M</td><td class=\"tabev2\">4.7</td><td class=\"tb_region\" id=\"reg44\"> PERU-ECUADOR BORDER REGION</td><td class=\"comment updatetimeno\" id=\"upd44\" style=\"text-align:right;\">2019-06-11 13:01</td></tr>,\n",
       " <tr class=\"ligne1 normal\" id=\"770715\" onclick=\"go_details(event,770715);\"><td class=\"tabev0\"></td><td class=\"tabev0\"></td><td class=\"tabev0\"></td><td class=\"tabev6\"><b><i style=\"display:none;\">earthquake</i><a href=\"/Earthquake/earthquake.php?id=770715\">2019-06-11   12:04:55.0</a></b><i class=\"ago\" id=\"ago46\">9hr 33min ago</i></td><td class=\"tabev1\">2.69 </td><td class=\"tabev2\">S  </td><td class=\"tabev1\">136.41 </td><td class=\"tabev2\">E  </td><td class=\"tabev3\">10</td><td class=\"tabev5\" id=\"magtyp46\"> M</td><td class=\"tabev2\">4.0</td><td class=\"tb_region\" id=\"reg46\"> NEAR N COAST OF PAPUA, INDONESIA</td><td class=\"comment updatetimeno\" id=\"upd46\" style=\"text-align:right;\">2019-06-11 12:15</td></tr>,\n",
       " <tr class=\"ligne1 normal\" id=\"770754\" onclick=\"go_details(event,770754);\"><td class=\"tabev0\"></td><td class=\"tabev0\"></td><td class=\"tabev0\"></td><td class=\"tabev6\"><b><i style=\"display:none;\">earthquake</i><a href=\"/Earthquake/earthquake.php?id=770754\">2019-06-11   11:35:30.0</a></b><i class=\"ago\" id=\"ago48\">10hr 03min ago</i></td><td class=\"tabev1\">11.11 </td><td class=\"tabev2\">N  </td><td class=\"tabev1\">86.47 </td><td class=\"tabev2\">W  </td><td class=\"tabev3\">13</td><td class=\"tabev5\" id=\"magtyp48\"> M</td><td class=\"tabev2\">3.5</td><td class=\"tb_region\" id=\"reg48\"> NEAR COAST OF NICARAGUA</td><td class=\"comment updatetimeno\" id=\"upd48\" style=\"text-align:right;\">2019-06-11 13:45</td></tr>]"
      ]
     },
     "execution_count": 203,
     "metadata": {},
     "output_type": "execute_result"
    }
   ],
   "source": [
    "#your code\n",
    "rq = requests.get(url)\n",
    "soap = BeautifulSoup(rq.text)\n",
    "rows = soap.find_all('tr', 'ligne1 normal')\n",
    "\n",
    "rows"
   ]
  },
  {
   "cell_type": "markdown",
   "metadata": {},
   "source": [
    "#### Display the date, days, title, city, country of next 25 hackathon events as a Pandas dataframe table"
   ]
  },
  {
   "cell_type": "code",
   "execution_count": null,
   "metadata": {},
   "outputs": [],
   "source": [
    "# This is the url you will scrape in this exercise\n",
    "url ='https://hackevents.co/hackathons'"
   ]
  },
  {
   "cell_type": "code",
   "execution_count": null,
   "metadata": {},
   "outputs": [],
   "source": [
    "#your code"
   ]
  },
  {
   "cell_type": "markdown",
   "metadata": {},
   "source": [
    "#### Count number of tweets by a given Twitter account."
   ]
  },
  {
   "cell_type": "markdown",
   "metadata": {},
   "source": [
    "You will need to include a ***try/except block*** for account names not found. \n",
    "<br>***Hint:*** the program should count the number of tweets for any provided account"
   ]
  },
  {
   "cell_type": "code",
   "execution_count": null,
   "metadata": {},
   "outputs": [],
   "source": [
    "# This is the url you will scrape in this exercise \n",
    "# You will need to add the account credentials to this url\n",
    "url = 'https://twitter.com/'"
   ]
  },
  {
   "cell_type": "code",
   "execution_count": null,
   "metadata": {},
   "outputs": [],
   "source": [
    "#your code"
   ]
  },
  {
   "cell_type": "markdown",
   "metadata": {},
   "source": [
    "#### Number of followers of a given twitter account"
   ]
  },
  {
   "cell_type": "markdown",
   "metadata": {},
   "source": [
    "You will need to include a ***try/except block*** in case account/s name not found. \n",
    "<br>***Hint:*** the program should count the followers for any provided account"
   ]
  },
  {
   "cell_type": "code",
   "execution_count": null,
   "metadata": {},
   "outputs": [],
   "source": [
    "# This is the url you will scrape in this exercise \n",
    "# You will need to add the account credentials to this url\n",
    "url = 'https://twitter.com/'"
   ]
  },
  {
   "cell_type": "code",
   "execution_count": null,
   "metadata": {},
   "outputs": [],
   "source": [
    "#your code"
   ]
  },
  {
   "cell_type": "markdown",
   "metadata": {},
   "source": [
    "#### List all language names and number of related articles in the order they appear in wikipedia.org"
   ]
  },
  {
   "cell_type": "code",
   "execution_count": null,
   "metadata": {},
   "outputs": [],
   "source": [
    "# This is the url you will scrape in this exercise\n",
    "url = 'https://www.wikipedia.org/'"
   ]
  },
  {
   "cell_type": "code",
   "execution_count": null,
   "metadata": {},
   "outputs": [],
   "source": [
    "#your code"
   ]
  },
  {
   "cell_type": "markdown",
   "metadata": {},
   "source": [
    "#### A list with the different kind of datasets available in data.gov.uk "
   ]
  },
  {
   "cell_type": "code",
   "execution_count": null,
   "metadata": {},
   "outputs": [],
   "source": [
    "# This is the url you will scrape in this exercise\n",
    "url = 'https://data.gov.uk/'"
   ]
  },
  {
   "cell_type": "code",
   "execution_count": null,
   "metadata": {},
   "outputs": [],
   "source": [
    "#your code "
   ]
  },
  {
   "cell_type": "markdown",
   "metadata": {},
   "source": [
    "#### Top 10 languages by number of native speakers stored in a Pandas Dataframe"
   ]
  },
  {
   "cell_type": "code",
   "execution_count": null,
   "metadata": {},
   "outputs": [],
   "source": [
    "# This is the url you will scrape in this exercise\n",
    "url = 'https://en.wikipedia.org/wiki/List_of_languages_by_number_of_native_speakers'"
   ]
  },
  {
   "cell_type": "code",
   "execution_count": null,
   "metadata": {},
   "outputs": [],
   "source": [
    "#your code"
   ]
  },
  {
   "cell_type": "markdown",
   "metadata": {},
   "source": [
    "### BONUS QUESTIONS"
   ]
  },
  {
   "cell_type": "markdown",
   "metadata": {},
   "source": [
    "#### Scrape a certain number of tweets of a given Twitter account."
   ]
  },
  {
   "cell_type": "code",
   "execution_count": null,
   "metadata": {},
   "outputs": [],
   "source": [
    "# This is the url you will scrape in this exercise \n",
    "# You will need to add the account credentials to this url\n",
    "url = 'https://twitter.com/'"
   ]
  },
  {
   "cell_type": "code",
   "execution_count": null,
   "metadata": {},
   "outputs": [],
   "source": [
    "# your code"
   ]
  },
  {
   "cell_type": "markdown",
   "metadata": {},
   "source": [
    "#### IMDB's Top 250 data (movie name, Initial release, director name and stars) as a pandas dataframe"
   ]
  },
  {
   "cell_type": "code",
   "execution_count": null,
   "metadata": {},
   "outputs": [],
   "source": [
    "# This is the url you will scrape in this exercise \n",
    "url = 'https://www.imdb.com/chart/top'"
   ]
  },
  {
   "cell_type": "code",
   "execution_count": null,
   "metadata": {},
   "outputs": [],
   "source": [
    "# your code"
   ]
  },
  {
   "cell_type": "markdown",
   "metadata": {},
   "source": [
    "#### Movie name, year and a brief summary of the top 10 random movies (IMDB) as a pandas dataframe."
   ]
  },
  {
   "cell_type": "code",
   "execution_count": null,
   "metadata": {},
   "outputs": [],
   "source": [
    "#This is the url you will scrape in this exercise\n",
    "url = 'http://www.imdb.com/chart/top'"
   ]
  },
  {
   "cell_type": "code",
   "execution_count": null,
   "metadata": {},
   "outputs": [],
   "source": [
    "#your code"
   ]
  },
  {
   "cell_type": "markdown",
   "metadata": {},
   "source": [
    "#### Find the live weather report (temperature, wind speed, description and weather) of a given city."
   ]
  },
  {
   "cell_type": "code",
   "execution_count": null,
   "metadata": {},
   "outputs": [],
   "source": [
    "#https://openweathermap.org/current\n",
    "city = city=input('Enter the city:')\n",
    "url = 'http://api.openweathermap.org/data/2.5/weather?'+'q='+city+'&APPID=b35975e18dc93725acb092f7272cc6b8&units=metric'"
   ]
  },
  {
   "cell_type": "code",
   "execution_count": null,
   "metadata": {},
   "outputs": [],
   "source": [
    "# your code"
   ]
  },
  {
   "cell_type": "markdown",
   "metadata": {},
   "source": [
    "#### Book name,price and stock availability as a pandas dataframe."
   ]
  },
  {
   "cell_type": "code",
   "execution_count": null,
   "metadata": {},
   "outputs": [],
   "source": [
    "# This is the url you will scrape in this exercise. \n",
    "# It is a fictional bookstore created to be scraped. \n",
    "url = 'http://books.toscrape.com/'"
   ]
  },
  {
   "cell_type": "code",
   "execution_count": null,
   "metadata": {},
   "outputs": [],
   "source": [
    "#your code"
   ]
  }
 ],
 "metadata": {
  "kernelspec": {
   "display_name": "Python 3",
   "language": "python",
   "name": "python3"
  },
  "language_info": {
   "codemirror_mode": {
    "name": "ipython",
    "version": 3
   },
   "file_extension": ".py",
   "mimetype": "text/x-python",
   "name": "python",
   "nbconvert_exporter": "python",
   "pygments_lexer": "ipython3",
   "version": "3.7.3"
  }
 },
 "nbformat": 4,
 "nbformat_minor": 2
}
