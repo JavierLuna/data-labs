{
 "cells": [
  {
   "cell_type": "markdown",
   "metadata": {},
   "source": [
    "# Web Scraping Lab\n",
    "\n",
    "You will find in this notebook some scrapy exercises to practise your scraping skills.\n",
    "\n",
    "**Tips:**\n",
    "\n",
    "- Check the response status code for each request to ensure you have obtained the intended contennt.\n",
    "- Print the response text in each request to understand the kind of info you are getting and its format.\n",
    "- Check for patterns in the response text to extract the data/info requested in each question.\n",
    "- Visit each url and take a look at its source through Chrome DevTools. You'll need to identify the html tags, special class names etc. used for the html content you are expected to extract."
   ]
  },
  {
   "cell_type": "markdown",
   "metadata": {},
   "source": [
    "- [Requests library](http://docs.python-requests.org/en/master/#the-user-guide) documentation \n",
    "- [Beautiful Soup Doc](https://www.crummy.com/software/BeautifulSoup/bs4/doc/)\n",
    "- [Urllib](https://docs.python.org/3/library/urllib.html#module-urllib)\n",
    "- [re lib](https://docs.python.org/3/library/re.html)\n",
    "- [lxml lib](https://lxml.de/)\n",
    "- [Scrapy](https://scrapy.org/)\n",
    "- [List of HTTP status codes](https://en.wikipedia.org/wiki/List_of_HTTP_status_codes)\n",
    "- [HTML basics](http://www.simplehtmlguide.com/cheatsheet.php)\n",
    "- [CSS basics](https://www.cssbasics.com/#page_start)"
   ]
  },
  {
   "cell_type": "markdown",
   "metadata": {},
   "source": [
    "#### Below are the libraries and modules you may need. `requests`,  `BeautifulSoup` and `pandas` are imported for you. If you prefer to use additional libraries feel free to uncomment them."
   ]
  },
  {
   "cell_type": "code",
   "execution_count": 1,
   "metadata": {},
   "outputs": [],
   "source": [
    "import requests\n",
    "from bs4 import BeautifulSoup\n",
    "import pandas as pd\n",
    "from pprint import pprint\n",
    "from lxml import html\n",
    "from lxml.html import fromstring\n",
    "import urllib.request\n",
    "from urllib.request import urlopen\n",
    "import random\n",
    "import re\n",
    "import scrapy"
   ]
  },
  {
   "cell_type": "markdown",
   "metadata": {},
   "source": [
    "#### Download, parse (using BeautifulSoup), and print the content from the Trending Developers page from GitHub:"
   ]
  },
  {
   "cell_type": "code",
   "execution_count": 2,
   "metadata": {},
   "outputs": [],
   "source": [
    "# This is the url you will scrape in this exercise\n",
    "url = 'https://github.com/trending/developers'"
   ]
  },
  {
   "cell_type": "code",
   "execution_count": 3,
   "metadata": {},
   "outputs": [],
   "source": [
    "#your code\n",
    "page = requests.get(url)\n",
    "soup = BeautifulSoup(page.text, 'html.parser')\n",
    "# print(soup.prettify())"
   ]
  },
  {
   "cell_type": "markdown",
   "metadata": {},
   "source": [
    "#### Display the names of the trending developers retrieved in the previous step.\n",
    "\n",
    "Your output should be a Python list of developer names. Each name should not contain any html tag.\n",
    "\n",
    "**Instructions:**\n",
    "\n",
    "1. Find out the html tag and class names used for the developer names. You can achieve this using Chrome DevTools.\n",
    "\n",
    "1. Use BeautifulSoup to extract all the html elements that contain the developer names.\n",
    "\n",
    "1. Use string manipulation techniques to replace whitespaces and linebreaks (i.e. `\\n`) in the *text* of each html element. Use a list to store the clean names.\n",
    "\n",
    "1. Print the list of names.\n",
    "\n",
    "Your output should look like below:\n",
    "\n",
    "```\n",
    "['trimstray (@trimstray)',\n",
    " 'joewalnes (JoeWalnes)',\n",
    " 'charlax (Charles-AxelDein)',\n",
    " 'ForrestKnight (ForrestKnight)',\n",
    " 'revery-ui (revery-ui)',\n",
    " 'alibaba (Alibaba)',\n",
    " 'Microsoft (Microsoft)',\n",
    " 'github (GitHub)',\n",
    " 'facebook (Facebook)',\n",
    " 'boazsegev (Bo)',\n",
    " 'google (Google)',\n",
    " 'cloudfetch',\n",
    " 'sindresorhus (SindreSorhus)',\n",
    " 'tensorflow',\n",
    " 'apache (TheApacheSoftwareFoundation)',\n",
    " 'DevonCrawford (DevonCrawford)',\n",
    " 'ARMmbed (ArmMbed)',\n",
    " 'vuejs (vuejs)',\n",
    " 'fastai (fast.ai)',\n",
    " 'QiShaoXuan (Qi)',\n",
    " 'joelparkerhenderson (JoelParkerHenderson)',\n",
    " 'torvalds (LinusTorvalds)',\n",
    " 'CyC2018',\n",
    " 'komeiji-satori (神楽坂覚々)',\n",
    " 'script-8']\n",
    " ```"
   ]
  },
  {
   "cell_type": "code",
   "execution_count": 4,
   "metadata": {},
   "outputs": [],
   "source": [
    "#your code\n",
    "data = soup.find_all(class_='f4 text-normal mb-1')\n",
    "developers = [elem.get_text().replace(\"\\n\", \"\") for elem in data]"
   ]
  },
  {
   "cell_type": "markdown",
   "metadata": {},
   "source": [
    "#### Display the trending Python repositories in GitHub\n",
    "\n",
    "The steps to solve this problem is similar to the previous one except that you need to find out the repository names instead of developer names."
   ]
  },
  {
   "cell_type": "code",
   "execution_count": 5,
   "metadata": {},
   "outputs": [],
   "source": [
    "# This is the url you will scrape in this exercise\n",
    "url = 'https://github.com/trending/python?since=daily'"
   ]
  },
  {
   "cell_type": "code",
   "execution_count": 6,
   "metadata": {},
   "outputs": [],
   "source": [
    "#your code\n",
    "page = requests.get(url)\n",
    "soup = BeautifulSoup(page.text, 'html.parser')"
   ]
  },
  {
   "cell_type": "code",
   "execution_count": 7,
   "metadata": {},
   "outputs": [],
   "source": [
    "repos = soup.find_all(class_='h3 lh-condensed')\n",
    "repositories = [span.text.replace(\"\\n\", \"\") for span in repos]"
   ]
  },
  {
   "cell_type": "markdown",
   "metadata": {},
   "source": [
    "#### Display all the image links from Walt Disney wikipedia page"
   ]
  },
  {
   "cell_type": "code",
   "execution_count": 8,
   "metadata": {},
   "outputs": [],
   "source": [
    "# This is the url you will scrape in this exercise\n",
    "url = 'https://en.wikipedia.org/wiki/Walt_Disney'"
   ]
  },
  {
   "cell_type": "code",
   "execution_count": 9,
   "metadata": {},
   "outputs": [],
   "source": [
    "#your code\n",
    "page = requests.get(url)\n",
    "soup = BeautifulSoup(page.text, 'html.parser')"
   ]
  },
  {
   "cell_type": "code",
   "execution_count": 10,
   "metadata": {},
   "outputs": [],
   "source": [
    "img = soup.findAll('img')\n",
    "links = [img['src'] for img in img]"
   ]
  },
  {
   "cell_type": "markdown",
   "metadata": {},
   "source": [
    "#### Retrieve an arbitary Wikipedia page of \"Python\" and create a list of links on that page"
   ]
  },
  {
   "cell_type": "code",
   "execution_count": 11,
   "metadata": {},
   "outputs": [],
   "source": [
    "# This is the url you will scrape in this exercise\n",
    "url ='https://en.wikipedia.org/wiki/Python' "
   ]
  },
  {
   "cell_type": "code",
   "execution_count": 12,
   "metadata": {},
   "outputs": [],
   "source": [
    "#your code\n",
    "page = requests.get(url)\n",
    "soup = BeautifulSoup(page.text, 'html.parser')"
   ]
  },
  {
   "cell_type": "code",
   "execution_count": 13,
   "metadata": {},
   "outputs": [],
   "source": [
    "links = soup.find_all('a')"
   ]
  },
  {
   "cell_type": "markdown",
   "metadata": {},
   "source": [
    "#### Number of Titles that have changed in the United States Code since its last release point "
   ]
  },
  {
   "cell_type": "code",
   "execution_count": 14,
   "metadata": {},
   "outputs": [],
   "source": [
    "# This is the url you will scrape in this exercise\n",
    "url = 'http://uscode.house.gov/download/download.shtml'"
   ]
  },
  {
   "cell_type": "code",
   "execution_count": 15,
   "metadata": {},
   "outputs": [],
   "source": [
    "#your code\n",
    "page = requests.get(url)\n",
    "soup = BeautifulSoup(page.text, 'html.parser')"
   ]
  },
  {
   "cell_type": "code",
   "execution_count": 16,
   "metadata": {},
   "outputs": [
    {
     "data": {
      "text/plain": [
       "53"
      ]
     },
     "execution_count": 16,
     "metadata": {},
     "output_type": "execute_result"
    }
   ],
   "source": [
    "# titles\n",
    "len(soup.find_all(class_='usctitle'))"
   ]
  },
  {
   "cell_type": "markdown",
   "metadata": {},
   "source": [
    "#### A Python list with the top ten FBI's Most Wanted names "
   ]
  },
  {
   "cell_type": "code",
   "execution_count": 17,
   "metadata": {},
   "outputs": [],
   "source": [
    "# This is the url you will scrape in this exercise\n",
    "url = 'https://www.fbi.gov/wanted/topten'"
   ]
  },
  {
   "cell_type": "code",
   "execution_count": 18,
   "metadata": {},
   "outputs": [],
   "source": [
    "#your code \n",
    "page = requests.get(url)\n",
    "soup = BeautifulSoup(page.text, 'html.parser')"
   ]
  },
  {
   "cell_type": "code",
   "execution_count": 19,
   "metadata": {},
   "outputs": [
    {
     "data": {
      "text/plain": [
       "['EUGENE PALMER',\n",
       " 'SANTIAGO VILLALBA MEDEROS',\n",
       " 'RAFAEL CARO-QUINTERO',\n",
       " 'ROBERT WILLIAM FISHER',\n",
       " 'BHADRESHKUMAR CHETANBHAI PATEL',\n",
       " 'ARNOLDO JIMENEZ',\n",
       " 'ALEJANDRO ROSALES CASTILLO',\n",
       " 'YASER ABDEL SAID',\n",
       " 'JASON DEREK BROWN',\n",
       " 'ALEXIS FLORES']"
      ]
     },
     "execution_count": 19,
     "metadata": {},
     "output_type": "execute_result"
    }
   ],
   "source": [
    "wanted = soup.find_all('h3', class_='title')\n",
    "[wanted.text.replace(\"\\n\", \"\") for wanted in wanted]"
   ]
  },
  {
   "cell_type": "markdown",
   "metadata": {},
   "source": [
    "####  20 latest earthquakes info (date, time, latitude, longitude and region name) by the EMSC as a pandas dataframe"
   ]
  },
  {
   "cell_type": "code",
   "execution_count": 20,
   "metadata": {},
   "outputs": [],
   "source": [
    "# This is the url you will scrape in this exercise\n",
    "url = 'https://www.emsc-csem.org/Earthquake/'"
   ]
  },
  {
   "cell_type": "code",
   "execution_count": 21,
   "metadata": {},
   "outputs": [],
   "source": [
    "#your code\n",
    "page = requests.get(url)\n",
    "soup = BeautifulSoup(page.text, 'html.parser')"
   ]
  },
  {
   "cell_type": "code",
   "execution_count": 22,
   "metadata": {},
   "outputs": [],
   "source": [
    "table = soup.find_all('table')[3]\n",
    "df = pd.read_html(str(table))[0]"
   ]
  },
  {
   "cell_type": "code",
   "execution_count": 23,
   "metadata": {},
   "outputs": [
    {
     "data": {
      "text/html": [
       "<div>\n",
       "<style scoped>\n",
       "    .dataframe tbody tr th:only-of-type {\n",
       "        vertical-align: middle;\n",
       "    }\n",
       "\n",
       "    .dataframe tbody tr th {\n",
       "        vertical-align: top;\n",
       "    }\n",
       "\n",
       "    .dataframe thead tr th {\n",
       "        text-align: left;\n",
       "    }\n",
       "</style>\n",
       "<table border=\"1\" class=\"dataframe\">\n",
       "  <thead>\n",
       "    <tr>\n",
       "      <th></th>\n",
       "      <th colspan=\"3\" halign=\"left\">CitizenResponse</th>\n",
       "      <th>Date &amp; Time UTC</th>\n",
       "      <th colspan=\"2\" halign=\"left\">Latitude degrees</th>\n",
       "      <th colspan=\"2\" halign=\"left\">Longitude degrees</th>\n",
       "      <th>Depth km</th>\n",
       "      <th>Mag [+]</th>\n",
       "      <th>Region name [+]</th>\n",
       "      <th>Last update [-]</th>\n",
       "      <th>Unnamed: 12_level_0</th>\n",
       "    </tr>\n",
       "    <tr>\n",
       "      <th></th>\n",
       "      <th>12345678910›»</th>\n",
       "      <th>12345678910›».1</th>\n",
       "      <th>12345678910›».2</th>\n",
       "      <th>12345678910›»</th>\n",
       "      <th>12345678910›»</th>\n",
       "      <th>12345678910›».1</th>\n",
       "      <th>12345678910›»</th>\n",
       "      <th>12345678910›».1</th>\n",
       "      <th>12345678910›»</th>\n",
       "      <th>12345678910›»</th>\n",
       "      <th>12345678910›»</th>\n",
       "      <th>12345678910›»</th>\n",
       "      <th>12345678910›»</th>\n",
       "    </tr>\n",
       "  </thead>\n",
       "  <tbody>\n",
       "    <tr>\n",
       "      <th>0</th>\n",
       "      <td>NaN</td>\n",
       "      <td>NaN</td>\n",
       "      <td>NaN</td>\n",
       "      <td>2020-01-17 13:07:29.708min ago</td>\n",
       "      <td>33.48</td>\n",
       "      <td>N</td>\n",
       "      <td>116.46</td>\n",
       "      <td>W</td>\n",
       "      <td>10</td>\n",
       "      <td>Ml</td>\n",
       "      <td>2.0</td>\n",
       "      <td>SOUTHERN CALIFORNIA</td>\n",
       "      <td>2020-01-17 13:11</td>\n",
       "    </tr>\n",
       "    <tr>\n",
       "      <th>1</th>\n",
       "      <td>NaN</td>\n",
       "      <td>NaN</td>\n",
       "      <td>NaN</td>\n",
       "      <td>2020-01-17 13:06:21.509min ago</td>\n",
       "      <td>35.65</td>\n",
       "      <td>N</td>\n",
       "      <td>117.48</td>\n",
       "      <td>W</td>\n",
       "      <td>9</td>\n",
       "      <td>Ml</td>\n",
       "      <td>3.0</td>\n",
       "      <td>SOUTHERN CALIFORNIA</td>\n",
       "      <td>2020-01-17 13:08</td>\n",
       "    </tr>\n",
       "    <tr>\n",
       "      <th>2</th>\n",
       "      <td>24</td>\n",
       "      <td>NaN</td>\n",
       "      <td>IV</td>\n",
       "      <td>2020-01-17 12:52:17.323min ago</td>\n",
       "      <td>17.99</td>\n",
       "      <td>N</td>\n",
       "      <td>67.03</td>\n",
       "      <td>W</td>\n",
       "      <td>10</td>\n",
       "      <td>ML</td>\n",
       "      <td>4.1</td>\n",
       "      <td>PUERTO RICO</td>\n",
       "      <td>2020-01-17 13:12</td>\n",
       "    </tr>\n",
       "    <tr>\n",
       "      <th>3</th>\n",
       "      <td>NaN</td>\n",
       "      <td>NaN</td>\n",
       "      <td>NaN</td>\n",
       "      <td>2020-01-17 12:14:29.81hr 01min ago</td>\n",
       "      <td>42.52</td>\n",
       "      <td>N</td>\n",
       "      <td>13.43</td>\n",
       "      <td>E</td>\n",
       "      <td>15</td>\n",
       "      <td>ML</td>\n",
       "      <td>2.2</td>\n",
       "      <td>CENTRAL ITALY</td>\n",
       "      <td>2020-01-17 12:24</td>\n",
       "    </tr>\n",
       "    <tr>\n",
       "      <th>4</th>\n",
       "      <td>NaN</td>\n",
       "      <td>NaN</td>\n",
       "      <td>NaN</td>\n",
       "      <td>2020-01-17 11:55:24.51hr 20min ago</td>\n",
       "      <td>17.93</td>\n",
       "      <td>N</td>\n",
       "      <td>66.78</td>\n",
       "      <td>W</td>\n",
       "      <td>10</td>\n",
       "      <td>ML</td>\n",
       "      <td>3.1</td>\n",
       "      <td>PUERTO RICO REGION</td>\n",
       "      <td>2020-01-17 12:03</td>\n",
       "    </tr>\n",
       "  </tbody>\n",
       "</table>\n",
       "</div>"
      ],
      "text/plain": [
       "  CitizenResponse                                  \\\n",
       "    12345678910›» 12345678910›».1 12345678910›».2   \n",
       "0             NaN             NaN             NaN   \n",
       "1             NaN             NaN             NaN   \n",
       "2              24             NaN              IV   \n",
       "3             NaN             NaN             NaN   \n",
       "4             NaN             NaN             NaN   \n",
       "\n",
       "                      Date & Time UTC Latitude degrees                  \\\n",
       "                        12345678910›»    12345678910›» 12345678910›».1   \n",
       "0      2020-01-17 13:07:29.708min ago            33.48               N   \n",
       "1      2020-01-17 13:06:21.509min ago            35.65               N   \n",
       "2      2020-01-17 12:52:17.323min ago            17.99               N   \n",
       "3  2020-01-17 12:14:29.81hr 01min ago            42.52               N   \n",
       "4  2020-01-17 11:55:24.51hr 20min ago            17.93               N   \n",
       "\n",
       "  Longitude degrees                      Depth km       Mag [+]  \\\n",
       "      12345678910›» 12345678910›».1 12345678910›» 12345678910›»   \n",
       "0            116.46               W            10            Ml   \n",
       "1            117.48               W             9            Ml   \n",
       "2             67.03               W            10            ML   \n",
       "3             13.43               E            15            ML   \n",
       "4             66.78               W            10            ML   \n",
       "\n",
       "  Region name [+]      Last update [-] Unnamed: 12_level_0  \n",
       "    12345678910›»        12345678910›»       12345678910›»  \n",
       "0             2.0  SOUTHERN CALIFORNIA    2020-01-17 13:11  \n",
       "1             3.0  SOUTHERN CALIFORNIA    2020-01-17 13:08  \n",
       "2             4.1          PUERTO RICO    2020-01-17 13:12  \n",
       "3             2.2        CENTRAL ITALY    2020-01-17 12:24  \n",
       "4             3.1   PUERTO RICO REGION    2020-01-17 12:03  "
      ]
     },
     "execution_count": 23,
     "metadata": {},
     "output_type": "execute_result"
    }
   ],
   "source": [
    "df.head()"
   ]
  },
  {
   "cell_type": "markdown",
   "metadata": {},
   "source": [
    "#### Display the date, days, title, city, country of next 25 hackathon events as a Pandas dataframe table"
   ]
  },
  {
   "cell_type": "code",
   "execution_count": 24,
   "metadata": {},
   "outputs": [],
   "source": [
    "# This is the url you will scrape in this exercise\n",
    "url ='https://hackevents.co/hackathons'"
   ]
  },
  {
   "cell_type": "code",
   "execution_count": 25,
   "metadata": {},
   "outputs": [],
   "source": [
    "#your code\n",
    "# expired domain"
   ]
  },
  {
   "cell_type": "markdown",
   "metadata": {},
   "source": [
    "#### Count number of tweets by a given Twitter account."
   ]
  },
  {
   "cell_type": "markdown",
   "metadata": {},
   "source": [
    "You will need to include a ***try/except block*** for account names not found. \n",
    "<br>***Hint:*** the program should count the number of tweets for any provided account"
   ]
  },
  {
   "cell_type": "code",
   "execution_count": 26,
   "metadata": {},
   "outputs": [],
   "source": [
    "# This is the url you will scrape in this exercise \n",
    "# You will need to add the account credentials to this url\n",
    "url = 'https://twitter.com/'"
   ]
  },
  {
   "cell_type": "code",
   "execution_count": 27,
   "metadata": {},
   "outputs": [],
   "source": [
    "#your code"
   ]
  },
  {
   "cell_type": "markdown",
   "metadata": {},
   "source": [
    "#### Number of followers of a given twitter account"
   ]
  },
  {
   "cell_type": "markdown",
   "metadata": {},
   "source": [
    "You will need to include a ***try/except block*** in case account/s name not found. \n",
    "<br>***Hint:*** the program should count the followers for any provided account"
   ]
  },
  {
   "cell_type": "code",
   "execution_count": 28,
   "metadata": {},
   "outputs": [],
   "source": [
    "# This is the url you will scrape in this exercise \n",
    "# You will need to add the account credentials to this url\n",
    "url = 'https://twitter.com/'"
   ]
  },
  {
   "cell_type": "code",
   "execution_count": 29,
   "metadata": {},
   "outputs": [],
   "source": [
    "#your code"
   ]
  },
  {
   "cell_type": "markdown",
   "metadata": {},
   "source": [
    "#### List all language names and number of related articles in the order they appear in wikipedia.org"
   ]
  },
  {
   "cell_type": "code",
   "execution_count": 30,
   "metadata": {},
   "outputs": [],
   "source": [
    "# This is the url you will scrape in this exercise\n",
    "url = 'https://www.wikipedia.org/'"
   ]
  },
  {
   "cell_type": "code",
   "execution_count": 31,
   "metadata": {},
   "outputs": [],
   "source": [
    "#your code\n",
    "page = requests.get(url)\n",
    "soup = BeautifulSoup(page.text, 'html.parser')"
   ]
  },
  {
   "cell_type": "code",
   "execution_count": 32,
   "metadata": {},
   "outputs": [
    {
     "data": {
      "text/plain": [
       "['English',\n",
       " 'æ\\x97¥æ\\x9c¬èª\\x9e',\n",
       " 'Deutsch',\n",
       " 'EspaÃ±ol',\n",
       " 'Ð\\xa0Ñ\\x83Ñ\\x81Ñ\\x81ÐºÐ¸Ð¹',\n",
       " 'FranÃ§ais',\n",
       " 'Italiano',\n",
       " 'ä¸\\xadæ\\x96\\x87',\n",
       " 'PortuguÃªs',\n",
       " 'Polski']"
      ]
     },
     "execution_count": 32,
     "metadata": {},
     "output_type": "execute_result"
    }
   ],
   "source": [
    "lang = soup.findAll(\"strong\")\n",
    "language = [lang.text for lang in lang]\n",
    "language[1:-1]"
   ]
  },
  {
   "cell_type": "code",
   "execution_count": 33,
   "metadata": {},
   "outputs": [
    {
     "data": {
      "text/plain": [
       "['5 994 000+ articles',\n",
       " '1 185 000+ è ̈\\x98äo\\x8b',\n",
       " '2 385 000+ Artikel',\n",
       " '1 571 000+ artÃ\\xadculos',\n",
       " '1 590 000+ Ñ\\x81Ñ\\x82Ð°Ñ\\x82ÐμÐ1',\n",
       " '2 171 000+ articles',\n",
       " '1 576 000+ voci',\n",
       " '1 090 000+ æ¢\\x9dç\\x9b®',\n",
       " '1 018 000+ artigos',\n",
       " '1 379 000+ haseÅ\\x82']"
      ]
     },
     "execution_count": 33,
     "metadata": {},
     "output_type": "execute_result"
    }
   ],
   "source": [
    "import unicodedata\n",
    "\n",
    "art = soup.findAll(\"small\")\n",
    "articles = [unicodedata.normalize('NFKD', art.text) for art in art]\n",
    "articles[:-3]\n",
    "# https://stackoverflow.com/questions/10993612/python-removing-xa0-from-string"
   ]
  },
  {
   "cell_type": "code",
   "execution_count": 34,
   "metadata": {},
   "outputs": [],
   "source": [
    "# lang = soup.findAll(\"option\")\n",
    "# language = [lang.text for lang in lang]"
   ]
  },
  {
   "cell_type": "markdown",
   "metadata": {},
   "source": [
    "#### A list with the different kind of datasets available in data.gov.uk "
   ]
  },
  {
   "cell_type": "code",
   "execution_count": 35,
   "metadata": {},
   "outputs": [],
   "source": [
    "# This is the url you will scrape in this exercise\n",
    "url = 'https://data.gov.uk/'"
   ]
  },
  {
   "cell_type": "code",
   "execution_count": 36,
   "metadata": {},
   "outputs": [],
   "source": [
    "#your code \n",
    "page = requests.get(url)\n",
    "soup = BeautifulSoup(page.text, 'html.parser')"
   ]
  },
  {
   "cell_type": "code",
   "execution_count": 37,
   "metadata": {},
   "outputs": [
    {
     "data": {
      "text/plain": [
       "['Business and economy',\n",
       " 'Crime and justice',\n",
       " 'Defence',\n",
       " 'Education',\n",
       " 'Environment',\n",
       " 'Government',\n",
       " 'Government spending',\n",
       " 'Health',\n",
       " 'Mapping',\n",
       " 'Society',\n",
       " 'Towns and cities',\n",
       " 'Transport']"
      ]
     },
     "execution_count": 37,
     "metadata": {},
     "output_type": "execute_result"
    }
   ],
   "source": [
    "data = soup.find_all('h2')\n",
    "[data.get_text() for data in data]"
   ]
  },
  {
   "cell_type": "markdown",
   "metadata": {},
   "source": [
    "#### Top 10 languages by number of native speakers stored in a Pandas Dataframe"
   ]
  },
  {
   "cell_type": "code",
   "execution_count": 38,
   "metadata": {},
   "outputs": [],
   "source": [
    "# This is the url you will scrape in this exercise\n",
    "url = 'https://en.wikipedia.org/wiki/List_of_languages_by_number_of_native_speakers'"
   ]
  },
  {
   "cell_type": "code",
   "execution_count": 39,
   "metadata": {},
   "outputs": [],
   "source": [
    "#your code\n",
    "page = requests.get(url)\n",
    "soup = BeautifulSoup(page.text, 'html.parser')"
   ]
  },
  {
   "cell_type": "code",
   "execution_count": 40,
   "metadata": {},
   "outputs": [],
   "source": [
    "table = soup.find_all('table')[2]\n",
    "df = pd.read_html(str(table))[0]"
   ]
  },
  {
   "cell_type": "code",
   "execution_count": 41,
   "metadata": {},
   "outputs": [
    {
     "data": {
      "text/html": [
       "<div>\n",
       "<style scoped>\n",
       "    .dataframe tbody tr th:only-of-type {\n",
       "        vertical-align: middle;\n",
       "    }\n",
       "\n",
       "    .dataframe tbody tr th {\n",
       "        vertical-align: top;\n",
       "    }\n",
       "\n",
       "    .dataframe thead th {\n",
       "        text-align: right;\n",
       "    }\n",
       "</style>\n",
       "<table border=\"1\" class=\"dataframe\">\n",
       "  <thead>\n",
       "    <tr style=\"text-align: right;\">\n",
       "      <th></th>\n",
       "      <th>Rank</th>\n",
       "      <th>Language</th>\n",
       "      <th>Nativespeakersin millions2007 (2010)</th>\n",
       "      <th>Percentageof worldpopulation(2007)</th>\n",
       "    </tr>\n",
       "  </thead>\n",
       "  <tbody>\n",
       "    <tr>\n",
       "      <th>0</th>\n",
       "      <td>1</td>\n",
       "      <td>Mandarin (entire branch)</td>\n",
       "      <td>935 (955)</td>\n",
       "      <td>14.1%</td>\n",
       "    </tr>\n",
       "    <tr>\n",
       "      <th>1</th>\n",
       "      <td>2</td>\n",
       "      <td>Spanish</td>\n",
       "      <td>390 (405)</td>\n",
       "      <td>5.85%</td>\n",
       "    </tr>\n",
       "    <tr>\n",
       "      <th>2</th>\n",
       "      <td>3</td>\n",
       "      <td>English</td>\n",
       "      <td>365 (360)</td>\n",
       "      <td>5.52%</td>\n",
       "    </tr>\n",
       "    <tr>\n",
       "      <th>3</th>\n",
       "      <td>4</td>\n",
       "      <td>Hindi[a]</td>\n",
       "      <td>295 (310)</td>\n",
       "      <td>4.46%</td>\n",
       "    </tr>\n",
       "    <tr>\n",
       "      <th>4</th>\n",
       "      <td>5</td>\n",
       "      <td>Arabic</td>\n",
       "      <td>280 (295)</td>\n",
       "      <td>4.23%</td>\n",
       "    </tr>\n",
       "    <tr>\n",
       "      <th>5</th>\n",
       "      <td>6</td>\n",
       "      <td>Portuguese</td>\n",
       "      <td>205 (215)</td>\n",
       "      <td>3.08%</td>\n",
       "    </tr>\n",
       "    <tr>\n",
       "      <th>6</th>\n",
       "      <td>7</td>\n",
       "      <td>Bengali</td>\n",
       "      <td>200 (205)</td>\n",
       "      <td>3.05%</td>\n",
       "    </tr>\n",
       "    <tr>\n",
       "      <th>7</th>\n",
       "      <td>8</td>\n",
       "      <td>Russian</td>\n",
       "      <td>160 (155)</td>\n",
       "      <td>2.42%</td>\n",
       "    </tr>\n",
       "    <tr>\n",
       "      <th>8</th>\n",
       "      <td>9</td>\n",
       "      <td>Japanese</td>\n",
       "      <td>125 (125)</td>\n",
       "      <td>1.92%</td>\n",
       "    </tr>\n",
       "    <tr>\n",
       "      <th>9</th>\n",
       "      <td>10</td>\n",
       "      <td>Punjabi</td>\n",
       "      <td>95 (100)</td>\n",
       "      <td>1.44%</td>\n",
       "    </tr>\n",
       "  </tbody>\n",
       "</table>\n",
       "</div>"
      ],
      "text/plain": [
       "  Rank                  Language Nativespeakersin millions2007 (2010)  \\\n",
       "0    1  Mandarin (entire branch)                            935 (955)   \n",
       "1    2                   Spanish                            390 (405)   \n",
       "2    3                   English                            365 (360)   \n",
       "3    4                  Hindi[a]                            295 (310)   \n",
       "4    5                    Arabic                            280 (295)   \n",
       "5    6                Portuguese                            205 (215)   \n",
       "6    7                   Bengali                            200 (205)   \n",
       "7    8                   Russian                            160 (155)   \n",
       "8    9                  Japanese                            125 (125)   \n",
       "9   10                   Punjabi                             95 (100)   \n",
       "\n",
       "  Percentageof worldpopulation(2007)  \n",
       "0                              14.1%  \n",
       "1                              5.85%  \n",
       "2                              5.52%  \n",
       "3                              4.46%  \n",
       "4                              4.23%  \n",
       "5                              3.08%  \n",
       "6                              3.05%  \n",
       "7                              2.42%  \n",
       "8                              1.92%  \n",
       "9                              1.44%  "
      ]
     },
     "execution_count": 41,
     "metadata": {},
     "output_type": "execute_result"
    }
   ],
   "source": [
    "df[:10]"
   ]
  },
  {
   "cell_type": "markdown",
   "metadata": {},
   "source": [
    "### BONUS QUESTIONS"
   ]
  },
  {
   "cell_type": "markdown",
   "metadata": {},
   "source": [
    "#### Scrape a certain number of tweets of a given Twitter account."
   ]
  },
  {
   "cell_type": "code",
   "execution_count": 42,
   "metadata": {},
   "outputs": [],
   "source": [
    "# This is the url you will scrape in this exercise \n",
    "# You will need to add the account credentials to this url\n",
    "url = 'https://twitter.com/'"
   ]
  },
  {
   "cell_type": "code",
   "execution_count": 43,
   "metadata": {},
   "outputs": [],
   "source": [
    "# your code"
   ]
  },
  {
   "cell_type": "markdown",
   "metadata": {},
   "source": [
    "#### IMDB's Top 250 data (movie name, Initial release, director name and stars) as a pandas dataframe"
   ]
  },
  {
   "cell_type": "code",
   "execution_count": 44,
   "metadata": {},
   "outputs": [],
   "source": [
    "# This is the url you will scrape in this exercise \n",
    "url = 'https://www.imdb.com/chart/top'"
   ]
  },
  {
   "cell_type": "code",
   "execution_count": 45,
   "metadata": {},
   "outputs": [],
   "source": [
    "# your code\n",
    "page = requests.get(url)\n",
    "soup = BeautifulSoup(page.text, 'html.parser')"
   ]
  },
  {
   "cell_type": "code",
   "execution_count": 46,
   "metadata": {},
   "outputs": [
    {
     "data": {
      "text/html": [
       "<div>\n",
       "<style scoped>\n",
       "    .dataframe tbody tr th:only-of-type {\n",
       "        vertical-align: middle;\n",
       "    }\n",
       "\n",
       "    .dataframe tbody tr th {\n",
       "        vertical-align: top;\n",
       "    }\n",
       "\n",
       "    .dataframe thead th {\n",
       "        text-align: right;\n",
       "    }\n",
       "</style>\n",
       "<table border=\"1\" class=\"dataframe\">\n",
       "  <thead>\n",
       "    <tr style=\"text-align: right;\">\n",
       "      <th></th>\n",
       "      <th>Rank &amp; Title</th>\n",
       "      <th>IMDb Rating</th>\n",
       "      <th>Your Rating</th>\n",
       "    </tr>\n",
       "  </thead>\n",
       "  <tbody>\n",
       "    <tr>\n",
       "      <th>0</th>\n",
       "      <td>1.  Cadena perpetua (1994)</td>\n",
       "      <td>9.2</td>\n",
       "      <td>12345678910 NOT YET RELEASED  Seen</td>\n",
       "    </tr>\n",
       "    <tr>\n",
       "      <th>1</th>\n",
       "      <td>2.  El padrino (1972)</td>\n",
       "      <td>9.1</td>\n",
       "      <td>12345678910 NOT YET RELEASED  Seen</td>\n",
       "    </tr>\n",
       "    <tr>\n",
       "      <th>2</th>\n",
       "      <td>3.  El padrino: Parte II (1974)</td>\n",
       "      <td>9.0</td>\n",
       "      <td>12345678910 NOT YET RELEASED  Seen</td>\n",
       "    </tr>\n",
       "    <tr>\n",
       "      <th>3</th>\n",
       "      <td>4.  El caballero oscuro (2008)</td>\n",
       "      <td>9.0</td>\n",
       "      <td>12345678910 NOT YET RELEASED  Seen</td>\n",
       "    </tr>\n",
       "    <tr>\n",
       "      <th>4</th>\n",
       "      <td>5.  12 hombres sin piedad (1957)</td>\n",
       "      <td>8.9</td>\n",
       "      <td>12345678910 NOT YET RELEASED  Seen</td>\n",
       "    </tr>\n",
       "  </tbody>\n",
       "</table>\n",
       "</div>"
      ],
      "text/plain": [
       "                       Rank & Title  IMDb Rating  \\\n",
       "0        1.  Cadena perpetua (1994)          9.2   \n",
       "1             2.  El padrino (1972)          9.1   \n",
       "2   3.  El padrino: Parte II (1974)          9.0   \n",
       "3    4.  El caballero oscuro (2008)          9.0   \n",
       "4  5.  12 hombres sin piedad (1957)          8.9   \n",
       "\n",
       "                          Your Rating  \n",
       "0  12345678910 NOT YET RELEASED  Seen  \n",
       "1  12345678910 NOT YET RELEASED  Seen  \n",
       "2  12345678910 NOT YET RELEASED  Seen  \n",
       "3  12345678910 NOT YET RELEASED  Seen  \n",
       "4  12345678910 NOT YET RELEASED  Seen  "
      ]
     },
     "execution_count": 46,
     "metadata": {},
     "output_type": "execute_result"
    }
   ],
   "source": [
    "table = soup.find_all('table')\n",
    "df = pd.read_html(str(table))[0].drop(['Unnamed: 0', 'Unnamed: 4'], axis=1)\n",
    "df.head()"
   ]
  },
  {
   "cell_type": "markdown",
   "metadata": {},
   "source": [
    "#### Movie name, year and a brief summary of the top 10 random movies (IMDB) as a pandas dataframe."
   ]
  },
  {
   "cell_type": "code",
   "execution_count": 47,
   "metadata": {},
   "outputs": [],
   "source": [
    "#This is the url you will scrape in this exercise\n",
    "url = 'http://www.imdb.com/chart/top'"
   ]
  },
  {
   "cell_type": "code",
   "execution_count": 48,
   "metadata": {},
   "outputs": [],
   "source": [
    "#your code\n",
    "page = requests.get(url)\n",
    "soup = BeautifulSoup(page.text, 'html.parser')"
   ]
  },
  {
   "cell_type": "code",
   "execution_count": 49,
   "metadata": {},
   "outputs": [],
   "source": [
    "table = soup.find_all('table')\n",
    "df = pd.read_html(str(table))[0].drop(['Unnamed: 0', 'Unnamed: 4'], axis=1)"
   ]
  },
  {
   "cell_type": "code",
   "execution_count": 50,
   "metadata": {},
   "outputs": [],
   "source": [
    "years = soup.find_all(class_='secondaryInfo')\n",
    "years = [years.get_text()[1:-1] for years in years]"
   ]
  },
  {
   "cell_type": "code",
   "execution_count": 51,
   "metadata": {},
   "outputs": [],
   "source": [
    "df['years'] = years"
   ]
  },
  {
   "cell_type": "code",
   "execution_count": 52,
   "metadata": {},
   "outputs": [],
   "source": [
    "df['name'] = df[\"Rank & Title\"].str.split(\".\", n = 1, expand = True)[1]\n",
    "df['name'] = df[\"name\"].str.split(\"(\", n = 1, expand = True)[0]"
   ]
  },
  {
   "cell_type": "code",
   "execution_count": 53,
   "metadata": {},
   "outputs": [
    {
     "data": {
      "text/html": [
       "<div>\n",
       "<style scoped>\n",
       "    .dataframe tbody tr th:only-of-type {\n",
       "        vertical-align: middle;\n",
       "    }\n",
       "\n",
       "    .dataframe tbody tr th {\n",
       "        vertical-align: top;\n",
       "    }\n",
       "\n",
       "    .dataframe thead th {\n",
       "        text-align: right;\n",
       "    }\n",
       "</style>\n",
       "<table border=\"1\" class=\"dataframe\">\n",
       "  <thead>\n",
       "    <tr style=\"text-align: right;\">\n",
       "      <th></th>\n",
       "      <th>Rank &amp; Title</th>\n",
       "      <th>IMDb Rating</th>\n",
       "      <th>Your Rating</th>\n",
       "      <th>years</th>\n",
       "      <th>name</th>\n",
       "    </tr>\n",
       "  </thead>\n",
       "  <tbody>\n",
       "    <tr>\n",
       "      <th>0</th>\n",
       "      <td>1.  Cadena perpetua (1994)</td>\n",
       "      <td>9.2</td>\n",
       "      <td>12345678910 NOT YET RELEASED  Seen</td>\n",
       "      <td>1994</td>\n",
       "      <td>Cadena perpetua</td>\n",
       "    </tr>\n",
       "    <tr>\n",
       "      <th>1</th>\n",
       "      <td>2.  El padrino (1972)</td>\n",
       "      <td>9.1</td>\n",
       "      <td>12345678910 NOT YET RELEASED  Seen</td>\n",
       "      <td>1972</td>\n",
       "      <td>El padrino</td>\n",
       "    </tr>\n",
       "    <tr>\n",
       "      <th>2</th>\n",
       "      <td>3.  El padrino: Parte II (1974)</td>\n",
       "      <td>9.0</td>\n",
       "      <td>12345678910 NOT YET RELEASED  Seen</td>\n",
       "      <td>1974</td>\n",
       "      <td>El padrino: Parte II</td>\n",
       "    </tr>\n",
       "    <tr>\n",
       "      <th>3</th>\n",
       "      <td>4.  El caballero oscuro (2008)</td>\n",
       "      <td>9.0</td>\n",
       "      <td>12345678910 NOT YET RELEASED  Seen</td>\n",
       "      <td>2008</td>\n",
       "      <td>El caballero oscuro</td>\n",
       "    </tr>\n",
       "    <tr>\n",
       "      <th>4</th>\n",
       "      <td>5.  12 hombres sin piedad (1957)</td>\n",
       "      <td>8.9</td>\n",
       "      <td>12345678910 NOT YET RELEASED  Seen</td>\n",
       "      <td>1957</td>\n",
       "      <td>12 hombres sin piedad</td>\n",
       "    </tr>\n",
       "  </tbody>\n",
       "</table>\n",
       "</div>"
      ],
      "text/plain": [
       "                       Rank & Title  IMDb Rating  \\\n",
       "0        1.  Cadena perpetua (1994)          9.2   \n",
       "1             2.  El padrino (1972)          9.1   \n",
       "2   3.  El padrino: Parte II (1974)          9.0   \n",
       "3    4.  El caballero oscuro (2008)          9.0   \n",
       "4  5.  12 hombres sin piedad (1957)          8.9   \n",
       "\n",
       "                          Your Rating years                      name  \n",
       "0  12345678910 NOT YET RELEASED  Seen  1994          Cadena perpetua   \n",
       "1  12345678910 NOT YET RELEASED  Seen  1972               El padrino   \n",
       "2  12345678910 NOT YET RELEASED  Seen  1974     El padrino: Parte II   \n",
       "3  12345678910 NOT YET RELEASED  Seen  2008      El caballero oscuro   \n",
       "4  12345678910 NOT YET RELEASED  Seen  1957    12 hombres sin piedad   "
      ]
     },
     "execution_count": 53,
     "metadata": {},
     "output_type": "execute_result"
    }
   ],
   "source": [
    "df.head()"
   ]
  },
  {
   "cell_type": "markdown",
   "metadata": {},
   "source": [
    "#### Find the live weather report (temperature, wind speed, description and weather) of a given city."
   ]
  },
  {
   "cell_type": "code",
   "execution_count": 54,
   "metadata": {},
   "outputs": [
    {
     "name": "stdin",
     "output_type": "stream",
     "text": [
      "Enter the city: Madrid\n"
     ]
    }
   ],
   "source": [
    "#https://openweathermap.org/current\n",
    "city = city=input('Enter the city:')\n",
    "url = 'http://api.openweathermap.org/data/2.5/weather?'+'q='+city+'&APPID=b35975e18dc93725acb092f7272cc6b8&units=metric'"
   ]
  },
  {
   "cell_type": "code",
   "execution_count": 55,
   "metadata": {},
   "outputs": [
    {
     "data": {
      "text/plain": [
       "(10.89, 5.7, 'broken clouds', 'Clouds')"
      ]
     },
     "execution_count": 55,
     "metadata": {},
     "output_type": "execute_result"
    }
   ],
   "source": [
    "# your code\n",
    "response = requests.request(\"GET\", url)\n",
    "response.json()['main']['temp'], response.json()['wind']['speed'], response.json()['weather'][0]['description'], response.json()['weather'][0]['main']"
   ]
  },
  {
   "cell_type": "code",
   "execution_count": 56,
   "metadata": {},
   "outputs": [
    {
     "data": {
      "text/html": [
       "<div>\n",
       "<style scoped>\n",
       "    .dataframe tbody tr th:only-of-type {\n",
       "        vertical-align: middle;\n",
       "    }\n",
       "\n",
       "    .dataframe tbody tr th {\n",
       "        vertical-align: top;\n",
       "    }\n",
       "\n",
       "    .dataframe thead th {\n",
       "        text-align: right;\n",
       "    }\n",
       "</style>\n",
       "<table border=\"1\" class=\"dataframe\">\n",
       "  <thead>\n",
       "    <tr style=\"text-align: right;\">\n",
       "      <th></th>\n",
       "      <th>weather</th>\n",
       "      <th>base</th>\n",
       "      <th>visibility</th>\n",
       "      <th>dt</th>\n",
       "      <th>timezone</th>\n",
       "      <th>id</th>\n",
       "      <th>name</th>\n",
       "      <th>cod</th>\n",
       "      <th>coord.lon</th>\n",
       "      <th>coord.lat</th>\n",
       "      <th>...</th>\n",
       "      <th>main.pressure</th>\n",
       "      <th>main.humidity</th>\n",
       "      <th>wind.speed</th>\n",
       "      <th>wind.deg</th>\n",
       "      <th>clouds.all</th>\n",
       "      <th>sys.type</th>\n",
       "      <th>sys.id</th>\n",
       "      <th>sys.country</th>\n",
       "      <th>sys.sunrise</th>\n",
       "      <th>sys.sunset</th>\n",
       "    </tr>\n",
       "  </thead>\n",
       "  <tbody>\n",
       "    <tr>\n",
       "      <th>0</th>\n",
       "      <td>[{'id': 803, 'main': 'Clouds', 'description': ...</td>\n",
       "      <td>stations</td>\n",
       "      <td>10000</td>\n",
       "      <td>1579266591</td>\n",
       "      <td>3600</td>\n",
       "      <td>3117735</td>\n",
       "      <td>Madrid</td>\n",
       "      <td>200</td>\n",
       "      <td>-3.7</td>\n",
       "      <td>40.42</td>\n",
       "      <td>...</td>\n",
       "      <td>1031</td>\n",
       "      <td>71</td>\n",
       "      <td>5.7</td>\n",
       "      <td>250</td>\n",
       "      <td>75</td>\n",
       "      <td>1</td>\n",
       "      <td>6443</td>\n",
       "      <td>ES</td>\n",
       "      <td>1579246514</td>\n",
       "      <td>1579281222</td>\n",
       "    </tr>\n",
       "  </tbody>\n",
       "</table>\n",
       "<p>1 rows × 24 columns</p>\n",
       "</div>"
      ],
      "text/plain": [
       "                                             weather      base  visibility  \\\n",
       "0  [{'id': 803, 'main': 'Clouds', 'description': ...  stations       10000   \n",
       "\n",
       "           dt  timezone       id    name  cod  coord.lon  coord.lat  ...  \\\n",
       "0  1579266591      3600  3117735  Madrid  200       -3.7      40.42  ...   \n",
       "\n",
       "   main.pressure  main.humidity  wind.speed  wind.deg  clouds.all  sys.type  \\\n",
       "0           1031             71         5.7       250          75         1   \n",
       "\n",
       "   sys.id  sys.country  sys.sunrise  sys.sunset  \n",
       "0    6443           ES   1579246514  1579281222  \n",
       "\n",
       "[1 rows x 24 columns]"
      ]
     },
     "execution_count": 56,
     "metadata": {},
     "output_type": "execute_result"
    }
   ],
   "source": [
    "from pandas.io.json import json_normalize\n",
    "import json\n",
    "\n",
    "response = requests.request(\"GET\", url)\n",
    "json_normalize(response.json())"
   ]
  },
  {
   "cell_type": "markdown",
   "metadata": {},
   "source": [
    "#### Book name,price and stock availability as a pandas dataframe."
   ]
  },
  {
   "cell_type": "code",
   "execution_count": 57,
   "metadata": {},
   "outputs": [],
   "source": [
    "# This is the url you will scrape in this exercise. \n",
    "# It is a fictional bookstore created to be scraped. \n",
    "url = 'http://books.toscrape.com/'"
   ]
  },
  {
   "cell_type": "code",
   "execution_count": 58,
   "metadata": {},
   "outputs": [],
   "source": [
    "#your code\n",
    "page = requests.get(url)\n",
    "soup = BeautifulSoup(page.text, 'html.parser')"
   ]
  },
  {
   "cell_type": "code",
   "execution_count": 59,
   "metadata": {},
   "outputs": [],
   "source": [
    "title = soup.find_all('h3')\n",
    "title = [title.get_text() for title in title]"
   ]
  },
  {
   "cell_type": "code",
   "execution_count": 60,
   "metadata": {},
   "outputs": [],
   "source": [
    "price = soup.find_all(class_='price_color')\n",
    "price = [price.get_text()[1:] for price in price]"
   ]
  },
  {
   "cell_type": "code",
   "execution_count": 61,
   "metadata": {},
   "outputs": [],
   "source": [
    "stock = soup.find_all(class_='instock availability')\n",
    "stock = [stock.get_text().replace(\"\\n\", \"\") for stock in stock]"
   ]
  },
  {
   "cell_type": "code",
   "execution_count": 62,
   "metadata": {},
   "outputs": [
    {
     "data": {
      "text/html": [
       "<div>\n",
       "<style scoped>\n",
       "    .dataframe tbody tr th:only-of-type {\n",
       "        vertical-align: middle;\n",
       "    }\n",
       "\n",
       "    .dataframe tbody tr th {\n",
       "        vertical-align: top;\n",
       "    }\n",
       "\n",
       "    .dataframe thead th {\n",
       "        text-align: right;\n",
       "    }\n",
       "</style>\n",
       "<table border=\"1\" class=\"dataframe\">\n",
       "  <thead>\n",
       "    <tr style=\"text-align: right;\">\n",
       "      <th></th>\n",
       "      <th>title</th>\n",
       "      <th>price</th>\n",
       "      <th>stock</th>\n",
       "    </tr>\n",
       "  </thead>\n",
       "  <tbody>\n",
       "    <tr>\n",
       "      <th>0</th>\n",
       "      <td>A Light in the ...</td>\n",
       "      <td>£51.77</td>\n",
       "      <td>In stock</td>\n",
       "    </tr>\n",
       "    <tr>\n",
       "      <th>1</th>\n",
       "      <td>Tipping the Velvet</td>\n",
       "      <td>£53.74</td>\n",
       "      <td>In stock</td>\n",
       "    </tr>\n",
       "    <tr>\n",
       "      <th>2</th>\n",
       "      <td>Soumission</td>\n",
       "      <td>£50.10</td>\n",
       "      <td>In stock</td>\n",
       "    </tr>\n",
       "    <tr>\n",
       "      <th>3</th>\n",
       "      <td>Sharp Objects</td>\n",
       "      <td>£47.82</td>\n",
       "      <td>In stock</td>\n",
       "    </tr>\n",
       "    <tr>\n",
       "      <th>4</th>\n",
       "      <td>Sapiens: A Brief History ...</td>\n",
       "      <td>£54.23</td>\n",
       "      <td>In stock</td>\n",
       "    </tr>\n",
       "    <tr>\n",
       "      <th>5</th>\n",
       "      <td>The Requiem Red</td>\n",
       "      <td>£22.65</td>\n",
       "      <td>In stock</td>\n",
       "    </tr>\n",
       "    <tr>\n",
       "      <th>6</th>\n",
       "      <td>The Dirty Little Secrets ...</td>\n",
       "      <td>£33.34</td>\n",
       "      <td>In stock</td>\n",
       "    </tr>\n",
       "    <tr>\n",
       "      <th>7</th>\n",
       "      <td>The Coming Woman: A ...</td>\n",
       "      <td>£17.93</td>\n",
       "      <td>In stock</td>\n",
       "    </tr>\n",
       "    <tr>\n",
       "      <th>8</th>\n",
       "      <td>The Boys in the ...</td>\n",
       "      <td>£22.60</td>\n",
       "      <td>In stock</td>\n",
       "    </tr>\n",
       "    <tr>\n",
       "      <th>9</th>\n",
       "      <td>The Black Maria</td>\n",
       "      <td>£52.15</td>\n",
       "      <td>In stock</td>\n",
       "    </tr>\n",
       "    <tr>\n",
       "      <th>10</th>\n",
       "      <td>Starving Hearts (Triangular Trade ...</td>\n",
       "      <td>£13.99</td>\n",
       "      <td>In stock</td>\n",
       "    </tr>\n",
       "    <tr>\n",
       "      <th>11</th>\n",
       "      <td>Shakespeare's Sonnets</td>\n",
       "      <td>£20.66</td>\n",
       "      <td>In stock</td>\n",
       "    </tr>\n",
       "    <tr>\n",
       "      <th>12</th>\n",
       "      <td>Set Me Free</td>\n",
       "      <td>£17.46</td>\n",
       "      <td>In stock</td>\n",
       "    </tr>\n",
       "    <tr>\n",
       "      <th>13</th>\n",
       "      <td>Scott Pilgrim's Precious Little ...</td>\n",
       "      <td>£52.29</td>\n",
       "      <td>In stock</td>\n",
       "    </tr>\n",
       "    <tr>\n",
       "      <th>14</th>\n",
       "      <td>Rip it Up and ...</td>\n",
       "      <td>£35.02</td>\n",
       "      <td>In stock</td>\n",
       "    </tr>\n",
       "    <tr>\n",
       "      <th>15</th>\n",
       "      <td>Our Band Could Be ...</td>\n",
       "      <td>£57.25</td>\n",
       "      <td>In stock</td>\n",
       "    </tr>\n",
       "    <tr>\n",
       "      <th>16</th>\n",
       "      <td>Olio</td>\n",
       "      <td>£23.88</td>\n",
       "      <td>In stock</td>\n",
       "    </tr>\n",
       "    <tr>\n",
       "      <th>17</th>\n",
       "      <td>Mesaerion: The Best Science ...</td>\n",
       "      <td>£37.59</td>\n",
       "      <td>In stock</td>\n",
       "    </tr>\n",
       "    <tr>\n",
       "      <th>18</th>\n",
       "      <td>Libertarianism for Beginners</td>\n",
       "      <td>£51.33</td>\n",
       "      <td>In stock</td>\n",
       "    </tr>\n",
       "    <tr>\n",
       "      <th>19</th>\n",
       "      <td>It's Only the Himalayas</td>\n",
       "      <td>£45.17</td>\n",
       "      <td>In stock</td>\n",
       "    </tr>\n",
       "  </tbody>\n",
       "</table>\n",
       "</div>"
      ],
      "text/plain": [
       "                                    title   price                     stock\n",
       "0                      A Light in the ...  £51.77              In stock    \n",
       "1                      Tipping the Velvet  £53.74              In stock    \n",
       "2                              Soumission  £50.10              In stock    \n",
       "3                           Sharp Objects  £47.82              In stock    \n",
       "4            Sapiens: A Brief History ...  £54.23              In stock    \n",
       "5                         The Requiem Red  £22.65              In stock    \n",
       "6            The Dirty Little Secrets ...  £33.34              In stock    \n",
       "7                 The Coming Woman: A ...  £17.93              In stock    \n",
       "8                     The Boys in the ...  £22.60              In stock    \n",
       "9                         The Black Maria  £52.15              In stock    \n",
       "10  Starving Hearts (Triangular Trade ...  £13.99              In stock    \n",
       "11                  Shakespeare's Sonnets  £20.66              In stock    \n",
       "12                            Set Me Free  £17.46              In stock    \n",
       "13    Scott Pilgrim's Precious Little ...  £52.29              In stock    \n",
       "14                      Rip it Up and ...  £35.02              In stock    \n",
       "15                  Our Band Could Be ...  £57.25              In stock    \n",
       "16                                   Olio  £23.88              In stock    \n",
       "17        Mesaerion: The Best Science ...  £37.59              In stock    \n",
       "18           Libertarianism for Beginners  £51.33              In stock    \n",
       "19                It's Only the Himalayas  £45.17              In stock    "
      ]
     },
     "execution_count": 62,
     "metadata": {},
     "output_type": "execute_result"
    }
   ],
   "source": [
    "data = list(zip(title,price,stock))\n",
    "pd.DataFrame(data, columns=['title','price', 'stock'])\n",
    "# https://www.geeksforgeeks.org/create-a-pandas-dataframe-from-lists/"
   ]
  }
 ],
 "metadata": {
  "kernelspec": {
   "display_name": "Python 3",
   "language": "python",
   "name": "python3"
  },
  "language_info": {
   "codemirror_mode": {
    "name": "ipython",
    "version": 3
   },
   "file_extension": ".py",
   "mimetype": "text/x-python",
   "name": "python",
   "nbconvert_exporter": "python",
   "pygments_lexer": "ipython3",
   "version": "3.7.4"
  }
 },
 "nbformat": 4,
 "nbformat_minor": 4
}
