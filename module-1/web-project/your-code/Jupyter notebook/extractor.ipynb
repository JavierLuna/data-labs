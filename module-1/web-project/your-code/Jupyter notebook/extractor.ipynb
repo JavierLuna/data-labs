{
 "cells": [
  {
   "cell_type": "code",
   "execution_count": null,
   "metadata": {},
   "outputs": [],
   "source": [
    "import pandas as pd\n",
    "\n",
    "#def extract_csv(csv_name):\n",
    "#    df = pd.read_csv(csv_name, header=0, encoding = 'utf8')\n",
    "#    return df\n",
    "\n",
    "def extract_json(json_name):\n",
    "    \"\"\"\n",
    "    Esta función me permite recuperar el tipo de la columna de las canciones que\n",
    "    tenía el dataframe después del scraping, es decir, una lista de strings, donde cada string es un verso.\n",
    "    Si lo hiciera con CSV, la letra de la canción pasaría a ser una lista con una única string, por lo que\n",
    "    perdería la separación entre versos.\n",
    "    \"\"\"\n",
    "    df = pd.read_json(json_name, encoding = 'utf8')\n",
    "    return df"
   ]
  }
 ],
 "metadata": {
  "kernelspec": {
   "display_name": "Python 3",
   "language": "python",
   "name": "python3"
  },
  "language_info": {
   "codemirror_mode": {
    "name": "ipython",
    "version": 3
   },
   "file_extension": ".py",
   "mimetype": "text/x-python",
   "name": "python",
   "nbconvert_exporter": "python",
   "pygments_lexer": "ipython3",
   "version": "3.7.3"
  }
 },
 "nbformat": 4,
 "nbformat_minor": 2
}
