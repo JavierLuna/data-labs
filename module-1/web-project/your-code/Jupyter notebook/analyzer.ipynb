{
 "cells": [
  {
   "cell_type": "code",
   "execution_count": 1,
   "metadata": {},
   "outputs": [],
   "source": [
    "from wordcloud import WordCloud\n",
    "import matplotlib.pyplot as plt\n",
    "\n",
    "# Nube de palabras\n",
    "def print_wordcloud(list_of_words):\n",
    "    \"\"\"\n",
    "    Receive a list of words and print a wordcloud.\n",
    "    \"\"\"\n",
    "    text = \" \".join(list_of_words) # Concatena todas palabras de la lista\n",
    "\n",
    "    # Create and generate a word cloud image:\n",
    "    wordcloud = WordCloud().generate(text)\n",
    "\n",
    "    # Display the generated image:\n",
    "    plt.imshow(wordcloud, interpolation='bilinear')\n",
    "    plt.axis(\"off\")\n",
    "    return plt.show()"
   ]
  },
  {
   "cell_type": "code",
   "execution_count": null,
   "metadata": {},
   "outputs": [],
   "source": [
    "# Hacemos stemming, aunque en español no funciona muy bien\n",
    "from nltk.stem import SnowballStemmer\n",
    "\n",
    "def get_stemming(list_of_words):\n",
    "    \"\"\"\n",
    "    Receive a list of words, get stemming and return a new list of words.\n",
    "    \"\"\"\n",
    "    stemmer = SnowballStemmer('spanish')\n",
    "    stemmed_text = [stemmer.stem(w) for w in list_of_words]\n",
    "    return stemmed_text"
   ]
  }
 ],
 "metadata": {
  "kernelspec": {
   "display_name": "Python 3",
   "language": "python",
   "name": "python3"
  },
  "language_info": {
   "codemirror_mode": {
    "name": "ipython",
    "version": 3
   },
   "file_extension": ".py",
   "mimetype": "text/x-python",
   "name": "python",
   "nbconvert_exporter": "python",
   "pygments_lexer": "ipython3",
   "version": "3.7.3"
  }
 },
 "nbformat": 4,
 "nbformat_minor": 2
}
