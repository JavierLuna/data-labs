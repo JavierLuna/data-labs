{
 "cells": [
  {
   "cell_type": "code",
   "execution_count": 1,
   "metadata": {},
   "outputs": [
    {
     "data": {
      "text/html": [
       "<div>\n",
       "<style scoped>\n",
       "    .dataframe tbody tr th:only-of-type {\n",
       "        vertical-align: middle;\n",
       "    }\n",
       "\n",
       "    .dataframe tbody tr th {\n",
       "        vertical-align: top;\n",
       "    }\n",
       "\n",
       "    .dataframe thead th {\n",
       "        text-align: right;\n",
       "    }\n",
       "</style>\n",
       "<table border=\"1\" class=\"dataframe\">\n",
       "  <thead>\n",
       "    <tr style=\"text-align: right;\">\n",
       "      <th></th>\n",
       "      <th>Artist</th>\n",
       "      <th>Title</th>\n",
       "      <th>Lyrics</th>\n",
       "    </tr>\n",
       "  </thead>\n",
       "  <tbody>\n",
       "    <tr>\n",
       "      <th>0</th>\n",
       "      <td>Karol G</td>\n",
       "      <td>Ocean</td>\n",
       "      <td>[Si algún día te vas de casa (de casa), Yo te ...</td>\n",
       "    </tr>\n",
       "    <tr>\n",
       "      <th>1</th>\n",
       "      <td>Karol G</td>\n",
       "      <td>Dices Que Te Vas (part. Anuel AA)</td>\n",
       "      <td>[No sé, no-no sé, Yo me despierto y busco tus ...</td>\n",
       "    </tr>\n",
       "    <tr>\n",
       "      <th>10</th>\n",
       "      <td>Karol G</td>\n",
       "      <td>Go Karo</td>\n",
       "      <td>[O-O-Ovy On The Drums, Go, Karo!, Enloqueció l...</td>\n",
       "    </tr>\n",
       "    <tr>\n",
       "      <th>100</th>\n",
       "      <td>Daddy Yankee</td>\n",
       "      <td>Soltera (remix)</td>\n",
       "      <td>[[Bad Bunny y daddy yankee], Épico, Salte 'el ...</td>\n",
       "    </tr>\n",
       "    <tr>\n",
       "      <th>101</th>\n",
       "      <td>Daddy Yankee</td>\n",
       "      <td>Con Calma (remix) (part. Katy Perry y Snow)</td>\n",
       "      <td>[D-D-D-D-D-DY, ¡Ay, Daddy!, Play N' Skillz, Ka...</td>\n",
       "    </tr>\n",
       "  </tbody>\n",
       "</table>\n",
       "</div>"
      ],
      "text/plain": [
       "              Artist                                        Title  \\\n",
       "0           Karol G                                         Ocean   \n",
       "1           Karol G             Dices Que Te Vas (part. Anuel AA)   \n",
       "10          Karol G                                       Go Karo   \n",
       "100    Daddy Yankee                               Soltera (remix)   \n",
       "101    Daddy Yankee   Con Calma (remix) (part. Katy Perry y Snow)   \n",
       "\n",
       "                                                Lyrics  \n",
       "0    [Si algún día te vas de casa (de casa), Yo te ...  \n",
       "1    [No sé, no-no sé, Yo me despierto y busco tus ...  \n",
       "10   [O-O-Ovy On The Drums, Go, Karo!, Enloqueció l...  \n",
       "100  [[Bad Bunny y daddy yankee], Épico, Salte 'el ...  \n",
       "101  [D-D-D-D-D-DY, ¡Ay, Daddy!, Play N' Skillz, Ka...  "
      ]
     },
     "execution_count": 1,
     "metadata": {},
     "output_type": "execute_result"
    }
   ],
   "source": [
    "# La importación la eliminaré cuando acabe el script de transformar.\n",
    "# La pongo para importar el df.\n",
    "import pandas as pd\n",
    "\n",
    "def extract(json_name):\n",
    "    df = pd.read_json(json_name, encoding = 'utf8')\n",
    "    return df\n",
    "\n",
    "df = extract(\"Reggaeton_lyrics.json\")\n",
    "df.head()"
   ]
  },
  {
   "cell_type": "code",
   "execution_count": null,
   "metadata": {},
   "outputs": [],
   "source": [
    "\"\"\"\n",
    "from textblob import TextBlob\n",
    "\n",
    "def analyze_spanish_sentiment(l):\n",
    "    song_translated = []\n",
    "    # noun_phrases = []\n",
    "    sentim = []\n",
    "    try:\n",
    "        for verse in l:\n",
    "            blob = TextBlob(verse)\n",
    "            verse_translated = blob.translate(to=\"en\")\n",
    "            song_translated.append(verse_translated)\n",
    "            # noun_phrases.append(verse_translated.noun_phrases) # No me convencen los resultados.\n",
    "            sentim.append(verse_translated.sentiment.polarity)\n",
    "    except:\n",
    "        pass\n",
    "    return song_translated, sentim\n",
    "\"\"\""
   ]
  },
  {
   "cell_type": "code",
   "execution_count": 2,
   "metadata": {},
   "outputs": [],
   "source": [
    "def translate_list(l):\n",
    "    list_translated = []\n",
    "    try:\n",
    "        for line in l:\n",
    "            blob = TextBlob(line)\n",
    "            line_translated = blob.translate(to=\"en\")\n",
    "            list_translated.append(line_translated)\n",
    "    except:\n",
    "        pass\n",
    "    return list_translated\n",
    "\n",
    "def analyze_sentiment(l):\n",
    "    sentim = []\n",
    "    try:\n",
    "        for line in l:\n",
    "            blob = TextBlob(line)\n",
    "            sentim.append(blob.sentiment.polarity)\n",
    "    except:\n",
    "        pass\n",
    "    return sentim"
   ]
  },
  {
   "cell_type": "code",
   "execution_count": null,
   "metadata": {},
   "outputs": [],
   "source": [
    "df['Translation'] = df['Lyrics'].apply(translate_list)\n",
    "df['Sentiment'] = df['Lyrics'].apply(analyze_sentiment)"
   ]
  },
  {
   "cell_type": "code",
   "execution_count": 5,
   "metadata": {},
   "outputs": [
    {
     "data": {
      "text/html": [
       "<div>\n",
       "<style scoped>\n",
       "    .dataframe tbody tr th:only-of-type {\n",
       "        vertical-align: middle;\n",
       "    }\n",
       "\n",
       "    .dataframe tbody tr th {\n",
       "        vertical-align: top;\n",
       "    }\n",
       "\n",
       "    .dataframe thead th {\n",
       "        text-align: right;\n",
       "    }\n",
       "</style>\n",
       "<table border=\"1\" class=\"dataframe\">\n",
       "  <thead>\n",
       "    <tr style=\"text-align: right;\">\n",
       "      <th></th>\n",
       "      <th>Artist</th>\n",
       "      <th>Title</th>\n",
       "      <th>Lyrics</th>\n",
       "      <th>Translation</th>\n",
       "      <th>Sentiment</th>\n",
       "    </tr>\n",
       "  </thead>\n",
       "  <tbody>\n",
       "    <tr>\n",
       "      <th>0</th>\n",
       "      <td>Karol G</td>\n",
       "      <td>Ocean</td>\n",
       "      <td>[Si algún día te vas de casa (de casa), Yo te ...</td>\n",
       "      <td>[]</td>\n",
       "      <td>[]</td>\n",
       "    </tr>\n",
       "    <tr>\n",
       "      <th>1</th>\n",
       "      <td>Karol G</td>\n",
       "      <td>Dices Que Te Vas (part. Anuel AA)</td>\n",
       "      <td>[No sé, no-no sé, Yo me despierto y busco tus ...</td>\n",
       "      <td>[]</td>\n",
       "      <td>[]</td>\n",
       "    </tr>\n",
       "    <tr>\n",
       "      <th>10</th>\n",
       "      <td>Karol G</td>\n",
       "      <td>Go Karo</td>\n",
       "      <td>[O-O-Ovy On The Drums, Go, Karo!, Enloqueció l...</td>\n",
       "      <td>[]</td>\n",
       "      <td>[]</td>\n",
       "    </tr>\n",
       "    <tr>\n",
       "      <th>100</th>\n",
       "      <td>Daddy Yankee</td>\n",
       "      <td>Soltera (remix)</td>\n",
       "      <td>[[Bad Bunny y daddy yankee], Épico, Salte 'el ...</td>\n",
       "      <td>[]</td>\n",
       "      <td>[]</td>\n",
       "    </tr>\n",
       "    <tr>\n",
       "      <th>101</th>\n",
       "      <td>Daddy Yankee</td>\n",
       "      <td>Con Calma (remix) (part. Katy Perry y Snow)</td>\n",
       "      <td>[D-D-D-D-D-DY, ¡Ay, Daddy!, Play N' Skillz, Ka...</td>\n",
       "      <td>[]</td>\n",
       "      <td>[]</td>\n",
       "    </tr>\n",
       "  </tbody>\n",
       "</table>\n",
       "</div>"
      ],
      "text/plain": [
       "              Artist                                        Title  \\\n",
       "0           Karol G                                         Ocean   \n",
       "1           Karol G             Dices Que Te Vas (part. Anuel AA)   \n",
       "10          Karol G                                       Go Karo   \n",
       "100    Daddy Yankee                               Soltera (remix)   \n",
       "101    Daddy Yankee   Con Calma (remix) (part. Katy Perry y Snow)   \n",
       "\n",
       "                                                Lyrics Translation Sentiment  \n",
       "0    [Si algún día te vas de casa (de casa), Yo te ...          []        []  \n",
       "1    [No sé, no-no sé, Yo me despierto y busco tus ...          []        []  \n",
       "10   [O-O-Ovy On The Drums, Go, Karo!, Enloqueció l...          []        []  \n",
       "100  [[Bad Bunny y daddy yankee], Épico, Salte 'el ...          []        []  \n",
       "101  [D-D-D-D-D-DY, ¡Ay, Daddy!, Play N' Skillz, Ka...          []        []  "
      ]
     },
     "execution_count": 5,
     "metadata": {},
     "output_type": "execute_result"
    }
   ],
   "source": [
    "df.head()"
   ]
  },
  {
   "cell_type": "code",
   "execution_count": 4,
   "metadata": {},
   "outputs": [
    {
     "ename": "StatisticsError",
     "evalue": "mean requires at least one data point",
     "output_type": "error",
     "traceback": [
      "\u001b[0;31m---------------------------------------------------------------------------\u001b[0m",
      "\u001b[0;31mStatisticsError\u001b[0m                           Traceback (most recent call last)",
      "\u001b[0;32m<ipython-input-4-f4637ef1f8ee>\u001b[0m in \u001b[0;36m<module>\u001b[0;34m\u001b[0m\n\u001b[1;32m      1\u001b[0m \u001b[0;32mimport\u001b[0m \u001b[0mstatistics\u001b[0m\u001b[0;34m\u001b[0m\u001b[0;34m\u001b[0m\u001b[0m\n\u001b[0;32m----> 2\u001b[0;31m \u001b[0mdf\u001b[0m\u001b[0;34m[\u001b[0m\u001b[0;34m'Sent_mean'\u001b[0m\u001b[0;34m]\u001b[0m \u001b[0;34m=\u001b[0m \u001b[0mdf\u001b[0m\u001b[0;34m[\u001b[0m\u001b[0;34m'Sentiment'\u001b[0m\u001b[0;34m]\u001b[0m\u001b[0;34m.\u001b[0m\u001b[0mapply\u001b[0m\u001b[0;34m(\u001b[0m\u001b[0mstatistics\u001b[0m\u001b[0;34m.\u001b[0m\u001b[0mmean\u001b[0m\u001b[0;34m)\u001b[0m\u001b[0;34m\u001b[0m\u001b[0;34m\u001b[0m\u001b[0m\n\u001b[0m",
      "\u001b[0;32m/usr/local/lib/python3.7/site-packages/pandas/core/series.py\u001b[0m in \u001b[0;36mapply\u001b[0;34m(self, func, convert_dtype, args, **kwds)\u001b[0m\n\u001b[1;32m   3589\u001b[0m             \u001b[0;32melse\u001b[0m\u001b[0;34m:\u001b[0m\u001b[0;34m\u001b[0m\u001b[0;34m\u001b[0m\u001b[0m\n\u001b[1;32m   3590\u001b[0m                 \u001b[0mvalues\u001b[0m \u001b[0;34m=\u001b[0m \u001b[0mself\u001b[0m\u001b[0;34m.\u001b[0m\u001b[0mastype\u001b[0m\u001b[0;34m(\u001b[0m\u001b[0mobject\u001b[0m\u001b[0;34m)\u001b[0m\u001b[0;34m.\u001b[0m\u001b[0mvalues\u001b[0m\u001b[0;34m\u001b[0m\u001b[0;34m\u001b[0m\u001b[0m\n\u001b[0;32m-> 3591\u001b[0;31m                 \u001b[0mmapped\u001b[0m \u001b[0;34m=\u001b[0m \u001b[0mlib\u001b[0m\u001b[0;34m.\u001b[0m\u001b[0mmap_infer\u001b[0m\u001b[0;34m(\u001b[0m\u001b[0mvalues\u001b[0m\u001b[0;34m,\u001b[0m \u001b[0mf\u001b[0m\u001b[0;34m,\u001b[0m \u001b[0mconvert\u001b[0m\u001b[0;34m=\u001b[0m\u001b[0mconvert_dtype\u001b[0m\u001b[0;34m)\u001b[0m\u001b[0;34m\u001b[0m\u001b[0;34m\u001b[0m\u001b[0m\n\u001b[0m\u001b[1;32m   3592\u001b[0m \u001b[0;34m\u001b[0m\u001b[0m\n\u001b[1;32m   3593\u001b[0m         \u001b[0;32mif\u001b[0m \u001b[0mlen\u001b[0m\u001b[0;34m(\u001b[0m\u001b[0mmapped\u001b[0m\u001b[0;34m)\u001b[0m \u001b[0;32mand\u001b[0m \u001b[0misinstance\u001b[0m\u001b[0;34m(\u001b[0m\u001b[0mmapped\u001b[0m\u001b[0;34m[\u001b[0m\u001b[0;36m0\u001b[0m\u001b[0;34m]\u001b[0m\u001b[0;34m,\u001b[0m \u001b[0mSeries\u001b[0m\u001b[0;34m)\u001b[0m\u001b[0;34m:\u001b[0m\u001b[0;34m\u001b[0m\u001b[0;34m\u001b[0m\u001b[0m\n",
      "\u001b[0;32mpandas/_libs/lib.pyx\u001b[0m in \u001b[0;36mpandas._libs.lib.map_infer\u001b[0;34m()\u001b[0m\n",
      "\u001b[0;32m/usr/local/Cellar/python/3.7.3/Frameworks/Python.framework/Versions/3.7/lib/python3.7/statistics.py\u001b[0m in \u001b[0;36mmean\u001b[0;34m(data)\u001b[0m\n\u001b[1;32m    308\u001b[0m     \u001b[0mn\u001b[0m \u001b[0;34m=\u001b[0m \u001b[0mlen\u001b[0m\u001b[0;34m(\u001b[0m\u001b[0mdata\u001b[0m\u001b[0;34m)\u001b[0m\u001b[0;34m\u001b[0m\u001b[0;34m\u001b[0m\u001b[0m\n\u001b[1;32m    309\u001b[0m     \u001b[0;32mif\u001b[0m \u001b[0mn\u001b[0m \u001b[0;34m<\u001b[0m \u001b[0;36m1\u001b[0m\u001b[0;34m:\u001b[0m\u001b[0;34m\u001b[0m\u001b[0;34m\u001b[0m\u001b[0m\n\u001b[0;32m--> 310\u001b[0;31m         \u001b[0;32mraise\u001b[0m \u001b[0mStatisticsError\u001b[0m\u001b[0;34m(\u001b[0m\u001b[0;34m'mean requires at least one data point'\u001b[0m\u001b[0;34m)\u001b[0m\u001b[0;34m\u001b[0m\u001b[0;34m\u001b[0m\u001b[0m\n\u001b[0m\u001b[1;32m    311\u001b[0m     \u001b[0mT\u001b[0m\u001b[0;34m,\u001b[0m \u001b[0mtotal\u001b[0m\u001b[0;34m,\u001b[0m \u001b[0mcount\u001b[0m \u001b[0;34m=\u001b[0m \u001b[0m_sum\u001b[0m\u001b[0;34m(\u001b[0m\u001b[0mdata\u001b[0m\u001b[0;34m)\u001b[0m\u001b[0;34m\u001b[0m\u001b[0;34m\u001b[0m\u001b[0m\n\u001b[1;32m    312\u001b[0m     \u001b[0;32massert\u001b[0m \u001b[0mcount\u001b[0m \u001b[0;34m==\u001b[0m \u001b[0mn\u001b[0m\u001b[0;34m\u001b[0m\u001b[0;34m\u001b[0m\u001b[0m\n",
      "\u001b[0;31mStatisticsError\u001b[0m: mean requires at least one data point"
     ]
    }
   ],
   "source": [
    "import statistics\n",
    "df['Sent_mean'] = df['Sentiment'].apply(statistics.mean)"
   ]
  },
  {
   "cell_type": "code",
   "execution_count": null,
   "metadata": {},
   "outputs": [],
   "source": [
    "df.head(20)"
   ]
  },
  {
   "cell_type": "code",
   "execution_count": null,
   "metadata": {},
   "outputs": [],
   "source": [
    "# Media del sentimiento por canción\n",
    "# Nube de palabras de todas las canciones. Antes habrá que eliminar las stopwords\n",
    "# Hacer stemming para que la nube sea más concluyente. snowballstemmer\n",
    "# get_max_freq"
   ]
  },
  {
   "cell_type": "code",
   "execution_count": 3,
   "metadata": {},
   "outputs": [
    {
     "data": {
      "text/plain": [
       "['No sé, no-no sé',\n",
       " 'Yo me despierto y busco tus mensajes',\n",
       " 'Y tú me hablas y me río',\n",
       " 'Y me encanta',\n",
       " 'Pero si no me hablas, me desespero',\n",
       " 'Y a mí me da miedo enamorarme',\n",
       " 'Yo creo que así es mejor',\n",
       " 'Buscando una entrada en tu corazón',\n",
       " 'Ya te pinté más cuadros que el mismo Vincent van Gogh',\n",
       " 'Pero la vida nos separa y nos deja en la nada',\n",
       " 'Y cuelga de un hilo nuestra relación',\n",
       " 'Ya yo he buscado mil maneras para no perder',\n",
       " 'Pero en el juego del amor, ya yo perdí tu piel',\n",
       " \"Buscando mil razones pa' que tú te quedes\",\n",
       " 'Pero si quieres tu espacio, te voy a entender',\n",
       " 'Dices que te vas y me abandonas',\n",
       " 'Dices que te vas por el temor',\n",
       " 'Y tienes miedo a enamorarte',\n",
       " 'Porque puedo lastimarte',\n",
       " 'Pero esa no es mi intención',\n",
       " 'Yo no sé por qué sigues tan necio',\n",
       " 'Buscando robar mi corazón',\n",
       " 'Y aunque siempre ando en mi cama',\n",
       " 'Esperando tu llamada',\n",
       " 'Hoy me voy, es lo mejor',\n",
       " 'Dices que te vas, ooh, eh',\n",
       " 'Tú eres mi fuerza, mi esperanza, tú eres mi motor (mi motor)',\n",
       " 'Tú me inspiras a tener una vida mejor',\n",
       " 'Y todo el odio que yo tengo en mi corazón',\n",
       " 'Es solo el reflejo de mi dolor',\n",
       " 'El amor es un fantasma que nadie lo ve',\n",
       " 'Y sé que crees en nosotros, eso se llama fe',\n",
       " 'Aunque eso mismo me lo dijo el anterior',\n",
       " 'Y sé que tú sigues aquí, pero él se fue',\n",
       " 'Dices que te vas y me abandonas',\n",
       " 'Dices que te vas por el temor',\n",
       " 'Y tienes miedo a enamorarte',\n",
       " 'Porque puedo lastimarte',\n",
       " 'Pero esa no es mi intención',\n",
       " 'Yo no sé por qué sigues tan necio',\n",
       " 'Buscando robar mi corazón',\n",
       " 'Y aunque siempre ando en mi cama',\n",
       " 'Esperando tu llamada',\n",
       " 'Hoy me voy, es lo mejor',\n",
       " 'Dices que te vas, ooh, eh',\n",
       " 'La canción que me escribiste, ¿cómo olvido hoy?',\n",
       " 'Y en el carro, el primer beso fue tan mágico',\n",
       " 'Y aunque trato, no, no puedo dormir',\n",
       " 'Sin imaginar tenerte aquí en mi habitación',\n",
       " 'Estos días, a mi vida le diste color',\n",
       " 'Y he conocido de ti lo que tiene valor',\n",
       " 'Tú me gustas demasiado',\n",
       " 'Me da miedo enamorarme',\n",
       " 'Créeme, esto es lo mejor',\n",
       " 'Dices que te vas y me abandonas',\n",
       " 'Dices que te vas por el temor',\n",
       " 'Y tienes miedo a enamorarte',\n",
       " 'Porque puedo lastimarte',\n",
       " 'Pero esa no es mi intención',\n",
       " 'Yo no sé por qué sigues tan necio',\n",
       " 'Buscando robar mi corazón',\n",
       " 'Y aunque siempre ando en mi cama',\n",
       " 'Esperando tu llamada',\n",
       " '(Aunque no quiera, así es mejor)']"
      ]
     },
     "execution_count": 3,
     "metadata": {},
     "output_type": "execute_result"
    }
   ],
   "source": [
    "df.iloc[1,2]"
   ]
  },
  {
   "cell_type": "code",
   "execution_count": 21,
   "metadata": {},
   "outputs": [],
   "source": [
    "def flatten_list(l):\n",
    "    \"\"\"\n",
    "    Receive a list of lists and return a list with just one element.\n",
    "    \"\"\"\n",
    "    return sum(l, [])"
   ]
  },
  {
   "cell_type": "code",
   "execution_count": 29,
   "metadata": {},
   "outputs": [],
   "source": [
    "import nltk\n",
    "from nltk.corpus import stopwords \n",
    "from nltk.tokenize import word_tokenize \n",
    "  \n",
    "def remove_stopwords(l):\n",
    "    new_list = []\n",
    "    stop_words = set(stopwords.words('spanish')) \n",
    "    for sentence in l:\n",
    "        word_tokens = word_tokenize(sentence) \n",
    "        filtered_sentence = [w for w in word_tokens if not w in stop_words]\n",
    "        filtered_sentence = [word.lower() for word in filtered_sentence if word.isalpha()]\n",
    "        new_list.append(filtered_sentence)\n",
    "    return flatten_list(new_list)"
   ]
  },
  {
   "cell_type": "code",
   "execution_count": 30,
   "metadata": {},
   "outputs": [
    {
     "data": {
      "text/plain": [
       "[]"
      ]
     },
     "execution_count": 30,
     "metadata": {},
     "output_type": "execute_result"
    }
   ],
   "source": [
    "df['No_stopwords'] = df['Lyrics'].apply(remove_stopwords)\n",
    "df.iloc[1,3]"
   ]
  },
  {
   "cell_type": "code",
   "execution_count": 31,
   "metadata": {},
   "outputs": [],
   "source": [
    "from wordcloud import WordCloud #, STOPWORDS, ImageColorGenerator\n",
    "import matplotlib.pyplot as plt"
   ]
  },
  {
   "cell_type": "code",
   "execution_count": 32,
   "metadata": {},
   "outputs": [],
   "source": [
    "# Start with one review:\n",
    "def print_wordcloud(df):\n",
    "    text = \" \".join(df['No_stopwords'].sum()) # Concatena todos los versos de todas las canciones de la columna\n",
    "\n",
    "    # Create and generate a word cloud image:\n",
    "    wordcloud = WordCloud().generate(text)\n",
    "\n",
    "    # Display the generated image:\n",
    "    plt.imshow(wordcloud, interpolation='bilinear')\n",
    "    plt.axis(\"off\")\n",
    "    return plt.show()"
   ]
  },
  {
   "cell_type": "code",
   "execution_count": 33,
   "metadata": {},
   "outputs": [
    {
     "data": {
      "image/png": "[encoded data removed]",
      "text/plain": [
       "<Figure size 432x288 with 1 Axes>"
      ]
     },
     "metadata": {
      "needs_background": "light"
     },
     "output_type": "display_data"
    }
   ],
   "source": [
    "print_wordcloud(df)"
   ]
  },
  {
   "cell_type": "code",
   "execution_count": 28,
   "metadata": {},
   "outputs": [
    {
     "data": {
      "text/html": [
       "<div>\n",
       "<style scoped>\n",
       "    .dataframe tbody tr th:only-of-type {\n",
       "        vertical-align: middle;\n",
       "    }\n",
       "\n",
       "    .dataframe tbody tr th {\n",
       "        vertical-align: top;\n",
       "    }\n",
       "\n",
       "    .dataframe thead th {\n",
       "        text-align: right;\n",
       "    }\n",
       "</style>\n",
       "<table border=\"1\" class=\"dataframe\">\n",
       "  <thead>\n",
       "    <tr style=\"text-align: right;\">\n",
       "      <th></th>\n",
       "      <th>Artist</th>\n",
       "      <th>Title</th>\n",
       "      <th>Lyrics</th>\n",
       "      <th>Translation</th>\n",
       "      <th>Sentiment</th>\n",
       "      <th>No_stopwords</th>\n",
       "    </tr>\n",
       "  </thead>\n",
       "  <tbody>\n",
       "    <tr>\n",
       "      <th>0</th>\n",
       "      <td>Karol G</td>\n",
       "      <td>Ocean</td>\n",
       "      <td>[Si algún día te vas de casa (de casa), Yo te ...</td>\n",
       "      <td>[]</td>\n",
       "      <td>[]</td>\n",
       "      <td>si algún día vas casa casa yo llevo nasa yeh p...</td>\n",
       "    </tr>\n",
       "    <tr>\n",
       "      <th>1</th>\n",
       "      <td>Karol G</td>\n",
       "      <td>Dices Que Te Vas (part. Anuel AA)</td>\n",
       "      <td>[No sé, no-no sé, Yo me despierto y busco tus ...</td>\n",
       "      <td>[]</td>\n",
       "      <td>[]</td>\n",
       "      <td>no sé sé yo despierto busco mensajes y hablas ...</td>\n",
       "    </tr>\n",
       "    <tr>\n",
       "      <th>10</th>\n",
       "      <td>Karol G</td>\n",
       "      <td>Go Karo</td>\n",
       "      <td>[O-O-Ovy On The Drums, Go, Karo!, Enloqueció l...</td>\n",
       "      <td>[]</td>\n",
       "      <td>[]</td>\n",
       "      <td>on the drums go karo enloqueció gente club cua...</td>\n",
       "    </tr>\n",
       "    <tr>\n",
       "      <th>100</th>\n",
       "      <td>Daddy Yankee</td>\n",
       "      <td>Soltera (remix)</td>\n",
       "      <td>[[Bad Bunny y daddy yankee], Épico, Salte 'el ...</td>\n",
       "      <td>[]</td>\n",
       "      <td>[]</td>\n",
       "      <td>bad bunny daddy yankee épico salte medio eh su...</td>\n",
       "    </tr>\n",
       "    <tr>\n",
       "      <th>101</th>\n",
       "      <td>Daddy Yankee</td>\n",
       "      <td>Con Calma (remix) (part. Katy Perry y Snow)</td>\n",
       "      <td>[D-D-D-D-D-DY, ¡Ay, Daddy!, Play N' Skillz, Ka...</td>\n",
       "      <td>[]</td>\n",
       "      <td>[]</td>\n",
       "      <td>daddy play n skillz katy perry run llamas baby...</td>\n",
       "    </tr>\n",
       "  </tbody>\n",
       "</table>\n",
       "</div>"
      ],
      "text/plain": [
       "              Artist                                        Title  \\\n",
       "0           Karol G                                         Ocean   \n",
       "1           Karol G             Dices Que Te Vas (part. Anuel AA)   \n",
       "10          Karol G                                       Go Karo   \n",
       "100    Daddy Yankee                               Soltera (remix)   \n",
       "101    Daddy Yankee   Con Calma (remix) (part. Katy Perry y Snow)   \n",
       "\n",
       "                                                Lyrics Translation Sentiment  \\\n",
       "0    [Si algún día te vas de casa (de casa), Yo te ...          []        []   \n",
       "1    [No sé, no-no sé, Yo me despierto y busco tus ...          []        []   \n",
       "10   [O-O-Ovy On The Drums, Go, Karo!, Enloqueció l...          []        []   \n",
       "100  [[Bad Bunny y daddy yankee], Épico, Salte 'el ...          []        []   \n",
       "101  [D-D-D-D-D-DY, ¡Ay, Daddy!, Play N' Skillz, Ka...          []        []   \n",
       "\n",
       "                                          No_stopwords  \n",
       "0    si algún día vas casa casa yo llevo nasa yeh p...  \n",
       "1    no sé sé yo despierto busco mensajes y hablas ...  \n",
       "10   on the drums go karo enloqueció gente club cua...  \n",
       "100  bad bunny daddy yankee épico salte medio eh su...  \n",
       "101  daddy play n skillz katy perry run llamas baby...  "
      ]
     },
     "execution_count": 28,
     "metadata": {},
     "output_type": "execute_result"
    }
   ],
   "source": [
    "df.head()"
   ]
  },
  {
   "cell_type": "code",
   "execution_count": null,
   "metadata": {},
   "outputs": [],
   "source": []
  }
 ],
 "metadata": {
  "kernelspec": {
   "display_name": "Python 3",
   "language": "python",
   "name": "python3"
  },
  "language_info": {
   "codemirror_mode": {
    "name": "ipython",
    "version": 3
   },
   "file_extension": ".py",
   "mimetype": "text/x-python",
   "name": "python",
   "nbconvert_exporter": "python",
   "pygments_lexer": "ipython3",
   "version": "3.7.3"
  }
 },
 "nbformat": 4,
 "nbformat_minor": 2
}
