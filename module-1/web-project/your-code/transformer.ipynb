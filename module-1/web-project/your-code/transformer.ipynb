{
 "cells": [
  {
   "cell_type": "code",
   "execution_count": 1,
   "metadata": {},
   "outputs": [
    {
     "data": {
      "text/html": [
       "<div>\n",
       "<style scoped>\n",
       "    .dataframe tbody tr th:only-of-type {\n",
       "        vertical-align: middle;\n",
       "    }\n",
       "\n",
       "    .dataframe tbody tr th {\n",
       "        vertical-align: top;\n",
       "    }\n",
       "\n",
       "    .dataframe thead th {\n",
       "        text-align: right;\n",
       "    }\n",
       "</style>\n",
       "<table border=\"1\" class=\"dataframe\">\n",
       "  <thead>\n",
       "    <tr style=\"text-align: right;\">\n",
       "      <th></th>\n",
       "      <th>Artist</th>\n",
       "      <th>Title</th>\n",
       "      <th>Lyrics</th>\n",
       "    </tr>\n",
       "  </thead>\n",
       "  <tbody>\n",
       "    <tr>\n",
       "      <th>0</th>\n",
       "      <td>Karol G</td>\n",
       "      <td>Ocean</td>\n",
       "      <td>[Si algún día te vas de casa (de casa), Yo te ...</td>\n",
       "    </tr>\n",
       "    <tr>\n",
       "      <th>1</th>\n",
       "      <td>Karol G</td>\n",
       "      <td>Dices Que Te Vas (part. Anuel AA)</td>\n",
       "      <td>[No sé, no-no sé, Yo me despierto y busco tus ...</td>\n",
       "    </tr>\n",
       "    <tr>\n",
       "      <th>10</th>\n",
       "      <td>Karol G</td>\n",
       "      <td>Go Karo</td>\n",
       "      <td>[O-O-Ovy On The Drums, Go, Karo!, Enloqueció l...</td>\n",
       "    </tr>\n",
       "    <tr>\n",
       "      <th>100</th>\n",
       "      <td>Daddy Yankee</td>\n",
       "      <td>Soltera (remix)</td>\n",
       "      <td>[[Bad Bunny y daddy yankee], Épico, Salte 'el ...</td>\n",
       "    </tr>\n",
       "    <tr>\n",
       "      <th>101</th>\n",
       "      <td>Daddy Yankee</td>\n",
       "      <td>Con Calma (remix) (part. Katy Perry y Snow)</td>\n",
       "      <td>[D-D-D-D-D-DY, ¡Ay, Daddy!, Play N' Skillz, Ka...</td>\n",
       "    </tr>\n",
       "  </tbody>\n",
       "</table>\n",
       "</div>"
      ],
      "text/plain": [
       "              Artist                                        Title  \\\n",
       "0           Karol G                                         Ocean   \n",
       "1           Karol G             Dices Que Te Vas (part. Anuel AA)   \n",
       "10          Karol G                                       Go Karo   \n",
       "100    Daddy Yankee                               Soltera (remix)   \n",
       "101    Daddy Yankee   Con Calma (remix) (part. Katy Perry y Snow)   \n",
       "\n",
       "                                                Lyrics  \n",
       "0    [Si algún día te vas de casa (de casa), Yo te ...  \n",
       "1    [No sé, no-no sé, Yo me despierto y busco tus ...  \n",
       "10   [O-O-Ovy On The Drums, Go, Karo!, Enloqueció l...  \n",
       "100  [[Bad Bunny y daddy yankee], Épico, Salte 'el ...  \n",
       "101  [D-D-D-D-D-DY, ¡Ay, Daddy!, Play N' Skillz, Ka...  "
      ]
     },
     "execution_count": 1,
     "metadata": {},
     "output_type": "execute_result"
    }
   ],
   "source": [
    "# La importación la eliminaré cuando acabe el script de transformar.\n",
    "# La pongo para importar el df.\n",
    "import pandas as pd\n",
    "\n",
    "def extract(json_name):\n",
    "    df = pd.read_json(json_name, encoding = 'utf8')\n",
    "    return df\n",
    "\n",
    "df = extract(\"Reggaeton_lyrics.json\")\n",
    "df.head()"
   ]
  },
  {
   "cell_type": "code",
   "execution_count": null,
   "metadata": {},
   "outputs": [],
   "source": [
    "\"\"\"\n",
    "from textblob import TextBlob\n",
    "\n",
    "def analyze_spanish_sentiment(l):\n",
    "    song_translated = []\n",
    "    # noun_phrases = []\n",
    "    sentim = []\n",
    "    try:\n",
    "        for verse in l:\n",
    "            blob = TextBlob(verse)\n",
    "            verse_translated = blob.translate(to=\"en\")\n",
    "            song_translated.append(verse_translated)\n",
    "            # noun_phrases.append(verse_translated.noun_phrases) # No me convencen los resultados.\n",
    "            sentim.append(verse_translated.sentiment.polarity)\n",
    "    except:\n",
    "        pass\n",
    "    return song_translated, sentim\n",
    "\"\"\""
   ]
  },
  {
   "cell_type": "code",
   "execution_count": 48,
   "metadata": {},
   "outputs": [],
   "source": [
    "def translate_list(l):\n",
    "    list_translated = []\n",
    "    try:\n",
    "        for line in l:\n",
    "            blob = TextBlob(line)\n",
    "            line_translated = blob.translate(to=\"en\")\n",
    "            list_translated.append(line_translated)\n",
    "    except:\n",
    "        pass\n",
    "    return list_translated\n",
    "\n",
    "def analyze_sentiment(l):\n",
    "    sentim = []\n",
    "    try:\n",
    "        for line in l:\n",
    "            blob = TextBlob(line)\n",
    "            sentim.append(blob.sentiment.polarity)\n",
    "    except:\n",
    "        pass\n",
    "    return sentim"
   ]
  },
  {
   "cell_type": "code",
   "execution_count": null,
   "metadata": {},
   "outputs": [],
   "source": [
    "df['Translation'] = df['Lyrics'].apply(translate_list)\n",
    "df['Sentiment'] = df['Lyrics'].apply(analyze_sentiment)"
   ]
  },
  {
   "cell_type": "code",
   "execution_count": null,
   "metadata": {},
   "outputs": [],
   "source": [
    "df.head(20)"
   ]
  },
  {
   "cell_type": "code",
   "execution_count": null,
   "metadata": {},
   "outputs": [],
   "source": []
  }
 ],
 "metadata": {
  "kernelspec": {
   "display_name": "Python 3",
   "language": "python",
   "name": "python3"
  },
  "language_info": {
   "codemirror_mode": {
    "name": "ipython",
    "version": 3
   },
   "file_extension": ".py",
   "mimetype": "text/x-python",
   "name": "python",
   "nbconvert_exporter": "python",
   "pygments_lexer": "ipython3",
   "version": "3.7.3"
  }
 },
 "nbformat": 4,
 "nbformat_minor": 2
}
