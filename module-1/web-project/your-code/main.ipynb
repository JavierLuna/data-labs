{
 "cells": [
  {
   "cell_type": "code",
   "execution_count": null,
   "metadata": {},
   "outputs": [],
   "source": [
    "import scraper, extractor\n",
    "\n",
    "def scrape():\n",
    "    # %run -i 'scraper.py' # !python 'scraper.py'\n",
    "    pass\n",
    "\n",
    "def extract():\n",
    "    df = extractor.extract_json('Reggaeton_lyrics.json')\n",
    "    return df\n",
    "\n",
    "def wrangle(df):\n",
    "    import statistics\n",
    "    df['Translation'] = df['Lyrics'].apply(translate_list)\n",
    "    df['Sentiment'] = df['Lyrics'].apply(analyze_sentiment)\n",
    "    df['Sent_mean'] = df['Sentiment'].apply(statistics.mean)\n",
    "    df['No_stopwords'] = df['Lyrics'].apply(remove_stopwords)\n",
    "    return df\n",
    "\n",
    "def analyze(df):\n",
    "    pass\n",
    "\n",
    "def visualize_analysis(*args):\n",
    "    for arg in args:\n",
    "        print(arg)\n",
    "        print()\n",
    "\n",
    "def load(csv_name):\n",
    "    csv_name.to_csv(\"Reggaeton_lyrics.csv\")\n",
    "    \n",
    "\n",
    "\n",
    "def main():\n",
    "    #scrape() # No hace falta porque con el import scrape ya se ejecuta el archivo\n",
    "    df = extract()\n",
    "    transformed_df = wrangle(df)\n",
    "    load(transformed_df)\n",
    "    \n",
    "    \n",
    "if __name__ == \"__main__\":\n",
    "    main()"
   ]
  }
 ],
 "metadata": {
  "kernelspec": {
   "display_name": "Python 3",
   "language": "python",
   "name": "python3"
  },
  "language_info": {
   "codemirror_mode": {
    "name": "ipython",
    "version": 3
   },
   "file_extension": ".py",
   "mimetype": "text/x-python",
   "name": "python",
   "nbconvert_exporter": "python",
   "pygments_lexer": "ipython3",
   "version": "3.7.3"
  }
 },
 "nbformat": 4,
 "nbformat_minor": 2
}
