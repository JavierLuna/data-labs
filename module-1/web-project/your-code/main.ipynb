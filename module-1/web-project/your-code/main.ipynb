{
 "cells": [
  {
   "cell_type": "code",
   "execution_count": 1,
   "metadata": {},
   "outputs": [],
   "source": [
    "import nltk\n",
    "#nltk.download()"
   ]
  },
  {
   "cell_type": "code",
   "execution_count": 2,
   "metadata": {},
   "outputs": [],
   "source": [
    "import requests\n",
    "import pandas as pd\n",
    "import re, string, unicodedata\n",
    "from pprint import pprint\n",
    "from bs4 import BeautifulSoup\n",
    "from nltk import word_tokenize, sent_tokenize\n",
    "from nltk.corpus import stopwords\n",
    "from nltk.stem import LancasterStemmer, WordNetLemmatizer\n",
    "from nltk import FreqDist\n",
    "from textblob import TextBlob\n",
    "\n",
    "#import contractions\n",
    "#import inflect"
   ]
  },
  {
   "cell_type": "code",
   "execution_count": 3,
   "metadata": {},
   "outputs": [],
   "source": [
    "violence_words = set([\"asesinato\",\"asesino\",\"asesina\",\"matar\",\"mata\",\"mato\", \"apuñalar\",\"apuñalo\",\"pega\",\"pego\",\"apalizo\",\"golpea\",\"golpeo\",\"agredio\",\"agrede\"])"
   ]
  },
  {
   "cell_type": "code",
   "execution_count": 4,
   "metadata": {},
   "outputs": [
    {
     "name": "stdout",
     "output_type": "stream",
     "text": [
      "{'apuñalar', 'agrede', 'agredio', 'apalizo', 'asesina', 'pega', 'golpea', 'mato', 'apuñalo', 'asesinato', 'asesino', 'golpeo', 'mata', 'matar', 'pego'}\n"
     ]
    }
   ],
   "source": [
    "print(violence_words)"
   ]
  },
  {
   "cell_type": "code",
   "execution_count": 5,
   "metadata": {},
   "outputs": [],
   "source": [
    "stopWords = set(stopwords.words('spanish'))"
   ]
  },
  {
   "cell_type": "code",
   "execution_count": 6,
   "metadata": {
    "scrolled": true
   },
   "outputs": [
    {
     "name": "stdout",
     "output_type": "stream",
     "text": [
      "{'tengas', 'tendré', 'ya', 'los', 'algunos', 'nada', 'ellas', 'nos', 'fueron', 'habrían', 'fueras', 'estuviera', 'tendría', 'habíamos', 'hayas', 'el', 'seáis', 'estas', 'estuvieras', 'estábamos', 'tuvisteis', 'hubieron', 'hubiésemos', 'tuvieran', 'donde', 'tendríais', 'otro', 'las', 'soy', 'ha', 'sin', 'hemos', 'sus', 'un', 'había', 'suyo', 'fueseis', 'tuve', 'la', 'estuvieron', 'he', 'tiene', 'tuyas', 'uno', 'les', 'más', 'habréis', 'estaríamos', 'habías', 'vosostros', 'fuese', 'hasta', 'cual', 'sea', 'estaréis', 'estaría', 'míos', 'mío', 'sintiendo', 'éramos', 'contra', 'fuisteis', 'estoy', 'tendréis', 'tú', 'sentidos', 'has', 'tuvieras', 'tenemos', 'es', 'tengamos', 'tienes', 'estada', 'a', 'que', 'esas', 'sean', 'erais', 'fuesen', 'habrán', 'lo', 'en', 'antes', 'hubieran', 'estadas', 'tendríamos', 'hayan', 'sois', 'serás', 'tendrías', 'teníamos', 'nuestra', 'tuviese', 'tenían', 'habéis', 'tendrás', 'para', 'mía', 'habrás', 'fueran', 'estarías', 'haya', 'mucho', 'os', 'algo', 'estuve', 'tenidos', 'tuvieseis', 'tu', 'como', 'eso', 'estados', 'están', 'ni', 'estéis', 'seréis', 'estuvo', 'hayáis', 'sentido', 'ti', 'sí', 'estaré', 'hay', 'o', 'fuera', 'estuvieran', 'ante', 'al', 'tenéis', 'otra', 'fuimos', 'otros', 'estaban', 'hubierais', 'hubiese', 'tendrá', 'estuvisteis', 'ese', 'tuviste', 'estabais', 'hayamos', 'qué', 'habida', 'muchos', 'tenido', 'seríais', 'habiendo', 'estuviesen', 'estarás', 'hubieras', 'tened', 'estar', 'estés', 'porque', 'hubisteis', 'también', 'hubieseis', 'sentid', 'estamos', 'entre', 'hubiéramos', 'habían', 'todo', 'teníais', 'tuyo', 'estuviste', 'por', 'tuviésemos', 'tuvo', 'tengo', 'tus', 'hube', 'seremos', 'mí', 'fuéramos', 'sentida', 'me', 'está', 'tenida', 'una', 'estos', 'hubo', 'habrías', 'tienen', 'estuviese', 'esta', 'unos', 'ellos', 'suyas', 'esto', 'tuvierais', 'vuestro', 'e', 'mías', 'sobre', 'desde', 'era', 'habidas', 'tuyos', 'tuvieses', 'algunas', 'poco', 'estad', 'estuvierais', 'tuviéramos', 'fuésemos', 'vosostras', 'suyos', 'quienes', 'tenidas', 'durante', 'nuestros', 'con', 'sería', 'su', 'fui', 'eres', 'tuya', 'será', 'estaríais', 'habíais', 'vuestras', 'mis', 'tendrán', 'nuestras', 'esté', 'yo', 'fuerais', 'esa', 'vuestros', 'esos', 'estáis', 'tengan', 'estará', 'se', 'tuviesen', 'estaremos', 'somos', 'de', 'seré', 'estuvimos', 'habidos', 'seríamos', 'pero', 'tendremos', 'muy', 'estando', 'tuvimos', 'fueses', 'mi', 'fue', 'tenía', 'hubiera', 'habríamos', 'eran', 'estarían', 'eras', 'suya', 'estén', 'serías', 'serán', 'ella', 'tanto', 'habrá', 'y', 'este', 'tuviera', 'hubimos', 'habríais', 'quien', 'siente', 'tengáis', 'estarán', 'tenga', 'estado', 'son', 'han', 'estuviésemos', 'le', 'sentidas', 'tenías', 'nosotras', 'seamos', 'estabas', 'estuvieseis', 'hubieses', 'habido', 'teniendo', 'del', 'hubiesen', 'fuiste', 'nosotros', 'habría', 'serían', 'estuvieses', 'estemos', 'todos', 'tuvieron', 'otras', 'él', 'estuviéramos', 'hubiste', 'vuestra', 'cuando', 'te', 'tendrían', 'nuestro', 'estaba', 'seas', 'estás', 'no', 'habré', 'habremos'}\n"
     ]
    }
   ],
   "source": [
    "print(stopWords)"
   ]
  },
  {
   "cell_type": "code",
   "execution_count": 7,
   "metadata": {},
   "outputs": [],
   "source": [
    "MADRID_URL = \"https://www.madridiario.es/sucesos\""
   ]
  },
  {
   "cell_type": "code",
   "execution_count": 8,
   "metadata": {},
   "outputs": [],
   "source": [
    "def get_soup(url):\n",
    "    response = requests.get(url)\n",
    "    soup = BeautifulSoup(response.text, \"html.parser\") #parser para que no se queje\n",
    "    return soup\n",
    "\n",
    "soup = get_soup(MADRID_URL)"
   ]
  },
  {
   "cell_type": "code",
   "execution_count": 9,
   "metadata": {},
   "outputs": [],
   "source": [
    "def get_headers(soup):\n",
    "    lst = []\n",
    "    total_lst = []\n",
    "    \n",
    "    #esto el container de cada noticia\n",
    "    #headers_container = soup.find_all(\"div\",{'class': 'n1 fueraNoticia'})\n",
    "    \n",
    "    \n",
    "    #este código funciona pero sólo los headers\n",
    "    headers_container = soup.find_all(\"h2\", {'class': 'titulo'})\n",
    "    for index, header in enumerate(headers_container):\n",
    "        lst.append(header.text)\n",
    "    \n",
    "    return lst\n",
    "\n",
    "    \n",
    "    \"\"\"\n",
    "    headers_container = soup.find_all(\"meta\", {'itemprop': 'datePublished'})\n",
    "    lst = [item for index, item in enumerate(headers_container)]\n",
    "    lst = [item.text.replace('<meta content=\"','').replace('itemprop=\"datePublished\"/>','') for item in lst] \n",
    "        \n",
    "    return lst\n",
    "\n",
    "    \"\"\"\n",
    "    \n",
    "\n",
    "    #items = [lines.find('h3', {'class','title'}) for lines in headers_container]    \n",
    "\n",
    "    \"\"\"\n",
    " depth = line.find('td',{'class','tabev3' })    \n",
    "    \n",
    "    #es una prueba para buscar el título, la fecha, y un hueco para el boleano\n",
    "    for item in headers_container:\n",
    "        #lst.append(item.find(\"h2\", {'class': 'titulo'}))\n",
    "        lst.append(item.find(\"meta\", {'itemprop','datePublished'}))\n",
    "        lst.append([])\n",
    "        total_lst.append(lst)\n",
    "        return lst\n",
    "    \"\"\"\n",
    "    \n",
    "\n",
    "news_raw = get_headers(soup)\n"
   ]
  },
  {
   "cell_type": "code",
   "execution_count": 10,
   "metadata": {},
   "outputs": [
    {
     "name": "stdout",
     "output_type": "stream",
     "text": [
      "['una anciana, crítica al quedar atrapada en su coche accidentado',\n",
      " 'la auxiliar de enfermería de alcalá, culpable de uno de los asesinatos',\n",
      " 'desarticulada una organización de trata de transexuales',\n",
      " 'detenidos por acordar el asesinato de un hombre para vender sus órganos',\n",
      " 'libertad para el presunto pederasta que simulaba ser agente secreto',\n",
      " 'agrede a su pareja en hortaleza mordiéndole el labio']\n"
     ]
    }
   ],
   "source": [
    "# Get rid of lower-cases\n",
    "def tolower (work_list):\n",
    "    return [row.lower() for row in work_list]\n",
    "    \n",
    "news_raw = tolower(news_raw)\n",
    "pprint(news_raw[:6])"
   ]
  },
  {
   "cell_type": "code",
   "execution_count": 11,
   "metadata": {},
   "outputs": [
    {
     "name": "stdout",
     "output_type": "stream",
     "text": [
      "['una anciana, critica al quedar atrapada en su coche accidentado',\n",
      " 'la auxiliar de enfermeria de alcala, culpable de uno de los asesinatos',\n",
      " 'desarticulada una organizacion de trata de transexuales',\n",
      " 'detenidos por acordar el asesinato de un hombre para vender sus organos',\n",
      " 'libertad para el presunto pederasta que simulaba ser agente secreto',\n",
      " 'agrede a su pareja en hortaleza mordiendole el labio']\n"
     ]
    }
   ],
   "source": [
    "# Get rid of accents\n",
    "def clean_accent(work_list):\n",
    "    return [row.replace('á','a').replace('é','e').replace('í','i').replace('ó','o').replace('ú','u') for row in work_list]\n",
    "\n",
    "news_raw2 = clean_accent(news_raw)\n",
    "pprint(news_raw2[:6])"
   ]
  },
  {
   "cell_type": "code",
   "execution_count": 12,
   "metadata": {},
   "outputs": [
    {
     "name": "stdout",
     "output_type": "stream",
     "text": [
      "['una anciana critica al quedar atrapada en su coche accidentado',\n",
      " 'la auxiliar de enfermeria de alcala culpable de uno de los asesinatos',\n",
      " 'desarticulada una organizacion de trata de transexuales']\n"
     ]
    }
   ],
   "source": [
    "#Get rid of commas\n",
    "def clean_any_character(work_list, character):\n",
    "    return [row.replace(character,'') for row in work_list]\n",
    "\n",
    "news_raw3 = clean_any_character(news_raw2, ',')\n",
    "pprint(news_raw3[:3])"
   ]
  },
  {
   "cell_type": "code",
   "execution_count": 13,
   "metadata": {},
   "outputs": [
    {
     "name": "stdout",
     "output_type": "stream",
     "text": [
      "['una anciana critica al quedar atrapada en su coche accidentado',\n",
      " 'la auxiliar de enfermeria de alcala culpable de uno de los asesinatos',\n",
      " 'desarticulada una organizacion de trata de transexuales',\n",
      " 'detenidos por acordar el asesinato de un hombre para vender sus organos']\n"
     ]
    }
   ],
   "source": [
    "#Get rid of quotes\n",
    "def clean_any_character(work_list, character):\n",
    "    return [row.replace(character,'') for row in work_list]\n",
    "\n",
    "news_raw4 = clean_any_character(news_raw3, '\\\"')\n",
    "pprint(news_raw4[:4])"
   ]
  },
  {
   "cell_type": "code",
   "execution_count": 14,
   "metadata": {},
   "outputs": [
    {
     "name": "stdout",
     "output_type": "stream",
     "text": [
      "['una anciana critica al quedar atrapada en su coche accidentado',\n",
      " 'la auxiliar de enfermeria de alcala culpable de uno de los asesinatos',\n",
      " 'desarticulada una organizacion de trata de transexuales',\n",
      " 'detenidos por acordar el asesinato de un hombre para vender sus organos']\n"
     ]
    }
   ],
   "source": [
    "#Get rid of '\n",
    "def clean_any_character(work_list, character):\n",
    "    return [row.replace(character,'') for row in work_list]\n",
    "\n",
    "news_raw5 = clean_any_character(news_raw4, '\\'')\n",
    "pprint(news_raw5[:4])"
   ]
  },
  {
   "cell_type": "code",
   "execution_count": 15,
   "metadata": {},
   "outputs": [
    {
     "name": "stdout",
     "output_type": "stream",
     "text": [
      "['una anciana critica al quedar atrapada en su coche accidentado',\n",
      " 'la auxiliar de enfermeria de alcala culpable de uno de los asesinatos',\n",
      " 'desarticulada una organizacion de trata de transexuales',\n",
      " 'detenidos por acordar el asesinato de un hombre para vender sus organos']\n"
     ]
    }
   ],
   "source": [
    "#Get rid of '\n",
    "def clean_any_character(work_list, character):\n",
    "    return [row.replace(character,'') for row in work_list]\n",
    "\n",
    "news_raw6 = clean_any_character(news_raw5, ':')\n",
    "pprint(news_raw6[:4])"
   ]
  },
  {
   "cell_type": "code",
   "execution_count": 16,
   "metadata": {},
   "outputs": [
    {
     "name": "stdout",
     "output_type": "stream",
     "text": [
      "[['una', 'anciana', 'critica', 'al', 'quedar', 'atrapada', 'en', 'su', 'coche', 'accidentado'], ['la', 'auxiliar', 'de', 'enfermeria', 'de', 'alcala', 'culpable', 'de', 'uno', 'de', 'los', 'asesinatos'], ['desarticulada', 'una', 'organizacion', 'de', 'trata', 'de', 'transexuales'], ['detenidos', 'por', 'acordar', 'el', 'asesinato', 'de', 'un', 'hombre', 'para', 'vender', 'sus', 'organos'], ['libertad', 'para', 'el', 'presunto', 'pederasta', 'que', 'simulaba', 'ser', 'agente', 'secreto'], ['agrede', 'a', 'su', 'pareja', 'en', 'hortaleza', 'mordiendole', 'el', 'labio']]\n"
     ]
    }
   ],
   "source": [
    "# Get each word / Tokenizar\n",
    "def token(work_list):\n",
    "    return [nltk.word_tokenize(row) for row in work_list]\n",
    "\n",
    "token_news = token(news_raw6)\n",
    "print(token_news[:6])"
   ]
  },
  {
   "cell_type": "code",
   "execution_count": 17,
   "metadata": {},
   "outputs": [
    {
     "name": "stdout",
     "output_type": "stream",
     "text": [
      "[['anciana', 'critica', 'quedar', 'atrapada', 'su', 'coche', 'accidentado'],\n",
      " ['auxiliar', 'enfermeria', 'alcala', 'culpable', 'uno', 'los', 'asesinatos'],\n",
      " ['desarticulada', 'organizacion', 'trata', 'transexuales'],\n",
      " ['detenidos', 'acordar', 'asesinato', 'un', 'hombre', 'vender', 'organos'],\n",
      " ['libertad',\n",
      "  'el',\n",
      "  'presunto',\n",
      "  'pederasta',\n",
      "  'simulaba',\n",
      "  'ser',\n",
      "  'agente',\n",
      "  'secreto'],\n",
      " ['agrede', 'su', 'pareja', 'hortaleza', 'mordiendole', 'labio']]\n"
     ]
    }
   ],
   "source": [
    "def clean_stopwords(list_tokens, stp_words):\n",
    "    [row.remove(item) for row in list_tokens for item in row if item in stp_words]\n",
    "    return list_tokens\n",
    "    \n",
    "cleaned_data = clean_stopwords(token_news, stopWords)\n",
    "pprint(cleaned_data[:6])"
   ]
  },
  {
   "cell_type": "code",
   "execution_count": 28,
   "metadata": {},
   "outputs": [
    {
     "name": "stdout",
     "output_type": "stream",
     "text": [
      "1\n",
      "old lady criticizes getting caught her car accident\n",
      "Sentiment(polarity=0.1, subjectivity=0.2) \n",
      "\n",
      "1\n",
      "auxiliary nursing alcala guilty one the murders\n",
      "Sentiment(polarity=-0.5, subjectivity=1.0) \n",
      "\n",
      "1\n",
      "disjointed organization treats transsexuals\n",
      "Sentiment(polarity=0.0, subjectivity=0.0) \n",
      "\n",
      "1\n",
      "detainees accord murder a man sell organs\n",
      "Sentiment(polarity=0.0, subjectivity=0.0) \n",
      "\n",
      "1\n",
      "freedom the alleged pedophile pretended to be a secret agent\n",
      "Sentiment(polarity=-0.25, subjectivity=0.39999999999999997) \n",
      "\n",
      "1\n",
      "assaults her partner hortaleza biting her lip\n",
      "Sentiment(polarity=0.0, subjectivity=0.0) \n",
      "\n",
      "1\n",
      "king the burundanga arrested new\n",
      "Sentiment(polarity=0.13636363636363635, subjectivity=0.45454545454545453) \n",
      "\n",
      "1\n",
      "arrested pederasta pretended to be secret agent\n",
      "Sentiment(polarity=-0.4, subjectivity=0.7) \n",
      "\n",
      "1\n",
      "dies worker vallecas rush the elevator shaft\n",
      "Sentiment(polarity=0.0, subjectivity=0.0) \n",
      "\n",
      "1\n",
      "suffocated fire the palace chanting peak\n",
      "Sentiment(polarity=0.0, subjectivity=0.0) \n",
      "\n",
      "1\n",
      "burns shop nuts improved field\n",
      "Sentiment(polarity=0.0, subjectivity=0.0) \n",
      "\n",
      "1\n",
      "seriously injured falling over vallecas mechanical bull\n",
      "Sentiment(polarity=-0.3333333333333333, subjectivity=0.6666666666666666) \n",
      "\n",
      "1\n",
      "seriously injured biker while circulating the jarama circuit\n",
      "Sentiment(polarity=-0.3333333333333333, subjectivity=0.6666666666666666) \n",
      "\n",
      "1\n",
      "industrial ship razed a fire alcala henares\n",
      "Sentiment(polarity=0.0, subjectivity=0.0) \n",
      "\n",
      "1\n",
      "parachutist falls a roof the encounter veterans the base prince paracuellos\n",
      "Sentiment(polarity=-0.8, subjectivity=1.0) \n",
      "\n",
      "1\n",
      "accident a car a motorbike salutes a seriously injured parley\n",
      "Sentiment(polarity=-0.3333333333333333, subjectivity=0.6666666666666666) \n",
      "\n",
      "1\n",
      "man suffers several serious injuries his bike fall the road\n",
      "Sentiment(polarity=-0.3111111111111111, subjectivity=0.45555555555555555) \n",
      "\n",
      "1\n",
      "disjointed criminal group was engaged robbery cars its subsequent sale\n",
      "Sentiment(polarity=-0.2, subjectivity=0.30000000000000004) \n",
      "\n",
      "1\n",
      "seriously injured blind man deaf and hard hit a motorbike\n",
      "Sentiment(polarity=-0.375, subjectivity=0.625) \n",
      "\n",
      "1\n",
      "supreme sentence the herd revives debate the criminal code reform\n",
      "Sentiment(polarity=-0.4, subjectivity=0.55) \n",
      "\n"
     ]
    },
    {
     "data": {
      "text/plain": [
       "\"\\nnew2 = analysis.translate(to='spanish')\\nanalysis = TextBlob(str(new2))\\nprint(analysis.sentiment)\\nprint(analysis.tags)\\n#print(analysis.translate(to='spanish'))\\nprint(dir(analysis))\\n\""
      ]
     },
     "execution_count": 28,
     "metadata": {},
     "output_type": "execute_result"
    }
   ],
   "source": [
    "\n",
    "\n",
    "#new = new + \" enfado\"\n",
    "new = [' '.join(item) for item in cleaned_data]\n",
    "\n",
    "\n",
    "for item in new:\n",
    "    if TextBlob(item).detect_language() == 'es':\n",
    "        print(\"1\")\n",
    "        analysis = TextBlob(str(item))\n",
    "        item = analysis.translate(to='spanish')\n",
    "        print(item)\n",
    "    analysis = TextBlob(str(item))\n",
    "    print(analysis.sentiment,\"\\n\")\n",
    "\n",
    "\n",
    "\n",
    "\n",
    "\"\"\"\n",
    "new = ' '.join(cleaned_data[1])\n",
    "print(new)\n",
    "print(TextBlob(new).detect_language())\n",
    "analysis = TextBlob(str(new))\n",
    "print(analysis.sentiment,\"\\n\")\n",
    "\n",
    "\n",
    "new = ' '.join(cleaned_data[2])\n",
    "print(new)\n",
    "print(TextBlob(new).detect_language())\n",
    "analysis = TextBlob(str(new))\n",
    "print(analysis.sentiment,\"\\n\")\n",
    "\n",
    "\"\"\"\n",
    "\"\"\"\n",
    "new2 = analysis.translate(to='spanish')\n",
    "analysis = TextBlob(str(new2))\n",
    "print(analysis.sentiment)\n",
    "print(analysis.tags)\n",
    "#print(analysis.translate(to='spanish'))\n",
    "print(dir(analysis))\n",
    "\"\"\"\n"
   ]
  },
  {
   "cell_type": "code",
   "execution_count": null,
   "metadata": {},
   "outputs": [],
   "source": [
    "def new_item(list_tokens):\n",
    "    for index, row in enumerate(list_tokens):\n",
    "        list_tokens.insert(index+1, [])\n",
    "        list_tokens.insert(index+1, [])\n",
    "    return list_tokens\n",
    " \n",
    "print(new_item(cleaned_data))"
   ]
  },
  {
   "cell_type": "code",
   "execution_count": null,
   "metadata": {},
   "outputs": [],
   "source": [
    "def violence_at_row(list_tokens,set_list):\n",
    "    for row in list_tokens:\n",
    "        for word in row:\n",
    "            if word in violence_words:\n",
    "                "
   ]
  },
  {
   "cell_type": "code",
   "execution_count": null,
   "metadata": {},
   "outputs": [],
   "source": [
    "for word in cleaned_data:\n",
    "    if "
   ]
  },
  {
   "cell_type": "code",
   "execution_count": null,
   "metadata": {},
   "outputs": [],
   "source": []
  },
  {
   "cell_type": "code",
   "execution_count": null,
   "metadata": {},
   "outputs": [],
   "source": []
  },
  {
   "cell_type": "code",
   "execution_count": null,
   "metadata": {},
   "outputs": [],
   "source": []
  }
 ],
 "metadata": {
  "kernelspec": {
   "display_name": "Python 3",
   "language": "python",
   "name": "python3"
  },
  "language_info": {
   "codemirror_mode": {
    "name": "ipython",
    "version": 3
   },
   "file_extension": ".py",
   "mimetype": "text/x-python",
   "name": "python",
   "nbconvert_exporter": "python",
   "pygments_lexer": "ipython3",
   "version": "3.7.3"
  }
 },
 "nbformat": 4,
 "nbformat_minor": 2
}
