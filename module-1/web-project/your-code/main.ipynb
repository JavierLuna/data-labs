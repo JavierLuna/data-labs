{
 "cells": [
  {
   "cell_type": "code",
   "execution_count": 1,
   "metadata": {},
   "outputs": [],
   "source": [
    "from pprint import pprint\n",
    "import requests\n",
    "import nltk\n",
    "from bs4 import BeautifulSoup\n",
    "import pandas as pd"
   ]
  },
  {
   "cell_type": "code",
   "execution_count": 2,
   "metadata": {},
   "outputs": [],
   "source": [
    "MADRID_URL = \"https://www.madridiario.es/sucesos\""
   ]
  },
  {
   "cell_type": "code",
   "execution_count": 3,
   "metadata": {},
   "outputs": [],
   "source": [
    "def get_soup(url):\n",
    "    response = requests.get(url)\n",
    "    soup = BeautifulSoup(response.text, \"html.parser\") #parser para que no se queje\n",
    "    return soup"
   ]
  },
  {
   "cell_type": "code",
   "execution_count": 9,
   "metadata": {},
   "outputs": [],
   "source": [
    "def get_headers(soup):\n",
    "    news = []\n",
    "    headers_container = soup.find_all(\"h2\", {'class': 'titulo'})\n",
    "    for header in headers_container:\n",
    "        news.append(header.text)\n",
    "        \n",
    "    print(news)    \n",
    "    return pd.DataFrame(news)"
   ]
  },
  {
   "cell_type": "code",
   "execution_count": 16,
   "metadata": {},
   "outputs": [],
   "source": [
    "def clean_accent(newsdf):\n",
    "    return newsdf.replace('á','a').replace('é','e').replace('í','i').replace('ó','o').replace('ú','u')\n"
   ]
  },
  {
   "cell_type": "code",
   "execution_count": 19,
   "metadata": {},
   "outputs": [
    {
     "name": "stdout",
     "output_type": "stream",
     "text": [
      "['Un hombre sufre varios traumatismos graves al caer con su bicicleta en la carretera', 'Desarticulado un grupo criminal que se dedicaba al robo de coches para su posterior venta', 'Herido muy grave un hombre invidente y sordomudo atropellado por una moto', \"La sentencia del Supremo a 'La Manada' reaviva el debate sobre la reforma del Código Penal\", 'Localizado el argentino de 72 años desaparecido en Barajas', \"Más de 130 organizaciones feministas volverán a entonar el 'Yo sí te creo'\", 'La fiscal defiende que La Manada cometió una violación continuada', 'Inhabilitada una pediatra que vinculaba las vacunaciones con el autismo', 'El Supremo escucha los recursos contra la sentencia de La Manada', 'Un chico de 16 años acuchilla a su hermano y un amigo en San Blas', 'El PP cesa al director general de la Policía sin tener sustituto', 'Condenado a cuatro años el asesino de Olga Sangrador por abusos a otra menor en Madrid', 'Detenidos 15 estafadores que se hacían pasar por técnicos de gas y electricidad', 'Herido grave un conductor tras chocarse con un bús', 'Encontrado un cuerpo sin signos de violencia tras un incendio', 'La auxiliar acusada de asesinato: \"No les quitaría la vida\"', 'La Policía detiene a la vicepresidenta de Infancia Libre por retener a su hija', 'Una operación contra el yihadismo deja 10 arrestados', 'Graba a mujeres desnudas y abusa de otra', 'El niño ahogado en una piscina de Morata se encuentra estable dentro de la gravedad']\n"
     ]
    },
    {
     "data": {
      "text/html": [
       "<div>\n",
       "<style scoped>\n",
       "    .dataframe tbody tr th:only-of-type {\n",
       "        vertical-align: middle;\n",
       "    }\n",
       "\n",
       "    .dataframe tbody tr th {\n",
       "        vertical-align: top;\n",
       "    }\n",
       "\n",
       "    .dataframe thead th {\n",
       "        text-align: right;\n",
       "    }\n",
       "</style>\n",
       "<table border=\"1\" class=\"dataframe\">\n",
       "  <thead>\n",
       "    <tr style=\"text-align: right;\">\n",
       "      <th></th>\n",
       "      <th>0</th>\n",
       "    </tr>\n",
       "  </thead>\n",
       "  <tbody>\n",
       "    <tr>\n",
       "      <th>0</th>\n",
       "      <td>Un hombre sufre varios traumatismos graves al ...</td>\n",
       "    </tr>\n",
       "    <tr>\n",
       "      <th>1</th>\n",
       "      <td>Desarticulado un grupo criminal que se dedicab...</td>\n",
       "    </tr>\n",
       "    <tr>\n",
       "      <th>2</th>\n",
       "      <td>Herido muy grave un hombre invidente y sordomu...</td>\n",
       "    </tr>\n",
       "    <tr>\n",
       "      <th>3</th>\n",
       "      <td>La sentencia del Supremo a 'La Manada' reaviva...</td>\n",
       "    </tr>\n",
       "    <tr>\n",
       "      <th>4</th>\n",
       "      <td>Localizado el argentino de 72 años desaparecid...</td>\n",
       "    </tr>\n",
       "    <tr>\n",
       "      <th>5</th>\n",
       "      <td>Más de 130 organizaciones feministas volverán ...</td>\n",
       "    </tr>\n",
       "    <tr>\n",
       "      <th>6</th>\n",
       "      <td>La fiscal defiende que La Manada cometió una v...</td>\n",
       "    </tr>\n",
       "    <tr>\n",
       "      <th>7</th>\n",
       "      <td>Inhabilitada una pediatra que vinculaba las va...</td>\n",
       "    </tr>\n",
       "    <tr>\n",
       "      <th>8</th>\n",
       "      <td>El Supremo escucha los recursos contra la sent...</td>\n",
       "    </tr>\n",
       "    <tr>\n",
       "      <th>9</th>\n",
       "      <td>Un chico de 16 años acuchilla a su hermano y u...</td>\n",
       "    </tr>\n",
       "    <tr>\n",
       "      <th>10</th>\n",
       "      <td>El PP cesa al director general de la Policía s...</td>\n",
       "    </tr>\n",
       "    <tr>\n",
       "      <th>11</th>\n",
       "      <td>Condenado a cuatro años el asesino de Olga San...</td>\n",
       "    </tr>\n",
       "    <tr>\n",
       "      <th>12</th>\n",
       "      <td>Detenidos 15 estafadores que se hacían pasar p...</td>\n",
       "    </tr>\n",
       "    <tr>\n",
       "      <th>13</th>\n",
       "      <td>Herido grave un conductor tras chocarse con un...</td>\n",
       "    </tr>\n",
       "    <tr>\n",
       "      <th>14</th>\n",
       "      <td>Encontrado un cuerpo sin signos de violencia t...</td>\n",
       "    </tr>\n",
       "    <tr>\n",
       "      <th>15</th>\n",
       "      <td>La auxiliar acusada de asesinato: \"No les quit...</td>\n",
       "    </tr>\n",
       "    <tr>\n",
       "      <th>16</th>\n",
       "      <td>La Policía detiene a la vicepresidenta de Infa...</td>\n",
       "    </tr>\n",
       "    <tr>\n",
       "      <th>17</th>\n",
       "      <td>Una operación contra el yihadismo deja 10 arre...</td>\n",
       "    </tr>\n",
       "    <tr>\n",
       "      <th>18</th>\n",
       "      <td>Graba a mujeres desnudas y abusa de otra</td>\n",
       "    </tr>\n",
       "    <tr>\n",
       "      <th>19</th>\n",
       "      <td>El niño ahogado en una piscina de Morata se en...</td>\n",
       "    </tr>\n",
       "  </tbody>\n",
       "</table>\n",
       "</div>"
      ],
      "text/plain": [
       "                                                    0\n",
       "0   Un hombre sufre varios traumatismos graves al ...\n",
       "1   Desarticulado un grupo criminal que se dedicab...\n",
       "2   Herido muy grave un hombre invidente y sordomu...\n",
       "3   La sentencia del Supremo a 'La Manada' reaviva...\n",
       "4   Localizado el argentino de 72 años desaparecid...\n",
       "5   Más de 130 organizaciones feministas volverán ...\n",
       "6   La fiscal defiende que La Manada cometió una v...\n",
       "7   Inhabilitada una pediatra que vinculaba las va...\n",
       "8   El Supremo escucha los recursos contra la sent...\n",
       "9   Un chico de 16 años acuchilla a su hermano y u...\n",
       "10  El PP cesa al director general de la Policía s...\n",
       "11  Condenado a cuatro años el asesino de Olga San...\n",
       "12  Detenidos 15 estafadores que se hacían pasar p...\n",
       "13  Herido grave un conductor tras chocarse con un...\n",
       "14  Encontrado un cuerpo sin signos de violencia t...\n",
       "15  La auxiliar acusada de asesinato: \"No les quit...\n",
       "16  La Policía detiene a la vicepresidenta de Infa...\n",
       "17  Una operación contra el yihadismo deja 10 arre...\n",
       "18           Graba a mujeres desnudas y abusa de otra\n",
       "19  El niño ahogado en una piscina de Morata se en..."
      ]
     },
     "execution_count": 19,
     "metadata": {},
     "output_type": "execute_result"
    }
   ],
   "source": [
    "soup = get_soup(MADRID_URL)\n",
    "dfnews_raw = get_headers(soup) #return dataframe\n",
    "\n",
    "dfnews = clean_accent(dfnews_raw)\n",
    "dfnews.head(40)\n"
   ]
  },
  {
   "cell_type": "code",
   "execution_count": null,
   "metadata": {},
   "outputs": [],
   "source": []
  }
 ],
 "metadata": {
  "kernelspec": {
   "display_name": "Python 3",
   "language": "python",
   "name": "python3"
  },
  "language_info": {
   "codemirror_mode": {
    "name": "ipython",
    "version": 3
   },
   "file_extension": ".py",
   "mimetype": "text/x-python",
   "name": "python",
   "nbconvert_exporter": "python",
   "pygments_lexer": "ipython3",
   "version": "3.7.3"
  }
 },
 "nbformat": 4,
 "nbformat_minor": 2
}
