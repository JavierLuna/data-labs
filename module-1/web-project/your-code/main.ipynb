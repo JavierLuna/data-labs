{
 "cells": [
  {
   "cell_type": "code",
   "execution_count": 3,
   "metadata": {},
   "outputs": [],
   "source": [
    "import nltk\n",
    "#nltk.download()"
   ]
  },
  {
   "cell_type": "code",
   "execution_count": 4,
   "metadata": {},
   "outputs": [],
   "source": [
    "import requests\n",
    "import pandas as pd\n",
    "import re, string, unicodedata\n",
    "from pprint import pprint\n",
    "from bs4 import BeautifulSoup\n",
    "from nltk import word_tokenize, sent_tokenize\n",
    "from nltk.corpus import stopwords\n",
    "from nltk.stem import LancasterStemmer, WordNetLemmatizer\n",
    "from nltk import FreqDist\n",
    "from textblob import TextBlob\n",
    "\n",
    "#import contractions\n",
    "#import inflect"
   ]
  },
  {
   "cell_type": "code",
   "execution_count": 5,
   "metadata": {},
   "outputs": [],
   "source": [
    "violence_words = set([\"asesinato\", \"asesino\", \"asesina\", \"matar\", \"mata\", \"mato\", \"apuñalar\",\"apuñalo\",\"pega\",\"pego\",\"apalizo\",\"golpea\",\"golpeo\",\"agredio\",\"agrede\"])"
   ]
  },
  {
   "cell_type": "code",
   "execution_count": 6,
   "metadata": {},
   "outputs": [
    {
     "name": "stdout",
     "output_type": "stream",
     "text": [
      "{'asesinato', 'mato', 'apuñalar', 'agrede', 'asesino', 'apalizo', 'mata', 'agredio', 'pego', 'golpea', 'apuñalo', 'matar', 'pega', 'asesina', 'golpeo'}\n"
     ]
    }
   ],
   "source": [
    "print(violence_words)"
   ]
  },
  {
   "cell_type": "code",
   "execution_count": 7,
   "metadata": {},
   "outputs": [],
   "source": [
    "stopWords = set(stopwords.words('spanish'))"
   ]
  },
  {
   "cell_type": "code",
   "execution_count": 8,
   "metadata": {
    "scrolled": true
   },
   "outputs": [
    {
     "name": "stdout",
     "output_type": "stream",
     "text": [
      "{'sobre', 'tuvieses', 'vuestro', 'estuviéramos', 'tuyo', 'ellos', 'seamos', 'estuviesen', 'tú', 'me', 'eso', 'o', 'serán', 'se', 'hubierais', 'más', 'fuese', 'vuestras', 'tenida', 'sean', 'fuimos', 'hubieran', 'estadas', 'estarían', 'qué', 'era', 'tuvieran', 'vuestros', 'vosostros', 'eran', 'esta', 'un', 'otro', 'nuestros', 'estarás', 'contra', 'ellas', 'tenías', 'tenemos', 'e', 'tuviese', 'tuviéramos', 'son', 'tuvo', 'hubimos', 'cuando', 'tengas', 'cual', 'estéis', 'seré', 'habías', 'hubieseis', 'hubieras', 'sintiendo', 'estabais', 'hayáis', 'habíais', 'quien', 'habremos', 'mío', 'suya', 'estén', 'tenéis', 'fuesen', 'nos', 'en', 'he', 'hayas', 'tendrá', 'los', 'ante', 'hube', 'serás', 'fuiste', 'estado', 'seáis', 'fueran', 'tendrías', 'hubiera', 'estaban', 'habido', 'tendría', 'estuviese', 'entre', 'hayamos', 'estuvieses', 'ella', 'tuvieron', 'estaríamos', 'uno', 'estaremos', 'seas', 'habrás', 'mi', 'sentid', 'tendré', 'tuvimos', 'tuvieseis', 'poco', 'estamos', 'hay', 'la', 'estos', 'sea', 'tuyas', 'teniendo', 'estará', 'vuestra', 'tus', 'sentido', 'estados', 'algunas', 'erais', 'os', 'éramos', 'todo', 'hemos', 'habré', 'con', 'estaríais', 'tuviera', 'tengamos', 'nuestra', 'están', 'mías', 'te', 'ha', 'habrías', 'que', 'estábamos', 'estando', 'todos', 'estad', 'quienes', 'estuvimos', 'durante', 'esa', 'suyos', 'fuera', 'esos', 'nosotros', 'eres', 'estaba', 'hubiésemos', 'estaré', 'hubo', 'nuestras', 'tenidas', 'tanto', 'pero', 'tendréis', 'a', 'él', 'habían', 'tuvisteis', 'habríamos', 'siente', 'estada', 'estuvieran', 'estuvieras', 'vosostras', 'había', 'tuya', 'sentidos', 'hasta', 'fuerais', 'tengo', 'mucho', 'para', 'tendrán', 'tuve', 'suyas', 'sentida', 'estuviste', 'esto', 'sería', 'fueras', 'estas', 'seríamos', 'habrían', 'estuve', 'tenga', 'tuvierais', 'habiendo', 'habría', 'será', 'sí', 'estuviésemos', 'habida', 'seríais', 'el', 'estés', 'teníais', 'yo', 'es', 'míos', 'tuvieras', 'haya', 'hubiesen', 'estaría', 'estarán', 'seremos', 'tendrían', 'tu', 'nosotras', 'de', 'fuéramos', 'estuvo', 'mía', 'estarías', 'estuvierais', 'tienes', 'han', 'habéis', 'al', 'somos', 'habríais', 'tendríamos', 'hubisteis', 'tuviste', 'estáis', 'antes', 'habrá', 'estuvieseis', 'habidos', 'tendríais', 'lo', 'estuviera', 'unos', 'estabas', 'estuvisteis', 'también', 'muy', 'hayan', 'tenido', 'seréis', 'estuvieron', 'esté', 'tendremos', 'habíamos', 'teníamos', 'habrán', 'sin', 'tiene', 'suyo', 'sois', 'eras', 'estás', 'muchos', 'sus', 'ni', 'donde', 'algo', 'algunos', 'serían', 'fuésemos', 'fue', 'ya', 'tienen', 'estoy', 'tuviesen', 'las', 'tuyos', 'tenía', 'ese', 'estar', 'soy', 'estemos', 'este', 'fui', 'desde', 'estaréis', 'tenían', 'fueses', 'tendrás', 'tenidos', 'otras', 'hubieron', 'fuisteis', 'habidas', 'una', 'has', 'y', 'nada', 'sentidas', 'habréis', 'mis', 'fueron', 'está', 'su', 'por', 'le', 'tengáis', 'otros', 'tened', 'no', 'tengan', 'nuestro', 'ti', 'fueseis', 'otra', 'tuviésemos', 'hubiese', 'hubiéramos', 'hubieses', 'les', 'como', 'porque', 'esas', 'serías', 'del', 'hubiste', 'mí'}\n"
     ]
    }
   ],
   "source": [
    "print(stopWords)"
   ]
  },
  {
   "cell_type": "code",
   "execution_count": 9,
   "metadata": {},
   "outputs": [],
   "source": [
    "MADRID_URL = \"https://www.madridiario.es/sucesos\""
   ]
  },
  {
   "cell_type": "code",
   "execution_count": 10,
   "metadata": {},
   "outputs": [],
   "source": [
    "def get_soup(url):\n",
    "    response = requests.get(url)\n",
    "    soup = BeautifulSoup(response.text, \"html.parser\") #parser para que no se queje\n",
    "    return soup\n",
    "\n",
    "soup = get_soup(MADRID_URL)"
   ]
  },
  {
   "cell_type": "code",
   "execution_count": 80,
   "metadata": {},
   "outputs": [
    {
     "data": {
      "text/html": [
       "<div>\n",
       "<style scoped>\n",
       "    .dataframe tbody tr th:only-of-type {\n",
       "        vertical-align: middle;\n",
       "    }\n",
       "\n",
       "    .dataframe tbody tr th {\n",
       "        vertical-align: top;\n",
       "    }\n",
       "\n",
       "    .dataframe thead th {\n",
       "        text-align: right;\n",
       "    }\n",
       "</style>\n",
       "<table border=\"1\" class=\"dataframe\">\n",
       "  <thead>\n",
       "    <tr style=\"text-align: right;\">\n",
       "      <th></th>\n",
       "      <th>HEADERS</th>\n",
       "      <th>DATE_PUBLISHED</th>\n",
       "    </tr>\n",
       "  </thead>\n",
       "  <tbody>\n",
       "    <tr>\n",
       "      <th>0</th>\n",
       "      <td>Un niño de 8 años, grave tras un ahogamiento e...</td>\n",
       "      <td>2019-06-26</td>\n",
       "    </tr>\n",
       "    <tr>\n",
       "      <th>1</th>\n",
       "      <td>Una anciana, crítica al quedar atrapada en su ...</td>\n",
       "      <td>2019-06-26</td>\n",
       "    </tr>\n",
       "    <tr>\n",
       "      <th>2</th>\n",
       "      <td>La auxiliar de enfermería de Alcalá, culpable ...</td>\n",
       "      <td>2019-06-26</td>\n",
       "    </tr>\n",
       "    <tr>\n",
       "      <th>3</th>\n",
       "      <td>Desarticulada una organización de trata de tra...</td>\n",
       "      <td>2019-06-26</td>\n",
       "    </tr>\n",
       "    <tr>\n",
       "      <th>4</th>\n",
       "      <td>Detenidos por acordar el asesinato de un hombr...</td>\n",
       "      <td>2019-06-26</td>\n",
       "    </tr>\n",
       "    <tr>\n",
       "      <th>5</th>\n",
       "      <td>Libertad para el presunto pederasta que simula...</td>\n",
       "      <td>2019-06-26</td>\n",
       "    </tr>\n",
       "    <tr>\n",
       "      <th>6</th>\n",
       "      <td>Agrede a su pareja en Hortaleza mordiéndole el...</td>\n",
       "      <td>2019-06-25</td>\n",
       "    </tr>\n",
       "    <tr>\n",
       "      <th>7</th>\n",
       "      <td>El 'rey de la burundanga', arrestado de nuevo</td>\n",
       "      <td>2019-06-25</td>\n",
       "    </tr>\n",
       "    <tr>\n",
       "      <th>8</th>\n",
       "      <td>Detenido un pederasta que fingía ser agente se...</td>\n",
       "      <td>2019-06-25</td>\n",
       "    </tr>\n",
       "    <tr>\n",
       "      <th>9</th>\n",
       "      <td>Fallece un obrero en Vallecas al precipitarse ...</td>\n",
       "      <td>2019-06-24</td>\n",
       "    </tr>\n",
       "    <tr>\n",
       "      <th>10</th>\n",
       "      <td>Sofocado un incendio en el Palacio del Canto d...</td>\n",
       "      <td>2019-06-24</td>\n",
       "    </tr>\n",
       "    <tr>\n",
       "      <th>11</th>\n",
       "      <td>Arde una tienda de frutos secos en Mejorada de...</td>\n",
       "      <td>2019-06-24</td>\n",
       "    </tr>\n",
       "    <tr>\n",
       "      <th>12</th>\n",
       "      <td>Herido grave al caerle encima un toro mecánico...</td>\n",
       "      <td>2019-06-24</td>\n",
       "    </tr>\n",
       "    <tr>\n",
       "      <th>13</th>\n",
       "      <td>Un motorista, herido grave mientras circulaba ...</td>\n",
       "      <td>2019-06-23</td>\n",
       "    </tr>\n",
       "    <tr>\n",
       "      <th>14</th>\n",
       "      <td>Una nave industrial, arrasada por un incendio ...</td>\n",
       "      <td>2019-06-23</td>\n",
       "    </tr>\n",
       "    <tr>\n",
       "      <th>15</th>\n",
       "      <td>Un paracaidista cae a un tejado en el encuentr...</td>\n",
       "      <td>2019-06-22</td>\n",
       "    </tr>\n",
       "    <tr>\n",
       "      <th>16</th>\n",
       "      <td>Un accidente entre un coche y una moto se sald...</td>\n",
       "      <td>2019-06-22</td>\n",
       "    </tr>\n",
       "    <tr>\n",
       "      <th>17</th>\n",
       "      <td>Un hombre sufre varios traumatismos graves al ...</td>\n",
       "      <td>2019-06-22</td>\n",
       "    </tr>\n",
       "    <tr>\n",
       "      <th>18</th>\n",
       "      <td>Desarticulado un grupo criminal que se dedicab...</td>\n",
       "      <td>2019-06-22</td>\n",
       "    </tr>\n",
       "    <tr>\n",
       "      <th>19</th>\n",
       "      <td>Herido muy grave un hombre invidente y sordomu...</td>\n",
       "      <td>2019-06-22</td>\n",
       "    </tr>\n",
       "  </tbody>\n",
       "</table>\n",
       "</div>"
      ],
      "text/plain": [
       "                                              HEADERS DATE_PUBLISHED\n",
       "0   Un niño de 8 años, grave tras un ahogamiento e...     2019-06-26\n",
       "1   Una anciana, crítica al quedar atrapada en su ...     2019-06-26\n",
       "2   La auxiliar de enfermería de Alcalá, culpable ...     2019-06-26\n",
       "3   Desarticulada una organización de trata de tra...     2019-06-26\n",
       "4   Detenidos por acordar el asesinato de un hombr...     2019-06-26\n",
       "5   Libertad para el presunto pederasta que simula...     2019-06-26\n",
       "6   Agrede a su pareja en Hortaleza mordiéndole el...     2019-06-25\n",
       "7       El 'rey de la burundanga', arrestado de nuevo     2019-06-25\n",
       "8   Detenido un pederasta que fingía ser agente se...     2019-06-25\n",
       "9   Fallece un obrero en Vallecas al precipitarse ...     2019-06-24\n",
       "10  Sofocado un incendio en el Palacio del Canto d...     2019-06-24\n",
       "11  Arde una tienda de frutos secos en Mejorada de...     2019-06-24\n",
       "12  Herido grave al caerle encima un toro mecánico...     2019-06-24\n",
       "13  Un motorista, herido grave mientras circulaba ...     2019-06-23\n",
       "14  Una nave industrial, arrasada por un incendio ...     2019-06-23\n",
       "15  Un paracaidista cae a un tejado en el encuentr...     2019-06-22\n",
       "16  Un accidente entre un coche y una moto se sald...     2019-06-22\n",
       "17  Un hombre sufre varios traumatismos graves al ...     2019-06-22\n",
       "18  Desarticulado un grupo criminal que se dedicab...     2019-06-22\n",
       "19  Herido muy grave un hombre invidente y sordomu...     2019-06-22"
      ]
     },
     "execution_count": 80,
     "metadata": {},
     "output_type": "execute_result"
    }
   ],
   "source": [
    "def get_headers(soup):\n",
    "    headers = []\n",
    "    date = []\n",
    "    violence = []\n",
    "    \n",
    "    #esto el container de cada noticia\n",
    "    container = soup.find_all('div',{'class','n1 fueraNoticia'})\n",
    "    for item in container:\n",
    "        headers.append(item.find('h2',{'class','titulo'}).text)\n",
    "    for item in container:\n",
    "        date.append(item.find('meta',itemprop='datePublished').get('content')[:10])\n",
    "    \n",
    "    \n",
    "    if len(headers) == len(date):\n",
    "        return pd.DataFrame({\"HEADERS\": headers, \"DATE_PUBLISHED\": date})\n",
    "    else:\n",
    "        return -1\n",
    "    \"\"\"\n",
    "        #lst.append(header.text)\n",
    "        date.append(item.find('meta',itemprop='datePublished').get('content')[:10]) \n",
    "        print(date)   \n",
    "        #lst.append(date[:10])\n",
    "        lst.append(False)\n",
    "        #total_lst.append(lst)\n",
    "    \n",
    "    \"\"\"\n",
    "        \n",
    "news_raw = get_headers(soup)\n",
    "news_raw.head(20)"
   ]
  },
  {
   "cell_type": "code",
   "execution_count": 59,
   "metadata": {},
   "outputs": [
    {
     "ename": "AttributeError",
     "evalue": "'int' object has no attribute 'lower'",
     "output_type": "error",
     "traceback": [
      "\u001b[0;31m---------------------------------------------------------------------------\u001b[0m",
      "\u001b[0;31mAttributeError\u001b[0m                            Traceback (most recent call last)",
      "\u001b[0;32m<ipython-input-59-aaba886c33aa>\u001b[0m in \u001b[0;36m<module>\u001b[0;34m\u001b[0m\n\u001b[1;32m      3\u001b[0m     \u001b[0;32mreturn\u001b[0m \u001b[0;34m[\u001b[0m\u001b[0mrow\u001b[0m\u001b[0;34m.\u001b[0m\u001b[0mlower\u001b[0m\u001b[0;34m(\u001b[0m\u001b[0;34m)\u001b[0m \u001b[0;32mfor\u001b[0m \u001b[0mrow\u001b[0m \u001b[0;32min\u001b[0m \u001b[0mwork_list\u001b[0m\u001b[0;34m]\u001b[0m\u001b[0;34m\u001b[0m\u001b[0;34m\u001b[0m\u001b[0m\n\u001b[1;32m      4\u001b[0m \u001b[0;34m\u001b[0m\u001b[0m\n\u001b[0;32m----> 5\u001b[0;31m \u001b[0mnews_raw\u001b[0m \u001b[0;34m=\u001b[0m \u001b[0mtolower\u001b[0m\u001b[0;34m(\u001b[0m\u001b[0mnews_raw\u001b[0m\u001b[0;34m)\u001b[0m\u001b[0;34m\u001b[0m\u001b[0;34m\u001b[0m\u001b[0m\n\u001b[0m\u001b[1;32m      6\u001b[0m \u001b[0mpprint\u001b[0m\u001b[0;34m(\u001b[0m\u001b[0mnews_raw\u001b[0m\u001b[0;34m[\u001b[0m\u001b[0;34m:\u001b[0m\u001b[0;36m6\u001b[0m\u001b[0;34m]\u001b[0m\u001b[0;34m)\u001b[0m\u001b[0;34m\u001b[0m\u001b[0;34m\u001b[0m\u001b[0m\n",
      "\u001b[0;32m<ipython-input-59-aaba886c33aa>\u001b[0m in \u001b[0;36mtolower\u001b[0;34m(work_list)\u001b[0m\n\u001b[1;32m      1\u001b[0m \u001b[0;31m# Get rid of lower-cases\u001b[0m\u001b[0;34m\u001b[0m\u001b[0;34m\u001b[0m\u001b[0;34m\u001b[0m\u001b[0m\n\u001b[1;32m      2\u001b[0m \u001b[0;32mdef\u001b[0m \u001b[0mtolower\u001b[0m \u001b[0;34m(\u001b[0m\u001b[0mwork_list\u001b[0m\u001b[0;34m)\u001b[0m\u001b[0;34m:\u001b[0m\u001b[0;34m\u001b[0m\u001b[0;34m\u001b[0m\u001b[0m\n\u001b[0;32m----> 3\u001b[0;31m     \u001b[0;32mreturn\u001b[0m \u001b[0;34m[\u001b[0m\u001b[0mrow\u001b[0m\u001b[0;34m.\u001b[0m\u001b[0mlower\u001b[0m\u001b[0;34m(\u001b[0m\u001b[0;34m)\u001b[0m \u001b[0;32mfor\u001b[0m \u001b[0mrow\u001b[0m \u001b[0;32min\u001b[0m \u001b[0mwork_list\u001b[0m\u001b[0;34m]\u001b[0m\u001b[0;34m\u001b[0m\u001b[0;34m\u001b[0m\u001b[0m\n\u001b[0m\u001b[1;32m      4\u001b[0m \u001b[0;34m\u001b[0m\u001b[0m\n\u001b[1;32m      5\u001b[0m \u001b[0mnews_raw\u001b[0m \u001b[0;34m=\u001b[0m \u001b[0mtolower\u001b[0m\u001b[0;34m(\u001b[0m\u001b[0mnews_raw\u001b[0m\u001b[0;34m)\u001b[0m\u001b[0;34m\u001b[0m\u001b[0;34m\u001b[0m\u001b[0m\n",
      "\u001b[0;32m<ipython-input-59-aaba886c33aa>\u001b[0m in \u001b[0;36m<listcomp>\u001b[0;34m(.0)\u001b[0m\n\u001b[1;32m      1\u001b[0m \u001b[0;31m# Get rid of lower-cases\u001b[0m\u001b[0;34m\u001b[0m\u001b[0;34m\u001b[0m\u001b[0;34m\u001b[0m\u001b[0m\n\u001b[1;32m      2\u001b[0m \u001b[0;32mdef\u001b[0m \u001b[0mtolower\u001b[0m \u001b[0;34m(\u001b[0m\u001b[0mwork_list\u001b[0m\u001b[0;34m)\u001b[0m\u001b[0;34m:\u001b[0m\u001b[0;34m\u001b[0m\u001b[0;34m\u001b[0m\u001b[0m\n\u001b[0;32m----> 3\u001b[0;31m     \u001b[0;32mreturn\u001b[0m \u001b[0;34m[\u001b[0m\u001b[0mrow\u001b[0m\u001b[0;34m.\u001b[0m\u001b[0mlower\u001b[0m\u001b[0;34m(\u001b[0m\u001b[0;34m)\u001b[0m \u001b[0;32mfor\u001b[0m \u001b[0mrow\u001b[0m \u001b[0;32min\u001b[0m \u001b[0mwork_list\u001b[0m\u001b[0;34m]\u001b[0m\u001b[0;34m\u001b[0m\u001b[0;34m\u001b[0m\u001b[0m\n\u001b[0m\u001b[1;32m      4\u001b[0m \u001b[0;34m\u001b[0m\u001b[0m\n\u001b[1;32m      5\u001b[0m \u001b[0mnews_raw\u001b[0m \u001b[0;34m=\u001b[0m \u001b[0mtolower\u001b[0m\u001b[0;34m(\u001b[0m\u001b[0mnews_raw\u001b[0m\u001b[0;34m)\u001b[0m\u001b[0;34m\u001b[0m\u001b[0;34m\u001b[0m\u001b[0m\n",
      "\u001b[0;31mAttributeError\u001b[0m: 'int' object has no attribute 'lower'"
     ]
    }
   ],
   "source": [
    "# Get rid of lower-cases\n",
    "def tolower (work_list):\n",
    "    return [row.lower() for row in work_list]\n",
    "    \n",
    "news_raw = tolower(news_raw)\n",
    "pprint(news_raw[:6])"
   ]
  },
  {
   "cell_type": "code",
   "execution_count": 11,
   "metadata": {},
   "outputs": [
    {
     "name": "stdout",
     "output_type": "stream",
     "text": [
      "['una anciana, critica al quedar atrapada en su coche accidentado',\n",
      " 'la auxiliar de enfermeria de alcala, culpable de uno de los asesinatos',\n",
      " 'desarticulada una organizacion de trata de transexuales',\n",
      " 'detenidos por acordar el asesinato de un hombre para vender sus organos',\n",
      " 'libertad para el presunto pederasta que simulaba ser agente secreto',\n",
      " 'agrede a su pareja en hortaleza mordiendole el labio']\n"
     ]
    }
   ],
   "source": [
    "# Get rid of accents\n",
    "def clean_accent(work_list):\n",
    "    return [row.replace('á','a').replace('é','e').replace('í','i').replace('ó','o').replace('ú','u') for row in work_list]\n",
    "\n",
    "news_raw2 = clean_accent(news_raw)\n",
    "pprint(news_raw2[:6])"
   ]
  },
  {
   "cell_type": "code",
   "execution_count": 12,
   "metadata": {},
   "outputs": [
    {
     "name": "stdout",
     "output_type": "stream",
     "text": [
      "['una anciana critica al quedar atrapada en su coche accidentado',\n",
      " 'la auxiliar de enfermeria de alcala culpable de uno de los asesinatos',\n",
      " 'desarticulada una organizacion de trata de transexuales']\n"
     ]
    }
   ],
   "source": [
    "#Get rid of commas\n",
    "def clean_any_character(work_list, character):\n",
    "    return [row.replace(character,'') for row in work_list]\n",
    "\n",
    "news_raw3 = clean_any_character(news_raw2, ',')\n",
    "pprint(news_raw3[:3])"
   ]
  },
  {
   "cell_type": "code",
   "execution_count": 13,
   "metadata": {},
   "outputs": [
    {
     "name": "stdout",
     "output_type": "stream",
     "text": [
      "['una anciana critica al quedar atrapada en su coche accidentado',\n",
      " 'la auxiliar de enfermeria de alcala culpable de uno de los asesinatos',\n",
      " 'desarticulada una organizacion de trata de transexuales',\n",
      " 'detenidos por acordar el asesinato de un hombre para vender sus organos']\n"
     ]
    }
   ],
   "source": [
    "#Get rid of quotes\n",
    "def clean_any_character(work_list, character):\n",
    "    return [row.replace(character,'') for row in work_list]\n",
    "\n",
    "news_raw4 = clean_any_character(news_raw3, '\\\"')\n",
    "pprint(news_raw4[:4])"
   ]
  },
  {
   "cell_type": "code",
   "execution_count": 14,
   "metadata": {},
   "outputs": [
    {
     "name": "stdout",
     "output_type": "stream",
     "text": [
      "['una anciana critica al quedar atrapada en su coche accidentado',\n",
      " 'la auxiliar de enfermeria de alcala culpable de uno de los asesinatos',\n",
      " 'desarticulada una organizacion de trata de transexuales',\n",
      " 'detenidos por acordar el asesinato de un hombre para vender sus organos']\n"
     ]
    }
   ],
   "source": [
    "#Get rid of '\n",
    "def clean_any_character(work_list, character):\n",
    "    return [row.replace(character,'') for row in work_list]\n",
    "\n",
    "news_raw5 = clean_any_character(news_raw4, '\\'')\n",
    "pprint(news_raw5[:4])"
   ]
  },
  {
   "cell_type": "code",
   "execution_count": 15,
   "metadata": {},
   "outputs": [
    {
     "name": "stdout",
     "output_type": "stream",
     "text": [
      "['una anciana critica al quedar atrapada en su coche accidentado',\n",
      " 'la auxiliar de enfermeria de alcala culpable de uno de los asesinatos',\n",
      " 'desarticulada una organizacion de trata de transexuales',\n",
      " 'detenidos por acordar el asesinato de un hombre para vender sus organos']\n"
     ]
    }
   ],
   "source": [
    "#Get rid of '\n",
    "def clean_any_character(work_list, character):\n",
    "    return [row.replace(character,'') for row in work_list]\n",
    "\n",
    "news_raw6 = clean_any_character(news_raw5, ':')\n",
    "pprint(news_raw6[:4])"
   ]
  },
  {
   "cell_type": "code",
   "execution_count": 16,
   "metadata": {},
   "outputs": [
    {
     "name": "stdout",
     "output_type": "stream",
     "text": [
      "[['una', 'anciana', 'critica', 'al', 'quedar', 'atrapada', 'en', 'su', 'coche', 'accidentado'], ['la', 'auxiliar', 'de', 'enfermeria', 'de', 'alcala', 'culpable', 'de', 'uno', 'de', 'los', 'asesinatos'], ['desarticulada', 'una', 'organizacion', 'de', 'trata', 'de', 'transexuales'], ['detenidos', 'por', 'acordar', 'el', 'asesinato', 'de', 'un', 'hombre', 'para', 'vender', 'sus', 'organos'], ['libertad', 'para', 'el', 'presunto', 'pederasta', 'que', 'simulaba', 'ser', 'agente', 'secreto'], ['agrede', 'a', 'su', 'pareja', 'en', 'hortaleza', 'mordiendole', 'el', 'labio']]\n"
     ]
    }
   ],
   "source": [
    "# Get each word / Tokenizar\n",
    "def token(work_list):\n",
    "    return [nltk.word_tokenize(row) for row in work_list]\n",
    "\n",
    "token_news = token(news_raw6)\n",
    "print(token_news[:6])"
   ]
  },
  {
   "cell_type": "code",
   "execution_count": 17,
   "metadata": {},
   "outputs": [
    {
     "name": "stdout",
     "output_type": "stream",
     "text": [
      "[['anciana', 'critica', 'quedar', 'atrapada', 'su', 'coche', 'accidentado'],\n",
      " ['auxiliar', 'enfermeria', 'alcala', 'culpable', 'uno', 'los', 'asesinatos'],\n",
      " ['desarticulada', 'organizacion', 'trata', 'transexuales'],\n",
      " ['detenidos', 'acordar', 'asesinato', 'un', 'hombre', 'vender', 'organos'],\n",
      " ['libertad',\n",
      "  'el',\n",
      "  'presunto',\n",
      "  'pederasta',\n",
      "  'simulaba',\n",
      "  'ser',\n",
      "  'agente',\n",
      "  'secreto'],\n",
      " ['agrede', 'su', 'pareja', 'hortaleza', 'mordiendole', 'labio']]\n"
     ]
    }
   ],
   "source": [
    "def clean_stopwords(list_tokens, stp_words):\n",
    "    [row.remove(item) for row in list_tokens for item in row if item in stp_words]\n",
    "    return list_tokens\n",
    "    \n",
    "cleaned_data = clean_stopwords(token_news, stopWords)\n",
    "pprint(cleaned_data[:6])"
   ]
  },
  {
   "cell_type": "code",
   "execution_count": 28,
   "metadata": {},
   "outputs": [
    {
     "name": "stdout",
     "output_type": "stream",
     "text": [
      "1\n",
      "old lady criticizes getting caught her car accident\n",
      "Sentiment(polarity=0.1, subjectivity=0.2) \n",
      "\n",
      "1\n",
      "auxiliary nursing alcala guilty one the murders\n",
      "Sentiment(polarity=-0.5, subjectivity=1.0) \n",
      "\n",
      "1\n",
      "disjointed organization treats transsexuals\n",
      "Sentiment(polarity=0.0, subjectivity=0.0) \n",
      "\n",
      "1\n",
      "detainees accord murder a man sell organs\n",
      "Sentiment(polarity=0.0, subjectivity=0.0) \n",
      "\n",
      "1\n",
      "freedom the alleged pedophile pretended to be a secret agent\n",
      "Sentiment(polarity=-0.25, subjectivity=0.39999999999999997) \n",
      "\n",
      "1\n",
      "assaults her partner hortaleza biting her lip\n",
      "Sentiment(polarity=0.0, subjectivity=0.0) \n",
      "\n",
      "1\n",
      "king the burundanga arrested new\n",
      "Sentiment(polarity=0.13636363636363635, subjectivity=0.45454545454545453) \n",
      "\n",
      "1\n",
      "arrested pederasta pretended to be secret agent\n",
      "Sentiment(polarity=-0.4, subjectivity=0.7) \n",
      "\n",
      "1\n",
      "dies worker vallecas rush the elevator shaft\n",
      "Sentiment(polarity=0.0, subjectivity=0.0) \n",
      "\n",
      "1\n",
      "suffocated fire the palace chanting peak\n",
      "Sentiment(polarity=0.0, subjectivity=0.0) \n",
      "\n",
      "1\n",
      "burns shop nuts improved field\n",
      "Sentiment(polarity=0.0, subjectivity=0.0) \n",
      "\n",
      "1\n",
      "seriously injured falling over vallecas mechanical bull\n",
      "Sentiment(polarity=-0.3333333333333333, subjectivity=0.6666666666666666) \n",
      "\n",
      "1\n",
      "seriously injured biker while circulating the jarama circuit\n",
      "Sentiment(polarity=-0.3333333333333333, subjectivity=0.6666666666666666) \n",
      "\n",
      "1\n",
      "industrial ship razed a fire alcala henares\n",
      "Sentiment(polarity=0.0, subjectivity=0.0) \n",
      "\n",
      "1\n",
      "parachutist falls a roof the encounter veterans the base prince paracuellos\n",
      "Sentiment(polarity=-0.8, subjectivity=1.0) \n",
      "\n",
      "1\n",
      "accident a car a motorbike salutes a seriously injured parley\n",
      "Sentiment(polarity=-0.3333333333333333, subjectivity=0.6666666666666666) \n",
      "\n",
      "1\n",
      "man suffers several serious injuries his bike fall the road\n",
      "Sentiment(polarity=-0.3111111111111111, subjectivity=0.45555555555555555) \n",
      "\n",
      "1\n",
      "disjointed criminal group was engaged robbery cars its subsequent sale\n",
      "Sentiment(polarity=-0.2, subjectivity=0.30000000000000004) \n",
      "\n",
      "1\n",
      "seriously injured blind man deaf and hard hit a motorbike\n",
      "Sentiment(polarity=-0.375, subjectivity=0.625) \n",
      "\n",
      "1\n",
      "supreme sentence the herd revives debate the criminal code reform\n",
      "Sentiment(polarity=-0.4, subjectivity=0.55) \n",
      "\n"
     ]
    },
    {
     "data": {
      "text/plain": [
       "\"\\nnew2 = analysis.translate(to='spanish')\\nanalysis = TextBlob(str(new2))\\nprint(analysis.sentiment)\\nprint(analysis.tags)\\n#print(analysis.translate(to='spanish'))\\nprint(dir(analysis))\\n\""
      ]
     },
     "execution_count": 28,
     "metadata": {},
     "output_type": "execute_result"
    }
   ],
   "source": [
    "\n",
    "\n",
    "#new = new + \" enfado\"\n",
    "new = [' '.join(item) for item in cleaned_data]\n",
    "\n",
    "\n",
    "for item in new:\n",
    "    if TextBlob(item).detect_language() == 'es':\n",
    "        print(\"1\")\n",
    "        analysis = TextBlob(str(item))\n",
    "        item = analysis.translate(to='spanish')\n",
    "        print(item)\n",
    "    analysis = TextBlob(str(item))\n",
    "    print(analysis.sentiment,\"\\n\")\n",
    "\n",
    "\n",
    "\n",
    "\n",
    "\"\"\"\n",
    "new = ' '.join(cleaned_data[1])\n",
    "print(new)\n",
    "print(TextBlob(new).detect_language())\n",
    "analysis = TextBlob(str(new))\n",
    "print(analysis.sentiment,\"\\n\")\n",
    "\n",
    "\n",
    "new = ' '.join(cleaned_data[2])\n",
    "print(new)\n",
    "print(TextBlob(new).detect_language())\n",
    "analysis = TextBlob(str(new))\n",
    "print(analysis.sentiment,\"\\n\")\n",
    "\n",
    "\"\"\"\n",
    "\"\"\"\n",
    "new2 = analysis.translate(to='spanish')\n",
    "analysis = TextBlob(str(new2))\n",
    "print(analysis.sentiment)\n",
    "print(analysis.tags)\n",
    "#print(analysis.translate(to='spanish'))\n",
    "print(dir(analysis))\n",
    "\"\"\"\n"
   ]
  },
  {
   "cell_type": "code",
   "execution_count": null,
   "metadata": {},
   "outputs": [],
   "source": [
    "def new_item(list_tokens):\n",
    "    for index, row in enumerate(list_tokens):\n",
    "        list_tokens.insert(index+1, [])\n",
    "        list_tokens.insert(index+1, [])\n",
    "    return list_tokens\n",
    " \n",
    "print(new_item(cleaned_data))"
   ]
  },
  {
   "cell_type": "code",
   "execution_count": null,
   "metadata": {},
   "outputs": [],
   "source": [
    "def violence_at_row(list_tokens,set_list):\n",
    "    for row in list_tokens:\n",
    "        for word in row:\n",
    "            if word in violence_words:\n",
    "                "
   ]
  },
  {
   "cell_type": "code",
   "execution_count": null,
   "metadata": {},
   "outputs": [],
   "source": [
    "for word in cleaned_data:\n",
    "    if "
   ]
  },
  {
   "cell_type": "code",
   "execution_count": null,
   "metadata": {},
   "outputs": [],
   "source": []
  },
  {
   "cell_type": "code",
   "execution_count": null,
   "metadata": {},
   "outputs": [],
   "source": []
  },
  {
   "cell_type": "code",
   "execution_count": null,
   "metadata": {},
   "outputs": [],
   "source": []
  }
 ],
 "metadata": {
  "kernelspec": {
   "display_name": "Python 3",
   "language": "python",
   "name": "python3"
  },
  "language_info": {
   "codemirror_mode": {
    "name": "ipython",
    "version": 3
   },
   "file_extension": ".py",
   "mimetype": "text/x-python",
   "name": "python",
   "nbconvert_exporter": "python",
   "pygments_lexer": "ipython3",
   "version": "3.7.3"
  }
 },
 "nbformat": 4,
 "nbformat_minor": 2
}
