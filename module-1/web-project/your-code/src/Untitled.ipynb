{
 "cells": [
  {
   "cell_type": "markdown",
   "metadata": {},
   "source": [
    "## En un lugar de la mancha"
   ]
  },
  {
   "cell_type": "code",
   "execution_count": 1,
   "metadata": {},
   "outputs": [],
   "source": [
    "import requests\n",
    "from bs4 import BeautifulSoup\n",
    "import pandas as pd\n",
    "from lxml import html\n",
    "from urllib.request import urlopen\n",
    "import re\n",
    "from pprint import pprint\n",
    "import pandas as pd\n",
    "from nltk.corpus import stopwords\n",
    "import numpy as np\n",
    "import nltk\n",
    "from textblob import TextBlob"
   ]
  },
  {
   "cell_type": "code",
   "execution_count": 2,
   "metadata": {},
   "outputs": [],
   "source": [
    "url = 'https://es.wikisource.org/wiki/Don_Quijote,_Primera_Parte:_Cap%C3%ADtulo_I'"
   ]
  },
  {
   "cell_type": "code",
   "execution_count": 3,
   "metadata": {},
   "outputs": [
    {
     "data": {
      "text/plain": [
       "<!DOCTYPE html>\n",
       "<html class=\"client-nojs\" dir=\"ltr\" lang=\"es\">\n",
       "<head>\n",
       "<meta charset=\"utf-8\"/>\n",
       "<title>Don Quijote, Primera Parte: Capítulo I - Wikisource</title>\n",
       "<script>document.documentElement.className=\"client-js\";RLCONF={\"wgBreakFrames\":!1,\"wgSeparatorTransformTable\":[\",\\t.\",\" \\t,\"],\"wgDigitTransformTable\":[\"\",\"\"],\"wgDefaultDateFormat\":\"dmy\",\"wgMonthNames\":[\"\",\"enero\",\"febrero\",\"marzo\",\"abril\",\"mayo\",\"junio\",\"julio\",\"agosto\",\"septiembre\",\"octubre\",\"noviembre\",\"diciembre\"],\"wgMonthNamesShort\":[\"\",\"ene\",\"feb\",\"mar\",\"abr\",\"may\",\"jun\",\"jul\",\"ago\",\"sep\",\"oct\",\"nov\",\"dic\"],\"wgRequestId\":\"XffqxwpAADgAAAZfcSEAAAFC\",\"wgCSPNonce\":!1,\"wgCanonicalNamespace\":\"\",\"wgCanonicalSpecialPageName\":!1,\"wgNamespaceNumber\":0,\"wgPageName\":\"Don_Quijote,_Primera_Parte:_Capítulo_I\",\"wgTitle\":\"Don Quijote, Primera Parte: Capítulo I\",\"wgCurRevisionId\":988143,\"wgRevisionId\":988143,\"wgArticleId\":2039,\"wgIsArticle\":!0,\"wgIsRedirect\":!1,\"wgAction\":\"view\",\"wgUserName\":null,\"wgUserGroups\":[\"*\"],\"wgCategories\":[\"El ingenioso Hidalgo Don Quijote de la Mancha\"],\"wgPageContentLanguage\":\"es\",\"wgPageContentModel\":\"wikitext\",\"wgRelevantPageName\":\n",
       "\"Don_Quijote,_Primera_Parte:_Capítulo_I\",\"wgRelevantArticleId\":2039,\"wgIsProbablyEditable\":!1,\"wgRelevantPageIsProbablyEditable\":!1,\"wgRestrictionEdit\":[\"autoconfirmed\"],\"wgRestrictionMove\":[\"autoconfirmed\"],\"wgMediaViewerOnClick\":!0,\"wgMediaViewerEnabledByDefault\":!0,\"wgVisualEditor\":{\"pageLanguageCode\":\"es\",\"pageLanguageDir\":\"ltr\",\"pageVariantFallbacks\":\"es\"},\"wgMFDisplayWikibaseDescriptions\":{\"search\":!0,\"nearby\":!0,\"watchlist\":!0,\"tagline\":!1},\"wgWMESchemaEditAttemptStepOversample\":!1,\"wgULSCurrentAutonym\":\"español\",\"wgNoticeProject\":\"wikisource\",\"wgWikibaseItemId\":\"Q52161906\",\"wgCentralAuthMobileDomain\":!1,\"wgEditSubmitButtonLabelPublish\":!0};RLSTATE={\"ext.globalCssJs.user.styles\":\"ready\",\"site.styles\":\"ready\",\"noscript\":\"ready\",\"user.styles\":\"ready\",\"ext.globalCssJs.user\":\"ready\",\"user\":\"ready\",\"user.options\":\"loading\",\"user.tokens\":\"loading\",\"mediawiki.legacy.shared\":\"ready\",\"mediawiki.legacy.commonPrint\":\"ready\",\"wikibase.client.init\":\"ready\",\n",
       "\"ext.visualEditor.desktopArticleTarget.noscript\":\"ready\",\"ext.uls.interlanguage\":\"ready\",\"ext.wikimediaBadges\":\"ready\",\"mediawiki.skinning.interface\":\"ready\",\"skins.vector.styles\":\"ready\"};RLPAGEMODULES=[\"site\",\"mediawiki.page.startup\",\"mediawiki.page.ready\",\"mediawiki.searchSuggest\",\"ext.centralauth.centralautologin\",\"ext.visualEditor.desktopArticleTarget.init\",\"ext.visualEditor.targetLoader\",\"ext.eventLogging\",\"ext.wikimediaEvents\",\"ext.navigationTiming\",\"ext.uls.interface\",\"ext.centralNotice.geoIP\",\"ext.centralNotice.startUp\",\"skins.vector.js\"];</script>\n",
       "<script>(RLQ=window.RLQ||[]).push(function(){mw.loader.implement(\"user.options@wq302\",function($,jQuery,require,module){/*@nomin*/mw.user.options.set({\"variant\":\"es\"});\n",
       "});mw.loader.implement(\"user.tokens@tffin\",function($,jQuery,require,module){/*@nomin*/mw.user.tokens.set({\"patrolToken\":\"+\\\\\",\"watchToken\":\"+\\\\\",\"csrfToken\":\"+\\\\\"});\n",
       "});});</script>\n",
       "<link href=\"/w/load.php?lang=es&amp;modules=ext.uls.interlanguage%7Cext.visualEditor.desktopArticleTarget.noscript%7Cext.wikimediaBadges%7Cmediawiki.legacy.commonPrint%2Cshared%7Cmediawiki.skinning.interface%7Cskins.vector.styles%7Cwikibase.client.init&amp;only=styles&amp;skin=vector\" rel=\"stylesheet\"/>\n",
       "<script async=\"\" src=\"/w/load.php?lang=es&amp;modules=startup&amp;only=scripts&amp;raw=1&amp;skin=vector\"></script>\n",
       "<meta content=\"\" name=\"ResourceLoaderDynamicStyles\"/>\n",
       "<link href=\"/w/load.php?lang=es&amp;modules=site.styles&amp;only=styles&amp;skin=vector\" rel=\"stylesheet\"/>\n",
       "<meta content=\"MediaWiki 1.35.0-wmf.10\" name=\"generator\"/>\n",
       "<meta content=\"origin\" name=\"referrer\"/>\n",
       "<meta content=\"origin-when-crossorigin\" name=\"referrer\"/>\n",
       "<meta content=\"origin-when-cross-origin\" name=\"referrer\"/>\n",
       "<link href=\"/static/favicon/wikisource.ico\" rel=\"shortcut icon\"/>\n",
       "<link href=\"/w/opensearch_desc.php\" rel=\"search\" title=\"Wikisource (es)\" type=\"application/opensearchdescription+xml\"/>\n",
       "<link href=\"//es.wikisource.org/w/api.php?action=rsd\" rel=\"EditURI\" type=\"application/rsd+xml\"/>\n",
       "<link href=\"//creativecommons.org/licenses/by-sa/3.0/\" rel=\"license\"/>\n",
       "<link href=\"/w/index.php?title=Especial:CambiosRecientes&amp;feed=atom\" rel=\"alternate\" title=\"Canal Atom de Wikisource\" type=\"application/atom+xml\"/>\n",
       "<link href=\"https://es.wikisource.org/wiki/Don_Quijote,_Primera_Parte:_Cap%C3%ADtulo_I\" rel=\"canonical\"/>\n",
       "<link href=\"//login.wikimedia.org\" rel=\"dns-prefetch\"/>\n",
       "<link href=\"//meta.wikimedia.org\" rel=\"dns-prefetch\"/>\n",
       "<!--[if lt IE 9]><script src=\"/w/resources/lib/html5shiv/html5shiv.js\"></script><![endif]-->\n",
       "</head>\n",
       "<body class=\"mediawiki ltr sitedir-ltr mw-hide-empty-elt ns-0 ns-subject page-Don_Quijote_Primera_Parte_Capítulo_I rootpage-Don_Quijote_Primera_Parte_Capítulo_I skin-vector action-view\">\n",
       "<div class=\"noprint\" id=\"mw-page-base\"></div>\n",
       "<div class=\"noprint\" id=\"mw-head-base\"></div>\n",
       "<div class=\"mw-body\" id=\"content\" role=\"main\">\n",
       "<a id=\"top\"></a>\n",
       "<div class=\"mw-body-content\" id=\"siteNotice\"><!-- CentralNotice --></div>\n",
       "<div class=\"mw-indicators mw-body-content\">\n",
       "</div>\n",
       "<h1 class=\"firstHeading\" id=\"firstHeading\" lang=\"es\">Don Quijote, Primera Parte: Capítulo I</h1>\n",
       "<div class=\"mw-body-content\" id=\"bodyContent\">\n",
       "<div class=\"noprint\" id=\"siteSub\">De Wikisource, la biblioteca libre.</div>\n",
       "<div id=\"contentSub\"></div>\n",
       "<div id=\"jump-to-nav\"></div>\n",
       "<a class=\"mw-jump-link\" href=\"#mw-head\">Ir a la navegación</a>\n",
       "<a class=\"mw-jump-link\" href=\"#p-search\">Ir a la búsqueda</a>\n",
       "<div class=\"mw-content-ltr\" dir=\"ltr\" id=\"mw-content-text\" lang=\"es\"><div class=\"mw-parser-output\"><div class=\"noprint\" style=\"font-size: 120%; text-align:center; font-weight: bold; padding: 5px; background: #e6e6fa; border: 2px solid #6a5acd; margin: 0 auto;\">\n",
       "<p><a class=\"mw-redirect\" href=\"/wiki/El_ingenioso_Hidalgo_Don_Quijote_de_la_Mancha\" title=\"El ingenioso Hidalgo Don Quijote de la Mancha\">El ingenioso Hidalgo Don Quijote de la Mancha</a>: <br/>\n",
       "Que trata de la condición y ejercicio del famoso hidalgo don Quijote de la Mancha<b><i><br/></i></b>\n",
       "<small>de <b><a class=\"mw-redirect\" href=\"/wiki/Miguel_de_Cervantes_Saavedra\" title=\"Miguel de Cervantes Saavedra\">Miguel de Cervantes Saavedra</a></b></small> <br/>\n",
       "</p>\n",
       "</div>\n",
       "<p><br/>\n",
       "</p>\n",
       "<div style=\"text-align:justify\">\n",
       "<div class=\"prose\">\n",
       "<div class=\"Parrafo\">\n",
       "<p>En un lugar de la Mancha, de cuyo nombre no quiero acordarme, no ha mucho tiempo que vivía un hidalgo de los de lanza en astillero, adarga antigua, rocín flaco y galgo corredor. Una olla de algo más vaca que carnero, salpicón las más noches, duelos y quebrantos los sábados, lantejas los viernes, algún palomino de añadidura los domingos, consumían las tres cuartas partes de su hacienda. El resto della concluían sayo de velarte, calzas de velludo para las fiestas, con sus pantuflos de lo mesmo, y los días de entresemana se honraba con su vellorí de lo más fino. Tenía en su casa una ama que pasaba de los cuarenta, y una sobrina que no llegaba a los veinte, y un mozo de campo y plaza, que así ensillaba el rocín como tomaba la podadera. Frisaba la edad de nuestro hidalgo con los cincuenta años; era de complexión recia, seco de carnes, enjuto de rostro, gran madrugador y amigo de la caza. Quieren decir que tenía el sobrenombre de Quijada, o Quesada, que en esto hay alguna diferencia en los autores que deste caso escriben; aunque, por conjeturas verosímiles, se deja entender que se llamaba Quejana. Pero esto importa poco a nuestro cuento; basta que en la narración dél no se salga un punto de la verdad. \n",
       "</p><p>Es, pues, de saber que este sobredicho hidalgo, los ratos que estaba ocioso, que eran los más del año, se daba a leer libros de caballerías, con tanta afición y gusto, que olvidó casi de todo punto el ejercicio de la caza, y aun la administración de su hacienda. Y llegó a tanto su curiosidad y desatino en esto, que vendió muchas hanegas de tierra de sembradura para comprar libros de caballerías en que leer, y así, llevó a su casa todos cuantos pudo haber dellos; y de todos, ningunos le parecían tan bien como los que compuso el famoso Feliciano de Silva, porque la claridad de su prosa y aquellas entricadas razones suyas le parecían de perlas, y más cuando llegaba a leer aquellos requiebros y cartas de desafíos, donde en muchas partes hallaba escrito: La razón de la sinrazón que a mi razón se hace, de tal manera mi razón enflaquece, que con razón me quejo de la vuestra fermosura. Y también cuando leía: ...los altos cielos que de vuestra divinidad divinamente con las estrellas os fortifican, y os hacen merecedora del merecimiento que merece la vuestra grandeza. \n",
       "</p><p>Con estas razones perdía el pobre caballero el juicio, y desvelábase por entenderlas y desentrañarles el sentido, que no se lo sacara ni las entendiera el mesmo Aristóteles, si resucitara para sólo ello. No estaba muy bien con las heridas que don Belianís daba y recebía, porque se imaginaba que, por grandes maestros que le hubiesen curado, no dejaría de tener el rostro y todo el cuerpo lleno de cicatrices y señales. Pero, con todo, alababa en su autor aquel acabar su libro con la promesa de aquella inacabable aventura, y muchas veces le vino deseo de tomar la pluma y dalle fin al pie de la letra, como allí se promete; y sin duda alguna lo hiciera, y aun saliera con ello, si otros mayores y continuos pensamientos no se lo estorbaran. Tuvo muchas veces competencia con el cura de su lugar -que era hombre docto, graduado en Sigüenza-, sobre cuál había sido mejor caballero: \n",
       "Palmerín de Ingalaterra o Amadís de Gaula; mas maese Nicolás, barbero del mesmo pueblo, decía que ninguno llegaba al Caballero del Febo, y que si alguno se le podía comparar, era don Galaor, hermano de Amadís de Gaula, porque tenía muy acomodada condición para todo; que no era caballero melindroso, ni tan llorón como su hermano, y que en lo de la valentía no le iba en zaga.\n",
       "</p><p>En resolución, él se enfrascó tanto en su lectura, que se le pasaban las noches leyendo de claro en claro, y los días de turbio en turbio; y así, del poco dormir y del mucho leer, se le secó el celebro, de manera que vino a perder el juicio. Llenósele la fantasía de todo aquello que leía en los libros, así de encantamentos como de pendencias, batallas, desafíos, heridas, requiebros, amores, tormentas y disparates imposibles; y asentósele de tal modo en la imaginación que era verdad toda aquella máquina de aquellas sonadas soñadas invenciones que leía, que para él no había otra historia más cierta en el mundo. Decía él que el Cid Ruy Díaz había sido muy buen caballero, pero que no tenía que ver con el Caballero de la Ardiente Espada, que de sólo un revés había partido por medio dos fieros y descomunales gigantes. Mejor estaba con Bernardo del Carpio, porque en Roncesvalles había muerto a Roldán el encantado, valiéndose de la industria de Hércules, cuando ahogó a Anteo, el hijo de la Tierra, entre los brazos. Decía mucho bien del gigante Morgante, porque, con ser de aquella generación gigantea, que todos son soberbios y descomedidos, él solo era afable y bien criado. Pero, sobre todos, estaba bien con Reinaldos de Montalbán, y más cuando le veía salir de su castillo y robar cuantos topaba, y cuando en allende robó aquel ídolo de Mahoma que era todo de oro, según dice su historia. Diera él, por dar una mano de coces al traidor de Galalón, al ama que tenía, y aun a su sobrina de añadidura.\n",
       "</p><p>En efeto, rematado ya su juicio, vino a dar en el más estraño pensamiento que jamás dio loco en el mundo; y fue que le pareció convenible y necesario, así para el aumento de su honra como para el servicio de su república, hacerse caballero andante, y irse por todo el mundo con sus armas y caballo a buscar las aventuras y a ejercitarse en todo aquello que él había leído que los caballeros andantes se ejercitaban, deshaciendo todo género de agravio, y poniéndose en ocasiones y peligros donde, acabándolos, cobrase eterno nombre y fama. Imaginábase el pobre ya coronado por el valor de su brazo, por lo menos, del imperio de Trapisonda; y así, con estos tan agradables pensamientos, llevado del estraño gusto que en ellos sentía, se dio priesa a poner en efeto lo que deseaba.\n",
       "</p><p>Y lo primero que hizo fue limpiar unas armas que habían sido de sus bisabuelos, que, tomadas de orín y llenas de moho, luengos siglos había que estaban puestas y olvidadas en un rincón. Limpiólas y aderezólas lo mejor que pudo, pero vio que tenían una gran falta, y era que no tenían celada de encaje, sino morrión simple; mas a esto suplió su industria, porque de cartones hizo un modo de media celada, que, encajada con el morrión, hacían una apariencia de celada entera. Es verdad que para probar si era fuerte y podía estar al riesgo de una cuchillada, sacó su espada y le dio dos golpes, y con el primero y en un punto deshizo lo que había hecho en una semana; y no dejó de parecerle mal la facilidad con que la había hecho pedazos, y, por asegurarse deste peligro, la tornó a hacer de nuevo, poniéndole unas barras de hierro por de dentro, de tal manera que él quedó satisfecho de su fortaleza; y, sin querer hacer nueva experiencia della, la diputó y tuvo por celada finísima de encaje.\n",
       "</p><p>Fue luego a ver su rocín, y, aunque tenía más cuartos que un real y más tachas que el caballo de Gonela, que tantum pellis et ossa fuit, le pareció que ni el Bucéfalo de Alejandro ni Babieca el del Cid con él se igualaban.\n",
       "</p><p>Cuatro días se le pasaron en imaginar qué nombre le pondría; porque, según se decía él a sí mesmo, no era razón que caballo de caballero tan famoso, y tan bueno él por sí, estuviese sin nombre conocido; y ansí, procuraba acomodársele de manera que declarase quién había sido, antes que fuese de caballero andante, y lo que era entonces; pues estaba muy puesto en razón que, mudando su señor estado, mudase él también el nombre, y le cobrase famoso y de estruendo, como convenía a la nueva orden y al nuevo ejercicio que ya profesaba. Y así, después de muchos nombres que formó, borró y quitó, añadió, deshizo y tornó a hacer en su memoria e imaginación, al fin le vino a llamar Rocinante: nombre, a su parecer, alto, sonoro y significativo de lo que había sido cuando fue rocín, antes de lo que ahora era, que era antes y primero de todos los rocines del mundo.\n",
       "</p><p>Puesto nombre, y tan a su gusto, a su caballo, quiso ponérsele a sí mismo, y en este pensamiento duró otros ocho días, y al cabo se vino a llamar don Quijote; de donde -como queda dicho- tomaron ocasión los autores desta tan verdadera historia que, sin duda, se debía de llamar Quijada, y no Quesada, como otros quisieron decir. Pero, acordándose que el valeroso Amadís no sólo se había contentado con llamarse Amadís a secas, sino que añadió el nombre de su reino y patria, por Hepila famosa, y se llamó Amadís de Gaula, así quiso, como buen caballero, añadir al suyo el nombre de la suya y llamarse don Quijote de la Mancha, con que, a su parecer, declaraba muy al vivo su linaje y patria, y la honraba con tomar el sobrenombre della. \n",
       "</p><p>Limpias, pues, sus armas, hecho del morrión celada, puesto nombre a su rocín y confirmándose a sí mismo, se dio a entender que no le faltaba otra cosa sino buscar una dama de quien enamorarse; porque el caballero andante sin amores era árbol sin hojas y sin fruto y cuerpo sin alma. Decíase él a sí:\n",
       "</p><p>-Si yo, por malos de mis pecados, o por mi buena suerte, me encuentro por ahí con algún gigante, como de ordinario les acontece a los caballeros andantes, y le derribo de un encuentro, o le parto por mitad del cuerpo, o, finalmente, le venzo y le rindo, ¿no será bien tener a quien enviarle presentado y que entre y se hinque de rodillas ante mi dulce señora, y diga con voz humilde y rendido: <i>Yo, señora, soy el gigante Caraculiambro, señor de la ínsula Malindrania, a quien venció en singular batalla el jamás como se debe alabado caballero don Quijote de la Mancha, el cual me mandó que me presentase ante vuestra merced, para que la vuestra grandeza disponga de mí a su talante</i>?\n",
       "</p><p>¡Oh, cómo se holgó nuestro buen caballero cuando hubo hecho este discurso, y más cuando halló a quien dar nombre de su dama! Y fue, a lo que se cree, que en un lugar cerca del suyo había una moza labradora de muy buen parecer, de quien él un tiempo anduvo enamorado, aunque, según se entiende, ella jamás lo supo, ni le dio cata dello. Llamábase Aldonza Lorenzo, y a ésta le pareció ser bien darle título de señora de sus pensamientos; y, buscándole nombre que no desdijese mucho del suyo, y que tirase y se encaminase al de princesa y gran señora, vino a llamarla Dulcinea del Toboso, porque era natural del Toboso; nombre, a su parecer, músico y peregrino y significativo, como todos los demás que a él y a sus cosas había puesto.\n",
       "</p>\n",
       "</div>\n",
       "</div>\n",
       "<div style=\"width:100%; padding-left: 0.5em; padding-right: 0.5em; padding-top: 0em; padding-bottom: 0.3em; border-top: 1px solid #a7d7f9; border-bottom: 1px solid #a7d7f9; background-color: #f4f4f4; text-align: center; margin:auto\">\n",
       "<table cellpadding=\"0\" cellspacing=\"0\" style=\"border: 0px; background-color: #f4f4f4; border-bottom: 0px\" width=\"100%\">\n",
       "<tbody><tr>\n",
       "<td align=\"left\" width=\"33%\"><div style=\"font-size: 80%; font-weight:normal;\"> ◄   <a href=\"/wiki/Don_Quijote,_Primera_Parte:_Tasa_y_Pr%C3%B3logo\" title=\"Don Quijote, Primera Parte: Tasa y Prólogo\">Tasa y Prólogo</a></div>\n",
       "</td>\n",
       "<td>\n",
       "</td>\n",
       "<td align=\"center\" width=\"34%\"><div style=\"font-size: 80%; font-weight:normal;\"><a class=\"mw-selflink selflink\">Capítulo I</a></div>\n",
       "</td>\n",
       "<td>\n",
       "</td>\n",
       "<td align=\"right\" width=\"33%\"><div style=\"font-size: 80%; font-weight:normal;\"><a href=\"/wiki/Don_Quijote,_Primera_Parte:_Cap%C3%ADtulo_II\" title=\"Don Quijote, Primera Parte: Capítulo II\">Capítulo II</a>  ►</div>\n",
       "</td></tr></tbody></table>\n",
       "</div></div>\n",
       "<!-- \n",
       "NewPP limit report\n",
       "Parsed by mw1268\n",
       "Cached time: 20191206144342\n",
       "Cache expiry: 2592000\n",
       "Dynamic content: false\n",
       "Complications: []\n",
       "CPU time usage: 0.020 seconds\n",
       "Real time usage: 0.071 seconds\n",
       "Preprocessor visited node count: 38/1000000\n",
       "Preprocessor generated node count: 0/1500000\n",
       "Post‐expand include size: 1647/2097152 bytes\n",
       "Template argument size: 521/2097152 bytes\n",
       "Highest expansion depth: 4/40\n",
       "Expensive parser function count: 0/500\n",
       "Unstrip recursion depth: 0/20\n",
       "Unstrip post‐expand size: 0/5000000 bytes\n",
       "Number of Wikibase entities loaded: 0/400\n",
       "-->\n",
       "<!--\n",
       "Transclusion expansion time report (%,ms,calls,template)\n",
       "100.00%   40.419      1 -total\n",
       " 81.83%   33.075      1 Plantilla:Capítulos\n",
       " 17.77%    7.183      1 Plantilla:Encabezado\n",
       "-->\n",
       "<!-- Saved in parser cache with key eswikisource:pcache:idhash:2039-0!canonical and timestamp 20191206144342 and revision id 988143\n",
       " -->\n",
       "</div><noscript><img alt=\"\" height=\"1\" src=\"//es.wikisource.org/wiki/Special:CentralAutoLogin/start?type=1x1\" style=\"border: none; position: absolute;\" title=\"\" width=\"1\"/></noscript></div>\n",
       "<div class=\"printfooter\">Obtenido de «<a dir=\"ltr\" href=\"https://es.wikisource.org/w/index.php?title=Don_Quijote,_Primera_Parte:_Capítulo_I&amp;oldid=988143\">https://es.wikisource.org/w/index.php?title=Don_Quijote,_Primera_Parte:_Capítulo_I&amp;oldid=988143</a>»</div>\n",
       "<div class=\"catlinks\" data-mw=\"interface\" id=\"catlinks\"><div class=\"mw-normal-catlinks\" id=\"mw-normal-catlinks\"><a href=\"/wiki/Especial:Categor%C3%ADas\" title=\"Especial:Categorías\">Categoría</a>: <ul><li><a href=\"/wiki/Categor%C3%ADa:El_ingenioso_Hidalgo_Don_Quijote_de_la_Mancha\" title=\"Categoría:El ingenioso Hidalgo Don Quijote de la Mancha\">El ingenioso Hidalgo Don Quijote de la Mancha</a></li></ul></div></div>\n",
       "<div class=\"visualClear\"></div>\n",
       "</div>\n",
       "</div>\n",
       "<div id=\"mw-navigation\">\n",
       "<h2>Menú de navegación</h2>\n",
       "<div id=\"mw-head\">\n",
       "<div aria-labelledby=\"p-personal-label\" id=\"p-personal\" role=\"navigation\">\n",
       "<h3 id=\"p-personal-label\">Herramientas personales</h3>\n",
       "<ul>\n",
       "<li id=\"pt-anonuserpage\">No has accedido</li><li id=\"pt-anontalk\"><a accesskey=\"n\" href=\"/wiki/Especial:MiDiscusi%C3%B3n\" title=\"Discusión sobre ediciones hechas desde esta dirección IP [n]\">Discusión</a></li><li id=\"pt-anoncontribs\"><a accesskey=\"y\" href=\"/wiki/Especial:MisContribuciones\" title=\"Una lista de modificaciones hechas desde esta dirección IP [y]\">Contribuciones</a></li><li id=\"pt-createaccount\"><a href=\"/w/index.php?title=Especial:Crear_una_cuenta&amp;returnto=Don+Quijote%2C+Primera+Parte%3A+Cap%C3%ADtulo+I\" title=\"Te recomendamos crear una cuenta e iniciar sesión; sin embargo, no es obligatorio\">Crear una cuenta</a></li><li id=\"pt-login\"><a accesskey=\"o\" href=\"/w/index.php?title=Especial:Entrar&amp;returnto=Don+Quijote%2C+Primera+Parte%3A+Cap%C3%ADtulo+I\" title=\"Te recomendamos iniciar sesión, aunque no es obligatorio [o]\">Acceder</a></li> </ul>\n",
       "</div>\n",
       "<div id=\"left-navigation\">\n",
       "<div aria-labelledby=\"p-namespaces-label\" class=\"vectorTabs\" id=\"p-namespaces\" role=\"navigation\">\n",
       "<h3 id=\"p-namespaces-label\">Espacios de nombres</h3>\n",
       "<ul>\n",
       "<li class=\"selected\" id=\"ca-nstab-main\"><a accesskey=\"c\" href=\"/wiki/Don_Quijote,_Primera_Parte:_Cap%C3%ADtulo_I\" title=\"Ver la página de contenido [c]\">Página</a></li><li class=\"new\" id=\"ca-talk\"><a accesskey=\"t\" href=\"/w/index.php?title=Discusi%C3%B3n:Don_Quijote,_Primera_Parte:_Cap%C3%ADtulo_I&amp;action=edit&amp;redlink=1\" rel=\"discussion\" title=\"Discusión acerca de la página (la página no existe) [t]\">Discusión</a></li>\n",
       "</ul>\n",
       "</div>\n",
       "<div aria-labelledby=\"p-variants-label\" class=\"vectorMenu emptyPortlet\" id=\"p-variants\" role=\"navigation\">\n",
       "<input aria-labelledby=\"p-variants-label\" class=\"vectorMenuCheckbox\" type=\"checkbox\"/>\n",
       "<h3 id=\"p-variants-label\">\n",
       "<span>Variantes</span>\n",
       "</h3>\n",
       "<ul class=\"menu\">\n",
       "</ul>\n",
       "</div>\n",
       "</div>\n",
       "<div id=\"right-navigation\">\n",
       "<div aria-labelledby=\"p-views-label\" class=\"vectorTabs\" id=\"p-views\" role=\"navigation\">\n",
       "<h3 id=\"p-views-label\">Vistas</h3>\n",
       "<ul>\n",
       "<li class=\"collapsible selected\" id=\"ca-view\"><a href=\"/wiki/Don_Quijote,_Primera_Parte:_Cap%C3%ADtulo_I\">Leer</a></li><li class=\"collapsible\" id=\"ca-viewsource\"><a accesskey=\"e\" href=\"/w/index.php?title=Don_Quijote,_Primera_Parte:_Cap%C3%ADtulo_I&amp;action=edit\" title=\"Esta página está protegida.\n",
       "Puedes ver su código fuente [e]\">Ver código fuente</a></li><li class=\"collapsible\" id=\"ca-history\"><a accesskey=\"h\" href=\"/w/index.php?title=Don_Quijote,_Primera_Parte:_Cap%C3%ADtulo_I&amp;action=history\" title=\"Versiones anteriores de esta página [h]\">Ver historial</a></li>\n",
       "</ul>\n",
       "</div>\n",
       "<div aria-labelledby=\"p-cactions-label\" class=\"vectorMenu emptyPortlet\" id=\"p-cactions\" role=\"navigation\">\n",
       "<input aria-labelledby=\"p-cactions-label\" class=\"vectorMenuCheckbox\" type=\"checkbox\"/>\n",
       "<h3 id=\"p-cactions-label\"><span>Más</span></h3>\n",
       "<ul class=\"menu\">\n",
       "</ul>\n",
       "</div>\n",
       "<div id=\"p-search\" role=\"search\">\n",
       "<h3>\n",
       "<label for=\"searchInput\">Buscar</label>\n",
       "</h3>\n",
       "<form action=\"/w/index.php\" id=\"searchform\">\n",
       "<div id=\"simpleSearch\">\n",
       "<input accesskey=\"f\" id=\"searchInput\" name=\"search\" placeholder=\"Buscar en Wikisource\" title=\"Buscar en Wikisource [f]\" type=\"search\"/>\n",
       "<input name=\"title\" type=\"hidden\" value=\"Especial:Buscar\"/>\n",
       "<input class=\"searchButton mw-fallbackSearchButton\" id=\"mw-searchButton\" name=\"fulltext\" title=\"Buscar este texto en las páginas\" type=\"submit\" value=\"Buscar\"/>\n",
       "<input class=\"searchButton\" id=\"searchButton\" name=\"go\" title=\"Ir a la página con este nombre exacto si existe\" type=\"submit\" value=\"Ir\"/>\n",
       "</div>\n",
       "</form>\n",
       "</div>\n",
       "</div>\n",
       "</div>\n",
       "<div id=\"mw-panel\">\n",
       "<div id=\"p-logo\" role=\"banner\"><a class=\"mw-wiki-logo\" href=\"/wiki/Portada\" title=\"Visitar la página principal\"></a></div>\n",
       "<div aria-labelledby=\"p-navigation-label\" class=\"portal\" id=\"p-navigation\" role=\"navigation\">\n",
       "<h3 id=\"p-navigation-label\">Navegación</h3>\n",
       "<div class=\"body\">\n",
       "<ul>\n",
       "<li id=\"n-mainpage-description\"><a accesskey=\"z\" href=\"/wiki/Portada\" title=\"Visitar la página principal [z]\">Portada</a></li><li id=\"n-portal\"><a href=\"/wiki/Wikisource:Portal_de_la_comunidad\" title=\"Acerca del proyecto, lo que puedes hacer, dónde encontrar información\">Portal de la comunidad</a></li><li id=\"n-currentevents\"><a href=\"/wiki/Wikisource:Caf%C3%A9\" title=\"Encuentra información de contexto sobre acontecimientos actuales\">Café</a></li><li id=\"n-recentchanges\"><a accesskey=\"r\" href=\"/wiki/Especial:CambiosRecientes\" title=\"Lista de cambios recientes en el wiki [r]\">Cambios recientes</a></li><li id=\"n-randompage\"><a accesskey=\"x\" href=\"/wiki/Especial:Aleatoria\" title=\"Cargar una página al azar [x]\">Página aleatoria</a></li><li id=\"n-Libro-aleatorio\"><a href=\"/wiki/Especial:Aleatoria/%C3%8Dndice\">Libro aleatorio</a></li><li id=\"n-help\"><a href=\"https://es.wikisource.org/wiki/Wikisource:Ayuda\" title=\"El lugar para aprender\">Ayuda</a></li><li id=\"n-sitesupport\"><a href=\"//donate.wikimedia.org/wiki/Special:FundraiserRedirector?utm_source=donate&amp;utm_medium=sidebar&amp;utm_campaign=C13_es.wikisource.org&amp;uselang=es\" title=\"Apóyanos\">Donaciones</a></li> </ul>\n",
       "</div>\n",
       "</div>\n",
       "<div aria-labelledby=\"p-coll-print_export-label\" class=\"portal\" id=\"p-coll-print_export\" role=\"navigation\">\n",
       "<h3 id=\"p-coll-print_export-label\">Imprimir/exportar</h3>\n",
       "<div class=\"body\">\n",
       "<ul>\n",
       "<li id=\"coll-create_a_book\"><a href=\"/w/index.php?title=Especial:Libro&amp;bookcmd=book_creator&amp;referer=Don+Quijote%2C+Primera+Parte%3A+Cap%C3%ADtulo+I\">Crear un libro</a></li><li id=\"coll-download-as-rl\"><a href=\"/w/index.php?title=Especial:ElectronPdf&amp;page=Don+Quijote%2C+Primera+Parte%3A+Cap%C3%ADtulo+I&amp;action=show-download-screen\">Descargar como PDF</a></li><li id=\"t-print\"><a accesskey=\"p\" href=\"/w/index.php?title=Don_Quijote,_Primera_Parte:_Cap%C3%ADtulo_I&amp;printable=yes\" title=\"Versión imprimible de esta página [p]\">Versión para imprimir</a></li> </ul>\n",
       "</div>\n",
       "</div>\n",
       "<div aria-labelledby=\"p-tb-label\" class=\"portal\" id=\"p-tb\" role=\"navigation\">\n",
       "<h3 id=\"p-tb-label\">Herramientas</h3>\n",
       "<div class=\"body\">\n",
       "<ul>\n",
       "<li id=\"t-whatlinkshere\"><a accesskey=\"j\" href=\"/wiki/Especial:LoQueEnlazaAqu%C3%AD/Don_Quijote,_Primera_Parte:_Cap%C3%ADtulo_I\" title=\"Lista de todas las páginas del wiki que enlazan aquí [j]\">Lo que enlaza aquí</a></li><li id=\"t-recentchangeslinked\"><a accesskey=\"k\" href=\"/wiki/Especial:CambiosEnEnlazadas/Don_Quijote,_Primera_Parte:_Cap%C3%ADtulo_I\" rel=\"nofollow\" title=\"Cambios recientes en las páginas que enlazan con esta [k]\">Cambios relacionados</a></li><li id=\"t-upload\"><a accesskey=\"u\" href=\"//commons.wikimedia.org/wiki/Special:UploadWizard?uselang=es\" title=\"Subir archivos [u]\">Subir archivo</a></li><li id=\"t-specialpages\"><a accesskey=\"q\" href=\"/wiki/Especial:P%C3%A1ginasEspeciales\" title=\"Lista de todas las páginas especiales [q]\">Páginas especiales</a></li><li id=\"t-permalink\"><a href=\"/w/index.php?title=Don_Quijote,_Primera_Parte:_Cap%C3%ADtulo_I&amp;oldid=988143\" title=\"Enlace permanente a esta versión de la página\">Enlace permanente</a></li><li id=\"t-info\"><a href=\"/w/index.php?title=Don_Quijote,_Primera_Parte:_Cap%C3%ADtulo_I&amp;action=info\" title=\"Más información sobre esta página\">Información de la página</a></li><li id=\"t-wikibase\"><a accesskey=\"g\" href=\"https://www.wikidata.org/wiki/Special:EntityPage/Q52161906\" title=\"Enlace al elemento conectado del repositorio de datos [g]\">Elemento de Wikidata</a></li><li id=\"t-cite\"><a href=\"/w/index.php?title=Especial:Citar&amp;page=Don_Quijote%2C_Primera_Parte%3A_Cap%C3%ADtulo_I&amp;id=988143\" title=\"Información sobre cómo citar esta página\">Citar esta página</a></li> </ul>\n",
       "</div>\n",
       "</div>\n",
       "<div aria-labelledby=\"p-lang-label\" class=\"portal\" id=\"p-lang\" role=\"navigation\">\n",
       "<h3 id=\"p-lang-label\">En otros idiomas</h3>\n",
       "<div class=\"body\">\n",
       "<ul>\n",
       "<li class=\"interlanguage-link interwiki-ca\"><a class=\"interlanguage-link-target\" href=\"https://ca.wikisource.org/wiki/L%27ingeni%C3%B3s_hidalgo_Don_Quixot_de_La_Mancha_-_Primera_part/Cap%C3%ADtol_primer\" hreflang=\"ca\" lang=\"ca\" title=\"L'ingeniós hidalgo Don Quixot de La Mancha - Primera part/Capítol primer (catalán)\">Català</a></li><li class=\"interlanguage-link interwiki-cs\"><a class=\"interlanguage-link-target\" href=\"https://cs.wikisource.org/wiki/Don_Quijote_de_la_Mancha/D%C3%ADl_prvn%C3%AD/Kapitola_prvn%C3%AD\" hreflang=\"cs\" lang=\"cs\" title=\"Don Quijote de la Mancha/Díl první/Kapitola první (checo)\">Čeština</a></li><li class=\"interlanguage-link interwiki-en\"><a class=\"interlanguage-link-target\" href=\"https://en.wikisource.org/wiki/Don_Quixote/Volume_1/Chapter_I\" hreflang=\"en\" lang=\"en\" title=\"Don Quixote/Volume 1/Chapter I (inglés)\">English</a></li><li class=\"interlanguage-link interwiki-fr\"><a class=\"interlanguage-link-target\" href=\"https://fr.wikisource.org/wiki/L%E2%80%99Ing%C3%A9nieux_Hidalgo_Don_Quichotte_de_la_Manche/Premi%C3%A8re_partie/Chapitre_I\" hreflang=\"fr\" lang=\"fr\" title=\"L’Ingénieux Hidalgo Don Quichotte de la Manche/Première partie/Chapitre I (francés)\">Français</a></li><li class=\"interlanguage-link interwiki-hy\"><a class=\"interlanguage-link-target\" href=\"https://hy.wikisource.org/wiki/%D4%B4%D5%B8%D5%B6_%D4%BF%D5%AB%D5%AD%D5%B8%D5%BF/%D4%B3%D5%AC%D5%B8%D6%82%D5%AD_I\" hreflang=\"hy\" lang=\"hy\" title=\"Դոն Կիխոտ/Գլուխ I (armenio)\">Հայերեն</a></li><li class=\"interlanguage-link interwiki-it\"><a class=\"interlanguage-link-target\" href=\"https://it.wikisource.org/wiki/Don_Chisciotte_della_Mancia/Capitolo_I\" hreflang=\"it\" lang=\"it\" title=\"Don Chisciotte della Mancia/Capitolo I (italiano)\">Italiano</a></li><li class=\"interlanguage-link interwiki-pt\"><a class=\"interlanguage-link-target\" href=\"https://pt.wikisource.org/wiki/Dom_Quixote/I/I\" hreflang=\"pt\" lang=\"pt\" title=\"Dom Quixote/I/I (portugués)\">Português</a></li> </ul>\n",
       "<div class=\"after-portlet after-portlet-lang\"><span class=\"wb-langlinks-edit wb-langlinks-link\"><a class=\"wbc-editpage\" href=\"https://www.wikidata.org/wiki/Special:EntityPage/Q52161906#sitelinks-wikisource\" title=\"Editar enlaces interlingüísticos\">Editar enlaces</a></span></div> </div>\n",
       "</div>\n",
       "</div>\n",
       "</div>\n",
       "<div id=\"footer\" role=\"contentinfo\">\n",
       "<ul id=\"footer-info\">\n",
       "<li id=\"footer-info-lastmod\"> Esta página se editó por última vez el 27 mar 2019 a las 20:46.</li>\n",
       "<li id=\"footer-info-copyright\">El texto está disponible bajo la <a href=\"https://creativecommons.org/licenses/by-sa/3.0/deed.es\">Licencia Creative Commons Atribución-CompartirIgual 3.0</a>;\n",
       "pueden aplicarse términos adicionales.\n",
       "Véase <a href=\"https://foundation.wikimedia.org/wiki/Terms_of_Use/es\">Términos de uso</a> para más detalles.</li>\n",
       "</ul>\n",
       "<ul id=\"footer-places\">\n",
       "<li id=\"footer-places-privacy\"><a class=\"extiw\" href=\"https://meta.wikimedia.org/wiki/Privacy_policy/es\" title=\"m:Privacy policy/es\">Política de privacidad</a></li>\n",
       "<li id=\"footer-places-about\"><a href=\"/wiki/Wikisource:Acerca_de\" title=\"Wikisource:Acerca de\">Acerca de Wikisource</a></li>\n",
       "<li id=\"footer-places-disclaimer\"><a href=\"/wiki/Wikisource:Limitaci%C3%B3n_general_de_responsabilidad\" title=\"Wikisource:Limitación general de responsabilidad\">Aviso legal</a></li>\n",
       "<li id=\"footer-places-developers\"><a href=\"https://www.mediawiki.org/wiki/Special:MyLanguage/How_to_contribute\">Desarrolladores</a></li>\n",
       "<li id=\"footer-places-statslink\"><a href=\"https://stats.wikimedia.org/v2/#/es.wikisource.org\">Estadísticas</a></li>\n",
       "<li id=\"footer-places-cookiestatement\"><a href=\"https://foundation.wikimedia.org/wiki/Cookie_statement/es\">Declaración de cookies</a></li>\n",
       "<li id=\"footer-places-mobileview\"><a class=\"noprint stopMobileRedirectToggle\" href=\"//es.m.wikisource.org/w/index.php?title=Don_Quijote,_Primera_Parte:_Cap%C3%ADtulo_I&amp;mobileaction=toggle_view_mobile\">Versión para móviles</a></li>\n",
       "</ul>\n",
       "<ul class=\"noprint\" id=\"footer-icons\">\n",
       "<li id=\"footer-copyrightico\">\n",
       "<a href=\"https://wikimediafoundation.org/\"><img alt=\"Wikimedia Foundation\" height=\"31\" src=\"/static/images/wikimedia-button.png\" srcset=\"/static/images/wikimedia-button-1.5x.png 1.5x, /static/images/wikimedia-button-2x.png 2x\" width=\"88\"/></a> </li>\n",
       "<li id=\"footer-poweredbyico\">\n",
       "<a href=\"https://www.mediawiki.org/\"><img alt=\"Powered by MediaWiki\" height=\"31\" src=\"/static/images/poweredby_mediawiki_88x31.png\" srcset=\"/static/images/poweredby_mediawiki_132x47.png 1.5x, /static/images/poweredby_mediawiki_176x62.png 2x\" width=\"88\"/></a> </li>\n",
       "</ul>\n",
       "<div style=\"clear: both;\"></div>\n",
       "</div>\n",
       "<script>(RLQ=window.RLQ||[]).push(function(){mw.config.set({\"wgPageParseReport\":{\"limitreport\":{\"cputime\":\"0.020\",\"walltime\":\"0.071\",\"ppvisitednodes\":{\"value\":38,\"limit\":1000000},\"ppgeneratednodes\":{\"value\":0,\"limit\":1500000},\"postexpandincludesize\":{\"value\":1647,\"limit\":2097152},\"templateargumentsize\":{\"value\":521,\"limit\":2097152},\"expansiondepth\":{\"value\":4,\"limit\":40},\"expensivefunctioncount\":{\"value\":0,\"limit\":500},\"unstrip-depth\":{\"value\":0,\"limit\":20},\"unstrip-size\":{\"value\":0,\"limit\":5000000},\"entityaccesscount\":{\"value\":0,\"limit\":400},\"timingprofile\":[\"100.00%   40.419      1 -total\",\" 81.83%   33.075      1 Plantilla:Capítulos\",\" 17.77%    7.183      1 Plantilla:Encabezado\"]},\"cachereport\":{\"origin\":\"mw1268\",\"timestamp\":\"20191206144342\",\"ttl\":2592000,\"transientcontent\":false}}});});</script>\n",
       "<script type=\"application/ld+json\">{\"@context\":\"https:\\/\\/schema.org\",\"@type\":\"Article\",\"name\":\"Don Quijote, Primera Parte: Cap\\u00edtulo I\",\"url\":\"https:\\/\\/es.wikisource.org\\/wiki\\/Don_Quijote,_Primera_Parte:_Cap%C3%ADtulo_I\",\"sameAs\":\"http:\\/\\/www.wikidata.org\\/entity\\/Q52161906\",\"mainEntity\":\"http:\\/\\/www.wikidata.org\\/entity\\/Q52161906\",\"author\":{\"@type\":\"Organization\",\"name\":\"Colaboradores de los proyectos Wikimedia\"},\"publisher\":{\"@type\":\"Organization\",\"name\":\"Wikimedia Foundation, Inc.\",\"logo\":{\"@type\":\"ImageObject\",\"url\":\"https:\\/\\/www.wikimedia.org\\/static\\/images\\/wmf-hor-googpub.png\"}},\"datePublished\":\"2005-03-28T16:36:26Z\",\"dateModified\":\"2019-03-27T20:46:43Z\"}</script>\n",
       "<script>(RLQ=window.RLQ||[]).push(function(){mw.config.set({\"wgBackendResponseTime\":152,\"wgHostname\":\"mw1261\"});});</script>\n",
       "</body>\n",
       "</html>"
      ]
     },
     "execution_count": 3,
     "metadata": {},
     "output_type": "execute_result"
    }
   ],
   "source": [
    "html = requests.get(url).content\n",
    "soup = BeautifulSoup(html)\n",
    "soup"
   ]
  },
  {
   "cell_type": "code",
   "execution_count": 4,
   "metadata": {
    "scrolled": true
   },
   "outputs": [
    {
     "data": {
      "text/plain": [
       "'En un lugar de la Mancha, de cuyo nombre no quiero acordarme, no ha mucho tiempo que vivía un hidalgo de los de lanza en astillero, adarga antigua, rocín flaco y galgo corredor. Una olla de algo más vaca que carnero, salpicón las más noches, duelos y quebrantos los sábados, lantejas los viernes, algún palomino de añadidura los domingos, consumían las tres cuartas partes de su hacienda. El resto della concluían sayo de velarte, calzas de velludo para las fiestas, con sus pantuflos de lo mesmo, y los días de entresemana se honraba con su vellorí de lo más fino. Tenía en su casa una ama que pasaba de los cuarenta, y una sobrina que no llegaba a los veinte, y un mozo de campo y plaza, que así ensillaba el rocín como tomaba la podadera. Frisaba la edad de nuestro hidalgo con los cincuenta años; era de complexión recia, seco de carnes, enjuto de rostro, gran madrugador y amigo de la caza. Quieren decir que tenía el sobrenombre de Quijada, o Quesada, que en esto hay alguna diferencia en los autores que deste caso escriben; aunque, por conjeturas verosímiles, se deja entender que se llamaba Quejana. Pero esto importa poco a nuestro cuento; basta que en la narración dél no se salga un punto de la verdad. \\nEs, pues, de saber que este sobredicho hidalgo, los ratos que estaba ocioso, que eran los más del año, se daba a leer libros de caballerías, con tanta afición y gusto, que olvidó casi de todo punto el ejercicio de la caza, y aun la administración de su hacienda. Y llegó a tanto su curiosidad y desatino en esto, que vendió muchas hanegas de tierra de sembradura para comprar libros de caballerías en que leer, y así, llevó a su casa todos cuantos pudo haber dellos; y de todos, ningunos le parecían tan bien como los que compuso el famoso Feliciano de Silva, porque la claridad de su prosa y aquellas entricadas razones suyas le parecían de perlas, y más cuando llegaba a leer aquellos requiebros y cartas de desafíos, donde en muchas partes hallaba escrito: La razón de la sinrazón que a mi razón se hace, de tal manera mi razón enflaquece, que con razón me quejo de la vuestra fermosura. Y también cuando leía: ...los altos cielos que de vuestra divinidad divinamente con las estrellas os fortifican, y os hacen merecedora del merecimiento que merece la vuestra grandeza. \\nCon estas razones perdía el pobre caballero el juicio, y desvelábase por entenderlas y desentrañarles el sentido, que no se lo sacara ni las entendiera el mesmo Aristóteles, si resucitara para sólo ello. No estaba muy bien con las heridas que don Belianís daba y recebía, porque se imaginaba que, por grandes maestros que le hubiesen curado, no dejaría de tener el rostro y todo el cuerpo lleno de cicatrices y señales. Pero, con todo, alababa en su autor aquel acabar su libro con la promesa de aquella inacabable aventura, y muchas veces le vino deseo de tomar la pluma y dalle fin al pie de la letra, como allí se promete; y sin duda alguna lo hiciera, y aun saliera con ello, si otros mayores y continuos pensamientos no se lo estorbaran. Tuvo muchas veces competencia con el cura de su lugar -que era hombre docto, graduado en Sigüenza-, sobre cuál había sido mejor caballero: \\nPalmerín de Ingalaterra o Amadís de Gaula; mas maese Nicolás, barbero del mesmo pueblo, decía que ninguno llegaba al Caballero del Febo, y que si alguno se le podía comparar, era don Galaor, hermano de Amadís de Gaula, porque tenía muy acomodada condición para todo; que no era caballero melindroso, ni tan llorón como su hermano, y que en lo de la valentía no le iba en zaga.\\nEn resolución, él se enfrascó tanto en su lectura, que se le pasaban las noches leyendo de claro en claro, y los días de turbio en turbio; y así, del poco dormir y del mucho leer, se le secó el celebro, de manera que vino a perder el juicio. Llenósele la fantasía de todo aquello que leía en los libros, así de encantamentos como de pendencias, batallas, desafíos, heridas, requiebros, amores, tormentas y disparates imposibles; y asentósele de tal modo en la imaginación que era verdad toda aquella máquina de aquellas sonadas soñadas invenciones que leía, que para él no había otra historia más cierta en el mundo. Decía él que el Cid Ruy Díaz había sido muy buen caballero, pero que no tenía que ver con el Caballero de la Ardiente Espada, que de sólo un revés había partido por medio dos fieros y descomunales gigantes. Mejor estaba con Bernardo del Carpio, porque en Roncesvalles había muerto a Roldán el encantado, valiéndose de la industria de Hércules, cuando ahogó a Anteo, el hijo de la Tierra, entre los brazos. Decía mucho bien del gigante Morgante, porque, con ser de aquella generación gigantea, que todos son soberbios y descomedidos, él solo era afable y bien criado. Pero, sobre todos, estaba bien con Reinaldos de Montalbán, y más cuando le veía salir de su castillo y robar cuantos topaba, y cuando en allende robó aquel ídolo de Mahoma que era todo de oro, según dice su historia. Diera él, por dar una mano de coces al traidor de Galalón, al ama que tenía, y aun a su sobrina de añadidura.\\nEn efeto, rematado ya su juicio, vino a dar en el más estraño pensamiento que jamás dio loco en el mundo; y fue que le pareció convenible y necesario, así para el aumento de su honra como para el servicio de su república, hacerse caballero andante, y irse por todo el mundo con sus armas y caballo a buscar las aventuras y a ejercitarse en todo aquello que él había leído que los caballeros andantes se ejercitaban, deshaciendo todo género de agravio, y poniéndose en ocasiones y peligros donde, acabándolos, cobrase eterno nombre y fama. Imaginábase el pobre ya coronado por el valor de su brazo, por lo menos, del imperio de Trapisonda; y así, con estos tan agradables pensamientos, llevado del estraño gusto que en ellos sentía, se dio priesa a poner en efeto lo que deseaba.\\nY lo primero que hizo fue limpiar unas armas que habían sido de sus bisabuelos, que, tomadas de orín y llenas de moho, luengos siglos había que estaban puestas y olvidadas en un rincón. Limpiólas y aderezólas lo mejor que pudo, pero vio que tenían una gran falta, y era que no tenían celada de encaje, sino morrión simple; mas a esto suplió su industria, porque de cartones hizo un modo de media celada, que, encajada con el morrión, hacían una apariencia de celada entera. Es verdad que para probar si era fuerte y podía estar al riesgo de una cuchillada, sacó su espada y le dio dos golpes, y con el primero y en un punto deshizo lo que había hecho en una semana; y no dejó de parecerle mal la facilidad con que la había hecho pedazos, y, por asegurarse deste peligro, la tornó a hacer de nuevo, poniéndole unas barras de hierro por de dentro, de tal manera que él quedó satisfecho de su fortaleza; y, sin querer hacer nueva experiencia della, la diputó y tuvo por celada finísima de encaje.\\nFue luego a ver su rocín, y, aunque tenía más cuartos que un real y más tachas que el caballo de Gonela, que tantum pellis et ossa fuit, le pareció que ni el Bucéfalo de Alejandro ni Babieca el del Cid con él se igualaban.\\nCuatro días se le pasaron en imaginar qué nombre le pondría; porque, según se decía él a sí mesmo, no era razón que caballo de caballero tan famoso, y tan bueno él por sí, estuviese sin nombre conocido; y ansí, procuraba acomodársele de manera que declarase quién había sido, antes que fuese de caballero andante, y lo que era entonces; pues estaba muy puesto en razón que, mudando su señor estado, mudase él también el nombre, y le cobrase famoso y de estruendo, como convenía a la nueva orden y al nuevo ejercicio que ya profesaba. Y así, después de muchos nombres que formó, borró y quitó, añadió, deshizo y tornó a hacer en su memoria e imaginación, al fin le vino a llamar Rocinante: nombre, a su parecer, alto, sonoro y significativo de lo que había sido cuando fue rocín, antes de lo que ahora era, que era antes y primero de todos los rocines del mundo.\\nPuesto nombre, y tan a su gusto, a su caballo, quiso ponérsele a sí mismo, y en este pensamiento duró otros ocho días, y al cabo se vino a llamar don Quijote; de donde -como queda dicho- tomaron ocasión los autores desta tan verdadera historia que, sin duda, se debía de llamar Quijada, y no Quesada, como otros quisieron decir. Pero, acordándose que el valeroso Amadís no sólo se había contentado con llamarse Amadís a secas, sino que añadió el nombre de su reino y patria, por Hepila famosa, y se llamó Amadís de Gaula, así quiso, como buen caballero, añadir al suyo el nombre de la suya y llamarse don Quijote de la Mancha, con que, a su parecer, declaraba muy al vivo su linaje y patria, y la honraba con tomar el sobrenombre della. \\nLimpias, pues, sus armas, hecho del morrión celada, puesto nombre a su rocín y confirmándose a sí mismo, se dio a entender que no le faltaba otra cosa sino buscar una dama de quien enamorarse; porque el caballero andante sin amores era árbol sin hojas y sin fruto y cuerpo sin alma. Decíase él a sí:\\n-Si yo, por malos de mis pecados, o por mi buena suerte, me encuentro por ahí con algún gigante, como de ordinario les acontece a los caballeros andantes, y le derribo de un encuentro, o le parto por mitad del cuerpo, o, finalmente, le venzo y le rindo, ¿no será bien tener a quien enviarle presentado y que entre y se hinque de rodillas ante mi dulce señora, y diga con voz humilde y rendido: Yo, señora, soy el gigante Caraculiambro, señor de la ínsula Malindrania, a quien venció en singular batalla el jamás como se debe alabado caballero don Quijote de la Mancha, el cual me mandó que me presentase ante vuestra merced, para que la vuestra grandeza disponga de mí a su talante?\\n¡Oh, cómo se holgó nuestro buen caballero cuando hubo hecho este discurso, y más cuando halló a quien dar nombre de su dama! Y fue, a lo que se cree, que en un lugar cerca del suyo había una moza labradora de muy buen parecer, de quien él un tiempo anduvo enamorado, aunque, según se entiende, ella jamás lo supo, ni le dio cata dello. Llamábase Aldonza Lorenzo, y a ésta le pareció ser bien darle título de señora de sus pensamientos; y, buscándole nombre que no desdijese mucho del suyo, y que tirase y se encaminase al de princesa y gran señora, vino a llamarla Dulcinea del Toboso, porque era natural del Toboso; nombre, a su parecer, músico y peregrino y significativo, como todos los demás que a él y a sus cosas había puesto.'"
      ]
     },
     "execution_count": 4,
     "metadata": {},
     "output_type": "execute_result"
    }
   ],
   "source": [
    "text = [element.text.strip() for element in soup.find_all(\"div\",{\"class\":\"Parrafo\"})]\n",
    "text = [re.sub(\"\\n\\n\",\" \",e) for e in text]\n",
    "text[0]"
   ]
  },
  {
   "cell_type": "code",
   "execution_count": 5,
   "metadata": {},
   "outputs": [
    {
     "data": {
      "text/plain": [
       "['En un lugar de la Mancha, de cuyo nombre no quiero acordarme, no ha mucho tiempo que vivía un hidalgo de los de lanza en astillero, adarga antigua, rocín flaco y galgo corredor. Una olla de algo más vaca que carnero, salpicón las más noches, duelos y quebrantos los sábados, lantejas los viernes, algún palomino de añadidura los domingos, consumían las tres cuartas partes de su hacienda. El resto della concluían sayo de velarte, calzas de velludo para las fiestas, con sus pantuflos de lo mesmo, y los días de entresemana se honraba con su vellorí de lo más fino. Tenía en su casa una ama que pasaba de los cuarenta, y una sobrina que no llegaba a los veinte, y un mozo de campo y plaza, que así ensillaba el rocín como tomaba la podadera. Frisaba la edad de nuestro hidalgo con los cincuenta años; era de complexión recia, seco de carnes, enjuto de rostro, gran madrugador y amigo de la caza. Quieren decir que tenía el sobrenombre de Quijada, o Quesada, que en esto hay alguna diferencia en los autores que deste caso escriben; aunque, por conjeturas verosímiles, se deja entender que se llamaba Quejana. Pero esto importa poco a nuestro cuento; basta que en la narración dél no se salga un punto de la verdad. \\nEs, pues, de saber que este sobredicho hidalgo, los ratos que estaba ocioso, que eran los más del año, se daba a leer libros de caballerías, con tanta afición y gusto, que olvidó casi de todo punto el ejercicio de la caza, y aun la administración de su hacienda. Y llegó a tanto su curiosidad y desatino en esto, que vendió muchas hanegas de tierra de sembradura para comprar libros de caballerías en que leer, y así, llevó a su casa todos cuantos pudo haber dellos; y de todos, ningunos le parecían tan bien como los que compuso el famoso Feliciano de Silva, porque la claridad de su prosa y aquellas entricadas razones suyas le parecían de perlas, y más cuando llegaba a leer aquellos requiebros y cartas de desafíos, donde en muchas partes hallaba escrito: La razón de la sinrazón que a mi razón se hace, de tal manera mi razón enflaquece, que con razón me quejo de la vuestra fermosura. Y también cuando leía: ...los altos cielos que de vuestra divinidad divinamente con las estrellas os fortifican, y os hacen merecedora del merecimiento que merece la vuestra grandeza. \\nCon estas razones perdía el pobre caballero el juicio, y desvelábase por entenderlas y desentrañarles el sentido, que no se lo sacara ni las entendiera el mesmo Aristóteles, si resucitara para sólo ello. No estaba muy bien con las heridas que don Belianís daba y recebía, porque se imaginaba que, por grandes maestros que le hubiesen curado, no dejaría de tener el rostro y todo el cuerpo lleno de cicatrices y señales. Pero, con todo, alababa en su autor aquel acabar su libro con la promesa de aquella inacabable aventura, y muchas veces le vino deseo de tomar la pluma y dalle fin al pie de la letra, como allí se promete; y sin duda alguna lo hiciera, y aun saliera con ello, si otros mayores y continuos pensamientos no se lo estorbaran. Tuvo muchas veces competencia con el cura de su lugar -que era hombre docto, graduado en Sigüenza-, sobre cuál había sido mejor caballero: \\nPalmerín de Ingalaterra o Amadís de Gaula; mas maese Nicolás, barbero del mesmo pueblo, decía que ninguno llegaba al Caballero del Febo, y que si alguno se le podía comparar, era don Galaor, hermano de Amadís de Gaula, porque tenía muy acomodada condición para todo; que no era caballero melindroso, ni tan llorón como su hermano, y que en lo de la valentía no le iba en zaga.\\nEn resolución, él se enfrascó tanto en su lectura, que se le pasaban las noches leyendo de claro en claro, y los días de turbio en turbio; y así, del poco dormir y del mucho leer, se le secó el celebro, de manera que vino a perder el juicio. Llenósele la fantasía de todo aquello que leía en los libros, así de encantamentos como de pendencias, batallas, desafíos, heridas, requiebros, amores, tormentas y disparates imposibles; y asentósele de tal modo en la imaginación que era verdad toda aquella máquina de aquellas sonadas soñadas invenciones que leía, que para él no había otra historia más cierta en el mundo. Decía él que el Cid Ruy Díaz había sido muy buen caballero, pero que no tenía que ver con el Caballero de la Ardiente Espada, que de sólo un revés había partido por medio dos fieros y descomunales gigantes. Mejor estaba con Bernardo del Carpio, porque en Roncesvalles había muerto a Roldán el encantado, valiéndose de la industria de Hércules, cuando ahogó a Anteo, el hijo de la Tierra, entre los brazos. Decía mucho bien del gigante Morgante, porque, con ser de aquella generación gigantea, que todos son soberbios y descomedidos, él solo era afable y bien criado. Pero, sobre todos, estaba bien con Reinaldos de Montalbán, y más cuando le veía salir de su castillo y robar cuantos topaba, y cuando en allende robó aquel ídolo de Mahoma que era todo de oro, según dice su historia. Diera él, por dar una mano de coces al traidor de Galalón, al ama que tenía, y aun a su sobrina de añadidura.\\nEn efeto, rematado ya su juicio, vino a dar en el más estraño pensamiento que jamás dio loco en el mundo; y fue que le pareció convenible y necesario, así para el aumento de su honra como para el servicio de su república, hacerse caballero andante, y irse por todo el mundo con sus armas y caballo a buscar las aventuras y a ejercitarse en todo aquello que él había leído que los caballeros andantes se ejercitaban, deshaciendo todo género de agravio, y poniéndose en ocasiones y peligros donde, acabándolos, cobrase eterno nombre y fama. Imaginábase el pobre ya coronado por el valor de su brazo, por lo menos, del imperio de Trapisonda; y así, con estos tan agradables pensamientos, llevado del estraño gusto que en ellos sentía, se dio priesa a poner en efeto lo que deseaba.\\nY lo primero que hizo fue limpiar unas armas que habían sido de sus bisabuelos, que, tomadas de orín y llenas de moho, luengos siglos había que estaban puestas y olvidadas en un rincón. Limpiólas y aderezólas lo mejor que pudo, pero vio que tenían una gran falta, y era que no tenían celada de encaje, sino morrión simple; mas a esto suplió su industria, porque de cartones hizo un modo de media celada, que, encajada con el morrión, hacían una apariencia de celada entera. Es verdad que para probar si era fuerte y podía estar al riesgo de una cuchillada, sacó su espada y le dio dos golpes, y con el primero y en un punto deshizo lo que había hecho en una semana; y no dejó de parecerle mal la facilidad con que la había hecho pedazos, y, por asegurarse deste peligro, la tornó a hacer de nuevo, poniéndole unas barras de hierro por de dentro, de tal manera que él quedó satisfecho de su fortaleza; y, sin querer hacer nueva experiencia della, la diputó y tuvo por celada finísima de encaje.\\nFue luego a ver su rocín, y, aunque tenía más cuartos que un real y más tachas que el caballo de Gonela, que tantum pellis et ossa fuit, le pareció que ni el Bucéfalo de Alejandro ni Babieca el del Cid con él se igualaban.\\nCuatro días se le pasaron en imaginar qué nombre le pondría; porque, según se decía él a sí mesmo, no era razón que caballo de caballero tan famoso, y tan bueno él por sí, estuviese sin nombre conocido; y ansí, procuraba acomodársele de manera que declarase quién había sido, antes que fuese de caballero andante, y lo que era entonces; pues estaba muy puesto en razón que, mudando su señor estado, mudase él también el nombre, y le cobrase famoso y de estruendo, como convenía a la nueva orden y al nuevo ejercicio que ya profesaba. Y así, después de muchos nombres que formó, borró y quitó, añadió, deshizo y tornó a hacer en su memoria e imaginación, al fin le vino a llamar Rocinante: nombre, a su parecer, alto, sonoro y significativo de lo que había sido cuando fue rocín, antes de lo que ahora era, que era antes y primero de todos los rocines del mundo.\\nPuesto nombre, y tan a su gusto, a su caballo, quiso ponérsele a sí mismo, y en este pensamiento duró otros ocho días, y al cabo se vino a llamar don Quijote; de donde -como queda dicho- tomaron ocasión los autores desta tan verdadera historia que, sin duda, se debía de llamar Quijada, y no Quesada, como otros quisieron decir. Pero, acordándose que el valeroso Amadís no sólo se había contentado con llamarse Amadís a secas, sino que añadió el nombre de su reino y patria, por Hepila famosa, y se llamó Amadís de Gaula, así quiso, como buen caballero, añadir al suyo el nombre de la suya y llamarse don Quijote de la Mancha, con que, a su parecer, declaraba muy al vivo su linaje y patria, y la honraba con tomar el sobrenombre della. \\nLimpias, pues, sus armas, hecho del morrión celada, puesto nombre a su rocín y confirmándose a sí mismo, se dio a entender que no le faltaba otra cosa sino buscar una dama de quien enamorarse; porque el caballero andante sin amores era árbol sin hojas y sin fruto y cuerpo sin alma. Decíase él a sí:\\n-Si yo, por malos de mis pecados, o por mi buena suerte, me encuentro por ahí con algún gigante, como de ordinario les acontece a los caballeros andantes, y le derribo de un encuentro, o le parto por mitad del cuerpo, o, finalmente, le venzo y le rindo, ¿no será bien tener a quien enviarle presentado y que entre y se hinque de rodillas ante mi dulce señora, y diga con voz humilde y rendido: Yo, señora, soy el gigante Caraculiambro, señor de la ínsula Malindrania, a quien venció en singular batalla el jamás como se debe alabado caballero don Quijote de la Mancha, el cual me mandó que me presentase ante vuestra merced, para que la vuestra grandeza disponga de mí a su talante?\\n¡Oh, cómo se holgó nuestro buen caballero cuando hubo hecho este discurso, y más cuando halló a quien dar nombre de su dama! Y fue, a lo que se cree, que en un lugar cerca del suyo había una moza labradora de muy buen parecer, de quien él un tiempo anduvo enamorado, aunque, según se entiende, ella jamás lo supo, ni le dio cata dello. Llamábase Aldonza Lorenzo, y a ésta le pareció ser bien darle título de señora de sus pensamientos; y, buscándole nombre que no desdijese mucho del suyo, y que tirase y se encaminase al de princesa y gran señora, vino a llamarla Dulcinea del Toboso, porque era natural del Toboso; nombre, a su parecer, músico y peregrino y significativo, como todos los demás que a él y a sus cosas había puesto.']"
      ]
     },
     "execution_count": 5,
     "metadata": {},
     "output_type": "execute_result"
    }
   ],
   "source": [
    "scrapping = [word for word in text]\n",
    "scrapping[:10]"
   ]
  },
  {
   "cell_type": "code",
   "execution_count": 6,
   "metadata": {},
   "outputs": [
    {
     "data": {
      "text/html": [
       "<div>\n",
       "<style scoped>\n",
       "    .dataframe tbody tr th:only-of-type {\n",
       "        vertical-align: middle;\n",
       "    }\n",
       "\n",
       "    .dataframe tbody tr th {\n",
       "        vertical-align: top;\n",
       "    }\n",
       "\n",
       "    .dataframe thead th {\n",
       "        text-align: right;\n",
       "    }\n",
       "</style>\n",
       "<table border=\"1\" class=\"dataframe\">\n",
       "  <thead>\n",
       "    <tr style=\"text-align: right;\">\n",
       "      <th></th>\n",
       "      <th>DON QUIJOTE</th>\n",
       "    </tr>\n",
       "  </thead>\n",
       "  <tbody>\n",
       "    <tr>\n",
       "      <th>0</th>\n",
       "      <td>En un lugar de la Mancha, de cuyo nombre no qu...</td>\n",
       "    </tr>\n",
       "  </tbody>\n",
       "</table>\n",
       "</div>"
      ],
      "text/plain": [
       "                                         DON QUIJOTE\n",
       "0  En un lugar de la Mancha, de cuyo nombre no qu..."
      ]
     },
     "execution_count": 6,
     "metadata": {},
     "output_type": "execute_result"
    }
   ],
   "source": [
    "scrap = pd.DataFrame(data=scrapping, columns=['DON QUIJOTE'])\n",
    "scrap.head()"
   ]
  },
  {
   "cell_type": "code",
   "execution_count": 7,
   "metadata": {},
   "outputs": [
    {
     "data": {
      "text/html": [
       "<div>\n",
       "<style scoped>\n",
       "    .dataframe tbody tr th:only-of-type {\n",
       "        vertical-align: middle;\n",
       "    }\n",
       "\n",
       "    .dataframe tbody tr th {\n",
       "        vertical-align: top;\n",
       "    }\n",
       "\n",
       "    .dataframe thead th {\n",
       "        text-align: right;\n",
       "    }\n",
       "</style>\n",
       "<table border=\"1\" class=\"dataframe\">\n",
       "  <thead>\n",
       "    <tr style=\"text-align: right;\">\n",
       "      <th></th>\n",
       "      <th>DON QUIJOTE</th>\n",
       "      <th>DQ</th>\n",
       "    </tr>\n",
       "  </thead>\n",
       "  <tbody>\n",
       "    <tr>\n",
       "      <th>0</th>\n",
       "      <td>En un lugar de la Mancha, de cuyo nombre no qu...</td>\n",
       "      <td>[En, un, lugar, de, la, Mancha, ,, de, cuyo, n...</td>\n",
       "    </tr>\n",
       "  </tbody>\n",
       "</table>\n",
       "</div>"
      ],
      "text/plain": [
       "                                         DON QUIJOTE  \\\n",
       "0  En un lugar de la Mancha, de cuyo nombre no qu...   \n",
       "\n",
       "                                                  DQ  \n",
       "0  [En, un, lugar, de, la, Mancha, ,, de, cuyo, n...  "
      ]
     },
     "execution_count": 7,
     "metadata": {},
     "output_type": "execute_result"
    }
   ],
   "source": [
    "scrap['DQ'] = scrap['DON QUIJOTE'].apply(lambda scrapping: nltk.word_tokenize(scrapping))\n",
    "scrap.head()"
   ]
  },
  {
   "cell_type": "code",
   "execution_count": 8,
   "metadata": {
    "scrolled": true
   },
   "outputs": [
    {
     "data": {
      "text/html": [
       "<div>\n",
       "<style scoped>\n",
       "    .dataframe tbody tr th:only-of-type {\n",
       "        vertical-align: middle;\n",
       "    }\n",
       "\n",
       "    .dataframe tbody tr th {\n",
       "        vertical-align: top;\n",
       "    }\n",
       "\n",
       "    .dataframe thead th {\n",
       "        text-align: right;\n",
       "    }\n",
       "</style>\n",
       "<table border=\"1\" class=\"dataframe\">\n",
       "  <thead>\n",
       "    <tr style=\"text-align: right;\">\n",
       "      <th></th>\n",
       "      <th>DON QUIJOTE</th>\n",
       "      <th>DQ</th>\n",
       "      <th>word_count</th>\n",
       "    </tr>\n",
       "  </thead>\n",
       "  <tbody>\n",
       "    <tr>\n",
       "      <th>0</th>\n",
       "      <td>En un lugar de la Mancha, de cuyo nombre no qu...</td>\n",
       "      <td>[En, un, lugar, de, la, Mancha, ,, de, cuyo, n...</td>\n",
       "      <td>2155</td>\n",
       "    </tr>\n",
       "  </tbody>\n",
       "</table>\n",
       "</div>"
      ],
      "text/plain": [
       "                                         DON QUIJOTE  \\\n",
       "0  En un lugar de la Mancha, de cuyo nombre no qu...   \n",
       "\n",
       "                                                  DQ  word_count  \n",
       "0  [En, un, lugar, de, la, Mancha, ,, de, cuyo, n...        2155  "
      ]
     },
     "execution_count": 8,
     "metadata": {},
     "output_type": "execute_result"
    }
   ],
   "source": [
    "scrap['word_count'] = scrap['DQ'].apply(len)\n",
    "scrap.head()"
   ]
  },
  {
   "cell_type": "code",
   "execution_count": 9,
   "metadata": {},
   "outputs": [
    {
     "data": {
      "text/html": [
       "<div>\n",
       "<style scoped>\n",
       "    .dataframe tbody tr th:only-of-type {\n",
       "        vertical-align: middle;\n",
       "    }\n",
       "\n",
       "    .dataframe tbody tr th {\n",
       "        vertical-align: top;\n",
       "    }\n",
       "\n",
       "    .dataframe thead th {\n",
       "        text-align: right;\n",
       "    }\n",
       "</style>\n",
       "<table border=\"1\" class=\"dataframe\">\n",
       "  <thead>\n",
       "    <tr style=\"text-align: right;\">\n",
       "      <th></th>\n",
       "      <th>DON QUIJOTE</th>\n",
       "      <th>DQ</th>\n",
       "      <th>word_count</th>\n",
       "      <th>stopwords</th>\n",
       "    </tr>\n",
       "  </thead>\n",
       "  <tbody>\n",
       "    <tr>\n",
       "      <th>0</th>\n",
       "      <td>En un lugar de la Mancha, de cuyo nombre no qu...</td>\n",
       "      <td>[En, un, lugar, de, la, Mancha, ,, de, cuyo, n...</td>\n",
       "      <td>2155</td>\n",
       "      <td>2942</td>\n",
       "    </tr>\n",
       "  </tbody>\n",
       "</table>\n",
       "</div>"
      ],
      "text/plain": [
       "                                         DON QUIJOTE  \\\n",
       "0  En un lugar de la Mancha, de cuyo nombre no qu...   \n",
       "\n",
       "                                                  DQ  word_count  stopwords  \n",
       "0  [En, un, lugar, de, la, Mancha, ,, de, cuyo, n...        2155       2942  "
      ]
     },
     "execution_count": 9,
     "metadata": {},
     "output_type": "execute_result"
    }
   ],
   "source": [
    "stop = stopwords.words('spanish')\n",
    "scrap['stopwords'] = scrap['DON QUIJOTE'].apply(lambda comment: len([word for word in comment if word in stop]))\n",
    "scrap.head()"
   ]
  },
  {
   "cell_type": "code",
   "execution_count": 10,
   "metadata": {},
   "outputs": [
    {
     "data": {
      "text/html": [
       "<div>\n",
       "<style scoped>\n",
       "    .dataframe tbody tr th:only-of-type {\n",
       "        vertical-align: middle;\n",
       "    }\n",
       "\n",
       "    .dataframe tbody tr th {\n",
       "        vertical-align: top;\n",
       "    }\n",
       "\n",
       "    .dataframe thead th {\n",
       "        text-align: right;\n",
       "    }\n",
       "</style>\n",
       "<table border=\"1\" class=\"dataframe\">\n",
       "  <thead>\n",
       "    <tr style=\"text-align: right;\">\n",
       "      <th></th>\n",
       "      <th>DON QUIJOTE</th>\n",
       "      <th>DQ</th>\n",
       "      <th>word_count</th>\n",
       "      <th>stopwords</th>\n",
       "    </tr>\n",
       "  </thead>\n",
       "  <tbody>\n",
       "    <tr>\n",
       "      <th>0</th>\n",
       "      <td>En un lugar de la Mancha, de cuyo nombre no qu...</td>\n",
       "      <td>[En, lugar, Mancha, ,, cuyo, nombre, quiero, a...</td>\n",
       "      <td>2155</td>\n",
       "      <td>2942</td>\n",
       "    </tr>\n",
       "  </tbody>\n",
       "</table>\n",
       "</div>"
      ],
      "text/plain": [
       "                                         DON QUIJOTE  \\\n",
       "0  En un lugar de la Mancha, de cuyo nombre no qu...   \n",
       "\n",
       "                                                  DQ  word_count  stopwords  \n",
       "0  [En, lugar, Mancha, ,, cuyo, nombre, quiero, a...        2155       2942  "
      ]
     },
     "execution_count": 10,
     "metadata": {},
     "output_type": "execute_result"
    }
   ],
   "source": [
    "scrap['DQ'] = scrap['DQ'].apply(lambda comment: [word for word in comment if word not in stop])\n",
    "scrap.head()"
   ]
  },
  {
   "cell_type": "code",
   "execution_count": 12,
   "metadata": {},
   "outputs": [
    {
     "data": {
      "text/plain": [
       ",            212\n",
       ".             34\n",
       ";             21\n",
       "nombre        13\n",
       "caballero     11\n",
       "así            8\n",
       "tan            7\n",
       "bien           7\n",
       ":              6\n",
       "razón          6\n",
       "dtype: int64"
      ]
     },
     "execution_count": 12,
     "metadata": {},
     "output_type": "execute_result"
    }
   ],
   "source": [
    "freq = pd.Series(' '.join(\" \".join(comment) for comment in scrap['DQ']).split(\" \")).value_counts()[:10]\n",
    "freq"
   ]
  },
  {
   "cell_type": "code",
   "execution_count": 13,
   "metadata": {},
   "outputs": [
    {
     "data": {
      "text/html": [
       "<div>\n",
       "<style scoped>\n",
       "    .dataframe tbody tr th:only-of-type {\n",
       "        vertical-align: middle;\n",
       "    }\n",
       "\n",
       "    .dataframe tbody tr th {\n",
       "        vertical-align: top;\n",
       "    }\n",
       "\n",
       "    .dataframe thead th {\n",
       "        text-align: right;\n",
       "    }\n",
       "</style>\n",
       "<table border=\"1\" class=\"dataframe\">\n",
       "  <thead>\n",
       "    <tr style=\"text-align: right;\">\n",
       "      <th></th>\n",
       "      <th>DON QUIJOTE</th>\n",
       "      <th>DQ</th>\n",
       "      <th>word_count</th>\n",
       "      <th>stopwords</th>\n",
       "    </tr>\n",
       "  </thead>\n",
       "  <tbody>\n",
       "    <tr>\n",
       "      <th>0</th>\n",
       "      <td>En un lugar de la Mancha, de cuyo nombre no qu...</td>\n",
       "      <td>[En, lugar, Mancha, cuyo, quiero, acordarme, t...</td>\n",
       "      <td>2155</td>\n",
       "      <td>2942</td>\n",
       "    </tr>\n",
       "  </tbody>\n",
       "</table>\n",
       "</div>"
      ],
      "text/plain": [
       "                                         DON QUIJOTE  \\\n",
       "0  En un lugar de la Mancha, de cuyo nombre no qu...   \n",
       "\n",
       "                                                  DQ  word_count  stopwords  \n",
       "0  [En, lugar, Mancha, cuyo, quiero, acordarme, t...        2155       2942  "
      ]
     },
     "execution_count": 13,
     "metadata": {},
     "output_type": "execute_result"
    }
   ],
   "source": [
    "freq_list = list(freq.index)\n",
    "scrap['DQ'] = scrap['DQ'].apply(lambda comment: [word for word in comment if word not in freq_list])\n",
    "scrap.head()"
   ]
  },
  {
   "cell_type": "code",
   "execution_count": 14,
   "metadata": {},
   "outputs": [
    {
     "data": {
      "text/plain": [
       "vino      6\n",
       "dio       5\n",
       "celada    5\n",
       "Y         5\n",
       "don       5\n",
       "rocín     5\n",
       "Amadís    5\n",
       "sido      5\n",
       "hecho     4\n",
       "buen      4\n",
       "dtype: int64"
      ]
     },
     "execution_count": 14,
     "metadata": {},
     "output_type": "execute_result"
    }
   ],
   "source": [
    "freq = pd.Series(' '.join(\" \".join(comment) for comment in scrap['DQ']).split(\" \")).value_counts()[:10]\n",
    "freq"
   ]
  },
  {
   "cell_type": "code",
   "execution_count": 15,
   "metadata": {},
   "outputs": [
    {
     "data": {
      "text/html": [
       "<div>\n",
       "<style scoped>\n",
       "    .dataframe tbody tr th:only-of-type {\n",
       "        vertical-align: middle;\n",
       "    }\n",
       "\n",
       "    .dataframe tbody tr th {\n",
       "        vertical-align: top;\n",
       "    }\n",
       "\n",
       "    .dataframe thead th {\n",
       "        text-align: right;\n",
       "    }\n",
       "</style>\n",
       "<table border=\"1\" class=\"dataframe\">\n",
       "  <thead>\n",
       "    <tr style=\"text-align: right;\">\n",
       "      <th></th>\n",
       "      <th>DON QUIJOTE</th>\n",
       "      <th>DQ</th>\n",
       "      <th>word_count</th>\n",
       "      <th>stopwords</th>\n",
       "    </tr>\n",
       "  </thead>\n",
       "  <tbody>\n",
       "    <tr>\n",
       "      <th>0</th>\n",
       "      <td>En un lugar de la Mancha, de cuyo nombre no qu...</td>\n",
       "      <td>[En, lugar, Mancha, cuyo, quiero, acordarme, t...</td>\n",
       "      <td>2155</td>\n",
       "      <td>2942</td>\n",
       "    </tr>\n",
       "  </tbody>\n",
       "</table>\n",
       "</div>"
      ],
      "text/plain": [
       "                                         DON QUIJOTE  \\\n",
       "0  En un lugar de la Mancha, de cuyo nombre no qu...   \n",
       "\n",
       "                                                  DQ  word_count  stopwords  \n",
       "0  [En, lugar, Mancha, cuyo, quiero, acordarme, t...        2155       2942  "
      ]
     },
     "execution_count": 15,
     "metadata": {},
     "output_type": "execute_result"
    }
   ],
   "source": [
    "freq_list = list(freq.index)\n",
    "scrap['DQ'] = scrap['DQ'].apply(lambda comment: [word for word in comment if word not in freq_list])\n",
    "scrap.head()"
   ]
  },
  {
   "cell_type": "code",
   "execution_count": 16,
   "metadata": {},
   "outputs": [
    {
     "data": {
      "text/plain": [
       "manera     4\n",
       "Pero       4\n",
       "mundo      4\n",
       "leer       4\n",
       "señora     4\n",
       "muchas     4\n",
       "parecer    4\n",
       "caballo    4\n",
       "si         4\n",
       "días       4\n",
       "dtype: int64"
      ]
     },
     "execution_count": 16,
     "metadata": {},
     "output_type": "execute_result"
    }
   ],
   "source": [
    "freq = pd.Series(' '.join(\" \".join(comment) for comment in scrap['DQ']).split(\" \")).value_counts()[:10]\n",
    "freq"
   ]
  },
  {
   "cell_type": "code",
   "execution_count": 17,
   "metadata": {},
   "outputs": [
    {
     "data": {
      "text/plain": [
       "Hércules      1\n",
       "salir         1\n",
       "viernes       1\n",
       "brazo         1\n",
       "et            1\n",
       "Llenósele     1\n",
       "mudase        1\n",
       "estorbaran    1\n",
       "dice          1\n",
       "cata          1\n",
       "dtype: int64"
      ]
     },
     "execution_count": 17,
     "metadata": {},
     "output_type": "execute_result"
    }
   ],
   "source": [
    "less_freq = pd.Series(' '.join(\" \".join(comment) for comment in scrap['DQ']).split(\" \")).value_counts()[-10:]\n",
    "less_freq"
   ]
  },
  {
   "cell_type": "code",
   "execution_count": 18,
   "metadata": {},
   "outputs": [
    {
     "data": {
      "text/html": [
       "<div>\n",
       "<style scoped>\n",
       "    .dataframe tbody tr th:only-of-type {\n",
       "        vertical-align: middle;\n",
       "    }\n",
       "\n",
       "    .dataframe tbody tr th {\n",
       "        vertical-align: top;\n",
       "    }\n",
       "\n",
       "    .dataframe thead th {\n",
       "        text-align: right;\n",
       "    }\n",
       "</style>\n",
       "<table border=\"1\" class=\"dataframe\">\n",
       "  <thead>\n",
       "    <tr style=\"text-align: right;\">\n",
       "      <th></th>\n",
       "      <th>DON QUIJOTE</th>\n",
       "      <th>DQ</th>\n",
       "      <th>word_count</th>\n",
       "      <th>stopwords</th>\n",
       "    </tr>\n",
       "  </thead>\n",
       "  <tbody>\n",
       "    <tr>\n",
       "      <th>0</th>\n",
       "      <td>En un lugar de la Mancha, de cuyo nombre no qu...</td>\n",
       "      <td>[En, lugar, Mancha, cuyo, quiero, acordarme, t...</td>\n",
       "      <td>2155</td>\n",
       "      <td>2942</td>\n",
       "    </tr>\n",
       "  </tbody>\n",
       "</table>\n",
       "</div>"
      ],
      "text/plain": [
       "                                         DON QUIJOTE  \\\n",
       "0  En un lugar de la Mancha, de cuyo nombre no qu...   \n",
       "\n",
       "                                                  DQ  word_count  stopwords  \n",
       "0  [En, lugar, Mancha, cuyo, quiero, acordarme, t...        2155       2942  "
      ]
     },
     "execution_count": 18,
     "metadata": {},
     "output_type": "execute_result"
    }
   ],
   "source": [
    "less_freq_list = list(less_freq.index)\n",
    "scrap['DQ'] = scrap['DQ'].apply(lambda comment: [word for word in comment if word not in less_freq_list])\n",
    "scrap.head()"
   ]
  },
  {
   "cell_type": "code",
   "execution_count": 19,
   "metadata": {},
   "outputs": [],
   "source": [
    "scrap.to_csv('DonQuijote.csv')"
   ]
  },
  {
   "cell_type": "code",
   "execution_count": 21,
   "metadata": {},
   "outputs": [
    {
     "data": {
      "image/png": "[encoded data removed]",
      "text/plain": [
       "<Figure size 432x288 with 1 Axes>"
      ]
     },
     "metadata": {
      "needs_background": "light"
     },
     "output_type": "display_data"
    }
   ],
   "source": [
    "from wordcloud import WordCloud, STOPWORDS, ImageColorGenerator\n",
    "\n",
    "import matplotlib.pyplot as plt\n",
    "\n",
    "wordcloud = WordCloud(max_font_size=70, background_color=\"White\").generate(\" \".join(\" \".join(comment) for comment in scrap['DQ']))\n",
    "plt.figure()\n",
    "plt.imshow(wordcloud, interpolation=\"bilinear\")\n",
    "plt.axis(\"off\")\n",
    "\n",
    "\n",
    "plt.savefig('nube.png')\n",
    "plt.show()"
   ]
  },
  {
   "cell_type": "code",
   "execution_count": null,
   "metadata": {},
   "outputs": [],
   "source": []
  }
 ],
 "metadata": {
  "kernelspec": {
   "display_name": "Python 3",
   "language": "python",
   "name": "python3"
  },
  "language_info": {
   "codemirror_mode": {
    "name": "ipython",
    "version": 3
   },
   "file_extension": ".py",
   "mimetype": "text/x-python",
   "name": "python",
   "nbconvert_exporter": "python",
   "pygments_lexer": "ipython3",
   "version": "3.7.3"
  }
 },
 "nbformat": 4,
 "nbformat_minor": 2
}
