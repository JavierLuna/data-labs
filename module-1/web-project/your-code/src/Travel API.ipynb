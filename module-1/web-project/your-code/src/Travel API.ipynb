{
 "cells": [
  {
   "cell_type": "code",
   "execution_count": 1,
   "metadata": {},
   "outputs": [],
   "source": [
    "import json\n",
    "import requests\n",
    "import os\n",
    "from bs4 import BeautifulSoup\n",
    "import pandas as pd\n",
    "import numpy as np\n",
    "from lxml import html\n",
    "import re"
   ]
  },
  {
   "cell_type": "code",
   "execution_count": 14,
   "metadata": {},
   "outputs": [
    {
     "name": "stdout",
     "output_type": "stream",
     "text": [
      "http://api.openweathermap.org/data/2.5/weather?q=Madrid&units=metric&APPID=ba1936c4224e58eb3472930c52596698\n"
     ]
    }
   ],
   "source": [
    "# Esta es la url utilizada\n",
    "base = 'http://api.openweathermap.org/data/2.5/weather?q='\n",
    "key = '&APPID=ba1936c4224e58eb3472930c52596698'\n",
    "units = '&units=metric'\n",
    "busqueda = 'Madrid'\n",
    "url = base + busqueda + units + key\n",
    "print(url)"
   ]
  },
  {
   "cell_type": "code",
   "execution_count": 3,
   "metadata": {},
   "outputs": [
    {
     "name": "stdout",
     "output_type": "stream",
     "text": [
      "http://api.openweathermap.org/data/2.5/weather?id=3117735&units=metric&APPID=ba1936c4224e58eb3472930c52596698\n"
     ]
    }
   ],
   "source": [
    "# Esta es la url utilizada\n",
    "base = 'http://api.openweathermap.org/data/2.5/weather?id='\n",
    "key = '&APPID=ba1936c4224e58eb3472930c52596698'\n",
    "units = '&units=metric'\n",
    "busqueda = '3117735'\n",
    "url = base + busqueda + units + key\n",
    "print(url)"
   ]
  },
  {
   "cell_type": "code",
   "execution_count": 15,
   "metadata": {},
   "outputs": [
    {
     "data": {
      "text/plain": [
       "{'coord': {'lon': -3.7, 'lat': 40.42},\n",
       " 'weather': [{'id': 800,\n",
       "   'main': 'Clear',\n",
       "   'description': 'clear sky',\n",
       "   'icon': '01d'}],\n",
       " 'base': 'stations',\n",
       " 'main': {'temp': 30.18,\n",
       "  'pressure': 1013,\n",
       "  'humidity': 25,\n",
       "  'temp_min': 27.78,\n",
       "  'temp_max': 32},\n",
       " 'visibility': 10000,\n",
       " 'wind': {'speed': 3.1, 'deg': 250},\n",
       " 'clouds': {'all': 0},\n",
       " 'dt': 1561402593,\n",
       " 'sys': {'type': 1,\n",
       "  'id': 6443,\n",
       "  'message': 0.0077,\n",
       "  'country': 'ES',\n",
       "  'sunrise': 1561351522,\n",
       "  'sunset': 1561405728},\n",
       " 'timezone': 7200,\n",
       " 'id': 3117735,\n",
       " 'name': 'Madrid',\n",
       " 'cod': 200}"
      ]
     },
     "execution_count": 15,
     "metadata": {},
     "output_type": "execute_result"
    }
   ],
   "source": [
    "# Hacemos la primera llamada a la API\n",
    "\n",
    "response = requests.get(url)\n",
    "results = response.json()\n",
    "# results = results['id']\n",
    "results"
   ]
  },
  {
   "cell_type": "code",
   "execution_count": 5,
   "metadata": {},
   "outputs": [
    {
     "data": {
      "text/plain": [
       "dict_keys(['coord', 'weather', 'base', 'main', 'visibility', 'wind', 'clouds', 'dt', 'sys', 'timezone', 'id', 'name', 'cod'])"
      ]
     },
     "execution_count": 5,
     "metadata": {},
     "output_type": "execute_result"
    }
   ],
   "source": [
    "results.keys()"
   ]
  },
  {
   "cell_type": "code",
   "execution_count": 6,
   "metadata": {},
   "outputs": [
    {
     "data": {
      "text/plain": [
       "{'lon': -3.7, 'lat': 40.42}"
      ]
     },
     "execution_count": 6,
     "metadata": {},
     "output_type": "execute_result"
    }
   ],
   "source": [
    "results['coord']"
   ]
  },
  {
   "cell_type": "code",
   "execution_count": 10,
   "metadata": {},
   "outputs": [
    {
     "data": {
      "text/html": [
       "<div>\n",
       "<style scoped>\n",
       "    .dataframe tbody tr th:only-of-type {\n",
       "        vertical-align: middle;\n",
       "    }\n",
       "\n",
       "    .dataframe tbody tr th {\n",
       "        vertical-align: top;\n",
       "    }\n",
       "\n",
       "    .dataframe thead th {\n",
       "        text-align: right;\n",
       "    }\n",
       "</style>\n",
       "<table border=\"1\" class=\"dataframe\">\n",
       "  <thead>\n",
       "    <tr style=\"text-align: right;\">\n",
       "      <th></th>\n",
       "      <th>base</th>\n",
       "      <th>clouds.all</th>\n",
       "      <th>cod</th>\n",
       "      <th>coord.lat</th>\n",
       "      <th>coord.lon</th>\n",
       "      <th>dt</th>\n",
       "      <th>id</th>\n",
       "      <th>main.humidity</th>\n",
       "      <th>main.pressure</th>\n",
       "      <th>main.temp</th>\n",
       "      <th>...</th>\n",
       "      <th>sys.id</th>\n",
       "      <th>sys.message</th>\n",
       "      <th>sys.sunrise</th>\n",
       "      <th>sys.sunset</th>\n",
       "      <th>sys.type</th>\n",
       "      <th>timezone</th>\n",
       "      <th>visibility</th>\n",
       "      <th>weather</th>\n",
       "      <th>wind.deg</th>\n",
       "      <th>wind.speed</th>\n",
       "    </tr>\n",
       "  </thead>\n",
       "  <tbody>\n",
       "    <tr>\n",
       "      <th>0</th>\n",
       "      <td>stations</td>\n",
       "      <td>0</td>\n",
       "      <td>200</td>\n",
       "      <td>40.42</td>\n",
       "      <td>-3.7</td>\n",
       "      <td>1561402352</td>\n",
       "      <td>3117735</td>\n",
       "      <td>25</td>\n",
       "      <td>1013</td>\n",
       "      <td>30.25</td>\n",
       "      <td>...</td>\n",
       "      <td>6443</td>\n",
       "      <td>0.0082</td>\n",
       "      <td>1561351522</td>\n",
       "      <td>1561405728</td>\n",
       "      <td>1</td>\n",
       "      <td>7200</td>\n",
       "      <td>10000</td>\n",
       "      <td>[{'id': 800, 'main': 'Clear', 'description': '...</td>\n",
       "      <td>250</td>\n",
       "      <td>3.1</td>\n",
       "    </tr>\n",
       "  </tbody>\n",
       "</table>\n",
       "<p>1 rows × 24 columns</p>\n",
       "</div>"
      ],
      "text/plain": [
       "       base  clouds.all  cod  coord.lat  coord.lon          dt       id  \\\n",
       "0  stations           0  200      40.42       -3.7  1561402352  3117735   \n",
       "\n",
       "   main.humidity  main.pressure  main.temp  ...  sys.id  sys.message  \\\n",
       "0             25           1013      30.25  ...    6443       0.0082   \n",
       "\n",
       "  sys.sunrise  sys.sunset  sys.type  timezone  visibility  \\\n",
       "0  1561351522  1561405728         1      7200       10000   \n",
       "\n",
       "                                             weather  wind.deg  wind.speed  \n",
       "0  [{'id': 800, 'main': 'Clear', 'description': '...       250         3.1  \n",
       "\n",
       "[1 rows x 24 columns]"
      ]
     },
     "execution_count": 10,
     "metadata": {},
     "output_type": "execute_result"
    }
   ],
   "source": [
    "data = pd.io.json.json_normalize(results)\n",
    "data"
   ]
  },
  {
   "cell_type": "code",
   "execution_count": 11,
   "metadata": {},
   "outputs": [
    {
     "name": "stdout",
     "output_type": "stream",
     "text": [
      "<class 'pandas.core.frame.DataFrame'>\n",
      "RangeIndex: 1 entries, 0 to 0\n",
      "Data columns (total 24 columns):\n",
      "base             1 non-null object\n",
      "clouds.all       1 non-null int64\n",
      "cod              1 non-null int64\n",
      "coord.lat        1 non-null float64\n",
      "coord.lon        1 non-null float64\n",
      "dt               1 non-null int64\n",
      "id               1 non-null int64\n",
      "main.humidity    1 non-null int64\n",
      "main.pressure    1 non-null int64\n",
      "main.temp        1 non-null float64\n",
      "main.temp_max    1 non-null int64\n",
      "main.temp_min    1 non-null float64\n",
      "name             1 non-null object\n",
      "sys.country      1 non-null object\n",
      "sys.id           1 non-null int64\n",
      "sys.message      1 non-null float64\n",
      "sys.sunrise      1 non-null int64\n",
      "sys.sunset       1 non-null int64\n",
      "sys.type         1 non-null int64\n",
      "timezone         1 non-null int64\n",
      "visibility       1 non-null int64\n",
      "weather          1 non-null object\n",
      "wind.deg         1 non-null int64\n",
      "wind.speed       1 non-null float64\n",
      "dtypes: float64(6), int64(14), object(4)\n",
      "memory usage: 272.0+ bytes\n"
     ]
    }
   ],
   "source": [
    "data.info()"
   ]
  },
  {
   "cell_type": "code",
   "execution_count": 13,
   "metadata": {},
   "outputs": [
    {
     "data": {
      "text/plain": [
       "0    30.25\n",
       "Name: main.temp, dtype: float64"
      ]
     },
     "execution_count": 13,
     "metadata": {},
     "output_type": "execute_result"
    }
   ],
   "source": [
    "data['main.temp']"
   ]
  },
  {
   "cell_type": "code",
   "execution_count": 16,
   "metadata": {},
   "outputs": [
    {
     "data": {
      "text/html": [
       "<div>\n",
       "<style scoped>\n",
       "    .dataframe tbody tr th:only-of-type {\n",
       "        vertical-align: middle;\n",
       "    }\n",
       "\n",
       "    .dataframe tbody tr th {\n",
       "        vertical-align: top;\n",
       "    }\n",
       "\n",
       "    .dataframe thead th {\n",
       "        text-align: right;\n",
       "    }\n",
       "</style>\n",
       "<table border=\"1\" class=\"dataframe\">\n",
       "  <thead>\n",
       "    <tr style=\"text-align: right;\">\n",
       "      <th></th>\n",
       "      <th>base</th>\n",
       "      <th>clouds.all</th>\n",
       "      <th>cod</th>\n",
       "      <th>coord.lat</th>\n",
       "      <th>coord.lon</th>\n",
       "      <th>dt</th>\n",
       "      <th>id</th>\n",
       "      <th>main.humidity</th>\n",
       "      <th>main.pressure</th>\n",
       "      <th>main.temp</th>\n",
       "      <th>...</th>\n",
       "      <th>sys.id</th>\n",
       "      <th>sys.message</th>\n",
       "      <th>sys.sunrise</th>\n",
       "      <th>sys.sunset</th>\n",
       "      <th>sys.type</th>\n",
       "      <th>timezone</th>\n",
       "      <th>visibility</th>\n",
       "      <th>weather</th>\n",
       "      <th>wind.deg</th>\n",
       "      <th>wind.speed</th>\n",
       "    </tr>\n",
       "  </thead>\n",
       "  <tbody>\n",
       "    <tr>\n",
       "      <th>0</th>\n",
       "      <td>stations</td>\n",
       "      <td>0</td>\n",
       "      <td>200</td>\n",
       "      <td>40.42</td>\n",
       "      <td>-3.7</td>\n",
       "      <td>1561402352</td>\n",
       "      <td>3117735</td>\n",
       "      <td>25</td>\n",
       "      <td>1013</td>\n",
       "      <td>30.25</td>\n",
       "      <td>...</td>\n",
       "      <td>6443</td>\n",
       "      <td>0.0082</td>\n",
       "      <td>1561351522</td>\n",
       "      <td>1561405728</td>\n",
       "      <td>1</td>\n",
       "      <td>7200</td>\n",
       "      <td>10000</td>\n",
       "      <td>[{'id': 800, 'main': 'Clear', 'description': '...</td>\n",
       "      <td>250</td>\n",
       "      <td>3.1</td>\n",
       "    </tr>\n",
       "  </tbody>\n",
       "</table>\n",
       "<p>1 rows × 24 columns</p>\n",
       "</div>"
      ],
      "text/plain": [
       "       base  clouds.all  cod  coord.lat  coord.lon          dt       id  \\\n",
       "0  stations           0  200      40.42       -3.7  1561402352  3117735   \n",
       "\n",
       "   main.humidity  main.pressure  main.temp  ...  sys.id  sys.message  \\\n",
       "0             25           1013      30.25  ...    6443       0.0082   \n",
       "\n",
       "  sys.sunrise  sys.sunset  sys.type  timezone  visibility  \\\n",
       "0  1561351522  1561405728         1      7200       10000   \n",
       "\n",
       "                                             weather  wind.deg  wind.speed  \n",
       "0  [{'id': 800, 'main': 'Clear', 'description': '...       250         3.1  \n",
       "\n",
       "[1 rows x 24 columns]"
      ]
     },
     "execution_count": 16,
     "metadata": {},
     "output_type": "execute_result"
    }
   ],
   "source": [
    "data"
   ]
  },
  {
   "cell_type": "code",
   "execution_count": 17,
   "metadata": {},
   "outputs": [
    {
     "data": {
      "text/plain": [
       "0    [{'id': 800, 'main': 'Clear', 'description': '...\n",
       "Name: weather, dtype: object"
      ]
     },
     "execution_count": 17,
     "metadata": {},
     "output_type": "execute_result"
    }
   ],
   "source": [
    "data['weather']"
   ]
  },
  {
   "cell_type": "code",
   "execution_count": null,
   "metadata": {},
   "outputs": [],
   "source": []
  }
 ],
 "metadata": {
  "kernelspec": {
   "display_name": "Python 3",
   "language": "python",
   "name": "python3"
  },
  "language_info": {
   "codemirror_mode": {
    "name": "ipython",
    "version": 3
   },
   "file_extension": ".py",
   "mimetype": "text/x-python",
   "name": "python",
   "nbconvert_exporter": "python",
   "pygments_lexer": "ipython3",
   "version": "3.7.3"
  }
 },
 "nbformat": 4,
 "nbformat_minor": 2
}
