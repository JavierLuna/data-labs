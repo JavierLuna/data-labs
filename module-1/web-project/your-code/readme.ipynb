{
 "cells": [
  {
   "cell_type": "markdown",
   "metadata": {},
   "source": [
    "# Informar y el derecho de sumario"
   ]
  },
  {
   "cell_type": "markdown",
   "metadata": {
    "slideshow": {
     "slide_type": "notes"
    }
   },
   "source": [
    "Lamentablemente, los crímenes forman parte de la historia de la humanidad. A lo largo de los años, se hace eco de homicidios y otras actividades delictivas.\n",
    "\n",
    "Algunos crímenes reciben el sensacionalismo de la prensa y otros ni han recibido más de una columna. El tratamiento de la prensa ha jugado a favor y en contra de las investigaciones.\n",
    "\n",
    "Ello ha ocasionado que en algunas investigaciones se declare el derecho de Sumario, lo que se refiere a que las diligencias practicadas en la investigación sólo pueden ser conocidas por las partes que se encuentren personadas en la causa, lo que supone que nadie, a excepción de las mencionadas, puede conocer su contenido.\n",
    "\n",
    "Se ha seleccionado la API de la policía de Reino Unido para compararlo con alguna publicación sobre el crimen; de fácil manejo mediante sus palabras claves, se logran obtener los datos de los crímenes del mes de abril de 2019.\n",
    "\n",
    "\n",
    "Con los datos de localización del crimen, ubicamos un portal de noticias de lugar, en su sección de crímenes, seleccionamos una de las notas para analizar el texto.\n",
    "\n",
    "Tras realizar el tratamiento y la limpieza de datos, procedemos a aplicar las herramientas para analizar el contenido de las columnas que nos interesa."
   ]
  },
  {
   "attachments": {},
   "cell_type": "markdown",
   "metadata": {},
   "source": [
    "En la cobertura de un hecho delictivo, destaca la protección a la víctima; si bien, se proporcionan detalles como sexo y edad, se resguarda la identidad de la persona.\n",
    "\n",
    "Aunque proporcionan algunos datos del suceso, se superditan a las declaraciones oficiales del cuerpo de seguridad y se facilitan canales al lector para mayor información a la investigación del hecho delictivo.\n",
    "\n"
   ]
  }
 ],
 "metadata": {
  "kernelspec": {
   "display_name": "Python 3",
   "language": "python",
   "name": "python3"
  },
  "language_info": {
   "codemirror_mode": {
    "name": "ipython",
    "version": 3
   },
   "file_extension": ".py",
   "mimetype": "text/x-python",
   "name": "python",
   "nbconvert_exporter": "python",
   "pygments_lexer": "ipython3",
   "version": "3.7.2"
  }
 },
 "nbformat": 4,
 "nbformat_minor": 2
}
