{
 "cells": [
  {
   "cell_type": "code",
   "execution_count": 55,
   "metadata": {},
   "outputs": [],
   "source": [
    "import requests\n",
    "import re\n",
    "from bs4 import BeautifulSoup\n",
    "from pprint import pprint\n",
    "import pandas as pd\n",
    "import numpy as np\n",
    "import nltk\n",
    "from textblob import TextBlob"
   ]
  },
  {
   "cell_type": "code",
   "execution_count": 2,
   "metadata": {},
   "outputs": [],
   "source": [
    "url1 = 'https://www.upsocl.com/cat/comunidad/'\n",
    "url2 = 'https://www.upsocl.com/'\n",
    "url3 = 'https://www.upsocl.com/sabores/'"
   ]
  },
  {
   "cell_type": "code",
   "execution_count": 3,
   "metadata": {
    "scrolled": false
   },
   "outputs": [],
   "source": [
    "response = requests.get(url1)\n",
    "soup = BeautifulSoup(response.text,\"html.parser\")\n",
    "titulares_comunidad = soup.find(\"div\", {'class': 'hfeed'})\n",
    "titular_comunidad = titulares_comunidad.find_all(\"h2\", {'class':'entry-title'})\n",
    "titular_comunidad = [titulo.text for titulo in titular_comunidad]\n",
    "\n",
    "\n",
    "response = requests.get(url2)\n",
    "soup = BeautifulSoup(response.text,\"html.parser\")\n",
    "portada_container = soup.find(\"div\", {'id': 'container'})\n",
    "portadas = portada_container.find_all(\"h2\", {'class':'entry-title'})\n",
    "portadas = [portada.text for portada in portadas]\n",
    "\n",
    "\n",
    "response = requests.get(url3)\n",
    "soup = BeautifulSoup(response.text,\"html.parser\")\n",
    "titulares_sabores = soup.find(\"div\", {'class': 'hfeed'})\n",
    "titular_sabores = titulares_sabores.find_all(\"h2\", {'class':'entry-title'})\n",
    "titular_sabores = [titulo.text for titulo in titular_sabores]\n",
    "\n"
   ]
  },
  {
   "cell_type": "code",
   "execution_count": 4,
   "metadata": {},
   "outputs": [
    {
     "name": "stdout",
     "output_type": "stream",
     "text": [
      "['¿Cuánto se conocen madre e hija?', 'Sólo puede haber un ganador.', 'Nadie dijo que sería fácil…', 'Ya no querrás verlos. 16 caricaturas de tu infancia transformadas en terroríficos monstruos', 'Profesor enseña matemáticas al ritmo del rap. Estudiantes cantaron y bailaron con los tipos de ángulos', '30 esculturas tan perfectas que llegan a dar miedo. No, no es una mujer real', 'Pollo al limón con salsa de palta', 'Panes rellenos como fajitas', 'Prueba los deliciosos rolls de jamón y queso', 'Revelan detalles de la 2da temporada de «You». Estará centrada en el oscuro pasado del lunático Joe']\n"
     ]
    }
   ],
   "source": [
    "scrapping = portadas + titular_comunidad + titular_sabores\n",
    "print(scrapping[0:10])"
   ]
  },
  {
   "cell_type": "code",
   "execution_count": 5,
   "metadata": {},
   "outputs": [
    {
     "data": {
      "text/html": [
       "<div>\n",
       "<style scoped>\n",
       "    .dataframe tbody tr th:only-of-type {\n",
       "        vertical-align: middle;\n",
       "    }\n",
       "\n",
       "    .dataframe tbody tr th {\n",
       "        vertical-align: top;\n",
       "    }\n",
       "\n",
       "    .dataframe thead th {\n",
       "        text-align: right;\n",
       "    }\n",
       "</style>\n",
       "<table border=\"1\" class=\"dataframe\">\n",
       "  <thead>\n",
       "    <tr style=\"text-align: right;\">\n",
       "      <th></th>\n",
       "      <th>Titulares</th>\n",
       "    </tr>\n",
       "  </thead>\n",
       "  <tbody>\n",
       "    <tr>\n",
       "      <th>0</th>\n",
       "      <td>¿Cuánto se conocen madre e hija?</td>\n",
       "    </tr>\n",
       "    <tr>\n",
       "      <th>1</th>\n",
       "      <td>Sólo puede haber un ganador.</td>\n",
       "    </tr>\n",
       "    <tr>\n",
       "      <th>2</th>\n",
       "      <td>Nadie dijo que sería fácil…</td>\n",
       "    </tr>\n",
       "    <tr>\n",
       "      <th>3</th>\n",
       "      <td>Ya no querrás verlos. 16 caricaturas de tu inf...</td>\n",
       "    </tr>\n",
       "    <tr>\n",
       "      <th>4</th>\n",
       "      <td>Profesor enseña matemáticas al ritmo del rap. ...</td>\n",
       "    </tr>\n",
       "    <tr>\n",
       "      <th>5</th>\n",
       "      <td>30 esculturas tan perfectas que llegan a dar m...</td>\n",
       "    </tr>\n",
       "    <tr>\n",
       "      <th>6</th>\n",
       "      <td>Pollo al limón con salsa de palta</td>\n",
       "    </tr>\n",
       "    <tr>\n",
       "      <th>7</th>\n",
       "      <td>Panes rellenos como fajitas</td>\n",
       "    </tr>\n",
       "    <tr>\n",
       "      <th>8</th>\n",
       "      <td>Prueba los deliciosos rolls de jamón y queso</td>\n",
       "    </tr>\n",
       "    <tr>\n",
       "      <th>9</th>\n",
       "      <td>Revelan detalles de la 2da temporada de «You»....</td>\n",
       "    </tr>\n",
       "  </tbody>\n",
       "</table>\n",
       "</div>"
      ],
      "text/plain": [
       "                                           Titulares\n",
       "0                   ¿Cuánto se conocen madre e hija?\n",
       "1                       Sólo puede haber un ganador.\n",
       "2                        Nadie dijo que sería fácil…\n",
       "3  Ya no querrás verlos. 16 caricaturas de tu inf...\n",
       "4  Profesor enseña matemáticas al ritmo del rap. ...\n",
       "5  30 esculturas tan perfectas que llegan a dar m...\n",
       "6                  Pollo al limón con salsa de palta\n",
       "7                        Panes rellenos como fajitas\n",
       "8       Prueba los deliciosos rolls de jamón y queso\n",
       "9  Revelan detalles de la 2da temporada de «You»...."
      ]
     },
     "execution_count": 5,
     "metadata": {},
     "output_type": "execute_result"
    }
   ],
   "source": [
    "scrap = pd.DataFrame(data=scrapping, columns=['Titulares'])\n",
    "scrap.head(10)"
   ]
  },
  {
   "cell_type": "code",
   "execution_count": 6,
   "metadata": {},
   "outputs": [
    {
     "data": {
      "text/html": [
       "<div>\n",
       "<style scoped>\n",
       "    .dataframe tbody tr th:only-of-type {\n",
       "        vertical-align: middle;\n",
       "    }\n",
       "\n",
       "    .dataframe tbody tr th {\n",
       "        vertical-align: top;\n",
       "    }\n",
       "\n",
       "    .dataframe thead th {\n",
       "        text-align: right;\n",
       "    }\n",
       "</style>\n",
       "<table border=\"1\" class=\"dataframe\">\n",
       "  <thead>\n",
       "    <tr style=\"text-align: right;\">\n",
       "      <th></th>\n",
       "      <th>index</th>\n",
       "      <th>id</th>\n",
       "      <th>titles</th>\n",
       "      <th>clickbait</th>\n",
       "    </tr>\n",
       "  </thead>\n",
       "  <tbody>\n",
       "    <tr>\n",
       "      <th>0</th>\n",
       "      <td>6574</td>\n",
       "      <td>6575</td>\n",
       "      <td>25 Things We Learned From Julia Louis-Dreyfus ...</td>\n",
       "      <td>1</td>\n",
       "    </tr>\n",
       "    <tr>\n",
       "      <th>1</th>\n",
       "      <td>39655</td>\n",
       "      <td>39656</td>\n",
       "      <td>John Brennan: Trump's 'Nazi Germany' tweet to ...</td>\n",
       "      <td>0</td>\n",
       "    </tr>\n",
       "    <tr>\n",
       "      <th>2</th>\n",
       "      <td>44513</td>\n",
       "      <td>44514</td>\n",
       "      <td>TruthRevolt.org: ISIS Stands For \"Israeli Secr...</td>\n",
       "      <td>0</td>\n",
       "    </tr>\n",
       "    <tr>\n",
       "      <th>3</th>\n",
       "      <td>44205</td>\n",
       "      <td>44206</td>\n",
       "      <td>Peak Millennial? Cities Cant Assume a Continue...</td>\n",
       "      <td>0</td>\n",
       "    </tr>\n",
       "    <tr>\n",
       "      <th>4</th>\n",
       "      <td>11106</td>\n",
       "      <td>11107</td>\n",
       "      <td>This Entire City Is Made Out Of Ice And It Wil...</td>\n",
       "      <td>1</td>\n",
       "    </tr>\n",
       "  </tbody>\n",
       "</table>\n",
       "</div>"
      ],
      "text/plain": [
       "   index     id                                             titles  clickbait\n",
       "0   6574   6575  25 Things We Learned From Julia Louis-Dreyfus ...          1\n",
       "1  39655  39656  John Brennan: Trump's 'Nazi Germany' tweet to ...          0\n",
       "2  44513  44514  TruthRevolt.org: ISIS Stands For \"Israeli Secr...          0\n",
       "3  44205  44206  Peak Millennial? Cities Cant Assume a Continue...          0\n",
       "4  11106  11107  This Entire City Is Made Out Of Ice And It Wil...          1"
      ]
     },
     "execution_count": 6,
     "metadata": {},
     "output_type": "execute_result"
    }
   ],
   "source": [
    "dfkaggle = pd.read_csv('./clickBait_Data.csv')\n",
    "dfkaggle.head(5)"
   ]
  },
  {
   "cell_type": "code",
   "execution_count": 7,
   "metadata": {},
   "outputs": [],
   "source": [
    "dfkaggle = dfkaggle.drop(columns =['index','id','clickbait'])"
   ]
  },
  {
   "cell_type": "code",
   "execution_count": 8,
   "metadata": {},
   "outputs": [
    {
     "data": {
      "text/html": [
       "<div>\n",
       "<style scoped>\n",
       "    .dataframe tbody tr th:only-of-type {\n",
       "        vertical-align: middle;\n",
       "    }\n",
       "\n",
       "    .dataframe tbody tr th {\n",
       "        vertical-align: top;\n",
       "    }\n",
       "\n",
       "    .dataframe thead th {\n",
       "        text-align: right;\n",
       "    }\n",
       "</style>\n",
       "<table border=\"1\" class=\"dataframe\">\n",
       "  <thead>\n",
       "    <tr style=\"text-align: right;\">\n",
       "      <th></th>\n",
       "      <th>titles</th>\n",
       "    </tr>\n",
       "  </thead>\n",
       "  <tbody>\n",
       "    <tr>\n",
       "      <th>0</th>\n",
       "      <td>25 Things We Learned From Julia Louis-Dreyfus ...</td>\n",
       "    </tr>\n",
       "    <tr>\n",
       "      <th>1</th>\n",
       "      <td>John Brennan: Trump's 'Nazi Germany' tweet to ...</td>\n",
       "    </tr>\n",
       "    <tr>\n",
       "      <th>2</th>\n",
       "      <td>TruthRevolt.org: ISIS Stands For \"Israeli Secr...</td>\n",
       "    </tr>\n",
       "    <tr>\n",
       "      <th>3</th>\n",
       "      <td>Peak Millennial? Cities Cant Assume a Continue...</td>\n",
       "    </tr>\n",
       "    <tr>\n",
       "      <th>4</th>\n",
       "      <td>This Entire City Is Made Out Of Ice And It Wil...</td>\n",
       "    </tr>\n",
       "  </tbody>\n",
       "</table>\n",
       "</div>"
      ],
      "text/plain": [
       "                                              titles\n",
       "0  25 Things We Learned From Julia Louis-Dreyfus ...\n",
       "1  John Brennan: Trump's 'Nazi Germany' tweet to ...\n",
       "2  TruthRevolt.org: ISIS Stands For \"Israeli Secr...\n",
       "3  Peak Millennial? Cities Cant Assume a Continue...\n",
       "4  This Entire City Is Made Out Of Ice And It Wil..."
      ]
     },
     "execution_count": 8,
     "metadata": {},
     "output_type": "execute_result"
    }
   ],
   "source": [
    "dfkaggle.head(5)"
   ]
  },
  {
   "cell_type": "code",
   "execution_count": 9,
   "metadata": {},
   "outputs": [],
   "source": [
    "from googletrans import Translator\n",
    "\n",
    "def translate_es(sentence):\n",
    "    try:\n",
    "        translator= Translator()\n",
    "        translation = translator.translate(sentence, dest='es')\n",
    "        return translation.text\n",
    "    except:\n",
    "        return print('Se ha llegado al limite')\n",
    "    \n",
    "\n",
    "#traduccion = translate_es('Hello my name is Marina')\n",
    "#print(traduccion)"
   ]
  },
  {
   "cell_type": "code",
   "execution_count": 10,
   "metadata": {},
   "outputs": [],
   "source": [
    "dfkaggle2 = dfkaggle.iloc[0:200]"
   ]
  },
  {
   "cell_type": "code",
   "execution_count": 11,
   "metadata": {},
   "outputs": [
    {
     "data": {
      "text/plain": [
       "(200, 1)"
      ]
     },
     "execution_count": 11,
     "metadata": {},
     "output_type": "execute_result"
    }
   ],
   "source": [
    "dfkaggle2.shape"
   ]
  },
  {
   "cell_type": "code",
   "execution_count": 12,
   "metadata": {},
   "outputs": [],
   "source": [
    "#Danger!!!! lleva un tiempo usarlo y tiene un límite\n",
    "#dfkaggle2['spanish'] = dfkaggle2['titles'].apply(translate_es)"
   ]
  },
  {
   "cell_type": "code",
   "execution_count": 13,
   "metadata": {},
   "outputs": [
    {
     "data": {
      "text/html": [
       "<div>\n",
       "<style scoped>\n",
       "    .dataframe tbody tr th:only-of-type {\n",
       "        vertical-align: middle;\n",
       "    }\n",
       "\n",
       "    .dataframe tbody tr th {\n",
       "        vertical-align: top;\n",
       "    }\n",
       "\n",
       "    .dataframe thead th {\n",
       "        text-align: right;\n",
       "    }\n",
       "</style>\n",
       "<table border=\"1\" class=\"dataframe\">\n",
       "  <thead>\n",
       "    <tr style=\"text-align: right;\">\n",
       "      <th></th>\n",
       "      <th>titles</th>\n",
       "    </tr>\n",
       "  </thead>\n",
       "  <tbody>\n",
       "    <tr>\n",
       "      <th>0</th>\n",
       "      <td>25 Things We Learned From Julia Louis-Dreyfus ...</td>\n",
       "    </tr>\n",
       "    <tr>\n",
       "      <th>1</th>\n",
       "      <td>John Brennan: Trump's 'Nazi Germany' tweet to ...</td>\n",
       "    </tr>\n",
       "    <tr>\n",
       "      <th>2</th>\n",
       "      <td>TruthRevolt.org: ISIS Stands For \"Israeli Secr...</td>\n",
       "    </tr>\n",
       "    <tr>\n",
       "      <th>3</th>\n",
       "      <td>Peak Millennial? Cities Cant Assume a Continue...</td>\n",
       "    </tr>\n",
       "    <tr>\n",
       "      <th>4</th>\n",
       "      <td>This Entire City Is Made Out Of Ice And It Wil...</td>\n",
       "    </tr>\n",
       "  </tbody>\n",
       "</table>\n",
       "</div>"
      ],
      "text/plain": [
       "                                              titles\n",
       "0  25 Things We Learned From Julia Louis-Dreyfus ...\n",
       "1  John Brennan: Trump's 'Nazi Germany' tweet to ...\n",
       "2  TruthRevolt.org: ISIS Stands For \"Israeli Secr...\n",
       "3  Peak Millennial? Cities Cant Assume a Continue...\n",
       "4  This Entire City Is Made Out Of Ice And It Wil..."
      ]
     },
     "execution_count": 13,
     "metadata": {},
     "output_type": "execute_result"
    }
   ],
   "source": [
    "dfkaggle2.head(5)"
   ]
  },
  {
   "cell_type": "code",
   "execution_count": 14,
   "metadata": {},
   "outputs": [],
   "source": [
    "dfkaggle_es = dfkaggle2"
   ]
  },
  {
   "cell_type": "code",
   "execution_count": 15,
   "metadata": {},
   "outputs": [],
   "source": [
    "dfkaggle_es = dfkaggle_es.drop(columns =['titles'])"
   ]
  },
  {
   "cell_type": "code",
   "execution_count": 16,
   "metadata": {},
   "outputs": [
    {
     "data": {
      "text/html": [
       "<div>\n",
       "<style scoped>\n",
       "    .dataframe tbody tr th:only-of-type {\n",
       "        vertical-align: middle;\n",
       "    }\n",
       "\n",
       "    .dataframe tbody tr th {\n",
       "        vertical-align: top;\n",
       "    }\n",
       "\n",
       "    .dataframe thead th {\n",
       "        text-align: right;\n",
       "    }\n",
       "</style>\n",
       "<table border=\"1\" class=\"dataframe\">\n",
       "  <thead>\n",
       "    <tr style=\"text-align: right;\">\n",
       "      <th></th>\n",
       "    </tr>\n",
       "  </thead>\n",
       "  <tbody>\n",
       "    <tr>\n",
       "      <th>0</th>\n",
       "    </tr>\n",
       "    <tr>\n",
       "      <th>1</th>\n",
       "    </tr>\n",
       "    <tr>\n",
       "      <th>2</th>\n",
       "    </tr>\n",
       "    <tr>\n",
       "      <th>3</th>\n",
       "    </tr>\n",
       "    <tr>\n",
       "      <th>4</th>\n",
       "    </tr>\n",
       "  </tbody>\n",
       "</table>\n",
       "</div>"
      ],
      "text/plain": [
       "Empty DataFrame\n",
       "Columns: []\n",
       "Index: [0, 1, 2, 3, 4]"
      ]
     },
     "execution_count": 16,
     "metadata": {},
     "output_type": "execute_result"
    }
   ],
   "source": [
    "dfkaggle_es.head(5)"
   ]
  },
  {
   "cell_type": "code",
   "execution_count": 17,
   "metadata": {},
   "outputs": [],
   "source": [
    "dfkaggle_es.to_csv(r'kaggle_traducido2.csv')"
   ]
  },
  {
   "cell_type": "code",
   "execution_count": 18,
   "metadata": {},
   "outputs": [],
   "source": [
    "#Usar esto en caso de emergencia!!! Limite de traducciones alcanzado\n",
    "dfkaggle_es = pd.read_csv('kaggle_traducido.csv')"
   ]
  },
  {
   "cell_type": "code",
   "execution_count": 19,
   "metadata": {},
   "outputs": [],
   "source": [
    "dfkaggle_es = dfkaggle_es.rename(columns = {'spanish':'Titulares'})"
   ]
  },
  {
   "cell_type": "code",
   "execution_count": 20,
   "metadata": {},
   "outputs": [],
   "source": [
    "clickbait = pd.concat([scrap,dfkaggle_es],sort=False)"
   ]
  },
  {
   "cell_type": "code",
   "execution_count": 21,
   "metadata": {},
   "outputs": [
    {
     "data": {
      "text/html": [
       "<div>\n",
       "<style scoped>\n",
       "    .dataframe tbody tr th:only-of-type {\n",
       "        vertical-align: middle;\n",
       "    }\n",
       "\n",
       "    .dataframe tbody tr th {\n",
       "        vertical-align: top;\n",
       "    }\n",
       "\n",
       "    .dataframe thead th {\n",
       "        text-align: right;\n",
       "    }\n",
       "</style>\n",
       "<table border=\"1\" class=\"dataframe\">\n",
       "  <thead>\n",
       "    <tr style=\"text-align: right;\">\n",
       "      <th></th>\n",
       "      <th>Titulares</th>\n",
       "      <th>Unnamed: 0</th>\n",
       "    </tr>\n",
       "  </thead>\n",
       "  <tbody>\n",
       "    <tr>\n",
       "      <th>0</th>\n",
       "      <td>¿Cuánto se conocen madre e hija?</td>\n",
       "      <td>NaN</td>\n",
       "    </tr>\n",
       "    <tr>\n",
       "      <th>1</th>\n",
       "      <td>Sólo puede haber un ganador.</td>\n",
       "      <td>NaN</td>\n",
       "    </tr>\n",
       "    <tr>\n",
       "      <th>2</th>\n",
       "      <td>Nadie dijo que sería fácil…</td>\n",
       "      <td>NaN</td>\n",
       "    </tr>\n",
       "    <tr>\n",
       "      <th>3</th>\n",
       "      <td>Ya no querrás verlos. 16 caricaturas de tu inf...</td>\n",
       "      <td>NaN</td>\n",
       "    </tr>\n",
       "    <tr>\n",
       "      <th>4</th>\n",
       "      <td>Profesor enseña matemáticas al ritmo del rap. ...</td>\n",
       "      <td>NaN</td>\n",
       "    </tr>\n",
       "  </tbody>\n",
       "</table>\n",
       "</div>"
      ],
      "text/plain": [
       "                                           Titulares  Unnamed: 0\n",
       "0                   ¿Cuánto se conocen madre e hija?         NaN\n",
       "1                       Sólo puede haber un ganador.         NaN\n",
       "2                        Nadie dijo que sería fácil…         NaN\n",
       "3  Ya no querrás verlos. 16 caricaturas de tu inf...         NaN\n",
       "4  Profesor enseña matemáticas al ritmo del rap. ...         NaN"
      ]
     },
     "execution_count": 21,
     "metadata": {},
     "output_type": "execute_result"
    }
   ],
   "source": [
    "clickbait.head(5)"
   ]
  },
  {
   "cell_type": "code",
   "execution_count": 22,
   "metadata": {},
   "outputs": [
    {
     "data": {
      "text/html": [
       "<div>\n",
       "<style scoped>\n",
       "    .dataframe tbody tr th:only-of-type {\n",
       "        vertical-align: middle;\n",
       "    }\n",
       "\n",
       "    .dataframe tbody tr th {\n",
       "        vertical-align: top;\n",
       "    }\n",
       "\n",
       "    .dataframe thead th {\n",
       "        text-align: right;\n",
       "    }\n",
       "</style>\n",
       "<table border=\"1\" class=\"dataframe\">\n",
       "  <thead>\n",
       "    <tr style=\"text-align: right;\">\n",
       "      <th></th>\n",
       "      <th>Titulares</th>\n",
       "      <th>Unnamed: 0</th>\n",
       "    </tr>\n",
       "  </thead>\n",
       "  <tbody>\n",
       "    <tr>\n",
       "      <th>0</th>\n",
       "      <td>Cuánto se conocen madre e hija</td>\n",
       "      <td>NaN</td>\n",
       "    </tr>\n",
       "    <tr>\n",
       "      <th>1</th>\n",
       "      <td>Sólo puede haber un ganador</td>\n",
       "      <td>NaN</td>\n",
       "    </tr>\n",
       "    <tr>\n",
       "      <th>2</th>\n",
       "      <td>Nadie dijo que sería fácil</td>\n",
       "      <td>NaN</td>\n",
       "    </tr>\n",
       "    <tr>\n",
       "      <th>3</th>\n",
       "      <td>Ya no querrás verlos 16 caricaturas de tu infa...</td>\n",
       "      <td>NaN</td>\n",
       "    </tr>\n",
       "    <tr>\n",
       "      <th>4</th>\n",
       "      <td>Profesor enseña matemáticas al ritmo del rap E...</td>\n",
       "      <td>NaN</td>\n",
       "    </tr>\n",
       "  </tbody>\n",
       "</table>\n",
       "</div>"
      ],
      "text/plain": [
       "                                           Titulares  Unnamed: 0\n",
       "0                     Cuánto se conocen madre e hija         NaN\n",
       "1                        Sólo puede haber un ganador         NaN\n",
       "2                         Nadie dijo que sería fácil         NaN\n",
       "3  Ya no querrás verlos 16 caricaturas de tu infa...         NaN\n",
       "4  Profesor enseña matemáticas al ritmo del rap E...         NaN"
      ]
     },
     "execution_count": 22,
     "metadata": {},
     "output_type": "execute_result"
    }
   ],
   "source": [
    "clickbait['Titulares'] = clickbait['Titulares'].str.replace(r'[^\\w\\s]','')\n",
    "clickbait.head(5)"
   ]
  },
  {
   "cell_type": "code",
   "execution_count": 23,
   "metadata": {},
   "outputs": [],
   "source": [
    "clickbait = clickbait.drop(columns = ['Unnamed: 0'])"
   ]
  },
  {
   "cell_type": "code",
   "execution_count": 24,
   "metadata": {},
   "outputs": [
    {
     "data": {
      "text/html": [
       "<div>\n",
       "<style scoped>\n",
       "    .dataframe tbody tr th:only-of-type {\n",
       "        vertical-align: middle;\n",
       "    }\n",
       "\n",
       "    .dataframe tbody tr th {\n",
       "        vertical-align: top;\n",
       "    }\n",
       "\n",
       "    .dataframe thead th {\n",
       "        text-align: right;\n",
       "    }\n",
       "</style>\n",
       "<table border=\"1\" class=\"dataframe\">\n",
       "  <thead>\n",
       "    <tr style=\"text-align: right;\">\n",
       "      <th></th>\n",
       "      <th>Titulares</th>\n",
       "    </tr>\n",
       "  </thead>\n",
       "  <tbody>\n",
       "    <tr>\n",
       "      <th>0</th>\n",
       "      <td>Cuánto se conocen madre e hija</td>\n",
       "    </tr>\n",
       "    <tr>\n",
       "      <th>1</th>\n",
       "      <td>Sólo puede haber un ganador</td>\n",
       "    </tr>\n",
       "    <tr>\n",
       "      <th>2</th>\n",
       "      <td>Nadie dijo que sería fácil</td>\n",
       "    </tr>\n",
       "    <tr>\n",
       "      <th>3</th>\n",
       "      <td>Ya no querrás verlos 16 caricaturas de tu infa...</td>\n",
       "    </tr>\n",
       "    <tr>\n",
       "      <th>4</th>\n",
       "      <td>Profesor enseña matemáticas al ritmo del rap E...</td>\n",
       "    </tr>\n",
       "  </tbody>\n",
       "</table>\n",
       "</div>"
      ],
      "text/plain": [
       "                                           Titulares\n",
       "0                     Cuánto se conocen madre e hija\n",
       "1                        Sólo puede haber un ganador\n",
       "2                         Nadie dijo que sería fácil\n",
       "3  Ya no querrás verlos 16 caricaturas de tu infa...\n",
       "4  Profesor enseña matemáticas al ritmo del rap E..."
      ]
     },
     "execution_count": 24,
     "metadata": {},
     "output_type": "execute_result"
    }
   ],
   "source": [
    "clickbait.head(5)"
   ]
  },
  {
   "cell_type": "code",
   "execution_count": 25,
   "metadata": {},
   "outputs": [
    {
     "data": {
      "text/html": [
       "<div>\n",
       "<style scoped>\n",
       "    .dataframe tbody tr th:only-of-type {\n",
       "        vertical-align: middle;\n",
       "    }\n",
       "\n",
       "    .dataframe tbody tr th {\n",
       "        vertical-align: top;\n",
       "    }\n",
       "\n",
       "    .dataframe thead th {\n",
       "        text-align: right;\n",
       "    }\n",
       "</style>\n",
       "<table border=\"1\" class=\"dataframe\">\n",
       "  <thead>\n",
       "    <tr style=\"text-align: right;\">\n",
       "      <th></th>\n",
       "      <th>Titulares</th>\n",
       "    </tr>\n",
       "  </thead>\n",
       "  <tbody>\n",
       "    <tr>\n",
       "      <th>0</th>\n",
       "      <td>[Cuánto, se, conocen, madre, e, hija]</td>\n",
       "    </tr>\n",
       "    <tr>\n",
       "      <th>1</th>\n",
       "      <td>[Sólo, puede, haber, un, ganador]</td>\n",
       "    </tr>\n",
       "    <tr>\n",
       "      <th>2</th>\n",
       "      <td>[Nadie, dijo, que, sería, fácil]</td>\n",
       "    </tr>\n",
       "    <tr>\n",
       "      <th>3</th>\n",
       "      <td>[Ya, no, querrás, verlos, 16, caricaturas, de,...</td>\n",
       "    </tr>\n",
       "    <tr>\n",
       "      <th>4</th>\n",
       "      <td>[Profesor, enseña, matemáticas, al, ritmo, del...</td>\n",
       "    </tr>\n",
       "  </tbody>\n",
       "</table>\n",
       "</div>"
      ],
      "text/plain": [
       "                                           Titulares\n",
       "0              [Cuánto, se, conocen, madre, e, hija]\n",
       "1                  [Sólo, puede, haber, un, ganador]\n",
       "2                   [Nadie, dijo, que, sería, fácil]\n",
       "3  [Ya, no, querrás, verlos, 16, caricaturas, de,...\n",
       "4  [Profesor, enseña, matemáticas, al, ritmo, del..."
      ]
     },
     "execution_count": 25,
     "metadata": {},
     "output_type": "execute_result"
    }
   ],
   "source": [
    "clickbait['Titulares'] = clickbait['Titulares'].apply(lambda scrapping: nltk.word_tokenize(scrapping))\n",
    "clickbait.head()"
   ]
  },
  {
   "cell_type": "code",
   "execution_count": 26,
   "metadata": {},
   "outputs": [
    {
     "data": {
      "text/html": [
       "<div>\n",
       "<style scoped>\n",
       "    .dataframe tbody tr th:only-of-type {\n",
       "        vertical-align: middle;\n",
       "    }\n",
       "\n",
       "    .dataframe tbody tr th {\n",
       "        vertical-align: top;\n",
       "    }\n",
       "\n",
       "    .dataframe thead th {\n",
       "        text-align: right;\n",
       "    }\n",
       "</style>\n",
       "<table border=\"1\" class=\"dataframe\">\n",
       "  <thead>\n",
       "    <tr style=\"text-align: right;\">\n",
       "      <th></th>\n",
       "      <th>Titulares</th>\n",
       "      <th>word_count</th>\n",
       "    </tr>\n",
       "  </thead>\n",
       "  <tbody>\n",
       "    <tr>\n",
       "      <th>0</th>\n",
       "      <td>[Cuánto, se, conocen, madre, e, hija]</td>\n",
       "      <td>6</td>\n",
       "    </tr>\n",
       "    <tr>\n",
       "      <th>1</th>\n",
       "      <td>[Sólo, puede, haber, un, ganador]</td>\n",
       "      <td>5</td>\n",
       "    </tr>\n",
       "    <tr>\n",
       "      <th>2</th>\n",
       "      <td>[Nadie, dijo, que, sería, fácil]</td>\n",
       "      <td>5</td>\n",
       "    </tr>\n",
       "    <tr>\n",
       "      <th>3</th>\n",
       "      <td>[Ya, no, querrás, verlos, 16, caricaturas, de,...</td>\n",
       "      <td>13</td>\n",
       "    </tr>\n",
       "    <tr>\n",
       "      <th>4</th>\n",
       "      <td>[Profesor, enseña, matemáticas, al, ritmo, del...</td>\n",
       "      <td>16</td>\n",
       "    </tr>\n",
       "  </tbody>\n",
       "</table>\n",
       "</div>"
      ],
      "text/plain": [
       "                                           Titulares  word_count\n",
       "0              [Cuánto, se, conocen, madre, e, hija]           6\n",
       "1                  [Sólo, puede, haber, un, ganador]           5\n",
       "2                   [Nadie, dijo, que, sería, fácil]           5\n",
       "3  [Ya, no, querrás, verlos, 16, caricaturas, de,...          13\n",
       "4  [Profesor, enseña, matemáticas, al, ritmo, del...          16"
      ]
     },
     "execution_count": 26,
     "metadata": {},
     "output_type": "execute_result"
    }
   ],
   "source": [
    "clickbait['word_count'] = clickbait['Titulares'].apply(len)\n",
    "clickbait.head()"
   ]
  },
  {
   "cell_type": "code",
   "execution_count": 27,
   "metadata": {},
   "outputs": [
    {
     "data": {
      "text/html": [
       "<div>\n",
       "<style scoped>\n",
       "    .dataframe tbody tr th:only-of-type {\n",
       "        vertical-align: middle;\n",
       "    }\n",
       "\n",
       "    .dataframe tbody tr th {\n",
       "        vertical-align: top;\n",
       "    }\n",
       "\n",
       "    .dataframe thead th {\n",
       "        text-align: right;\n",
       "    }\n",
       "</style>\n",
       "<table border=\"1\" class=\"dataframe\">\n",
       "  <thead>\n",
       "    <tr style=\"text-align: right;\">\n",
       "      <th></th>\n",
       "      <th>Titulares</th>\n",
       "      <th>word_count</th>\n",
       "      <th>char_len</th>\n",
       "    </tr>\n",
       "  </thead>\n",
       "  <tbody>\n",
       "    <tr>\n",
       "      <th>0</th>\n",
       "      <td>[Cuánto, se, conocen, madre, e, hija]</td>\n",
       "      <td>6</td>\n",
       "      <td>25</td>\n",
       "    </tr>\n",
       "    <tr>\n",
       "      <th>1</th>\n",
       "      <td>[Sólo, puede, haber, un, ganador]</td>\n",
       "      <td>5</td>\n",
       "      <td>23</td>\n",
       "    </tr>\n",
       "    <tr>\n",
       "      <th>2</th>\n",
       "      <td>[Nadie, dijo, que, sería, fácil]</td>\n",
       "      <td>5</td>\n",
       "      <td>22</td>\n",
       "    </tr>\n",
       "    <tr>\n",
       "      <th>3</th>\n",
       "      <td>[Ya, no, querrás, verlos, 16, caricaturas, de,...</td>\n",
       "      <td>13</td>\n",
       "      <td>78</td>\n",
       "    </tr>\n",
       "    <tr>\n",
       "      <th>4</th>\n",
       "      <td>[Profesor, enseña, matemáticas, al, ritmo, del...</td>\n",
       "      <td>16</td>\n",
       "      <td>86</td>\n",
       "    </tr>\n",
       "  </tbody>\n",
       "</table>\n",
       "</div>"
      ],
      "text/plain": [
       "                                           Titulares  word_count  char_len\n",
       "0              [Cuánto, se, conocen, madre, e, hija]           6        25\n",
       "1                  [Sólo, puede, haber, un, ganador]           5        23\n",
       "2                   [Nadie, dijo, que, sería, fácil]           5        22\n",
       "3  [Ya, no, querrás, verlos, 16, caricaturas, de,...          13        78\n",
       "4  [Profesor, enseña, matemáticas, al, ritmo, del...          16        86"
      ]
     },
     "execution_count": 27,
     "metadata": {},
     "output_type": "execute_result"
    }
   ],
   "source": [
    "clickbait['char_len'] = clickbait['Titulares'].apply(lambda comment: sum(len(word) for word in comment))\n",
    "clickbait.head()"
   ]
  },
  {
   "cell_type": "code",
   "execution_count": 46,
   "metadata": {},
   "outputs": [
    {
     "data": {
      "text/html": [
       "<div>\n",
       "<style scoped>\n",
       "    .dataframe tbody tr th:only-of-type {\n",
       "        vertical-align: middle;\n",
       "    }\n",
       "\n",
       "    .dataframe tbody tr th {\n",
       "        vertical-align: top;\n",
       "    }\n",
       "\n",
       "    .dataframe thead th {\n",
       "        text-align: right;\n",
       "    }\n",
       "</style>\n",
       "<table border=\"1\" class=\"dataframe\">\n",
       "  <thead>\n",
       "    <tr style=\"text-align: right;\">\n",
       "      <th></th>\n",
       "      <th>Titulares</th>\n",
       "      <th>word_count</th>\n",
       "      <th>char_len</th>\n",
       "      <th>stopwords</th>\n",
       "    </tr>\n",
       "  </thead>\n",
       "  <tbody>\n",
       "    <tr>\n",
       "      <th>0</th>\n",
       "      <td>[cuánto, conocen, madre, hija]</td>\n",
       "      <td>6</td>\n",
       "      <td>25</td>\n",
       "      <td>0</td>\n",
       "    </tr>\n",
       "    <tr>\n",
       "      <th>1</th>\n",
       "      <td>[haber, ganador]</td>\n",
       "      <td>5</td>\n",
       "      <td>23</td>\n",
       "      <td>0</td>\n",
       "    </tr>\n",
       "    <tr>\n",
       "      <th>2</th>\n",
       "      <td>[nadie, dijo, fácil]</td>\n",
       "      <td>5</td>\n",
       "      <td>22</td>\n",
       "      <td>0</td>\n",
       "    </tr>\n",
       "    <tr>\n",
       "      <th>3</th>\n",
       "      <td>[querrás, verlos, 16, caricaturas, infancia, t...</td>\n",
       "      <td>13</td>\n",
       "      <td>78</td>\n",
       "      <td>0</td>\n",
       "    </tr>\n",
       "    <tr>\n",
       "      <th>4</th>\n",
       "      <td>[profesor, enseña, matemáticas, ritmo, rap, es...</td>\n",
       "      <td>16</td>\n",
       "      <td>86</td>\n",
       "      <td>0</td>\n",
       "    </tr>\n",
       "  </tbody>\n",
       "</table>\n",
       "</div>"
      ],
      "text/plain": [
       "                                           Titulares  word_count  char_len  \\\n",
       "0                     [cuánto, conocen, madre, hija]           6        25   \n",
       "1                                   [haber, ganador]           5        23   \n",
       "2                               [nadie, dijo, fácil]           5        22   \n",
       "3  [querrás, verlos, 16, caricaturas, infancia, t...          13        78   \n",
       "4  [profesor, enseña, matemáticas, ritmo, rap, es...          16        86   \n",
       "\n",
       "   stopwords  \n",
       "0          0  \n",
       "1          0  \n",
       "2          0  \n",
       "3          0  \n",
       "4          0  "
      ]
     },
     "execution_count": 46,
     "metadata": {},
     "output_type": "execute_result"
    }
   ],
   "source": [
    "from nltk.corpus import stopwords\n",
    "stop = stopwords.words('spanish')\n",
    "clickbait['stopwords'] = clickbait['Titulares'].apply(lambda comment: len([word for word in comment if word in stop]))\n",
    "clickbait.head()"
   ]
  },
  {
   "cell_type": "code",
   "execution_count": 37,
   "metadata": {},
   "outputs": [
    {
     "data": {
      "text/html": [
       "<div>\n",
       "<style scoped>\n",
       "    .dataframe tbody tr th:only-of-type {\n",
       "        vertical-align: middle;\n",
       "    }\n",
       "\n",
       "    .dataframe tbody tr th {\n",
       "        vertical-align: top;\n",
       "    }\n",
       "\n",
       "    .dataframe thead th {\n",
       "        text-align: right;\n",
       "    }\n",
       "</style>\n",
       "<table border=\"1\" class=\"dataframe\">\n",
       "  <thead>\n",
       "    <tr style=\"text-align: right;\">\n",
       "      <th></th>\n",
       "      <th>Titulares</th>\n",
       "      <th>word_count</th>\n",
       "      <th>char_len</th>\n",
       "      <th>stopwords</th>\n",
       "    </tr>\n",
       "  </thead>\n",
       "  <tbody>\n",
       "    <tr>\n",
       "      <th>0</th>\n",
       "      <td>[cuánto, conocen, madre, hija]</td>\n",
       "      <td>6</td>\n",
       "      <td>25</td>\n",
       "      <td>2</td>\n",
       "    </tr>\n",
       "    <tr>\n",
       "      <th>1</th>\n",
       "      <td>[sólo, haber, ganador]</td>\n",
       "      <td>5</td>\n",
       "      <td>23</td>\n",
       "      <td>1</td>\n",
       "    </tr>\n",
       "    <tr>\n",
       "      <th>2</th>\n",
       "      <td>[nadie, dijo, fácil]</td>\n",
       "      <td>5</td>\n",
       "      <td>22</td>\n",
       "      <td>2</td>\n",
       "    </tr>\n",
       "    <tr>\n",
       "      <th>3</th>\n",
       "      <td>[querrás, verlos, 16, caricaturas, infancia, t...</td>\n",
       "      <td>13</td>\n",
       "      <td>78</td>\n",
       "      <td>4</td>\n",
       "    </tr>\n",
       "    <tr>\n",
       "      <th>4</th>\n",
       "      <td>[profesor, enseña, matemáticas, ritmo, rap, es...</td>\n",
       "      <td>16</td>\n",
       "      <td>86</td>\n",
       "      <td>6</td>\n",
       "    </tr>\n",
       "  </tbody>\n",
       "</table>\n",
       "</div>"
      ],
      "text/plain": [
       "                                           Titulares  word_count  char_len  \\\n",
       "0                     [cuánto, conocen, madre, hija]           6        25   \n",
       "1                             [sólo, haber, ganador]           5        23   \n",
       "2                               [nadie, dijo, fácil]           5        22   \n",
       "3  [querrás, verlos, 16, caricaturas, infancia, t...          13        78   \n",
       "4  [profesor, enseña, matemáticas, ritmo, rap, es...          16        86   \n",
       "\n",
       "   stopwords  \n",
       "0          2  \n",
       "1          1  \n",
       "2          2  \n",
       "3          4  \n",
       "4          6  "
      ]
     },
     "execution_count": 37,
     "metadata": {},
     "output_type": "execute_result"
    }
   ],
   "source": [
    "clickbait['Titulares'] = clickbait['Titulares'].apply(lambda comment: [word for word in comment if word not in stop])\n",
    "clickbait.head()"
   ]
  },
  {
   "cell_type": "code",
   "execution_count": 38,
   "metadata": {},
   "outputs": [
    {
     "data": {
      "text/html": [
       "<div>\n",
       "<style scoped>\n",
       "    .dataframe tbody tr th:only-of-type {\n",
       "        vertical-align: middle;\n",
       "    }\n",
       "\n",
       "    .dataframe tbody tr th {\n",
       "        vertical-align: top;\n",
       "    }\n",
       "\n",
       "    .dataframe thead th {\n",
       "        text-align: right;\n",
       "    }\n",
       "</style>\n",
       "<table border=\"1\" class=\"dataframe\">\n",
       "  <thead>\n",
       "    <tr style=\"text-align: right;\">\n",
       "      <th></th>\n",
       "      <th>Titulares</th>\n",
       "      <th>word_count</th>\n",
       "      <th>char_len</th>\n",
       "      <th>stopwords</th>\n",
       "    </tr>\n",
       "  </thead>\n",
       "  <tbody>\n",
       "    <tr>\n",
       "      <th>0</th>\n",
       "      <td>[cuánto, conocen, madre, hija]</td>\n",
       "      <td>6</td>\n",
       "      <td>25</td>\n",
       "      <td>2</td>\n",
       "    </tr>\n",
       "    <tr>\n",
       "      <th>1</th>\n",
       "      <td>[sólo, haber, ganador]</td>\n",
       "      <td>5</td>\n",
       "      <td>23</td>\n",
       "      <td>1</td>\n",
       "    </tr>\n",
       "    <tr>\n",
       "      <th>2</th>\n",
       "      <td>[nadie, dijo, fácil]</td>\n",
       "      <td>5</td>\n",
       "      <td>22</td>\n",
       "      <td>2</td>\n",
       "    </tr>\n",
       "    <tr>\n",
       "      <th>3</th>\n",
       "      <td>[querrás, verlos, 16, caricaturas, infancia, t...</td>\n",
       "      <td>13</td>\n",
       "      <td>78</td>\n",
       "      <td>4</td>\n",
       "    </tr>\n",
       "    <tr>\n",
       "      <th>4</th>\n",
       "      <td>[profesor, enseña, matemáticas, ritmo, rap, es...</td>\n",
       "      <td>16</td>\n",
       "      <td>86</td>\n",
       "      <td>6</td>\n",
       "    </tr>\n",
       "  </tbody>\n",
       "</table>\n",
       "</div>"
      ],
      "text/plain": [
       "                                           Titulares  word_count  char_len  \\\n",
       "0                     [cuánto, conocen, madre, hija]           6        25   \n",
       "1                             [sólo, haber, ganador]           5        23   \n",
       "2                               [nadie, dijo, fácil]           5        22   \n",
       "3  [querrás, verlos, 16, caricaturas, infancia, t...          13        78   \n",
       "4  [profesor, enseña, matemáticas, ritmo, rap, es...          16        86   \n",
       "\n",
       "   stopwords  \n",
       "0          2  \n",
       "1          1  \n",
       "2          2  \n",
       "3          4  \n",
       "4          6  "
      ]
     },
     "execution_count": 38,
     "metadata": {},
     "output_type": "execute_result"
    }
   ],
   "source": [
    "clickbait['Titulares'] = clickbait['Titulares'].apply(lambda comment: [word.lower() for word in comment])\n",
    "clickbait.head()"
   ]
  },
  {
   "cell_type": "code",
   "execution_count": 39,
   "metadata": {},
   "outputs": [
    {
     "data": {
      "text/plain": [
       "mejor      10\n",
       "sólo       10\n",
       "5           9\n",
       "real        9\n",
       "después     9\n",
       "hombre      9\n",
       "ser         8\n",
       "15          8\n",
       "ahora       8\n",
       "estudio     8\n",
       "dtype: int64"
      ]
     },
     "execution_count": 39,
     "metadata": {},
     "output_type": "execute_result"
    }
   ],
   "source": [
    "freq = pd.Series(' '.join(\" \".join(comment) for comment in clickbait['Titulares']).split(\" \")).value_counts()[:10]\n",
    "freq"
   ]
  },
  {
   "cell_type": "code",
   "execution_count": 40,
   "metadata": {},
   "outputs": [
    {
     "data": {
      "text/html": [
       "<div>\n",
       "<style scoped>\n",
       "    .dataframe tbody tr th:only-of-type {\n",
       "        vertical-align: middle;\n",
       "    }\n",
       "\n",
       "    .dataframe tbody tr th {\n",
       "        vertical-align: top;\n",
       "    }\n",
       "\n",
       "    .dataframe thead th {\n",
       "        text-align: right;\n",
       "    }\n",
       "</style>\n",
       "<table border=\"1\" class=\"dataframe\">\n",
       "  <thead>\n",
       "    <tr style=\"text-align: right;\">\n",
       "      <th></th>\n",
       "      <th>Titulares</th>\n",
       "      <th>word_count</th>\n",
       "      <th>char_len</th>\n",
       "      <th>stopwords</th>\n",
       "    </tr>\n",
       "  </thead>\n",
       "  <tbody>\n",
       "    <tr>\n",
       "      <th>0</th>\n",
       "      <td>[cuánto, conocen, madre, hija]</td>\n",
       "      <td>6</td>\n",
       "      <td>25</td>\n",
       "      <td>2</td>\n",
       "    </tr>\n",
       "    <tr>\n",
       "      <th>1</th>\n",
       "      <td>[haber, ganador]</td>\n",
       "      <td>5</td>\n",
       "      <td>23</td>\n",
       "      <td>1</td>\n",
       "    </tr>\n",
       "    <tr>\n",
       "      <th>2</th>\n",
       "      <td>[nadie, dijo, fácil]</td>\n",
       "      <td>5</td>\n",
       "      <td>22</td>\n",
       "      <td>2</td>\n",
       "    </tr>\n",
       "    <tr>\n",
       "      <th>3</th>\n",
       "      <td>[querrás, verlos, 16, caricaturas, infancia, t...</td>\n",
       "      <td>13</td>\n",
       "      <td>78</td>\n",
       "      <td>4</td>\n",
       "    </tr>\n",
       "    <tr>\n",
       "      <th>4</th>\n",
       "      <td>[profesor, enseña, matemáticas, ritmo, rap, es...</td>\n",
       "      <td>16</td>\n",
       "      <td>86</td>\n",
       "      <td>6</td>\n",
       "    </tr>\n",
       "  </tbody>\n",
       "</table>\n",
       "</div>"
      ],
      "text/plain": [
       "                                           Titulares  word_count  char_len  \\\n",
       "0                     [cuánto, conocen, madre, hija]           6        25   \n",
       "1                                   [haber, ganador]           5        23   \n",
       "2                               [nadie, dijo, fácil]           5        22   \n",
       "3  [querrás, verlos, 16, caricaturas, infancia, t...          13        78   \n",
       "4  [profesor, enseña, matemáticas, ritmo, rap, es...          16        86   \n",
       "\n",
       "   stopwords  \n",
       "0          2  \n",
       "1          1  \n",
       "2          2  \n",
       "3          4  \n",
       "4          6  "
      ]
     },
     "execution_count": 40,
     "metadata": {},
     "output_type": "execute_result"
    }
   ],
   "source": [
    "freq_list = list(freq.index)\n",
    "clickbait['Titulares'] = clickbait['Titulares'].apply(lambda comment: [word for word in comment if word not in freq_list])\n",
    "clickbait.head()"
   ]
  },
  {
   "cell_type": "code",
   "execution_count": 41,
   "metadata": {},
   "outputs": [
    {
     "data": {
      "text/plain": [
       "documentos       1\n",
       "entradas         1\n",
       "absolutamente    1\n",
       "howard           1\n",
       "relato           1\n",
       "envió            1\n",
       "jackson          1\n",
       "priyanka         1\n",
       "corazón          1\n",
       "pratt            1\n",
       "dtype: int64"
      ]
     },
     "execution_count": 41,
     "metadata": {},
     "output_type": "execute_result"
    }
   ],
   "source": [
    "less_freq = pd.Series(' '.join(\" \".join(comment) for comment in clickbait['Titulares']).split(\" \")).value_counts()[-10:]\n",
    "less_freq"
   ]
  },
  {
   "cell_type": "code",
   "execution_count": 42,
   "metadata": {},
   "outputs": [
    {
     "data": {
      "text/html": [
       "<div>\n",
       "<style scoped>\n",
       "    .dataframe tbody tr th:only-of-type {\n",
       "        vertical-align: middle;\n",
       "    }\n",
       "\n",
       "    .dataframe tbody tr th {\n",
       "        vertical-align: top;\n",
       "    }\n",
       "\n",
       "    .dataframe thead th {\n",
       "        text-align: right;\n",
       "    }\n",
       "</style>\n",
       "<table border=\"1\" class=\"dataframe\">\n",
       "  <thead>\n",
       "    <tr style=\"text-align: right;\">\n",
       "      <th></th>\n",
       "      <th>Titulares</th>\n",
       "      <th>word_count</th>\n",
       "      <th>char_len</th>\n",
       "      <th>stopwords</th>\n",
       "    </tr>\n",
       "  </thead>\n",
       "  <tbody>\n",
       "    <tr>\n",
       "      <th>0</th>\n",
       "      <td>[cuánto, conocen, madre, hija]</td>\n",
       "      <td>6</td>\n",
       "      <td>25</td>\n",
       "      <td>2</td>\n",
       "    </tr>\n",
       "    <tr>\n",
       "      <th>1</th>\n",
       "      <td>[haber, ganador]</td>\n",
       "      <td>5</td>\n",
       "      <td>23</td>\n",
       "      <td>1</td>\n",
       "    </tr>\n",
       "    <tr>\n",
       "      <th>2</th>\n",
       "      <td>[nadie, dijo, fácil]</td>\n",
       "      <td>5</td>\n",
       "      <td>22</td>\n",
       "      <td>2</td>\n",
       "    </tr>\n",
       "    <tr>\n",
       "      <th>3</th>\n",
       "      <td>[querrás, verlos, 16, caricaturas, infancia, t...</td>\n",
       "      <td>13</td>\n",
       "      <td>78</td>\n",
       "      <td>4</td>\n",
       "    </tr>\n",
       "    <tr>\n",
       "      <th>4</th>\n",
       "      <td>[profesor, enseña, matemáticas, ritmo, rap, es...</td>\n",
       "      <td>16</td>\n",
       "      <td>86</td>\n",
       "      <td>6</td>\n",
       "    </tr>\n",
       "  </tbody>\n",
       "</table>\n",
       "</div>"
      ],
      "text/plain": [
       "                                           Titulares  word_count  char_len  \\\n",
       "0                     [cuánto, conocen, madre, hija]           6        25   \n",
       "1                                   [haber, ganador]           5        23   \n",
       "2                               [nadie, dijo, fácil]           5        22   \n",
       "3  [querrás, verlos, 16, caricaturas, infancia, t...          13        78   \n",
       "4  [profesor, enseña, matemáticas, ritmo, rap, es...          16        86   \n",
       "\n",
       "   stopwords  \n",
       "0          2  \n",
       "1          1  \n",
       "2          2  \n",
       "3          4  \n",
       "4          6  "
      ]
     },
     "execution_count": 42,
     "metadata": {},
     "output_type": "execute_result"
    }
   ],
   "source": [
    "less_freq_list = list(less_freq.index)\n",
    "clickbait['Titulares'] = clickbait['Titulares'].apply(lambda comment: [word for word in comment if word not in less_freq_list])\n",
    "clickbait.head()"
   ]
  },
  {
   "cell_type": "code",
   "execution_count": 35,
   "metadata": {},
   "outputs": [],
   "source": [
    "#clickbait.to_csv('titulares.csv')"
   ]
  },
  {
   "cell_type": "code",
   "execution_count": 63,
   "metadata": {
    "scrolled": true
   },
   "outputs": [
    {
     "data": {
      "image/png": "[encoded data removed]",
      "text/plain": [
       "<Figure size 432x288 with 1 Axes>"
      ]
     },
     "metadata": {
      "needs_background": "light"
     },
     "output_type": "display_data"
    }
   ],
   "source": [
    "from wordcloud import WordCloud, STOPWORDS, ImageColorGenerator\n",
    "\n",
    "import matplotlib.pyplot as plt\n",
    "\n",
    "wordcloud = WordCloud(max_font_size=70, background_color=\"White\").generate(\" \".join(\" \".join(comment) for comment in clickbait['Titulares']))\n",
    "plt.figure()\n",
    "plt.imshow(wordcloud, interpolation=\"bilinear\")\n",
    "plt.axis(\"off\")\n",
    "\n",
    "\n",
    "plt.savefig('nube.png')\n",
    "plt.show()\n",
    "#plt.to_file('N.png')"
   ]
  }
 ],
 "metadata": {
  "kernelspec": {
   "display_name": "Python 3",
   "language": "python",
   "name": "python3"
  },
  "language_info": {
   "codemirror_mode": {
    "name": "ipython",
    "version": 3
   },
   "file_extension": ".py",
   "mimetype": "text/x-python",
   "name": "python",
   "nbconvert_exporter": "python",
   "pygments_lexer": "ipython3",
   "version": "3.6.7"
  }
 },
 "nbformat": 4,
 "nbformat_minor": 2
}
