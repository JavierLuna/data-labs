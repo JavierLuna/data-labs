{
 "cells": [
  {
   "cell_type": "markdown",
   "metadata": {},
   "source": [
    "# Pipelines Project - ASAWTH (All Superheroes are Worse than Hellboy)\n",
    "\n",
    "## Description\n",
    "\n",
    "This project uses the following dataset to prove that all superheroes are worse than Hellboy:\n",
    "\n",
    "[Complete Superhero Dataset](https://www.kaggle.com/thec03u5/complete-superhero-dataset)  \n",
    "\n",
    "The file contains the statistics of more than 700 characters from Dark Horse and other minor publishers such as Marvel or DC.\n",
    "\n",
    "<img src=\"./resources/hellboy.png\" alt=\"hellboy\" width=\"250\"/>\n",
    "\n",
    "\n",
    "## Repo files\n",
    "\n",
    "**main.ipynb** : Para el trabajo de data cleaning y manipulation.  \n",
    "**main.py** : Pipeline  \n",
    "**config.py**: Configuración y contantes  \n",
    "**limpia.py**: Funciones para limpiar los datos  \n",
    "**analisis.py**: Funciones para el análisis de los datos  \n",
    "**guardar.py**: Funciones para guardar csv y gráficas  \n",
    "**report.py**: Funciones para crear los gráficos  \n",
    "**callapi.py**: Funciones para llamar a la api  \n",
    "**FAO.csv** : CSV de producción de alimentos  \n",
    "**README.md** : Descripción del proyecto  \n",
    "\n",
    "\n",
    "## Parámetros para el main.py\n",
    "\n",
    "**--p1** Primer pais a comparar  \n",
    "**--p2** Segundo pais a comparar  \n",
    "**-v** Ver la gráfica, por defecto a 0, por lo que no se ve (-v 1 para cargar la gráfica)  \n",
    "\n",
    "Si no se especifica ningún país por defecto se selecciona Italy y France  \n",
    "\n",
    "## Datos complementarios para el dataset\n",
    "\n",
    "Para completar el conjunto de datos del que disponemos, realizaremos llamadas a la siguiente api:  \n",
    "\n",
    "[https://restcountries.eu/](https://restcountries.eu/)  \n",
    "\n",
    "De la cual obetendremos el continente del area.  \n",
    "\n",
    "## Anotaciones\n",
    "\n",
    "Para las gráficas de comparación de países se toman los años desde el 2000 al 2010  \n",
    "Para la gráfica de los mayores productores se utiliza todos los años disponibles en los datos  \n",
    "\n",
    "## Mejoras\n",
    "Sacar del main la sección de arg.\n",
    "Mejorar las gráficas\n",
    "...\n",
    "\n",
    "## Ampliación\n",
    "Se podría realizar una comparativa de la producción de alimentos con la población de estos paises durante ese periodo  \n",
    "Estos datos de población se pueden obtener de la FAO [http://www.fao.org/faostat/es/#data/OA](http://www.fao.org/faostat/es/#data/OA)\n",
    "\n"
   ]
  }
 ],
 "metadata": {
  "kernelspec": {
   "display_name": "Python 3",
   "language": "python",
   "name": "python3"
  },
  "language_info": {
   "codemirror_mode": {
    "name": "ipython",
    "version": 3
   },
   "file_extension": ".py",
   "mimetype": "text/x-python",
   "name": "python",
   "nbconvert_exporter": "python",
   "pygments_lexer": "ipython3",
   "version": "3.7.3"
  }
 },
 "nbformat": 4,
 "nbformat_minor": 2
}
