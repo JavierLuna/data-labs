{
 "cells": [
  {
   "cell_type": "code",
   "execution_count": null,
   "metadata": {},
   "outputs": [],
   "source": [
    "import csv\n",
    "import pandas\n",
    "\n",
    "\n",
    "class Extractor:\n",
    "\n",
    "    def extract(self, *args, **kwargs):\n",
    "        pass\n",
    "\n",
    "\n",
    "class CsvExtractor(Extractor):\n",
    "    \"\"\"\n",
    "    Reads from CSV and returns a list of dicts\n",
    "    \"\"\"\n",
    "\n",
    "    def extract(self, csv_name, *args, **kwargs):\n",
    "        with open(csv_name, 'r') as input_file:\n",
    "            reader = csv.DictReader(input_file)\n",
    "            return [row for row in reader]\n",
    "\n",
    "\n",
    "class SmartExtractor(Extractor):\n",
    "    extractors_by_extension = {'csv': CsvExtractor()}\n",
    "\n",
    "    def extract(self, file_name, *args, **kwargs):\n",
    "        extension = file_name.split('.')[-1]\n",
    "        extractor = self.extractors_by_extension[extension]()\n",
    "        return extractor.extract(file_name, *args, **kwargs)\n",
    "    \n",
    "\n",
    "class CsvExtractor_to_DataFrame(Extractor):\n",
    "    \"\"\"\n",
    "    Reads from CSV and returns a dataframe\n",
    "    \"\"\"\n",
    "    \n",
    "    def extract(self, csv_name, *args, **kwargs):\n",
    "        df = pd.read_csv(csv_name, header=0, encoding = 'unicode_escape')\n",
    "        return df"
   ]
  }
 ],
 "metadata": {
  "kernelspec": {
   "display_name": "Python 3",
   "language": "python",
   "name": "python3"
  },
  "language_info": {
   "codemirror_mode": {
    "name": "ipython",
    "version": 3
   },
   "file_extension": ".py",
   "mimetype": "text/x-python",
   "name": "python",
   "nbconvert_exporter": "python",
   "pygments_lexer": "ipython3",
   "version": "3.7.3"
  }
 },
 "nbformat": 4,
 "nbformat_minor": 2
}
