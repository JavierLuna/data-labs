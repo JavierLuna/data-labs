{
 "cells": [
  {
   "cell_type": "code",
   "execution_count": null,
   "metadata": {},
   "outputs": [],
   "source": [
    "from cool_pipeline.extractors import Extractor, CsvExtractor, CsvExtractor_to_DataFrame\n",
    "from cool_pipeline.loaders import FileLoader, MySQLLoader\n",
    "from cool_pipeline.transformers import CustomVehicleTransformer, NullFilterTransformer\n",
    "\n",
    "\n",
    "class Pipeline:\n",
    "\n",
    "    def run(self):\n",
    "        pass\n",
    "\n",
    "\n",
    "class ETLPipeline(Pipeline):\n",
    "    extractor = Extractor()\n",
    "    transformers = []\n",
    "    loaders = []\n",
    "\n",
    "    def run(self):\n",
    "        data = self.extractor.extract()\n",
    "        for transformer in self.transformers:\n",
    "            data = transformer.transform(data)\n",
    "\n",
    "        for loader in self.loaders:\n",
    "            loader.load(data)\n",
    "\n",
    "\n",
    "class CustomETLPipeline(ETLPipeline):\n",
    "    extractor = CsvExtractor('./data sets/vehicles/vehicles.csv')\n",
    "    transformers = [NullFilterTransformer(), CustomVehicleTransformer()]\n",
    "    loaders = [FileLoader(), MySQLLoader()]\n"
   ]
  }
 ],
 "metadata": {
  "kernelspec": {
   "display_name": "Python 3",
   "language": "python",
   "name": "python3"
  },
  "language_info": {
   "codemirror_mode": {
    "name": "ipython",
    "version": 3
   },
   "file_extension": ".py",
   "mimetype": "text/x-python",
   "name": "python",
   "nbconvert_exporter": "python",
   "pygments_lexer": "ipython3",
   "version": "3.7.3"
  }
 },
 "nbformat": 4,
 "nbformat_minor": 2
}
