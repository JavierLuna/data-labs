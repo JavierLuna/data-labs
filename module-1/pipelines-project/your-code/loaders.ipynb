{
 "cells": [
  {
   "cell_type": "code",
   "execution_count": null,
   "metadata": {},
   "outputs": [],
   "source": [
    "import json\n",
    "\n",
    "\n",
    "class Loader:\n",
    "\n",
    "    def load(self, transformed_data):\n",
    "        pass\n",
    "\n",
    "\n",
    "class FileLoader(Loader):\n",
    "\n",
    "    def load(self, transformed_data):\n",
    "        with open(\"analized_data.json\", 'w') as output_file:\n",
    "            json.dump(transformed_data, output_file, sort_keys=True, indent=4)\n",
    "\n",
    "class MySQLLoader(Loader):\n",
    "\n",
    "    def load(self, transformed_data):\n",
    "        pass\n",
    "\n",
    "    \n",
    "class CsvLoader(Loader):\n",
    "    \n",
    "    def load(self, csv_name):\n",
    "        df.to_csv(csv_name)"
   ]
  }
 ],
 "metadata": {
  "kernelspec": {
   "display_name": "Python 3",
   "language": "python",
   "name": "python3"
  },
  "language_info": {
   "codemirror_mode": {
    "name": "ipython",
    "version": 3
   },
   "file_extension": ".py",
   "mimetype": "text/x-python",
   "name": "python",
   "nbconvert_exporter": "python",
   "pygments_lexer": "ipython3",
   "version": "3.7.3"
  }
 },
 "nbformat": 4,
 "nbformat_minor": 2
}
