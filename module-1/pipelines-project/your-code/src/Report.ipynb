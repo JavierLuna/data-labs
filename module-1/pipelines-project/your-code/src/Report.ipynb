{
 "cells": [
  {
   "cell_type": "markdown",
   "metadata": {},
   "source": [
    "# Importación patrón ETL"
   ]
  },
  {
   "cell_type": "code",
   "execution_count": 34,
   "metadata": {},
   "outputs": [],
   "source": [
    "import pandas as pd\n",
    "import matplotlib.pyplot as plt\n",
    "\n",
    "from Extractor import ExtractRings\n",
    "from Transformer import TransformRings\n",
    "from Analyzer import AnalyzeRings\n"
   ]
  },
  {
   "cell_type": "code",
   "execution_count": 4,
   "metadata": {},
   "outputs": [],
   "source": [
    "er=ExtractRings()\n",
    "tr=TransformRings()\n",
    "an=AnalyzeRings()"
   ]
  },
  {
   "cell_type": "markdown",
   "metadata": {},
   "source": [
    "# Extracción de los datos en bruto"
   ]
  },
  {
   "cell_type": "code",
   "execution_count": 6,
   "metadata": {},
   "outputs": [],
   "source": [
    "raw_data=er.Extract (path='../data/spai067-1.rwl',encoding='UTF-8')"
   ]
  },
  {
   "cell_type": "markdown",
   "metadata": {},
   "source": [
    "# Aplicación de las transforamciones para obtener los datos con el formato deseado"
   ]
  },
  {
   "cell_type": "code",
   "execution_count": 60,
   "metadata": {},
   "outputs": [
    {
     "data": {
      "text/html": [
       "<div>\n",
       "<style scoped>\n",
       "    .dataframe tbody tr th:only-of-type {\n",
       "        vertical-align: middle;\n",
       "    }\n",
       "\n",
       "    .dataframe tbody tr th {\n",
       "        vertical-align: top;\n",
       "    }\n",
       "\n",
       "    .dataframe thead th {\n",
       "        text-align: right;\n",
       "    }\n",
       "</style>\n",
       "<table border=\"1\" class=\"dataframe\">\n",
       "  <thead>\n",
       "    <tr style=\"text-align: right;\">\n",
       "      <th></th>\n",
       "      <th>1972</th>\n",
       "      <th>1973</th>\n",
       "      <th>1974</th>\n",
       "      <th>1975</th>\n",
       "      <th>1976</th>\n",
       "      <th>1977</th>\n",
       "      <th>1978</th>\n",
       "      <th>1979</th>\n",
       "      <th>1980</th>\n",
       "      <th>1981</th>\n",
       "      <th>...</th>\n",
       "      <th>1998</th>\n",
       "      <th>1999</th>\n",
       "      <th>2000</th>\n",
       "      <th>2001</th>\n",
       "      <th>2002</th>\n",
       "      <th>2003</th>\n",
       "      <th>2004</th>\n",
       "      <th>2005</th>\n",
       "      <th>2006</th>\n",
       "      <th>2007</th>\n",
       "    </tr>\n",
       "  </thead>\n",
       "  <tbody>\n",
       "    <tr>\n",
       "      <th>UF02NNXX</th>\n",
       "      <td>539</td>\n",
       "      <td>544</td>\n",
       "      <td>543</td>\n",
       "      <td>523</td>\n",
       "      <td>358</td>\n",
       "      <td>489</td>\n",
       "      <td>365</td>\n",
       "      <td>378</td>\n",
       "      <td>232</td>\n",
       "      <td>153</td>\n",
       "      <td>...</td>\n",
       "      <td>158</td>\n",
       "      <td>256</td>\n",
       "      <td>234</td>\n",
       "      <td>168</td>\n",
       "      <td>157</td>\n",
       "      <td>284</td>\n",
       "      <td>167</td>\n",
       "      <td>102</td>\n",
       "      <td>0</td>\n",
       "      <td>0</td>\n",
       "    </tr>\n",
       "    <tr>\n",
       "      <th>UF56EEXX</th>\n",
       "      <td>126</td>\n",
       "      <td>206</td>\n",
       "      <td>139</td>\n",
       "      <td>116</td>\n",
       "      <td>72</td>\n",
       "      <td>74</td>\n",
       "      <td>86</td>\n",
       "      <td>88</td>\n",
       "      <td>60</td>\n",
       "      <td>31</td>\n",
       "      <td>...</td>\n",
       "      <td>94</td>\n",
       "      <td>127</td>\n",
       "      <td>113</td>\n",
       "      <td>82</td>\n",
       "      <td>71</td>\n",
       "      <td>155</td>\n",
       "      <td>85</td>\n",
       "      <td>38</td>\n",
       "      <td>47</td>\n",
       "      <td>101</td>\n",
       "    </tr>\n",
       "    <tr>\n",
       "      <th>UF60SWXX</th>\n",
       "      <td>238</td>\n",
       "      <td>368</td>\n",
       "      <td>161</td>\n",
       "      <td>102</td>\n",
       "      <td>123</td>\n",
       "      <td>214</td>\n",
       "      <td>223</td>\n",
       "      <td>248</td>\n",
       "      <td>149</td>\n",
       "      <td>71</td>\n",
       "      <td>...</td>\n",
       "      <td>188</td>\n",
       "      <td>169</td>\n",
       "      <td>124</td>\n",
       "      <td>80</td>\n",
       "      <td>53</td>\n",
       "      <td>160</td>\n",
       "      <td>153</td>\n",
       "      <td>37</td>\n",
       "      <td>43</td>\n",
       "      <td>96</td>\n",
       "    </tr>\n",
       "    <tr>\n",
       "      <th>UF18NNXX</th>\n",
       "      <td>310</td>\n",
       "      <td>375</td>\n",
       "      <td>248</td>\n",
       "      <td>151</td>\n",
       "      <td>129</td>\n",
       "      <td>118</td>\n",
       "      <td>91</td>\n",
       "      <td>116</td>\n",
       "      <td>81</td>\n",
       "      <td>52</td>\n",
       "      <td>...</td>\n",
       "      <td>112</td>\n",
       "      <td>154</td>\n",
       "      <td>114</td>\n",
       "      <td>82</td>\n",
       "      <td>49</td>\n",
       "      <td>127</td>\n",
       "      <td>101</td>\n",
       "      <td>41</td>\n",
       "      <td>41</td>\n",
       "      <td>101</td>\n",
       "    </tr>\n",
       "    <tr>\n",
       "      <th>UF53NNXX</th>\n",
       "      <td>386</td>\n",
       "      <td>488</td>\n",
       "      <td>271</td>\n",
       "      <td>178</td>\n",
       "      <td>165</td>\n",
       "      <td>287</td>\n",
       "      <td>175</td>\n",
       "      <td>249</td>\n",
       "      <td>171</td>\n",
       "      <td>86</td>\n",
       "      <td>...</td>\n",
       "      <td>223</td>\n",
       "      <td>370</td>\n",
       "      <td>218</td>\n",
       "      <td>156</td>\n",
       "      <td>112</td>\n",
       "      <td>267</td>\n",
       "      <td>186</td>\n",
       "      <td>80</td>\n",
       "      <td>72</td>\n",
       "      <td>0</td>\n",
       "    </tr>\n",
       "  </tbody>\n",
       "</table>\n",
       "<p>5 rows × 36 columns</p>\n",
       "</div>"
      ],
      "text/plain": [
       "          1972  1973  1974  1975  1976  1977  1978  1979  1980  1981  ...  \\\n",
       "UF02NNXX   539   544   543   523   358   489   365   378   232   153  ...   \n",
       "UF56EEXX   126   206   139   116    72    74    86    88    60    31  ...   \n",
       "UF60SWXX   238   368   161   102   123   214   223   248   149    71  ...   \n",
       "UF18NNXX   310   375   248   151   129   118    91   116    81    52  ...   \n",
       "UF53NNXX   386   488   271   178   165   287   175   249   171    86  ...   \n",
       "\n",
       "          1998  1999  2000  2001  2002  2003  2004  2005  2006  2007  \n",
       "UF02NNXX   158   256   234   168   157   284   167   102     0     0  \n",
       "UF56EEXX    94   127   113    82    71   155    85    38    47   101  \n",
       "UF60SWXX   188   169   124    80    53   160   153    37    43    96  \n",
       "UF18NNXX   112   154   114    82    49   127   101    41    41   101  \n",
       "UF53NNXX   223   370   218   156   112   267   186    80    72     0  \n",
       "\n",
       "[5 rows x 36 columns]"
      ]
     },
     "execution_count": 60,
     "metadata": {},
     "output_type": "execute_result"
    }
   ],
   "source": [
    "data_frame=tr.Transform(raw_data)\n",
    "data_frame.head()"
   ]
  },
  {
   "cell_type": "markdown",
   "metadata": {},
   "source": [
    "# Obtenemos el informe estadístico"
   ]
  },
  {
   "cell_type": "code",
   "execution_count": 62,
   "metadata": {},
   "outputs": [
    {
     "data": {
      "text/html": [
       "<div>\n",
       "<style scoped>\n",
       "    .dataframe tbody tr th:only-of-type {\n",
       "        vertical-align: middle;\n",
       "    }\n",
       "\n",
       "    .dataframe tbody tr th {\n",
       "        vertical-align: top;\n",
       "    }\n",
       "\n",
       "    .dataframe thead th {\n",
       "        text-align: right;\n",
       "    }\n",
       "</style>\n",
       "<table border=\"1\" class=\"dataframe\">\n",
       "  <thead>\n",
       "    <tr style=\"text-align: right;\">\n",
       "      <th></th>\n",
       "      <th>Media</th>\n",
       "      <th>Desviacion tipica</th>\n",
       "      <th>Min</th>\n",
       "      <th>Max</th>\n",
       "    </tr>\n",
       "  </thead>\n",
       "  <tbody>\n",
       "    <tr>\n",
       "      <th>1972</th>\n",
       "      <td>219.462963</td>\n",
       "      <td>179.681685</td>\n",
       "      <td>0</td>\n",
       "      <td>608</td>\n",
       "    </tr>\n",
       "    <tr>\n",
       "      <th>1973</th>\n",
       "      <td>305.648148</td>\n",
       "      <td>192.561694</td>\n",
       "      <td>0</td>\n",
       "      <td>695</td>\n",
       "    </tr>\n",
       "    <tr>\n",
       "      <th>1974</th>\n",
       "      <td>213.981481</td>\n",
       "      <td>119.162430</td>\n",
       "      <td>0</td>\n",
       "      <td>543</td>\n",
       "    </tr>\n",
       "    <tr>\n",
       "      <th>1975</th>\n",
       "      <td>137.259259</td>\n",
       "      <td>88.489628</td>\n",
       "      <td>0</td>\n",
       "      <td>523</td>\n",
       "    </tr>\n",
       "    <tr>\n",
       "      <th>1976</th>\n",
       "      <td>121.129630</td>\n",
       "      <td>73.818859</td>\n",
       "      <td>0</td>\n",
       "      <td>358</td>\n",
       "    </tr>\n",
       "  </tbody>\n",
       "</table>\n",
       "</div>"
      ],
      "text/plain": [
       "           Media  Desviacion tipica  Min  Max\n",
       "1972  219.462963         179.681685    0  608\n",
       "1973  305.648148         192.561694    0  695\n",
       "1974  213.981481         119.162430    0  543\n",
       "1975  137.259259          88.489628    0  523\n",
       "1976  121.129630          73.818859    0  358"
      ]
     },
     "execution_count": 62,
     "metadata": {},
     "output_type": "execute_result"
    }
   ],
   "source": [
    "result = an.statistics(data_frame=data_frame)\n",
    "result.head()"
   ]
  },
  {
   "cell_type": "markdown",
   "metadata": {},
   "source": [
    "# Utilizamos el resumen estadístico para mostrar la relación entre crecimiento y temperatura.\n",
    "* Se puede observar que hay una clara relación entre el crecimiento del arbol y la precipitación, como era de esperar. Si no se hubiera mostrado esta relación cabría pensar que ha habido algún tipo de perturbación que ha afectado al crecimiento. Esta información es valiosa para guiar la gestión forestal."
   ]
  },
  {
   "cell_type": "code",
   "execution_count": 82,
   "metadata": {},
   "outputs": [
    {
     "data": {
      "image/png": "[encoded data removed]",
      "text/plain": [
       "<Figure size 720x720 with 2 Axes>"
      ]
     },
     "metadata": {
      "needs_background": "light"
     },
     "output_type": "display_data"
    }
   ],
   "source": [
    "precipitaciones=pd.read_csv('../data/precipitaciones.csv', sep=\";\")\n",
    "precipitaciones.index=precipitaciones.YEAR\n",
    "precipitaciones=precipitaciones.loc[1972:2007]\n",
    "\n",
    "fig,axs = plt.subplots(2, 1,figsize=(10,10))\n",
    "\n",
    "x=precipitaciones.YEAR.astype('int')\n",
    "y=precipitaciones.mm.replace(\".\",\",\").astype('float')\n",
    "axs[0].plot(x,y,'r')\n",
    "axs[0].set_xlabel(\"Precipitaciones\")\n",
    "axs[0].grid(True)\n",
    "\n",
    "#plt.plot(x,y,'r')\n",
    "\n",
    "x=result.index\n",
    "y=result.Media\n",
    "axs[1].plot(x,y,'b')\n",
    "axs[1].grid(True)\n",
    "#plt.plot(x,y,'b')\n"
   ]
  },
  {
   "cell_type": "code",
   "execution_count": null,
   "metadata": {},
   "outputs": [],
   "source": []
  }
 ],
 "metadata": {
  "kernelspec": {
   "display_name": "Python 3",
   "language": "python",
   "name": "python3"
  },
  "language_info": {
   "codemirror_mode": {
    "name": "ipython",
    "version": 3
   },
   "file_extension": ".py",
   "mimetype": "text/x-python",
   "name": "python",
   "nbconvert_exporter": "python",
   "pygments_lexer": "ipython3",
   "version": "3.7.3"
  }
 },
 "nbformat": 4,
 "nbformat_minor": 2
}
