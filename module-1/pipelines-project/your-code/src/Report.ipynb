{
 "cells": [
  {
   "cell_type": "code",
   "execution_count": 3,
   "metadata": {},
   "outputs": [],
   "source": [
    "from Extractor import ExtractRings\n",
    "from Transformer import TransformRings\n",
    "from Analyzer import AnalyzeRings\n"
   ]
  },
  {
   "cell_type": "code",
   "execution_count": 4,
   "metadata": {},
   "outputs": [],
   "source": [
    "er=ExtractRings()\n",
    "tr=TransformRings()\n",
    "an=AnalyzeRings()"
   ]
  },
  {
   "cell_type": "code",
   "execution_count": 6,
   "metadata": {},
   "outputs": [],
   "source": [
    "raw_data=er.Extract (path='../data/spai067-1.rwl',encoding='UTF-8')"
   ]
  },
  {
   "cell_type": "code",
   "execution_count": 7,
   "metadata": {},
   "outputs": [],
   "source": [
    "data_frame=tr.Transform(raw_data)"
   ]
  },
  {
   "cell_type": "code",
   "execution_count": 8,
   "metadata": {},
   "outputs": [
    {
     "name": "stdout",
     "output_type": "stream",
     "text": [
      "           Media  Desviacion tipica  Min  Max\n",
      "1972  219.462963         179.681685    0  608\n",
      "1973  305.648148         192.561694    0  695\n",
      "1974  213.981481         119.162430    0  543\n",
      "1975  137.259259          88.489628    0  523\n",
      "1976  121.129630          73.818859    0  358\n",
      "1977  177.240741         115.219587    0  489\n",
      "1978  157.537037          84.192397    0  365\n",
      "1979  169.518519          96.860102    0  378\n",
      "1980  127.611111          69.042772    0  321\n",
      "1981   67.148148          43.365974    0  206\n",
      "1982   94.296296          82.586796    0  448\n",
      "1983  120.425926          91.882897    0  441\n",
      "1984  228.703704         113.146681   44  598\n",
      "1985  181.481481          81.869757   38  421\n",
      "1986  121.074074          66.724101   26  318\n",
      "1987   98.537037          51.661904   20  221\n",
      "1988  271.981481         122.152074   64  603\n",
      "1989   91.722222          43.624839   26  245\n",
      "1990  131.907407          84.154459   23  463\n",
      "1991  134.240741          66.355087   35  413\n",
      "1992   95.592593          95.347031   23  546\n",
      "1993  124.203704          72.813913   23  468\n",
      "1994   74.629630          40.780032   21  190\n",
      "1995   58.944444          28.686954   20  144\n",
      "1996  162.500000          70.489492   46  425\n",
      "1997  383.407407         178.209876  126  918\n",
      "1998  143.333333          78.657250    0  449\n",
      "1999  205.351852         133.007262    0  863\n",
      "2000  143.370370          82.451399    0  519\n",
      "2001  106.203704          60.157626    0  333\n",
      "2002   84.222222          44.968164    0  261\n",
      "2003  151.592593          90.545981    0  493\n",
      "2004  108.055556          60.328243    0  322\n",
      "2005   52.981481          33.964846    0  157\n",
      "2006   51.870370          35.444294    0  149\n",
      "2007   30.555556          41.787676    0  127\n"
     ]
    }
   ],
   "source": [
    "result = an.statistics(data_frame=data_frame)\n",
    "print(result)"
   ]
  },
  {
   "cell_type": "code",
   "execution_count": null,
   "metadata": {},
   "outputs": [],
   "source": []
  }
 ],
 "metadata": {
  "kernelspec": {
   "display_name": "Python 3",
   "language": "python",
   "name": "python3"
  },
  "language_info": {
   "codemirror_mode": {
    "name": "ipython",
    "version": 3
   },
   "file_extension": ".py",
   "mimetype": "text/x-python",
   "name": "python",
   "nbconvert_exporter": "python",
   "pygments_lexer": "ipython3",
   "version": "3.7.3"
  }
 },
 "nbformat": 4,
 "nbformat_minor": 2
}
