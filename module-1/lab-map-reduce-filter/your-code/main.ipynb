{
 "cells": [
  {
   "cell_type": "markdown",
   "metadata": {},
   "source": [
    "# Before your start:\n",
    "- Read the README.md file\n",
    "- Comment as much as you can and use the resources in the README.md file\n",
    "- Happy learning!"
   ]
  },
  {
   "cell_type": "code",
   "execution_count": 1,
   "metadata": {},
   "outputs": [],
   "source": [
    "# import reduce from functools, numpy and pandas\n",
    "\n",
    "import functools, numpy, pandas"
   ]
  },
  {
   "cell_type": "markdown",
   "metadata": {},
   "source": [
    "# Challenge 1 - Mapping\n",
    "\n",
    "#### We will use the map function to clean up a words in a book.\n",
    "\n",
    "In the following cell, we will read a text file containing the book The Prophet by Khalil Gibran."
   ]
  },
  {
   "cell_type": "code",
   "execution_count": 10,
   "metadata": {},
   "outputs": [],
   "source": [
    "# Run this code:\n",
    "\n",
    "location = '../58585-0.txt'\n",
    "with open(location, 'r', encoding=\"utf8\") as f:\n",
    "    prophet = f.read().split(' ')"
   ]
  },
  {
   "cell_type": "markdown",
   "metadata": {},
   "source": [
    "#### Let's remove the first 568 words since they contain information about the book but are not part of the book itself. \n",
    "\n",
    "Do this by removing from `prophet` elements 0 through 567 of the list (you can also do this by keeping elements 568 through the last element)."
   ]
  },
  {
   "cell_type": "code",
   "execution_count": 17,
   "metadata": {
    "scrolled": false
   },
   "outputs": [
    {
     "name": "stdout",
     "output_type": "stream",
     "text": [
      "['terms\\nof', 'Gibran\\n\\nRelease', 'January', 'Page', 'text', 'Alfred', 'Original', 'universal', 'KAHLIL', '1920', 'Gods.', 'Nymphs', 'Children.................21\\n', 'Sorrow...........33\\n', 'Freedom..................55\\n', 'Good', 'On', 'On', 'On', 'On', 'the{7}', 'to\\nreturn', 'seventh\\nday', 'flew', 'prayed', 'sadness\\ncame', 'without\\nregret?\\n\\nToo', 'own\\nhands.\\n\\nNor', 'thirst.\\n\\n*****\\n\\nYet', 'is\\nhere.', 'ether.\\n\\nAnd', 'sea,\\nand', 'cried', 'dream.\\n\\nReady', '{10}And', 'a\\nboundless', 'city\\ngates.\\n\\nAnd', 'coming', 'has\\nleft', '{11}Shall', 'flow', 'me?\\n\\nA', 'seed,', 'flame\\nthat', 'raise', 'much\\nin', 'forth\\nand', 'us\\ndreams', 'years', 'veils', 'him.\\nBut', 'falling', 'believed', 'long', 'place\\nof', 'it\\nshall', 'weeping', 'and\\ndeath.\\n\\n*****\\n\\nAnd', 'looked', 'to\\nhim,\\n\\nThough', 'crowns', 'and\\n{16}caresses', 'and\\nshake', 'sifts', 'a\\nfragment', 'you\\ncover', 'itself.\\n\\nLove', 'directs', 'brook', 'thanks', 'with\\ngratitude;\\n\\nAnd', '_Marriage_', 'you\\nshall', 'white\\nwings', 'bond', 'cup.\\n\\nGive', 'quiver', 'Life', 'shadow.\\n\\n[Illustration:', 'of\\nLife’s', 'their\\nsouls,\\n\\nFor', 'tarries', 'mark', 'bending', '*****\\n\\n{23}Then', 'you\\ntruly', 'bones\\nin', 'dread', 'hidden\\ndesire', 'is\\nnever', 'seek\\njoy,', 'valley', 'earth.\\n\\n[Illustration:', 'greater\\nthan', 'now,', 'his\\ndays', 'charity,', 'unabashed?\\n\\nSee', 'deem', 'are\\nall', 'overmindful', '*****\\n\\n{27}Then', 'light.\\n\\nBut', 'an\\nact', 'man.\\n\\n*****\\n\\nWhen', 'slain;', 'but\\nthe', 'heart,\\n\\n“Your', 'shall\\nblossom', 'the\\nwinepress,', 'draw', 'for\\nthe', 'become', 'towards', 'dumb', 'was\\nborn,\\n\\nAnd', 'secret.\\n\\n*****\\n\\nBut', 'sweat', 'is\\nwritten.\\n\\nYou', 'yourself,', 'threads\\ndrawn', 'if\\nyour', 'dead\\nare', '{33}And', 'the\\nwind', 'grass;\\n\\nAnd', 'loving.\\n\\n*****\\n\\nWork', 'at\\nthe', 'bread', 'the\\ngrapes,', '{34}And', 'voices', 'rises', 'carves', 'burned', 'joyous,', 'is\\ngiving', 'weeping', '“Joy', 'are\\ninseparable.\\n\\nTogether', 'at\\nstandstill', 'silver,', 'bower', 'walls.\\n\\nFor', 'body.\\n\\nIt', 'dream?\\nand', 'meadow.\\n\\nWould', 'through\\nvineyards,', 'little\\nlonger', 'And', 'lust\\nfor', 'scourge', 'bed', 'funeral.\\n\\nBut', 'that\\n{40}covers', 'bend', 'crack', 'shelter', 'of\\n_Clothes_.\\n\\nAnd', 'conceal', 'harness', 'north', 'north', 'forest.', 'forget', '*****\\n\\n{43}And', 'how\\nto', 'the\\nearth', 'and\\nkindly', 'the\\ngatherers', 'weighs', 'would\\nsell', 'us.”\\n\\n*****\\n\\nAnd', 'gifts', 'bring,\\nthough', 'are\\nsatisfied.\\n\\n*****', 'wandering\\nupon', 'undefiled.\\n\\nAnd', 'man,', 'shapeless', 'god-self', 'crime.\\n\\n*****\\n\\nOftentimes', 'stranger', 'fall\\nlower', '{47}So', 'wrong', 'procession', 'behind', 'against\\nthe', 'surer', 'blameless', 'clean', 'burden', 'breaks,', 'judgment\\nthe', 'fruitful', 'together', 'honest', 'lay', 'their\\nmisdeeds?\\n\\nIs', 'lay', 'guilty.\\n\\nUnbidden', 'upon\\nthemselves.', 'fullness\\nof', 'between', 'in\\nits', 'sand-towers', 'laughs', 'law\\na', 'likeness?', 'loves', 'deer', 'goes', 'down', 'hold\\nyou?\\n\\nYou', 'stumble', 'to\\njudgment', 'garment\\nyet', 'man’s', 'strings\\nof', 'freedom,\\n\\nEven', 'grief,\\n\\nBut', 'hour?\\n\\nIn', 'though\\nits', 'would\\nabolish,', 'would\\n{56}dethrone,', 'and\\nthe', 'tyranny', 'care', 'you.\\n\\nAnd', 'desired\\nand', 'pursued', 'shadows', 'freedom', 'becomes', 'spoke', 'against', 'discord\\nand', 'yourselves\\nbe', 'either', 'toss', 'standstill', 'passion,\\nunattended,', 'exalt', 'it\\nmay', 'passion', 'guest\\nabove', 'the\\nfaith', 'shade', 'peace', 'meadows--then', 'heart\\nsay', 'passion.”\\n\\nAnd', 'stand', 'your\\npain', 'your\\nheart,', 'bitter', 'is\\nguided', 'with\\nHis', 'sacred', 'you\\nhave', 'well-spring', 'murmuring', 'revealed', 'your\\nunknown', 'boundless', '“I', 'neither\\ndoes', 'itself,', 'teacher,', 'asleep', 'wisdom', 'house', 'musician', 'it.\\n{65}And', 'measure,', 'alone\\nin', 'God’s', 'so', 'answered.\\n\\nHe', 'friend', '“ay.”\\n\\nAnd', 'heart;\\n\\nFor', 'shared,', 'you\\ngrieve', 'plain.', 'spirit.\\n\\nFor', 'the\\nunprofitable', 'him', 'friend', 'him', 'him', 'emptiness.\\n\\nAnd', 'laughter,', 'finds', 'morning', 'of\\n_Talking_.\\n\\nAnd', 'talk', 'live', 'cage', 'aloneness', 'there', 'tell', 'friend', 'move', 'ear;\\n\\nFor', 'truth', 'measureless\\nand', 'adjust', 'direct', 'course', 'watch', 'first', 'feel', 'thought', 'time', 'thought', 'each', 'seasons,\\n\\nAnd', 'today', 'one', 'Evil_.\\n\\nAnd', 'answered:\\n\\nOf', 'hunger', 'thirst?\\n\\nVerily', 'thirsts\\nit', 'one', 'one', 'house', 'wander\\naimlessly', 'bottom.', 'ripe', 'fruit', 'need,', 'speech,\\n\\nYet', 'speech', 'tongue.\\n\\nYou', 'goal\\nfirmly', 'limp', 'good,\\n\\nYou', 'stags', 'a\\ntorrent', 'secrets', 'that\\nloses', 'let', 'him', 'are\\nyou', '“What', 'saying:\\n\\nYou', 'should\\nspur', 'those', 'very\\n{77}hour,', 'save', 'let', 'for\\nno', 'shall\\nnot', 'pray', 'save', 'prayer', 'seas\\ncan', 'prayer', 'thy', 'turn', 'art', 'more\\nof', 'Speak\\nto', 'deep', 'singing.\\n\\nSome', 'elders', 'comforts', 'there', 'those', 'it.\\n\\nBut', 'their\\npleasure.\\n\\nAnd', 'too', 'dig', 'quivering', 'tell', 'who', 'the\\nstillness', 'pool\\nwhich', 'being.\\n\\nWho', 'knows', 'body', 'bring', 'ask', 'gardens,', 'bee', 'bee', 'giving\\nand', 'your\\npleasures', 'said,', 'way', 'speech?\\n\\nThe', 'own\\nglory', 'say,', 'say,', 'faint', 'say,', 'say,', 'leaping', 'reapers\\nsay,', '{85}All', 'beauty,\\n\\nYet', 'truth', 'spoke', 'ecstasy.\\n\\nIt', 'forth,\\n\\nBut', 'enflamed', 'song', 'furrowed\\nbark,', 'said,', 'Speak', '_Religion_.\\n\\nAnd', 'said:\\n\\nHave', 'deeds', 'wonder', 'the\\nloom?\\n\\nWho', 'hours', 'body?”\\n\\nAll', 'hours', 'self', 'his', 'better', 'tear', 'his', 'who', 'his', 'his', 'song', 'but', 'house', 'his', 'soul', 'daily', 'your\\nreligion.\\n\\nWhenever', 'plough', 'revery', 'fall', 'cannot', 'yourself', 'would', 'God', 'lightning', 'Him', 'waving', 'saying,', 'would', 'cannot', 'would', 'one,', 'heart', 'them', 'gate', 'but', 'him', 'his\\ntrembling?\\n\\n*****\\n\\nFor', 'but', 'stand', 'but\\nto', 'rise', 'God', 'when', 'your\\nlimbs,', 'truly', 'said,', 'spirit\\nthat', 'spoken.\\n\\nAnd', 'he', 'answered,', 'who', 'listener?\\n\\n*****\\n\\nThen', 'he', 'descended', 'the\\nTemple', 'he', 'his', 'again,', 'he', 'raised\\nhis', 'Orphalese,', 'seeking', 'finds', 'the\\nearth', 'tenacious\\nplant,', 'ripeness', 'heart', 'among', 'you,', 'again,\\n\\nAnd', 'heart', 'though', 'death', 'hide', 'me,', 'aught', 'go', 'but', 'down', 'love,', 'let', 'till', 'change,', 'but', 'his', 'his', 'his', 'should\\nsatisfy', 'his', 'needs.\\n\\nKnow', 'return.\\n\\nThe', 'but', 'shall\\nrise', 'gather', 'down', 'rain.\\n\\nAnd', 'mist', 'night', 'have\\nwalked', 'spirit\\nhas', 'oftentimes', 'among', 'youths', 'when', 'yet', '0119]\\n\\nBut', 'laughter', 'boundless', 'man', 'him', 'you\\nand', 'oak', 'apple\\nblossoms', 'man', 'lifts', 'into', 'told', 'even', 'but', 'truth.', 'strong', 'link.\\n\\nTo', 'your', 'its', 'your', 'failures', 'to\\ncast', 'like', 'though', 'tide', 'your', 'cannot', 'like', 'though', 'your', 'your\\nspring,\\n\\nYet', 'you,', 'say', 'things', 'say', 'one', 'but\\nthe', 'good', 'words', 'thought.\\n\\nAnd', 'what', 'knowledge', 'but', 'words', 'ancient', 'when', 'earth\\nknew', 'us', 'when', 'earth', 'men', 'wisdom.\\n\\nIt', 'spirit', 'you,', 'its', 'your', 'fear', 'mountains', 'pass', 'your', 'look', 'yourselves\\nand', 'your', 'children', 'unto', 'your', 'but', 'power', 'than', 'given,', 'been', 'me.\\n\\nYou', 'there', 'his', 'into', 'it.\\n\\n*****\\n\\nSome', 'deemed', 'proud', 'though', 'when', 'would', 'your', 'temple\\nwhen', 'would', 'me,\\n\\nYet', 'your', 'mindfulness\\nof', 'nights', 'give', 'know', 'all.', 'that\\ngazes', 'turns', 'good', 'calls', 'becomes', 'parent', 'a\\ncurse.\\n\\n*****\\n\\nAnd', 'drunk', 'said,', 'but', 'walked', 'remote', 'save', 'distance?\\n\\nHow', 'one', 'he', 'be\\ntar?\\n\\nAnd', 'among', 'called', 'unto', 'me,', 'stranger,', 'seek', 'the\\nunattainable?\\n\\nWhat', 'would', 'your', 'what', 'one', 'us.\\n\\nDescend', 'appease', 'your', 'hunger', 'your', 'our\\nwine.”\\n\\nIn', 'their', 'souls', 'were', 'their', 'deeper', 'but', 'your', 'your', 'your', 'seek', 'own', 'when', 'wings', 'were', 'their', 'earth', 'believer', 'have', 'put', 'finger\\nin', 'own', 'I', 'have', 'greater\\nknowledge', 'you.\\n\\n*****\\n\\nAnd', 'I', 'your', 'bodies,\\nnor', 'wind.\\n\\nIt', 'thing', 'crawls', 'into\\ndarkness', 'safety,\\n\\nBut', 'thing', 'spirit', 'earth', 'moves', 'seek', 'but', 'their', 'I', 'would', 'have', 'lives,', 'conceived\\nin', 'mist', 'who', 'knows', 'but', 'would', 'I', 'have', 'remember', 'feeble', 'your', 'that', 'that', 'city', 'there', 'but', 'would', 'cease', 'see', 'would', 'sound.\\n\\nBut', 'that', 'your', 'eyes', 'shall', 'that', 'it,\\n\\nAnd', 'clay', 'that', 'fills', 'your', 'ears', 'those', 'that', 'shall', 'shall', 'shall', 'nor', 'been', 'that', 'day', 'shall', 'know', 'things,\\n\\nAnd', 'shall', 'you\\nwould', 'things', 'he', 'him,', 'he', 'he', 'over', 'is', 'wind', 'are', 'direction;\\n\\nYet', 'my', 'captain', 'my', 'mariners,', 'who', 'have', 'heard', 'am', 'and\\nonce', 'mother', 'her', 'her', 'day', 'is', 'us', 'even', 'the\\nwater-lily', 'its', 'own', 'tomorrow.\\n\\nWhat', 'given', 'us', 'shall', 'it', 'not,', 'must\\nwe', 'come', 'together', 'together', 'unto', 'that', 'I', 'shall', 'come', 'my', 'longing', 'body.\\n\\nA', 'while,', 'shall', 'you', 'I', 'you.\\n\\nIt', 'but', 'have', 'I', 'your', 'have\\nbuilt', 'now', 'has', 'over,', 'it', 'is', 'is', 'us', 'has', 'more,', 'shall', 'speak', 'you', 'shall', 'sing', 'me', 'shall', 'tower', 'he', 'eastward.\\n\\nAnd', 'cry', 'came', 'it', 'into', 'dusk\\nand', 'carried', 'over', 'sea', 'like', 'ship', 'it', 'into\\nthe', 'when', 'were', 'alone', 'her', 'heart', 'his', 'while,', 'moment', 'rest', 'wind,', 'another', 'shall', 'PROPHET', 'should', '', 'old', 'will\\nbe', 'that', 'no', 'one', 'it', 'is', 'you', 'you', 'you', 'not', 'is', 'nearly', 'is', 'FULL', 'GUTENBERG', 'DISTRIBUTE', 'work\\n(or', 'way', 'you', 'file', 'By', 'you', 'that', 'you', 'have', 'license', 'and', 'intellectual', 'you', 'not', 'you', 'cease', 'and', 'you', 'and', 'you', 'not', 'bound\\nby', 'you', 'you', 'as', 'is', 'It', 'only', 'way', 'an', 'are', 'that', 'you', 'agreement.', 'are', 'things', 'you', 'if', 'you', 'and', '(\"the\\nFoundation\"', 'are', 'an', 'is', 'and', 'you', 'are', 'you', 'performing,\\ndisplaying', 'as', 'long', 'are', 'you', 'will', 'promoting\\nfree', 'sharing', 'its', 'when\\nyou', 'it', 'others.\\n\\n1.D.', 'you', 'are', 'govern\\nwhat', 'you', 'can', 'you', 'are', 'your', 'before', 'displaying,', 'based', 'work.', 'no\\nrepresentations', 'outside', 'you', 'have', 'all', 'appear\\nprominently', 'which', 'which', '\"Project', 'is', 'is', '', 'eBook', 'is', '', 'most', 'no', 'and', 'almost', '', 'give', 'it', '', 'the', '', 'eBook', 'you', 'are', 'not', '', \"you'll\", 'have', 'the', 'the', 'country', 'you\\n', '', 'are', 'before', 'an', 'not', 'that', 'it', 'is', 'the\\ncopyright', 'the', 'can', 'and', 'anyone', 'United', 'without', 'you', 'are\\nredistributing', 'a', 'the', 'the', 'you', 'the', 'the', 'the', 'and', 'the', 'as', '1.E.9.\\n\\n1.E.3.', 'an', 'is', 'the', 'the', 'your', 'and', '1.E.7', 'and', 'the', 'be', 'the', 'all', 'the', 'the', 'not', 'the', 'containing', 'a', 'this\\nwork', 'not', 'redistribute', 'part', 'the', 'links', 'the', 'of', 'the', 'and', 'word', 'if', 'you', 'of', 'a', 'in', 'a', 'than', 'in', 'the', 'the', 'you', 'no', 'expense\\nto', 'the', 'user,', 'a', 'a', 'of', 'a', 'a', 'a', 'upon', 'of', 'the', 'in', 'its', 'ASCII\"', 'form.', 'License', 'as', 'in', 'Do', 'not', 'a', 'for', 'displaying,\\nperforming,', 'you', '1.E.8', 'may', 'a', 'for', 'of', 'a', 'of', 'of', 'the', 'you', '', 'the', 'of', 'the', '', 'you', 'your', 'is', '', 'the', 'of', 'the', 'but', 'he', '', 'the', '', 'must', 'be', '', 'each', 'which', 'you', '', 'to', 'your', 'returns.', '', 'should', 'be', 'clearly', 'as', 'and', 'to', 'the', '', 'at', 'the', '', 'to', 'the', 'Gutenberg\\n', '', 'a', 'of', 'a', 'who', '', 'you', 'in', 'of', 'that', '', 'not', 'to', 'the', 'of', 'the', '', 'must', 'a', 'to', 'destroy', '', 'of', 'the', 'in', 'a', 'and', '', 'all', 'use', 'of', 'and', 'all', 'to', 'of', '', 'provide,', 'in', 'accordance', 'with', 'a', '', 'money', 'for', 'a', 'a', 'if', 'a', 'in', '', 'is', 'and', 'to', 'you', 'within', '', 'of', 'the', 'You', 'with', 'all', 'terms', 'of', 'for', '', 'of', 'works.\\n\\n1.E.9.', 'you', 'to', 'charge', 'a', 'fee', 'distribute', 'a', 'of', 'on', 'terms', 'in', 'you', 'must', 'permission', 'in', 'writing\\nfrom', 'the', 'and', 'the', 'of', 'the', 'the', 'as', 'in', 'below.\\n\\n1.F.\\n\\n1.F.1.', 'and', 'expend', 'to', 'and', 'not', 'in', 'the', 'and', 'the', 'on', 'which', 'they', 'may', 'be', 'such', 'but', 'not', 'data,', 'a', 'copyright', 'a', 'a', 'computer', 'that', 'or\\ncannot', 'be', 'read', 'your', 'for', 'the', 'in', 'the', 'the', 'of', 'the', 'trademark,', 'and', 'other', 'a', 'disclaim', 'to', 'you', 'for', 'and', 'IN', 'AGREE', 'THE\\nTRADEMARK', 'THIS', 'DAMAGES', 'YOU', 'POSSIBILITY', 'RIGHT', 'REPLACEMENT', 'you', 'in', 'within', '90', 'days', 'of', 'you', 'a', 'of', 'the', 'money', 'you', 'for', 'it', 'by', 'to', 'the', 'you', 'the', 'work', 'the', 'work', 'on', 'a', 'physical', 'you', 'must', 'the', 'your', 'written', 'that', 'the', 'work', 'may', 'elect', 'to', 'a', 'of', 'a', 'you', 'the', 'work', 'the', 'providing', 'it', 'to', 'you', 'may', 'to', 'give', 'you', 'a', 'to', 'the', 'work', 'electronically', 'in', 'lieu', 'of', 'a', 'is', 'you', 'may', 'a', 'in', 'to', 'the', 'for', 'the', 'limited', 'of', 'replacement', 'refund', 'paragraph', 'work', 'is', 'to', 'you', \"'AS-IS',\", 'OF', 'OR', 'FOR', 'not', 'of', 'the', 'of', 'types', 'If', 'set', 'in', 'the', 'law', 'of', 'the', 'to', 'shall', 'be', 'to', 'the', 'maximum', 'by', 'the', 'state', 'The', 'of', 'of', 'shall', 'not', 'void', 'You', 'to', 'and', 'the', 'agent', 'employee', 'of', 'the', 'of', 'with', 'this', 'agreement,', 'and', 'associated', 'with', 'the\\nproduction,', 'and', 'of', 'Gutenberg-tm\\nelectronic', 'harmless', 'from', 'all', 'and', 'that', 'or', 'from', 'of\\nthe', 'which', 'you', 'or', 'cause', 'to', 'occur:', 'of', 'work,', 'or', 'to', 'any', 'work,', 'and', 'any\\nDefect', 'you', 'cause.\\n\\nSection', 'the', 'of', 'is', 'with', 'the', 'free', 'in', 'formats', 'by', 'the', 'and', 'of', 'the', 'of', 'of', 'and', 'people', 'in', 'all', 'walks', 'of', 'and', 'to', 'with', 'they', 'are', 'to', 'and', 'that', 'the', 'freely', 'for', 'to', 'the', 'was', 'to', 'provide', 'a', 'for', 'and', 'To', 'the', 'and', 'your', 'and', 'can', '3', 'and', '4', 'and', 'the', 'Section', 'the', 'Literary', 'Archive', 'is', 'a', 'corporation', 'the', 'of', 'of', 'and', 'by', 'the', 'The', 'or', 'is', 'to', 'the', 'Gutenberg', 'are', 'to', 'the', 'full', 'federal', 'and', 'your', 'is', 'in', 'with', 'address:', 'Fairbanks,', 'but', 'and', 'are', 'is', 'at', 'West,', 'links', 'and', 'to\\ndate', 'can', 'be', 'at', 'the', \"Foundation's\", 'at', 'contact', '', '', '', 'Gregory', '', '', '', 'and', '', '', '', '4.', 'to', 'the', 'Archive', 'upon', 'and', 'cannot', 'without', 'support', 'and', 'to', 'its', 'the', 'of', 'public', 'and', 'works', 'that', 'can', 'in', 'accessible', 'by', 'the', 'of', 'small', 'to', 'are', 'to', 'exempt\\nstatus', 'with', 'the', 'is', 'to', 'with', 'the', 'and', 'in', 'all', '50', 'of', 'the', 'are', 'not', 'and', 'it', 'effort,', 'and', 'to', 'and', 'these', 'We', 'do', 'not', 'in', 'have', 'not', 'written', 'of', 'To', 'or', 'the', 'of', 'for', 'any', 'www.gutenberg.org/donate\\n\\nWhile', 'cannot', 'and', 'do', 'not', 'solicit', 'from', 'where', 'not', 'met', 'the', 'requirements,', 'know', 'of', 'no', 'from', 'donors', 'in', 'such', 'us', 'with', 'to', 'are', 'but', 'cannot', 'of', 'donations', 'the', 'United', 'States.', 'laws', 'alone', 'small', 'the', 'Project', 'Gutenberg', 'for', 'and', 'are', 'in', 'a', 'of', 'including', 'payments', 'and', 'credit', 'General', 'Project', 'Gutenberg-tm', 'electronic', 'was', 'the', 'originator', 'of', 'the', 'concept', 'of', 'a', 'of', 'electronic', 'works', 'that', 'be\\nfreely', 'with', 'For', 'he', 'Project', 'Gutenberg-tm', 'with', 'only', 'a', 'Gutenberg-tm', 'are', 'often', 'from', 'all', 'of', 'which', 'are', 'as', 'not', 'protected', 'by', 'copyright', 'U.S.', 'unless', 'a', 'copyright', 'is', 'do', 'keep', 'in', 'with', 'any', 'people', 'at', 'which', 'has', 'the', 'Web', 'information', 'Project', 'how', 'to', 'donations', 'to', 'the', 'Project', 'Gutenberg', 'how', 'to', 'produce', 'and', 'how', 'to', 'our', 'to', 'hear', 'about', 'new']\n"
     ]
    }
   ],
   "source": [
    "# Your code here:\n",
    "index = 0\n",
    "\n",
    "for element in prophet:\n",
    "    prophet.remove(element)\n",
    "    index += index +1\n",
    "    if index == 566:\n",
    "        break\n",
    "    \n",
    "print(prophet)\n",
    "\n"
   ]
  },
  {
   "cell_type": "markdown",
   "metadata": {},
   "source": [
    "If you look through the words, you will find that many words have a reference attached to them. For example, let's look at words 1 through 10."
   ]
  },
  {
   "cell_type": "code",
   "execution_count": 16,
   "metadata": {},
   "outputs": [],
   "source": [
    "# Your code here:\n",
    "\n"
   ]
  },
  {
   "cell_type": "markdown",
   "metadata": {},
   "source": [
    "#### The next step is to create a function that will remove references. \n",
    "\n",
    "We will do this by splitting the string on the `{` character and keeping only the part before this character. Write your function below."
   ]
  },
  {
   "cell_type": "code",
   "execution_count": 36,
   "metadata": {},
   "outputs": [],
   "source": [
    "def reference(x):\n",
    "    '''\n",
    "    Input: A string\n",
    "    Output: The string with references removed\n",
    "    \n",
    "    Example:\n",
    "    Input: 'the{7}'\n",
    "    Output: 'the'\n",
    "    '''\n",
    "    \n",
    "    # Your code here:\n",
    "    return(x.split('{')[0])\n",
    "    "
   ]
  },
  {
   "cell_type": "markdown",
   "metadata": {},
   "source": [
    "Now that we have our function, use the `map()` function to apply this function to our book, The Prophet. Return the resulting list to a new list called `prophet_reference`"
   ]
  },
  {
   "cell_type": "code",
   "execution_count": 41,
   "metadata": {},
   "outputs": [
    {
     "name": "stdout",
     "output_type": "stream",
     "text": [
      "<map object at 0x1103f83c8>\n"
     ]
    }
   ],
   "source": [
    "# Your code here:\n",
    "l = []\n",
    "#s = 'the{7}'\n",
    "#print(reference(\n",
    "l =map(reference,prophet)\n",
    "print(l)"
   ]
  },
  {
   "cell_type": "markdown",
   "metadata": {},
   "source": [
    "Another thing you may have noticed is that some words contain a line break. Let's write a function to split those words. Our function will return the string split on the character `\\n`. Write your function in the cell below."
   ]
  },
  {
   "cell_type": "code",
   "execution_count": 8,
   "metadata": {},
   "outputs": [],
   "source": [
    "def line_break(x):\n",
    "    '''\n",
    "    Input: A string\n",
    "    Output: A list of strings split on the line break (\\n) character\n",
    "        \n",
    "    Example:\n",
    "    Input: 'the\\nbeloved'\n",
    "    Output: ['the', 'beloved']\n",
    "    '''\n",
    "    \n",
    "    # Your code here:\n",
    "    \n",
    "    "
   ]
  },
  {
   "cell_type": "markdown",
   "metadata": {},
   "source": [
    "Apply the `line_break` function to the `prophet_reference` list. Name the new list `prophet_line`."
   ]
  },
  {
   "cell_type": "code",
   "execution_count": null,
   "metadata": {},
   "outputs": [],
   "source": [
    "# Your code here:\n",
    "\n"
   ]
  },
  {
   "cell_type": "markdown",
   "metadata": {},
   "source": [
    "If you look at the elements of `prophet_line`, you will see that the function returned lists and not strings. Our list is now a list of lists. Flatten the list using list comprehension. Assign this new list to `prophet_flat`."
   ]
  },
  {
   "cell_type": "code",
   "execution_count": 11,
   "metadata": {},
   "outputs": [],
   "source": [
    "# Your code here:\n",
    "\n"
   ]
  },
  {
   "cell_type": "markdown",
   "metadata": {},
   "source": [
    "# Challenge 2 - Filtering\n",
    "\n",
    "When printing out a few words from the book, we see that there are words that we may not want to keep if we choose to analyze the corpus of text. Below is a list of words that we would like to get rid of. Create a function that will return false if it contains a word from the list of words specified and true otherwise."
   ]
  },
  {
   "cell_type": "code",
   "execution_count": 12,
   "metadata": {},
   "outputs": [],
   "source": [
    "def word_filter(x):\n",
    "    '''\n",
    "    Input: A string\n",
    "    Output: true if the word is not in the specified list and false if the word is in the list\n",
    "        \n",
    "    Example:\n",
    "    word list = ['and', 'the']\n",
    "    Input: 'and'\n",
    "    Output: False\n",
    "    \n",
    "    Input: 'John'\n",
    "    Output: True\n",
    "    '''\n",
    "    \n",
    "    word_list = ['and', 'the', 'a', 'an']\n",
    "    \n",
    "    # Your code here:\n",
    "    \n",
    "    "
   ]
  },
  {
   "cell_type": "markdown",
   "metadata": {},
   "source": [
    "Use the `filter()` function to filter out the words speficied in the `word_filter()` function. Store the filtered list in the variable `prophet_filter`."
   ]
  },
  {
   "cell_type": "markdown",
   "metadata": {},
   "source": [
    "# Bonus Challenge - Part 1\n",
    "\n",
    "Rewrite the `word_filter` function above to not be case sensitive."
   ]
  },
  {
   "cell_type": "code",
   "execution_count": 13,
   "metadata": {},
   "outputs": [],
   "source": [
    "def word_filter_case(x):\n",
    "   \n",
    "    word_list = ['and', 'the', 'a', 'an']\n",
    "    \n",
    "    # Your code here:\n",
    "    \n",
    "    "
   ]
  },
  {
   "cell_type": "markdown",
   "metadata": {},
   "source": [
    "# Challenge 3 - Reducing\n",
    "\n",
    "#### Now that we have significantly cleaned up our text corpus, let's use the `reduce()` function to put the words back together into one long string separated by spaces. \n",
    "\n",
    "We will start by writing a function that takes two strings and concatenates them together with a space between the two strings."
   ]
  },
  {
   "cell_type": "code",
   "execution_count": 14,
   "metadata": {},
   "outputs": [],
   "source": [
    "def concat_space(a, b):\n",
    "    '''\n",
    "    Input:Two strings\n",
    "    Output: A single string separated by a space\n",
    "        \n",
    "    Example:\n",
    "    Input: 'John', 'Smith'\n",
    "    Output: 'John Smith'\n",
    "    '''\n",
    "    \n",
    "    # Your code here:\n",
    "    "
   ]
  },
  {
   "cell_type": "markdown",
   "metadata": {},
   "source": [
    "Use the function above to reduce the text corpus in the list `prophet_filter` into a single string. Assign this new string to the variable `prophet_string`."
   ]
  },
  {
   "cell_type": "code",
   "execution_count": 15,
   "metadata": {},
   "outputs": [],
   "source": [
    "# Your code here:\n",
    "\n"
   ]
  },
  {
   "cell_type": "markdown",
   "metadata": {},
   "source": [
    "# Challenge 4 - Applying Functions to DataFrames\n",
    "\n",
    "#### Our next step is to use the apply function to a dataframe and transform all cells.\n",
    "\n",
    "To do this, we will load a dataset below and then write a function that will perform the transformation."
   ]
  },
  {
   "cell_type": "code",
   "execution_count": 17,
   "metadata": {},
   "outputs": [],
   "source": [
    "# Run this code:\n",
    "\n",
    "# The dataset below contains information about pollution from PM2.5 particles in Beijing \n",
    "\n",
    "url = \"https://archive.ics.uci.edu/ml/machine-learning-databases/00381/PRSA_data_2010.1.1-2014.12.31.csv\"\n",
    "pm25 = pd.read_csv(url)"
   ]
  },
  {
   "cell_type": "markdown",
   "metadata": {},
   "source": [
    "Let's look at the data using the `head()` function."
   ]
  },
  {
   "cell_type": "code",
   "execution_count": 18,
   "metadata": {},
   "outputs": [],
   "source": [
    "# Your code here:\n",
    "\n"
   ]
  },
  {
   "cell_type": "markdown",
   "metadata": {},
   "source": [
    "The next step is to create a function that divides a cell by 24 to produce an hourly figure. Write the function below."
   ]
  },
  {
   "cell_type": "code",
   "execution_count": 19,
   "metadata": {},
   "outputs": [],
   "source": [
    "def hourly(x):\n",
    "    '''\n",
    "    Input: A numerical value\n",
    "    Output: The value divided by 24\n",
    "        \n",
    "    Example:\n",
    "    Input: 48\n",
    "    Output: 2.0\n",
    "    '''\n",
    "    \n",
    "    # Your code here:\n",
    "    "
   ]
  },
  {
   "cell_type": "markdown",
   "metadata": {},
   "source": [
    "Apply this function to the columns `Iws`, `Is`, and `Ir`. Store this new dataframe in the variable `pm25_hourly`."
   ]
  },
  {
   "cell_type": "code",
   "execution_count": 20,
   "metadata": {},
   "outputs": [],
   "source": [
    "# Your code here:\n",
    "\n"
   ]
  },
  {
   "cell_type": "markdown",
   "metadata": {},
   "source": [
    "#### Our last challenge will be to create an aggregate function and apply it to a select group of columns in our dataframe.\n",
    "\n",
    "Write a function that returns the standard deviation of a column divided by the length of a column minus 1. Since we are using pandas, do not use the `len()` function. One alternative is to use `count()`. Also, use the numpy version of standard deviation."
   ]
  },
  {
   "cell_type": "code",
   "execution_count": 21,
   "metadata": {},
   "outputs": [],
   "source": [
    "def sample_sd(x):\n",
    "    '''\n",
    "    Input: A Pandas series of values\n",
    "    Output: the standard deviation divided by the number of elements in the series\n",
    "        \n",
    "    Example:\n",
    "    Input: pd.Series([1,2,3,4])\n",
    "    Output: 0.3726779962\n",
    "    '''\n",
    "    \n",
    "    # Your code here:\n",
    "    \n",
    "    "
   ]
  },
  {
   "cell_type": "code",
   "execution_count": null,
   "metadata": {},
   "outputs": [],
   "source": []
  }
 ],
 "metadata": {
  "kernelspec": {
   "display_name": "Python 3",
   "language": "python",
   "name": "python3"
  },
  "language_info": {
   "codemirror_mode": {
    "name": "ipython",
    "version": 3
   },
   "file_extension": ".py",
   "mimetype": "text/x-python",
   "name": "python",
   "nbconvert_exporter": "python",
   "pygments_lexer": "ipython3",
   "version": "3.7.3"
  }
 },
 "nbformat": 4,
 "nbformat_minor": 2
}
