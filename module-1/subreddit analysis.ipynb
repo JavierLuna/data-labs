{
 "cells": [
  {
   "cell_type": "markdown",
   "metadata": {},
   "source": [
    "## Subredit analysys"
   ]
  },
  {
   "cell_type": "code",
   "execution_count": 1,
   "metadata": {},
   "outputs": [],
   "source": [
    "import pandas as pd\n",
    "from scraping import get_all_comments_from_subreddit"
   ]
  },
  {
   "cell_type": "markdown",
   "metadata": {},
   "source": [
    "## Getting the data"
   ]
  },
  {
   "cell_type": "code",
   "execution_count": 2,
   "metadata": {},
   "outputs": [
    {
     "name": "stdout",
     "output_type": "stream",
     "text": [
      "Getting posts from /r/askreddit...\n",
      "Getting comments from https://reddit.com/r/AskReddit/comments/c0qaj7/have_you_ever_quit_a_job_without_another_lined_up/.json...\n",
      "Getting comments from https://reddit.com/r/AskReddit/comments/c0ocp5/it_people_of_reddit_what_is_your_goto_generic/.json...\n",
      "Getting comments from https://reddit.com/r/AskReddit/comments/c0matc/which_two_and_two_did_you_just_recently_put/.json...\n",
      "Getting comments from https://reddit.com/r/AskReddit/comments/c0kwdw/teachers_of_reddit_what_is_the_weirdest_excuse/.json...\n",
      "Getting comments from https://reddit.com/r/AskReddit/comments/c0kyo0/americans_whove_visited_european_countries_what/.json...\n",
      "Getting comments from https://reddit.com/r/AskReddit/comments/c0liuk/liberals_of_reddit_what_is_your_most_conservative/.json...\n",
      "Getting comments from https://reddit.com/r/AskReddit/comments/c0n5pd/its_a_post_apocalyptic_world_however_reddit_is/.json...\n",
      "Getting comments from https://reddit.com/r/AskReddit/comments/c0ovb8/serious_doctor_of_reddit_what_was_the_saddest/.json...\n",
      "Getting comments from https://reddit.com/r/AskReddit/comments/c0oyfb/an_alien_is_trying_to_impersonate_you_and_looks/.json...\n",
      "Getting comments from https://reddit.com/r/AskReddit/comments/c0ijuy/teachers_of_reddit_what_are_some_of_the_weirdest/.json...\n",
      "Getting comments from https://reddit.com/r/AskReddit/comments/c0pt9o/serious_whats_something_harmless_your_parents_did/.json...\n",
      "Getting comments from https://reddit.com/r/AskReddit/comments/c0rjaa/what_is_the_worst_feeling_that_isnt_pain/.json...\n",
      "Getting comments from https://reddit.com/r/AskReddit/comments/c0ia83/which_movie_villain_would_be_considered_a_hero_in/.json...\n",
      "Getting comments from https://reddit.com/r/AskReddit/comments/c0iqzu/what_happened_at_your_school_that_shocks_you_to/.json...\n",
      "Getting comments from https://reddit.com/r/AskReddit/comments/c0i0o1/what_illegal_thing_would_you_do_as_soon_as_its/.json...\n",
      "Getting comments from https://reddit.com/r/AskReddit/comments/c0lwed/if_keanu_reeves_is_the_internets_boyfriend_who_is/.json...\n",
      "Getting comments from https://reddit.com/r/AskReddit/comments/c0gzqf/if_you_won_10_million_what_are_literally_the/.json...\n",
      "Getting comments from https://reddit.com/r/AskReddit/comments/c0lv2m/if_you_had_a_warning_label_what_would_it_say/.json...\n",
      "Getting comments from https://reddit.com/r/AskReddit/comments/c0u9up/redditors_who_are_you_and_what_do_you_do/.json...\n",
      "Getting comments from https://reddit.com/r/AskReddit/comments/c0vcpt/which_is_the_worst_single_decision_in_history/.json...\n",
      "Getting comments from https://reddit.com/r/AskReddit/comments/c0tyde/high_rise_window_cleaners_what_have_you/.json...\n",
      "Getting comments from https://reddit.com/r/AskReddit/comments/c0sifa/substitute_teachers_of_reddit_whats_the_hardest/.json...\n",
      "Getting comments from https://reddit.com/r/AskReddit/comments/c0ni9t/gamers_of_reddit_you_are_placed_into_an_arcade/.json...\n",
      "Getting comments from https://reddit.com/r/AskReddit/comments/c0vgd9/our_father_is_dying_of_alzheimers_within_the_next/.json...\n",
      "Getting comments from https://reddit.com/r/AskReddit/comments/c0kml2/redditors_what_made_you_go_thank_god_i_broke_up/.json...\n"
     ]
    }
   ],
   "source": [
    "subreddit_url = \"/r/askreddit\"\n",
    "comments = get_all_comments_from_subreddit(subreddit_url)"
   ]
  },
  {
   "cell_type": "markdown",
   "metadata": {},
   "source": [
    "## Cleaning data"
   ]
  },
  {
   "cell_type": "code",
   "execution_count": 13,
   "metadata": {},
   "outputs": [],
   "source": [
    "df = pd.DataFrame(comments)\n",
    "df = df.sort_values(['score'], ascending=[0])"
   ]
  },
  {
   "cell_type": "code",
   "execution_count": 14,
   "metadata": {},
   "outputs": [],
   "source": [
    "# regex para quitar signos de puntuación \\w+:\\/{2}[\\d\\w-]+(\\.[\\d\\w-]+)*(?:(?:\\/[^\\s/]*))*\n",
    "df['content'] = df['content'].str.replace(r'\\w+:\\/{2}[\\d\\w-]+(\\.[\\d\\w-]+)*(?:(?:\\/[^\\s/]*))*', '')"
   ]
  },
  {
   "cell_type": "code",
   "execution_count": 15,
   "metadata": {},
   "outputs": [
    {
     "data": {
      "text/html": [
       "<div>\n",
       "<style scoped>\n",
       "    .dataframe tbody tr th:only-of-type {\n",
       "        vertical-align: middle;\n",
       "    }\n",
       "\n",
       "    .dataframe tbody tr th {\n",
       "        vertical-align: top;\n",
       "    }\n",
       "\n",
       "    .dataframe thead th {\n",
       "        text-align: right;\n",
       "    }\n",
       "</style>\n",
       "<table border=\"1\" class=\"dataframe\">\n",
       "  <thead>\n",
       "    <tr style=\"text-align: right;\">\n",
       "      <th></th>\n",
       "      <th>content</th>\n",
       "      <th>score</th>\n",
       "    </tr>\n",
       "  </thead>\n",
       "  <tbody>\n",
       "    <tr>\n",
       "      <th>104</th>\n",
       "      <td>Valve released Steam. \\n\\nTook me entirely too...</td>\n",
       "      <td>35254</td>\n",
       "    </tr>\n",
       "    <tr>\n",
       "      <th>563</th>\n",
       "      <td>A sugar glider. Kept hearing a high pitched sq...</td>\n",
       "      <td>27285</td>\n",
       "    </tr>\n",
       "    <tr>\n",
       "      <th>79</th>\n",
       "      <td>In Spanish, hats are called \"sombrero\" because...</td>\n",
       "      <td>27142</td>\n",
       "    </tr>\n",
       "    <tr>\n",
       "      <th>1037</th>\n",
       "      <td>Fyre Festival VIP suites</td>\n",
       "      <td>24677</td>\n",
       "    </tr>\n",
       "    <tr>\n",
       "      <th>80</th>\n",
       "      <td>I race cars in an amateur league. There is a b...</td>\n",
       "      <td>23204</td>\n",
       "    </tr>\n",
       "  </tbody>\n",
       "</table>\n",
       "</div>"
      ],
      "text/plain": [
       "                                                content  score\n",
       "104   Valve released Steam. \\n\\nTook me entirely too...  35254\n",
       "563   A sugar glider. Kept hearing a high pitched sq...  27285\n",
       "79    In Spanish, hats are called \"sombrero\" because...  27142\n",
       "1037                           Fyre Festival VIP suites  24677\n",
       "80    I race cars in an amateur league. There is a b...  23204"
      ]
     },
     "execution_count": 15,
     "metadata": {},
     "output_type": "execute_result"
    }
   ],
   "source": [
    "df.head()"
   ]
  },
  {
   "cell_type": "code",
   "execution_count": 16,
   "metadata": {},
   "outputs": [
    {
     "name": "stderr",
     "output_type": "stream",
     "text": [
      "[nltk_data] Downloading package punkt to /Users/macbook/nltk_data...\n",
      "[nltk_data]   Package punkt is already up-to-date!\n",
      "[nltk_data] Downloading package stopwords to\n",
      "[nltk_data]     /Users/macbook/nltk_data...\n",
      "[nltk_data]   Package stopwords is already up-to-date!\n"
     ]
    },
    {
     "data": {
      "text/plain": [
       "True"
      ]
     },
     "execution_count": 16,
     "metadata": {},
     "output_type": "execute_result"
    }
   ],
   "source": [
    "import nltk\n",
    "nltk.download('punkt')\n",
    "nltk.download('stopwords')\n",
    "\n"
   ]
  },
  {
   "cell_type": "markdown",
   "metadata": {},
   "source": [
    "## Tokenize comment (turn phrase into list of words)"
   ]
  },
  {
   "cell_type": "code",
   "execution_count": 17,
   "metadata": {},
   "outputs": [
    {
     "data": {
      "text/html": [
       "<div>\n",
       "<style scoped>\n",
       "    .dataframe tbody tr th:only-of-type {\n",
       "        vertical-align: middle;\n",
       "    }\n",
       "\n",
       "    .dataframe tbody tr th {\n",
       "        vertical-align: top;\n",
       "    }\n",
       "\n",
       "    .dataframe thead th {\n",
       "        text-align: right;\n",
       "    }\n",
       "</style>\n",
       "<table border=\"1\" class=\"dataframe\">\n",
       "  <thead>\n",
       "    <tr style=\"text-align: right;\">\n",
       "      <th></th>\n",
       "      <th>content</th>\n",
       "      <th>score</th>\n",
       "    </tr>\n",
       "  </thead>\n",
       "  <tbody>\n",
       "    <tr>\n",
       "      <th>104</th>\n",
       "      <td>[Valve, released, Steam, ., Took, me, entirely...</td>\n",
       "      <td>35254</td>\n",
       "    </tr>\n",
       "    <tr>\n",
       "      <th>563</th>\n",
       "      <td>[A, sugar, glider, ., Kept, hearing, a, high, ...</td>\n",
       "      <td>27285</td>\n",
       "    </tr>\n",
       "    <tr>\n",
       "      <th>79</th>\n",
       "      <td>[In, Spanish, ,, hats, are, called, ``, sombre...</td>\n",
       "      <td>27142</td>\n",
       "    </tr>\n",
       "    <tr>\n",
       "      <th>1037</th>\n",
       "      <td>[Fyre, Festival, VIP, suites]</td>\n",
       "      <td>24677</td>\n",
       "    </tr>\n",
       "    <tr>\n",
       "      <th>80</th>\n",
       "      <td>[I, race, cars, in, an, amateur, league, ., Th...</td>\n",
       "      <td>23204</td>\n",
       "    </tr>\n",
       "  </tbody>\n",
       "</table>\n",
       "</div>"
      ],
      "text/plain": [
       "                                                content  score\n",
       "104   [Valve, released, Steam, ., Took, me, entirely...  35254\n",
       "563   [A, sugar, glider, ., Kept, hearing, a, high, ...  27285\n",
       "79    [In, Spanish, ,, hats, are, called, ``, sombre...  27142\n",
       "1037                      [Fyre, Festival, VIP, suites]  24677\n",
       "80    [I, race, cars, in, an, amateur, league, ., Th...  23204"
      ]
     },
     "execution_count": 17,
     "metadata": {},
     "output_type": "execute_result"
    }
   ],
   "source": [
    "df['content'] = df['content'].apply(lambda comment: nltk.word_tokenize(comment))\n",
    "df.head()tc"
   ]
  },
  {
   "cell_type": "markdown",
   "metadata": {},
   "source": [
    "## Nº words in comment"
   ]
  },
  {
   "cell_type": "code",
   "execution_count": 18,
   "metadata": {},
   "outputs": [
    {
     "data": {
      "text/html": [
       "<div>\n",
       "<style scoped>\n",
       "    .dataframe tbody tr th:only-of-type {\n",
       "        vertical-align: middle;\n",
       "    }\n",
       "\n",
       "    .dataframe tbody tr th {\n",
       "        vertical-align: top;\n",
       "    }\n",
       "\n",
       "    .dataframe thead th {\n",
       "        text-align: right;\n",
       "    }\n",
       "</style>\n",
       "<table border=\"1\" class=\"dataframe\">\n",
       "  <thead>\n",
       "    <tr style=\"text-align: right;\">\n",
       "      <th></th>\n",
       "      <th>content</th>\n",
       "      <th>score</th>\n",
       "      <th>word_count</th>\n",
       "    </tr>\n",
       "  </thead>\n",
       "  <tbody>\n",
       "    <tr>\n",
       "      <th>104</th>\n",
       "      <td>[Valve, released, Steam, ., Took, me, entirely...</td>\n",
       "      <td>35254</td>\n",
       "      <td>14</td>\n",
       "    </tr>\n",
       "    <tr>\n",
       "      <th>563</th>\n",
       "      <td>[A, sugar, glider, ., Kept, hearing, a, high, ...</td>\n",
       "      <td>27285</td>\n",
       "      <td>32</td>\n",
       "    </tr>\n",
       "    <tr>\n",
       "      <th>79</th>\n",
       "      <td>[In, Spanish, ,, hats, are, called, ``, sombre...</td>\n",
       "      <td>27142</td>\n",
       "      <td>18</td>\n",
       "    </tr>\n",
       "    <tr>\n",
       "      <th>1037</th>\n",
       "      <td>[Fyre, Festival, VIP, suites]</td>\n",
       "      <td>24677</td>\n",
       "      <td>4</td>\n",
       "    </tr>\n",
       "    <tr>\n",
       "      <th>80</th>\n",
       "      <td>[I, race, cars, in, an, amateur, league, ., Th...</td>\n",
       "      <td>23204</td>\n",
       "      <td>45</td>\n",
       "    </tr>\n",
       "  </tbody>\n",
       "</table>\n",
       "</div>"
      ],
      "text/plain": [
       "                                                content  score  word_count\n",
       "104   [Valve, released, Steam, ., Took, me, entirely...  35254          14\n",
       "563   [A, sugar, glider, ., Kept, hearing, a, high, ...  27285          32\n",
       "79    [In, Spanish, ,, hats, are, called, ``, sombre...  27142          18\n",
       "1037                      [Fyre, Festival, VIP, suites]  24677           4\n",
       "80    [I, race, cars, in, an, amateur, league, ., Th...  23204          45"
      ]
     },
     "execution_count": 18,
     "metadata": {},
     "output_type": "execute_result"
    }
   ],
   "source": [
    "df['word_count'] = df['content'].apply(len)\n",
    "df.head()"
   ]
  },
  {
   "cell_type": "markdown",
   "metadata": {},
   "source": [
    "## Nº chars in comment"
   ]
  },
  {
   "cell_type": "code",
   "execution_count": 19,
   "metadata": {},
   "outputs": [
    {
     "data": {
      "text/html": [
       "<div>\n",
       "<style scoped>\n",
       "    .dataframe tbody tr th:only-of-type {\n",
       "        vertical-align: middle;\n",
       "    }\n",
       "\n",
       "    .dataframe tbody tr th {\n",
       "        vertical-align: top;\n",
       "    }\n",
       "\n",
       "    .dataframe thead th {\n",
       "        text-align: right;\n",
       "    }\n",
       "</style>\n",
       "<table border=\"1\" class=\"dataframe\">\n",
       "  <thead>\n",
       "    <tr style=\"text-align: right;\">\n",
       "      <th></th>\n",
       "      <th>content</th>\n",
       "      <th>score</th>\n",
       "      <th>word_count</th>\n",
       "      <th>char_len</th>\n",
       "    </tr>\n",
       "  </thead>\n",
       "  <tbody>\n",
       "    <tr>\n",
       "      <th>104</th>\n",
       "      <td>[Valve, released, Steam, ., Took, me, entirely...</td>\n",
       "      <td>35254</td>\n",
       "      <td>14</td>\n",
       "      <td>56</td>\n",
       "    </tr>\n",
       "    <tr>\n",
       "      <th>563</th>\n",
       "      <td>[A, sugar, glider, ., Kept, hearing, a, high, ...</td>\n",
       "      <td>27285</td>\n",
       "      <td>32</td>\n",
       "      <td>122</td>\n",
       "    </tr>\n",
       "    <tr>\n",
       "      <th>79</th>\n",
       "      <td>[In, Spanish, ,, hats, are, called, ``, sombre...</td>\n",
       "      <td>27142</td>\n",
       "      <td>18</td>\n",
       "      <td>67</td>\n",
       "    </tr>\n",
       "    <tr>\n",
       "      <th>1037</th>\n",
       "      <td>[Fyre, Festival, VIP, suites]</td>\n",
       "      <td>24677</td>\n",
       "      <td>4</td>\n",
       "      <td>21</td>\n",
       "    </tr>\n",
       "    <tr>\n",
       "      <th>80</th>\n",
       "      <td>[I, race, cars, in, an, amateur, league, ., Th...</td>\n",
       "      <td>23204</td>\n",
       "      <td>45</td>\n",
       "      <td>169</td>\n",
       "    </tr>\n",
       "  </tbody>\n",
       "</table>\n",
       "</div>"
      ],
      "text/plain": [
       "                                                content  score  word_count  \\\n",
       "104   [Valve, released, Steam, ., Took, me, entirely...  35254          14   \n",
       "563   [A, sugar, glider, ., Kept, hearing, a, high, ...  27285          32   \n",
       "79    [In, Spanish, ,, hats, are, called, ``, sombre...  27142          18   \n",
       "1037                      [Fyre, Festival, VIP, suites]  24677           4   \n",
       "80    [I, race, cars, in, an, amateur, league, ., Th...  23204          45   \n",
       "\n",
       "      char_len  \n",
       "104         56  \n",
       "563        122  \n",
       "79          67  \n",
       "1037        21  \n",
       "80         169  "
      ]
     },
     "execution_count": 19,
     "metadata": {},
     "output_type": "execute_result"
    }
   ],
   "source": [
    "df['char_len'] = df['content'].apply(lambda comment: sum(len(word) for word in comment))\n",
    "df.head()"
   ]
  },
  {
   "cell_type": "markdown",
   "metadata": {},
   "source": [
    "## Character/word average"
   ]
  },
  {
   "cell_type": "code",
   "execution_count": 23,
   "metadata": {},
   "outputs": [
    {
     "data": {
      "text/html": [
       "<div>\n",
       "<style scoped>\n",
       "    .dataframe tbody tr th:only-of-type {\n",
       "        vertical-align: middle;\n",
       "    }\n",
       "\n",
       "    .dataframe tbody tr th {\n",
       "        vertical-align: top;\n",
       "    }\n",
       "\n",
       "    .dataframe thead th {\n",
       "        text-align: right;\n",
       "    }\n",
       "</style>\n",
       "<table border=\"1\" class=\"dataframe\">\n",
       "  <thead>\n",
       "    <tr style=\"text-align: right;\">\n",
       "      <th></th>\n",
       "      <th>content</th>\n",
       "      <th>score</th>\n",
       "      <th>word_count</th>\n",
       "      <th>char_len</th>\n",
       "      <th>avg_word</th>\n",
       "      <th>stopwords</th>\n",
       "      <th>upper_words</th>\n",
       "    </tr>\n",
       "  </thead>\n",
       "  <tbody>\n",
       "    <tr>\n",
       "      <th>104</th>\n",
       "      <td>[Valve, released, Steam, ., Took, me, entirely...</td>\n",
       "      <td>35254</td>\n",
       "      <td>14</td>\n",
       "      <td>56</td>\n",
       "      <td>4.000000</td>\n",
       "      <td>4</td>\n",
       "      <td>0</td>\n",
       "    </tr>\n",
       "    <tr>\n",
       "      <th>563</th>\n",
       "      <td>[A, sugar, glider, ., Kept, hearing, a, high, ...</td>\n",
       "      <td>27285</td>\n",
       "      <td>32</td>\n",
       "      <td>122</td>\n",
       "      <td>3.812500</td>\n",
       "      <td>12</td>\n",
       "      <td>1</td>\n",
       "    </tr>\n",
       "    <tr>\n",
       "      <th>79</th>\n",
       "      <td>[In, Spanish, ,, hats, are, called, ``, sombre...</td>\n",
       "      <td>27142</td>\n",
       "      <td>18</td>\n",
       "      <td>67</td>\n",
       "      <td>3.722222</td>\n",
       "      <td>3</td>\n",
       "      <td>0</td>\n",
       "    </tr>\n",
       "    <tr>\n",
       "      <th>1037</th>\n",
       "      <td>[Fyre, Festival, VIP, suites]</td>\n",
       "      <td>24677</td>\n",
       "      <td>4</td>\n",
       "      <td>21</td>\n",
       "      <td>5.250000</td>\n",
       "      <td>0</td>\n",
       "      <td>1</td>\n",
       "    </tr>\n",
       "    <tr>\n",
       "      <th>80</th>\n",
       "      <td>[I, race, cars, in, an, amateur, league, ., Th...</td>\n",
       "      <td>23204</td>\n",
       "      <td>45</td>\n",
       "      <td>169</td>\n",
       "      <td>3.755556</td>\n",
       "      <td>17</td>\n",
       "      <td>3</td>\n",
       "    </tr>\n",
       "  </tbody>\n",
       "</table>\n",
       "</div>"
      ],
      "text/plain": [
       "                                                content  score  word_count  \\\n",
       "104   [Valve, released, Steam, ., Took, me, entirely...  35254          14   \n",
       "563   [A, sugar, glider, ., Kept, hearing, a, high, ...  27285          32   \n",
       "79    [In, Spanish, ,, hats, are, called, ``, sombre...  27142          18   \n",
       "1037                      [Fyre, Festival, VIP, suites]  24677           4   \n",
       "80    [I, race, cars, in, an, amateur, league, ., Th...  23204          45   \n",
       "\n",
       "      char_len  avg_word  stopwords  upper_words  \n",
       "104         56  4.000000          4            0  \n",
       "563        122  3.812500         12            1  \n",
       "79          67  3.722222          3            0  \n",
       "1037        21  5.250000          0            1  \n",
       "80         169  3.755556         17            3  "
      ]
     },
     "execution_count": 23,
     "metadata": {},
     "output_type": "execute_result"
    }
   ],
   "source": [
    "def avg_word(comment):\n",
    "    return (sum(len(word) for word in comment)/len(comment))\n",
    "df['avg_word'] = df['content'].apply(avg_word)\n",
    "df.head()"
   ]
  },
  {
   "cell_type": "markdown",
   "metadata": {},
   "source": [
    "## Nº english stopwords"
   ]
  },
  {
   "cell_type": "code",
   "execution_count": 24,
   "metadata": {},
   "outputs": [
    {
     "data": {
      "text/html": [
       "<div>\n",
       "<style scoped>\n",
       "    .dataframe tbody tr th:only-of-type {\n",
       "        vertical-align: middle;\n",
       "    }\n",
       "\n",
       "    .dataframe tbody tr th {\n",
       "        vertical-align: top;\n",
       "    }\n",
       "\n",
       "    .dataframe thead th {\n",
       "        text-align: right;\n",
       "    }\n",
       "</style>\n",
       "<table border=\"1\" class=\"dataframe\">\n",
       "  <thead>\n",
       "    <tr style=\"text-align: right;\">\n",
       "      <th></th>\n",
       "      <th>content</th>\n",
       "      <th>score</th>\n",
       "      <th>word_count</th>\n",
       "      <th>char_len</th>\n",
       "      <th>avg_word</th>\n",
       "      <th>stopwords</th>\n",
       "      <th>upper_words</th>\n",
       "    </tr>\n",
       "  </thead>\n",
       "  <tbody>\n",
       "    <tr>\n",
       "      <th>104</th>\n",
       "      <td>[Valve, released, Steam, ., Took, me, entirely...</td>\n",
       "      <td>35254</td>\n",
       "      <td>14</td>\n",
       "      <td>56</td>\n",
       "      <td>4.000000</td>\n",
       "      <td>4</td>\n",
       "      <td>0</td>\n",
       "    </tr>\n",
       "    <tr>\n",
       "      <th>563</th>\n",
       "      <td>[A, sugar, glider, ., Kept, hearing, a, high, ...</td>\n",
       "      <td>27285</td>\n",
       "      <td>32</td>\n",
       "      <td>122</td>\n",
       "      <td>3.812500</td>\n",
       "      <td>12</td>\n",
       "      <td>1</td>\n",
       "    </tr>\n",
       "    <tr>\n",
       "      <th>79</th>\n",
       "      <td>[In, Spanish, ,, hats, are, called, ``, sombre...</td>\n",
       "      <td>27142</td>\n",
       "      <td>18</td>\n",
       "      <td>67</td>\n",
       "      <td>3.722222</td>\n",
       "      <td>3</td>\n",
       "      <td>0</td>\n",
       "    </tr>\n",
       "    <tr>\n",
       "      <th>1037</th>\n",
       "      <td>[Fyre, Festival, VIP, suites]</td>\n",
       "      <td>24677</td>\n",
       "      <td>4</td>\n",
       "      <td>21</td>\n",
       "      <td>5.250000</td>\n",
       "      <td>0</td>\n",
       "      <td>1</td>\n",
       "    </tr>\n",
       "    <tr>\n",
       "      <th>80</th>\n",
       "      <td>[I, race, cars, in, an, amateur, league, ., Th...</td>\n",
       "      <td>23204</td>\n",
       "      <td>45</td>\n",
       "      <td>169</td>\n",
       "      <td>3.755556</td>\n",
       "      <td>17</td>\n",
       "      <td>3</td>\n",
       "    </tr>\n",
       "  </tbody>\n",
       "</table>\n",
       "</div>"
      ],
      "text/plain": [
       "                                                content  score  word_count  \\\n",
       "104   [Valve, released, Steam, ., Took, me, entirely...  35254          14   \n",
       "563   [A, sugar, glider, ., Kept, hearing, a, high, ...  27285          32   \n",
       "79    [In, Spanish, ,, hats, are, called, ``, sombre...  27142          18   \n",
       "1037                      [Fyre, Festival, VIP, suites]  24677           4   \n",
       "80    [I, race, cars, in, an, amateur, league, ., Th...  23204          45   \n",
       "\n",
       "      char_len  avg_word  stopwords  upper_words  \n",
       "104         56  4.000000          4            0  \n",
       "563        122  3.812500         12            1  \n",
       "79          67  3.722222          3            0  \n",
       "1037        21  5.250000          0            1  \n",
       "80         169  3.755556         17            3  "
      ]
     },
     "execution_count": 24,
     "metadata": {},
     "output_type": "execute_result"
    }
   ],
   "source": [
    "from nltk.corpus import stopwords\n",
    "stop = stopwords.words('english')\n",
    "df['stopwords'] = df['content'].apply(lambda comment: len([word for word in comment if word in stop]))\n",
    "df.head()"
   ]
  },
  {
   "cell_type": "markdown",
   "metadata": {},
   "source": [
    "## Nº of upper words"
   ]
  },
  {
   "cell_type": "code",
   "execution_count": 25,
   "metadata": {},
   "outputs": [
    {
     "data": {
      "text/html": [
       "<div>\n",
       "<style scoped>\n",
       "    .dataframe tbody tr th:only-of-type {\n",
       "        vertical-align: middle;\n",
       "    }\n",
       "\n",
       "    .dataframe tbody tr th {\n",
       "        vertical-align: top;\n",
       "    }\n",
       "\n",
       "    .dataframe thead th {\n",
       "        text-align: right;\n",
       "    }\n",
       "</style>\n",
       "<table border=\"1\" class=\"dataframe\">\n",
       "  <thead>\n",
       "    <tr style=\"text-align: right;\">\n",
       "      <th></th>\n",
       "      <th>content</th>\n",
       "      <th>score</th>\n",
       "      <th>word_count</th>\n",
       "      <th>char_len</th>\n",
       "      <th>avg_word</th>\n",
       "      <th>stopwords</th>\n",
       "      <th>upper_words</th>\n",
       "    </tr>\n",
       "  </thead>\n",
       "  <tbody>\n",
       "    <tr>\n",
       "      <th>104</th>\n",
       "      <td>[Valve, released, Steam, ., Took, me, entirely...</td>\n",
       "      <td>35254</td>\n",
       "      <td>14</td>\n",
       "      <td>56</td>\n",
       "      <td>4.000000</td>\n",
       "      <td>4</td>\n",
       "      <td>0</td>\n",
       "    </tr>\n",
       "    <tr>\n",
       "      <th>563</th>\n",
       "      <td>[A, sugar, glider, ., Kept, hearing, a, high, ...</td>\n",
       "      <td>27285</td>\n",
       "      <td>32</td>\n",
       "      <td>122</td>\n",
       "      <td>3.812500</td>\n",
       "      <td>12</td>\n",
       "      <td>1</td>\n",
       "    </tr>\n",
       "    <tr>\n",
       "      <th>79</th>\n",
       "      <td>[In, Spanish, ,, hats, are, called, ``, sombre...</td>\n",
       "      <td>27142</td>\n",
       "      <td>18</td>\n",
       "      <td>67</td>\n",
       "      <td>3.722222</td>\n",
       "      <td>3</td>\n",
       "      <td>0</td>\n",
       "    </tr>\n",
       "    <tr>\n",
       "      <th>1037</th>\n",
       "      <td>[Fyre, Festival, VIP, suites]</td>\n",
       "      <td>24677</td>\n",
       "      <td>4</td>\n",
       "      <td>21</td>\n",
       "      <td>5.250000</td>\n",
       "      <td>0</td>\n",
       "      <td>1</td>\n",
       "    </tr>\n",
       "    <tr>\n",
       "      <th>80</th>\n",
       "      <td>[I, race, cars, in, an, amateur, league, ., Th...</td>\n",
       "      <td>23204</td>\n",
       "      <td>45</td>\n",
       "      <td>169</td>\n",
       "      <td>3.755556</td>\n",
       "      <td>17</td>\n",
       "      <td>3</td>\n",
       "    </tr>\n",
       "  </tbody>\n",
       "</table>\n",
       "</div>"
      ],
      "text/plain": [
       "                                                content  score  word_count  \\\n",
       "104   [Valve, released, Steam, ., Took, me, entirely...  35254          14   \n",
       "563   [A, sugar, glider, ., Kept, hearing, a, high, ...  27285          32   \n",
       "79    [In, Spanish, ,, hats, are, called, ``, sombre...  27142          18   \n",
       "1037                      [Fyre, Festival, VIP, suites]  24677           4   \n",
       "80    [I, race, cars, in, an, amateur, league, ., Th...  23204          45   \n",
       "\n",
       "      char_len  avg_word  stopwords  upper_words  \n",
       "104         56  4.000000          4            0  \n",
       "563        122  3.812500         12            1  \n",
       "79          67  3.722222          3            0  \n",
       "1037        21  5.250000          0            1  \n",
       "80         169  3.755556         17            3  "
      ]
     },
     "execution_count": 25,
     "metadata": {},
     "output_type": "execute_result"
    }
   ],
   "source": [
    "df['upper_words'] = df['content'].apply(lambda comment: len([word for word in comment if word.isupper()]))\n",
    "df.head()"
   ]
  },
  {
   "cell_type": "code",
   "execution_count": null,
   "metadata": {},
   "outputs": [],
   "source": []
  },
  {
   "cell_type": "code",
   "execution_count": null,
   "metadata": {},
   "outputs": [],
   "source": []
  }
 ],
 "metadata": {
  "kernelspec": {
   "display_name": "Python 3",
   "language": "python",
   "name": "python3"
  },
  "language_info": {
   "codemirror_mode": {
    "name": "ipython",
    "version": 3
   },
   "file_extension": ".py",
   "mimetype": "text/x-python",
   "name": "python",
   "nbconvert_exporter": "python",
   "pygments_lexer": "ipython3",
   "version": "3.7.3"
  }
 },
 "nbformat": 4,
 "nbformat_minor": 2
}
