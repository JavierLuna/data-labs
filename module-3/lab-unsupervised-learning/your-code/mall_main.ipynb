{
 "cells": [
  {
   "cell_type": "markdown",
   "metadata": {},
   "source": [
    "# Lab de unsupervised learning hecho con el dataset de Mall_Customers."
   ]
  },
  {
   "cell_type": "code",
   "execution_count": 2,
   "metadata": {},
   "outputs": [
    {
     "data": {
      "text/html": [
       "<div>\n",
       "<style scoped>\n",
       "    .dataframe tbody tr th:only-of-type {\n",
       "        vertical-align: middle;\n",
       "    }\n",
       "\n",
       "    .dataframe tbody tr th {\n",
       "        vertical-align: top;\n",
       "    }\n",
       "\n",
       "    .dataframe thead th {\n",
       "        text-align: right;\n",
       "    }\n",
       "</style>\n",
       "<table border=\"1\" class=\"dataframe\">\n",
       "  <thead>\n",
       "    <tr style=\"text-align: right;\">\n",
       "      <th></th>\n",
       "      <th>CustomerID</th>\n",
       "      <th>Gender</th>\n",
       "      <th>Age</th>\n",
       "      <th>Annual Income (k$)</th>\n",
       "      <th>Spending Score (1-100)</th>\n",
       "    </tr>\n",
       "  </thead>\n",
       "  <tbody>\n",
       "    <tr>\n",
       "      <td>0</td>\n",
       "      <td>1</td>\n",
       "      <td>Male</td>\n",
       "      <td>19</td>\n",
       "      <td>15</td>\n",
       "      <td>39</td>\n",
       "    </tr>\n",
       "    <tr>\n",
       "      <td>1</td>\n",
       "      <td>2</td>\n",
       "      <td>Male</td>\n",
       "      <td>21</td>\n",
       "      <td>15</td>\n",
       "      <td>81</td>\n",
       "    </tr>\n",
       "    <tr>\n",
       "      <td>2</td>\n",
       "      <td>3</td>\n",
       "      <td>Female</td>\n",
       "      <td>20</td>\n",
       "      <td>16</td>\n",
       "      <td>6</td>\n",
       "    </tr>\n",
       "    <tr>\n",
       "      <td>3</td>\n",
       "      <td>4</td>\n",
       "      <td>Female</td>\n",
       "      <td>23</td>\n",
       "      <td>16</td>\n",
       "      <td>77</td>\n",
       "    </tr>\n",
       "    <tr>\n",
       "      <td>4</td>\n",
       "      <td>5</td>\n",
       "      <td>Female</td>\n",
       "      <td>31</td>\n",
       "      <td>17</td>\n",
       "      <td>40</td>\n",
       "    </tr>\n",
       "  </tbody>\n",
       "</table>\n",
       "</div>"
      ],
      "text/plain": [
       "   CustomerID  Gender  Age  Annual Income (k$)  Spending Score (1-100)\n",
       "0           1    Male   19                  15                      39\n",
       "1           2    Male   21                  15                      81\n",
       "2           3  Female   20                  16                       6\n",
       "3           4  Female   23                  16                      77\n",
       "4           5  Female   31                  17                      40"
      ]
     },
     "execution_count": 2,
     "metadata": {},
     "output_type": "execute_result"
    }
   ],
   "source": [
    "%matplotlib inline\n",
    "import matplotlib.pyplot as plt\n",
    "\n",
    "import pandas as pd\n",
    "\n",
    "customers = pd.read_csv(\"../Mall_Customers.csv\")\n",
    "customers.head()"
   ]
  },
  {
   "cell_type": "code",
   "execution_count": 3,
   "metadata": {},
   "outputs": [
    {
     "data": {
      "text/html": [
       "<div>\n",
       "<style scoped>\n",
       "    .dataframe tbody tr th:only-of-type {\n",
       "        vertical-align: middle;\n",
       "    }\n",
       "\n",
       "    .dataframe tbody tr th {\n",
       "        vertical-align: top;\n",
       "    }\n",
       "\n",
       "    .dataframe thead th {\n",
       "        text-align: right;\n",
       "    }\n",
       "</style>\n",
       "<table border=\"1\" class=\"dataframe\">\n",
       "  <thead>\n",
       "    <tr style=\"text-align: right;\">\n",
       "      <th></th>\n",
       "      <th>CustomerID</th>\n",
       "      <th>Age</th>\n",
       "      <th>Annual Income (k$)</th>\n",
       "      <th>Spending Score (1-100)</th>\n",
       "    </tr>\n",
       "  </thead>\n",
       "  <tbody>\n",
       "    <tr>\n",
       "      <td>count</td>\n",
       "      <td>200.000000</td>\n",
       "      <td>200.000000</td>\n",
       "      <td>200.000000</td>\n",
       "      <td>200.000000</td>\n",
       "    </tr>\n",
       "    <tr>\n",
       "      <td>mean</td>\n",
       "      <td>100.500000</td>\n",
       "      <td>38.850000</td>\n",
       "      <td>60.560000</td>\n",
       "      <td>50.200000</td>\n",
       "    </tr>\n",
       "    <tr>\n",
       "      <td>std</td>\n",
       "      <td>57.879185</td>\n",
       "      <td>13.969007</td>\n",
       "      <td>26.264721</td>\n",
       "      <td>25.823522</td>\n",
       "    </tr>\n",
       "    <tr>\n",
       "      <td>min</td>\n",
       "      <td>1.000000</td>\n",
       "      <td>18.000000</td>\n",
       "      <td>15.000000</td>\n",
       "      <td>1.000000</td>\n",
       "    </tr>\n",
       "    <tr>\n",
       "      <td>25%</td>\n",
       "      <td>50.750000</td>\n",
       "      <td>28.750000</td>\n",
       "      <td>41.500000</td>\n",
       "      <td>34.750000</td>\n",
       "    </tr>\n",
       "    <tr>\n",
       "      <td>50%</td>\n",
       "      <td>100.500000</td>\n",
       "      <td>36.000000</td>\n",
       "      <td>61.500000</td>\n",
       "      <td>50.000000</td>\n",
       "    </tr>\n",
       "    <tr>\n",
       "      <td>75%</td>\n",
       "      <td>150.250000</td>\n",
       "      <td>49.000000</td>\n",
       "      <td>78.000000</td>\n",
       "      <td>73.000000</td>\n",
       "    </tr>\n",
       "    <tr>\n",
       "      <td>max</td>\n",
       "      <td>200.000000</td>\n",
       "      <td>70.000000</td>\n",
       "      <td>137.000000</td>\n",
       "      <td>99.000000</td>\n",
       "    </tr>\n",
       "  </tbody>\n",
       "</table>\n",
       "</div>"
      ],
      "text/plain": [
       "       CustomerID         Age  Annual Income (k$)  Spending Score (1-100)\n",
       "count  200.000000  200.000000          200.000000              200.000000\n",
       "mean   100.500000   38.850000           60.560000               50.200000\n",
       "std     57.879185   13.969007           26.264721               25.823522\n",
       "min      1.000000   18.000000           15.000000                1.000000\n",
       "25%     50.750000   28.750000           41.500000               34.750000\n",
       "50%    100.500000   36.000000           61.500000               50.000000\n",
       "75%    150.250000   49.000000           78.000000               73.000000\n",
       "max    200.000000   70.000000          137.000000               99.000000"
      ]
     },
     "execution_count": 3,
     "metadata": {},
     "output_type": "execute_result"
    }
   ],
   "source": [
    "customers.describe()"
   ]
  },
  {
   "cell_type": "code",
   "execution_count": 4,
   "metadata": {},
   "outputs": [
    {
     "data": {
      "text/plain": [
       "CustomerID                0\n",
       "Gender                    0\n",
       "Age                       0\n",
       "Annual Income (k$)        0\n",
       "Spending Score (1-100)    0\n",
       "dtype: int64"
      ]
     },
     "execution_count": 4,
     "metadata": {},
     "output_type": "execute_result"
    }
   ],
   "source": [
    "customers.isnull().sum()"
   ]
  },
  {
   "cell_type": "code",
   "execution_count": 5,
   "metadata": {},
   "outputs": [
    {
     "data": {
      "text/html": [
       "<div>\n",
       "<style scoped>\n",
       "    .dataframe tbody tr th:only-of-type {\n",
       "        vertical-align: middle;\n",
       "    }\n",
       "\n",
       "    .dataframe tbody tr th {\n",
       "        vertical-align: top;\n",
       "    }\n",
       "\n",
       "    .dataframe thead th {\n",
       "        text-align: right;\n",
       "    }\n",
       "</style>\n",
       "<table border=\"1\" class=\"dataframe\">\n",
       "  <thead>\n",
       "    <tr style=\"text-align: right;\">\n",
       "      <th></th>\n",
       "      <th>CustomerID</th>\n",
       "      <th>Age</th>\n",
       "      <th>Annual Income (k$)</th>\n",
       "      <th>Spending Score (1-100)</th>\n",
       "      <th>Gender_Male</th>\n",
       "    </tr>\n",
       "  </thead>\n",
       "  <tbody>\n",
       "    <tr>\n",
       "      <td>0</td>\n",
       "      <td>1</td>\n",
       "      <td>19</td>\n",
       "      <td>15</td>\n",
       "      <td>39</td>\n",
       "      <td>1</td>\n",
       "    </tr>\n",
       "    <tr>\n",
       "      <td>1</td>\n",
       "      <td>2</td>\n",
       "      <td>21</td>\n",
       "      <td>15</td>\n",
       "      <td>81</td>\n",
       "      <td>1</td>\n",
       "    </tr>\n",
       "    <tr>\n",
       "      <td>2</td>\n",
       "      <td>3</td>\n",
       "      <td>20</td>\n",
       "      <td>16</td>\n",
       "      <td>6</td>\n",
       "      <td>0</td>\n",
       "    </tr>\n",
       "    <tr>\n",
       "      <td>3</td>\n",
       "      <td>4</td>\n",
       "      <td>23</td>\n",
       "      <td>16</td>\n",
       "      <td>77</td>\n",
       "      <td>0</td>\n",
       "    </tr>\n",
       "    <tr>\n",
       "      <td>4</td>\n",
       "      <td>5</td>\n",
       "      <td>31</td>\n",
       "      <td>17</td>\n",
       "      <td>40</td>\n",
       "      <td>0</td>\n",
       "    </tr>\n",
       "  </tbody>\n",
       "</table>\n",
       "</div>"
      ],
      "text/plain": [
       "   CustomerID  Age  Annual Income (k$)  Spending Score (1-100)  Gender_Male\n",
       "0           1   19                  15                      39            1\n",
       "1           2   21                  15                      81            1\n",
       "2           3   20                  16                       6            0\n",
       "3           4   23                  16                      77            0\n",
       "4           5   31                  17                      40            0"
      ]
     },
     "execution_count": 5,
     "metadata": {},
     "output_type": "execute_result"
    }
   ],
   "source": [
    "customers = pd.get_dummies(customers, drop_first=True)\n",
    "customers.head()"
   ]
  },
  {
   "cell_type": "code",
   "execution_count": 6,
   "metadata": {},
   "outputs": [],
   "source": [
    "X = customers.drop('CustomerID', axis=1)"
   ]
  },
  {
   "cell_type": "markdown",
   "metadata": {},
   "source": [
    "# K-means"
   ]
  },
  {
   "cell_type": "code",
   "execution_count": 7,
   "metadata": {},
   "outputs": [
    {
     "data": {
      "image/png": "[encoded data removed]",
      "text/plain": [
       "<Figure size 432x288 with 1 Axes>"
      ]
     },
     "metadata": {
      "needs_background": "light"
     },
     "output_type": "display_data"
    }
   ],
   "source": [
    "# calculate distortion for a range of number of cluster\n",
    "# Esto me permite ver cuál es el número de clusters óptimo.\n",
    "\n",
    "from sklearn.cluster import KMeans\n",
    "\n",
    "distortions = []\n",
    "for i in range(1, 11):\n",
    "    km = KMeans(n_clusters=i, random_state=0)\n",
    "    km.fit(X)\n",
    "    distortions.append(km.inertia_)\n",
    "\n",
    "# plot\n",
    "plt.plot(range(1, 11), distortions, marker='o')\n",
    "plt.xlabel('Number of clusters')\n",
    "plt.ylabel('Distortion')\n",
    "plt.show()"
   ]
  },
  {
   "cell_type": "markdown",
   "metadata": {},
   "source": [
    "Voy a coger 5 clusters, ya que la distortion empieza a ser baja a partir de ahí."
   ]
  },
  {
   "cell_type": "code",
   "execution_count": 8,
   "metadata": {},
   "outputs": [
    {
     "data": {
      "text/plain": [
       "array([[40.32432432, 87.43243243, 18.18918919,  0.51351351],\n",
       "       [25.27272727, 25.72727273, 79.36363636,  0.40909091],\n",
       "       [45.2173913 , 26.30434783, 20.91304348,  0.39130435],\n",
       "       [32.69230769, 86.53846154, 82.12820513,  0.46153846],\n",
       "       [43.12658228, 54.82278481, 49.83544304,  0.41772152]])"
      ]
     },
     "execution_count": 8,
     "metadata": {},
     "output_type": "execute_result"
    }
   ],
   "source": [
    "from sklearn.cluster import KMeans\n",
    "\n",
    "km = KMeans(n_clusters=5, random_state=5)\n",
    "\n",
    "km.fit(X)\n",
    "km.cluster_centers_"
   ]
  },
  {
   "cell_type": "code",
   "execution_count": 9,
   "metadata": {},
   "outputs": [
    {
     "data": {
      "text/html": [
       "<div>\n",
       "<style scoped>\n",
       "    .dataframe tbody tr th:only-of-type {\n",
       "        vertical-align: middle;\n",
       "    }\n",
       "\n",
       "    .dataframe tbody tr th {\n",
       "        vertical-align: top;\n",
       "    }\n",
       "\n",
       "    .dataframe thead th {\n",
       "        text-align: right;\n",
       "    }\n",
       "</style>\n",
       "<table border=\"1\" class=\"dataframe\">\n",
       "  <thead>\n",
       "    <tr style=\"text-align: right;\">\n",
       "      <th></th>\n",
       "      <th>Age</th>\n",
       "      <th>Annual Income (k$)</th>\n",
       "      <th>Spending Score (1-100)</th>\n",
       "      <th>Gender_Male</th>\n",
       "      <th>Cluster_km</th>\n",
       "    </tr>\n",
       "  </thead>\n",
       "  <tbody>\n",
       "    <tr>\n",
       "      <td>0</td>\n",
       "      <td>19</td>\n",
       "      <td>15</td>\n",
       "      <td>39</td>\n",
       "      <td>1</td>\n",
       "      <td>2</td>\n",
       "    </tr>\n",
       "    <tr>\n",
       "      <td>1</td>\n",
       "      <td>21</td>\n",
       "      <td>15</td>\n",
       "      <td>81</td>\n",
       "      <td>1</td>\n",
       "      <td>1</td>\n",
       "    </tr>\n",
       "    <tr>\n",
       "      <td>2</td>\n",
       "      <td>20</td>\n",
       "      <td>16</td>\n",
       "      <td>6</td>\n",
       "      <td>0</td>\n",
       "      <td>2</td>\n",
       "    </tr>\n",
       "    <tr>\n",
       "      <td>3</td>\n",
       "      <td>23</td>\n",
       "      <td>16</td>\n",
       "      <td>77</td>\n",
       "      <td>0</td>\n",
       "      <td>1</td>\n",
       "    </tr>\n",
       "    <tr>\n",
       "      <td>4</td>\n",
       "      <td>31</td>\n",
       "      <td>17</td>\n",
       "      <td>40</td>\n",
       "      <td>0</td>\n",
       "      <td>2</td>\n",
       "    </tr>\n",
       "  </tbody>\n",
       "</table>\n",
       "</div>"
      ],
      "text/plain": [
       "   Age  Annual Income (k$)  Spending Score (1-100)  Gender_Male  Cluster_km\n",
       "0   19                  15                      39            1           2\n",
       "1   21                  15                      81            1           1\n",
       "2   20                  16                       6            0           2\n",
       "3   23                  16                      77            0           1\n",
       "4   31                  17                      40            0           2"
      ]
     },
     "execution_count": 9,
     "metadata": {},
     "output_type": "execute_result"
    }
   ],
   "source": [
    "y_km = km.predict(X)\n",
    "clustered_customers = X.copy()\n",
    "clustered_customers['Cluster_km'] = y_km\n",
    "clustered_customers.head()"
   ]
  },
  {
   "cell_type": "code",
   "execution_count": 10,
   "metadata": {},
   "outputs": [
    {
     "data": {
      "text/plain": [
       "4    79\n",
       "3    39\n",
       "0    37\n",
       "2    23\n",
       "1    22\n",
       "Name: Cluster_km, dtype: int64"
      ]
     },
     "execution_count": 10,
     "metadata": {},
     "output_type": "execute_result"
    }
   ],
   "source": [
    "clustered_customers['Cluster_km'].value_counts()"
   ]
  },
  {
   "cell_type": "code",
   "execution_count": 11,
   "metadata": {},
   "outputs": [
    {
     "data": {
      "text/plain": [
       "Cluster_km\n",
       "0    87.432432\n",
       "1    25.727273\n",
       "2    26.304348\n",
       "3    86.538462\n",
       "4    54.822785\n",
       "Name: Annual Income (k$), dtype: float64"
      ]
     },
     "execution_count": 11,
     "metadata": {},
     "output_type": "execute_result"
    }
   ],
   "source": [
    "clustered_customers.groupby(['Cluster_km'])['Annual Income (k$)'].mean()"
   ]
  },
  {
   "cell_type": "code",
   "execution_count": 12,
   "metadata": {},
   "outputs": [
    {
     "data": {
      "text/plain": [
       "Cluster_km\n",
       "0    18.189189\n",
       "1    79.363636\n",
       "2    20.913043\n",
       "3    82.128205\n",
       "4    49.835443\n",
       "Name: Spending Score (1-100), dtype: float64"
      ]
     },
     "execution_count": 12,
     "metadata": {},
     "output_type": "execute_result"
    }
   ],
   "source": [
    "clustered_customers.groupby(['Cluster_km'])['Spending Score (1-100)'].mean()"
   ]
  },
  {
   "cell_type": "markdown",
   "metadata": {},
   "source": [
    "De los dos resultados anteriores podemos concluir que:\n",
    "* Cluster 0: cobran mucho y gastan poco.\n",
    "* Cluster 1: cobran poco y gastan mucho.\n",
    "* Cluster 2: cobran poco y gastan poco.\n",
    "* Cluster 3: cobran mucho y gastan mucho.\n",
    "* Cluster 4: cobran medio y gastan medio."
   ]
  },
  {
   "cell_type": "code",
   "execution_count": 13,
   "metadata": {},
   "outputs": [
    {
     "data": {
      "text/plain": [
       "Cluster_km\n",
       "0    40.324324\n",
       "1    25.272727\n",
       "2    45.217391\n",
       "3    32.692308\n",
       "4    43.126582\n",
       "Name: Age, dtype: float64"
      ]
     },
     "execution_count": 13,
     "metadata": {},
     "output_type": "execute_result"
    }
   ],
   "source": [
    "clustered_customers.groupby(['Cluster_km'])['Age'].mean()"
   ]
  },
  {
   "cell_type": "markdown",
   "metadata": {},
   "source": [
    "# Hierarchical Clustering"
   ]
  },
  {
   "cell_type": "code",
   "execution_count": 14,
   "metadata": {},
   "outputs": [],
   "source": [
    "from sklearn.cluster import AgglomerativeClustering\n",
    "\n",
    "hier_clust = AgglomerativeClustering(linkage='ward', n_clusters=5)\n",
    "customers_hier = hier_clust.fit(X)"
   ]
  },
  {
   "cell_type": "code",
   "execution_count": 15,
   "metadata": {},
   "outputs": [
    {
     "data": {
      "text/plain": [
       "AgglomerativeClustering(affinity='euclidean', compute_full_tree='auto',\n",
       "                        connectivity=None, distance_threshold=None,\n",
       "                        linkage='ward', memory=None, n_clusters=5,\n",
       "                        pooling_func='deprecated')"
      ]
     },
     "execution_count": 15,
     "metadata": {},
     "output_type": "execute_result"
    }
   ],
   "source": [
    "customers_hier"
   ]
  },
  {
   "cell_type": "code",
   "execution_count": 16,
   "metadata": {},
   "outputs": [
    {
     "data": {
      "image/png": "[encoded data removed]",
      "text/plain": [
       "<Figure size 432x288 with 1 Axes>"
      ]
     },
     "metadata": {
      "needs_background": "light"
     },
     "output_type": "display_data"
    }
   ],
   "source": [
    "from scipy.cluster.hierarchy import dendrogram\n",
    "import numpy as np\n",
    "\n",
    "def plot_dendrogram(model, **kwargs):\n",
    "\n",
    "    # Children of hierarchical clustering\n",
    "    children = model.children_\n",
    "\n",
    "    # Distances between each pair of children\n",
    "    # Since we don't have this information, we can use a uniform one for plotting\n",
    "    distance = np.arange(children.shape[0])\n",
    "\n",
    "    # The number of observations contained in each cluster level\n",
    "    no_of_observations = np.arange(2, children.shape[0]+2)\n",
    "\n",
    "    # Create linkage matrix and then plot the dendrogram\n",
    "    linkage_matrix = np.column_stack([children, distance, no_of_observations]).astype(float)\n",
    "\n",
    "    # Plot the corresponding dendrogram\n",
    "    dendrogram(linkage_matrix, **kwargs)\n",
    "    \n",
    "plot_dendrogram(customers_hier, labels=customers_hier.labels_)"
   ]
  },
  {
   "cell_type": "code",
   "execution_count": 17,
   "metadata": {},
   "outputs": [
    {
     "name": "stdout",
     "output_type": "stream",
     "text": [
      "5\n",
      "[4 3 4 3 4 3 4 3 4 3 4 3 4 3 4 3 4 3 4 3 4 3 4 3 4 3 4 0 4 3 4 3 4 3 4 3 4\n",
      " 3 4 3 4 3 4 0 4 0 0 0 0 0 0 0 0 0 0 0 0 0 0 0 0 0 0 0 0 0 0 0 0 0 0 0 0 0\n",
      " 0 0 0 0 0 0 0 0 0 0 0 0 0 0 0 0 0 0 0 0 0 0 0 0 0 0 0 0 0 0 0 0 0 0 0 0 0\n",
      " 0 0 0 0 0 0 0 0 0 0 0 0 2 0 2 1 2 1 2 1 2 0 2 1 2 1 2 1 2 1 2 0 2 1 2 1 2\n",
      " 1 2 1 2 1 2 1 2 1 2 1 2 1 2 1 2 1 2 1 2 1 2 1 2 1 2 1 2 1 2 1 2 1 2 1 2 1\n",
      " 2 1 2 1 2 1 2 1 2 1 2 1 2 1 2]\n",
      "200\n",
      "1\n",
      "[[ 65  68]\n",
      " [129 131]\n",
      " [  3   5]\n",
      " [ 48  49]\n",
      " [106 109]\n",
      " [100 105]\n",
      " [114 115]\n",
      " [ 92  96]\n",
      " [147 159]\n",
      " [133 137]\n",
      " [101 207]\n",
      " [ 13  15]\n",
      " [ 83  85]\n",
      " [117 119]\n",
      " [156 158]\n",
      " [ 16  20]\n",
      " [ 60  70]\n",
      " [150 152]\n",
      " [ 50  56]\n",
      " [112 121]\n",
      " [110 204]\n",
      " [ 95  97]\n",
      " [ 75  78]\n",
      " [ 84  87]\n",
      " [181 183]\n",
      " [113 206]\n",
      " [ 43  51]\n",
      " [ 11  19]\n",
      " [ 79 212]\n",
      " [ 62  67]\n",
      " [ 64  72]\n",
      " [130 136]\n",
      " [143 149]\n",
      " [139 209]\n",
      " [ 54  59]\n",
      " [ 74  80]\n",
      " [167 173]\n",
      " [123 127]\n",
      " [187 191]\n",
      " [ 89 210]\n",
      " [ 99 225]\n",
      " [154 217]\n",
      " [170 172]\n",
      " [ 26  28]\n",
      " [ 90 102]\n",
      " [ 61 200]\n",
      " [103 120]\n",
      " [134 138]\n",
      " [157 161]\n",
      " [176 178]\n",
      " [104 213]\n",
      " [202 211]\n",
      " [108 116]\n",
      " [135 155]\n",
      " [124 132]\n",
      " [ 46 218]\n",
      " [141 232]\n",
      " [ 52  58]\n",
      " [107 118]\n",
      " [ 91 205]\n",
      " [ 21  23]\n",
      " [ 55  71]\n",
      " [171 177]\n",
      " [222 223]\n",
      " [ 57 229]\n",
      " [145 163]\n",
      " [ 53  63]\n",
      " [  1 251]\n",
      " [ 47 203]\n",
      " [ 93 219]\n",
      " [  9 260]\n",
      " [ 66  76]\n",
      " [ 24  34]\n",
      " [ 77 271]\n",
      " [ 98 239]\n",
      " [ 73 230]\n",
      " [ 35  39]\n",
      " [153 165]\n",
      " [111 240]\n",
      " [182 188]\n",
      " [125 233]\n",
      " [128 140]\n",
      " [  6  14]\n",
      " [ 30  32]\n",
      " [ 81  88]\n",
      " [253 256]\n",
      " [ 33  41]\n",
      " [126 146]\n",
      " [ 25  29]\n",
      " [ 42  44]\n",
      " [ 31 276]\n",
      " [175 179]\n",
      " [ 69 257]\n",
      " [180 184]\n",
      " [174 249]\n",
      " [195 197]\n",
      " [234 261]\n",
      " [208 280]\n",
      " [221 246]\n",
      " [144 247]\n",
      " [ 10  12]\n",
      " [189 224]\n",
      " [166 168]\n",
      " [ 94 269]\n",
      " [162 299]\n",
      " [  4 215]\n",
      " [235 275]\n",
      " [236 291]\n",
      " [ 45 226]\n",
      " [151 237]\n",
      " [220 252]\n",
      " [265 285]\n",
      " [258 274]\n",
      " [ 36  38]\n",
      " [216 264]\n",
      " [148 302]\n",
      " [169 262]\n",
      " [ 86 250]\n",
      " [ 37 290]\n",
      " [142 254]\n",
      " [160 164]\n",
      " [ 18 243]\n",
      " [201 297]\n",
      " [  8 300]\n",
      " [185 301]\n",
      " [248 277]\n",
      " [ 17 270]\n",
      " [194 196]\n",
      " [ 22 272]\n",
      " [190 279]\n",
      " [228 273]\n",
      " [ 82 310]\n",
      " [  7 227]\n",
      " [268 292]\n",
      " [255 266]\n",
      " [122 284]\n",
      " [283 328]\n",
      " [286 288]\n",
      " [ 27 308]\n",
      " [263 298]\n",
      " [259 278]\n",
      " [287 320]\n",
      " [231 241]\n",
      " [186 329]\n",
      " [199 295]\n",
      " [322 325]\n",
      " [242 315]\n",
      " [244 331]\n",
      " [  2 282]\n",
      " [193 324]\n",
      " [ 40 289]\n",
      " [  0 305]\n",
      " [267 326]\n",
      " [309 311]\n",
      " [296 330]\n",
      " [313 321]\n",
      " [306 314]\n",
      " [238 316]\n",
      " [198 327]\n",
      " [281 342]\n",
      " [192 343]\n",
      " [317 335]\n",
      " [318 337]\n",
      " [214 304]\n",
      " [245 339]\n",
      " [307 349]\n",
      " [323 336]\n",
      " [350 355]\n",
      " [303 312]\n",
      " [293 360]\n",
      " [334 354]\n",
      " [294 359]\n",
      " [333 338]\n",
      " [319 340]\n",
      " [347 356]\n",
      " [361 368]\n",
      " [346 371]\n",
      " [352 362]\n",
      " [332 377]\n",
      " [341 376]\n",
      " [345 357]\n",
      " [364 373]\n",
      " [358 369]\n",
      " [348 351]\n",
      " [370 375]\n",
      " [367 383]\n",
      " [353 365]\n",
      " [380 386]\n",
      " [363 379]\n",
      " [366 385]\n",
      " [372 381]\n",
      " [374 384]\n",
      " [344 387]\n",
      " [382 388]\n",
      " [390 391]\n",
      " [389 394]\n",
      " [378 395]\n",
      " [392 393]\n",
      " [396 397]]\n"
     ]
    }
   ],
   "source": [
    "print(customers_hier.n_clusters_)\n",
    "print(customers_hier.labels_)\n",
    "print(customers_hier.n_leaves_)\n",
    "print(customers_hier.n_connected_components_)\n",
    "print(customers_hier.children_)"
   ]
  },
  {
   "cell_type": "code",
   "execution_count": 18,
   "metadata": {},
   "outputs": [
    {
     "data": {
      "text/html": [
       "<div>\n",
       "<style scoped>\n",
       "    .dataframe tbody tr th:only-of-type {\n",
       "        vertical-align: middle;\n",
       "    }\n",
       "\n",
       "    .dataframe tbody tr th {\n",
       "        vertical-align: top;\n",
       "    }\n",
       "\n",
       "    .dataframe thead th {\n",
       "        text-align: right;\n",
       "    }\n",
       "</style>\n",
       "<table border=\"1\" class=\"dataframe\">\n",
       "  <thead>\n",
       "    <tr style=\"text-align: right;\">\n",
       "      <th></th>\n",
       "      <th>Age</th>\n",
       "      <th>Annual Income (k$)</th>\n",
       "      <th>Spending Score (1-100)</th>\n",
       "      <th>Gender_Male</th>\n",
       "      <th>Cluster_km</th>\n",
       "      <th>Cluster_hier</th>\n",
       "    </tr>\n",
       "  </thead>\n",
       "  <tbody>\n",
       "    <tr>\n",
       "      <td>0</td>\n",
       "      <td>19</td>\n",
       "      <td>15</td>\n",
       "      <td>39</td>\n",
       "      <td>1</td>\n",
       "      <td>2</td>\n",
       "      <td>4</td>\n",
       "    </tr>\n",
       "    <tr>\n",
       "      <td>1</td>\n",
       "      <td>21</td>\n",
       "      <td>15</td>\n",
       "      <td>81</td>\n",
       "      <td>1</td>\n",
       "      <td>1</td>\n",
       "      <td>3</td>\n",
       "    </tr>\n",
       "    <tr>\n",
       "      <td>2</td>\n",
       "      <td>20</td>\n",
       "      <td>16</td>\n",
       "      <td>6</td>\n",
       "      <td>0</td>\n",
       "      <td>2</td>\n",
       "      <td>4</td>\n",
       "    </tr>\n",
       "    <tr>\n",
       "      <td>3</td>\n",
       "      <td>23</td>\n",
       "      <td>16</td>\n",
       "      <td>77</td>\n",
       "      <td>0</td>\n",
       "      <td>1</td>\n",
       "      <td>3</td>\n",
       "    </tr>\n",
       "    <tr>\n",
       "      <td>4</td>\n",
       "      <td>31</td>\n",
       "      <td>17</td>\n",
       "      <td>40</td>\n",
       "      <td>0</td>\n",
       "      <td>2</td>\n",
       "      <td>4</td>\n",
       "    </tr>\n",
       "  </tbody>\n",
       "</table>\n",
       "</div>"
      ],
      "text/plain": [
       "   Age  Annual Income (k$)  Spending Score (1-100)  Gender_Male  Cluster_km  \\\n",
       "0   19                  15                      39            1           2   \n",
       "1   21                  15                      81            1           1   \n",
       "2   20                  16                       6            0           2   \n",
       "3   23                  16                      77            0           1   \n",
       "4   31                  17                      40            0           2   \n",
       "\n",
       "   Cluster_hier  \n",
       "0             4  \n",
       "1             3  \n",
       "2             4  \n",
       "3             3  \n",
       "4             4  "
      ]
     },
     "execution_count": 18,
     "metadata": {},
     "output_type": "execute_result"
    }
   ],
   "source": [
    "y_hier = customers_hier.labels_\n",
    "clustered_customers['Cluster_hier'] = y_hier\n",
    "clustered_customers.head()"
   ]
  },
  {
   "cell_type": "code",
   "execution_count": 19,
   "metadata": {},
   "outputs": [
    {
     "name": "stdout",
     "output_type": "stream",
     "text": [
      "1    22\n",
      "2    23\n",
      "0    37\n",
      "3    39\n",
      "4    79\n",
      "Name: Cluster_km, dtype: int64\n",
      "3    20\n",
      "4    23\n",
      "1    35\n",
      "2    39\n",
      "0    83\n",
      "Name: Cluster_hier, dtype: int64\n"
     ]
    }
   ],
   "source": [
    "print(clustered_customers['Cluster_km'].value_counts().sort_values())\n",
    "print(clustered_customers['Cluster_hier'].value_counts().sort_values())"
   ]
  },
  {
   "cell_type": "code",
   "execution_count": 20,
   "metadata": {},
   "outputs": [
    {
     "name": "stdout",
     "output_type": "stream",
     "text": [
      "Cluster_km\n",
      "1    25.727273\n",
      "2    26.304348\n",
      "4    54.822785\n",
      "3    86.538462\n",
      "0    87.432432\n",
      "Name: Annual Income (k$), dtype: float64\n",
      "Cluster_hier\n",
      "3    24.950000\n",
      "4    26.304348\n",
      "0    54.759036\n",
      "2    86.538462\n",
      "1    88.228571\n",
      "Name: Annual Income (k$), dtype: float64\n"
     ]
    }
   ],
   "source": [
    "print(clustered_customers.groupby(['Cluster_km'])['Annual Income (k$)'].mean().sort_values())\n",
    "print(clustered_customers.groupby(['Cluster_hier'])['Annual Income (k$)'].mean().sort_values())"
   ]
  },
  {
   "cell_type": "markdown",
   "metadata": {},
   "source": [
    "Aunque el nombre del cluster es diferente, vemos que hay correspondencia entre los dos modelos:\n",
    "* Cluster 0 de km es el 1 de hier.\n",
    "* Cluster 1 de km es el 3 de hier.\n",
    "* Cluster 2 de km es el 4 de hier.\n",
    "* Cluster 3 de km es el 2 de hier.\n",
    "* Cluster 4 de km es el 0 de hier."
   ]
  },
  {
   "cell_type": "markdown",
   "metadata": {},
   "source": [
    "# Dimensionality reduction - PCA"
   ]
  },
  {
   "cell_type": "code",
   "execution_count": 21,
   "metadata": {},
   "outputs": [
    {
     "data": {
      "image/png": "[encoded data removed]",
      "text/plain": [
       "<Figure size 432x288 with 1 Axes>"
      ]
     },
     "metadata": {
      "needs_background": "light"
     },
     "output_type": "display_data"
    }
   ],
   "source": [
    "# Representamos en una gráfica la explained_variance acumulada en función del número de componentes utilizados.\n",
    "from sklearn.decomposition import PCA\n",
    "import numpy as np\n",
    "\n",
    "pca = PCA()\n",
    "pca.fit(X)\n",
    "cumsum = np.cumsum(pca.explained_variance_ratio_)\n",
    "# d = np.argmax(cumsum >= 0.95) + 1 -> No hace falta, ya le metemos el range en la x, correspondiente al número de comp.\n",
    "\n",
    "plt.plot(range(1,len(cumsum)+1), cumsum, marker='o')\n",
    "plt.xlabel('Dimensions')\n",
    "plt.ylabel('Explained variance')\n",
    "plt.show()"
   ]
  },
  {
   "cell_type": "markdown",
   "metadata": {},
   "source": [
    "Nos sale que con 3 components tenemos una explained variance de 1 (ratio), lo cual hace que la reducción sea perfecta."
   ]
  },
  {
   "cell_type": "code",
   "execution_count": 22,
   "metadata": {},
   "outputs": [
    {
     "data": {
      "text/plain": [
       "array([4.51180770e-01, 4.40915393e-01, 1.07745663e-01, 1.58174873e-04])"
      ]
     },
     "execution_count": 22,
     "metadata": {},
     "output_type": "execute_result"
    }
   ],
   "source": [
    "# Estas son los ratios de las  variances que ofrece cada componente.\n",
    "pca.explained_variance_ratio_"
   ]
  },
  {
   "cell_type": "code",
   "execution_count": 23,
   "metadata": {},
   "outputs": [],
   "source": [
    "pca = PCA(n_components=3, random_state=5)\n",
    "X_reduced = pca.fit_transform(X)"
   ]
  },
  {
   "cell_type": "markdown",
   "metadata": {},
   "source": [
    "Hemos conseguido transformar nuestra X de customers, que tenía 4 variables, por una nueva X_reduced, que tiene solo 3 componentes."
   ]
  },
  {
   "cell_type": "code",
   "execution_count": 24,
   "metadata": {},
   "outputs": [
    {
     "data": {
      "text/html": [
       "<div>\n",
       "<style scoped>\n",
       "    .dataframe tbody tr th:only-of-type {\n",
       "        vertical-align: middle;\n",
       "    }\n",
       "\n",
       "    .dataframe tbody tr th {\n",
       "        vertical-align: top;\n",
       "    }\n",
       "\n",
       "    .dataframe thead th {\n",
       "        text-align: right;\n",
       "    }\n",
       "</style>\n",
       "<table border=\"1\" class=\"dataframe\">\n",
       "  <thead>\n",
       "    <tr style=\"text-align: right;\">\n",
       "      <th></th>\n",
       "      <th>C1</th>\n",
       "      <th>C2</th>\n",
       "      <th>C3</th>\n",
       "    </tr>\n",
       "  </thead>\n",
       "  <tbody>\n",
       "    <tr>\n",
       "      <td>0</td>\n",
       "      <td>-31.869945</td>\n",
       "      <td>-33.001252</td>\n",
       "      <td>-22.142987</td>\n",
       "    </tr>\n",
       "    <tr>\n",
       "      <td>1</td>\n",
       "      <td>0.764494</td>\n",
       "      <td>-56.842901</td>\n",
       "      <td>-10.542634</td>\n",
       "    </tr>\n",
       "    <tr>\n",
       "      <td>2</td>\n",
       "      <td>-57.408276</td>\n",
       "      <td>-13.124961</td>\n",
       "      <td>-28.750964</td>\n",
       "    </tr>\n",
       "    <tr>\n",
       "      <td>3</td>\n",
       "      <td>-2.168543</td>\n",
       "      <td>-53.478590</td>\n",
       "      <td>-9.511588</td>\n",
       "    </tr>\n",
       "    <tr>\n",
       "      <td>4</td>\n",
       "      <td>-32.174085</td>\n",
       "      <td>-30.388412</td>\n",
       "      <td>-10.225069</td>\n",
       "    </tr>\n",
       "    <tr>\n",
       "      <td>...</td>\n",
       "      <td>...</td>\n",
       "      <td>...</td>\n",
       "      <td>...</td>\n",
       "    </tr>\n",
       "    <tr>\n",
       "      <td>195</td>\n",
       "      <td>58.352515</td>\n",
       "      <td>31.017542</td>\n",
       "      <td>3.200135</td>\n",
       "    </tr>\n",
       "    <tr>\n",
       "      <td>196</td>\n",
       "      <td>19.908001</td>\n",
       "      <td>66.446108</td>\n",
       "      <td>1.242664</td>\n",
       "    </tr>\n",
       "    <tr>\n",
       "      <td>197</td>\n",
       "      <td>58.520804</td>\n",
       "      <td>38.346039</td>\n",
       "      <td>-0.834218</td>\n",
       "    </tr>\n",
       "    <tr>\n",
       "      <td>198</td>\n",
       "      <td>20.979130</td>\n",
       "      <td>79.376405</td>\n",
       "      <td>-13.645474</td>\n",
       "    </tr>\n",
       "    <tr>\n",
       "      <td>199</td>\n",
       "      <td>72.447693</td>\n",
       "      <td>41.811336</td>\n",
       "      <td>-0.651273</td>\n",
       "    </tr>\n",
       "  </tbody>\n",
       "</table>\n",
       "<p>200 rows × 3 columns</p>\n",
       "</div>"
      ],
      "text/plain": [
       "            C1         C2         C3\n",
       "0   -31.869945 -33.001252 -22.142987\n",
       "1     0.764494 -56.842901 -10.542634\n",
       "2   -57.408276 -13.124961 -28.750964\n",
       "3    -2.168543 -53.478590  -9.511588\n",
       "4   -32.174085 -30.388412 -10.225069\n",
       "..         ...        ...        ...\n",
       "195  58.352515  31.017542   3.200135\n",
       "196  19.908001  66.446108   1.242664\n",
       "197  58.520804  38.346039  -0.834218\n",
       "198  20.979130  79.376405 -13.645474\n",
       "199  72.447693  41.811336  -0.651273\n",
       "\n",
       "[200 rows x 3 columns]"
      ]
     },
     "execution_count": 24,
     "metadata": {},
     "output_type": "execute_result"
    }
   ],
   "source": [
    "X_reduced = pd.DataFrame(X_reduced, columns=['C1', 'C2', 'C3'])\n",
    "X_reduced"
   ]
  },
  {
   "cell_type": "markdown",
   "metadata": {},
   "source": [
    "A partir de aquí, podríamos volver al clusterizar nuestros datos usando cualquiera de los modelos anteriores."
   ]
  },
  {
   "cell_type": "markdown",
   "metadata": {},
   "source": [
    "# Dimensionality reduction - TSNE"
   ]
  },
  {
   "cell_type": "markdown",
   "metadata": {},
   "source": [
    "Otra forma de reducir nuestra dimensión.\n",
    "\n",
    "\"The goal is to take a set of points in a high-dimensional space and find a faithful representation of those points in a lower-dimensional space, typically the 2D plane.\""
   ]
  },
  {
   "cell_type": "code",
   "execution_count": 32,
   "metadata": {},
   "outputs": [
    {
     "data": {
      "image/png": "[encoded data removed]",
      "text/plain": [
       "<Figure size 1080x504 with 4 Axes>"
      ]
     },
     "metadata": {
      "needs_background": "light"
     },
     "output_type": "display_data"
    }
   ],
   "source": [
    "from sklearn.manifold import TSNE\n",
    "\n",
    "fig, ax = plt.subplots(1, 4, figsize=(15, 7))\n",
    "for i, perp in enumerate([15, 20, 25, 30]):\n",
    "    tsne = TSNE(n_components=2 ,perplexity=perp, random_state=5)\n",
    "    x_embedded = tsne.fit_transform(X)\n",
    "    ax[i].scatter(x_embedded[:, 0], x_embedded[:, 1])\n",
    "    ax[i].set_title(f\"Perplexity = {perp}\")\n",
    "\n",
    "plt.show()"
   ]
  },
  {
   "cell_type": "code",
   "execution_count": null,
   "metadata": {},
   "outputs": [],
   "source": []
  }
 ],
 "metadata": {
  "kernelspec": {
   "display_name": "Python 3",
   "language": "python",
   "name": "python3"
  },
  "language_info": {
   "codemirror_mode": {
    "name": "ipython",
    "version": 3
   },
   "file_extension": ".py",
   "mimetype": "text/x-python",
   "name": "python",
   "nbconvert_exporter": "python",
   "pygments_lexer": "ipython3",
   "version": "3.7.4"
  }
 },
 "nbformat": 4,
 "nbformat_minor": 2
}
