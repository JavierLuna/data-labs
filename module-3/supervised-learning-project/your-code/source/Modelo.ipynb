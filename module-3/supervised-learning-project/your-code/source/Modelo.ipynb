{
 "cells": [
  {
   "cell_type": "markdown",
   "metadata": {},
   "source": [
    "Columns description\n",
    "\n",
    "    Id (str)\n",
    "    city\n",
    "    price\n",
    "    year: Year of manufacturing\n",
    "    manufacturer: Manufacturer of vehicle\n",
    "    make: Model of vehicle\n",
    "    condition: Vehicle condition\n",
    "    cylinders: Number of cylinders\n",
    "    fuel: Type of fuel required\n",
    "    odometer: Miles traveled\n",
    "    title_status: Title status (e.g. clean, missing, etc.)\n",
    "    transmission: Type of transmission\n",
    "    drive: Drive of vehicle\n",
    "    size: Size of vehicle\n",
    "    type: Type of vehicle\n",
    "    paint_color: Color of vehicle\n",
    "    lat: Latitude of listing\n",
    "    long: Longitude of listing\n",
    "    county_fips: Federal Information Processing Standards code\n",
    "    county_name: County of listing\n",
    "    state_fips: Federal Information Processing Standards code\n",
    "    state_code: letter state code\n",
    "    state_name: State name\n",
    "    weather: Historical average\n"
   ]
  },
  {
   "cell_type": "code",
   "execution_count": 347,
   "metadata": {},
   "outputs": [],
   "source": [
    "#Quitamos Outliers precio\n",
    "#q_25=cars_prices.price.quantile(0.05)\n",
    "#q_75=cars_prices.price.quantile(0.95)\n",
    "#cars_prices=cars_prices[(cars_prices.price>=q_25) & (cars_prices.price<=q_75) ]"
   ]
  },
  {
   "cell_type": "code",
   "execution_count": 363,
   "metadata": {},
   "outputs": [],
   "source": [
    "cars_prices.dropna(inplace=True)\n",
    "PARAMETROS=['year','odometer','condition','cylinders']\n",
    "X=cars_prices[PARAMETROS]\n",
    "y=cars_prices['price']"
   ]
  },
  {
   "cell_type": "code",
   "execution_count": 364,
   "metadata": {},
   "outputs": [],
   "source": [
    "from sklearn.model_selection import train_test_split\n",
    "\n",
    "X_train, X_test, Y_train,Y_test=train_test_split(X,y,test_size=0.33,random_state=1)"
   ]
  },
  {
   "cell_type": "code",
   "execution_count": 365,
   "metadata": {},
   "outputs": [],
   "source": [
    "from sklearn.ensemble import RandomForestRegressor\n",
    "from sklearn.linear_model import LinearRegression\n",
    "from sklearn import ensemble"
   ]
  },
  {
   "cell_type": "code",
   "execution_count": 366,
   "metadata": {},
   "outputs": [
    {
     "data": {
      "text/plain": [
       "LinearRegression(copy_X=True, fit_intercept=True, n_jobs=None, normalize=True)"
      ]
     },
     "execution_count": 366,
     "metadata": {},
     "output_type": "execute_result"
    }
   ],
   "source": [
    "reg = LinearRegression(normalize=True).fit(X_train, Y_train)\n",
    "#reg = RandomForestRegressor(max_depth=3, random_state=5,n_estimators=100).fit(X_train, Y_train)\n",
    "reg.fit(X_train, Y_train)"
   ]
  },
  {
   "cell_type": "code",
   "execution_count": 367,
   "metadata": {},
   "outputs": [],
   "source": [
    "y_pre=reg.predict(X_test)"
   ]
  },
  {
   "cell_type": "code",
   "execution_count": 368,
   "metadata": {},
   "outputs": [
    {
     "data": {
      "text/plain": [
       "41984861013898.99"
      ]
     },
     "execution_count": 368,
     "metadata": {},
     "output_type": "execute_result"
    }
   ],
   "source": [
    "from sklearn.metrics import mean_squared_error\n",
    "mean_squared_error(y_pre,Y_test )"
   ]
  },
  {
   "cell_type": "code",
   "execution_count": 370,
   "metadata": {},
   "outputs": [],
   "source": [
    "#X_submision=np.array(cars_prices_test[['year','odometer']].dropna()).reshape(-1, 1)\n",
    "X_submision=cars_prices_test[PARAMETROS]"
   ]
  },
  {
   "cell_type": "code",
   "execution_count": 371,
   "metadata": {},
   "outputs": [
    {
     "name": "stdout",
     "output_type": "stream",
     "text": [
      "<class 'pandas.core.frame.DataFrame'>\n",
      "Int64Index: 253073 entries, 0 to 253072\n",
      "Data columns (total 4 columns):\n",
      "year         252162 non-null float64\n",
      "odometer     253073 non-null float64\n",
      "condition    253073 non-null float64\n",
      "cylinders    253073 non-null int64\n",
      "dtypes: float64(3), int64(1)\n",
      "memory usage: 9.7 MB\n"
     ]
    }
   ],
   "source": [
    "X_submision.info()"
   ]
  },
  {
   "cell_type": "code",
   "execution_count": 372,
   "metadata": {},
   "outputs": [],
   "source": [
    "ids=cars_prices_test['Id']\n",
    "X_submission=cars_prices_test[PARAMETROS]"
   ]
  },
  {
   "cell_type": "code",
   "execution_count": 373,
   "metadata": {},
   "outputs": [
    {
     "name": "stderr",
     "output_type": "stream",
     "text": [
      "c:\\program files (x86)\\python37-32\\lib\\site-packages\\pandas\\core\\frame.py:4034: SettingWithCopyWarning: \n",
      "A value is trying to be set on a copy of a slice from a DataFrame\n",
      "\n",
      "See the caveats in the documentation: http://pandas.pydata.org/pandas-docs/stable/indexing.html#indexing-view-versus-copy\n",
      "  downcast=downcast, **kwargs)\n"
     ]
    }
   ],
   "source": [
    "X_submission.fillna(method='ffill',inplace=True)"
   ]
  },
  {
   "cell_type": "code",
   "execution_count": 374,
   "metadata": {},
   "outputs": [],
   "source": [
    "predict=pd.Series(reg.predict(X_submission))\n",
    "\n",
    "submision=pd.concat([ids, predict], axis=1)"
   ]
  },
  {
   "cell_type": "code",
   "execution_count": 375,
   "metadata": {},
   "outputs": [],
   "source": [
    "submision.columns=['id','price']"
   ]
  },
  {
   "cell_type": "code",
   "execution_count": 376,
   "metadata": {},
   "outputs": [],
   "source": [
    "submision.to_csv(path_or_buf='../output/submision.csv',header=True,index=False)"
   ]
  },
  {
   "cell_type": "code",
   "execution_count": null,
   "metadata": {},
   "outputs": [],
   "source": []
  }
 ],
 "metadata": {
  "kernelspec": {
   "display_name": "Python 3",
   "language": "python",
   "name": "python3"
  },
  "language_info": {
   "codemirror_mode": {
    "name": "ipython",
    "version": 3
   },
   "file_extension": ".py",
   "mimetype": "text/x-python",
   "name": "python",
   "nbconvert_exporter": "python",
   "pygments_lexer": "ipython3",
   "version": "3.7.3"
  }
 },
 "nbformat": 4,
 "nbformat_minor": 2
}
