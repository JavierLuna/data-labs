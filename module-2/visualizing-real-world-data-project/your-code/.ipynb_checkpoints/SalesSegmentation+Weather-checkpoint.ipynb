{
 "cells": [
  {
   "cell_type": "code",
   "execution_count": 177,
   "metadata": {},
   "outputs": [
    {
     "data": {
      "text/html": [
       "        <script type=\"text/javascript\">\n",
       "        window.PlotlyConfig = {MathJaxConfig: 'local'};\n",
       "        if (window.MathJax) {MathJax.Hub.Config({SVG: {font: \"STIX-Web\"}});}\n",
       "        if (typeof require !== 'undefined') {\n",
       "        require.undef(\"plotly\");\n",
       "        requirejs.config({\n",
       "            paths: {\n",
       "                'plotly': ['https://cdn.plot.ly/plotly-latest.min']\n",
       "            }\n",
       "        });\n",
       "        require(['plotly'], function(Plotly) {\n",
       "            window._Plotly = Plotly;\n",
       "        });\n",
       "        }\n",
       "        </script>\n",
       "        "
      ]
     },
     "metadata": {},
     "output_type": "display_data"
    }
   ],
   "source": [
    "import pandas as pd\n",
    "import plotly.plotly as py\n",
    "import cufflinks as cf\n",
    "from ipywidgets import interact\n",
    "import datetime as dt\n",
    "import calendar\n",
    "from plotly import graph_objs as go\n",
    "from geopy.geocoders import Nominatim\n",
    "from plotnine import *\n",
    "%matplotlib inline\n",
    "from geopandas import GeoDataFrame\n",
    "import folium\n",
    "from folium.plugins import HeatMap\n",
    "\n",
    "cf.go_offline()"
   ]
  },
  {
   "cell_type": "markdown",
   "metadata": {},
   "source": [
    "There are various steps in this book:\n",
    "    1. Extract the sales by store_type\n",
    "    2. Plot the segmentation to see which sales channels are more effective\n",
    "    3. Extract the weather in each city\n",
    "    4. Combine both dataframes\n",
    "    5. Evaluate correlations & plot different graphs to get the insights"
   ]
  },
  {
   "cell_type": "markdown",
   "metadata": {},
   "source": [
    "# 1. Sales extraction"
   ]
  },
  {
   "cell_type": "markdown",
   "metadata": {},
   "source": [
    "This extraction contains the sales of a Retailer from March & May 2019, divided by channel"
   ]
  },
  {
   "cell_type": "code",
   "execution_count": 82,
   "metadata": {},
   "outputs": [
    {
     "data": {
      "text/html": [
       "<div>\n",
       "<style scoped>\n",
       "    .dataframe tbody tr th:only-of-type {\n",
       "        vertical-align: middle;\n",
       "    }\n",
       "\n",
       "    .dataframe tbody tr th {\n",
       "        vertical-align: top;\n",
       "    }\n",
       "\n",
       "    .dataframe thead th {\n",
       "        text-align: right;\n",
       "    }\n",
       "</style>\n",
       "<table border=\"1\" class=\"dataframe\">\n",
       "  <thead>\n",
       "    <tr style=\"text-align: right;\">\n",
       "      <th></th>\n",
       "      <th>Store's Types</th>\n",
       "      <th>City</th>\n",
       "      <th>DATE</th>\n",
       "      <th>UnitsSold</th>\n",
       "    </tr>\n",
       "  </thead>\n",
       "  <tbody>\n",
       "    <tr>\n",
       "      <th>0</th>\n",
       "      <td>ECI stores</td>\n",
       "      <td>LA CORUÑA</td>\n",
       "      <td>2019-03-01</td>\n",
       "      <td>5</td>\n",
       "    </tr>\n",
       "    <tr>\n",
       "      <th>1</th>\n",
       "      <td>ECI stores</td>\n",
       "      <td>LA CORUÑA</td>\n",
       "      <td>2019-03-02</td>\n",
       "      <td>27</td>\n",
       "    </tr>\n",
       "    <tr>\n",
       "      <th>2</th>\n",
       "      <td>ECI stores</td>\n",
       "      <td>LA CORUÑA</td>\n",
       "      <td>2019-03-04</td>\n",
       "      <td>14</td>\n",
       "    </tr>\n",
       "    <tr>\n",
       "      <th>3</th>\n",
       "      <td>ECI stores</td>\n",
       "      <td>LA CORUÑA</td>\n",
       "      <td>2019-03-06</td>\n",
       "      <td>3</td>\n",
       "    </tr>\n",
       "    <tr>\n",
       "      <th>4</th>\n",
       "      <td>ECI stores</td>\n",
       "      <td>LA CORUÑA</td>\n",
       "      <td>2019-03-07</td>\n",
       "      <td>19</td>\n",
       "    </tr>\n",
       "  </tbody>\n",
       "</table>\n",
       "</div>"
      ],
      "text/plain": [
       "  Store's Types       City        DATE  UnitsSold\n",
       "0    ECI stores  LA CORUÑA  2019-03-01          5\n",
       "1    ECI stores  LA CORUÑA  2019-03-02         27\n",
       "2    ECI stores  LA CORUÑA  2019-03-04         14\n",
       "3    ECI stores  LA CORUÑA  2019-03-06          3\n",
       "4    ECI stores  LA CORUÑA  2019-03-07         19"
      ]
     },
     "execution_count": 82,
     "metadata": {},
     "output_type": "execute_result"
    }
   ],
   "source": [
    "sales = pd.read_csv('/Users/juanfernandez-dazadeflorez/Desktop/sales_by_type.csv')\n",
    "sales.head()"
   ]
  },
  {
   "cell_type": "markdown",
   "metadata": {},
   "source": [
    "Lets be consistent with the column names, starting with capital letters"
   ]
  },
  {
   "cell_type": "code",
   "execution_count": 83,
   "metadata": {},
   "outputs": [],
   "source": [
    "sales.columns = ['StoreType','City','Date','UnitsSold']"
   ]
  },
  {
   "cell_type": "markdown",
   "metadata": {},
   "source": [
    "# 2. Plotting the segmentation to get the first conclusions"
   ]
  },
  {
   "cell_type": "code",
   "execution_count": 84,
   "metadata": {},
   "outputs": [
    {
     "data": {
      "application/vnd.plotly.v1+json": {
       "config": {
        "linkText": "Export to plot.ly",
        "plotlyServerURL": "https://plot.ly",
        "showLink": true
       },
       "data": [
        {
         "marker": {
          "color": "rgba(55, 128, 191, 0.4)",
          "line": {
           "color": "rgba(55, 128, 191, 1.0)",
           "width": 1
          }
         },
         "name": "UnitsSold",
         "orientation": "v",
         "text": "",
         "type": "bar",
         "uid": "9cc0aa66-7eaf-4ceb-b10f-2d49aab0a86e",
         "x": [
          "ECI stores",
          "Online stores",
          "Shopping Center stores",
          "Street stores"
         ],
         "y": [
          57235,
          12241,
          101753,
          100231
         ]
        }
       ],
       "layout": {
        "legend": {
         "bgcolor": "#F5F6F9",
         "font": {
          "color": "#4D5663"
         }
        },
        "paper_bgcolor": "#F5F6F9",
        "plot_bgcolor": "#F5F6F9",
        "title": {
         "font": {
          "color": "#4D5663"
         },
         "text": "Sales by channel"
        },
        "xaxis": {
         "gridcolor": "#E1E5ED",
         "showgrid": true,
         "tickfont": {
          "color": "#4D5663"
         },
         "title": {
          "font": {
           "color": "#4D5663"
          },
          "text": "Channel"
         },
         "zerolinecolor": "#E1E5ED"
        },
        "yaxis": {
         "gridcolor": "#E1E5ED",
         "showgrid": true,
         "tickfont": {
          "color": "#4D5663"
         },
         "title": {
          "font": {
           "color": "#4D5663"
          },
          "text": "Units Sold"
         },
         "zerolinecolor": "#E1E5ED"
        }
       }
      },
      "text/html": [
       "<div>\n",
       "        \n",
       "        \n",
       "            <div id=\"3634571d-dcdd-45c7-8956-d82b9cc7c6a0\" class=\"plotly-graph-div\" style=\"height:525px; width:100%;\"></div>\n",
       "            <script type=\"text/javascript\">\n",
       "                require([\"plotly\"], function(Plotly) {\n",
       "                    window.PLOTLYENV=window.PLOTLYENV || {};\n",
       "                    window.PLOTLYENV.BASE_URL='https://plot.ly';\n",
       "                    \n",
       "                if (document.getElementById(\"3634571d-dcdd-45c7-8956-d82b9cc7c6a0\")) {\n",
       "                    Plotly.newPlot(\n",
       "                        '3634571d-dcdd-45c7-8956-d82b9cc7c6a0',\n",
       "                        [{\"marker\": {\"color\": \"rgba(55, 128, 191, 0.4)\", \"line\": {\"color\": \"rgba(55, 128, 191, 1.0)\", \"width\": 1}}, \"name\": \"UnitsSold\", \"orientation\": \"v\", \"text\": \"\", \"type\": \"bar\", \"uid\": \"9cc0aa66-7eaf-4ceb-b10f-2d49aab0a86e\", \"x\": [\"ECI stores\", \"Online stores\", \"Shopping Center stores\", \"Street stores\"], \"y\": [57235, 12241, 101753, 100231]}],\n",
       "                        {\"legend\": {\"bgcolor\": \"#F5F6F9\", \"font\": {\"color\": \"#4D5663\"}}, \"paper_bgcolor\": \"#F5F6F9\", \"plot_bgcolor\": \"#F5F6F9\", \"title\": {\"font\": {\"color\": \"#4D5663\"}, \"text\": \"Sales by channel\"}, \"xaxis\": {\"gridcolor\": \"#E1E5ED\", \"showgrid\": true, \"tickfont\": {\"color\": \"#4D5663\"}, \"title\": {\"font\": {\"color\": \"#4D5663\"}, \"text\": \"Channel\"}, \"zerolinecolor\": \"#E1E5ED\"}, \"yaxis\": {\"gridcolor\": \"#E1E5ED\", \"showgrid\": true, \"tickfont\": {\"color\": \"#4D5663\"}, \"title\": {\"font\": {\"color\": \"#4D5663\"}, \"text\": \"Units Sold\"}, \"zerolinecolor\": \"#E1E5ED\"}},\n",
       "                        {\"showLink\": true, \"linkText\": \"Export to plot.ly\", \"plotlyServerURL\": \"https://plot.ly\", \"responsive\": true}\n",
       "                    ).then(function(){\n",
       "                            \n",
       "var gd = document.getElementById('3634571d-dcdd-45c7-8956-d82b9cc7c6a0');\n",
       "var x = new MutationObserver(function (mutations, observer) {{\n",
       "        var display = window.getComputedStyle(gd).display;\n",
       "        if (!display || display === 'none') {{\n",
       "            console.log([gd, 'removed!']);\n",
       "            Plotly.purge(gd);\n",
       "            observer.disconnect();\n",
       "        }}\n",
       "}});\n",
       "\n",
       "// Listen for the removal of the full notebook cells\n",
       "var notebookContainer = gd.closest('#notebook-container');\n",
       "if (notebookContainer) {{\n",
       "    x.observe(notebookContainer, {childList: true});\n",
       "}}\n",
       "\n",
       "// Listen for the clearing of the current output cell\n",
       "var outputEl = gd.closest('.output');\n",
       "if (outputEl) {{\n",
       "    x.observe(outputEl, {childList: true});\n",
       "}}\n",
       "\n",
       "                        })\n",
       "                };\n",
       "                });\n",
       "            </script>\n",
       "        </div>"
      ]
     },
     "metadata": {},
     "output_type": "display_data"
    }
   ],
   "source": [
    "sales.pivot_table(index = 'StoreType', values = 'UnitsSold',aggfunc = 'sum').reset_index().iplot(kind = 'bar',\n",
    "                                                                  x = 'StoreType',\n",
    "                                                                  y = 'UnitsSold',\n",
    "                                                                  xTitle = 'Channel',\n",
    "                                                                  yTitle = 'Units Sold',\n",
    "                                                                  title = 'Sales by channel',\n",
    "                                                                  color = 'blue',\n",
    "                                                                  opacity = 0.4)"
   ]
  },
  {
   "cell_type": "markdown",
   "metadata": {},
   "source": [
    "We can cleary see that during these two months, the best sales channel by far has been stores in located in Shopping Centers. Its true that the online store includes one unique store, whilst the rest aggregate various stores"
   ]
  },
  {
   "cell_type": "markdown",
   "metadata": {},
   "source": [
    "Lets evaluate the trend of sales of each channel during the whole period"
   ]
  },
  {
   "cell_type": "code",
   "execution_count": 85,
   "metadata": {},
   "outputs": [
    {
     "data": {
      "application/vnd.plotly.v1+json": {
       "config": {
        "linkText": "Export to plot.ly",
        "plotlyServerURL": "https://plot.ly",
        "showLink": true
       },
       "data": [
        {
         "line": {
          "color": "rgba(255, 153, 51, 1.0)",
          "dash": "solid",
          "shape": "linear",
          "width": 1.3
         },
         "mode": "lines",
         "name": "ECI stores",
         "text": "",
         "type": "scatter",
         "uid": "a497f6b9-57e7-4997-956b-2f95fb71d9a7",
         "x": [
          "2019-03-01",
          "2019-03-02",
          "2019-03-03",
          "2019-03-04",
          "2019-03-05",
          "2019-03-06",
          "2019-03-07",
          "2019-03-08",
          "2019-03-09",
          "2019-03-10",
          "2019-03-11",
          "2019-03-12",
          "2019-03-13",
          "2019-03-14",
          "2019-03-15",
          "2019-03-16",
          "2019-03-17",
          "2019-03-18",
          "2019-03-19",
          "2019-03-20",
          "2019-03-21",
          "2019-03-22",
          "2019-03-23",
          "2019-03-24",
          "2019-03-25",
          "2019-03-26",
          "2019-03-27",
          "2019-03-28",
          "2019-03-29",
          "2019-03-30",
          "2019-03-31",
          "2019-04-01",
          "2019-04-02",
          "2019-04-03",
          "2019-04-04",
          "2019-04-05",
          "2019-04-06",
          "2019-04-07",
          "2019-04-08",
          "2019-04-09",
          "2019-04-10",
          "2019-04-11",
          "2019-04-12",
          "2019-04-13",
          "2019-04-14",
          "2019-04-15",
          "2019-04-16",
          "2019-04-17",
          "2019-04-18",
          "2019-04-19",
          "2019-04-20",
          "2019-04-21"
         ],
         "y": [
          1695,
          1842,
          168,
          1032,
          711,
          882,
          800,
          970,
          1958,
          100,
          951,
          897,
          955,
          1051,
          1465,
          2036,
          113,
          1099,
          558,
          780,
          822,
          1277,
          2062,
          114,
          820,
          918,
          925,
          1177,
          1442,
          2186,
          322,
          872,
          939,
          1182,
          1026,
          1270,
          2503,
          206,
          976,
          1086,
          1671,
          1322,
          1577,
          2406,
          140,
          1208,
          1542,
          1600,
          806,
          442,
          2004,
          329
         ]
        },
        {
         "line": {
          "color": "rgba(55, 128, 191, 1.0)",
          "dash": "solid",
          "shape": "linear",
          "width": 1.3
         },
         "mode": "lines",
         "name": "Online stores",
         "text": "",
         "type": "scatter",
         "uid": "c6078a0e-5c8b-4aa0-88a1-dbb3b3330c05",
         "x": [
          "2019-03-01",
          "2019-03-02",
          "2019-03-03",
          "2019-03-04",
          "2019-03-05",
          "2019-03-06",
          "2019-03-07",
          "2019-03-08",
          "2019-03-09",
          "2019-03-10",
          "2019-03-11",
          "2019-03-12",
          "2019-03-13",
          "2019-03-14",
          "2019-03-15",
          "2019-03-16",
          "2019-03-17",
          "2019-03-18",
          "2019-03-19",
          "2019-03-20",
          "2019-03-21",
          "2019-03-22",
          "2019-03-23",
          "2019-03-24",
          "2019-03-25",
          "2019-03-26",
          "2019-03-27",
          "2019-03-28",
          "2019-03-29",
          "2019-03-30",
          "2019-03-31",
          "2019-04-01",
          "2019-04-02",
          "2019-04-03",
          "2019-04-04",
          "2019-04-05",
          "2019-04-06",
          "2019-04-07",
          "2019-04-08",
          "2019-04-09",
          "2019-04-10",
          "2019-04-11",
          "2019-04-12",
          "2019-04-13",
          "2019-04-14",
          "2019-04-15",
          "2019-04-16",
          "2019-04-17",
          "2019-04-18",
          "2019-04-19",
          "2019-04-20",
          "2019-04-21"
         ],
         "y": [
          726,
          365,
          386,
          356,
          335,
          346,
          270,
          270,
          178,
          348,
          138,
          146,
          132,
          302,
          192,
          143,
          300,
          259,
          189,
          162,
          159,
          319,
          267,
          329,
          235,
          356,
          173,
          230,
          267,
          267,
          383,
          162,
          189,
          105,
          132,
          122,
          92,
          181,
          113,
          316,
          851,
          149,
          127,
          197,
          73,
          108,
          111,
          165,
          122,
          122,
          138,
          138
         ]
        },
        {
         "line": {
          "color": "rgba(50, 171, 96, 1.0)",
          "dash": "solid",
          "shape": "linear",
          "width": 1.3
         },
         "mode": "lines",
         "name": "Shopping Center stores",
         "text": "",
         "type": "scatter",
         "uid": "fe61f823-d321-4f6b-9b6b-52b6d60909db",
         "x": [
          "2019-03-01",
          "2019-03-02",
          "2019-03-03",
          "2019-03-04",
          "2019-03-05",
          "2019-03-06",
          "2019-03-07",
          "2019-03-08",
          "2019-03-09",
          "2019-03-10",
          "2019-03-11",
          "2019-03-12",
          "2019-03-13",
          "2019-03-14",
          "2019-03-15",
          "2019-03-16",
          "2019-03-17",
          "2019-03-18",
          "2019-03-19",
          "2019-03-20",
          "2019-03-21",
          "2019-03-22",
          "2019-03-23",
          "2019-03-24",
          "2019-03-25",
          "2019-03-26",
          "2019-03-27",
          "2019-03-28",
          "2019-03-29",
          "2019-03-30",
          "2019-03-31",
          "2019-04-01",
          "2019-04-02",
          "2019-04-03",
          "2019-04-04",
          "2019-04-05",
          "2019-04-06",
          "2019-04-07",
          "2019-04-08",
          "2019-04-09",
          "2019-04-10",
          "2019-04-11",
          "2019-04-12",
          "2019-04-13",
          "2019-04-14",
          "2019-04-15",
          "2019-04-16",
          "2019-04-17",
          "2019-04-18",
          "2019-04-19",
          "2019-04-20",
          "2019-04-21"
         ],
         "y": [
          3406,
          3925,
          354,
          2032,
          2046,
          1978,
          1944,
          2538,
          3505,
          248,
          1609,
          1861,
          1527,
          1443,
          2172,
          3065,
          246,
          1790,
          940,
          1598,
          1304,
          1751,
          3232,
          184,
          1571,
          1443,
          1356,
          1638,
          2545,
          3629,
          146,
          1559,
          1634,
          1880,
          1817,
          2287,
          3952,
          184,
          1766,
          2037,
          3519,
          2498,
          2890,
          4283,
          380,
          2360,
          2713,
          2716,
          1601,
          510,
          3481,
          660
         ]
        },
        {
         "line": {
          "color": "rgba(128, 0, 128, 1.0)",
          "dash": "solid",
          "shape": "linear",
          "width": 1.3
         },
         "mode": "lines",
         "name": "Street stores",
         "text": "",
         "type": "scatter",
         "uid": "fe235256-e67d-4006-8d0f-3d53c00905e6",
         "x": [
          "2019-03-01",
          "2019-03-02",
          "2019-03-03",
          "2019-03-04",
          "2019-03-05",
          "2019-03-06",
          "2019-03-07",
          "2019-03-08",
          "2019-03-09",
          "2019-03-10",
          "2019-03-11",
          "2019-03-12",
          "2019-03-13",
          "2019-03-14",
          "2019-03-15",
          "2019-03-16",
          "2019-03-17",
          "2019-03-18",
          "2019-03-19",
          "2019-03-20",
          "2019-03-21",
          "2019-03-22",
          "2019-03-23",
          "2019-03-24",
          "2019-03-25",
          "2019-03-26",
          "2019-03-27",
          "2019-03-28",
          "2019-03-29",
          "2019-03-30",
          "2019-03-31",
          "2019-04-01",
          "2019-04-02",
          "2019-04-03",
          "2019-04-04",
          "2019-04-05",
          "2019-04-06",
          "2019-04-07",
          "2019-04-08",
          "2019-04-09",
          "2019-04-10",
          "2019-04-11",
          "2019-04-12",
          "2019-04-13",
          "2019-04-14",
          "2019-04-15",
          "2019-04-16",
          "2019-04-17",
          "2019-04-18",
          "2019-04-19",
          "2019-04-20",
          "2019-04-21"
         ],
         "y": [
          3117,
          3647,
          1123,
          2530,
          1802,
          1943,
          2206,
          2345,
          2802,
          921,
          1687,
          1775,
          1517,
          1500,
          1843,
          2481,
          672,
          1459,
          1051,
          1448,
          1573,
          2066,
          2759,
          761,
          1475,
          1601,
          1784,
          2078,
          2603,
          3386,
          1426,
          1557,
          1737,
          1796,
          1669,
          1918,
          2817,
          956,
          1590,
          1836,
          3161,
          2200,
          2529,
          3292,
          748,
          2652,
          2605,
          2467,
          1434,
          508,
          2816,
          562
         ]
        }
       ],
       "layout": {
        "legend": {
         "bgcolor": "#F5F6F9",
         "font": {
          "color": "#4D5663"
         }
        },
        "paper_bgcolor": "#F5F6F9",
        "plot_bgcolor": "#F5F6F9",
        "title": {
         "font": {
          "color": "#4D5663"
         },
         "text": "Sales Trend by channel"
        },
        "xaxis": {
         "gridcolor": "#E1E5ED",
         "showgrid": true,
         "tickfont": {
          "color": "#4D5663"
         },
         "title": {
          "font": {
           "color": "#4D5663"
          },
          "text": "Channel"
         },
         "zerolinecolor": "#E1E5ED"
        },
        "yaxis": {
         "gridcolor": "#E1E5ED",
         "showgrid": true,
         "tickfont": {
          "color": "#4D5663"
         },
         "title": {
          "font": {
           "color": "#4D5663"
          },
          "text": "Units Sold"
         },
         "zerolinecolor": "#E1E5ED"
        }
       }
      },
      "text/html": [
       "<div>\n",
       "        \n",
       "        \n",
       "            <div id=\"679b8338-f707-4880-b7f3-eedce655bcca\" class=\"plotly-graph-div\" style=\"height:525px; width:100%;\"></div>\n",
       "            <script type=\"text/javascript\">\n",
       "                require([\"plotly\"], function(Plotly) {\n",
       "                    window.PLOTLYENV=window.PLOTLYENV || {};\n",
       "                    window.PLOTLYENV.BASE_URL='https://plot.ly';\n",
       "                    \n",
       "                if (document.getElementById(\"679b8338-f707-4880-b7f3-eedce655bcca\")) {\n",
       "                    Plotly.newPlot(\n",
       "                        '679b8338-f707-4880-b7f3-eedce655bcca',\n",
       "                        [{\"line\": {\"color\": \"rgba(255, 153, 51, 1.0)\", \"dash\": \"solid\", \"shape\": \"linear\", \"width\": 1.3}, \"mode\": \"lines\", \"name\": \"ECI stores\", \"text\": \"\", \"type\": \"scatter\", \"uid\": \"a497f6b9-57e7-4997-956b-2f95fb71d9a7\", \"x\": [\"2019-03-01\", \"2019-03-02\", \"2019-03-03\", \"2019-03-04\", \"2019-03-05\", \"2019-03-06\", \"2019-03-07\", \"2019-03-08\", \"2019-03-09\", \"2019-03-10\", \"2019-03-11\", \"2019-03-12\", \"2019-03-13\", \"2019-03-14\", \"2019-03-15\", \"2019-03-16\", \"2019-03-17\", \"2019-03-18\", \"2019-03-19\", \"2019-03-20\", \"2019-03-21\", \"2019-03-22\", \"2019-03-23\", \"2019-03-24\", \"2019-03-25\", \"2019-03-26\", \"2019-03-27\", \"2019-03-28\", \"2019-03-29\", \"2019-03-30\", \"2019-03-31\", \"2019-04-01\", \"2019-04-02\", \"2019-04-03\", \"2019-04-04\", \"2019-04-05\", \"2019-04-06\", \"2019-04-07\", \"2019-04-08\", \"2019-04-09\", \"2019-04-10\", \"2019-04-11\", \"2019-04-12\", \"2019-04-13\", \"2019-04-14\", \"2019-04-15\", \"2019-04-16\", \"2019-04-17\", \"2019-04-18\", \"2019-04-19\", \"2019-04-20\", \"2019-04-21\"], \"y\": [1695, 1842, 168, 1032, 711, 882, 800, 970, 1958, 100, 951, 897, 955, 1051, 1465, 2036, 113, 1099, 558, 780, 822, 1277, 2062, 114, 820, 918, 925, 1177, 1442, 2186, 322, 872, 939, 1182, 1026, 1270, 2503, 206, 976, 1086, 1671, 1322, 1577, 2406, 140, 1208, 1542, 1600, 806, 442, 2004, 329]}, {\"line\": {\"color\": \"rgba(55, 128, 191, 1.0)\", \"dash\": \"solid\", \"shape\": \"linear\", \"width\": 1.3}, \"mode\": \"lines\", \"name\": \"Online stores\", \"text\": \"\", \"type\": \"scatter\", \"uid\": \"c6078a0e-5c8b-4aa0-88a1-dbb3b3330c05\", \"x\": [\"2019-03-01\", \"2019-03-02\", \"2019-03-03\", \"2019-03-04\", \"2019-03-05\", \"2019-03-06\", \"2019-03-07\", \"2019-03-08\", \"2019-03-09\", \"2019-03-10\", \"2019-03-11\", \"2019-03-12\", \"2019-03-13\", \"2019-03-14\", \"2019-03-15\", \"2019-03-16\", \"2019-03-17\", \"2019-03-18\", \"2019-03-19\", \"2019-03-20\", \"2019-03-21\", \"2019-03-22\", \"2019-03-23\", \"2019-03-24\", \"2019-03-25\", \"2019-03-26\", \"2019-03-27\", \"2019-03-28\", \"2019-03-29\", \"2019-03-30\", \"2019-03-31\", \"2019-04-01\", \"2019-04-02\", \"2019-04-03\", \"2019-04-04\", \"2019-04-05\", \"2019-04-06\", \"2019-04-07\", \"2019-04-08\", \"2019-04-09\", \"2019-04-10\", \"2019-04-11\", \"2019-04-12\", \"2019-04-13\", \"2019-04-14\", \"2019-04-15\", \"2019-04-16\", \"2019-04-17\", \"2019-04-18\", \"2019-04-19\", \"2019-04-20\", \"2019-04-21\"], \"y\": [726, 365, 386, 356, 335, 346, 270, 270, 178, 348, 138, 146, 132, 302, 192, 143, 300, 259, 189, 162, 159, 319, 267, 329, 235, 356, 173, 230, 267, 267, 383, 162, 189, 105, 132, 122, 92, 181, 113, 316, 851, 149, 127, 197, 73, 108, 111, 165, 122, 122, 138, 138]}, {\"line\": {\"color\": \"rgba(50, 171, 96, 1.0)\", \"dash\": \"solid\", \"shape\": \"linear\", \"width\": 1.3}, \"mode\": \"lines\", \"name\": \"Shopping Center stores\", \"text\": \"\", \"type\": \"scatter\", \"uid\": \"fe61f823-d321-4f6b-9b6b-52b6d60909db\", \"x\": [\"2019-03-01\", \"2019-03-02\", \"2019-03-03\", \"2019-03-04\", \"2019-03-05\", \"2019-03-06\", \"2019-03-07\", \"2019-03-08\", \"2019-03-09\", \"2019-03-10\", \"2019-03-11\", \"2019-03-12\", \"2019-03-13\", \"2019-03-14\", \"2019-03-15\", \"2019-03-16\", \"2019-03-17\", \"2019-03-18\", \"2019-03-19\", \"2019-03-20\", \"2019-03-21\", \"2019-03-22\", \"2019-03-23\", \"2019-03-24\", \"2019-03-25\", \"2019-03-26\", \"2019-03-27\", \"2019-03-28\", \"2019-03-29\", \"2019-03-30\", \"2019-03-31\", \"2019-04-01\", \"2019-04-02\", \"2019-04-03\", \"2019-04-04\", \"2019-04-05\", \"2019-04-06\", \"2019-04-07\", \"2019-04-08\", \"2019-04-09\", \"2019-04-10\", \"2019-04-11\", \"2019-04-12\", \"2019-04-13\", \"2019-04-14\", \"2019-04-15\", \"2019-04-16\", \"2019-04-17\", \"2019-04-18\", \"2019-04-19\", \"2019-04-20\", \"2019-04-21\"], \"y\": [3406, 3925, 354, 2032, 2046, 1978, 1944, 2538, 3505, 248, 1609, 1861, 1527, 1443, 2172, 3065, 246, 1790, 940, 1598, 1304, 1751, 3232, 184, 1571, 1443, 1356, 1638, 2545, 3629, 146, 1559, 1634, 1880, 1817, 2287, 3952, 184, 1766, 2037, 3519, 2498, 2890, 4283, 380, 2360, 2713, 2716, 1601, 510, 3481, 660]}, {\"line\": {\"color\": \"rgba(128, 0, 128, 1.0)\", \"dash\": \"solid\", \"shape\": \"linear\", \"width\": 1.3}, \"mode\": \"lines\", \"name\": \"Street stores\", \"text\": \"\", \"type\": \"scatter\", \"uid\": \"fe235256-e67d-4006-8d0f-3d53c00905e6\", \"x\": [\"2019-03-01\", \"2019-03-02\", \"2019-03-03\", \"2019-03-04\", \"2019-03-05\", \"2019-03-06\", \"2019-03-07\", \"2019-03-08\", \"2019-03-09\", \"2019-03-10\", \"2019-03-11\", \"2019-03-12\", \"2019-03-13\", \"2019-03-14\", \"2019-03-15\", \"2019-03-16\", \"2019-03-17\", \"2019-03-18\", \"2019-03-19\", \"2019-03-20\", \"2019-03-21\", \"2019-03-22\", \"2019-03-23\", \"2019-03-24\", \"2019-03-25\", \"2019-03-26\", \"2019-03-27\", \"2019-03-28\", \"2019-03-29\", \"2019-03-30\", \"2019-03-31\", \"2019-04-01\", \"2019-04-02\", \"2019-04-03\", \"2019-04-04\", \"2019-04-05\", \"2019-04-06\", \"2019-04-07\", \"2019-04-08\", \"2019-04-09\", \"2019-04-10\", \"2019-04-11\", \"2019-04-12\", \"2019-04-13\", \"2019-04-14\", \"2019-04-15\", \"2019-04-16\", \"2019-04-17\", \"2019-04-18\", \"2019-04-19\", \"2019-04-20\", \"2019-04-21\"], \"y\": [3117, 3647, 1123, 2530, 1802, 1943, 2206, 2345, 2802, 921, 1687, 1775, 1517, 1500, 1843, 2481, 672, 1459, 1051, 1448, 1573, 2066, 2759, 761, 1475, 1601, 1784, 2078, 2603, 3386, 1426, 1557, 1737, 1796, 1669, 1918, 2817, 956, 1590, 1836, 3161, 2200, 2529, 3292, 748, 2652, 2605, 2467, 1434, 508, 2816, 562]}],\n",
       "                        {\"legend\": {\"bgcolor\": \"#F5F6F9\", \"font\": {\"color\": \"#4D5663\"}}, \"paper_bgcolor\": \"#F5F6F9\", \"plot_bgcolor\": \"#F5F6F9\", \"title\": {\"font\": {\"color\": \"#4D5663\"}, \"text\": \"Sales Trend by channel\"}, \"xaxis\": {\"gridcolor\": \"#E1E5ED\", \"showgrid\": true, \"tickfont\": {\"color\": \"#4D5663\"}, \"title\": {\"font\": {\"color\": \"#4D5663\"}, \"text\": \"Channel\"}, \"zerolinecolor\": \"#E1E5ED\"}, \"yaxis\": {\"gridcolor\": \"#E1E5ED\", \"showgrid\": true, \"tickfont\": {\"color\": \"#4D5663\"}, \"title\": {\"font\": {\"color\": \"#4D5663\"}, \"text\": \"Units Sold\"}, \"zerolinecolor\": \"#E1E5ED\"}},\n",
       "                        {\"showLink\": true, \"linkText\": \"Export to plot.ly\", \"plotlyServerURL\": \"https://plot.ly\", \"responsive\": true}\n",
       "                    ).then(function(){\n",
       "                            \n",
       "var gd = document.getElementById('679b8338-f707-4880-b7f3-eedce655bcca');\n",
       "var x = new MutationObserver(function (mutations, observer) {{\n",
       "        var display = window.getComputedStyle(gd).display;\n",
       "        if (!display || display === 'none') {{\n",
       "            console.log([gd, 'removed!']);\n",
       "            Plotly.purge(gd);\n",
       "            observer.disconnect();\n",
       "        }}\n",
       "}});\n",
       "\n",
       "// Listen for the removal of the full notebook cells\n",
       "var notebookContainer = gd.closest('#notebook-container');\n",
       "if (notebookContainer) {{\n",
       "    x.observe(notebookContainer, {childList: true});\n",
       "}}\n",
       "\n",
       "// Listen for the clearing of the current output cell\n",
       "var outputEl = gd.closest('.output');\n",
       "if (outputEl) {{\n",
       "    x.observe(outputEl, {childList: true});\n",
       "}}\n",
       "\n",
       "                        })\n",
       "                };\n",
       "                });\n",
       "            </script>\n",
       "        </div>"
      ]
     },
     "metadata": {},
     "output_type": "display_data"
    }
   ],
   "source": [
    "sales.pivot_table(index = 'Date',columns = 'StoreType', values = 'UnitsSold', aggfunc ='sum').reset_index().iplot(kind = 'line',\n",
    "            x = 'Date',\n",
    "            xTitle = 'Channel',\n",
    "            yTitle = 'Units Sold',\n",
    "            title = 'Sales Trend by channel')"
   ]
  },
  {
   "cell_type": "markdown",
   "metadata": {},
   "source": [
    "Now, lets include a column with the week day, to understand which is the day of the week with more sales"
   ]
  },
  {
   "cell_type": "code",
   "execution_count": 86,
   "metadata": {},
   "outputs": [],
   "source": [
    "sales['Date'] = sales['Date'].apply(lambda x: pd.to_datetime(x,format='%Y-%m-%d'))"
   ]
  },
  {
   "cell_type": "code",
   "execution_count": 87,
   "metadata": {},
   "outputs": [
    {
     "data": {
      "text/plain": [
       "StoreType            object\n",
       "City                 object\n",
       "Date         datetime64[ns]\n",
       "UnitsSold             int64\n",
       "dtype: object"
      ]
     },
     "execution_count": 87,
     "metadata": {},
     "output_type": "execute_result"
    }
   ],
   "source": [
    "sales.dtypes"
   ]
  },
  {
   "cell_type": "code",
   "execution_count": 88,
   "metadata": {},
   "outputs": [
    {
     "data": {
      "text/html": [
       "<div>\n",
       "<style scoped>\n",
       "    .dataframe tbody tr th:only-of-type {\n",
       "        vertical-align: middle;\n",
       "    }\n",
       "\n",
       "    .dataframe tbody tr th {\n",
       "        vertical-align: top;\n",
       "    }\n",
       "\n",
       "    .dataframe thead th {\n",
       "        text-align: right;\n",
       "    }\n",
       "</style>\n",
       "<table border=\"1\" class=\"dataframe\">\n",
       "  <thead>\n",
       "    <tr style=\"text-align: right;\">\n",
       "      <th></th>\n",
       "      <th>StoreType</th>\n",
       "      <th>City</th>\n",
       "      <th>Date</th>\n",
       "      <th>UnitsSold</th>\n",
       "      <th>DayOfWeek</th>\n",
       "    </tr>\n",
       "  </thead>\n",
       "  <tbody>\n",
       "    <tr>\n",
       "      <th>0</th>\n",
       "      <td>ECI stores</td>\n",
       "      <td>LA CORUÑA</td>\n",
       "      <td>2019-03-01</td>\n",
       "      <td>5</td>\n",
       "      <td>Friday</td>\n",
       "    </tr>\n",
       "    <tr>\n",
       "      <th>1</th>\n",
       "      <td>ECI stores</td>\n",
       "      <td>LA CORUÑA</td>\n",
       "      <td>2019-03-02</td>\n",
       "      <td>27</td>\n",
       "      <td>Saturday</td>\n",
       "    </tr>\n",
       "    <tr>\n",
       "      <th>2</th>\n",
       "      <td>ECI stores</td>\n",
       "      <td>LA CORUÑA</td>\n",
       "      <td>2019-03-04</td>\n",
       "      <td>14</td>\n",
       "      <td>Monday</td>\n",
       "    </tr>\n",
       "    <tr>\n",
       "      <th>3</th>\n",
       "      <td>ECI stores</td>\n",
       "      <td>LA CORUÑA</td>\n",
       "      <td>2019-03-06</td>\n",
       "      <td>3</td>\n",
       "      <td>Wednesday</td>\n",
       "    </tr>\n",
       "    <tr>\n",
       "      <th>4</th>\n",
       "      <td>ECI stores</td>\n",
       "      <td>LA CORUÑA</td>\n",
       "      <td>2019-03-07</td>\n",
       "      <td>19</td>\n",
       "      <td>Thursday</td>\n",
       "    </tr>\n",
       "  </tbody>\n",
       "</table>\n",
       "</div>"
      ],
      "text/plain": [
       "    StoreType       City       Date  UnitsSold  DayOfWeek\n",
       "0  ECI stores  LA CORUÑA 2019-03-01          5     Friday\n",
       "1  ECI stores  LA CORUÑA 2019-03-02         27   Saturday\n",
       "2  ECI stores  LA CORUÑA 2019-03-04         14     Monday\n",
       "3  ECI stores  LA CORUÑA 2019-03-06          3  Wednesday\n",
       "4  ECI stores  LA CORUÑA 2019-03-07         19   Thursday"
      ]
     },
     "execution_count": 88,
     "metadata": {},
     "output_type": "execute_result"
    }
   ],
   "source": [
    "sales['DayOfWeek'] = sales['Date'].dt.weekday_name\n",
    "sales.head()"
   ]
  },
  {
   "cell_type": "markdown",
   "metadata": {},
   "source": [
    "Lets create a pivot to get the sales although we want percentages, so we need to normalize first"
   ]
  },
  {
   "cell_type": "code",
   "execution_count": 89,
   "metadata": {},
   "outputs": [
    {
     "data": {
      "text/html": [
       "<div>\n",
       "<style scoped>\n",
       "    .dataframe tbody tr th:only-of-type {\n",
       "        vertical-align: middle;\n",
       "    }\n",
       "\n",
       "    .dataframe tbody tr th {\n",
       "        vertical-align: top;\n",
       "    }\n",
       "\n",
       "    .dataframe thead th {\n",
       "        text-align: right;\n",
       "    }\n",
       "</style>\n",
       "<table border=\"1\" class=\"dataframe\">\n",
       "  <thead>\n",
       "    <tr style=\"text-align: right;\">\n",
       "      <th>StoreType</th>\n",
       "      <th>DayOfWeek</th>\n",
       "      <th>ECI stores</th>\n",
       "      <th>Online stores</th>\n",
       "      <th>Shopping Center stores</th>\n",
       "      <th>Street stores</th>\n",
       "    </tr>\n",
       "  </thead>\n",
       "  <tbody>\n",
       "    <tr>\n",
       "      <th>0</th>\n",
       "      <td>Friday</td>\n",
       "      <td>10138</td>\n",
       "      <td>2145</td>\n",
       "      <td>18099</td>\n",
       "      <td>16929</td>\n",
       "    </tr>\n",
       "    <tr>\n",
       "      <th>1</th>\n",
       "      <td>Monday</td>\n",
       "      <td>6958</td>\n",
       "      <td>1371</td>\n",
       "      <td>12687</td>\n",
       "      <td>12950</td>\n",
       "    </tr>\n",
       "    <tr>\n",
       "      <th>2</th>\n",
       "      <td>Saturday</td>\n",
       "      <td>16997</td>\n",
       "      <td>1647</td>\n",
       "      <td>29072</td>\n",
       "      <td>24000</td>\n",
       "    </tr>\n",
       "    <tr>\n",
       "      <th>3</th>\n",
       "      <td>Sunday</td>\n",
       "      <td>1492</td>\n",
       "      <td>2138</td>\n",
       "      <td>2402</td>\n",
       "      <td>7169</td>\n",
       "    </tr>\n",
       "    <tr>\n",
       "      <th>4</th>\n",
       "      <td>Thursday</td>\n",
       "      <td>7004</td>\n",
       "      <td>1364</td>\n",
       "      <td>12245</td>\n",
       "      <td>12660</td>\n",
       "    </tr>\n",
       "    <tr>\n",
       "      <th>5</th>\n",
       "      <td>Tuesday</td>\n",
       "      <td>6651</td>\n",
       "      <td>1642</td>\n",
       "      <td>12674</td>\n",
       "      <td>12407</td>\n",
       "    </tr>\n",
       "    <tr>\n",
       "      <th>6</th>\n",
       "      <td>Wednesday</td>\n",
       "      <td>7995</td>\n",
       "      <td>1934</td>\n",
       "      <td>14574</td>\n",
       "      <td>14116</td>\n",
       "    </tr>\n",
       "  </tbody>\n",
       "</table>\n",
       "</div>"
      ],
      "text/plain": [
       "StoreType  DayOfWeek  ECI stores  Online stores  Shopping Center stores  \\\n",
       "0             Friday       10138           2145                   18099   \n",
       "1             Monday        6958           1371                   12687   \n",
       "2           Saturday       16997           1647                   29072   \n",
       "3             Sunday        1492           2138                    2402   \n",
       "4           Thursday        7004           1364                   12245   \n",
       "5            Tuesday        6651           1642                   12674   \n",
       "6          Wednesday        7995           1934                   14574   \n",
       "\n",
       "StoreType  Street stores  \n",
       "0                  16929  \n",
       "1                  12950  \n",
       "2                  24000  \n",
       "3                   7169  \n",
       "4                  12660  \n",
       "5                  12407  \n",
       "6                  14116  "
      ]
     },
     "execution_count": 89,
     "metadata": {},
     "output_type": "execute_result"
    }
   ],
   "source": [
    "pivot_days = sales.pivot_table(index = 'DayOfWeek',\n",
    "                  columns = 'StoreType', \n",
    "                  values = 'UnitsSold', \n",
    "                  aggfunc ='sum').reset_index()\n",
    "pivot_days"
   ]
  },
  {
   "cell_type": "code",
   "execution_count": 90,
   "metadata": {},
   "outputs": [
    {
     "data": {
      "text/plain": [
       "StoreType\n",
       "DayOfWeek                 object\n",
       "ECI stores                 int64\n",
       "Online stores              int64\n",
       "Shopping Center stores     int64\n",
       "Street stores              int64\n",
       "dtype: object"
      ]
     },
     "execution_count": 90,
     "metadata": {},
     "output_type": "execute_result"
    }
   ],
   "source": [
    "pivot_days.dtypes"
   ]
  },
  {
   "cell_type": "code",
   "execution_count": 91,
   "metadata": {},
   "outputs": [],
   "source": [
    "total_ECIStore = pivot_days['ECI stores'].sum()\n",
    "pivot_days['% ECI stores'] = pivot_days['ECI stores'].apply(lambda x: x/total_ECIStore)\n",
    "total_StreetStore = pivot_days['Street stores'].sum()\n",
    "pivot_days['% Street stores'] = pivot_days['Street stores'].apply(lambda x: x/total_StreetStore)\n",
    "total_OnlineStore = pivot_days['Online stores'].sum()\n",
    "pivot_days['% Online stores'] = pivot_days['Online stores'].apply(lambda x: x/total_OnlineStore)\n",
    "total_ShoppingCenterStore = pivot_days['Shopping Center stores'].sum()\n",
    "pivot_days['% Shopping Center stores'] = pivot_days['Shopping Center stores'].apply(lambda x: x/total_ShoppingCenterStore)"
   ]
  },
  {
   "cell_type": "code",
   "execution_count": 92,
   "metadata": {},
   "outputs": [
    {
     "data": {
      "text/html": [
       "<div>\n",
       "<style scoped>\n",
       "    .dataframe tbody tr th:only-of-type {\n",
       "        vertical-align: middle;\n",
       "    }\n",
       "\n",
       "    .dataframe tbody tr th {\n",
       "        vertical-align: top;\n",
       "    }\n",
       "\n",
       "    .dataframe thead th {\n",
       "        text-align: right;\n",
       "    }\n",
       "</style>\n",
       "<table border=\"1\" class=\"dataframe\">\n",
       "  <thead>\n",
       "    <tr style=\"text-align: right;\">\n",
       "      <th>StoreType</th>\n",
       "      <th>DayOfWeek</th>\n",
       "      <th>ECI stores</th>\n",
       "      <th>Online stores</th>\n",
       "      <th>Shopping Center stores</th>\n",
       "      <th>Street stores</th>\n",
       "      <th>% ECI stores</th>\n",
       "      <th>% Street stores</th>\n",
       "      <th>% Online stores</th>\n",
       "      <th>% Shopping Center stores</th>\n",
       "    </tr>\n",
       "  </thead>\n",
       "  <tbody>\n",
       "    <tr>\n",
       "      <th>0</th>\n",
       "      <td>Friday</td>\n",
       "      <td>10138</td>\n",
       "      <td>2145</td>\n",
       "      <td>18099</td>\n",
       "      <td>16929</td>\n",
       "      <td>0.177129</td>\n",
       "      <td>0.168900</td>\n",
       "      <td>0.175231</td>\n",
       "      <td>0.177872</td>\n",
       "    </tr>\n",
       "    <tr>\n",
       "      <th>1</th>\n",
       "      <td>Monday</td>\n",
       "      <td>6958</td>\n",
       "      <td>1371</td>\n",
       "      <td>12687</td>\n",
       "      <td>12950</td>\n",
       "      <td>0.121569</td>\n",
       "      <td>0.129202</td>\n",
       "      <td>0.112001</td>\n",
       "      <td>0.124684</td>\n",
       "    </tr>\n",
       "    <tr>\n",
       "      <th>2</th>\n",
       "      <td>Saturday</td>\n",
       "      <td>16997</td>\n",
       "      <td>1647</td>\n",
       "      <td>29072</td>\n",
       "      <td>24000</td>\n",
       "      <td>0.296969</td>\n",
       "      <td>0.239447</td>\n",
       "      <td>0.134548</td>\n",
       "      <td>0.285711</td>\n",
       "    </tr>\n",
       "    <tr>\n",
       "      <th>3</th>\n",
       "      <td>Sunday</td>\n",
       "      <td>1492</td>\n",
       "      <td>2138</td>\n",
       "      <td>2402</td>\n",
       "      <td>7169</td>\n",
       "      <td>0.026068</td>\n",
       "      <td>0.071525</td>\n",
       "      <td>0.174659</td>\n",
       "      <td>0.023606</td>\n",
       "    </tr>\n",
       "    <tr>\n",
       "      <th>4</th>\n",
       "      <td>Thursday</td>\n",
       "      <td>7004</td>\n",
       "      <td>1364</td>\n",
       "      <td>12245</td>\n",
       "      <td>12660</td>\n",
       "      <td>0.122373</td>\n",
       "      <td>0.126308</td>\n",
       "      <td>0.111429</td>\n",
       "      <td>0.120340</td>\n",
       "    </tr>\n",
       "    <tr>\n",
       "      <th>5</th>\n",
       "      <td>Tuesday</td>\n",
       "      <td>6651</td>\n",
       "      <td>1642</td>\n",
       "      <td>12674</td>\n",
       "      <td>12407</td>\n",
       "      <td>0.116205</td>\n",
       "      <td>0.123784</td>\n",
       "      <td>0.134139</td>\n",
       "      <td>0.124557</td>\n",
       "    </tr>\n",
       "    <tr>\n",
       "      <th>6</th>\n",
       "      <td>Wednesday</td>\n",
       "      <td>7995</td>\n",
       "      <td>1934</td>\n",
       "      <td>14574</td>\n",
       "      <td>14116</td>\n",
       "      <td>0.139687</td>\n",
       "      <td>0.140835</td>\n",
       "      <td>0.157994</td>\n",
       "      <td>0.143229</td>\n",
       "    </tr>\n",
       "  </tbody>\n",
       "</table>\n",
       "</div>"
      ],
      "text/plain": [
       "StoreType  DayOfWeek  ECI stores  Online stores  Shopping Center stores  \\\n",
       "0             Friday       10138           2145                   18099   \n",
       "1             Monday        6958           1371                   12687   \n",
       "2           Saturday       16997           1647                   29072   \n",
       "3             Sunday        1492           2138                    2402   \n",
       "4           Thursday        7004           1364                   12245   \n",
       "5            Tuesday        6651           1642                   12674   \n",
       "6          Wednesday        7995           1934                   14574   \n",
       "\n",
       "StoreType  Street stores  % ECI stores  % Street stores  % Online stores  \\\n",
       "0                  16929      0.177129         0.168900         0.175231   \n",
       "1                  12950      0.121569         0.129202         0.112001   \n",
       "2                  24000      0.296969         0.239447         0.134548   \n",
       "3                   7169      0.026068         0.071525         0.174659   \n",
       "4                  12660      0.122373         0.126308         0.111429   \n",
       "5                  12407      0.116205         0.123784         0.134139   \n",
       "6                  14116      0.139687         0.140835         0.157994   \n",
       "\n",
       "StoreType  % Shopping Center stores  \n",
       "0                          0.177872  \n",
       "1                          0.124684  \n",
       "2                          0.285711  \n",
       "3                          0.023606  \n",
       "4                          0.120340  \n",
       "5                          0.124557  \n",
       "6                          0.143229  "
      ]
     },
     "execution_count": 92,
     "metadata": {},
     "output_type": "execute_result"
    }
   ],
   "source": [
    "pivot_days"
   ]
  },
  {
   "cell_type": "code",
   "execution_count": 93,
   "metadata": {},
   "outputs": [],
   "source": [
    "# We need to re-index they days of the week because by default they're order alphabetically\n",
    "pivot_days = pivot_days.drop(['ECI stores', 'Online stores', 'Shopping Center stores',\n",
    "       'Street stores'], axis = 1).reindex([1,5,6,4, 0, 2,3])"
   ]
  },
  {
   "cell_type": "code",
   "execution_count": 94,
   "metadata": {},
   "outputs": [
    {
     "data": {
      "application/vnd.plotly.v1+json": {
       "config": {
        "linkText": "Export to plot.ly",
        "plotlyServerURL": "https://plot.ly",
        "showLink": true
       },
       "data": [
        {
         "line": {
          "color": "rgba(255, 153, 51, 1.0)",
          "dash": "solid",
          "shape": "linear",
          "width": 1.3
         },
         "mode": "lines",
         "name": "% ECI stores",
         "text": "",
         "type": "scatter",
         "uid": "842704d4-dd90-4939-8be4-2e384b9d6444",
         "x": [
          "Monday",
          "Tuesday",
          "Wednesday",
          "Thursday",
          "Friday",
          "Saturday",
          "Sunday"
         ],
         "y": [
          0.12156897003581725,
          0.11620511924521709,
          0.1396872543024373,
          0.1223726740630733,
          0.17712937887656155,
          0.29696863807111035,
          0.026067965405783173
         ]
        },
        {
         "line": {
          "color": "rgba(55, 128, 191, 1.0)",
          "dash": "solid",
          "shape": "linear",
          "width": 1.3
         },
         "mode": "lines",
         "name": "% Street stores",
         "text": "",
         "type": "scatter",
         "uid": "91af6eca-f590-49e5-a6a6-cafe128840b0",
         "x": [
          "Monday",
          "Tuesday",
          "Wednesday",
          "Thursday",
          "Friday",
          "Saturday",
          "Sunday"
         ],
         "y": [
          0.12920154443236123,
          0.12378405882411629,
          0.14083467190789276,
          0.1263082279933354,
          0.1688998413664435,
          0.23944687771248416,
          0.07152477776336662
         ]
        },
        {
         "line": {
          "color": "rgba(50, 171, 96, 1.0)",
          "dash": "solid",
          "shape": "linear",
          "width": 1.3
         },
         "mode": "lines",
         "name": "% Online stores",
         "text": "",
         "type": "scatter",
         "uid": "307c5f5c-1d15-4e5b-8433-e120e9597395",
         "x": [
          "Monday",
          "Tuesday",
          "Wednesday",
          "Thursday",
          "Friday",
          "Saturday",
          "Sunday"
         ],
         "y": [
          0.11200065354137734,
          0.13413936769871743,
          0.15799362797157096,
          0.1114288048362062,
          0.17523078179887264,
          0.13454783105955395,
          0.1746589330937015
         ]
        },
        {
         "line": {
          "color": "rgba(128, 0, 128, 1.0)",
          "dash": "solid",
          "shape": "linear",
          "width": 1.3
         },
         "mode": "lines",
         "name": "% Shopping Center stores",
         "text": "",
         "type": "scatter",
         "uid": "686c8b03-eb82-464f-af6a-52e5552a2dd9",
         "x": [
          "Monday",
          "Tuesday",
          "Wednesday",
          "Thursday",
          "Friday",
          "Saturday",
          "Sunday"
         ],
         "y": [
          0.12468428449284051,
          0.12455652413196662,
          0.14322919225968767,
          0.12034043222312855,
          0.17787190549664383,
          0.28571147779426653,
          0.023606183601466296
         ]
        }
       ],
       "layout": {
        "legend": {
         "bgcolor": "#F5F6F9",
         "font": {
          "color": "#4D5663"
         }
        },
        "paper_bgcolor": "#F5F6F9",
        "plot_bgcolor": "#F5F6F9",
        "title": {
         "font": {
          "color": "#4D5663"
         },
         "text": "Sales Trend by channel by day of week"
        },
        "xaxis": {
         "gridcolor": "#E1E5ED",
         "showgrid": true,
         "tickfont": {
          "color": "#4D5663"
         },
         "title": {
          "font": {
           "color": "#4D5663"
          },
          "text": "Channel"
         },
         "zerolinecolor": "#E1E5ED"
        },
        "yaxis": {
         "gridcolor": "#E1E5ED",
         "showgrid": true,
         "tickfont": {
          "color": "#4D5663"
         },
         "title": {
          "font": {
           "color": "#4D5663"
          },
          "text": "Units Sold"
         },
         "zerolinecolor": "#E1E5ED"
        }
       }
      },
      "text/html": [
       "<div>\n",
       "        \n",
       "        \n",
       "            <div id=\"932ad37c-5f14-4e8c-ac61-6f796f764cd6\" class=\"plotly-graph-div\" style=\"height:525px; width:100%;\"></div>\n",
       "            <script type=\"text/javascript\">\n",
       "                require([\"plotly\"], function(Plotly) {\n",
       "                    window.PLOTLYENV=window.PLOTLYENV || {};\n",
       "                    window.PLOTLYENV.BASE_URL='https://plot.ly';\n",
       "                    \n",
       "                if (document.getElementById(\"932ad37c-5f14-4e8c-ac61-6f796f764cd6\")) {\n",
       "                    Plotly.newPlot(\n",
       "                        '932ad37c-5f14-4e8c-ac61-6f796f764cd6',\n",
       "                        [{\"line\": {\"color\": \"rgba(255, 153, 51, 1.0)\", \"dash\": \"solid\", \"shape\": \"linear\", \"width\": 1.3}, \"mode\": \"lines\", \"name\": \"% ECI stores\", \"text\": \"\", \"type\": \"scatter\", \"uid\": \"842704d4-dd90-4939-8be4-2e384b9d6444\", \"x\": [\"Monday\", \"Tuesday\", \"Wednesday\", \"Thursday\", \"Friday\", \"Saturday\", \"Sunday\"], \"y\": [0.12156897003581725, 0.11620511924521709, 0.1396872543024373, 0.1223726740630733, 0.17712937887656155, 0.29696863807111035, 0.026067965405783173]}, {\"line\": {\"color\": \"rgba(55, 128, 191, 1.0)\", \"dash\": \"solid\", \"shape\": \"linear\", \"width\": 1.3}, \"mode\": \"lines\", \"name\": \"% Street stores\", \"text\": \"\", \"type\": \"scatter\", \"uid\": \"91af6eca-f590-49e5-a6a6-cafe128840b0\", \"x\": [\"Monday\", \"Tuesday\", \"Wednesday\", \"Thursday\", \"Friday\", \"Saturday\", \"Sunday\"], \"y\": [0.12920154443236123, 0.12378405882411629, 0.14083467190789276, 0.1263082279933354, 0.1688998413664435, 0.23944687771248416, 0.07152477776336662]}, {\"line\": {\"color\": \"rgba(50, 171, 96, 1.0)\", \"dash\": \"solid\", \"shape\": \"linear\", \"width\": 1.3}, \"mode\": \"lines\", \"name\": \"% Online stores\", \"text\": \"\", \"type\": \"scatter\", \"uid\": \"307c5f5c-1d15-4e5b-8433-e120e9597395\", \"x\": [\"Monday\", \"Tuesday\", \"Wednesday\", \"Thursday\", \"Friday\", \"Saturday\", \"Sunday\"], \"y\": [0.11200065354137734, 0.13413936769871743, 0.15799362797157096, 0.1114288048362062, 0.17523078179887264, 0.13454783105955395, 0.1746589330937015]}, {\"line\": {\"color\": \"rgba(128, 0, 128, 1.0)\", \"dash\": \"solid\", \"shape\": \"linear\", \"width\": 1.3}, \"mode\": \"lines\", \"name\": \"% Shopping Center stores\", \"text\": \"\", \"type\": \"scatter\", \"uid\": \"686c8b03-eb82-464f-af6a-52e5552a2dd9\", \"x\": [\"Monday\", \"Tuesday\", \"Wednesday\", \"Thursday\", \"Friday\", \"Saturday\", \"Sunday\"], \"y\": [0.12468428449284051, 0.12455652413196662, 0.14322919225968767, 0.12034043222312855, 0.17787190549664383, 0.28571147779426653, 0.023606183601466296]}],\n",
       "                        {\"legend\": {\"bgcolor\": \"#F5F6F9\", \"font\": {\"color\": \"#4D5663\"}}, \"paper_bgcolor\": \"#F5F6F9\", \"plot_bgcolor\": \"#F5F6F9\", \"title\": {\"font\": {\"color\": \"#4D5663\"}, \"text\": \"Sales Trend by channel by day of week\"}, \"xaxis\": {\"gridcolor\": \"#E1E5ED\", \"showgrid\": true, \"tickfont\": {\"color\": \"#4D5663\"}, \"title\": {\"font\": {\"color\": \"#4D5663\"}, \"text\": \"Channel\"}, \"zerolinecolor\": \"#E1E5ED\"}, \"yaxis\": {\"gridcolor\": \"#E1E5ED\", \"showgrid\": true, \"tickfont\": {\"color\": \"#4D5663\"}, \"title\": {\"font\": {\"color\": \"#4D5663\"}, \"text\": \"Units Sold\"}, \"zerolinecolor\": \"#E1E5ED\"}},\n",
       "                        {\"showLink\": true, \"linkText\": \"Export to plot.ly\", \"plotlyServerURL\": \"https://plot.ly\", \"responsive\": true}\n",
       "                    ).then(function(){\n",
       "                            \n",
       "var gd = document.getElementById('932ad37c-5f14-4e8c-ac61-6f796f764cd6');\n",
       "var x = new MutationObserver(function (mutations, observer) {{\n",
       "        var display = window.getComputedStyle(gd).display;\n",
       "        if (!display || display === 'none') {{\n",
       "            console.log([gd, 'removed!']);\n",
       "            Plotly.purge(gd);\n",
       "            observer.disconnect();\n",
       "        }}\n",
       "}});\n",
       "\n",
       "// Listen for the removal of the full notebook cells\n",
       "var notebookContainer = gd.closest('#notebook-container');\n",
       "if (notebookContainer) {{\n",
       "    x.observe(notebookContainer, {childList: true});\n",
       "}}\n",
       "\n",
       "// Listen for the clearing of the current output cell\n",
       "var outputEl = gd.closest('.output');\n",
       "if (outputEl) {{\n",
       "    x.observe(outputEl, {childList: true});\n",
       "}}\n",
       "\n",
       "                        })\n",
       "                };\n",
       "                });\n",
       "            </script>\n",
       "        </div>"
      ]
     },
     "metadata": {},
     "output_type": "display_data"
    }
   ],
   "source": [
    "pivot_days.iplot(kind = 'line',\n",
    "            x = 'DayOfWeek',\n",
    "            xTitle = 'Channel',\n",
    "            yTitle = 'Units Sold',\n",
    "            title = 'Sales Trend by channel by day of week')"
   ]
  },
  {
   "cell_type": "markdown",
   "metadata": {},
   "source": [
    "Its quite interesting to see that on Sundays, contrary to all the physical stores, the online store increases the Units Sold. Also we have to know that this data could be a bit biased since it only contains data from one and a half months"
   ]
  },
  {
   "cell_type": "markdown",
   "metadata": {},
   "source": [
    "Now, lets include the coordinates of each city so that we can create a heatmap"
   ]
  },
  {
   "cell_type": "code",
   "execution_count": 95,
   "metadata": {},
   "outputs": [],
   "source": [
    "# Firstly, lets get the list of cities\n",
    "cities = list(sales['City'].unique())"
   ]
  },
  {
   "cell_type": "markdown",
   "metadata": {},
   "source": [
    "With geocode, the function gives latitude and longitude for each city"
   ]
  },
  {
   "cell_type": "code",
   "execution_count": 98,
   "metadata": {},
   "outputs": [
    {
     "name": "stderr",
     "output_type": "stream",
     "text": [
      "/usr/local/Cellar/ipython/7.5.0/libexec/vendor/lib/python3.7/site-packages/ipykernel_launcher.py:2: DeprecationWarning:\n",
      "\n",
      "Using Nominatim with the default \"geopy/1.20.0\" `user_agent` is strongly discouraged, as it violates Nominatim's ToS https://operations.osmfoundation.org/policies/nominatim/ and may possibly cause 403 and 429 HTTP errors. Please specify a custom `user_agent` with `Nominatim(user_agent=\"my-application\")` or by overriding the default `user_agent`: `geopy.geocoders.options.default_user_agent = \"my-application\"`. In geopy 2.0 this will become an exception.\n",
      "\n"
     ]
    }
   ],
   "source": [
    "for city in cities:\n",
    "    geolocator = Nominatim()\n",
    "    location = geolocator.geocode(city)\n",
    "    sales.loc[(sales['City']==city),'Latitude']=location.latitude\n",
    "    sales.loc[(sales['City']==city),'Longitude']=location.longitude"
   ]
  },
  {
   "cell_type": "code",
   "execution_count": 99,
   "metadata": {},
   "outputs": [
    {
     "data": {
      "text/html": [
       "<div>\n",
       "<style scoped>\n",
       "    .dataframe tbody tr th:only-of-type {\n",
       "        vertical-align: middle;\n",
       "    }\n",
       "\n",
       "    .dataframe tbody tr th {\n",
       "        vertical-align: top;\n",
       "    }\n",
       "\n",
       "    .dataframe thead th {\n",
       "        text-align: right;\n",
       "    }\n",
       "</style>\n",
       "<table border=\"1\" class=\"dataframe\">\n",
       "  <thead>\n",
       "    <tr style=\"text-align: right;\">\n",
       "      <th></th>\n",
       "      <th>StoreType</th>\n",
       "      <th>City</th>\n",
       "      <th>Date</th>\n",
       "      <th>UnitsSold</th>\n",
       "      <th>DayOfWeek</th>\n",
       "      <th>Latitude</th>\n",
       "      <th>Longitude</th>\n",
       "    </tr>\n",
       "  </thead>\n",
       "  <tbody>\n",
       "    <tr>\n",
       "      <th>0</th>\n",
       "      <td>ECI stores</td>\n",
       "      <td>LA CORUÑA</td>\n",
       "      <td>2019-03-01</td>\n",
       "      <td>5</td>\n",
       "      <td>Friday</td>\n",
       "      <td>43.371209</td>\n",
       "      <td>-8.395877</td>\n",
       "    </tr>\n",
       "    <tr>\n",
       "      <th>1</th>\n",
       "      <td>ECI stores</td>\n",
       "      <td>LA CORUÑA</td>\n",
       "      <td>2019-03-02</td>\n",
       "      <td>27</td>\n",
       "      <td>Saturday</td>\n",
       "      <td>43.371209</td>\n",
       "      <td>-8.395877</td>\n",
       "    </tr>\n",
       "    <tr>\n",
       "      <th>2</th>\n",
       "      <td>ECI stores</td>\n",
       "      <td>LA CORUÑA</td>\n",
       "      <td>2019-03-04</td>\n",
       "      <td>14</td>\n",
       "      <td>Monday</td>\n",
       "      <td>43.371209</td>\n",
       "      <td>-8.395877</td>\n",
       "    </tr>\n",
       "    <tr>\n",
       "      <th>3</th>\n",
       "      <td>ECI stores</td>\n",
       "      <td>LA CORUÑA</td>\n",
       "      <td>2019-03-06</td>\n",
       "      <td>3</td>\n",
       "      <td>Wednesday</td>\n",
       "      <td>43.371209</td>\n",
       "      <td>-8.395877</td>\n",
       "    </tr>\n",
       "    <tr>\n",
       "      <th>4</th>\n",
       "      <td>ECI stores</td>\n",
       "      <td>LA CORUÑA</td>\n",
       "      <td>2019-03-07</td>\n",
       "      <td>19</td>\n",
       "      <td>Thursday</td>\n",
       "      <td>43.371209</td>\n",
       "      <td>-8.395877</td>\n",
       "    </tr>\n",
       "  </tbody>\n",
       "</table>\n",
       "</div>"
      ],
      "text/plain": [
       "    StoreType       City       Date  UnitsSold  DayOfWeek   Latitude  \\\n",
       "0  ECI stores  LA CORUÑA 2019-03-01          5     Friday  43.371209   \n",
       "1  ECI stores  LA CORUÑA 2019-03-02         27   Saturday  43.371209   \n",
       "2  ECI stores  LA CORUÑA 2019-03-04         14     Monday  43.371209   \n",
       "3  ECI stores  LA CORUÑA 2019-03-06          3  Wednesday  43.371209   \n",
       "4  ECI stores  LA CORUÑA 2019-03-07         19   Thursday  43.371209   \n",
       "\n",
       "   Longitude  \n",
       "0  -8.395877  \n",
       "1  -8.395877  \n",
       "2  -8.395877  \n",
       "3  -8.395877  \n",
       "4  -8.395877  "
      ]
     },
     "execution_count": 99,
     "metadata": {},
     "output_type": "execute_result"
    }
   ],
   "source": [
    "sales.head()"
   ]
  },
  {
   "cell_type": "markdown",
   "metadata": {},
   "source": [
    "Next step is to group the data for each lat & long, to use it in a heatmap"
   ]
  },
  {
   "cell_type": "code",
   "execution_count": 128,
   "metadata": {},
   "outputs": [
    {
     "data": {
      "text/html": [
       "<div>\n",
       "<style scoped>\n",
       "    .dataframe tbody tr th:only-of-type {\n",
       "        vertical-align: middle;\n",
       "    }\n",
       "\n",
       "    .dataframe tbody tr th {\n",
       "        vertical-align: top;\n",
       "    }\n",
       "\n",
       "    .dataframe thead th {\n",
       "        text-align: right;\n",
       "    }\n",
       "</style>\n",
       "<table border=\"1\" class=\"dataframe\">\n",
       "  <thead>\n",
       "    <tr style=\"text-align: right;\">\n",
       "      <th></th>\n",
       "      <th>Latitude</th>\n",
       "      <th>Longitude</th>\n",
       "      <th>UnitsSold</th>\n",
       "    </tr>\n",
       "  </thead>\n",
       "  <tbody>\n",
       "    <tr>\n",
       "      <th>0</th>\n",
       "      <td>36.131080</td>\n",
       "      <td>-5.448705</td>\n",
       "      <td>1499</td>\n",
       "    </tr>\n",
       "    <tr>\n",
       "      <th>1</th>\n",
       "      <td>36.529829</td>\n",
       "      <td>-6.292568</td>\n",
       "      <td>1393</td>\n",
       "    </tr>\n",
       "    <tr>\n",
       "      <th>2</th>\n",
       "      <td>36.681694</td>\n",
       "      <td>-6.137740</td>\n",
       "      <td>7207</td>\n",
       "    </tr>\n",
       "    <tr>\n",
       "      <th>3</th>\n",
       "      <td>36.721303</td>\n",
       "      <td>-4.421637</td>\n",
       "      <td>9514</td>\n",
       "    </tr>\n",
       "    <tr>\n",
       "      <th>4</th>\n",
       "      <td>36.841420</td>\n",
       "      <td>-2.462814</td>\n",
       "      <td>2340</td>\n",
       "    </tr>\n",
       "  </tbody>\n",
       "</table>\n",
       "</div>"
      ],
      "text/plain": [
       "    Latitude  Longitude  UnitsSold\n",
       "0  36.131080  -5.448705       1499\n",
       "1  36.529829  -6.292568       1393\n",
       "2  36.681694  -6.137740       7207\n",
       "3  36.721303  -4.421637       9514\n",
       "4  36.841420  -2.462814       2340"
      ]
     },
     "execution_count": 128,
     "metadata": {},
     "output_type": "execute_result"
    }
   ],
   "source": [
    "pivot_map = sales.pivot_table(index = ('Latitude','Longitude'),values = 'UnitsSold', aggfunc ='sum').reset_index()\n",
    "pivot_map.head()"
   ]
  },
  {
   "cell_type": "markdown",
   "metadata": {},
   "source": [
    "A function is created to have a default map centered in Spain"
   ]
  },
  {
   "cell_type": "code",
   "execution_count": 202,
   "metadata": {},
   "outputs": [],
   "source": [
    "def generateBaseMap(default_location=[40.41, -3.7], default_zoom_start=6.45):\n",
    "    base_map = folium.Map(location=default_location, control_scale=True, zoom_start=default_zoom_start)\n",
    "    return base_map"
   ]
  },
  {
   "cell_type": "code",
   "execution_count": 203,
   "metadata": {
    "scrolled": true
   },
   "outputs": [
    {
     "data": {
      "text/html": [
       "<div style=\"width:100%;\"><div style=\"position:relative;width:100%;height:0;padding-bottom:60%;\"><iframe src=\"data:text/html;charset=utf-8;base64,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\" style=\"position:absolute;width:100%;height:100%;left:0;top:0;border:none !important;\" allowfullscreen webkitallowfullscreen mozallowfullscreen></iframe></div></div>"
      ],
      "text/plain": [
       "<folium.folium.Map at 0x123101080>"
      ]
     },
     "execution_count": 203,
     "metadata": {},
     "output_type": "execute_result"
    }
   ],
   "source": [
    "base_map = generateBaseMap()\n",
    "HeatMap(pivot_map.values.tolist(),radius=12,max_zoom=12).add_to(base_map)\n",
    "base_map"
   ]
  },
  {
   "cell_type": "markdown",
   "metadata": {},
   "source": [
    "The area with the greater sales is Madrid, followed by the Valencian Commnunity thanks to the sales in Alicante, Valenncia & Castellon.\n",
    "Finally, Asturias also shows great performance"
   ]
  },
  {
   "cell_type": "markdown",
   "metadata": {},
   "source": [
    "# 3. Extract the weather in each city included in the analysis, for each of the dates"
   ]
  },
  {
   "cell_type": "code",
   "execution_count": null,
   "metadata": {},
   "outputs": [],
   "source": []
  }
 ],
 "metadata": {
  "kernelspec": {
   "display_name": "Python 3",
   "language": "python",
   "name": "python3"
  },
  "language_info": {
   "codemirror_mode": {
    "name": "ipython",
    "version": 3
   },
   "file_extension": ".py",
   "mimetype": "text/x-python",
   "name": "python",
   "nbconvert_exporter": "python",
   "pygments_lexer": "ipython3",
   "version": "3.7.3"
  }
 },
 "nbformat": 4,
 "nbformat_minor": 2
}
