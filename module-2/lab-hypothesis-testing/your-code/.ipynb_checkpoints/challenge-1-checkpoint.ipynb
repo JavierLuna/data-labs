{
 "cells": [
  {
   "cell_type": "markdown",
   "metadata": {},
   "source": [
    "# Challenge 1 - T-test\n",
    "\n",
    "In statistics, t-test is used to test if two data samples have a significant difference between their means. There are two types of t-test:\n",
    "\n",
    "* **Student's t-test** (a.k.a. independent or uncorrelated t-test). This type of t-test is to compare the samples of **two independent populations** (e.g. test scores of students in two different classes). `scipy` provides the [`ttest_ind`](https://docs.scipy.org/doc/scipy-0.15.1/reference/generated/scipy.stats.ttest_ind.html) method to conduct student's t-test.\n",
    "\n",
    "* **Paired t-test** (a.k.a. dependent or correlated t-test). This type of t-test is to compare the samples of **the same population** (e.g. scores of different tests of students in the same class). `scipy` provides the [`ttest_re`](https://docs.scipy.org/doc/scipy-0.15.1/reference/generated/scipy.stats.ttest_rel.html) method to conduct paired t-test.\n",
    "\n",
    "Both types of t-tests return a number which is called the **p-value**. If p-value is below 0.05, we can confidently declare the null-hypothesis is rejected and the difference is significant. If p-value is between 0.05 and 0.1, we may also declare the null-hypothesis is rejected but we are not highly confident. If p-value is above 0.1 we do not reject the null-hypothesis.\n",
    "\n",
    "Read more about the t-test in [this article](https://researchbasics.education.uconn.edu/t-test/) and [this Quora](https://www.quora.com/What-is-the-difference-between-a-paired-and-unpaired-t-test). Make sure you understand when to use which type of t-test. "
   ]
  },
  {
   "cell_type": "code",
   "execution_count": 12,
   "metadata": {},
   "outputs": [],
   "source": [
    "# Import libraries\n",
    "\n",
    "import pandas as pd\n",
    "import scipy as sc\n",
    "from scipy import stats\n",
    "\n"
   ]
  },
  {
   "cell_type": "markdown",
   "metadata": {},
   "source": [
    "#### Import dataset\n",
    "\n",
    "In this challenge we will work on the Pokemon dataset you have used last week. The goal is to test whether different groups of pokemon (e.g. Legendary vs Normal, Generation 1 vs 2, single-type vs dual-type) have different stats (e.g. HP, Attack, Defense, etc.)."
   ]
  },
  {
   "cell_type": "code",
   "execution_count": 5,
   "metadata": {},
   "outputs": [
    {
     "data": {
      "text/html": [
       "<div>\n",
       "<style scoped>\n",
       "    .dataframe tbody tr th:only-of-type {\n",
       "        vertical-align: middle;\n",
       "    }\n",
       "\n",
       "    .dataframe tbody tr th {\n",
       "        vertical-align: top;\n",
       "    }\n",
       "\n",
       "    .dataframe thead th {\n",
       "        text-align: right;\n",
       "    }\n",
       "</style>\n",
       "<table border=\"1\" class=\"dataframe\">\n",
       "  <thead>\n",
       "    <tr style=\"text-align: right;\">\n",
       "      <th></th>\n",
       "      <th>#</th>\n",
       "      <th>Name</th>\n",
       "      <th>Type 1</th>\n",
       "      <th>Type 2</th>\n",
       "      <th>Total</th>\n",
       "      <th>HP</th>\n",
       "      <th>Attack</th>\n",
       "      <th>Defense</th>\n",
       "      <th>Sp. Atk</th>\n",
       "      <th>Sp. Def</th>\n",
       "      <th>Speed</th>\n",
       "      <th>Generation</th>\n",
       "      <th>Legendary</th>\n",
       "    </tr>\n",
       "  </thead>\n",
       "  <tbody>\n",
       "    <tr>\n",
       "      <th>0</th>\n",
       "      <td>1</td>\n",
       "      <td>Bulbasaur</td>\n",
       "      <td>Grass</td>\n",
       "      <td>Poison</td>\n",
       "      <td>318</td>\n",
       "      <td>45</td>\n",
       "      <td>49</td>\n",
       "      <td>49</td>\n",
       "      <td>65</td>\n",
       "      <td>65</td>\n",
       "      <td>45</td>\n",
       "      <td>1</td>\n",
       "      <td>False</td>\n",
       "    </tr>\n",
       "    <tr>\n",
       "      <th>1</th>\n",
       "      <td>2</td>\n",
       "      <td>Ivysaur</td>\n",
       "      <td>Grass</td>\n",
       "      <td>Poison</td>\n",
       "      <td>405</td>\n",
       "      <td>60</td>\n",
       "      <td>62</td>\n",
       "      <td>63</td>\n",
       "      <td>80</td>\n",
       "      <td>80</td>\n",
       "      <td>60</td>\n",
       "      <td>1</td>\n",
       "      <td>False</td>\n",
       "    </tr>\n",
       "    <tr>\n",
       "      <th>2</th>\n",
       "      <td>3</td>\n",
       "      <td>Venusaur</td>\n",
       "      <td>Grass</td>\n",
       "      <td>Poison</td>\n",
       "      <td>525</td>\n",
       "      <td>80</td>\n",
       "      <td>82</td>\n",
       "      <td>83</td>\n",
       "      <td>100</td>\n",
       "      <td>100</td>\n",
       "      <td>80</td>\n",
       "      <td>1</td>\n",
       "      <td>False</td>\n",
       "    </tr>\n",
       "    <tr>\n",
       "      <th>3</th>\n",
       "      <td>3</td>\n",
       "      <td>VenusaurMega Venusaur</td>\n",
       "      <td>Grass</td>\n",
       "      <td>Poison</td>\n",
       "      <td>625</td>\n",
       "      <td>80</td>\n",
       "      <td>100</td>\n",
       "      <td>123</td>\n",
       "      <td>122</td>\n",
       "      <td>120</td>\n",
       "      <td>80</td>\n",
       "      <td>1</td>\n",
       "      <td>False</td>\n",
       "    </tr>\n",
       "    <tr>\n",
       "      <th>4</th>\n",
       "      <td>4</td>\n",
       "      <td>Charmander</td>\n",
       "      <td>Fire</td>\n",
       "      <td>NaN</td>\n",
       "      <td>309</td>\n",
       "      <td>39</td>\n",
       "      <td>52</td>\n",
       "      <td>43</td>\n",
       "      <td>60</td>\n",
       "      <td>50</td>\n",
       "      <td>65</td>\n",
       "      <td>1</td>\n",
       "      <td>False</td>\n",
       "    </tr>\n",
       "  </tbody>\n",
       "</table>\n",
       "</div>"
      ],
      "text/plain": [
       "   #                   Name Type 1  Type 2  Total  HP  Attack  Defense  \\\n",
       "0  1              Bulbasaur  Grass  Poison    318  45      49       49   \n",
       "1  2                Ivysaur  Grass  Poison    405  60      62       63   \n",
       "2  3               Venusaur  Grass  Poison    525  80      82       83   \n",
       "3  3  VenusaurMega Venusaur  Grass  Poison    625  80     100      123   \n",
       "4  4             Charmander   Fire     NaN    309  39      52       43   \n",
       "\n",
       "   Sp. Atk  Sp. Def  Speed  Generation  Legendary  \n",
       "0       65       65     45           1      False  \n",
       "1       80       80     60           1      False  \n",
       "2      100      100     80           1      False  \n",
       "3      122      120     80           1      False  \n",
       "4       60       50     65           1      False  "
      ]
     },
     "execution_count": 5,
     "metadata": {},
     "output_type": "execute_result"
    }
   ],
   "source": [
    "# Import dataset\n",
    "\n",
    "pokemon = pd.read_csv('../../lab-df-calculation-and-transformation/your-code/Pokemon.csv')\n",
    "\n",
    "pokemon.head()"
   ]
  },
  {
   "cell_type": "markdown",
   "metadata": {},
   "source": [
    "#### First we want to define a function with which we can test the means of a feature set of two samples. \n",
    "\n",
    "In the next cell you'll see the annotations of the Python function that explains what this function does and its arguments and returned value. This type of annotation is called **docstring** which is a convention used among Python developers. The docstring convention allows developers to write consistent tech documentations for their codes so that others can read. It also allows some websites to automatically parse the docstrings and display user-friendly documentations.\n",
    "\n",
    "Follow the specifications of the docstring and complete the function."
   ]
  },
  {
   "cell_type": "code",
   "execution_count": 27,
   "metadata": {},
   "outputs": [
    {
     "data": {
      "text/plain": [
       "{'HP': -8.036124405043928,\n",
       " 'Defense': -7.181240122992339,\n",
       " 'Sp. Atk': -14.191406210846289,\n",
       " 'Sp. Def': -11.037751061205222,\n",
       " 'Speed': -9.7652343319319,\n",
       " 'Total': -16.386116965872425,\n",
       " 'Attack': -10.397321023700622}"
      ]
     },
     "execution_count": 27,
     "metadata": {},
     "output_type": "execute_result"
    }
   ],
   "source": [
    "def t_test_features(s1, s2, features=['HP', 'Defense', 'Sp. Atk', 'Sp. Def', 'Speed', 'Total','Attack']):\n",
    "    \"\"\"Test means of a feature set of two samples\n",
    "    \n",
    "    Args:\n",
    "        s1 (dataframe): sample 1\n",
    "        s2 (dataframe): sample 2\n",
    "        features (list): an array of features to test\n",
    "    \n",
    "    Returns:\n",
    "        dict: a dictionary of t-test scores for each feature where the feature name is the key and the p-value is the value\n",
    "    \"\"\"\n",
    "    \n",
    "    results = {}\n",
    "    for feature in features:\n",
    "        tscore=sc.stats.ttest_ind(s1[feature], s2[feature])\n",
    "        dic_res={feature:tscore[0]}\n",
    "        results.update(dic_res)\n",
    "    # Your code here\n",
    "    \n",
    "    return results\n",
    "\n",
    "s1=pokemon[pokemon.Legendary==False]\n",
    "\n",
    "s2=pokemon[pokemon.Legendary==True]\n",
    "\n",
    "t_test_features(s1,s2)"
   ]
  },
  {
   "cell_type": "code",
   "execution_count": 21,
   "metadata": {},
   "outputs": [
    {
     "name": "stdout",
     "output_type": "stream",
     "text": [
      "       #                       Name    Type 1  Type 2  Total   HP  Attack  \\\n",
      "0      1                  Bulbasaur     Grass  Poison    318   45      49   \n",
      "1      2                    Ivysaur     Grass  Poison    405   60      62   \n",
      "2      3                   Venusaur     Grass  Poison    525   80      82   \n",
      "3      3      VenusaurMega Venusaur     Grass  Poison    625   80     100   \n",
      "4      4                 Charmander      Fire     NaN    309   39      52   \n",
      "5      5                 Charmeleon      Fire     NaN    405   58      64   \n",
      "6      6                  Charizard      Fire  Flying    534   78      84   \n",
      "7      6  CharizardMega Charizard X      Fire  Dragon    634   78     130   \n",
      "8      6  CharizardMega Charizard Y      Fire  Flying    634   78     104   \n",
      "9      7                   Squirtle     Water     NaN    314   44      48   \n",
      "10     8                  Wartortle     Water     NaN    405   59      63   \n",
      "11     9                  Blastoise     Water     NaN    530   79      83   \n",
      "12     9    BlastoiseMega Blastoise     Water     NaN    630   79     103   \n",
      "13    10                   Caterpie       Bug     NaN    195   45      30   \n",
      "14    11                    Metapod       Bug     NaN    205   50      20   \n",
      "15    12                 Butterfree       Bug  Flying    395   60      45   \n",
      "16    13                     Weedle       Bug  Poison    195   40      35   \n",
      "17    14                     Kakuna       Bug  Poison    205   45      25   \n",
      "18    15                   Beedrill       Bug  Poison    395   65      90   \n",
      "19    15      BeedrillMega Beedrill       Bug  Poison    495   65     150   \n",
      "20    16                     Pidgey    Normal  Flying    251   40      45   \n",
      "21    17                  Pidgeotto    Normal  Flying    349   63      60   \n",
      "22    18                    Pidgeot    Normal  Flying    479   83      80   \n",
      "23    18        PidgeotMega Pidgeot    Normal  Flying    579   83      80   \n",
      "24    19                    Rattata    Normal     NaN    253   30      56   \n",
      "25    20                   Raticate    Normal     NaN    413   55      81   \n",
      "26    21                    Spearow    Normal  Flying    262   40      60   \n",
      "27    22                     Fearow    Normal  Flying    442   65      90   \n",
      "28    23                      Ekans    Poison     NaN    288   35      60   \n",
      "29    24                      Arbok    Poison     NaN    438   60      85   \n",
      "..   ...                        ...       ...     ...    ...  ...     ...   \n",
      "762  692                  Clauncher     Water     NaN    330   50      53   \n",
      "763  693                  Clawitzer     Water     NaN    500   71      73   \n",
      "764  694                 Helioptile  Electric  Normal    289   44      38   \n",
      "765  695                  Heliolisk  Electric  Normal    481   62      55   \n",
      "766  696                     Tyrunt      Rock  Dragon    362   58      89   \n",
      "767  697                  Tyrantrum      Rock  Dragon    521   82     121   \n",
      "768  698                     Amaura      Rock     Ice    362   77      59   \n",
      "769  699                    Aurorus      Rock     Ice    521  123      77   \n",
      "770  700                    Sylveon     Fairy     NaN    525   95      65   \n",
      "771  701                   Hawlucha  Fighting  Flying    500   78      92   \n",
      "772  702                    Dedenne  Electric   Fairy    431   67      58   \n",
      "773  703                    Carbink      Rock   Fairy    500   50      50   \n",
      "774  704                      Goomy    Dragon     NaN    300   45      50   \n",
      "775  705                    Sliggoo    Dragon     NaN    452   68      75   \n",
      "776  706                     Goodra    Dragon     NaN    600   90     100   \n",
      "777  707                     Klefki     Steel   Fairy    470   57      80   \n",
      "778  708                   Phantump     Ghost   Grass    309   43      70   \n",
      "779  709                  Trevenant     Ghost   Grass    474   85     110   \n",
      "780  710      PumpkabooAverage Size     Ghost   Grass    335   49      66   \n",
      "781  710        PumpkabooSmall Size     Ghost   Grass    335   44      66   \n",
      "782  710        PumpkabooLarge Size     Ghost   Grass    335   54      66   \n",
      "783  710        PumpkabooSuper Size     Ghost   Grass    335   59      66   \n",
      "784  711      GourgeistAverage Size     Ghost   Grass    494   65      90   \n",
      "785  711        GourgeistSmall Size     Ghost   Grass    494   55      85   \n",
      "786  711        GourgeistLarge Size     Ghost   Grass    494   75      95   \n",
      "787  711        GourgeistSuper Size     Ghost   Grass    494   85     100   \n",
      "788  712                   Bergmite       Ice     NaN    304   55      69   \n",
      "789  713                    Avalugg       Ice     NaN    514   95     117   \n",
      "790  714                     Noibat    Flying  Dragon    245   40      30   \n",
      "791  715                    Noivern    Flying  Dragon    535   85      70   \n",
      "\n",
      "     Defense  Sp. Atk  Sp. Def  Speed  Generation  Legendary  \n",
      "0         49       65       65     45           1      False  \n",
      "1         63       80       80     60           1      False  \n",
      "2         83      100      100     80           1      False  \n",
      "3        123      122      120     80           1      False  \n",
      "4         43       60       50     65           1      False  \n",
      "5         58       80       65     80           1      False  \n",
      "6         78      109       85    100           1      False  \n",
      "7        111      130       85    100           1      False  \n",
      "8         78      159      115    100           1      False  \n",
      "9         65       50       64     43           1      False  \n",
      "10        80       65       80     58           1      False  \n",
      "11       100       85      105     78           1      False  \n",
      "12       120      135      115     78           1      False  \n",
      "13        35       20       20     45           1      False  \n",
      "14        55       25       25     30           1      False  \n",
      "15        50       90       80     70           1      False  \n",
      "16        30       20       20     50           1      False  \n",
      "17        50       25       25     35           1      False  \n",
      "18        40       45       80     75           1      False  \n",
      "19        40       15       80    145           1      False  \n",
      "20        40       35       35     56           1      False  \n",
      "21        55       50       50     71           1      False  \n",
      "22        75       70       70    101           1      False  \n",
      "23        80      135       80    121           1      False  \n",
      "24        35       25       35     72           1      False  \n",
      "25        60       50       70     97           1      False  \n",
      "26        30       31       31     70           1      False  \n",
      "27        65       61       61    100           1      False  \n",
      "28        44       40       54     55           1      False  \n",
      "29        69       65       79     80           1      False  \n",
      "..       ...      ...      ...    ...         ...        ...  \n",
      "762       62       58       63     44           6      False  \n",
      "763       88      120       89     59           6      False  \n",
      "764       33       61       43     70           6      False  \n",
      "765       52      109       94    109           6      False  \n",
      "766       77       45       45     48           6      False  \n",
      "767      119       69       59     71           6      False  \n",
      "768       50       67       63     46           6      False  \n",
      "769       72       99       92     58           6      False  \n",
      "770       65      110      130     60           6      False  \n",
      "771       75       74       63    118           6      False  \n",
      "772       57       81       67    101           6      False  \n",
      "773      150       50      150     50           6      False  \n",
      "774       35       55       75     40           6      False  \n",
      "775       53       83      113     60           6      False  \n",
      "776       70      110      150     80           6      False  \n",
      "777       91       80       87     75           6      False  \n",
      "778       48       50       60     38           6      False  \n",
      "779       76       65       82     56           6      False  \n",
      "780       70       44       55     51           6      False  \n",
      "781       70       44       55     56           6      False  \n",
      "782       70       44       55     46           6      False  \n",
      "783       70       44       55     41           6      False  \n",
      "784      122       58       75     84           6      False  \n",
      "785      122       58       75     99           6      False  \n",
      "786      122       58       75     69           6      False  \n",
      "787      122       58       75     54           6      False  \n",
      "788       85       32       35     28           6      False  \n",
      "789      184       44       46     28           6      False  \n",
      "790       35       45       40     55           6      False  \n",
      "791       80       97       80    123           6      False  \n",
      "\n",
      "[735 rows x 13 columns]\n"
     ]
    }
   ],
   "source": [
    "s1=pokemon[pokemon.Legendary==]\n",
    "print(s1)\n",
    "s2=pokemon[pokemon.Legendary=='True']"
   ]
  },
  {
   "cell_type": "markdown",
   "metadata": {},
   "source": [
    "#### Using the `t_test_features` function, conduct t-test for Lengendary vs non-Legendary pokemons.\n",
    "\n",
    "*Hint: your output should look like below:*\n",
    "\n",
    "```\n",
    "{'HP': 1.0026911708035284e-13,\n",
    " 'Attack': 2.520372449236646e-16,\n",
    " 'Defense': 4.8269984949193316e-11,\n",
    " 'Sp. Atk': 1.5514614112239812e-21,\n",
    " 'Sp. Def': 2.2949327864052826e-15,\n",
    " 'Speed': 1.049016311882451e-18,\n",
    " 'Total': 9.357954335957446e-47}\n",
    " ```"
   ]
  },
  {
   "cell_type": "code",
   "execution_count": null,
   "metadata": {},
   "outputs": [],
   "source": [
    "# Your code here\n"
   ]
  },
  {
   "cell_type": "markdown",
   "metadata": {},
   "source": [
    "#### From the test results above, what conclusion can you make? Do Legendary and non-Legendary pokemons have significantly different stats on each feature?"
   ]
  },
  {
   "cell_type": "code",
   "execution_count": null,
   "metadata": {},
   "outputs": [],
   "source": [
    "# Your comment here"
   ]
  },
  {
   "cell_type": "markdown",
   "metadata": {},
   "source": [
    "#### Next, conduct t-test for Generation 1 and Generation 2 pokemons."
   ]
  },
  {
   "cell_type": "code",
   "execution_count": null,
   "metadata": {},
   "outputs": [],
   "source": [
    "# Your code here\n"
   ]
  },
  {
   "cell_type": "markdown",
   "metadata": {},
   "source": [
    "#### What conclusions can you make?"
   ]
  },
  {
   "cell_type": "code",
   "execution_count": null,
   "metadata": {},
   "outputs": [],
   "source": [
    "# Your comment here"
   ]
  },
  {
   "cell_type": "markdown",
   "metadata": {},
   "source": [
    "#### Compare pokemons who have single type vs those having two types."
   ]
  },
  {
   "cell_type": "code",
   "execution_count": null,
   "metadata": {},
   "outputs": [],
   "source": [
    "# Your code here\n"
   ]
  },
  {
   "cell_type": "markdown",
   "metadata": {},
   "source": [
    "#### What conclusions can you make?"
   ]
  },
  {
   "cell_type": "code",
   "execution_count": null,
   "metadata": {},
   "outputs": [],
   "source": [
    "# Your comment here"
   ]
  },
  {
   "cell_type": "markdown",
   "metadata": {},
   "source": [
    "#### Now, we want to compare whether there are significant differences of `Attack` vs `Defense`  and  `Sp. Atk` vs `Sp. Def` of all pokemons. Please write your code below.\n",
    "\n",
    "*Hint: are you comparing different populations or the same population?*"
   ]
  },
  {
   "cell_type": "code",
   "execution_count": null,
   "metadata": {},
   "outputs": [],
   "source": [
    "# Your code here\n"
   ]
  },
  {
   "cell_type": "markdown",
   "metadata": {},
   "source": [
    "#### What conclusions can you make?"
   ]
  },
  {
   "cell_type": "code",
   "execution_count": null,
   "metadata": {},
   "outputs": [],
   "source": [
    "# Your comment here"
   ]
  }
 ],
 "metadata": {
  "kernelspec": {
   "display_name": "Python 3",
   "language": "python",
   "name": "python3"
  },
  "language_info": {
   "codemirror_mode": {
    "name": "ipython",
    "version": 3
   },
   "file_extension": ".py",
   "mimetype": "text/x-python",
   "name": "python",
   "nbconvert_exporter": "python",
   "pygments_lexer": "ipython3",
   "version": "3.7.3"
  }
 },
 "nbformat": 4,
 "nbformat_minor": 2
}
