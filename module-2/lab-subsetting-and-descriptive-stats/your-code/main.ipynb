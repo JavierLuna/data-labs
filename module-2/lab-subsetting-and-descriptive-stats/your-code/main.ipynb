{
"cells": [
{
"cell_type": "markdown",
"metadata": {},
"source": [
"# Before you start :\n",
"   - These exercises are related to the Subsetting and Descriptive Stats lessons.\n",
"   - Keep in mind that you need to use some of the functions you learned in the previous lessons.\n",
"   - All datasets are provided in the `your-code` folder of this lab.\n",
"   - Elaborate your codes and outputs as much as you can.\n",
"   - Try your best to answer the questions and complete the tasks and most importantly enjoy the process!!!"
]
},
{
"cell_type": "markdown",
"metadata": {},
"source": [
"#### Import all the libraries that are necessary"
]
},
{
"cell_type": "code",
"execution_count": 1,
"metadata": {},
"outputs": [],
"source": [
"# import libraries here\n",
"import pandas as pd\n",
"import numpy as np\n"
]
},
{
"cell_type": "markdown",
"metadata": {},
"source": [
"# Challenge 1"
]
},
{
"cell_type": "markdown",
"metadata": {},
"source": [
"#### In this challenge we will use the `Temp_States.csv` file. \n",
"\n",
"#### First import it into a data frame called `temp`."
]
},
{
"cell_type": "code",
"execution_count": 2,
"metadata": {},
"outputs": [],
"source": [
"# your answer here\n",
"\n",
"temp = pd.read_csv('./Temp_States.csv', encoding='utf8')"
]
},
{
"cell_type": "markdown",
"metadata": {},
"source": [
"#### Print `temp`"
]
},
{
"cell_type": "code",
"execution_count": 3,
"metadata": {},
"outputs": [
{
"data": {
"text/html": [
"<div>\n",
"<style scoped>\n",
"    .dataframe tbody tr th:only-of-type {\n",
"        vertical-align: middle;\n",
"    }\n",
"\n",
"    .dataframe tbody tr th {\n",
"        vertical-align: top;\n",
"    }\n",
"\n",
"    .dataframe thead th {\n",
"        text-align: right;\n",
"    }\n",
"</style>\n",
"<table border=\"1\" class=\"dataframe\">\n",
"  <thead>\n",
"    <tr style=\"text-align: right;\">\n",
"      <th></th>\n",
"      <th>City</th>\n",
"      <th>State</th>\n",
"      <th>Temperature</th>\n",
"    </tr>\n",
"  </thead>\n",
"  <tbody>\n",
"    <tr>\n",
"      <th>0</th>\n",
"      <td>NYC</td>\n",
"      <td>New York</td>\n",
"      <td>19.444444</td>\n",
"    </tr>\n",
"    <tr>\n",
"      <th>1</th>\n",
"      <td>Albany</td>\n",
"      <td>New York</td>\n",
"      <td>9.444444</td>\n",
"    </tr>\n",
"    <tr>\n",
"      <th>2</th>\n",
"      <td>Buffalo</td>\n",
"      <td>New York</td>\n",
"      <td>3.333333</td>\n",
"    </tr>\n",
"    <tr>\n",
"      <th>3</th>\n",
"      <td>Hartford</td>\n",
"      <td>Connecticut</td>\n",
"      <td>17.222222</td>\n",
"    </tr>\n",
"    <tr>\n",
"      <th>4</th>\n",
"      <td>Bridgeport</td>\n",
"      <td>Connecticut</td>\n",
"      <td>14.444444</td>\n",
"    </tr>\n",
"    <tr>\n",
"      <th>5</th>\n",
"      <td>Treton</td>\n",
"      <td>New Jersey</td>\n",
"      <td>22.222222</td>\n",
"    </tr>\n",
"    <tr>\n",
"      <th>6</th>\n",
"      <td>Newark</td>\n",
"      <td>New Jersey</td>\n",
"      <td>20.000000</td>\n",
"    </tr>\n",
"  </tbody>\n",
"</table>\n",
"</div>"
],
"text/plain": [
"         City        State  Temperature\n",
"0         NYC     New York    19.444444\n",
"1      Albany     New York     9.444444\n",
"2     Buffalo     New York     3.333333\n",
"3    Hartford  Connecticut    17.222222\n",
"4  Bridgeport  Connecticut    14.444444\n",
"5      Treton   New Jersey    22.222222\n",
"6      Newark   New Jersey    20.000000"
]
},
"execution_count": 3,
"metadata": {},
"output_type": "execute_result"
}
],
"source": [
"temp.head(10)"
]
},
{
"cell_type": "markdown",
"metadata": {},
"source": [
"#### Explore the data types of the Temp dataframe. What type of data do we have? Comment your result."
]
},
{
"cell_type": "code",
"execution_count": 4,
"metadata": {},
"outputs": [
{
"data": {
"text/plain": [
"City            object\n",
"State           object\n",
"Temperature    float64\n",
"dtype: object"
]
},
"execution_count": 4,
"metadata": {},
"output_type": "execute_result"
}
],
"source": [
"# your answer here\n",
"temp.dtypes\n",
"\n",
"#Tenemos dos columnas tipo strings y una de número float"
]
},
{
"cell_type": "markdown",
"metadata": {},
"source": [
"#### Select the rows where state is New York"
]
},
{
"cell_type": "code",
"execution_count": 5,
"metadata": {},
"outputs": [
{
"data": {
"text/html": [
"<div>\n",
"<style scoped>\n",
"    .dataframe tbody tr th:only-of-type {\n",
"        vertical-align: middle;\n",
"    }\n",
"\n",
"    .dataframe tbody tr th {\n",
"        vertical-align: top;\n",
"    }\n",
"\n",
"    .dataframe thead th {\n",
"        text-align: right;\n",
"    }\n",
"</style>\n",
"<table border=\"1\" class=\"dataframe\">\n",
"  <thead>\n",
"    <tr style=\"text-align: right;\">\n",
"      <th></th>\n",
"      <th>City</th>\n",
"      <th>State</th>\n",
"      <th>Temperature</th>\n",
"    </tr>\n",
"  </thead>\n",
"  <tbody>\n",
"    <tr>\n",
"      <th>0</th>\n",
"      <td>NYC</td>\n",
"      <td>New York</td>\n",
"      <td>19.444444</td>\n",
"    </tr>\n",
"    <tr>\n",
"      <th>1</th>\n",
"      <td>Albany</td>\n",
"      <td>New York</td>\n",
"      <td>9.444444</td>\n",
"    </tr>\n",
"    <tr>\n",
"      <th>2</th>\n",
"      <td>Buffalo</td>\n",
"      <td>New York</td>\n",
"      <td>3.333333</td>\n",
"    </tr>\n",
"  </tbody>\n",
"</table>\n",
"</div>"
],
"text/plain": [
"      City     State  Temperature\n",
"0      NYC  New York    19.444444\n",
"1   Albany  New York     9.444444\n",
"2  Buffalo  New York     3.333333"
]
},
"execution_count": 5,
"metadata": {},
"output_type": "execute_result"
}
],
"source": [
"# your answer here\n",
"\n",
"temp[(temp['State'] == 'New York')]"
]
},
{
"cell_type": "code",
"execution_count": null,
"metadata": {},
"outputs": [],
"source": []
},
{
"cell_type": "markdown",
"metadata": {},
"source": [
"#### What is the average of the temperature of cities in New York?"
]
},
{
"cell_type": "code",
"execution_count": 6,
"metadata": {},
"outputs": [
{
"data": {
"text/plain": [
"Temperature    10.740741\n",
"dtype: float64"
]
},
"execution_count": 6,
"metadata": {},
"output_type": "execute_result"
}
],
"source": [
"# your answer here\n",
"temp[(temp['State'] == 'New York')].mean()"
]
},
{
"cell_type": "markdown",
"metadata": {},
"source": [
"#### We want to know cities and states with Temperature above 15 degress Celcius"
]
},
{
"cell_type": "code",
"execution_count": 7,
"metadata": {},
"outputs": [
{
"data": {
"text/html": [
"<div>\n",
"<style scoped>\n",
"    .dataframe tbody tr th:only-of-type {\n",
"        vertical-align: middle;\n",
"    }\n",
"\n",
"    .dataframe tbody tr th {\n",
"        vertical-align: top;\n",
"    }\n",
"\n",
"    .dataframe thead th {\n",
"        text-align: right;\n",
"    }\n",
"</style>\n",
"<table border=\"1\" class=\"dataframe\">\n",
"  <thead>\n",
"    <tr style=\"text-align: right;\">\n",
"      <th></th>\n",
"      <th>City</th>\n",
"      <th>State</th>\n",
"      <th>Temperature</th>\n",
"    </tr>\n",
"  </thead>\n",
"  <tbody>\n",
"    <tr>\n",
"      <th>0</th>\n",
"      <td>NYC</td>\n",
"      <td>New York</td>\n",
"      <td>19.444444</td>\n",
"    </tr>\n",
"    <tr>\n",
"      <th>3</th>\n",
"      <td>Hartford</td>\n",
"      <td>Connecticut</td>\n",
"      <td>17.222222</td>\n",
"    </tr>\n",
"    <tr>\n",
"      <th>5</th>\n",
"      <td>Treton</td>\n",
"      <td>New Jersey</td>\n",
"      <td>22.222222</td>\n",
"    </tr>\n",
"    <tr>\n",
"      <th>6</th>\n",
"      <td>Newark</td>\n",
"      <td>New Jersey</td>\n",
"      <td>20.000000</td>\n",
"    </tr>\n",
"  </tbody>\n",
"</table>\n",
"</div>"
],
"text/plain": [
"       City        State  Temperature\n",
"0       NYC     New York    19.444444\n",
"3  Hartford  Connecticut    17.222222\n",
"5    Treton   New Jersey    22.222222\n",
"6    Newark   New Jersey    20.000000"
]
},
"execution_count": 7,
"metadata": {},
"output_type": "execute_result"
}
],
"source": [
"# your answer here\n",
"temp[(temp['Temperature'] > 15)]"
]
},
{
"cell_type": "markdown",
"metadata": {},
"source": [
"#### Now, return only the cities that have a temperature above 15 degress Celcius"
]
},
{
"cell_type": "code",
"execution_count": 8,
"metadata": {},
"outputs": [
{
"data": {
"text/plain": [
"0         NYC\n",
"3    Hartford\n",
"5      Treton\n",
"6      Newark\n",
"Name: City, dtype: object"
]
},
"execution_count": 8,
"metadata": {},
"output_type": "execute_result"
}
],
"source": [
"# your answer here\n",
"#temp[(temp['Temperature'] > 15) (temp['City'])]\n",
"temp['City'][temp['Temperature'] > 15]"
]
},
{
"cell_type": "markdown",
"metadata": {},
"source": [
"#### We want to know which cities have a temperature above 15 degrees Celcius and below 20 degrees Celcius\n",
"\n",
"*Hint: First write the condition then select the rows.*"
]
},
{
"cell_type": "code",
"execution_count": 9,
"metadata": {},
"outputs": [
{
"data": {
"text/plain": [
"0         NYC\n",
"3    Hartford\n",
"Name: City, dtype: object"
]
},
"execution_count": 9,
"metadata": {},
"output_type": "execute_result"
}
],
"source": [
"# your answer here\n",
"temp['City'][temp['Temperature'] > 15] [temp['Temperature'] < 20]\n",
"\n"
]
},
{
"cell_type": "code",
"execution_count": 10,
"metadata": {},
"outputs": [
{
"name": "stderr",
"output_type": "stream",
"text": [
"c:\\program files\\python37\\lib\\site-packages\\ipykernel_launcher.py:1: UserWarning: Boolean Series key will be reindexed to match DataFrame index.\n",
"  \"\"\"Entry point for launching an IPython kernel.\n"
]
},
{
"data": {
"text/plain": [
"0         NYC\n",
"3    Hartford\n",
"Name: City, dtype: object"
]
},
"execution_count": 10,
"metadata": {},
"output_type": "execute_result"
}
],
"source": [
"temp[temp['Temperature']>15][temp['Temperature']<20]['City']"
]
},
{
"cell_type": "markdown",
"metadata": {},
"source": [
"#### Find the mean and the standard deviation of the temperature of each state.\n",
"\n",
"*Hint: Use functions from Data Manipulation lesson*"
]
},
{
"cell_type": "code",
"execution_count": 11,
"metadata": {},
"outputs": [
{
"data": {
"text/html": [
"<div>\n",
"<style scoped>\n",
"    .dataframe tbody tr th:only-of-type {\n",
"        vertical-align: middle;\n",
"    }\n",
"\n",
"    .dataframe tbody tr th {\n",
"        vertical-align: top;\n",
"    }\n",
"\n",
"    .dataframe thead tr th {\n",
"        text-align: left;\n",
"    }\n",
"\n",
"    .dataframe thead tr:last-of-type th {\n",
"        text-align: right;\n",
"    }\n",
"</style>\n",
"<table border=\"1\" class=\"dataframe\">\n",
"  <thead>\n",
"    <tr>\n",
"      <th></th>\n",
"      <th colspan=\"2\" halign=\"left\">Temperature</th>\n",
"    </tr>\n",
"    <tr>\n",
"      <th></th>\n",
"      <th>mean</th>\n",
"      <th>std</th>\n",
"    </tr>\n",
"    <tr>\n",
"      <th>State</th>\n",
"      <th></th>\n",
"      <th></th>\n",
"    </tr>\n",
"  </thead>\n",
"  <tbody>\n",
"    <tr>\n",
"      <th>Connecticut</th>\n",
"      <td>15.833333</td>\n",
"      <td>1.964186</td>\n",
"    </tr>\n",
"    <tr>\n",
"      <th>New Jersey</th>\n",
"      <td>21.111111</td>\n",
"      <td>1.571348</td>\n",
"    </tr>\n",
"    <tr>\n",
"      <th>New York</th>\n",
"      <td>10.740741</td>\n",
"      <td>8.133404</td>\n",
"    </tr>\n",
"  </tbody>\n",
"</table>\n",
"</div>"
],
"text/plain": [
"            Temperature          \n",
"                   mean       std\n",
"State                            \n",
"Connecticut   15.833333  1.964186\n",
"New Jersey    21.111111  1.571348\n",
"New York      10.740741  8.133404"
]
},
"execution_count": 11,
"metadata": {},
"output_type": "execute_result"
}
],
"source": [
"# your answer here\n",
"temp.groupby(by=['State']).agg({'Temperature': ['mean','std']})"
]
},
{
"cell_type": "markdown",
"metadata": {
"collapsed": true
},
"source": [
"# Challenge 2"
]
},
{
"cell_type": "markdown",
"metadata": {},
"source": [
"#### Load the `employee.csv` file into a DataFrame. Call the dataframe `employee`"
]
},
{
"cell_type": "code",
"execution_count": 12,
"metadata": {},
"outputs": [],
"source": [
"# your answer here\n",
"\n",
"employee = pd.read_csv('./employee.csv', encoding='utf8')"
]
},
{
"cell_type": "markdown",
"metadata": {},
"source": [
"#### Explore the data types of the Temp dataframe. Comment your results"
]
},
{
"cell_type": "code",
"execution_count": 13,
"metadata": {},
"outputs": [
{
"data": {
"text/plain": [
"Name          object\n",
"Department    object\n",
"Education     object\n",
"Gender        object\n",
"Title         object\n",
"Years          int64\n",
"Salary         int64\n",
"dtype: object"
]
},
"execution_count": 13,
"metadata": {},
"output_type": "execute_result"
}
],
"source": [
"# your answer here\n",
"employee.dtypes\n",
"\n",
"#Tenemos una mayoría de columnas en string y dos que nos aportan valores númericos"
]
},
{
"cell_type": "markdown",
"metadata": {},
"source": [
"#### Show visually the frequency distribution (histogram) of the employee dataset. In few words describe these histograms?"
]
},
{
"cell_type": "code",
"execution_count": 14,
"metadata": {},
"outputs": [
{
"data": {
"text/plain": [
"array([[<matplotlib.axes._subplots.AxesSubplot object at 0x0000019932A636D8>,\n",
"        <matplotlib.axes._subplots.AxesSubplot object at 0x0000019934AB9BE0>]],\n",
"      dtype=object)"
]
},
"execution_count": 14,
"metadata": {},
"output_type": "execute_result"
},
{
"data": {
"image/png": "[encoded data removed]",
"text/plain": [
"<Figure size 432x288 with 2 Axes>"
]
},
"metadata": {
"needs_background": "light"
},
"output_type": "display_data"
}
],
"source": [
"import matplotlib\n",
"%matplotlib inline\n",
"\n",
"# your answer here\n",
"employee.hist()"
]
},
{
"cell_type": "markdown",
"metadata": {},
"source": [
"#### What's the average salary in this company?"
]
},
{
"cell_type": "code",
"execution_count": 15,
"metadata": {},
"outputs": [
{
"data": {
"text/plain": [
"48.888888888888886"
]
},
"execution_count": 15,
"metadata": {},
"output_type": "execute_result"
}
],
"source": [
"# your answer here\n",
"employee['Salary'].mean()"
]
},
{
"cell_type": "markdown",
"metadata": {},
"source": [
"#### What's the highest salary?"
]
},
{
"cell_type": "code",
"execution_count": 16,
"metadata": {},
"outputs": [
{
"data": {
"text/plain": [
"70"
]
},
"execution_count": 16,
"metadata": {},
"output_type": "execute_result"
}
],
"source": [
"# your answer here\n",
"employee['Salary'].max()"
]
},
{
"cell_type": "markdown",
"metadata": {},
"source": [
"#### What's the lowest salary?"
]
},
{
"cell_type": "code",
"execution_count": 17,
"metadata": {},
"outputs": [
{
"data": {
"text/plain": [
"30"
]
},
"execution_count": 17,
"metadata": {},
"output_type": "execute_result"
}
],
"source": [
"# your answer here\n",
"employee['Salary'].min()"
]
},
{
"cell_type": "markdown",
"metadata": {},
"source": [
"#### Who are the employees with the lowest salary?"
]
},
{
"cell_type": "code",
"execution_count": 18,
"metadata": {},
"outputs": [
{
"data": {
"text/plain": [
"1    Maria\n",
"2    David\n",
"Name: Name, dtype: object"
]
},
"execution_count": 18,
"metadata": {},
"output_type": "execute_result"
}
],
"source": [
"# your answer here\n",
"employee['Name'][employee['Salary'] == 30]"
]
},
{
"cell_type": "markdown",
"metadata": {},
"source": [
"#### Could you give all the information about an employee called David?"
]
},
{
"cell_type": "code",
"execution_count": 19,
"metadata": {},
"outputs": [
{
"data": {
"text/html": [
"<div>\n",
"<style scoped>\n",
"    .dataframe tbody tr th:only-of-type {\n",
"        vertical-align: middle;\n",
"    }\n",
"\n",
"    .dataframe tbody tr th {\n",
"        vertical-align: top;\n",
"    }\n",
"\n",
"    .dataframe thead th {\n",
"        text-align: right;\n",
"    }\n",
"</style>\n",
"<table border=\"1\" class=\"dataframe\">\n",
"  <thead>\n",
"    <tr style=\"text-align: right;\">\n",
"      <th></th>\n",
"      <th>Name</th>\n",
"      <th>Department</th>\n",
"      <th>Education</th>\n",
"      <th>Gender</th>\n",
"      <th>Title</th>\n",
"      <th>Years</th>\n",
"      <th>Salary</th>\n",
"    </tr>\n",
"  </thead>\n",
"  <tbody>\n",
"    <tr>\n",
"      <th>2</th>\n",
"      <td>David</td>\n",
"      <td>HR</td>\n",
"      <td>Master</td>\n",
"      <td>M</td>\n",
"      <td>analyst</td>\n",
"      <td>2</td>\n",
"      <td>30</td>\n",
"    </tr>\n",
"  </tbody>\n",
"</table>\n",
"</div>"
],
"text/plain": [
"    Name Department Education Gender    Title  Years  Salary\n",
"2  David         HR    Master      M  analyst      2      30"
]
},
"execution_count": 19,
"metadata": {},
"output_type": "execute_result"
}
],
"source": [
"# your answer here\n",
"employee[employee.Name == \"David\"]"
]
},
{
"cell_type": "markdown",
"metadata": {},
"source": [
"#### Could you give only David's salary?"
]
},
{
"cell_type": "code",
"execution_count": 20,
"metadata": {},
"outputs": [
{
"data": {
"text/plain": [
"2    30\n",
"Name: Salary, dtype: int64"
]
},
"execution_count": 20,
"metadata": {},
"output_type": "execute_result"
}
],
"source": [
"# your answer here\n",
"\n",
"employee['Salary'][employee['Name'] == \"David\"]"
]
},
{
"cell_type": "markdown",
"metadata": {},
"source": [
"#### Print all the rows where job title is associate"
]
},
{
"cell_type": "code",
"execution_count": 21,
"metadata": {},
"outputs": [
{
"data": {
"text/html": [
"<div>\n",
"<style scoped>\n",
"    .dataframe tbody tr th:only-of-type {\n",
"        vertical-align: middle;\n",
"    }\n",
"\n",
"    .dataframe tbody tr th {\n",
"        vertical-align: top;\n",
"    }\n",
"\n",
"    .dataframe thead th {\n",
"        text-align: right;\n",
"    }\n",
"</style>\n",
"<table border=\"1\" class=\"dataframe\">\n",
"  <thead>\n",
"    <tr style=\"text-align: right;\">\n",
"      <th></th>\n",
"      <th>Name</th>\n",
"      <th>Department</th>\n",
"      <th>Education</th>\n",
"      <th>Gender</th>\n",
"      <th>Title</th>\n",
"      <th>Years</th>\n",
"      <th>Salary</th>\n",
"    </tr>\n",
"  </thead>\n",
"  <tbody>\n",
"    <tr>\n",
"      <th>4</th>\n",
"      <td>Samuel</td>\n",
"      <td>Sales</td>\n",
"      <td>Master</td>\n",
"      <td>M</td>\n",
"      <td>associate</td>\n",
"      <td>3</td>\n",
"      <td>55</td>\n",
"    </tr>\n",
"    <tr>\n",
"      <th>5</th>\n",
"      <td>Eva</td>\n",
"      <td>Sales</td>\n",
"      <td>Bachelor</td>\n",
"      <td>F</td>\n",
"      <td>associate</td>\n",
"      <td>2</td>\n",
"      <td>55</td>\n",
"    </tr>\n",
"    <tr>\n",
"      <th>7</th>\n",
"      <td>Pedro</td>\n",
"      <td>IT</td>\n",
"      <td>Phd</td>\n",
"      <td>M</td>\n",
"      <td>associate</td>\n",
"      <td>7</td>\n",
"      <td>60</td>\n",
"    </tr>\n",
"  </tbody>\n",
"</table>\n",
"</div>"
],
"text/plain": [
"     Name Department Education Gender      Title  Years  Salary\n",
"4  Samuel      Sales    Master      M  associate      3      55\n",
"5     Eva      Sales  Bachelor      F  associate      2      55\n",
"7   Pedro         IT       Phd      M  associate      7      60"
]
},
"execution_count": 21,
"metadata": {},
"output_type": "execute_result"
}
],
"source": [
"# your answer here\n",
"employee[employee['Title'] == \"associate\"]"
]
},
{
"cell_type": "markdown",
"metadata": {},
"source": [
"#### Print the first 3 rows of your dataframe\n",
"\n",
"##### Tip : There are 2 ways to do it. Do it both ways"
]
},
{
"cell_type": "code",
"execution_count": 22,
"metadata": {},
"outputs": [
{
"data": {
"text/html": [
"<div>\n",
"<style scoped>\n",
"    .dataframe tbody tr th:only-of-type {\n",
"        vertical-align: middle;\n",
"    }\n",
"\n",
"    .dataframe tbody tr th {\n",
"        vertical-align: top;\n",
"    }\n",
"\n",
"    .dataframe thead th {\n",
"        text-align: right;\n",
"    }\n",
"</style>\n",
"<table border=\"1\" class=\"dataframe\">\n",
"  <thead>\n",
"    <tr style=\"text-align: right;\">\n",
"      <th></th>\n",
"      <th>Name</th>\n",
"      <th>Department</th>\n",
"      <th>Education</th>\n",
"      <th>Gender</th>\n",
"      <th>Title</th>\n",
"      <th>Years</th>\n",
"      <th>Salary</th>\n",
"    </tr>\n",
"  </thead>\n",
"  <tbody>\n",
"    <tr>\n",
"      <th>0</th>\n",
"      <td>Jose</td>\n",
"      <td>IT</td>\n",
"      <td>Bachelor</td>\n",
"      <td>M</td>\n",
"      <td>analyst</td>\n",
"      <td>1</td>\n",
"      <td>35</td>\n",
"    </tr>\n",
"    <tr>\n",
"      <th>1</th>\n",
"      <td>Maria</td>\n",
"      <td>IT</td>\n",
"      <td>Master</td>\n",
"      <td>F</td>\n",
"      <td>analyst</td>\n",
"      <td>2</td>\n",
"      <td>30</td>\n",
"    </tr>\n",
"    <tr>\n",
"      <th>2</th>\n",
"      <td>David</td>\n",
"      <td>HR</td>\n",
"      <td>Master</td>\n",
"      <td>M</td>\n",
"      <td>analyst</td>\n",
"      <td>2</td>\n",
"      <td>30</td>\n",
"    </tr>\n",
"  </tbody>\n",
"</table>\n",
"</div>"
],
"text/plain": [
"    Name Department Education Gender    Title  Years  Salary\n",
"0   Jose         IT  Bachelor      M  analyst      1      35\n",
"1  Maria         IT    Master      F  analyst      2      30\n",
"2  David         HR    Master      M  analyst      2      30"
]
},
"execution_count": 22,
"metadata": {},
"output_type": "execute_result"
}
],
"source": [
"# your answer here- 1 method\n",
"employee[0:3]"
]
},
{
"cell_type": "code",
"execution_count": 23,
"metadata": {},
"outputs": [
{
"data": {
"text/html": [
"<div>\n",
"<style scoped>\n",
"    .dataframe tbody tr th:only-of-type {\n",
"        vertical-align: middle;\n",
"    }\n",
"\n",
"    .dataframe tbody tr th {\n",
"        vertical-align: top;\n",
"    }\n",
"\n",
"    .dataframe thead th {\n",
"        text-align: right;\n",
"    }\n",
"</style>\n",
"<table border=\"1\" class=\"dataframe\">\n",
"  <thead>\n",
"    <tr style=\"text-align: right;\">\n",
"      <th></th>\n",
"      <th>Name</th>\n",
"      <th>Department</th>\n",
"      <th>Education</th>\n",
"      <th>Gender</th>\n",
"      <th>Title</th>\n",
"      <th>Years</th>\n",
"      <th>Salary</th>\n",
"    </tr>\n",
"  </thead>\n",
"  <tbody>\n",
"    <tr>\n",
"      <th>0</th>\n",
"      <td>Jose</td>\n",
"      <td>IT</td>\n",
"      <td>Bachelor</td>\n",
"      <td>M</td>\n",
"      <td>analyst</td>\n",
"      <td>1</td>\n",
"      <td>35</td>\n",
"    </tr>\n",
"    <tr>\n",
"      <th>1</th>\n",
"      <td>Maria</td>\n",
"      <td>IT</td>\n",
"      <td>Master</td>\n",
"      <td>F</td>\n",
"      <td>analyst</td>\n",
"      <td>2</td>\n",
"      <td>30</td>\n",
"    </tr>\n",
"    <tr>\n",
"      <th>2</th>\n",
"      <td>David</td>\n",
"      <td>HR</td>\n",
"      <td>Master</td>\n",
"      <td>M</td>\n",
"      <td>analyst</td>\n",
"      <td>2</td>\n",
"      <td>30</td>\n",
"    </tr>\n",
"  </tbody>\n",
"</table>\n",
"</div>"
],
"text/plain": [
"    Name Department Education Gender    Title  Years  Salary\n",
"0   Jose         IT  Bachelor      M  analyst      1      35\n",
"1  Maria         IT    Master      F  analyst      2      30\n",
"2  David         HR    Master      M  analyst      2      30"
]
},
"execution_count": 23,
"metadata": {},
"output_type": "execute_result"
}
],
"source": [
"# your answer here- 2nd method\n",
"employee.iloc[0:3, 0:7]"
]
},
{
"cell_type": "markdown",
"metadata": {},
"source": [
"#### Find the employees who's title is associate and the salary above 55?"
]
},
{
"cell_type": "code",
"execution_count": 24,
"metadata": {},
"outputs": [
{
"name": "stderr",
"output_type": "stream",
"text": [
"c:\\program files\\python37\\lib\\site-packages\\ipykernel_launcher.py:2: UserWarning: Boolean Series key will be reindexed to match DataFrame index.\n",
"  \n"
]
},
{
"data": {
"text/html": [
"<div>\n",
"<style scoped>\n",
"    .dataframe tbody tr th:only-of-type {\n",
"        vertical-align: middle;\n",
"    }\n",
"\n",
"    .dataframe tbody tr th {\n",
"        vertical-align: top;\n",
"    }\n",
"\n",
"    .dataframe thead th {\n",
"        text-align: right;\n",
"    }\n",
"</style>\n",
"<table border=\"1\" class=\"dataframe\">\n",
"  <thead>\n",
"    <tr style=\"text-align: right;\">\n",
"      <th></th>\n",
"      <th>Name</th>\n",
"      <th>Department</th>\n",
"      <th>Education</th>\n",
"      <th>Gender</th>\n",
"      <th>Title</th>\n",
"      <th>Years</th>\n",
"      <th>Salary</th>\n",
"    </tr>\n",
"  </thead>\n",
"  <tbody>\n",
"    <tr>\n",
"      <th>7</th>\n",
"      <td>Pedro</td>\n",
"      <td>IT</td>\n",
"      <td>Phd</td>\n",
"      <td>M</td>\n",
"      <td>associate</td>\n",
"      <td>7</td>\n",
"      <td>60</td>\n",
"    </tr>\n",
"  </tbody>\n",
"</table>\n",
"</div>"
],
"text/plain": [
"    Name Department Education Gender      Title  Years  Salary\n",
"7  Pedro         IT       Phd      M  associate      7      60"
]
},
"execution_count": 24,
"metadata": {},
"output_type": "execute_result"
}
],
"source": [
"# your answer here\n",
"employee[employee['Title'] == \"associate\"][employee['Salary'] >55]"
]
},
{
"cell_type": "markdown",
"metadata": {},
"source": [
"#### Group the employees based on their number of years of employment. What are the average salaries in each group?"
]
},
{
"cell_type": "code",
"execution_count": 25,
"metadata": {},
"outputs": [
{
"data": {
"text/html": [
"<div>\n",
"<style scoped>\n",
"    .dataframe tbody tr th:only-of-type {\n",
"        vertical-align: middle;\n",
"    }\n",
"\n",
"    .dataframe tbody tr th {\n",
"        vertical-align: top;\n",
"    }\n",
"\n",
"    .dataframe thead tr th {\n",
"        text-align: left;\n",
"    }\n",
"\n",
"    .dataframe thead tr:last-of-type th {\n",
"        text-align: right;\n",
"    }\n",
"</style>\n",
"<table border=\"1\" class=\"dataframe\">\n",
"  <thead>\n",
"    <tr>\n",
"      <th></th>\n",
"      <th>Salary</th>\n",
"    </tr>\n",
"    <tr>\n",
"      <th></th>\n",
"      <th>mean</th>\n",
"    </tr>\n",
"    <tr>\n",
"      <th>Years</th>\n",
"      <th></th>\n",
"    </tr>\n",
"  </thead>\n",
"  <tbody>\n",
"    <tr>\n",
"      <th>1</th>\n",
"      <td>35.000000</td>\n",
"    </tr>\n",
"    <tr>\n",
"      <th>2</th>\n",
"      <td>38.333333</td>\n",
"    </tr>\n",
"    <tr>\n",
"      <th>3</th>\n",
"      <td>55.000000</td>\n",
"    </tr>\n",
"    <tr>\n",
"      <th>4</th>\n",
"      <td>35.000000</td>\n",
"    </tr>\n",
"    <tr>\n",
"      <th>7</th>\n",
"      <td>60.000000</td>\n",
"    </tr>\n",
"    <tr>\n",
"      <th>8</th>\n",
"      <td>70.000000</td>\n",
"    </tr>\n",
"  </tbody>\n",
"</table>\n",
"</div>"
],
"text/plain": [
"          Salary\n",
"            mean\n",
"Years           \n",
"1      35.000000\n",
"2      38.333333\n",
"3      55.000000\n",
"4      35.000000\n",
"7      60.000000\n",
"8      70.000000"
]
},
"execution_count": 25,
"metadata": {},
"output_type": "execute_result"
}
],
"source": [
"# your answer here\n",
"employee.groupby(by=['Years']).agg({'Salary': ['mean']})\n",
"\n"
]
},
{
"cell_type": "markdown",
"metadata": {},
"source": [
"####  What is the average Salary per title?"
]
},
{
"cell_type": "code",
"execution_count": 26,
"metadata": {},
"outputs": [
{
"data": {
"text/html": [
"<div>\n",
"<style scoped>\n",
"    .dataframe tbody tr th:only-of-type {\n",
"        vertical-align: middle;\n",
"    }\n",
"\n",
"    .dataframe tbody tr th {\n",
"        vertical-align: top;\n",
"    }\n",
"\n",
"    .dataframe thead tr th {\n",
"        text-align: left;\n",
"    }\n",
"\n",
"    .dataframe thead tr:last-of-type th {\n",
"        text-align: right;\n",
"    }\n",
"</style>\n",
"<table border=\"1\" class=\"dataframe\">\n",
"  <thead>\n",
"    <tr>\n",
"      <th></th>\n",
"      <th>Salary</th>\n",
"    </tr>\n",
"    <tr>\n",
"      <th></th>\n",
"      <th>mean</th>\n",
"    </tr>\n",
"    <tr>\n",
"      <th>Title</th>\n",
"      <th></th>\n",
"    </tr>\n",
"  </thead>\n",
"  <tbody>\n",
"    <tr>\n",
"      <th>VP</th>\n",
"      <td>70.000000</td>\n",
"    </tr>\n",
"    <tr>\n",
"      <th>analyst</th>\n",
"      <td>32.500000</td>\n",
"    </tr>\n",
"    <tr>\n",
"      <th>associate</th>\n",
"      <td>56.666667</td>\n",
"    </tr>\n",
"  </tbody>\n",
"</table>\n",
"</div>"
],
"text/plain": [
"              Salary\n",
"                mean\n",
"Title               \n",
"VP         70.000000\n",
"analyst    32.500000\n",
"associate  56.666667"
]
},
"execution_count": 26,
"metadata": {},
"output_type": "execute_result"
}
],
"source": [
"# your answer here\n",
"employee.groupby(by=['Title']).agg({'Salary': ['mean']})"
]
},
{
"cell_type": "markdown",
"metadata": {},
"source": [
"#### Show a visual summary of the data using boxplot. What Are the First and Third Quartiles? Comment your results.\n",
"##### * Hint : Quantiles vs Quartiles*\n",
"##### - `In Probability and Statistics, quantiles are cut points dividing the range of a probability distribution into continuous intervals with equal probabilities. When division is into four parts the values of the variate corresponding to 25%, 50% and 75% of the total distribution are called quartiles.`"
]
},
{
"cell_type": "code",
"execution_count": 27,
"metadata": {},
"outputs": [
{
"data": {
"text/plain": [
"<matplotlib.axes._subplots.AxesSubplot at 0x19934aee588>"
]
},
"execution_count": 27,
"metadata": {},
"output_type": "execute_result"
},
{
"data": {
"image/png": "[encoded data removed]",
"text/plain": [
"<Figure size 432x288 with 1 Axes>"
]
},
"metadata": {
"needs_background": "light"
},
"output_type": "display_data"
}
],
"source": [
"# draw boxplot here\n",
"\n",
"employee.boxplot()"
]
},
{
"cell_type": "code",
"execution_count": 28,
"metadata": {},
"outputs": [
{
"data": {
"text/plain": [
"Years      2.0\n",
"Salary    35.0\n",
"Name: 0.25, dtype: float64"
]
},
"execution_count": 28,
"metadata": {},
"output_type": "execute_result"
}
],
"source": [
"# print first quartile here\n",
"employee.quantile(0.25)"
]
},
{
"cell_type": "code",
"execution_count": 29,
"metadata": {},
"outputs": [
{
"data": {
"text/plain": [
"Years      7.0\n",
"Salary    60.0\n",
"Name: 0.75, dtype: float64"
]
},
"execution_count": 29,
"metadata": {},
"output_type": "execute_result"
}
],
"source": [
"# print third quartile here\n",
"employee.quantile(0.75)"
]
},
{
"cell_type": "markdown",
"metadata": {},
"source": [
"#### Is the mean salary per gender different?"
]
},
{
"cell_type": "code",
"execution_count": 30,
"metadata": {},
"outputs": [
{
"data": {
"text/html": [
"<div>\n",
"<style scoped>\n",
"    .dataframe tbody tr th:only-of-type {\n",
"        vertical-align: middle;\n",
"    }\n",
"\n",
"    .dataframe tbody tr th {\n",
"        vertical-align: top;\n",
"    }\n",
"\n",
"    .dataframe thead tr th {\n",
"        text-align: left;\n",
"    }\n",
"\n",
"    .dataframe thead tr:last-of-type th {\n",
"        text-align: right;\n",
"    }\n",
"</style>\n",
"<table border=\"1\" class=\"dataframe\">\n",
"  <thead>\n",
"    <tr>\n",
"      <th></th>\n",
"      <th>Salary</th>\n",
"    </tr>\n",
"    <tr>\n",
"      <th></th>\n",
"      <th>mean</th>\n",
"    </tr>\n",
"    <tr>\n",
"      <th>Gender</th>\n",
"      <th></th>\n",
"    </tr>\n",
"  </thead>\n",
"  <tbody>\n",
"    <tr>\n",
"      <th>F</th>\n",
"      <td>47.5</td>\n",
"    </tr>\n",
"    <tr>\n",
"      <th>M</th>\n",
"      <td>50.0</td>\n",
"    </tr>\n",
"  </tbody>\n",
"</table>\n",
"</div>"
],
"text/plain": [
"       Salary\n",
"         mean\n",
"Gender       \n",
"F        47.5\n",
"M        50.0"
]
},
"execution_count": 30,
"metadata": {},
"output_type": "execute_result"
}
],
"source": [
"# your answer here\n",
"employee.groupby(by=['Gender']).agg({'Salary': ['mean']})\n"
]
},
{
"cell_type": "markdown",
"metadata": {},
"source": [
"#### Find the minimum, mean and the maximum of all numeric columns for each Department.\n",
"\n",
"##### Hint: Use functions from Data Manipulation lesson"
]
},
{
"cell_type": "code",
"execution_count": 31,
"metadata": {},
"outputs": [
{
"data": {
"text/html": [
"<div>\n",
"<style scoped>\n",
"    .dataframe tbody tr th:only-of-type {\n",
"        vertical-align: middle;\n",
"    }\n",
"\n",
"    .dataframe tbody tr th {\n",
"        vertical-align: top;\n",
"    }\n",
"\n",
"    .dataframe thead tr th {\n",
"        text-align: left;\n",
"    }\n",
"\n",
"    .dataframe thead tr:last-of-type th {\n",
"        text-align: right;\n",
"    }\n",
"</style>\n",
"<table border=\"1\" class=\"dataframe\">\n",
"  <thead>\n",
"    <tr>\n",
"      <th></th>\n",
"      <th colspan=\"3\" halign=\"left\">Salary</th>\n",
"      <th colspan=\"3\" halign=\"left\">Years</th>\n",
"    </tr>\n",
"    <tr>\n",
"      <th></th>\n",
"      <th>min</th>\n",
"      <th>mean</th>\n",
"      <th>max</th>\n",
"      <th>min</th>\n",
"      <th>mean</th>\n",
"      <th>max</th>\n",
"    </tr>\n",
"    <tr>\n",
"      <th>Department</th>\n",
"      <th></th>\n",
"      <th></th>\n",
"      <th></th>\n",
"      <th></th>\n",
"      <th></th>\n",
"      <th></th>\n",
"    </tr>\n",
"  </thead>\n",
"  <tbody>\n",
"    <tr>\n",
"      <th>HR</th>\n",
"      <td>30</td>\n",
"      <td>45.00</td>\n",
"      <td>70</td>\n",
"      <td>2</td>\n",
"      <td>4.666667</td>\n",
"      <td>8</td>\n",
"    </tr>\n",
"    <tr>\n",
"      <th>IT</th>\n",
"      <td>30</td>\n",
"      <td>48.75</td>\n",
"      <td>70</td>\n",
"      <td>1</td>\n",
"      <td>4.500000</td>\n",
"      <td>8</td>\n",
"    </tr>\n",
"    <tr>\n",
"      <th>Sales</th>\n",
"      <td>55</td>\n",
"      <td>55.00</td>\n",
"      <td>55</td>\n",
"      <td>2</td>\n",
"      <td>2.500000</td>\n",
"      <td>3</td>\n",
"    </tr>\n",
"  </tbody>\n",
"</table>\n",
"</div>"
],
"text/plain": [
"           Salary            Years              \n",
"              min   mean max   min      mean max\n",
"Department                                      \n",
"HR             30  45.00  70     2  4.666667   8\n",
"IT             30  48.75  70     1  4.500000   8\n",
"Sales          55  55.00  55     2  2.500000   3"
]
},
"execution_count": 31,
"metadata": {},
"output_type": "execute_result"
}
],
"source": [
"# your answer here\n",
"\n",
"employee.groupby(by=['Department']).agg({'Salary': ['min','mean','max'], 'Years': ['min','mean', 'max']})"
]
},
{
"cell_type": "markdown",
"metadata": {},
"source": [
"### Bonus Question\n",
"\n",
"#### For each department, compute the difference between the maximal salary and the minimal salary.\n",
"\n",
"##### * Hint: try using `agg` or `apply` and `lambda`*"
]
},
{
"cell_type": "code",
"execution_count": 32,
"metadata": {},
"outputs": [
{
"data": {
"text/plain": [
"Department\n",
"HR       40\n",
"IT       40\n",
"Sales     0\n",
"Name: Salary, dtype: int64"
]
},
"execution_count": 32,
"metadata": {},
"output_type": "execute_result"
}
],
"source": [
"# your answer here\n",
"employee.groupby(employee['Department'])['Salary'].apply(lambda x: x.max()-x.min())"
]
},
{
"cell_type": "markdown",
"metadata": {
"collapsed": true
},
"source": [
"# Challenge 3"
]
},
{
"cell_type": "markdown",
"metadata": {},
"source": [
"#### Open the Orders.csv dataset. Name your dataset orders"
]
},
{
"cell_type": "code",
"execution_count": 33,
"metadata": {},
"outputs": [],
"source": [
"# your answer here\n",
"orders = pd.read_csv('./Orders.zip', encoding='utf8')"
]
},
{
"cell_type": "markdown",
"metadata": {},
"source": [
"#### Explore your dataset by looking at the data types and the summary statistics. Comment your results"
]
},
{
"cell_type": "code",
"execution_count": 34,
"metadata": {},
"outputs": [
{
"data": {
"text/plain": [
"Unnamed: 0        int64\n",
"InvoiceNo         int64\n",
"StockCode        object\n",
"year              int64\n",
"month             int64\n",
"day               int64\n",
"hour              int64\n",
"Description      object\n",
"Quantity          int64\n",
"InvoiceDate      object\n",
"UnitPrice       float64\n",
"CustomerID        int64\n",
"Country          object\n",
"amount_spent    float64\n",
"dtype: object"
]
},
"execution_count": 34,
"metadata": {},
"output_type": "execute_result"
}
],
"source": [
"# your answer here\n",
"orders.dtypes"
]
},
{
"cell_type": "code",
"execution_count": 35,
"metadata": {},
"outputs": [
{
"data": {
"text/html": [
"<div>\n",
"<style scoped>\n",
"    .dataframe tbody tr th:only-of-type {\n",
"        vertical-align: middle;\n",
"    }\n",
"\n",
"    .dataframe tbody tr th {\n",
"        vertical-align: top;\n",
"    }\n",
"\n",
"    .dataframe thead th {\n",
"        text-align: right;\n",
"    }\n",
"</style>\n",
"<table border=\"1\" class=\"dataframe\">\n",
"  <thead>\n",
"    <tr style=\"text-align: right;\">\n",
"      <th></th>\n",
"      <th>Unnamed: 0</th>\n",
"      <th>InvoiceNo</th>\n",
"      <th>year</th>\n",
"      <th>month</th>\n",
"      <th>day</th>\n",
"      <th>hour</th>\n",
"      <th>Quantity</th>\n",
"      <th>UnitPrice</th>\n",
"      <th>CustomerID</th>\n",
"      <th>amount_spent</th>\n",
"    </tr>\n",
"  </thead>\n",
"  <tbody>\n",
"    <tr>\n",
"      <th>count</th>\n",
"      <td>397924.000000</td>\n",
"      <td>397924.000000</td>\n",
"      <td>397924.000000</td>\n",
"      <td>397924.000000</td>\n",
"      <td>397924.000000</td>\n",
"      <td>397924.000000</td>\n",
"      <td>397924.000000</td>\n",
"      <td>397924.000000</td>\n",
"      <td>397924.000000</td>\n",
"      <td>397924.000000</td>\n",
"    </tr>\n",
"    <tr>\n",
"      <th>mean</th>\n",
"      <td>278465.221859</td>\n",
"      <td>560617.126645</td>\n",
"      <td>2010.934259</td>\n",
"      <td>7.612537</td>\n",
"      <td>3.614555</td>\n",
"      <td>12.728247</td>\n",
"      <td>13.021823</td>\n",
"      <td>3.116174</td>\n",
"      <td>15294.315171</td>\n",
"      <td>22.394749</td>\n",
"    </tr>\n",
"    <tr>\n",
"      <th>std</th>\n",
"      <td>152771.368303</td>\n",
"      <td>13106.167695</td>\n",
"      <td>0.247829</td>\n",
"      <td>3.416527</td>\n",
"      <td>1.928274</td>\n",
"      <td>2.273535</td>\n",
"      <td>180.420210</td>\n",
"      <td>22.096788</td>\n",
"      <td>1713.169877</td>\n",
"      <td>309.055588</td>\n",
"    </tr>\n",
"    <tr>\n",
"      <th>min</th>\n",
"      <td>0.000000</td>\n",
"      <td>536365.000000</td>\n",
"      <td>2010.000000</td>\n",
"      <td>1.000000</td>\n",
"      <td>1.000000</td>\n",
"      <td>6.000000</td>\n",
"      <td>1.000000</td>\n",
"      <td>0.000000</td>\n",
"      <td>12346.000000</td>\n",
"      <td>0.000000</td>\n",
"    </tr>\n",
"    <tr>\n",
"      <th>25%</th>\n",
"      <td>148333.750000</td>\n",
"      <td>549234.000000</td>\n",
"      <td>2011.000000</td>\n",
"      <td>5.000000</td>\n",
"      <td>2.000000</td>\n",
"      <td>11.000000</td>\n",
"      <td>2.000000</td>\n",
"      <td>1.250000</td>\n",
"      <td>13969.000000</td>\n",
"      <td>4.680000</td>\n",
"    </tr>\n",
"    <tr>\n",
"      <th>50%</th>\n",
"      <td>284907.500000</td>\n",
"      <td>561893.000000</td>\n",
"      <td>2011.000000</td>\n",
"      <td>8.000000</td>\n",
"      <td>3.000000</td>\n",
"      <td>13.000000</td>\n",
"      <td>6.000000</td>\n",
"      <td>1.950000</td>\n",
"      <td>15159.000000</td>\n",
"      <td>11.800000</td>\n",
"    </tr>\n",
"    <tr>\n",
"      <th>75%</th>\n",
"      <td>410079.250000</td>\n",
"      <td>572090.000000</td>\n",
"      <td>2011.000000</td>\n",
"      <td>11.000000</td>\n",
"      <td>5.000000</td>\n",
"      <td>14.000000</td>\n",
"      <td>12.000000</td>\n",
"      <td>3.750000</td>\n",
"      <td>16795.000000</td>\n",
"      <td>19.800000</td>\n",
"    </tr>\n",
"    <tr>\n",
"      <th>max</th>\n",
"      <td>541908.000000</td>\n",
"      <td>581587.000000</td>\n",
"      <td>2011.000000</td>\n",
"      <td>12.000000</td>\n",
"      <td>7.000000</td>\n",
"      <td>20.000000</td>\n",
"      <td>80995.000000</td>\n",
"      <td>8142.750000</td>\n",
"      <td>18287.000000</td>\n",
"      <td>168469.600000</td>\n",
"    </tr>\n",
"  </tbody>\n",
"</table>\n",
"</div>"
],
"text/plain": [
"          Unnamed: 0      InvoiceNo           year          month  \\\n",
"count  397924.000000  397924.000000  397924.000000  397924.000000   \n",
"mean   278465.221859  560617.126645    2010.934259       7.612537   \n",
"std    152771.368303   13106.167695       0.247829       3.416527   \n",
"min         0.000000  536365.000000    2010.000000       1.000000   \n",
"25%    148333.750000  549234.000000    2011.000000       5.000000   \n",
"50%    284907.500000  561893.000000    2011.000000       8.000000   \n",
"75%    410079.250000  572090.000000    2011.000000      11.000000   \n",
"max    541908.000000  581587.000000    2011.000000      12.000000   \n",
"\n",
"                 day           hour       Quantity      UnitPrice  \\\n",
"count  397924.000000  397924.000000  397924.000000  397924.000000   \n",
"mean        3.614555      12.728247      13.021823       3.116174   \n",
"std         1.928274       2.273535     180.420210      22.096788   \n",
"min         1.000000       6.000000       1.000000       0.000000   \n",
"25%         2.000000      11.000000       2.000000       1.250000   \n",
"50%         3.000000      13.000000       6.000000       1.950000   \n",
"75%         5.000000      14.000000      12.000000       3.750000   \n",
"max         7.000000      20.000000   80995.000000    8142.750000   \n",
"\n",
"          CustomerID   amount_spent  \n",
"count  397924.000000  397924.000000  \n",
"mean    15294.315171      22.394749  \n",
"std      1713.169877     309.055588  \n",
"min     12346.000000       0.000000  \n",
"25%     13969.000000       4.680000  \n",
"50%     15159.000000      11.800000  \n",
"75%     16795.000000      19.800000  \n",
"max     18287.000000  168469.600000  "
]
},
"execution_count": 35,
"metadata": {},
"output_type": "execute_result"
}
],
"source": [
"# your answer here\n",
"orders.describe()"
]
},
{
"cell_type": "markdown",
"metadata": {},
"source": [
"####  What is the average Purchase Price?"
]
},
{
"cell_type": "code",
"execution_count": 36,
"metadata": {},
"outputs": [
{
"data": {
"text/plain": [
"3.1161744805540756"
]
},
"execution_count": 36,
"metadata": {},
"output_type": "execute_result"
}
],
"source": [
"# your answer here\n",
"orders['UnitPrice'].mean()"
]
},
{
"cell_type": "markdown",
"metadata": {},
"source": [
"#### What were the highest and lowest purchase prices? "
]
},
{
"cell_type": "code",
"execution_count": 37,
"metadata": {},
"outputs": [
{
"data": {
"text/plain": [
"0.0"
]
},
"execution_count": 37,
"metadata": {},
"output_type": "execute_result"
}
],
"source": [
"# your answer here\n",
"orders['UnitPrice'].min()"
]
},
{
"cell_type": "code",
"execution_count": 38,
"metadata": {},
"outputs": [
{
"data": {
"text/plain": [
"8142.75"
]
},
"execution_count": 38,
"metadata": {},
"output_type": "execute_result"
}
],
"source": [
"# your answer here\n",
"orders['UnitPrice'].max()"
]
},
{
"cell_type": "markdown",
"metadata": {},
"source": [
"#### Select all the customers we have in Spain"
]
},
{
"cell_type": "code",
"execution_count": 39,
"metadata": {},
"outputs": [
{
"data": {
"text/plain": [
"4250      12557\n",
"4251      12557\n",
"4252      12557\n",
"4253      12557\n",
"4254      12557\n",
"13974     17097\n",
"13975     17097\n",
"13976     17097\n",
"13977     17097\n",
"13978     17097\n",
"13979     17097\n",
"13980     17097\n",
"13981     17097\n",
"13982     17097\n",
"13983     17097\n",
"13984     17097\n",
"13985     17097\n",
"13986     17097\n",
"13987     17097\n",
"13988     17097\n",
"13989     17097\n",
"13990     17097\n",
"13991     17097\n",
"13992     17097\n",
"13993     17097\n",
"13994     17097\n",
"13995     17097\n",
"13996     17097\n",
"13997     17097\n",
"13998     17097\n",
"          ...  \n",
"394708    17097\n",
"394709    17097\n",
"394710    17097\n",
"394711    17097\n",
"394712    17097\n",
"394713    17097\n",
"394714    17097\n",
"394715    17097\n",
"394716    17097\n",
"394717    17097\n",
"394718    17097\n",
"394719    17097\n",
"394720    17097\n",
"394721    17097\n",
"394722    17097\n",
"394723    17097\n",
"394724    17097\n",
"394725    17097\n",
"394726    17097\n",
"394727    17097\n",
"394728    17097\n",
"394729    17097\n",
"394730    17097\n",
"394731    17097\n",
"394732    17097\n",
"394733    17097\n",
"394734    17097\n",
"394735    17097\n",
"394736    17097\n",
"394737    17097\n",
"Name: CustomerID, Length: 2485, dtype: int64"
]
},
"execution_count": 39,
"metadata": {},
"output_type": "execute_result"
}
],
"source": [
"# your answer here\n",
"orders['CustomerID'][orders['Country'] == \"Spain\"]\n"
]
},
{
"cell_type": "markdown",
"metadata": {},
"source": [
"#### How many customers do we have in Spain?\n",
"##### Hint : Use value_counts()"
]
},
{
"cell_type": "code",
"execution_count": 40,
"metadata": {},
"outputs": [
{
"data": {
"text/plain": [
"12540    478\n",
"12484    346\n",
"12539    273\n",
"17097    211\n",
"12597    206\n",
"12502    147\n",
"12556    121\n",
"12546     69\n",
"12462     62\n",
"12354     58\n",
"12550     57\n",
"12541     52\n",
"12545     50\n",
"12455     48\n",
"12421     45\n",
"12510     33\n",
"12557     33\n",
"12596     27\n",
"12417     23\n",
"12507     22\n",
"12448     22\n",
"12538     21\n",
"12544     19\n",
"12454     15\n",
"12442     12\n",
"12551     10\n",
"12547      8\n",
"12450      8\n",
"12548      5\n",
"12445      4\n",
"Name: CustomerID, dtype: int64"
]
},
"execution_count": 40,
"metadata": {},
"output_type": "execute_result"
}
],
"source": [
"# your answer here\n",
"orders['CustomerID'][orders['Country'] == \"Spain\"].value_counts()"
]
},
{
"cell_type": "markdown",
"metadata": {},
"source": [
"#### Select all the customers who have bought more than 50 items ?"
]
},
{
"cell_type": "code",
"execution_count": 41,
"metadata": {},
"outputs": [
{
"data": {
"text/plain": [
"46        13748\n",
"83        15291\n",
"96        14688\n",
"102       14688\n",
"174       16029\n",
"175       16029\n",
"176       16029\n",
"177       16029\n",
"178       16029\n",
"179       16029\n",
"180       16029\n",
"215       17511\n",
"217       17511\n",
"218       17511\n",
"219       17511\n",
"222       17511\n",
"223       17511\n",
"225       17511\n",
"231       17511\n",
"232       17511\n",
"245       13408\n",
"246       13408\n",
"247       13408\n",
"248       13408\n",
"376       12791\n",
"406       14045\n",
"673       13255\n",
"718       13694\n",
"719       13694\n",
"720       13694\n",
"          ...  \n",
"397113    18102\n",
"397114    18102\n",
"397115    18102\n",
"397116    18102\n",
"397117    18102\n",
"397118    18102\n",
"397119    17949\n",
"397120    17949\n",
"397155    13077\n",
"397330    12433\n",
"397336    12433\n",
"397344    12433\n",
"397351    12433\n",
"397371    12433\n",
"397372    12433\n",
"397380    12433\n",
"397448    17490\n",
"397451    16446\n",
"397454    17389\n",
"397471    15694\n",
"397563    12985\n",
"397572    12985\n",
"397586    12985\n",
"397622    17754\n",
"397630    17754\n",
"397720    18102\n",
"397721    16626\n",
"397729    16626\n",
"397761    15311\n",
"397882    13777\n",
"Name: CustomerID, Length: 11609, dtype: int64"
]
},
"execution_count": 41,
"metadata": {},
"output_type": "execute_result"
}
],
"source": [
"# your answer here\n",
"orders['CustomerID'][orders['Quantity'] >50]\n"
]
},
{
"cell_type": "markdown",
"metadata": {},
"source": [
"#### Select orders from Spain that are above 50 items"
]
},
{
"cell_type": "code",
"execution_count": 42,
"metadata": {},
"outputs": [
{
"data": {
"text/plain": [
"4250      536944\n",
"4251      536944\n",
"4252      536944\n",
"4253      536944\n",
"4254      536944\n",
"32454     540785\n",
"32455     540785\n",
"32456     540785\n",
"32457     540785\n",
"91155     547972\n",
"91156     547972\n",
"91159     547972\n",
"174442    558871\n",
"174443    558871\n",
"174444    558871\n",
"174445    558871\n",
"174446    558871\n",
"174447    558871\n",
"174448    558871\n",
"174449    558871\n",
"197167    561669\n",
"197168    561669\n",
"197169    561669\n",
"197170    561669\n",
"197171    561669\n",
"224881    564734\n",
"254097    567968\n",
"289129    571255\n",
"289134    571255\n",
"289142    571255\n",
"289143    571255\n",
"295956    571851\n",
"312655    573362\n",
"312656    573362\n",
"312657    573362\n",
"366326    578321\n",
"366327    578321\n",
"366328    578321\n",
"366329    578321\n",
"Name: InvoiceNo, dtype: int64"
]
},
"execution_count": 42,
"metadata": {},
"output_type": "execute_result"
}
],
"source": [
"# your answer here\n",
"\n",
"orders['InvoiceNo'][orders['Quantity'] > 50] [orders['Country'] == 'Spain']"
]
},
{
"cell_type": "markdown",
"metadata": {},
"source": [
"#### Select all free orders"
]
},
{
"cell_type": "code",
"execution_count": 43,
"metadata": {},
"outputs": [
{
"data": {
"text/plain": [
"6914      537197\n",
"22539     539263\n",
"25379     539722\n",
"29080     540372\n",
"29082     540372\n",
"34494     541109\n",
"53788     543599\n",
"85671     547417\n",
"92875     548318\n",
"97430     548871\n",
"107192    550188\n",
"128641    553000\n",
"137127    554037\n",
"194648    561284\n",
"197173    561669\n",
"199711    561916\n",
"208950    562973\n",
"223931    564651\n",
"223932    564651\n",
"223933    564651\n",
"223934    564651\n",
"256263    568158\n",
"259399    568384\n",
"273926    569716\n",
"286507    571035\n",
"307092    572893\n",
"319882    574138\n",
"320049    574175\n",
"320407    574252\n",
"322279    574469\n",
"328385    574879\n",
"329006    574920\n",
"329007    574920\n",
"334242    575579\n",
"334243    575579\n",
"352746    577129\n",
"353097    577168\n",
"354170    577314\n",
"358629    577696\n",
"370473    578841\n",
"Name: InvoiceNo, dtype: int64"
]
},
"execution_count": 43,
"metadata": {},
"output_type": "execute_result"
}
],
"source": [
"# your answer here\n",
"orders['InvoiceNo'][orders['UnitPrice'] == 0]"
]
},
{
"cell_type": "markdown",
"metadata": {},
"source": [
"#### Select all orders that are 'lunch bag'\n",
"#### Hint: Use string functions"
]
},
{
"cell_type": "code",
"execution_count": 44,
"metadata": {},
"outputs": [
{
"data": {
"text/plain": [
"93        536378\n",
"172       536385\n",
"354       536401\n",
"359       536401\n",
"360       536401\n",
"361       536401\n",
"362       536401\n",
"402       536404\n",
"403       536404\n",
"404       536404\n",
"532       536412\n",
"533       536412\n",
"535       536412\n",
"536       536412\n",
"537       536412\n",
"605       536412\n",
"1414      536542\n",
"1415      536542\n",
"1416      536542\n",
"1748      536576\n",
"1758      536577\n",
"1771      536579\n",
"1926      536597\n",
"1935      536597\n",
"2334      536634\n",
"2529      536643\n",
"2676      536698\n",
"3059      536754\n",
"3060      536754\n",
"3064      536754\n",
"           ...  \n",
"396300    581412\n",
"396301    581412\n",
"396302    581412\n",
"396303    581412\n",
"396307    581412\n",
"396308    581412\n",
"396408    581413\n",
"396414    581413\n",
"396416    581413\n",
"396419    581413\n",
"396530    581418\n",
"396572    581420\n",
"396573    581420\n",
"396574    581420\n",
"396575    581420\n",
"396576    581420\n",
"396721    581426\n",
"396970    581450\n",
"396971    581450\n",
"396972    581450\n",
"397006    581451\n",
"397038    581453\n",
"397047    581453\n",
"397255    581473\n",
"397298    581474\n",
"397465    581486\n",
"397713    581538\n",
"397714    581538\n",
"397877    581581\n",
"397880    581583\n",
"Name: InvoiceNo, Length: 11556, dtype: int64"
]
},
"execution_count": 44,
"metadata": {},
"output_type": "execute_result"
}
],
"source": [
"# your answer here\n",
"\n",
"orders['InvoiceNo'][orders['Description'].str.contains('lunch bag')]"
]
},
{
"cell_type": "markdown",
"metadata": {},
"source": [
"#### Select all orders that are made in 2011 and are 'lunch bag'  "
]
},
{
"cell_type": "code",
"execution_count": 45,
"metadata": {},
"outputs": [
{
"data": {
"text/plain": [
"26340     540015\n",
"26341     540015\n",
"26512     540023\n",
"26513     540023\n",
"26860     540098\n",
"26861     540098\n",
"26862     540098\n",
"26863     540098\n",
"26864     540098\n",
"26902     540099\n",
"26903     540099\n",
"27118     540157\n",
"27242     540168\n",
"27360     540176\n",
"27361     540176\n",
"27727     540247\n",
"27758     540247\n",
"27760     540247\n",
"28100     540268\n",
"28136     540268\n",
"28137     540268\n",
"28138     540268\n",
"28183     540275\n",
"28188     540275\n",
"28189     540275\n",
"28201     540275\n",
"28218     540276\n",
"28219     540276\n",
"28220     540276\n",
"28221     540276\n",
"           ...  \n",
"396300    581412\n",
"396301    581412\n",
"396302    581412\n",
"396303    581412\n",
"396307    581412\n",
"396308    581412\n",
"396408    581413\n",
"396414    581413\n",
"396416    581413\n",
"396419    581413\n",
"396530    581418\n",
"396572    581420\n",
"396573    581420\n",
"396574    581420\n",
"396575    581420\n",
"396576    581420\n",
"396721    581426\n",
"396970    581450\n",
"396971    581450\n",
"396972    581450\n",
"397006    581451\n",
"397038    581453\n",
"397047    581453\n",
"397255    581473\n",
"397298    581474\n",
"397465    581486\n",
"397713    581538\n",
"397714    581538\n",
"397877    581581\n",
"397880    581583\n",
"Name: InvoiceNo, Length: 11234, dtype: int64"
]
},
"execution_count": 45,
"metadata": {},
"output_type": "execute_result"
}
],
"source": [
"# your answer here\n",
"orders['InvoiceNo'][orders['Description'].str.contains('lunch bag')][orders['year'] == 2011]\n"
]
},
{
"cell_type": "markdown",
"metadata": {},
"source": [
"#### Show the frequency distribution of the amount spent in Spain."
]
},
{
"cell_type": "code",
"execution_count": 46,
"metadata": {},
"outputs": [
{
"data": {
"text/plain": [
"<matplotlib.axes._subplots.AxesSubplot at 0x199350037f0>"
]
},
"execution_count": 46,
"metadata": {},
"output_type": "execute_result"
},
{
"data": {
"image/png": "[encoded data removed]",
"text/plain": [
"<Figure size 432x288 with 1 Axes>"
]
},
"metadata": {
"needs_background": "light"
},
"output_type": "display_data"
}
],
"source": [
"# your answer here\n",
"#orders[orders['Country'] = 'Spain'].boxplot(by='amount_spent')\n",
"\n",
"#orders.boxplot(column='amount_spent', by=[\"Country\" = 'Spain'], showfliers=True, showmeans=True)\n",
"\n",
"spainspend = orders[orders.Country == \"Spain\"].groupby([\"year\", \"month\"]).agg({\"amount_spent\": [\"sum\"]})\n",
"spainspend.plot()"
]
},
{
"cell_type": "markdown",
"metadata": {},
"source": [
"#### Select all orders made in the month of August"
]
},
{
"cell_type": "code",
"execution_count": 47,
"metadata": {},
"outputs": [
{
"data": {
"text/plain": [
"199475    561904\n",
"199476    561904\n",
"199477    561905\n",
"199478    561905\n",
"199479    561905\n",
"199480    561905\n",
"199481    561905\n",
"199482    561905\n",
"199483    561905\n",
"199484    561905\n",
"199485    561905\n",
"199486    561905\n",
"199487    561906\n",
"199488    561906\n",
"199489    561906\n",
"199490    561906\n",
"199491    561906\n",
"199492    561906\n",
"199493    561906\n",
"199494    561906\n",
"199495    561906\n",
"199496    561906\n",
"199497    561906\n",
"199498    561906\n",
"199499    561906\n",
"199500    561906\n",
"199501    561906\n",
"199502    561906\n",
"199503    561906\n",
"199504    561906\n",
"           ...  \n",
"226458    565067\n",
"226459    565067\n",
"226460    565067\n",
"226461    565067\n",
"226462    565067\n",
"226463    565067\n",
"226464    565067\n",
"226465    565067\n",
"226466    565067\n",
"226467    565067\n",
"226468    565067\n",
"226469    565067\n",
"226470    565067\n",
"226471    565067\n",
"226472    565067\n",
"226473    565067\n",
"226474    565067\n",
"226475    565067\n",
"226476    565067\n",
"226477    565067\n",
"226478    565067\n",
"226479    565067\n",
"226480    565067\n",
"226481    565067\n",
"226482    565067\n",
"226483    565067\n",
"226484    565067\n",
"226485    565067\n",
"226486    565067\n",
"226487    565067\n",
"Name: InvoiceNo, Length: 27013, dtype: int64"
]
},
"execution_count": 47,
"metadata": {},
"output_type": "execute_result"
}
],
"source": [
"# your answer here\n",
"orders['InvoiceNo'][orders['month'] == 8]\n"
]
},
{
"cell_type": "markdown",
"metadata": {},
"source": [
"#### Select how many orders are made by countries in the month of August\n",
"##### Hint: Use value_counts()"
]
},
{
"cell_type": "code",
"execution_count": 48,
"metadata": {},
"outputs": [
{
"data": {
"text/plain": [
"Country\n",
"Australia                  60302348\n",
"Austria                    49543386\n",
"Bahrain                           0\n",
"Belgium                   109287235\n",
"Brazil                            0\n",
"Canada                      2822140\n",
"Channel Islands            78948531\n",
"Cyprus                            0\n",
"Czech Republic                    0\n",
"Denmark                     9005648\n",
"EIRE                      333975511\n",
"European Community                0\n",
"Finland                    34362298\n",
"France                    320802556\n",
"Germany                   448042055\n",
"Greece                            0\n",
"Iceland                    12364704\n",
"Israel                     96377823\n",
"Italy                      53483788\n",
"Japan                             0\n",
"Lebanon                           0\n",
"Lithuania                         0\n",
"Malta                      30990245\n",
"Netherlands               157706087\n",
"Norway                     43354860\n",
"Poland                      9561588\n",
"Portugal                   23092881\n",
"RSA                               0\n",
"Saudi Arabia                      0\n",
"Singapore                         0\n",
"Spain                     142145994\n",
"Sweden                     22552569\n",
"Switzerland               150136126\n",
"USA                               0\n",
"United Arab Emirates              0\n",
"United Kingdom          13017736942\n",
"Unspecified                12972445\n",
"dtype: int64"
]
},
"execution_count": 48,
"metadata": {},
"output_type": "execute_result"
}
],
"source": [
"# your answer here\n",
"#orders['InvoiceNo'][orders['month'] == 8]\n",
"\n",
"#orders.groupby(by=['Country'])[orders['month'] = 8].agg({'InvoiceNo': ['sum']})\n",
"\n",
"orders.groupby(by=['Country']).apply(lambda x: x[x['month'] == 8]['InvoiceNo'].sum())"
]
},
{
"cell_type": "markdown",
"metadata": {},
"source": [
"#### What's the  average amount of money spent by country"
]
},
{
"cell_type": "code",
"execution_count": 49,
"metadata": {},
"outputs": [
{
"data": {
"text/html": [
"<div>\n",
"<style scoped>\n",
"    .dataframe tbody tr th:only-of-type {\n",
"        vertical-align: middle;\n",
"    }\n",
"\n",
"    .dataframe tbody tr th {\n",
"        vertical-align: top;\n",
"    }\n",
"\n",
"    .dataframe thead tr th {\n",
"        text-align: left;\n",
"    }\n",
"\n",
"    .dataframe thead tr:last-of-type th {\n",
"        text-align: right;\n",
"    }\n",
"</style>\n",
"<table border=\"1\" class=\"dataframe\">\n",
"  <thead>\n",
"    <tr>\n",
"      <th></th>\n",
"      <th>amount_spent</th>\n",
"    </tr>\n",
"    <tr>\n",
"      <th></th>\n",
"      <th>mean</th>\n",
"    </tr>\n",
"    <tr>\n",
"      <th>Country</th>\n",
"      <th></th>\n",
"    </tr>\n",
"  </thead>\n",
"  <tbody>\n",
"    <tr>\n",
"      <th>Australia</th>\n",
"      <td>116.895620</td>\n",
"    </tr>\n",
"    <tr>\n",
"      <th>Austria</th>\n",
"      <td>25.624824</td>\n",
"    </tr>\n",
"    <tr>\n",
"      <th>Bahrain</th>\n",
"      <td>32.258824</td>\n",
"    </tr>\n",
"    <tr>\n",
"      <th>Belgium</th>\n",
"      <td>20.283772</td>\n",
"    </tr>\n",
"    <tr>\n",
"      <th>Brazil</th>\n",
"      <td>35.737500</td>\n",
"    </tr>\n",
"    <tr>\n",
"      <th>Canada</th>\n",
"      <td>24.280662</td>\n",
"    </tr>\n",
"    <tr>\n",
"      <th>Channel Islands</th>\n",
"      <td>27.340160</td>\n",
"    </tr>\n",
"    <tr>\n",
"      <th>Cyprus</th>\n",
"      <td>22.134169</td>\n",
"    </tr>\n",
"    <tr>\n",
"      <th>Czech Republic</th>\n",
"      <td>33.069600</td>\n",
"    </tr>\n",
"    <tr>\n",
"      <th>Denmark</th>\n",
"      <td>49.882474</td>\n",
"    </tr>\n",
"    <tr>\n",
"      <th>EIRE</th>\n",
"      <td>36.687745</td>\n",
"    </tr>\n",
"    <tr>\n",
"      <th>European Community</th>\n",
"      <td>21.670833</td>\n",
"    </tr>\n",
"    <tr>\n",
"      <th>Finland</th>\n",
"      <td>32.913985</td>\n",
"    </tr>\n",
"    <tr>\n",
"      <th>France</th>\n",
"      <td>25.056827</td>\n",
"    </tr>\n",
"    <tr>\n",
"      <th>Germany</th>\n",
"      <td>25.311562</td>\n",
"    </tr>\n",
"    <tr>\n",
"      <th>Greece</th>\n",
"      <td>32.831172</td>\n",
"    </tr>\n",
"    <tr>\n",
"      <th>Iceland</th>\n",
"      <td>23.681319</td>\n",
"    </tr>\n",
"    <tr>\n",
"      <th>Israel</th>\n",
"      <td>29.119718</td>\n",
"    </tr>\n",
"    <tr>\n",
"      <th>Italy</th>\n",
"      <td>23.064960</td>\n",
"    </tr>\n",
"    <tr>\n",
"      <th>Japan</th>\n",
"      <td>116.561900</td>\n",
"    </tr>\n",
"    <tr>\n",
"      <th>Lebanon</th>\n",
"      <td>37.641778</td>\n",
"    </tr>\n",
"    <tr>\n",
"      <th>Lithuania</th>\n",
"      <td>47.458857</td>\n",
"    </tr>\n",
"    <tr>\n",
"      <th>Malta</th>\n",
"      <td>24.335625</td>\n",
"    </tr>\n",
"    <tr>\n",
"      <th>Netherlands</th>\n",
"      <td>120.798282</td>\n",
"    </tr>\n",
"    <tr>\n",
"      <th>Norway</th>\n",
"      <td>33.736418</td>\n",
"    </tr>\n",
"    <tr>\n",
"      <th>Poland</th>\n",
"      <td>22.226212</td>\n",
"    </tr>\n",
"    <tr>\n",
"      <th>Portugal</th>\n",
"      <td>22.872702</td>\n",
"    </tr>\n",
"    <tr>\n",
"      <th>RSA</th>\n",
"      <td>17.281207</td>\n",
"    </tr>\n",
"    <tr>\n",
"      <th>Saudi Arabia</th>\n",
"      <td>16.213333</td>\n",
"    </tr>\n",
"    <tr>\n",
"      <th>Singapore</th>\n",
"      <td>95.852658</td>\n",
"    </tr>\n",
"    <tr>\n",
"      <th>Spain</th>\n",
"      <td>24.779521</td>\n",
"    </tr>\n",
"    <tr>\n",
"      <th>Sweden</th>\n",
"      <td>85.096075</td>\n",
"    </tr>\n",
"    <tr>\n",
"      <th>Switzerland</th>\n",
"      <td>30.642752</td>\n",
"    </tr>\n",
"    <tr>\n",
"      <th>USA</th>\n",
"      <td>20.002179</td>\n",
"    </tr>\n",
"    <tr>\n",
"      <th>United Arab Emirates</th>\n",
"      <td>27.974706</td>\n",
"    </tr>\n",
"    <tr>\n",
"      <th>United Kingdom</th>\n",
"      <td>20.625073</td>\n",
"    </tr>\n",
"    <tr>\n",
"      <th>Unspecified</th>\n",
"      <td>10.930615</td>\n",
"    </tr>\n",
"  </tbody>\n",
"</table>\n",
"</div>"
],
"text/plain": [
"                     amount_spent\n",
"                             mean\n",
"Country                          \n",
"Australia              116.895620\n",
"Austria                 25.624824\n",
"Bahrain                 32.258824\n",
"Belgium                 20.283772\n",
"Brazil                  35.737500\n",
"Canada                  24.280662\n",
"Channel Islands         27.340160\n",
"Cyprus                  22.134169\n",
"Czech Republic          33.069600\n",
"Denmark                 49.882474\n",
"EIRE                    36.687745\n",
"European Community      21.670833\n",
"Finland                 32.913985\n",
"France                  25.056827\n",
"Germany                 25.311562\n",
"Greece                  32.831172\n",
"Iceland                 23.681319\n",
"Israel                  29.119718\n",
"Italy                   23.064960\n",
"Japan                  116.561900\n",
"Lebanon                 37.641778\n",
"Lithuania               47.458857\n",
"Malta                   24.335625\n",
"Netherlands            120.798282\n",
"Norway                  33.736418\n",
"Poland                  22.226212\n",
"Portugal                22.872702\n",
"RSA                     17.281207\n",
"Saudi Arabia            16.213333\n",
"Singapore               95.852658\n",
"Spain                   24.779521\n",
"Sweden                  85.096075\n",
"Switzerland             30.642752\n",
"USA                     20.002179\n",
"United Arab Emirates    27.974706\n",
"United Kingdom          20.625073\n",
"Unspecified             10.930615"
]
},
"execution_count": 49,
"metadata": {},
"output_type": "execute_result"
}
],
"source": [
"# your answer here\n",
"orders.groupby(by=['Country']).agg({'amount_spent': ['mean']})"
]
},
{
"cell_type": "markdown",
"metadata": {},
"source": [
"#### What's the most expensive item?"
]
},
{
"cell_type": "code",
"execution_count": 64,
"metadata": {},
"outputs": [
{
"data": {
"text/plain": [
"118352    postage\n",
"Name: Description, dtype: object"
]
},
"execution_count": 64,
"metadata": {},
"output_type": "execute_result"
}
],
"source": [
"# your answer here\n",
"\n",
"orders['Description'][orders['UnitPrice'] == orders['UnitPrice'].max()]\n"
]
},
{
"cell_type": "markdown",
"metadata": {},
"source": [
"#### What was the average amount spent per year ?"
]
},
{
"cell_type": "code",
"execution_count": 65,
"metadata": {},
"outputs": [
{
"data": {
"text/html": [
"<div>\n",
"<style scoped>\n",
"    .dataframe tbody tr th:only-of-type {\n",
"        vertical-align: middle;\n",
"    }\n",
"\n",
"    .dataframe tbody tr th {\n",
"        vertical-align: top;\n",
"    }\n",
"\n",
"    .dataframe thead tr th {\n",
"        text-align: left;\n",
"    }\n",
"\n",
"    .dataframe thead tr:last-of-type th {\n",
"        text-align: right;\n",
"    }\n",
"</style>\n",
"<table border=\"1\" class=\"dataframe\">\n",
"  <thead>\n",
"    <tr>\n",
"      <th></th>\n",
"      <th>amount_spent</th>\n",
"    </tr>\n",
"    <tr>\n",
"      <th></th>\n",
"      <th>mean</th>\n",
"    </tr>\n",
"    <tr>\n",
"      <th>year</th>\n",
"      <th></th>\n",
"    </tr>\n",
"  </thead>\n",
"  <tbody>\n",
"    <tr>\n",
"      <th>2010</th>\n",
"      <td>21.892733</td>\n",
"    </tr>\n",
"    <tr>\n",
"      <th>2011</th>\n",
"      <td>22.430074</td>\n",
"    </tr>\n",
"  </tbody>\n",
"</table>\n",
"</div>"
],
"text/plain": [
"     amount_spent\n",
"             mean\n",
"year             \n",
"2010    21.892733\n",
"2011    22.430074"
]
},
"execution_count": 65,
"metadata": {},
"output_type": "execute_result"
}
],
"source": [
"# your answer here\n",
"orders.groupby(by=['year']).agg({'amount_spent': ['mean']})"
]
},
{
"cell_type": "code",
"execution_count": null,
"metadata": {},
"outputs": [],
"source": []
}
],
"metadata": {
"anaconda-cloud": {},
"kernelspec": {
"display_name": "Python 3",
"language": "python",
"name": "python3"
},
"language_info": {
"codemirror_mode": {
"name": "ipython",
"version": 3
},
"file_extension": ".py",
"mimetype": "text/x-python",
"name": "python",
"nbconvert_exporter": "python",
"pygments_lexer": "ipython3",
"version": "3.7.2"
}
},
"nbformat": 4,
"nbformat_minor": 1
}