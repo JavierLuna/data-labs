{
 "cells": [
  {
   "cell_type": "markdown",
   "metadata": {},
   "source": [
    "# Intro to Bayesian Statistics Lab\n",
    "\n",
    "Complete the following set of exercises to solidify your knowledge of Bayesian statistics and Bayesian data analysis."
   ]
  },
  {
   "cell_type": "code",
   "execution_count": 1,
   "metadata": {},
   "outputs": [],
   "source": [
    "import pandas as pd\n",
    "import numpy as np\n",
    "import matplotlib.pyplot as plt"
   ]
  },
  {
   "cell_type": "markdown",
   "metadata": {},
   "source": [
    "## 1. Cookie Problem\n",
    "\n",
    "Suppose we have two bowls of cookies. Bowl 1 contains 30 vanilla cookies and 10 chocolate cookies. Bowl 2 contains 20 of each. You randomly pick one cookie out of one of the bowls, and it is vanilla. Use Bayes Theorem to calculate the probability that the vanilla cookie you picked came from Bowl 1?"
   ]
  },
  {
   "cell_type": "code",
   "execution_count": 9,
   "metadata": {},
   "outputs": [
    {
     "name": "stdout",
     "output_type": "stream",
     "text": [
      "La probabilidad de que una galleta de vainilla cogida de forma random sea del bowl 1 es 0.6\n"
     ]
    }
   ],
   "source": [
    "# P(A|B) = P(A)*P(B|A) / P(B)\n",
    "\n",
    "def bayes_rule(priors, likelihoods):\n",
    "    marg = sum(np.multiply(priors, likelihoods)) # Esto es la P(B)\n",
    "    post = np.divide(np.multiply(priors, likelihoods), marg) # Esto es la P(A|B), la probabilidad a posteriori.\n",
    "    return post\n",
    "\n",
    "priors = [1/2, 1/2] # Probabilidad a priori, de que sea un bowl u otro. Esto es la P(A)\n",
    "likelihoods = [0.75, 0.5] # En cada bowl, probabilidad de que sea de vainilla. Esto es la P(B|A)\n",
    "\n",
    "bayes_rule(priors, likelihoods)\n",
    "\n",
    "print(\"La probabilidad de que una galleta de vainilla cogida de forma random sea del bowl 1 es\", bayes_rule(priors, likelihoods)[0])"
   ]
  },
  {
   "cell_type": "markdown",
   "metadata": {},
   "source": [
    "What is the probability that it came from Bowl 2?"
   ]
  },
  {
   "cell_type": "code",
   "execution_count": 8,
   "metadata": {},
   "outputs": [
    {
     "name": "stdout",
     "output_type": "stream",
     "text": [
      "La probabilidad de que una galleta de vainilla cogida de forma random sea del bow2 1 es 0.4\n"
     ]
    }
   ],
   "source": [
    "print(\"La probabilidad de que una galleta de vainilla cogida de forma random sea del bow2 1 es\", bayes_rule(priors, likelihoods)[1])"
   ]
  },
  {
   "cell_type": "markdown",
   "metadata": {},
   "source": [
    "What if the cookie you had picked was chocolate? What are the probabilities that the chocolate cookie came from Bowl 1 and Bowl 2 respectively?"
   ]
  },
  {
   "cell_type": "code",
   "execution_count": 11,
   "metadata": {},
   "outputs": [
    {
     "name": "stdout",
     "output_type": "stream",
     "text": [
      "La probabilidad de que una galleta de chocolate cogida de forma random sea del bowl 1 es 0.3333333333333333\n",
      "La probabilidad de que una galleta de chocolate cogida de forma random sea del bowl 2 es 0.6666666666666666\n"
     ]
    }
   ],
   "source": [
    "priors = [1/2, 1/2] # Probabilidad a priori, de que sea un bowl u otro.\n",
    "likelihoods = [0.25, 0.5] # En cada bowl, probabilidad de que sea de chocolate.\n",
    "\n",
    "bayes_rule(priors, likelihoods)\n",
    "\n",
    "print(\"La probabilidad de que una galleta de chocolate cogida de forma random sea del bowl 1 es\", bayes_rule(priors, likelihoods)[0])\n",
    "print(\"La probabilidad de que una galleta de chocolate cogida de forma random sea del bowl 2 es\", bayes_rule(priors, likelihoods)[1])"
   ]
  },
  {
   "cell_type": "markdown",
   "metadata": {},
   "source": [
    "## 2. Candy Problem\n",
    "\n",
    "Suppose you have two bags of candies:\n",
    "\n",
    "- In Bag 1, the mix of colors is:\n",
    "    - Brown - 30%\n",
    "    - Yellow - 20%\n",
    "    - Red - 20%\n",
    "    - Green - 10%\n",
    "    - Orange - 10%\n",
    "    - Tan - 10%\n",
    "    \n",
    "- In Bag 2, the mix of colors is:\n",
    "    - Blue - 24%\n",
    "    - Green - 20%\n",
    "    - Orange - 16%\n",
    "    - Yellow - 14%\n",
    "    - Red - 13%\n",
    "    - Brown - 13%\n",
    "    \n",
    "Not knowing which bag is which, you randomly draw one candy from each bag. One is yellow and one is green. What is the probability that the yellow one came from the Bag 1?\n",
    "\n",
    "*Hint: For the likelihoods, you will need to multiply the probabilities of drawing yellow from one bag and green from the other bag and vice versa.*"
   ]
  },
  {
   "cell_type": "code",
   "execution_count": 12,
   "metadata": {},
   "outputs": [
    {
     "data": {
      "text/plain": [
       "array([0.58823529, 0.41176471])"
      ]
     },
     "execution_count": 12,
     "metadata": {},
     "output_type": "execute_result"
    }
   ],
   "source": [
    "priors = [1/2, 1/2] # Probabilidad a priori, de que sea una bolsa u otra.\n",
    "likelihoods = [0.2, 0.14] # En cada bolsa, porcentaje de caramelos amarillos.\n",
    "\n",
    "bayes_rule(priors, likelihoods)"
   ]
  },
  {
   "cell_type": "code",
   "execution_count": 16,
   "metadata": {},
   "outputs": [
    {
     "name": "stdout",
     "output_type": "stream",
     "text": [
      "La probabilidad de que un caramelo amarillo cogido aleatoriamente sea de la bolsa 1 es 0.59\n"
     ]
    }
   ],
   "source": [
    "print(\"La probabilidad de que un caramelo amarillo cogido aleatoriamente sea de la bolsa 1 es\", round(bayes_rule(priors, likelihoods)[0], 2))"
   ]
  },
  {
   "cell_type": "markdown",
   "metadata": {},
   "source": [
    "What is the probability that the yellow candy came from Bag 2?"
   ]
  },
  {
   "cell_type": "code",
   "execution_count": 17,
   "metadata": {},
   "outputs": [
    {
     "name": "stdout",
     "output_type": "stream",
     "text": [
      "La probabilidad de que un caramelo amarillo cogido aleatoriamente sea de la bolsa 2 es 0.41\n"
     ]
    }
   ],
   "source": [
    "print(\"La probabilidad de que un caramelo amarillo cogido aleatoriamente sea de la bolsa 2 es\", round(bayes_rule(priors, likelihoods)[1], 2))"
   ]
  },
  {
   "cell_type": "markdown",
   "metadata": {},
   "source": [
    "What are the probabilities that the green one came from Bag 1 and Bag 2 respectively?"
   ]
  },
  {
   "cell_type": "code",
   "execution_count": 18,
   "metadata": {},
   "outputs": [
    {
     "name": "stdout",
     "output_type": "stream",
     "text": [
      "La probabilidad de que un caramelo verde cogido aleatoriamente sea de la bolsa 1 es 0.33\n",
      "La probabilidad de que un caramelo verde cogido aleatoriamente sea de la bolsa 2 es 0.67\n"
     ]
    }
   ],
   "source": [
    "priors = [1/2, 1/2] # Probabilidad a priori, de que sea una bolsa u otra.\n",
    "likelihoods = [0.1, 0.2] # En cada bolsa, porcentaje de caramelos verdes.\n",
    "\n",
    "bayes_rule(priors, likelihoods)\n",
    "print(\"La probabilidad de que un caramelo verde cogido aleatoriamente sea de la bolsa 1 es\", round(bayes_rule(priors, likelihoods)[0], 2))\n",
    "print(\"La probabilidad de que un caramelo verde cogido aleatoriamente sea de la bolsa 2 es\", round(bayes_rule(priors, likelihoods)[1], 2))"
   ]
  },
  {
   "cell_type": "markdown",
   "metadata": {},
   "source": [
    "## 3. Monty Hall Problem\n",
    "\n",
    "Suppose you are a contestant on the popular game show *Let's Make a Deal*. The host of the show (Monty Hall) presents you with three doors - Door A, Door B, and Door C. He tells you that there is a sports car behind one of them and if you choose the correct one, you win the car!\n",
    "\n",
    "You select Door A, but then Monty makes things a little more interesting. He opens Door B to reveal that there is no sports car behind it and asks you if you would like to stick with your choice of Door A or switch your choice to Door C. Given this new information, what are the probabilities of you winning the car if you stick with Door A versus if you switch to Door C?"
   ]
  },
  {
   "cell_type": "code",
   "execution_count": 37,
   "metadata": {},
   "outputs": [
    {
     "data": {
      "text/plain": [
       "array([0.5, 0.5])"
      ]
     },
     "execution_count": 37,
     "metadata": {},
     "output_type": "execute_result"
    }
   ],
   "source": [
    "priors = [1/2, 1/2]\n",
    "likelihoods = [0.5, 0.5]\n",
    "\n",
    "bayes_rule(priors, likelihoods)"
   ]
  },
  {
   "cell_type": "markdown",
   "metadata": {},
   "source": [
    "Por hacer una reflexión y contrastar la solución:\n",
    "\n",
    "Una vez el presentador ha dicho que en la puerta B no está el coche, si sale el coche, qué probabilidad hay de que sea de la puerta A.\n",
    "\n",
    "P(puerta A | sale coche) = P(sale coche | puerta A) * P(puerta A) / P(sale coche)\n",
    "\n",
    "* **P(sale coche | puerta A)** = 0.5  , es decir, si se escoge la puerta A, la probabilidad de que haya un coche es 0.5 (antes de que el presentador mostrara la puerta B, esta probabildad era 1/3)\n",
    "* **P(puerta A)** = 0.5  , es la probabilidad de escoger la puerta A entre la A y la C (antes de que el presentador mostrara la puerta B, esta probabilidad era 1/3).\n",
    "* **P(sale coche)** = 0.5\\*0.5 + 0.5\\*0.5  , es la probabilidad de que salga coche en la puerta A + salga coche en C"
   ]
  },
  {
   "cell_type": "code",
   "execution_count": 36,
   "metadata": {},
   "outputs": [
    {
     "data": {
      "text/plain": [
       "0.5"
      ]
     },
     "execution_count": 36,
     "metadata": {},
     "output_type": "execute_result"
    }
   ],
   "source": [
    "0.5 * 0.5 / (0.5*0.5 + 0.5*0.5)"
   ]
  },
  {
   "cell_type": "code",
   "execution_count": null,
   "metadata": {},
   "outputs": [],
   "source": [
    "# P(A tiene coche|B tiene cabra) = P(B tiene cabra|A tiene coche)*P(A tiene coche) / P(B tiene cabra)\n",
    "\n",
    "# P(B tiene cabra|A tiene coche) = 1\n",
    "# P(A tiene coche) = 1/3\n",
    "# P(B tiene cabra) = 2/3\n",
    "\n",
    "1 * (1/3) / (2/3) "
   ]
  },
  {
   "cell_type": "markdown",
   "metadata": {},
   "source": [
    "## 4. Bayesian Analysis \n",
    "\n",
    "Suppose you work for a landscaping company, and they want to advertise their service online. They create an ad and sit back waiting for the money to roll in. On the first day, the ad sends 100 visitors to the site and 14 of them sign up for landscaping services. Create a generative model to come up with the posterior distribution and produce a visualization of what the posterior distribution would look like given the observed data."
   ]
  },
  {
   "cell_type": "code",
   "execution_count": 23,
   "metadata": {},
   "outputs": [
    {
     "data": {
      "text/plain": [
       "<matplotlib.axes._subplots.AxesSubplot at 0x11009b990>"
      ]
     },
     "execution_count": 23,
     "metadata": {},
     "output_type": "execute_result"
    },
    {
     "data": {
      "image/png": "[encoded data removed]",
      "text/plain": [
       "<Figure size 432x288 with 1 Axes>"
      ]
     },
     "metadata": {
      "needs_background": "light"
     },
     "output_type": "display_data"
    }
   ],
   "source": [
    "n_draws = 100000\n",
    "prior = pd.Series(np.random.uniform(0, 1, size=n_draws))\n",
    "\n",
    "observed = 14\n",
    "\n",
    "def generative_model(param):\n",
    "    \"\"\"\n",
    "    Generative model that will randomly draw from our prior uniform distribution,\n",
    "    simulate 50 people coming to our website a large number of time,\n",
    "    and see how many times we get a result that is in line with the result we have observed\n",
    "    \"\"\"\n",
    "    result = np.random.binomial(100, param)\n",
    "    return result\n",
    "\n",
    "sim_data = list() # Empty list that is going to contain our simulated results\n",
    "\n",
    "for p in prior:\n",
    "    sim_data.append(generative_model(p))\n",
    "\n",
    "posterior = prior[list(map(lambda x: x == observed, sim_data))]\n",
    "\n",
    "posterior.hist()"
   ]
  },
  {
   "cell_type": "markdown",
   "metadata": {},
   "source": [
    "Produce a set of descriptive statistics for the posterior distribution."
   ]
  },
  {
   "cell_type": "code",
   "execution_count": 24,
   "metadata": {},
   "outputs": [
    {
     "data": {
      "text/plain": [
       "count    983.000000\n",
       "mean       0.147431\n",
       "std        0.034940\n",
       "min        0.053352\n",
       "25%        0.121749\n",
       "50%        0.146524\n",
       "75%        0.169722\n",
       "max        0.261080\n",
       "dtype: float64"
      ]
     },
     "execution_count": 24,
     "metadata": {},
     "output_type": "execute_result"
    }
   ],
   "source": [
    "posterior.describe()"
   ]
  },
  {
   "cell_type": "markdown",
   "metadata": {},
   "source": [
    "What is the 90% credible interval range?"
   ]
  },
  {
   "cell_type": "code",
   "execution_count": 26,
   "metadata": {},
   "outputs": [
    {
     "name": "stdout",
     "output_type": "stream",
     "text": [
      "0.0931568991532597 | 0.2079750575372617\n"
     ]
    }
   ],
   "source": [
    "print(posterior.quantile(.05), '|', posterior.quantile(.95))"
   ]
  },
  {
   "cell_type": "markdown",
   "metadata": {},
   "source": [
    "What is the Maximum Likelihood Estimate?"
   ]
  },
  {
   "cell_type": "code",
   "execution_count": 28,
   "metadata": {},
   "outputs": [
    {
     "name": "stdout",
     "output_type": "stream",
     "text": [
      "Maximum Likelihood Estimate: 0.15 | 0.11698880976602238\n"
     ]
    }
   ],
   "source": [
    "rounded = posterior.round(2)\n",
    "mode = rounded.mode()[0]\n",
    "probability = list(rounded).count(mode)/len(rounded)\n",
    "print('Maximum Likelihood Estimate:', mode, '|', probability)"
   ]
  },
  {
   "cell_type": "markdown",
   "metadata": {},
   "source": [
    "This tells us that given the data we have thus far, it is most likely that 15% of the visitors to the site will sign up for landscaping services."
   ]
  }
 ],
 "metadata": {
  "kernelspec": {
   "display_name": "Python 3",
   "language": "python",
   "name": "python3"
  },
  "language_info": {
   "codemirror_mode": {
    "name": "ipython",
    "version": 3
   },
   "file_extension": ".py",
   "mimetype": "text/x-python",
   "name": "python",
   "nbconvert_exporter": "python",
   "pygments_lexer": "ipython3",
   "version": "3.7.4"
  }
 },
 "nbformat": 4,
 "nbformat_minor": 2
}
