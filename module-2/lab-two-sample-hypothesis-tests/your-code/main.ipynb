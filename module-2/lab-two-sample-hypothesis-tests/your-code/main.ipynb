{
 "cells": [
  {
   "cell_type": "markdown",
   "metadata": {},
   "source": [
    "# Before your start:\n",
    "- Read the README.md file\n",
    "- Comment as much as you can and use the resources (README.md file)\n",
    "- Happy learning!"
   ]
  },
  {
   "cell_type": "code",
   "execution_count": 1,
   "metadata": {},
   "outputs": [],
   "source": [
    "# import numpy and pandas\n",
    "import numpy as np\n",
    "import pandas as pd"
   ]
  },
  {
   "cell_type": "markdown",
   "metadata": {},
   "source": [
    "# Challenge 1 - Independent Sample T-tests\n",
    "\n",
    "In this challenge, we will be using the Pokemon dataset. Before applying statistical methods to this data, let's first examine the data.\n",
    "\n",
    "To load the data, run the code below."
   ]
  },
  {
   "cell_type": "code",
   "execution_count": 2,
   "metadata": {},
   "outputs": [],
   "source": [
    "# Run this code:\n",
    "\n",
    "pokemon = pd.read_csv('../pokemon.csv')"
   ]
  },
  {
   "cell_type": "markdown",
   "metadata": {},
   "source": [
    "Let's start off by looking at the `head` function in the cell below."
   ]
  },
  {
   "cell_type": "code",
   "execution_count": 3,
   "metadata": {},
   "outputs": [
    {
     "data": {
      "text/html": [
       "<div>\n",
       "<style scoped>\n",
       "    .dataframe tbody tr th:only-of-type {\n",
       "        vertical-align: middle;\n",
       "    }\n",
       "\n",
       "    .dataframe tbody tr th {\n",
       "        vertical-align: top;\n",
       "    }\n",
       "\n",
       "    .dataframe thead th {\n",
       "        text-align: right;\n",
       "    }\n",
       "</style>\n",
       "<table border=\"1\" class=\"dataframe\">\n",
       "  <thead>\n",
       "    <tr style=\"text-align: right;\">\n",
       "      <th></th>\n",
       "      <th>#</th>\n",
       "      <th>Name</th>\n",
       "      <th>Type 1</th>\n",
       "      <th>Type 2</th>\n",
       "      <th>Total</th>\n",
       "      <th>HP</th>\n",
       "      <th>Attack</th>\n",
       "      <th>Defense</th>\n",
       "      <th>Sp. Atk</th>\n",
       "      <th>Sp. Def</th>\n",
       "      <th>Speed</th>\n",
       "      <th>Generation</th>\n",
       "      <th>Legendary</th>\n",
       "    </tr>\n",
       "  </thead>\n",
       "  <tbody>\n",
       "    <tr>\n",
       "      <td>0</td>\n",
       "      <td>1</td>\n",
       "      <td>Bulbasaur</td>\n",
       "      <td>Grass</td>\n",
       "      <td>Poison</td>\n",
       "      <td>318</td>\n",
       "      <td>45</td>\n",
       "      <td>49</td>\n",
       "      <td>49</td>\n",
       "      <td>65</td>\n",
       "      <td>65</td>\n",
       "      <td>45</td>\n",
       "      <td>1</td>\n",
       "      <td>False</td>\n",
       "    </tr>\n",
       "    <tr>\n",
       "      <td>1</td>\n",
       "      <td>2</td>\n",
       "      <td>Ivysaur</td>\n",
       "      <td>Grass</td>\n",
       "      <td>Poison</td>\n",
       "      <td>405</td>\n",
       "      <td>60</td>\n",
       "      <td>62</td>\n",
       "      <td>63</td>\n",
       "      <td>80</td>\n",
       "      <td>80</td>\n",
       "      <td>60</td>\n",
       "      <td>1</td>\n",
       "      <td>False</td>\n",
       "    </tr>\n",
       "    <tr>\n",
       "      <td>2</td>\n",
       "      <td>3</td>\n",
       "      <td>Venusaur</td>\n",
       "      <td>Grass</td>\n",
       "      <td>Poison</td>\n",
       "      <td>525</td>\n",
       "      <td>80</td>\n",
       "      <td>82</td>\n",
       "      <td>83</td>\n",
       "      <td>100</td>\n",
       "      <td>100</td>\n",
       "      <td>80</td>\n",
       "      <td>1</td>\n",
       "      <td>False</td>\n",
       "    </tr>\n",
       "    <tr>\n",
       "      <td>3</td>\n",
       "      <td>3</td>\n",
       "      <td>VenusaurMega Venusaur</td>\n",
       "      <td>Grass</td>\n",
       "      <td>Poison</td>\n",
       "      <td>625</td>\n",
       "      <td>80</td>\n",
       "      <td>100</td>\n",
       "      <td>123</td>\n",
       "      <td>122</td>\n",
       "      <td>120</td>\n",
       "      <td>80</td>\n",
       "      <td>1</td>\n",
       "      <td>False</td>\n",
       "    </tr>\n",
       "    <tr>\n",
       "      <td>4</td>\n",
       "      <td>4</td>\n",
       "      <td>Charmander</td>\n",
       "      <td>Fire</td>\n",
       "      <td>NaN</td>\n",
       "      <td>309</td>\n",
       "      <td>39</td>\n",
       "      <td>52</td>\n",
       "      <td>43</td>\n",
       "      <td>60</td>\n",
       "      <td>50</td>\n",
       "      <td>65</td>\n",
       "      <td>1</td>\n",
       "      <td>False</td>\n",
       "    </tr>\n",
       "  </tbody>\n",
       "</table>\n",
       "</div>"
      ],
      "text/plain": [
       "   #                   Name Type 1  Type 2  Total  HP  Attack  Defense  \\\n",
       "0  1              Bulbasaur  Grass  Poison    318  45      49       49   \n",
       "1  2                Ivysaur  Grass  Poison    405  60      62       63   \n",
       "2  3               Venusaur  Grass  Poison    525  80      82       83   \n",
       "3  3  VenusaurMega Venusaur  Grass  Poison    625  80     100      123   \n",
       "4  4             Charmander   Fire     NaN    309  39      52       43   \n",
       "\n",
       "   Sp. Atk  Sp. Def  Speed  Generation  Legendary  \n",
       "0       65       65     45           1      False  \n",
       "1       80       80     60           1      False  \n",
       "2      100      100     80           1      False  \n",
       "3      122      120     80           1      False  \n",
       "4       60       50     65           1      False  "
      ]
     },
     "execution_count": 3,
     "metadata": {},
     "output_type": "execute_result"
    }
   ],
   "source": [
    "# Your code here:\n",
    "pokemon.head()\n"
   ]
  },
  {
   "cell_type": "markdown",
   "metadata": {},
   "source": [
    "The first thing we would like to do is compare the legendary Pokemon to the regular Pokemon. To do this, we should examine the data further. What is the count of legendary vs. non legendary Pokemons?"
   ]
  },
  {
   "cell_type": "code",
   "execution_count": 4,
   "metadata": {},
   "outputs": [
    {
     "data": {
      "text/plain": [
       "False    735\n",
       "True      65\n",
       "Name: Legendary, dtype: int64"
      ]
     },
     "execution_count": 4,
     "metadata": {},
     "output_type": "execute_result"
    }
   ],
   "source": [
    "# Your code here:\n",
    "pokemon['Legendary'].value_counts()\n"
   ]
  },
  {
   "cell_type": "markdown",
   "metadata": {},
   "source": [
    "Compute the mean and standard deviation of the total points for both legendary and non-legendary Pokemon."
   ]
  },
  {
   "cell_type": "code",
   "execution_count": 6,
   "metadata": {},
   "outputs": [
    {
     "name": "stdout",
     "output_type": "stream",
     "text": [
      "The mean of total points for legenday Pokemon is: 637.3846153846154\n",
      "The standard deviation of total points for legenday Pokemon is: 60.93738905315344\n",
      "The mean of total points for non-legenday Pokemon is: 417.21360544217686\n",
      "The standard deviation of total points for non-legenday Pokemon is: 106.76041745713005\n"
     ]
    }
   ],
   "source": [
    "# Your code here:\n",
    "print(\"The mean of total points for legenday Pokemon is:\", pokemon[pokemon['Legendary']==True]['Total'].mean())\n",
    "print(\"The standard deviation of total points for legenday Pokemon is:\", pokemon[pokemon['Legendary']==True]['Total'].std())\n",
    "print(\"The mean of total points for non-legenday Pokemon is:\", pokemon[pokemon['Legendary']==False]['Total'].mean())\n",
    "print(\"The standard deviation of total points for non-legenday Pokemon is:\", pokemon[pokemon['Legendary']==False]['Total'].std())"
   ]
  },
  {
   "cell_type": "markdown",
   "metadata": {},
   "source": [
    "The computation of the mean might give us a clue regarding how the statistical test may turn out; However, it certainly does not prove whether there is a significant difference between the two groups.\n",
    "\n",
    "In the cell below, use the `ttest_ind` function in `scipy.stats` to compare the the total points for legendary and non-legendary Pokemon. Since we do not have any information about the population, assume the variances are not equal."
   ]
  },
  {
   "cell_type": "code",
   "execution_count": 7,
   "metadata": {},
   "outputs": [
    {
     "data": {
      "text/plain": [
       "(25.8335743895517, 9.357954335957446e-47)"
      ]
     },
     "execution_count": 7,
     "metadata": {},
     "output_type": "execute_result"
    }
   ],
   "source": [
    "# Your code here:\n",
    "from scipy.stats import ttest_ind\n",
    "\n",
    "legendary_total = pokemon[pokemon['Legendary']==True]['Total']\n",
    "nonlegendary_total = pokemon[pokemon['Legendary']==False]['Total']\n",
    "stat, p = ttest_ind(legendary_total, nonlegendary_total, equal_var=False)\n",
    "stat, p"
   ]
  },
  {
   "cell_type": "markdown",
   "metadata": {},
   "source": [
    "What do you conclude from this test? Write your conclusions below."
   ]
  },
  {
   "cell_type": "markdown",
   "metadata": {},
   "source": [
    "# Your conclusions here:\n",
    "\n",
    "<span style=\"color:green\">pvalue = 9.3579e-47 <=0,05, por lo que **rechazamos la hipótesis nula** (H0: mu_legend = mu_nonlegen).</span>\n",
    "    \n",
    "* H0: las medias de las muestras son iguales.\n",
    "* H1: las medias de las muestras son diferentes.\n"
   ]
  },
  {
   "cell_type": "markdown",
   "metadata": {},
   "source": [
    "How about we try to compare the different types of pokemon? In the cell below, list the types of Pokemon from column `Type 1` and the count of each type."
   ]
  },
  {
   "cell_type": "code",
   "execution_count": 8,
   "metadata": {},
   "outputs": [
    {
     "data": {
      "text/plain": [
       "Water       112\n",
       "Normal       98\n",
       "Grass        70\n",
       "Bug          69\n",
       "Psychic      57\n",
       "Fire         52\n",
       "Electric     44\n",
       "Rock         44\n",
       "Ground       32\n",
       "Dragon       32\n",
       "Ghost        32\n",
       "Dark         31\n",
       "Poison       28\n",
       "Steel        27\n",
       "Fighting     27\n",
       "Ice          24\n",
       "Fairy        17\n",
       "Flying        4\n",
       "Name: Type 1, dtype: int64"
      ]
     },
     "execution_count": 8,
     "metadata": {},
     "output_type": "execute_result"
    }
   ],
   "source": [
    "# Your code here:\n",
    "pokemon['Type 1'].value_counts()\n"
   ]
  },
  {
   "cell_type": "code",
   "execution_count": 13,
   "metadata": {},
   "outputs": [
    {
     "data": {
      "text/plain": [
       "Type 1\n",
       "Water       112\n",
       "Normal       98\n",
       "Grass        70\n",
       "Bug          69\n",
       "Psychic      57\n",
       "Fire         52\n",
       "Rock         44\n",
       "Electric     44\n",
       "Ground       32\n",
       "Dragon       32\n",
       "Ghost        32\n",
       "Dark         31\n",
       "Poison       28\n",
       "Steel        27\n",
       "Fighting     27\n",
       "Ice          24\n",
       "Fairy        17\n",
       "Flying        4\n",
       "Name: Type 1, dtype: int64"
      ]
     },
     "execution_count": 13,
     "metadata": {},
     "output_type": "execute_result"
    }
   ],
   "source": [
    "# Otra forma diferente de listar el conteo de los diferentes tipos:\n",
    "\n",
    "pokemon.groupby(by='Type 1')['Type 1'].agg('count').sort_values(ascending=False)"
   ]
  },
  {
   "cell_type": "markdown",
   "metadata": {},
   "source": [
    "Since water is the largest group of Pokemon, compare the mean and standard deviation of water Pokemon to all other Pokemon."
   ]
  },
  {
   "cell_type": "code",
   "execution_count": 18,
   "metadata": {},
   "outputs": [
    {
     "name": "stdout",
     "output_type": "stream",
     "text": [
      "The mean of total points for water Pokemon is: 430.45535714285717\n",
      "The standard deviation of total points for water Pokemon is: 113.1882660643146\n",
      "The mean of total points for non-water Pokemon is: 435.85901162790697\n",
      "The standard deviation of total points for non-water Pokemon is: 121.0916823020807\n"
     ]
    }
   ],
   "source": [
    "# Your code here:\n",
    "print(\"The mean of total points for water Pokemon is:\", pokemon[pokemon['Type 1']=='Water']['Total'].mean())\n",
    "print(\"The standard deviation of total points for water Pokemon is:\", pokemon[pokemon['Type 1']=='Water']['Total'].std())\n",
    "print(\"The mean of total points for non-water Pokemon is:\", pokemon[pokemon['Type 1']!='Water']['Total'].mean())\n",
    "print(\"The standard deviation of total points for non-water Pokemon is:\", pokemon[pokemon['Type 1']!='Water']['Total'].std())\n"
   ]
  },
  {
   "cell_type": "markdown",
   "metadata": {},
   "source": [
    "Perform a hypothesis test comparing the mean of total points for water Pokemon to all non-water Pokemon. Assume the variances are equal. "
   ]
  },
  {
   "cell_type": "code",
   "execution_count": 20,
   "metadata": {},
   "outputs": [
    {
     "data": {
      "text/plain": [
       "(-0.4418547448849676, 0.6587140317488793)"
      ]
     },
     "execution_count": 20,
     "metadata": {},
     "output_type": "execute_result"
    }
   ],
   "source": [
    "# Your code here:\n",
    "\n",
    "water_total = pokemon[pokemon['Type 1']=='Water']['Total']\n",
    "nonwater_total = pokemon[pokemon['Type 1']!='Water']['Total']\n",
    "stat, p = ttest_ind(water_total, nonwater_total, equal_var=True)\n",
    "stat, p"
   ]
  },
  {
   "cell_type": "markdown",
   "metadata": {},
   "source": [
    "Write your conclusion below."
   ]
  },
  {
   "cell_type": "markdown",
   "metadata": {},
   "source": [
    "# Your conclusions here:\n",
    "\n",
    "pvalue = 0.6587 > 0,05, por lo que **aceptamos la hipótesis nula**:\n",
    "\n",
    "* H0: las medias de las muestras son iguales."
   ]
  },
  {
   "cell_type": "markdown",
   "metadata": {},
   "source": [
    "# Challenge 2 - Matched Pairs Test\n",
    "\n",
    "In this challenge we will compare dependent samples of data describing our Pokemon. Our goal is to see whether there is a significant difference between each Pokemon's defense and attack scores. Our hypothesis is that the defense and attack scores are equal. In the cell below, import the `ttest_rel` function from `scipy.stats` and compare the two columns to see if there is a statistically significant difference between them."
   ]
  },
  {
   "cell_type": "code",
   "execution_count": 22,
   "metadata": {},
   "outputs": [
    {
     "data": {
      "text/plain": [
       "(4.325566393330478, 1.7140303479358558e-05)"
      ]
     },
     "execution_count": 22,
     "metadata": {},
     "output_type": "execute_result"
    }
   ],
   "source": [
    "# Your code here:\n",
    "from scipy.stats import ttest_rel\n",
    "\n",
    "stat, p = ttest_rel(pokemon['Attack'], pokemon['Defense'])\n",
    "stat, p"
   ]
  },
  {
   "cell_type": "markdown",
   "metadata": {},
   "source": [
    "Describe the results of the test in the cell below."
   ]
  },
  {
   "cell_type": "markdown",
   "metadata": {},
   "source": [
    "# Your conclusions here:\n",
    "\n",
    "pvalue = 1.714e-05 <=0,05, por lo que **rechazamos la hipótesis nula**:\n",
    "\n",
    "* H0: las medias de las muestras (attack y defense) son iguales.\n",
    "* H1: las medias de las muestras son diferentes.\n"
   ]
  },
  {
   "cell_type": "markdown",
   "metadata": {},
   "source": [
    "We are also curious about whether therer is a significant difference between the mean of special defense and the mean of special attack. Perform the hypothesis test in the cell below. "
   ]
  },
  {
   "cell_type": "code",
   "execution_count": 23,
   "metadata": {},
   "outputs": [
    {
     "data": {
      "text/plain": [
       "(0.853986188453353, 0.3933685997548122)"
      ]
     },
     "execution_count": 23,
     "metadata": {},
     "output_type": "execute_result"
    }
   ],
   "source": [
    "# Your code here:\n",
    "\n",
    "stat, p = ttest_rel(pokemon['Sp. Atk'], pokemon['Sp. Def'])\n",
    "stat, p"
   ]
  },
  {
   "cell_type": "markdown",
   "metadata": {},
   "source": [
    "Describe the results of the test in the cell below."
   ]
  },
  {
   "cell_type": "markdown",
   "metadata": {},
   "source": [
    "# Your conclusions here:\n",
    "\n",
    "pvalue = 0.3933 > 0,05, por lo que **aceptamos la hipótesis nula**:\n",
    "\n",
    "* H0: las medias de las muestras (special attack y special defense) son iguales.\n",
    "* H1: las medias de las muestras son diferentes.\n"
   ]
  },
  {
   "cell_type": "markdown",
   "metadata": {},
   "source": [
    "As you may recall, a two sample matched pairs test can also be expressed as a one sample test of the difference between the two dependent columns.\n",
    "\n",
    "Import the `ttest_1samp` function and perform a one sample t-test of the difference between defense and attack. Test the hypothesis that the difference between the means is zero. Confirm that the results of the test are the same."
   ]
  },
  {
   "cell_type": "code",
   "execution_count": 29,
   "metadata": {},
   "outputs": [
    {
     "data": {
      "text/plain": [
       "(0      26.143942\n",
       " 1      13.943944\n",
       " 2      -3.484624\n",
       " 3     -38.341761\n",
       " 4      31.372513\n",
       "          ...    \n",
       " 795   -61.870329\n",
       " 796   -27.013192\n",
       " 797    16.558229\n",
       " 798    16.558229\n",
       " 799   -35.727476\n",
       " Name: Defense, Length: 800, dtype: float64,\n",
       " array([2.35729214e-109, 1.03035815e-039, 5.19667456e-004, 2.81264285e-183,\n",
       "        1.94447097e-141, 9.42613092e-063, 3.83188132e-001, 4.85771138e-120,\n",
       "        3.83188132e-001, 1.60908692e-031, 3.84376495e-001, 9.69550078e-063,\n",
       "        8.64205513e-168, 2.73106575e-183, 8.27340461e-078, 5.07003297e-104,\n",
       "        2.12607841e-208, 5.07003297e-104, 2.50208433e-157, 2.50208433e-157,\n",
       "        2.50208433e-157, 8.27340461e-078, 5.15516227e-004, 3.84376495e-001,\n",
       "        2.73106575e-183, 3.62950515e-053, 2.12607841e-208, 1.60908692e-031,\n",
       "        4.18125063e-136, 1.65696145e-017, 2.50208433e-157, 8.27340461e-078,\n",
       "        2.19545829e-007, 1.09596434e-114, 2.01028674e-093, 4.43518571e-024,\n",
       "        6.62167363e-012, 2.50208433e-157, 1.08251351e-067, 8.15530565e-002,\n",
       "        1.06272241e-114, 2.17059203e-007, 2.50208433e-157, 5.15516227e-004,\n",
       "        1.23594249e-255, 9.24031165e-131, 2.73106575e-183, 1.39806101e-014,\n",
       "        8.27340461e-078, 1.39806101e-014, 2.19545829e-007, 8.27340461e-078,\n",
       "        3.84376495e-001, 5.07003297e-104, 3.62950515e-053, 1.57428711e-232,\n",
       "        5.07003297e-104, 2.73106575e-183, 3.62950515e-053, 1.06272241e-114,\n",
       "        3.83188132e-001, 2.73106575e-183, 3.62950515e-053, 9.24031165e-131,\n",
       "        3.84376495e-001, 2.50208433e-157, 1.60908692e-031, 1.05597210e-039,\n",
       "        1.02759342e-277, 2.12607841e-208, 9.24031165e-131, 1.60908692e-031,\n",
       "        5.07003297e-104, 1.39806101e-014, 3.84376495e-001, 2.73106575e-183,\n",
       "        5.07003297e-104, 1.60908692e-031, 2.73106575e-183, 1.60908692e-031,\n",
       "        9.69550078e-063, 2.00500158e-141, 3.68218436e-218, 8.27340461e-078,\n",
       "        1.39806101e-014, 1.60908692e-031, 1.09596434e-114, 0.00000000e+000,\n",
       "        1.39806101e-014, 1.05597210e-039, 8.27340461e-078, 9.24031165e-131,\n",
       "        1.39806101e-014, 8.27340461e-078, 3.84376495e-001, 5.07003297e-104,\n",
       "        5.15516227e-004, 9.69550078e-063, 0.00000000e+000, 2.12607841e-208,\n",
       "        9.24031165e-131, 3.62950515e-053, 3.84376495e-001, 0.00000000e+000,\n",
       "        9.24031165e-131, 1.39806101e-014, 1.13986048e-020, 2.00500158e-141,\n",
       "        5.07003297e-104, 1.39806101e-014, 3.84376495e-001, 2.19545829e-007,\n",
       "        1.05597210e-039, 1.09596434e-114, 3.58178804e-088, 9.99131148e-001,\n",
       "        5.15516227e-004, 1.05597210e-039, 8.64205513e-168, 1.05597210e-039,\n",
       "        8.64205513e-168, 6.26534527e-319, 2.00500158e-141, 3.84376495e-001,\n",
       "        9.69550078e-063, 1.39806101e-014, 1.05597210e-039, 3.62950515e-053,\n",
       "        1.60908692e-031, 8.27340461e-078, 2.19545829e-007, 1.60908692e-031,\n",
       "        3.84376495e-001, 2.73106575e-183, 1.08251351e-067, 1.08251351e-067,\n",
       "        9.69550078e-063, 8.64205513e-168, 1.05597210e-039, 8.27340461e-078,\n",
       "        9.99131148e-001, 2.43088392e-109, 3.84376495e-001, 1.06272241e-114,\n",
       "        5.07003297e-104, 3.62950515e-053, 3.62950515e-053, 3.62950515e-053,\n",
       "        1.39806101e-014, 9.69550078e-063, 1.96723910e-193, 1.13986048e-020,\n",
       "        3.69127686e-088, 1.60908692e-031, 2.19545829e-007, 1.60908692e-031,\n",
       "        9.69550078e-063, 2.19545829e-007, 1.13986048e-020, 9.24031165e-131,\n",
       "        1.60908692e-031, 1.05597210e-039, 1.13986048e-020, 9.69550078e-063,\n",
       "        1.39806101e-014, 9.69550078e-063, 1.60908692e-031, 3.84376495e-001,\n",
       "        9.69550078e-063, 1.94447097e-141, 9.42613092e-063, 3.83188132e-001,\n",
       "        1.57297441e-035, 3.84376495e-001, 9.69550078e-063, 2.19224725e-188,\n",
       "        1.57297441e-035, 2.12607841e-208, 5.07003297e-104, 2.12607841e-208,\n",
       "        5.07003297e-104, 2.50208433e-157, 1.39806101e-014, 3.84376495e-001,\n",
       "        8.38674665e-168, 9.42613092e-063, 1.02759342e-277, 3.58087069e-218,\n",
       "        1.02759342e-277, 1.60908692e-031, 2.19545829e-007, 9.24031165e-131,\n",
       "        1.39806101e-014, 2.50208433e-157, 8.27340461e-078, 2.19545829e-007,\n",
       "        3.69127686e-088, 1.05597210e-039, 5.07003297e-104, 3.84376495e-001,\n",
       "        2.00500158e-141, 5.15516227e-004, 2.50208433e-157, 5.07003297e-104,\n",
       "        1.39806101e-014, 8.27340461e-078, 2.12607841e-208, 8.27340461e-078,\n",
       "        9.24031165e-131, 9.24031165e-131, 2.19545829e-007, 3.62950515e-053,\n",
       "        1.09596434e-114, 9.37410129e-147, 3.84376495e-001, 3.62950515e-053,\n",
       "        1.06272241e-114, 9.42613092e-063, 1.60908692e-031, 1.13986048e-020,\n",
       "        1.40980167e-264, 1.39806101e-014, 3.69127686e-088, 0.00000000e+000,\n",
       "        0.00000000e+000, 5.07003297e-104, 5.15516227e-004, 5.15516227e-004,\n",
       "        9.69550078e-063, 1.40980167e-264, 0.00000000e+000, 5.15516227e-004,\n",
       "        2.00500158e-141, 8.27340461e-078, 5.07003297e-104, 5.15516227e-004,\n",
       "        2.50208433e-157, 8.64205513e-168, 2.50208433e-157, 3.84376495e-001,\n",
       "        2.19545829e-007, 2.73106575e-183, 5.15516227e-004, 9.24031165e-131,\n",
       "        1.39806101e-014, 1.40980167e-264, 2.12607841e-208, 5.07003297e-104,\n",
       "        1.13986048e-020, 1.05597210e-039, 3.62950515e-053, 8.64205513e-168,\n",
       "        1.13986048e-020, 4.67367359e-044, 2.73106575e-183, 2.73106575e-183,\n",
       "        1.05597210e-039, 1.02759342e-277, 5.36134205e-173, 5.36134205e-173,\n",
       "        3.69127686e-088, 8.47411049e-299, 5.15516227e-004, 2.19545829e-007,\n",
       "        2.00500158e-141, 5.07003297e-104, 1.39806101e-014, 1.09596434e-114,\n",
       "        5.94579671e-307, 3.68218436e-218, 1.13986048e-020, 9.69550078e-063,\n",
       "        2.73106575e-183, 9.24031165e-131, 1.60908692e-031, 5.15516227e-004,\n",
       "        2.50208433e-157, 3.62950515e-053, 1.39806101e-014, 3.84376495e-001,\n",
       "        5.07003297e-104, 1.39806101e-014, 1.13986048e-020, 1.09596434e-114,\n",
       "        2.73106575e-183, 1.39806101e-014, 4.72150415e-152, 1.51612702e-048,\n",
       "        2.73106575e-183, 8.27340461e-078, 5.07003297e-104, 8.27340461e-078,\n",
       "        1.39806101e-014, 2.12607841e-208, 5.07003297e-104, 1.39806101e-014,\n",
       "        5.07003297e-104, 2.50208433e-157, 3.62950515e-053, 2.12607841e-208,\n",
       "        3.62950515e-053, 2.12607841e-208, 9.69550078e-063, 1.57428711e-232,\n",
       "        2.73106575e-183, 1.60908692e-031, 1.60908692e-031, 1.81360388e-198,\n",
       "        4.67367359e-044, 3.62950515e-053, 3.84376495e-001, 3.62950515e-053,\n",
       "        3.84376495e-001, 9.69550078e-063, 1.13986048e-020, 9.24031165e-131,\n",
       "        9.24031165e-131, 6.77974491e-242, 1.94447097e-141, 1.03035815e-039,\n",
       "        2.12607841e-208, 3.62950515e-053, 2.50208433e-157, 6.96334009e-242,\n",
       "        9.24031165e-131, 1.60908692e-031, 5.15516227e-004, 1.96723910e-193,\n",
       "        2.19545829e-007, 1.96723910e-193, 9.69550078e-063, 1.40980167e-264,\n",
       "        0.00000000e+000, 0.00000000e+000, 8.27340461e-078, 5.15516227e-004,\n",
       "        2.19545829e-007, 2.50208433e-157, 3.62950515e-053, 3.84376495e-001,\n",
       "        2.50208433e-157, 5.07003297e-104, 8.27340461e-078, 8.27340461e-078,\n",
       "        9.24031165e-131, 3.58178804e-088, 5.19667456e-004, 1.23594249e-255,\n",
       "        2.50208433e-157, 1.39806101e-014, 2.73106575e-183, 9.24031165e-131,\n",
       "        2.50208433e-157, 1.39806101e-014, 9.69550078e-063, 1.40980167e-264,\n",
       "        2.73106575e-183, 1.60908692e-031, 3.62950515e-053, 9.24031165e-131,\n",
       "        5.07003297e-104, 3.84376495e-001, 2.50208433e-157, 3.62950515e-053,\n",
       "        3.62950515e-053, 1.13986048e-020, 1.09596434e-114, 3.62950515e-053,\n",
       "        3.62950515e-053, 1.60908692e-031, 2.19545829e-007, 1.94447097e-141,\n",
       "        2.17059203e-007, 1.60908692e-031, 2.19545829e-007, 8.27340461e-078,\n",
       "        3.69127686e-088, 8.15530565e-002, 1.55642439e-048, 5.07003297e-104,\n",
       "        9.69550078e-063, 1.23594249e-255, 9.99131148e-001, 1.39806101e-014,\n",
       "        1.39806101e-014, 2.73106575e-183, 1.60908692e-031, 5.15516227e-004,\n",
       "        1.13986048e-020, 3.68218436e-218, 5.19667456e-004, 1.39806101e-014,\n",
       "        3.62950515e-053, 3.62950515e-053, 1.06272241e-114, 5.07003297e-104,\n",
       "        3.84376495e-001, 3.84376495e-001, 5.07003297e-104, 1.39806101e-014,\n",
       "        1.13986048e-020, 2.19545829e-007, 3.69127686e-088, 3.69127686e-088,\n",
       "        3.68218436e-218, 8.27340461e-078, 3.62950515e-053, 9.69550078e-063,\n",
       "        3.84376495e-001, 3.68218436e-218, 3.84376495e-001, 9.69550078e-063,\n",
       "        3.68218436e-218, 5.94579671e-307, 0.00000000e+000, 9.69550078e-063,\n",
       "        5.94579671e-307, 1.13986048e-020, 8.64205513e-168, 3.84376495e-001,\n",
       "        9.69550078e-063, 1.13986048e-020, 1.13986048e-020, 1.40980167e-264,\n",
       "        0.00000000e+000, 1.13986048e-020, 9.69550078e-063, 9.69550078e-063,\n",
       "        5.07003297e-104, 1.23594249e-255, 0.00000000e+000, 1.13986048e-020,\n",
       "        1.57297441e-035, 2.19545829e-007, 3.69127686e-088, 4.18125063e-136,\n",
       "        2.01028674e-093, 6.52570085e-012, 3.58178804e-088, 1.11848764e-020,\n",
       "        1.42077248e-014, 2.12607841e-208, 5.07003297e-104, 1.39806101e-014,\n",
       "        2.50208433e-157, 3.62950515e-053, 4.72150415e-152, 1.04150815e-098,\n",
       "        2.19224725e-188, 2.35729214e-109, 9.99131148e-001, 2.73106575e-183,\n",
       "        1.60908692e-031, 2.50208433e-157, 3.62950515e-053, 2.57906055e-157,\n",
       "        0.00000000e+000, 9.24031165e-131, 2.19545829e-007, 3.69127686e-088,\n",
       "        1.05597210e-039, 5.07003297e-104, 9.37410129e-147, 1.05824353e-072,\n",
       "        1.39806101e-014, 2.73106575e-183, 8.27340461e-078, 9.24031165e-131,\n",
       "        1.39806101e-014, 1.06272241e-114, 1.11848764e-020, 1.06690685e-027,\n",
       "        2.19224725e-188, 4.18125063e-136, 4.18125063e-136, 1.49675378e-005,\n",
       "        1.61053102e-035, 3.62950515e-053, 2.01028674e-093, 9.37410129e-147,\n",
       "        1.57297441e-035, 5.07003297e-104, 4.71024758e-120, 4.43518571e-024,\n",
       "        1.66223001e-009, 9.66494622e-147, 1.05597210e-039, 9.24031165e-131,\n",
       "        6.26534527e-319, 9.24031165e-131, 5.22781399e-104, 9.24031165e-131,\n",
       "        1.60908692e-031, 1.05597210e-039, 2.00500158e-141, 2.50208433e-157,\n",
       "        2.50208433e-157, 1.39806101e-014, 1.42077248e-014, 3.83188132e-001,\n",
       "        2.57906055e-157, 1.13986048e-020, 1.09596434e-114, 2.50208433e-157,\n",
       "        1.60908692e-031, 1.64072447e-009, 1.02786368e-072, 9.08106962e-003,\n",
       "        5.07003297e-104, 5.07003297e-104, 5.15516227e-004, 3.69127686e-088,\n",
       "        1.60908692e-031, 2.00500158e-141, 1.05597210e-039, 3.68218436e-218,\n",
       "        1.96723910e-193, 4.43518571e-024, 4.43518571e-024, 1.05597210e-039,\n",
       "        1.66223001e-009, 3.68218436e-218, 1.09596434e-114, 1.96723910e-193,\n",
       "        3.84376495e-001, 1.39806101e-014, 1.60908692e-031, 1.05597210e-039,\n",
       "        2.96182820e-286, 6.96334009e-242, 1.39806101e-014, 8.15530565e-002,\n",
       "        1.07377548e-098, 1.07377548e-098, 1.07377548e-098, 1.07377548e-098,\n",
       "        1.07377548e-098, 3.68218436e-218, 3.69127686e-088, 1.39806101e-014,\n",
       "        8.64205513e-168, 9.69550078e-063, 2.07220052e-093, 1.09596434e-114,\n",
       "        8.64205513e-168, 9.69550078e-063, 8.64205513e-168, 3.84376495e-001,\n",
       "        9.69550078e-063, 1.13986048e-020, 9.69550078e-063, 5.15516227e-004,\n",
       "        8.64205513e-168, 9.69550078e-063, 8.27340461e-078, 5.15516227e-004,\n",
       "        1.05597210e-039, 9.24031165e-131, 8.27340461e-078, 1.60908692e-031,\n",
       "        9.24031165e-131, 3.62950515e-053, 2.19545829e-007, 1.40386840e-162,\n",
       "        1.65696145e-017, 9.24031165e-131, 1.60908692e-031, 1.13986048e-020,\n",
       "        5.36134205e-173, 5.07003297e-104, 1.06272241e-114, 1.03035815e-039,\n",
       "        1.06272241e-114, 1.03035815e-039, 1.06272241e-114, 1.03035815e-039,\n",
       "        9.24031165e-131, 2.19545829e-007, 5.07003297e-104, 4.67367359e-044,\n",
       "        3.84376495e-001, 1.81360388e-198, 1.03035815e-039, 2.19545829e-007,\n",
       "        3.69127686e-088, 3.68218436e-218, 1.94447097e-141, 8.27340461e-078,\n",
       "        2.50208433e-157, 3.62950515e-053, 1.66223001e-009, 1.86660466e-198,\n",
       "        8.27340461e-078, 2.19545829e-007, 1.05597210e-039, 2.50208433e-157,\n",
       "        8.27340461e-078, 5.15516227e-004, 2.19545829e-007, 5.15516227e-004,\n",
       "        1.39806101e-014, 1.13986048e-020, 3.84376495e-001, 6.60942959e-058,\n",
       "        6.79439351e-058, 1.68631309e-017, 3.62950515e-053, 2.19545829e-007,\n",
       "        5.07003297e-104, 5.15516227e-004, 1.60908692e-031, 2.73106575e-183,\n",
       "        9.24031165e-131, 3.84376495e-001, 9.24031165e-131, 8.27340461e-078,\n",
       "        3.69127686e-088, 4.43518571e-024, 2.19545829e-007, 1.96723910e-193,\n",
       "        1.39806101e-014, 2.00500158e-141, 3.84376495e-001, 2.19545829e-007,\n",
       "        2.96182820e-286, 8.52119990e-078, 1.61768703e-232, 9.24031165e-131,\n",
       "        1.60908692e-031, 4.67367359e-044, 9.13865976e-003, 2.50208433e-157,\n",
       "        3.62950515e-053, 2.50208433e-157, 3.62950515e-053, 5.07003297e-104,\n",
       "        1.39806101e-014, 1.05597210e-039, 2.50208433e-157, 5.07003297e-104,\n",
       "        5.15516227e-004, 5.07003297e-104, 1.03035815e-039, 5.07003297e-104,\n",
       "        1.60908692e-031, 2.19545829e-007, 5.07003297e-104, 1.39806101e-014,\n",
       "        3.62950515e-053, 9.24031165e-131, 3.69127686e-088, 9.24031165e-131,\n",
       "        1.39806101e-014, 5.07003297e-104, 1.39806101e-014, 3.84376495e-001,\n",
       "        5.07003297e-104, 3.62950515e-053, 4.52577198e-024, 5.48977242e-223,\n",
       "        1.39806101e-014, 1.05597210e-039, 2.00500158e-141, 2.50208433e-157,\n",
       "        1.39806101e-014, 3.84376495e-001, 8.27340461e-078, 5.15516227e-004,\n",
       "        8.27340461e-078, 3.62950515e-053, 1.13986048e-020, 3.62950515e-053,\n",
       "        1.39806101e-014, 1.13986048e-020, 2.50208433e-157, 3.84376495e-001,\n",
       "        2.12607841e-208, 2.19545829e-007, 2.50208433e-157, 1.49675378e-005,\n",
       "        5.07003297e-104, 3.62950515e-053, 1.13986048e-020, 5.07003297e-104,\n",
       "        3.84376495e-001, 1.39806101e-014, 9.69550078e-063, 1.05597210e-039,\n",
       "        5.07003297e-104, 5.15516227e-004, 5.15516227e-004, 3.69127686e-088,\n",
       "        1.06690685e-027, 2.14376369e-125, 5.07003297e-104, 1.39806101e-014,\n",
       "        1.13986048e-020, 8.27340461e-078, 1.60908692e-031, 2.71041347e-213,\n",
       "        1.13986048e-020, 1.64072447e-009, 1.39806101e-014, 3.84376495e-001,\n",
       "        1.39806101e-014, 1.39806101e-014, 9.69550078e-063, 8.64205513e-168,\n",
       "        1.13986048e-020, 1.13986048e-020, 1.13986048e-020, 9.69550078e-063,\n",
       "        1.13986048e-020, 1.13986048e-020, 1.13986048e-020, 8.15530565e-002,\n",
       "        1.13986048e-020, 1.05597210e-039, 1.60908692e-031, 1.05597210e-039,\n",
       "        3.79450686e-178, 2.50208433e-157, 9.42613092e-063, 1.64072447e-009,\n",
       "        2.50208433e-157, 2.01028674e-093, 4.43518571e-024, 8.38674665e-168,\n",
       "        8.15530565e-002, 1.94447097e-141, 8.27340461e-078, 6.52570085e-012,\n",
       "        2.50208433e-157, 3.62950515e-053, 5.07003297e-104, 9.42613092e-063,\n",
       "        1.64072447e-009, 1.40386840e-162, 4.71024758e-120, 1.11848764e-020,\n",
       "        1.06272241e-114, 4.67367359e-044, 4.67367359e-044, 3.83188132e-001,\n",
       "        3.62950515e-053, 5.77942367e-083, 9.08106962e-003, 9.08106962e-003,\n",
       "        9.69550078e-063, 5.94579671e-307, 5.07003297e-104, 5.94579671e-307,\n",
       "        3.62950515e-053, 1.64072447e-009, 1.06690685e-027, 1.66223001e-009,\n",
       "        3.58178804e-088, 1.42077248e-014, 4.43518571e-024, 2.00500158e-141,\n",
       "        3.62950515e-053, 1.13986048e-020, 4.67367359e-044, 1.42077248e-014,\n",
       "        1.91096911e-193, 2.01028674e-093, 8.15530565e-002, 1.44684107e-162,\n",
       "        5.07003297e-104, 1.64072447e-009, 1.60908692e-031, 5.15516227e-004,\n",
       "        1.08251351e-067, 5.94579671e-307, 2.73106575e-183, 3.58178804e-088,\n",
       "        1.39806101e-014, 4.52577198e-024, 1.06272241e-114, 9.08106962e-003,\n",
       "        1.39806101e-014, 1.39806101e-014, 1.39806101e-014, 1.39806101e-014,\n",
       "        3.79450686e-178, 3.79450686e-178, 3.79450686e-178, 3.79450686e-178,\n",
       "        2.19545829e-007, 0.00000000e+000, 2.73106575e-183, 3.84376495e-001,\n",
       "        1.05597210e-039, 1.05597210e-039, 5.52358443e-173, 5.94579671e-307,\n",
       "        1.09596434e-114, 3.62950515e-053, 3.62950515e-053, 8.64205513e-168]))"
      ]
     },
     "execution_count": 29,
     "metadata": {},
     "output_type": "execute_result"
    }
   ],
   "source": [
    "# Your code here:\n",
    "from scipy.stats import ttest_1samp\n",
    "\n",
    "stats, p = ttest_1samp(pokemon['Attack'], pokemon['Defense'])\n",
    "stats, p"
   ]
  },
  {
   "cell_type": "markdown",
   "metadata": {},
   "source": [
    "# Bonus Challenge - The Chi-Square Test\n",
    "\n",
    "The Chi-Square test is used to determine whether there is a statistically significant difference in frequencies. In other words, we are testing whether there is a relationship between categorical variables or rather when the variables are independent. This test is an alternative to Fisher's exact test and is used in scenarios where sample sizes are larger. However, with a large enough sample size, both tests produce similar results. Read more about the Chi Squared test [here](https://en.wikipedia.org/wiki/Chi-squared_test).\n",
    "\n",
    "In the cell below, create a contingency table using `pd.crosstab` comparing whether a Pokemon is legenadary or not and whether the Type 1 of a Pokemon is water or not."
   ]
  },
  {
   "cell_type": "code",
   "execution_count": 17,
   "metadata": {},
   "outputs": [],
   "source": [
    "# Your code here:\n",
    "\n"
   ]
  },
  {
   "cell_type": "markdown",
   "metadata": {},
   "source": [
    "Perform a chi-squared test using the `chi2_contingency` function in `scipy.stats`. You can read the documentation of the function [here](https://docs.scipy.org/doc/scipy-0.15.1/reference/generated/scipy.stats.chi2_contingency.html)."
   ]
  },
  {
   "cell_type": "code",
   "execution_count": 18,
   "metadata": {},
   "outputs": [],
   "source": [
    "# Your code here:\n",
    "\n"
   ]
  },
  {
   "cell_type": "markdown",
   "metadata": {},
   "source": [
    "Based on a 95% confidence, should we reject the null hypothesis?"
   ]
  },
  {
   "cell_type": "code",
   "execution_count": 19,
   "metadata": {},
   "outputs": [],
   "source": [
    "# Your answer here:\n",
    "\n"
   ]
  },
  {
   "cell_type": "code",
   "execution_count": null,
   "metadata": {},
   "outputs": [],
   "source": []
  }
 ],
 "metadata": {
  "kernelspec": {
   "display_name": "Python 3",
   "language": "python",
   "name": "python3"
  },
  "language_info": {
   "codemirror_mode": {
    "name": "ipython",
    "version": 3
   },
   "file_extension": ".py",
   "mimetype": "text/x-python",
   "name": "python",
   "nbconvert_exporter": "python",
   "pygments_lexer": "ipython3",
   "version": "3.7.4"
  }
 },
 "nbformat": 4,
 "nbformat_minor": 2
}
