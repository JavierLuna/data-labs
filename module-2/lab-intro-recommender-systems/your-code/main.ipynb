{
 "cells": [
  {
   "cell_type": "markdown",
   "metadata": {},
   "source": [
    "# Intro to Recommender Systems Lab\n",
    "\n",
    "Complete the exercises below to solidify your knowledge and understanding of recommender systems.\n",
    "\n",
    "For this lab, we are going to be putting together a user similarity based recommender system in a step-by-step fashion. Our data set contains customer grocery purchases, and we will use similar purchase behavior to inform our recommender system. Our recommender system will generate 5 recommendations for each customer based on the purchases they have made."
   ]
  },
  {
   "cell_type": "code",
   "execution_count": null,
   "metadata": {},
   "outputs": [],
   "source": [
    "import pandas as pd\n",
    "import numpy as np\n",
    "from scipy.spatial.distance import pdist, squareform\n",
    "from pprint import pprint\n"
   ]
  },
  {
   "cell_type": "code",
   "execution_count": null,
   "metadata": {},
   "outputs": [],
   "source": [
    "data = pd.read_csv('../data/customer_product_sales.csv')\n",
    "data.head()"
   ]
  },
  {
   "cell_type": "markdown",
   "metadata": {},
   "source": [
    "## Step 1: Create a data frame that contains the total quantity of each product purchased by each customer.\n",
    "\n",
    "You will need to group by CustomerID and ProductName and then sum the Quantity field."
   ]
  },
  {
   "cell_type": "code",
   "execution_count": null,
   "metadata": {},
   "outputs": [],
   "source": [
    "products_by_client = data.groupby(['CustomerID', 'ProductID']).sum()\n",
    "\n",
    "#Remove 'SalesID'\n",
    "products_by_client = products_by_client.drop(columns=['SalesID'])\n",
    "products_by_client.head()"
   ]
  },
  {
   "cell_type": "code",
   "execution_count": null,
   "metadata": {},
   "outputs": [],
   "source": [
    "#You will need to group by CustomerID and ProductName and then sum the Quantity field.\n",
    "\n",
    "\n",
    "df=data.groupby(['CustomerID', 'ProductName']).agg({'Quantity':'sum'}).reset_index()\n",
    "\n",
    "df.head()"
   ]
  },
  {
   "cell_type": "code",
   "execution_count": null,
   "metadata": {},
   "outputs": [],
   "source": []
  },
  {
   "cell_type": "markdown",
   "metadata": {},
   "source": [
    "## Step 2: Use the `pivot_table` method to create a product by customer matrix.\n",
    "\n",
    "The rows of the matrix should represent the products, the columns should represent the customers, and the values should be the quantities of each product purchased by each customer. You will also need to replace nulls with zeros, which you can do using the `fillna` method."
   ]
  },
  {
   "cell_type": "code",
   "execution_count": null,
   "metadata": {},
   "outputs": [],
   "source": [
    "pivot_table = pd.pivot_table(data, values = 'Quantity', index = 'ProductName', columns = 'CustomerID')\n",
    "pivot_table = pivot_table.fillna(0)\n",
    "pivot_table.head()"
   ]
  },
  {
   "cell_type": "markdown",
   "metadata": {},
   "source": [
    "## Step 3: Create a customer similarity matrix using `squareform` and `pdist`. For the distance metric, choose \"euclidean.\""
   ]
  },
  {
   "cell_type": "code",
   "execution_count": null,
   "metadata": {},
   "outputs": [],
   "source": [
    "pivot_table_transpose = pivot_table.transpose()\n",
    "customer_similarity_matrix = pd.DataFrame(squareform(pdist(pivot_table_transpose, 'euclidean')),\n",
    "                                          columns = pivot_table_transpose.index, index = pivot_table_transpose.index)\n",
    "\n",
    "customer_similarity_matrix.head()\n"
   ]
  },
  {
   "cell_type": "markdown",
   "metadata": {},
   "source": [
    "## Step 4: Check your results by generating a list of the top 5 most similar customers for a specific CustomerID."
   ]
  },
  {
   "cell_type": "code",
   "execution_count": null,
   "metadata": {},
   "outputs": [],
   "source": [
    "list_top5 = list(customer_similarity_matrix[33].sort_values(ascending=False).index)[:5]"
   ]
  },
  {
   "cell_type": "code",
   "execution_count": null,
   "metadata": {},
   "outputs": [],
   "source": [
    "list_top5"
   ]
  },
  {
   "cell_type": "markdown",
   "metadata": {},
   "source": [
    "## Step 5: From the data frame you created in Step 1, select the records for the list of similar CustomerIDs you obtained in Step 4."
   ]
  },
  {
   "cell_type": "code",
   "execution_count": null,
   "metadata": {},
   "outputs": [],
   "source": [
    "records = df[df['CustomerID'].isin(list_top5)]\n",
    "records.head()"
   ]
  },
  {
   "cell_type": "code",
   "execution_count": null,
   "metadata": {},
   "outputs": [],
   "source": []
  },
  {
   "cell_type": "markdown",
   "metadata": {},
   "source": [
    "## Step 6: Aggregate those customer purchase records by ProductName, sum the Quantity field, and then rank them in descending order by quantity.\n",
    "\n",
    "This will give you the total number of each product purchased by the 5 most similar customers to the customer you selected in order from most purchased to least."
   ]
  },
  {
   "cell_type": "code",
   "execution_count": null,
   "metadata": {},
   "outputs": [],
   "source": [
    "records_agg = records.groupby('ProductName')[['Quantity']].sum().sort_values('Quantity', ascending=False)\n",
    "records_agg.head()\n"
   ]
  },
  {
   "cell_type": "code",
   "execution_count": null,
   "metadata": {},
   "outputs": [],
   "source": [
    "records_agg = records.groupby(['CustomerID', 'ProductName']).agg({'Quantity': sum}).sort_values(\n",
    "    'Quantity', ascending=False)\n",
    "records_agg.head()\n",
    "\n"
   ]
  },
  {
   "cell_type": "markdown",
   "metadata": {},
   "source": [
    "## Step 7: Filter the list for products that the chosen customer has not yet purchased and then recommend the top 5 products with the highest quantities that are left.\n",
    "\n",
    "- Merge the ranked products data frame with the customer product matrix on the ProductName field.\n",
    "- Filter for records where the chosen customer has not purchased the product.\n",
    "- Show the top 5 results."
   ]
  },
  {
   "cell_type": "markdown",
   "metadata": {},
   "source": [
    "#### Merge the ranked products data frame with the customer product matrix on the ProductName field."
   ]
  },
  {
   "cell_type": "code",
   "execution_count": null,
   "metadata": {},
   "outputs": [],
   "source": [
    "products_similar_customers = records_agg.groupby('ProductName').agg({'Quantity': sum}).sort_values(\n",
    "    'Quantity', ascending=False)\n",
    "products_similar_customers.head()"
   ]
  },
  {
   "cell_type": "markdown",
   "metadata": {},
   "source": [
    "#### Filter for records where the chosen customer has not purchased the product.\n"
   ]
  },
  {
   "cell_type": "code",
   "execution_count": null,
   "metadata": {},
   "outputs": [],
   "source": [
    "not_purchased = pivot_table[pivot_table[33]==0]\n",
    "not_purchased.head()"
   ]
  },
  {
   "cell_type": "markdown",
   "metadata": {},
   "source": [
    "#### Show the top 5 results."
   ]
  },
  {
   "cell_type": "code",
   "execution_count": null,
   "metadata": {},
   "outputs": [],
   "source": [
    "products_not_purchased = not_purchased.merge(products_similar_customers, \n",
    "    left_on= 'ProductName', right_on= 'ProductName').sort_values('Quantity', ascending= False)\n",
    "products = products_not_purchased[1:6].index.to_list()\n",
    "products"
   ]
  },
  {
   "cell_type": "markdown",
   "metadata": {},
   "source": [
    "## Step 8: Now that we have generated product recommendations for a single user, put the pieces together and iterate over a list of all CustomerIDs.\n",
    "\n",
    "- Create an empty dictionary that will hold the recommendations for all customers.\n",
    "- Create a list of unique CustomerIDs to iterate over.\n",
    "- Iterate over the customer list performing steps 4 through 7 for each and appending the results of each iteration to the dictionary you created."
   ]
  },
  {
   "cell_type": "markdown",
   "metadata": {},
   "source": [
    "#### Create an empty dictionary that will hold the recommendations for all customers."
   ]
  },
  {
   "cell_type": "code",
   "execution_count": null,
   "metadata": {},
   "outputs": [],
   "source": [
    "recommendations = {}"
   ]
  },
  {
   "cell_type": "markdown",
   "metadata": {},
   "source": [
    "#### Create a list of unique CustomerIDs to iterate over"
   ]
  },
  {
   "cell_type": "code",
   "execution_count": null,
   "metadata": {},
   "outputs": [],
   "source": [
    "customers_ids = data['CustomerID'].unique()\n",
    "customers_ids_list = customers_ids.tolist()\n",
    "customers_ids_list"
   ]
  },
  {
   "cell_type": "markdown",
   "metadata": {},
   "source": [
    "#### Iterate over the customer list performing steps 4 through 7 for each and appending the results of each iteration to the dictionary you created"
   ]
  },
  {
   "cell_type": "code",
   "execution_count": null,
   "metadata": {},
   "outputs": [],
   "source": [
    "recommendations = {}\n",
    "customers_ind = data.index.tolist()\n",
    "#customers_ids_list = customers_ids.tolist()\n",
    "#customers_ids_list\n",
    "\n",
    "for customers in customers_ind:\n",
    "    list_top5 = list(customer_similarity_matrix[33].sort_values(ascending=False).index)[:5]\n",
    "    records = df[df['CustomerID'].isin(list_top5)]\n",
    "    records_agg = records.groupby(['CustomerID', 'ProductName']).agg({'Quantity': sum}).sort_values(\n",
    "    'Quantity', ascending=False)\n",
    "    products_similar_customers = records_agg.groupby('ProductName').agg({'Quantity': sum}).sort_values(\n",
    "    'Quantity', ascending=False)\n",
    "    not_purchased = pivot_table[pivot_table[33]==0]\n",
    "    products_not_purchased = not_purchased.merge(products_similar_customers, \n",
    "    left_on= 'ProductName', right_on= 'ProductName').sort_values('Quantity', ascending= False)\n",
    "    products = products_not_purchased[1:6].index.to_list()\n",
    "    recommendations.update({customers:products})\n",
    "        "
   ]
  },
  {
   "cell_type": "code",
   "execution_count": null,
   "metadata": {},
   "outputs": [],
   "source": [
    "customers_ids = [data['CustomerID'].unique()]\n",
    "customers_ids"
   ]
  },
  {
   "cell_type": "code",
   "execution_count": null,
   "metadata": {},
   "outputs": [],
   "source": [
    "for customers in customers_ids:\n",
    "    for customer in customers:\n",
    "        list_top5 = list(customer_similarity_matrix[customer].sort_values(ascending=False).index)[:5]\n",
    "        records = df[df['CustomerID'].isin(list_top5)]\n",
    "        records_agg = records.groupby(['CustomerID', 'ProductName']).agg({'Quantity': sum}).sort_values(\n",
    "    'Quantity', ascending=False)\n",
    "        products_similar_customers = records_agg.groupby('ProductName').agg({'Quantity': sum}).sort_values(\n",
    "    'Quantity', ascending=False)\n",
    "        not_purchased = pivot_table[pivot_table[33]==0]\n",
    "        products_not_purchased = not_purchased.merge(products_similar_customers, \n",
    "    left_on= 'ProductName', right_on= 'ProductName').sort_values('Quantity', ascending= False)\n",
    "        recommendations.update({customers_ids_list:products_not_purchased})"
   ]
  },
  {
   "cell_type": "markdown",
   "metadata": {},
   "source": [
    "##  Step 9: Store the results in a Pandas data frame. The data frame should a column for Customer ID and then a column for each of the 5 product recommendations for each customer."
   ]
  },
  {
   "cell_type": "code",
   "execution_count": null,
   "metadata": {},
   "outputs": [],
   "source": [
    "results_df = pd.DataFrame(recommendations)\n",
    "results_df.head()"
   ]
  },
  {
   "cell_type": "code",
   "execution_count": null,
   "metadata": {
    "scrolled": true
   },
   "outputs": [],
   "source": [
    "# Hago df desde diccionario y reinicio index:\n",
    "results = pd.DataFrame.from_dict(recommendations, columns = ['CustomerID', 'Product1', 'Product2', 'Product3', 'Product4','Product5'], orient = 'index').reset_index()\n",
    "\n",
    "# Cambio el nombre del index:\n",
    "#results.index.names = ['CustomerID']\n",
    "results.head()\n"
   ]
  },
  {
   "cell_type": "code",
   "execution_count": null,
   "metadata": {},
   "outputs": [],
   "source": []
  },
  {
   "cell_type": "code",
   "execution_count": null,
   "metadata": {},
   "outputs": [],
   "source": [
    "results2 = pd.DataFrame.from_dict(recommendations_for_everyone, orient='index').reset_index()\n",
    "results2.columns = ['CustomerID','Prod_01', 'Prod_02', 'Prod_03', 'Prod_04', 'Prod_05']\n",
    "results2.head()"
   ]
  },
  {
   "cell_type": "markdown",
   "metadata": {},
   "source": [
    "## Step 10: Change the distance metric used in Step 3 to something other than euclidean (correlation, cityblock, consine, jaccard, etc.). Regenerate the recommendations for all customers and note the differences."
   ]
  },
  {
   "cell_type": "code",
   "execution_count": null,
   "metadata": {},
   "outputs": [],
   "source": [
    "\n"
   ]
  }
 ],
 "metadata": {
  "kernelspec": {
   "display_name": "Python 3",
   "language": "python",
   "name": "python3"
  },
  "language_info": {
   "codemirror_mode": {
    "name": "ipython",
    "version": 3
   },
   "file_extension": ".py",
   "mimetype": "text/x-python",
   "name": "python",
   "nbconvert_exporter": "python",
   "pygments_lexer": "ipython3",
   "version": "3.7.4"
  }
 },
 "nbformat": 4,
 "nbformat_minor": 2
}
