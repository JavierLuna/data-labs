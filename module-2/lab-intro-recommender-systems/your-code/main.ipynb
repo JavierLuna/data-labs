{
 "cells": [
  {
   "cell_type": "markdown",
   "metadata": {},
   "source": [
    "# Intro to Recommender Systems Lab\n",
    "\n",
    "Complete the exercises below to solidify your knowledge and understanding of recommender systems.\n",
    "\n",
    "For this lab, we are going to be putting together a user similarity based recommender system in a step-by-step fashion. Our data set contains customer grocery purchases, and we will use similar purchase behavior to inform our recommender system. Our recommender system will generate 5 recommendations for each customer based on the purchases they have made."
   ]
  },
  {
   "cell_type": "code",
   "execution_count": 29,
   "metadata": {},
   "outputs": [],
   "source": [
    "import pandas as pd\n",
    "from scipy.spatial.distance import pdist, squareform"
   ]
  },
  {
   "cell_type": "code",
   "execution_count": 30,
   "metadata": {},
   "outputs": [],
   "source": [
    "data = pd.read_csv('../data/customer_product_sales.csv').set_index('CustomerID')"
   ]
  },
  {
   "cell_type": "code",
   "execution_count": 31,
   "metadata": {},
   "outputs": [
    {
     "data": {
      "text/html": [
       "<div>\n",
       "<style scoped>\n",
       "    .dataframe tbody tr th:only-of-type {\n",
       "        vertical-align: middle;\n",
       "    }\n",
       "\n",
       "    .dataframe tbody tr th {\n",
       "        vertical-align: top;\n",
       "    }\n",
       "\n",
       "    .dataframe thead th {\n",
       "        text-align: right;\n",
       "    }\n",
       "</style>\n",
       "<table border=\"1\" class=\"dataframe\">\n",
       "  <thead>\n",
       "    <tr style=\"text-align: right;\">\n",
       "      <th></th>\n",
       "      <th>FirstName</th>\n",
       "      <th>LastName</th>\n",
       "      <th>SalesID</th>\n",
       "      <th>ProductID</th>\n",
       "      <th>ProductName</th>\n",
       "      <th>Quantity</th>\n",
       "    </tr>\n",
       "    <tr>\n",
       "      <th>CustomerID</th>\n",
       "      <th></th>\n",
       "      <th></th>\n",
       "      <th></th>\n",
       "      <th></th>\n",
       "      <th></th>\n",
       "      <th></th>\n",
       "    </tr>\n",
       "  </thead>\n",
       "  <tbody>\n",
       "    <tr>\n",
       "      <th>61288</th>\n",
       "      <td>Rosa</td>\n",
       "      <td>Andersen</td>\n",
       "      <td>134196</td>\n",
       "      <td>229</td>\n",
       "      <td>Bread - Hot Dog Buns</td>\n",
       "      <td>16</td>\n",
       "    </tr>\n",
       "    <tr>\n",
       "      <th>77352</th>\n",
       "      <td>Myron</td>\n",
       "      <td>Murray</td>\n",
       "      <td>6167892</td>\n",
       "      <td>229</td>\n",
       "      <td>Bread - Hot Dog Buns</td>\n",
       "      <td>20</td>\n",
       "    </tr>\n",
       "    <tr>\n",
       "      <th>40094</th>\n",
       "      <td>Susan</td>\n",
       "      <td>Stevenson</td>\n",
       "      <td>5970885</td>\n",
       "      <td>229</td>\n",
       "      <td>Bread - Hot Dog Buns</td>\n",
       "      <td>11</td>\n",
       "    </tr>\n",
       "    <tr>\n",
       "      <th>23548</th>\n",
       "      <td>Tricia</td>\n",
       "      <td>Vincent</td>\n",
       "      <td>6426954</td>\n",
       "      <td>229</td>\n",
       "      <td>Bread - Hot Dog Buns</td>\n",
       "      <td>6</td>\n",
       "    </tr>\n",
       "    <tr>\n",
       "      <th>78981</th>\n",
       "      <td>Scott</td>\n",
       "      <td>Burch</td>\n",
       "      <td>819094</td>\n",
       "      <td>229</td>\n",
       "      <td>Bread - Hot Dog Buns</td>\n",
       "      <td>20</td>\n",
       "    </tr>\n",
       "  </tbody>\n",
       "</table>\n",
       "</div>"
      ],
      "text/plain": [
       "           FirstName   LastName  SalesID  ProductID           ProductName  \\\n",
       "CustomerID                                                                  \n",
       "61288           Rosa   Andersen   134196        229  Bread - Hot Dog Buns   \n",
       "77352          Myron     Murray  6167892        229  Bread - Hot Dog Buns   \n",
       "40094          Susan  Stevenson  5970885        229  Bread - Hot Dog Buns   \n",
       "23548         Tricia    Vincent  6426954        229  Bread - Hot Dog Buns   \n",
       "78981          Scott      Burch   819094        229  Bread - Hot Dog Buns   \n",
       "\n",
       "            Quantity  \n",
       "CustomerID            \n",
       "61288             16  \n",
       "77352             20  \n",
       "40094             11  \n",
       "23548              6  \n",
       "78981             20  "
      ]
     },
     "execution_count": 31,
     "metadata": {},
     "output_type": "execute_result"
    }
   ],
   "source": [
    "data.head()"
   ]
  },
  {
   "cell_type": "markdown",
   "metadata": {},
   "source": [
    "## Step 1: Create a data frame that contains the total quantity of each product purchased by each customer.\n",
    "\n",
    "You will need to group by CustomerID and ProductName and then sum the Quantity field."
   ]
  },
  {
   "cell_type": "code",
   "execution_count": 32,
   "metadata": {},
   "outputs": [
    {
     "data": {
      "text/html": [
       "<div>\n",
       "<style scoped>\n",
       "    .dataframe tbody tr th:only-of-type {\n",
       "        vertical-align: middle;\n",
       "    }\n",
       "\n",
       "    .dataframe tbody tr th {\n",
       "        vertical-align: top;\n",
       "    }\n",
       "\n",
       "    .dataframe thead th {\n",
       "        text-align: right;\n",
       "    }\n",
       "</style>\n",
       "<table border=\"1\" class=\"dataframe\">\n",
       "  <thead>\n",
       "    <tr style=\"text-align: right;\">\n",
       "      <th></th>\n",
       "      <th>CustomerID</th>\n",
       "      <th>ProductName</th>\n",
       "      <th>Quantity</th>\n",
       "    </tr>\n",
       "  </thead>\n",
       "  <tbody>\n",
       "    <tr>\n",
       "      <th>0</th>\n",
       "      <td>33</td>\n",
       "      <td>Apricots - Dried</td>\n",
       "      <td>1</td>\n",
       "    </tr>\n",
       "    <tr>\n",
       "      <th>1</th>\n",
       "      <td>33</td>\n",
       "      <td>Assorted Desserts</td>\n",
       "      <td>1</td>\n",
       "    </tr>\n",
       "    <tr>\n",
       "      <th>2</th>\n",
       "      <td>33</td>\n",
       "      <td>Bandage - Flexible Neon</td>\n",
       "      <td>1</td>\n",
       "    </tr>\n",
       "    <tr>\n",
       "      <th>3</th>\n",
       "      <td>33</td>\n",
       "      <td>Bar Mix - Pina Colada, 355 Ml</td>\n",
       "      <td>1</td>\n",
       "    </tr>\n",
       "    <tr>\n",
       "      <th>4</th>\n",
       "      <td>33</td>\n",
       "      <td>Beans - Kidney, Canned</td>\n",
       "      <td>1</td>\n",
       "    </tr>\n",
       "  </tbody>\n",
       "</table>\n",
       "</div>"
      ],
      "text/plain": [
       "   CustomerID                    ProductName  Quantity\n",
       "0          33               Apricots - Dried         1\n",
       "1          33              Assorted Desserts         1\n",
       "2          33        Bandage - Flexible Neon         1\n",
       "3          33  Bar Mix - Pina Colada, 355 Ml         1\n",
       "4          33         Beans - Kidney, Canned         1"
      ]
     },
     "execution_count": 32,
     "metadata": {},
     "output_type": "execute_result"
    }
   ],
   "source": [
    "data_step_01 = data.groupby(['CustomerID', 'ProductName'])[['Quantity']].sum().reset_index()\n",
    "data_step_01.head()"
   ]
  },
  {
   "cell_type": "markdown",
   "metadata": {},
   "source": [
    "## Step 2: Use the `pivot_table` method to create a product by customer matrix.\n",
    "\n",
    "The rows of the matrix should represent the products, the columns should represent the customers, and the values should be the quantities of each product purchased by each customer. You will also need to replace nulls with zeros, which you can do using the `fillna` method."
   ]
  },
  {
   "cell_type": "code",
   "execution_count": 33,
   "metadata": {},
   "outputs": [
    {
     "data": {
      "text/html": [
       "<div>\n",
       "<style scoped>\n",
       "    .dataframe tbody tr th:only-of-type {\n",
       "        vertical-align: middle;\n",
       "    }\n",
       "\n",
       "    .dataframe tbody tr th {\n",
       "        vertical-align: top;\n",
       "    }\n",
       "\n",
       "    .dataframe thead th {\n",
       "        text-align: right;\n",
       "    }\n",
       "</style>\n",
       "<table border=\"1\" class=\"dataframe\">\n",
       "  <thead>\n",
       "    <tr style=\"text-align: right;\">\n",
       "      <th></th>\n",
       "      <th></th>\n",
       "      <th>Quantity</th>\n",
       "    </tr>\n",
       "    <tr>\n",
       "      <th>ProductName</th>\n",
       "      <th>CustomerID</th>\n",
       "      <th></th>\n",
       "    </tr>\n",
       "  </thead>\n",
       "  <tbody>\n",
       "    <tr>\n",
       "      <th rowspan=\"5\" valign=\"top\">Zucchini - Yellow</th>\n",
       "      <th>94910</th>\n",
       "      <td>25</td>\n",
       "    </tr>\n",
       "    <tr>\n",
       "      <th>95078</th>\n",
       "      <td>25</td>\n",
       "    </tr>\n",
       "    <tr>\n",
       "      <th>95372</th>\n",
       "      <td>25</td>\n",
       "    </tr>\n",
       "    <tr>\n",
       "      <th>96024</th>\n",
       "      <td>25</td>\n",
       "    </tr>\n",
       "    <tr>\n",
       "      <th>96666</th>\n",
       "      <td>25</td>\n",
       "    </tr>\n",
       "  </tbody>\n",
       "</table>\n",
       "</div>"
      ],
      "text/plain": [
       "                              Quantity\n",
       "ProductName       CustomerID          \n",
       "Zucchini - Yellow 94910             25\n",
       "                  95078             25\n",
       "                  95372             25\n",
       "                  96024             25\n",
       "                  96666             25"
      ]
     },
     "execution_count": 33,
     "metadata": {},
     "output_type": "execute_result"
    }
   ],
   "source": [
    "data_step_02 = pd.pivot_table(data, index=['ProductName','CustomerID'], values= 'Quantity',fill_value=0)\n",
    "data_step_02.tail(5)"
   ]
  },
  {
   "cell_type": "markdown",
   "metadata": {},
   "source": [
    "## Step 3: Create a customer similarity matrix using `squareform` and `pdist`. For the distance metric, choose \"euclidean.\""
   ]
  },
  {
   "cell_type": "code",
   "execution_count": 34,
   "metadata": {},
   "outputs": [],
   "source": [
    "data_step_03 = data.pivot_table(values='Quantity', columns='CustomerID', index='ProductName', aggfunc='sum').fillna(0)\n",
    "distances = squareform(pdist(data_step_03.T, 'euclidean'))\n",
    "#distances"
   ]
  },
  {
   "cell_type": "markdown",
   "metadata": {},
   "source": [
    "## Step 4: Check your results by generating a list of the top 5 most similar customers for a specific CustomerID."
   ]
  },
  {
   "cell_type": "code",
   "execution_count": 35,
   "metadata": {},
   "outputs": [
    {
     "data": {
      "text/html": [
       "<div>\n",
       "<style scoped>\n",
       "    .dataframe tbody tr th:only-of-type {\n",
       "        vertical-align: middle;\n",
       "    }\n",
       "\n",
       "    .dataframe tbody tr th {\n",
       "        vertical-align: top;\n",
       "    }\n",
       "\n",
       "    .dataframe thead th {\n",
       "        text-align: right;\n",
       "    }\n",
       "</style>\n",
       "<table border=\"1\" class=\"dataframe\">\n",
       "  <thead>\n",
       "    <tr style=\"text-align: right;\">\n",
       "      <th>CustomerID</th>\n",
       "      <th>33</th>\n",
       "      <th>200</th>\n",
       "      <th>264</th>\n",
       "      <th>356</th>\n",
       "      <th>412</th>\n",
       "      <th>464</th>\n",
       "      <th>477</th>\n",
       "      <th>639</th>\n",
       "      <th>649</th>\n",
       "      <th>669</th>\n",
       "      <th>...</th>\n",
       "      <th>97697</th>\n",
       "      <th>97753</th>\n",
       "      <th>97769</th>\n",
       "      <th>97793</th>\n",
       "      <th>97900</th>\n",
       "      <th>97928</th>\n",
       "      <th>98069</th>\n",
       "      <th>98159</th>\n",
       "      <th>98185</th>\n",
       "      <th>98200</th>\n",
       "    </tr>\n",
       "    <tr>\n",
       "      <th>CustomerID</th>\n",
       "      <th></th>\n",
       "      <th></th>\n",
       "      <th></th>\n",
       "      <th></th>\n",
       "      <th></th>\n",
       "      <th></th>\n",
       "      <th></th>\n",
       "      <th></th>\n",
       "      <th></th>\n",
       "      <th></th>\n",
       "      <th></th>\n",
       "      <th></th>\n",
       "      <th></th>\n",
       "      <th></th>\n",
       "      <th></th>\n",
       "      <th></th>\n",
       "      <th></th>\n",
       "      <th></th>\n",
       "      <th></th>\n",
       "      <th></th>\n",
       "      <th></th>\n",
       "    </tr>\n",
       "  </thead>\n",
       "  <tbody>\n",
       "    <tr>\n",
       "      <th>33</th>\n",
       "      <td>1.000000</td>\n",
       "      <td>0.077421</td>\n",
       "      <td>0.087047</td>\n",
       "      <td>0.081800</td>\n",
       "      <td>0.080634</td>\n",
       "      <td>0.082709</td>\n",
       "      <td>0.074573</td>\n",
       "      <td>0.083020</td>\n",
       "      <td>0.081503</td>\n",
       "      <td>0.080070</td>\n",
       "      <td>...</td>\n",
       "      <td>0.004811</td>\n",
       "      <td>0.004669</td>\n",
       "      <td>0.004412</td>\n",
       "      <td>0.005019</td>\n",
       "      <td>0.004312</td>\n",
       "      <td>0.004515</td>\n",
       "      <td>0.004583</td>\n",
       "      <td>0.004355</td>\n",
       "      <td>0.004167</td>\n",
       "      <td>0.004333</td>\n",
       "    </tr>\n",
       "    <tr>\n",
       "      <th>200</th>\n",
       "      <td>0.077421</td>\n",
       "      <td>1.000000</td>\n",
       "      <td>0.078448</td>\n",
       "      <td>0.076435</td>\n",
       "      <td>0.073693</td>\n",
       "      <td>0.075255</td>\n",
       "      <td>0.075956</td>\n",
       "      <td>0.076435</td>\n",
       "      <td>0.077674</td>\n",
       "      <td>0.076923</td>\n",
       "      <td>...</td>\n",
       "      <td>0.004824</td>\n",
       "      <td>0.004681</td>\n",
       "      <td>0.004431</td>\n",
       "      <td>0.005047</td>\n",
       "      <td>0.004311</td>\n",
       "      <td>0.004521</td>\n",
       "      <td>0.004614</td>\n",
       "      <td>0.004367</td>\n",
       "      <td>0.004166</td>\n",
       "      <td>0.004335</td>\n",
       "    </tr>\n",
       "    <tr>\n",
       "      <th>264</th>\n",
       "      <td>0.087047</td>\n",
       "      <td>0.078448</td>\n",
       "      <td>1.000000</td>\n",
       "      <td>0.080070</td>\n",
       "      <td>0.081800</td>\n",
       "      <td>0.080350</td>\n",
       "      <td>0.076923</td>\n",
       "      <td>0.080634</td>\n",
       "      <td>0.082100</td>\n",
       "      <td>0.078448</td>\n",
       "      <td>...</td>\n",
       "      <td>0.004822</td>\n",
       "      <td>0.004674</td>\n",
       "      <td>0.004416</td>\n",
       "      <td>0.005035</td>\n",
       "      <td>0.004322</td>\n",
       "      <td>0.004543</td>\n",
       "      <td>0.004595</td>\n",
       "      <td>0.004365</td>\n",
       "      <td>0.004179</td>\n",
       "      <td>0.004333</td>\n",
       "    </tr>\n",
       "    <tr>\n",
       "      <th>356</th>\n",
       "      <td>0.081800</td>\n",
       "      <td>0.076435</td>\n",
       "      <td>0.080070</td>\n",
       "      <td>1.000000</td>\n",
       "      <td>0.076435</td>\n",
       "      <td>0.078187</td>\n",
       "      <td>0.075025</td>\n",
       "      <td>0.082403</td>\n",
       "      <td>0.077171</td>\n",
       "      <td>0.075956</td>\n",
       "      <td>...</td>\n",
       "      <td>0.004816</td>\n",
       "      <td>0.004671</td>\n",
       "      <td>0.004416</td>\n",
       "      <td>0.005038</td>\n",
       "      <td>0.004310</td>\n",
       "      <td>0.004526</td>\n",
       "      <td>0.004578</td>\n",
       "      <td>0.004365</td>\n",
       "      <td>0.004175</td>\n",
       "      <td>0.004339</td>\n",
       "    </tr>\n",
       "    <tr>\n",
       "      <th>412</th>\n",
       "      <td>0.080634</td>\n",
       "      <td>0.073693</td>\n",
       "      <td>0.081800</td>\n",
       "      <td>0.076435</td>\n",
       "      <td>1.000000</td>\n",
       "      <td>0.078711</td>\n",
       "      <td>0.075025</td>\n",
       "      <td>0.082403</td>\n",
       "      <td>0.078187</td>\n",
       "      <td>0.078448</td>\n",
       "      <td>...</td>\n",
       "      <td>0.004810</td>\n",
       "      <td>0.004702</td>\n",
       "      <td>0.004414</td>\n",
       "      <td>0.005034</td>\n",
       "      <td>0.004318</td>\n",
       "      <td>0.004530</td>\n",
       "      <td>0.004578</td>\n",
       "      <td>0.004367</td>\n",
       "      <td>0.004177</td>\n",
       "      <td>0.004349</td>\n",
       "    </tr>\n",
       "  </tbody>\n",
       "</table>\n",
       "<p>5 rows × 1000 columns</p>\n",
       "</div>"
      ],
      "text/plain": [
       "CustomerID     33        200       264       356       412       464    \\\n",
       "CustomerID                                                               \n",
       "33          1.000000  0.077421  0.087047  0.081800  0.080634  0.082709   \n",
       "200         0.077421  1.000000  0.078448  0.076435  0.073693  0.075255   \n",
       "264         0.087047  0.078448  1.000000  0.080070  0.081800  0.080350   \n",
       "356         0.081800  0.076435  0.080070  1.000000  0.076435  0.078187   \n",
       "412         0.080634  0.073693  0.081800  0.076435  1.000000  0.078711   \n",
       "\n",
       "CustomerID     477       639       649       669    ...     97697     97753  \\\n",
       "CustomerID                                          ...                       \n",
       "33          0.074573  0.083020  0.081503  0.080070  ...  0.004811  0.004669   \n",
       "200         0.075956  0.076435  0.077674  0.076923  ...  0.004824  0.004681   \n",
       "264         0.076923  0.080634  0.082100  0.078448  ...  0.004822  0.004674   \n",
       "356         0.075025  0.082403  0.077171  0.075956  ...  0.004816  0.004671   \n",
       "412         0.075025  0.082403  0.078187  0.078448  ...  0.004810  0.004702   \n",
       "\n",
       "CustomerID     97769     97793     97900     97928     98069     98159  \\\n",
       "CustomerID                                                               \n",
       "33          0.004412  0.005019  0.004312  0.004515  0.004583  0.004355   \n",
       "200         0.004431  0.005047  0.004311  0.004521  0.004614  0.004367   \n",
       "264         0.004416  0.005035  0.004322  0.004543  0.004595  0.004365   \n",
       "356         0.004416  0.005038  0.004310  0.004526  0.004578  0.004365   \n",
       "412         0.004414  0.005034  0.004318  0.004530  0.004578  0.004367   \n",
       "\n",
       "CustomerID     98185     98200  \n",
       "CustomerID                      \n",
       "33          0.004167  0.004333  \n",
       "200         0.004166  0.004335  \n",
       "264         0.004179  0.004333  \n",
       "356         0.004175  0.004339  \n",
       "412         0.004177  0.004349  \n",
       "\n",
       "[5 rows x 1000 columns]"
      ]
     },
     "execution_count": 35,
     "metadata": {},
     "output_type": "execute_result"
    }
   ],
   "source": [
    "distancias = pd.DataFrame(1/(1+distances), index=data_step_03.columns, columns=data_step_03.columns)\n",
    "distancias.head()"
   ]
  },
  {
   "cell_type": "code",
   "execution_count": 36,
   "metadata": {},
   "outputs": [
    {
     "data": {
      "text/plain": [
       "Int64Index([   33,   200,   264,   356,   412,   464,   477,   639,   649,\n",
       "              669,\n",
       "            ...\n",
       "            97697, 97753, 97769, 97793, 97900, 97928, 98069, 98159, 98185,\n",
       "            98200],\n",
       "           dtype='int64', name='CustomerID', length=1000)"
      ]
     },
     "execution_count": 36,
     "metadata": {},
     "output_type": "execute_result"
    }
   ],
   "source": [
    "distancias.columns"
   ]
  },
  {
   "cell_type": "markdown",
   "metadata": {},
   "source": [
    "Obtenemos la lista de los Customers y elegimos uno. En nuestro caso el 477\n"
   ]
  },
  {
   "cell_type": "code",
   "execution_count": 37,
   "metadata": {},
   "outputs": [],
   "source": [
    "customer_477_dist = distancias[477].sort_values(ascending=False)"
   ]
  },
  {
   "cell_type": "markdown",
   "metadata": {},
   "source": [
    "Descartamos el mismo número porque siempre va a dar que es el más similar.  \n",
    "Y obtenemos los 5 primeros `[1:6]`.  \n",
    "Para obtener los elementos tenemos que obtener los índices `.index`.  \n",
    "Después lo convertimos a un array con el método `to_list()`"
   ]
  },
  {
   "cell_type": "code",
   "execution_count": 38,
   "metadata": {},
   "outputs": [
    {
     "data": {
      "text/plain": [
       "[3535, 3317, 1072, 1008, 639]"
      ]
     },
     "execution_count": 38,
     "metadata": {},
     "output_type": "execute_result"
    }
   ],
   "source": [
    "top_5 = customer_477_dist[1:6].index.to_list()\n",
    "top_5"
   ]
  },
  {
   "cell_type": "markdown",
   "metadata": {},
   "source": [
    "## Step 5: From the data frame you created in Step 1, select the records for the list of similar CustomerIDs you obtained in Step 4."
   ]
  },
  {
   "cell_type": "code",
   "execution_count": 39,
   "metadata": {},
   "outputs": [
    {
     "data": {
      "text/plain": [
       "array([ 639, 1008, 1072, 3317, 3535])"
      ]
     },
     "execution_count": 39,
     "metadata": {},
     "output_type": "execute_result"
    }
   ],
   "source": [
    "step_01_df = data_step_01[data_step_01['CustomerID'].isin(top_5)]\n",
    "step_01_list_top_5= step_01_df['CustomerID'].unique()\n",
    "step_01_list_top_5"
   ]
  },
  {
   "cell_type": "markdown",
   "metadata": {},
   "source": [
    "## Step 6: Aggregate those customer purchase records by ProductName, sum the Quantity field, and then rank them in descending order by quantity.\n",
    "\n",
    "This will give you the total number of each product purchased by the 5 most similar customers to the customer you selected in order from most purchased to least."
   ]
  },
  {
   "cell_type": "code",
   "execution_count": 40,
   "metadata": {},
   "outputs": [
    {
     "data": {
      "text/html": [
       "<div>\n",
       "<style scoped>\n",
       "    .dataframe tbody tr th:only-of-type {\n",
       "        vertical-align: middle;\n",
       "    }\n",
       "\n",
       "    .dataframe tbody tr th {\n",
       "        vertical-align: top;\n",
       "    }\n",
       "\n",
       "    .dataframe thead th {\n",
       "        text-align: right;\n",
       "    }\n",
       "</style>\n",
       "<table border=\"1\" class=\"dataframe\">\n",
       "  <thead>\n",
       "    <tr style=\"text-align: right;\">\n",
       "      <th></th>\n",
       "      <th>Quantity</th>\n",
       "    </tr>\n",
       "    <tr>\n",
       "      <th>ProductName</th>\n",
       "      <th></th>\n",
       "    </tr>\n",
       "  </thead>\n",
       "  <tbody>\n",
       "    <tr>\n",
       "      <th>Olive - Spread Tapenade</th>\n",
       "      <td>3</td>\n",
       "    </tr>\n",
       "    <tr>\n",
       "      <th>Sprouts - Baby Pea Tendrils</th>\n",
       "      <td>3</td>\n",
       "    </tr>\n",
       "    <tr>\n",
       "      <th>Wine - Blue Nun Qualitatswein</th>\n",
       "      <td>3</td>\n",
       "    </tr>\n",
       "    <tr>\n",
       "      <th>Veal - Inside, Choice</th>\n",
       "      <td>3</td>\n",
       "    </tr>\n",
       "    <tr>\n",
       "      <th>Pepper - Black, Whole</th>\n",
       "      <td>3</td>\n",
       "    </tr>\n",
       "  </tbody>\n",
       "</table>\n",
       "</div>"
      ],
      "text/plain": [
       "                               Quantity\n",
       "ProductName                            \n",
       "Olive - Spread Tapenade               3\n",
       "Sprouts - Baby Pea Tendrils           3\n",
       "Wine - Blue Nun Qualitatswein         3\n",
       "Veal - Inside, Choice                 3\n",
       "Pepper - Black, Whole                 3"
      ]
     },
     "execution_count": 40,
     "metadata": {},
     "output_type": "execute_result"
    }
   ],
   "source": [
    "ordered_quantity = step_01_df.groupby('ProductName')[['Quantity']].sum().sort_values('Quantity', ascending=False)\n",
    "ordered_quantity.head()"
   ]
  },
  {
   "cell_type": "markdown",
   "metadata": {},
   "source": [
    "## Step 7: Filter the list for products that the chosen customer has not yet purchased and then recommend the top 5 products with the highest quantities that are left.\n",
    "\n",
    "- Merge the ranked products data frame with the customer product matrix on the ProductName field.\n",
    "- Filter for records where the chosen customer has not purchased the product.\n",
    "- Show the top 5 results."
   ]
  },
  {
   "cell_type": "code",
   "execution_count": 41,
   "metadata": {},
   "outputs": [
    {
     "data": {
      "text/plain": [
       "Index(['Olive - Spread Tapenade', 'Sprouts - Baby Pea Tendrils',\n",
       "       'Wine - Blue Nun Qualitatswein', 'Pepper - Black, Whole',\n",
       "       'Veal - Inside, Choice'],\n",
       "      dtype='object', name='ProductName')"
      ]
     },
     "execution_count": 41,
     "metadata": {},
     "output_type": "execute_result"
    }
   ],
   "source": [
    "not_my_products = data_step_03[data_step_03[477]==0]\n",
    "merged = not_my_products.merge(ordered_quantity, left_on='ProductName', right_on='ProductName').sort_values('Quantity',ascending=False)\n",
    "merged[1:6].index"
   ]
  },
  {
   "cell_type": "markdown",
   "metadata": {},
   "source": [
    "## Step 8: Now that we have generated product recommendations for a single user, put the pieces together and iterate over a list of all CustomerIDs.\n",
    "\n",
    "- Create an empty dictionary that will hold the recommendations for all customers.\n",
    "- Create a list of unique CustomerIDs to iterate over.\n",
    "- Iterate over the customer list performing steps 4 through 7 for each and appending the results of each iteration to the dictionary you created."
   ]
  },
  {
   "cell_type": "code",
   "execution_count": 42,
   "metadata": {},
   "outputs": [],
   "source": [
    "recommendations_for_everyone = {}\n",
    "keys = data.index.to_list()\n",
    "keys\n",
    "for key in keys:\n",
    "    cust_dist = distancias[key].sort_values(ascending=False)\n",
    "    top_5_cust = cust_dist[1:6].index.to_list()\n",
    "    step_01_new = data_step_01[data_step_01['CustomerID'].isin(top_5_cust)]\n",
    "    ord_quant = step_01_new.groupby('ProductName')[['Quantity']].sum().sort_values('Quantity', ascending=False)\n",
    "    not_my_products = data_step_03[data_step_03[key]==0]\n",
    "    merged = not_my_products.merge(ord_quant, left_on='ProductName', right_on='ProductName').sort_values('Quantity',ascending=False)\n",
    "    values = merged[1:6].index\n",
    "    recommendations_for_everyone.update({key: values})"
   ]
  },
  {
   "cell_type": "markdown",
   "metadata": {},
   "source": [
    "##  Step 9: Store the results in a Pandas data frame. The data frame should a column for Customer ID and then a column for each of the 5 product recommendations for each customer."
   ]
  },
  {
   "cell_type": "code",
   "execution_count": 43,
   "metadata": {
    "scrolled": true
   },
   "outputs": [
    {
     "data": {
      "text/html": [
       "<div>\n",
       "<style scoped>\n",
       "    .dataframe tbody tr th:only-of-type {\n",
       "        vertical-align: middle;\n",
       "    }\n",
       "\n",
       "    .dataframe tbody tr th {\n",
       "        vertical-align: top;\n",
       "    }\n",
       "\n",
       "    .dataframe thead th {\n",
       "        text-align: right;\n",
       "    }\n",
       "</style>\n",
       "<table border=\"1\" class=\"dataframe\">\n",
       "  <thead>\n",
       "    <tr style=\"text-align: right;\">\n",
       "      <th></th>\n",
       "      <th>CustomerID</th>\n",
       "      <th>Prod_01</th>\n",
       "      <th>Prod_02</th>\n",
       "      <th>Prod_03</th>\n",
       "      <th>Prod_04</th>\n",
       "      <th>Prod_05</th>\n",
       "    </tr>\n",
       "  </thead>\n",
       "  <tbody>\n",
       "    <tr>\n",
       "      <th>0</th>\n",
       "      <td>61288</td>\n",
       "      <td>Jagermeister</td>\n",
       "      <td>Lime Cordial - Roses</td>\n",
       "      <td>Macaroons - Two Bite Choc</td>\n",
       "      <td>Water - Mineral, Natural</td>\n",
       "      <td>Flavouring - Orange</td>\n",
       "    </tr>\n",
       "    <tr>\n",
       "      <th>1</th>\n",
       "      <td>77352</td>\n",
       "      <td>Tahini Paste</td>\n",
       "      <td>Tuna - Salad Premix</td>\n",
       "      <td>Chicken - Soup Base</td>\n",
       "      <td>Isomalt</td>\n",
       "      <td>Guinea Fowl</td>\n",
       "    </tr>\n",
       "    <tr>\n",
       "      <th>2</th>\n",
       "      <td>40094</td>\n",
       "      <td>Puree - Mocha</td>\n",
       "      <td>Tuna - Salad Premix</td>\n",
       "      <td>Sherry - Dry</td>\n",
       "      <td>Beer - Sleemans Cream Ale</td>\n",
       "      <td>Oregano - Dry, Rubbed</td>\n",
       "    </tr>\n",
       "    <tr>\n",
       "      <th>3</th>\n",
       "      <td>23548</td>\n",
       "      <td>Pernod</td>\n",
       "      <td>Wanton Wrap</td>\n",
       "      <td>Bread - Raisin Walnut Oval</td>\n",
       "      <td>Banana Turning</td>\n",
       "      <td>Sprouts - Baby Pea Tendrils</td>\n",
       "    </tr>\n",
       "    <tr>\n",
       "      <th>4</th>\n",
       "      <td>78981</td>\n",
       "      <td>Lettuce - Frisee</td>\n",
       "      <td>Yogurt - Blueberry, 175 Gr</td>\n",
       "      <td>Cinnamon Buns Sticky</td>\n",
       "      <td>Pop Shoppe Cream Soda</td>\n",
       "      <td>Beef - Inside Round</td>\n",
       "    </tr>\n",
       "  </tbody>\n",
       "</table>\n",
       "</div>"
      ],
      "text/plain": [
       "   CustomerID           Prod_01                     Prod_02  \\\n",
       "0       61288      Jagermeister        Lime Cordial - Roses   \n",
       "1       77352      Tahini Paste         Tuna - Salad Premix   \n",
       "2       40094     Puree - Mocha         Tuna - Salad Premix   \n",
       "3       23548            Pernod                 Wanton Wrap   \n",
       "4       78981  Lettuce - Frisee  Yogurt - Blueberry, 175 Gr   \n",
       "\n",
       "                      Prod_03                    Prod_04  \\\n",
       "0   Macaroons - Two Bite Choc   Water - Mineral, Natural   \n",
       "1         Chicken - Soup Base                    Isomalt   \n",
       "2                Sherry - Dry  Beer - Sleemans Cream Ale   \n",
       "3  Bread - Raisin Walnut Oval             Banana Turning   \n",
       "4        Cinnamon Buns Sticky      Pop Shoppe Cream Soda   \n",
       "\n",
       "                       Prod_05  \n",
       "0          Flavouring - Orange  \n",
       "1                  Guinea Fowl  \n",
       "2        Oregano - Dry, Rubbed  \n",
       "3  Sprouts - Baby Pea Tendrils  \n",
       "4          Beef - Inside Round  "
      ]
     },
     "execution_count": 43,
     "metadata": {},
     "output_type": "execute_result"
    }
   ],
   "source": [
    "results = pd.DataFrame.from_dict(recommendations_for_everyone, orient='index').reset_index()\n",
    "results.columns = ['CustomerID','Prod_01', 'Prod_02', 'Prod_03', 'Prod_04', 'Prod_05']\n",
    "results.head()"
   ]
  },
  {
   "cell_type": "markdown",
   "metadata": {},
   "source": [
    "## Step 10: Change the distance metric used in Step 3 to something other than euclidean (correlation, cityblock, consine, jaccard, etc.). Regenerate the recommendations for all customers and note the differences."
   ]
  },
  {
   "cell_type": "code",
   "execution_count": 44,
   "metadata": {},
   "outputs": [],
   "source": [
    "data_step_03_cosine = data.pivot_table(values='Quantity', columns='CustomerID', index='ProductName', aggfunc='sum').fillna(0)\n",
    "dist_cosine = squareform(pdist(data_step_03_cosine.T, 'cosine'))\n",
    "distancias_cosine = pd.DataFrame(1/(1+dist_cosine), index=data_step_03_cosine.columns, columns=data_step_03_cosine.columns)\n",
    "recommendations_for_everyone_cosine = {}\n",
    "keys = data.index.to_list()\n",
    "keys\n",
    "for key in keys:\n",
    "    cust_dist = distancias_cosine[key].sort_values(ascending=False)\n",
    "    top_5_cust = cust_dist[1:6].index.to_list()\n",
    "    step_01_new = data_step_01[data_step_01['CustomerID'].isin(top_5_cust)]\n",
    "    ord_quant = step_01_new.groupby('ProductName')[['Quantity']].sum().sort_values('Quantity', ascending=False)\n",
    "    not_my_products = data_step_03_cosine[data_step_03_cosine[key]==0]\n",
    "    merged = not_my_products.merge(ord_quant, left_on='ProductName', right_on='ProductName').sort_values('Quantity',ascending=False)\n",
    "    values = merged[1:6].index\n",
    "    recommendations_for_everyone_cosine.update({key: values})"
   ]
  },
  {
   "cell_type": "code",
   "execution_count": 45,
   "metadata": {},
   "outputs": [
    {
     "data": {
      "text/html": [
       "<div>\n",
       "<style scoped>\n",
       "    .dataframe tbody tr th:only-of-type {\n",
       "        vertical-align: middle;\n",
       "    }\n",
       "\n",
       "    .dataframe tbody tr th {\n",
       "        vertical-align: top;\n",
       "    }\n",
       "\n",
       "    .dataframe thead th {\n",
       "        text-align: right;\n",
       "    }\n",
       "</style>\n",
       "<table border=\"1\" class=\"dataframe\">\n",
       "  <thead>\n",
       "    <tr style=\"text-align: right;\">\n",
       "      <th></th>\n",
       "      <th>Prod_01</th>\n",
       "      <th>Prod_02</th>\n",
       "      <th>Prod_03</th>\n",
       "      <th>Prod_04</th>\n",
       "      <th>Prod_05</th>\n",
       "    </tr>\n",
       "  </thead>\n",
       "  <tbody>\n",
       "    <tr>\n",
       "      <th>61288</th>\n",
       "      <td>Wine - Two Oceans Cabernet</td>\n",
       "      <td>Tofu - Firm</td>\n",
       "      <td>Appetizer - Sausage Rolls</td>\n",
       "      <td>Dc - Frozen Momji</td>\n",
       "      <td>Snapple Lemon Tea</td>\n",
       "    </tr>\n",
       "    <tr>\n",
       "      <th>77352</th>\n",
       "      <td>Fondant - Icing</td>\n",
       "      <td>Lettuce - Frisee</td>\n",
       "      <td>Bread - French Baquette</td>\n",
       "      <td>Pork - Kidney</td>\n",
       "      <td>Chicken - Leg, Boneless</td>\n",
       "    </tr>\n",
       "    <tr>\n",
       "      <th>40094</th>\n",
       "      <td>Beef - Inside Round</td>\n",
       "      <td>Truffle Cups - Brown</td>\n",
       "      <td>Bread - Roll, Soft White Round</td>\n",
       "      <td>Cake - Mini Cheesecake</td>\n",
       "      <td>Anchovy Paste - 56 G Tube</td>\n",
       "    </tr>\n",
       "    <tr>\n",
       "      <th>23548</th>\n",
       "      <td>Juice - Orange</td>\n",
       "      <td>Veal - Sweetbread</td>\n",
       "      <td>Olives - Stuffed</td>\n",
       "      <td>Cinnamon Buns Sticky</td>\n",
       "      <td>Barramundi</td>\n",
       "    </tr>\n",
       "    <tr>\n",
       "      <th>78981</th>\n",
       "      <td>Cookies - Assorted</td>\n",
       "      <td>Cheese - Cottage Cheese</td>\n",
       "      <td>Baking Powder</td>\n",
       "      <td>Quiche Assorted</td>\n",
       "      <td>Soup - Campbells, Beef Barley</td>\n",
       "    </tr>\n",
       "  </tbody>\n",
       "</table>\n",
       "</div>"
      ],
      "text/plain": [
       "                          Prod_01                  Prod_02  \\\n",
       "61288  Wine - Two Oceans Cabernet              Tofu - Firm   \n",
       "77352             Fondant - Icing         Lettuce - Frisee   \n",
       "40094         Beef - Inside Round     Truffle Cups - Brown   \n",
       "23548              Juice - Orange        Veal - Sweetbread   \n",
       "78981          Cookies - Assorted  Cheese - Cottage Cheese   \n",
       "\n",
       "                              Prod_03                 Prod_04  \\\n",
       "61288       Appetizer - Sausage Rolls       Dc - Frozen Momji   \n",
       "77352         Bread - French Baquette           Pork - Kidney   \n",
       "40094  Bread - Roll, Soft White Round  Cake - Mini Cheesecake   \n",
       "23548                Olives - Stuffed    Cinnamon Buns Sticky   \n",
       "78981                   Baking Powder         Quiche Assorted   \n",
       "\n",
       "                             Prod_05  \n",
       "61288              Snapple Lemon Tea  \n",
       "77352        Chicken - Leg, Boneless  \n",
       "40094      Anchovy Paste - 56 G Tube  \n",
       "23548                     Barramundi  \n",
       "78981  Soup - Campbells, Beef Barley  "
      ]
     },
     "execution_count": 45,
     "metadata": {},
     "output_type": "execute_result"
    }
   ],
   "source": [
    "results_cosine = pd.DataFrame.from_dict(recommendations_for_everyone_cosine, orient='index')\n",
    "results_cosine.columns = ['Prod_01', 'Prod_02', 'Prod_03', 'Prod_04', 'Prod_05']\n",
    "results_cosine.head()"
   ]
  },
  {
   "cell_type": "markdown",
   "metadata": {},
   "source": [
    "Me sorprende bastante la variación de la recomendación de productos en función de distancia que usemos. Si observamos el head de los datos, aparentemente no existe mucha relación en los customers...\n",
    "Y por ello, decidimos seguir comprobando con otro tipo de distancia: `jaccard`."
   ]
  },
  {
   "cell_type": "code",
   "execution_count": 46,
   "metadata": {},
   "outputs": [],
   "source": [
    "data_step_03_jaccard = data.pivot_table(values='Quantity', columns='CustomerID', index='ProductName', aggfunc='sum').fillna(0)\n",
    "dist_jaccard = squareform(pdist(data_step_03_jaccard.T, 'jaccard'))\n",
    "distancias_jaccard = pd.DataFrame(1/(1+dist_jaccard), index=data_step_03_jaccard.columns, columns=data_step_03_jaccard.columns)\n",
    "recommendations_for_everyone_jaccard = {}\n",
    "keys = data.index.to_list()\n",
    "keys\n",
    "for key in keys:\n",
    "    cust_dist = distancias_jaccard[key].sort_values(ascending=False)\n",
    "    top_5_cust = cust_dist[1:6].index.to_list()\n",
    "    step_01_new = data_step_01[data_step_01['CustomerID'].isin(top_5_cust)]\n",
    "    ord_quant = step_01_new.groupby('ProductName')[['Quantity']].sum().sort_values('Quantity', ascending=False)\n",
    "    not_my_products = data_step_03_jaccard[data_step_03_jaccard[key]==0]\n",
    "    merged = not_my_products.merge(ord_quant, left_on='ProductName', right_on='ProductName').sort_values('Quantity',ascending=False)\n",
    "    values = merged[1:6].index\n",
    "    recommendations_for_everyone_jaccard.update({key: values})"
   ]
  },
  {
   "cell_type": "code",
   "execution_count": 47,
   "metadata": {},
   "outputs": [
    {
     "data": {
      "text/html": [
       "<div>\n",
       "<style scoped>\n",
       "    .dataframe tbody tr th:only-of-type {\n",
       "        vertical-align: middle;\n",
       "    }\n",
       "\n",
       "    .dataframe tbody tr th {\n",
       "        vertical-align: top;\n",
       "    }\n",
       "\n",
       "    .dataframe thead th {\n",
       "        text-align: right;\n",
       "    }\n",
       "</style>\n",
       "<table border=\"1\" class=\"dataframe\">\n",
       "  <thead>\n",
       "    <tr style=\"text-align: right;\">\n",
       "      <th></th>\n",
       "      <th>Prod_01</th>\n",
       "      <th>Prod_02</th>\n",
       "      <th>Prod_03</th>\n",
       "      <th>Prod_04</th>\n",
       "      <th>Prod_05</th>\n",
       "    </tr>\n",
       "  </thead>\n",
       "  <tbody>\n",
       "    <tr>\n",
       "      <th>61288</th>\n",
       "      <td>Flavouring - Orange</td>\n",
       "      <td>V8 - Berry Blend</td>\n",
       "      <td>Ecolab - Mikroklene 4/4 L</td>\n",
       "      <td>General Purpose Trigger</td>\n",
       "      <td>Cornflakes</td>\n",
       "    </tr>\n",
       "    <tr>\n",
       "      <th>77352</th>\n",
       "      <td>Sea Bass - Whole</td>\n",
       "      <td>Beer - Blue</td>\n",
       "      <td>Cattail Hearts</td>\n",
       "      <td>Mayonnaise - Individual Pkg</td>\n",
       "      <td>Beef Ground Medium</td>\n",
       "    </tr>\n",
       "    <tr>\n",
       "      <th>40094</th>\n",
       "      <td>Rosemary - Dry</td>\n",
       "      <td>Juice - Cranberry, 341 Ml</td>\n",
       "      <td>Wine - Red, Colio Cabernet</td>\n",
       "      <td>Pasta - Angel Hair</td>\n",
       "      <td>Snapple - Iced Tea Peach</td>\n",
       "    </tr>\n",
       "    <tr>\n",
       "      <th>23548</th>\n",
       "      <td>Table Cloth 81x81 White</td>\n",
       "      <td>Longos - Chicken Wings</td>\n",
       "      <td>Potatoes - Idaho 100 Count</td>\n",
       "      <td>Lemonade - Natural, 591 Ml</td>\n",
       "      <td>Ice - Clear, 300 Lb For Carving</td>\n",
       "    </tr>\n",
       "    <tr>\n",
       "      <th>78981</th>\n",
       "      <td>Wine - Blue Nun Qualitatswein</td>\n",
       "      <td>Pie Filling - Cherry</td>\n",
       "      <td>Cocoa Butter</td>\n",
       "      <td>Cheese - Mix</td>\n",
       "      <td>Beer - Sleemans Cream Ale</td>\n",
       "    </tr>\n",
       "  </tbody>\n",
       "</table>\n",
       "</div>"
      ],
      "text/plain": [
       "                             Prod_01                    Prod_02  \\\n",
       "61288            Flavouring - Orange           V8 - Berry Blend   \n",
       "77352               Sea Bass - Whole                Beer - Blue   \n",
       "40094                 Rosemary - Dry  Juice - Cranberry, 341 Ml   \n",
       "23548        Table Cloth 81x81 White     Longos - Chicken Wings   \n",
       "78981  Wine - Blue Nun Qualitatswein       Pie Filling - Cherry   \n",
       "\n",
       "                          Prod_03                      Prod_04  \\\n",
       "61288   Ecolab - Mikroklene 4/4 L      General Purpose Trigger   \n",
       "77352              Cattail Hearts  Mayonnaise - Individual Pkg   \n",
       "40094  Wine - Red, Colio Cabernet           Pasta - Angel Hair   \n",
       "23548  Potatoes - Idaho 100 Count   Lemonade - Natural, 591 Ml   \n",
       "78981                Cocoa Butter                 Cheese - Mix   \n",
       "\n",
       "                               Prod_05  \n",
       "61288                       Cornflakes  \n",
       "77352               Beef Ground Medium  \n",
       "40094         Snapple - Iced Tea Peach  \n",
       "23548  Ice - Clear, 300 Lb For Carving  \n",
       "78981        Beer - Sleemans Cream Ale  "
      ]
     },
     "execution_count": 47,
     "metadata": {},
     "output_type": "execute_result"
    }
   ],
   "source": [
    "results_jaccard = pd.DataFrame.from_dict(recommendations_for_everyone_jaccard, orient='index')\n",
    "results_jaccard.columns = ['Prod_01', 'Prod_02', 'Prod_03', 'Prod_04', 'Prod_05']\n",
    "results_jaccard.head()"
   ]
  },
  {
   "cell_type": "code",
   "execution_count": null,
   "metadata": {},
   "outputs": [],
   "source": []
  }
 ],
 "metadata": {
  "kernelspec": {
   "display_name": "Python 3",
   "language": "python",
   "name": "python3"
  },
  "language_info": {
   "codemirror_mode": {
    "name": "ipython",
    "version": 3
   },
   "file_extension": ".py",
   "mimetype": "text/x-python",
   "name": "python",
   "nbconvert_exporter": "python",
   "pygments_lexer": "ipython3",
   "version": "3.7.3"
  }
 },
 "nbformat": 4,
 "nbformat_minor": 2
}
